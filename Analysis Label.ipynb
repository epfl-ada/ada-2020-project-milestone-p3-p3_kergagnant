{
 "cells": [
  {
   "cell_type": "code",
   "execution_count": 1,
   "metadata": {},
   "outputs": [],
   "source": [
    "import json\n",
    "import math\n",
    "import pickle\n",
    "import pandas as pd\n",
    "import numpy as np\n",
    "import seaborn as sns\n",
    "import matplotlib.pyplot as plt"
   ]
  },
  {
   "cell_type": "markdown",
   "metadata": {},
   "source": [
    "# I. Load the data & some insights"
   ]
  },
  {
   "cell_type": "code",
   "execution_count": 2,
   "metadata": {},
   "outputs": [],
   "source": [
    "# We load the 3 datasets \n",
    "df_business = pd.read_csv('./data/df_business.csv')\n",
    "df_reviews = pd.read_csv('./data/df_reviews.csv')\n",
    "df_users = pd.read_csv('./data/df_user.csv')"
   ]
  },
  {
   "cell_type": "code",
   "execution_count": 3,
   "metadata": {},
   "outputs": [],
   "source": [
    "# Convert the string of friends to a list\n",
    "df_users['friend_list'] = df_users.apply(lambda x: x.friends.split(', '), axis=1)\n",
    "df_user = df_users.drop('friends', axis=1)"
   ]
  },
  {
   "cell_type": "markdown",
   "metadata": {},
   "source": [
    "For reading purposes, the 3 datasets have the following form"
   ]
  },
  {
   "cell_type": "code",
   "execution_count": 4,
   "metadata": {},
   "outputs": [
    {
     "data": {
      "text/html": [
       "<div>\n",
       "<style scoped>\n",
       "    .dataframe tbody tr th:only-of-type {\n",
       "        vertical-align: middle;\n",
       "    }\n",
       "\n",
       "    .dataframe tbody tr th {\n",
       "        vertical-align: top;\n",
       "    }\n",
       "\n",
       "    .dataframe thead th {\n",
       "        text-align: right;\n",
       "    }\n",
       "</style>\n",
       "<table border=\"1\" class=\"dataframe\">\n",
       "  <thead>\n",
       "    <tr style=\"text-align: right;\">\n",
       "      <th></th>\n",
       "      <th>business_id</th>\n",
       "      <th>state</th>\n",
       "      <th>latitude</th>\n",
       "      <th>longitude</th>\n",
       "      <th>stars</th>\n",
       "    </tr>\n",
       "  </thead>\n",
       "  <tbody>\n",
       "    <tr>\n",
       "      <th>0</th>\n",
       "      <td>f9NumwFMBDn751xgFiRbNA</td>\n",
       "      <td>NC</td>\n",
       "      <td>35.462724</td>\n",
       "      <td>-80.852612</td>\n",
       "      <td>3.5</td>\n",
       "    </tr>\n",
       "    <tr>\n",
       "      <th>1</th>\n",
       "      <td>Yzvjg0SayhoZgCljUJRF9Q</td>\n",
       "      <td>AZ</td>\n",
       "      <td>33.569404</td>\n",
       "      <td>-111.890264</td>\n",
       "      <td>5.0</td>\n",
       "    </tr>\n",
       "    <tr>\n",
       "      <th>2</th>\n",
       "      <td>XNoUzKckATkOD1hP6vghZg</td>\n",
       "      <td>QC</td>\n",
       "      <td>45.479984</td>\n",
       "      <td>-73.580070</td>\n",
       "      <td>5.0</td>\n",
       "    </tr>\n",
       "  </tbody>\n",
       "</table>\n",
       "</div>"
      ],
      "text/plain": [
       "              business_id state   latitude   longitude  stars\n",
       "0  f9NumwFMBDn751xgFiRbNA    NC  35.462724  -80.852612    3.5\n",
       "1  Yzvjg0SayhoZgCljUJRF9Q    AZ  33.569404 -111.890264    5.0\n",
       "2  XNoUzKckATkOD1hP6vghZg    QC  45.479984  -73.580070    5.0"
      ]
     },
     "execution_count": 4,
     "metadata": {},
     "output_type": "execute_result"
    }
   ],
   "source": [
    "df_business.head(3)"
   ]
  },
  {
   "cell_type": "code",
   "execution_count": 5,
   "metadata": {},
   "outputs": [
    {
     "data": {
      "text/html": [
       "<div>\n",
       "<style scoped>\n",
       "    .dataframe tbody tr th:only-of-type {\n",
       "        vertical-align: middle;\n",
       "    }\n",
       "\n",
       "    .dataframe tbody tr th {\n",
       "        vertical-align: top;\n",
       "    }\n",
       "\n",
       "    .dataframe thead th {\n",
       "        text-align: right;\n",
       "    }\n",
       "</style>\n",
       "<table border=\"1\" class=\"dataframe\">\n",
       "  <thead>\n",
       "    <tr style=\"text-align: right;\">\n",
       "      <th></th>\n",
       "      <th>review_id</th>\n",
       "      <th>user_id</th>\n",
       "      <th>business_id</th>\n",
       "      <th>stars</th>\n",
       "      <th>date</th>\n",
       "    </tr>\n",
       "  </thead>\n",
       "  <tbody>\n",
       "    <tr>\n",
       "      <th>0</th>\n",
       "      <td>xQY8N_XvtGbearJ5X4QryQ</td>\n",
       "      <td>OwjRMXRC0KyPrIlcjaXeFQ</td>\n",
       "      <td>-MhfebM0QIsKt87iDN-FNw</td>\n",
       "      <td>2</td>\n",
       "      <td>2015-04-15 05:21:16</td>\n",
       "    </tr>\n",
       "    <tr>\n",
       "      <th>1</th>\n",
       "      <td>UmFMZ8PyXZTY2QcwzsfQYA</td>\n",
       "      <td>nIJD_7ZXHq-FX8byPMOkMQ</td>\n",
       "      <td>lbrU8StCq3yDfr-QMnGrmQ</td>\n",
       "      <td>1</td>\n",
       "      <td>2013-12-07 03:16:52</td>\n",
       "    </tr>\n",
       "    <tr>\n",
       "      <th>2</th>\n",
       "      <td>LG2ZaYiOgpr2DK_90pYjNw</td>\n",
       "      <td>V34qejxNsCbcgD8C0HVk-Q</td>\n",
       "      <td>HQl28KMwrEKHqhFrrDqVNQ</td>\n",
       "      <td>5</td>\n",
       "      <td>2015-12-05 03:18:11</td>\n",
       "    </tr>\n",
       "  </tbody>\n",
       "</table>\n",
       "</div>"
      ],
      "text/plain": [
       "                review_id                 user_id             business_id  \\\n",
       "0  xQY8N_XvtGbearJ5X4QryQ  OwjRMXRC0KyPrIlcjaXeFQ  -MhfebM0QIsKt87iDN-FNw   \n",
       "1  UmFMZ8PyXZTY2QcwzsfQYA  nIJD_7ZXHq-FX8byPMOkMQ  lbrU8StCq3yDfr-QMnGrmQ   \n",
       "2  LG2ZaYiOgpr2DK_90pYjNw  V34qejxNsCbcgD8C0HVk-Q  HQl28KMwrEKHqhFrrDqVNQ   \n",
       "\n",
       "   stars                 date  \n",
       "0      2  2015-04-15 05:21:16  \n",
       "1      1  2013-12-07 03:16:52  \n",
       "2      5  2015-12-05 03:18:11  "
      ]
     },
     "execution_count": 5,
     "metadata": {},
     "output_type": "execute_result"
    }
   ],
   "source": [
    "df_reviews.head(3)"
   ]
  },
  {
   "cell_type": "code",
   "execution_count": 6,
   "metadata": {},
   "outputs": [
    {
     "data": {
      "text/html": [
       "<div>\n",
       "<style scoped>\n",
       "    .dataframe tbody tr th:only-of-type {\n",
       "        vertical-align: middle;\n",
       "    }\n",
       "\n",
       "    .dataframe tbody tr th {\n",
       "        vertical-align: top;\n",
       "    }\n",
       "\n",
       "    .dataframe thead th {\n",
       "        text-align: right;\n",
       "    }\n",
       "</style>\n",
       "<table border=\"1\" class=\"dataframe\">\n",
       "  <thead>\n",
       "    <tr style=\"text-align: right;\">\n",
       "      <th></th>\n",
       "      <th>user_id</th>\n",
       "      <th>friends</th>\n",
       "      <th>friend_list</th>\n",
       "    </tr>\n",
       "  </thead>\n",
       "  <tbody>\n",
       "    <tr>\n",
       "      <th>0</th>\n",
       "      <td>ntlvfPzc8eglqvk92iDIAw</td>\n",
       "      <td>oeMvJh94PiGQnx_6GlndPQ, wm1z1PaJKvHgSDRKfwhfDg...</td>\n",
       "      <td>[oeMvJh94PiGQnx_6GlndPQ, wm1z1PaJKvHgSDRKfwhfD...</td>\n",
       "    </tr>\n",
       "    <tr>\n",
       "      <th>1</th>\n",
       "      <td>FOBRPlBHa3WPHFB5qYDlVg</td>\n",
       "      <td>ly7EnE8leJmyqyePVYFlug, pRlR63iDytsnnniPb3AOug...</td>\n",
       "      <td>[ly7EnE8leJmyqyePVYFlug, pRlR63iDytsnnniPb3AOu...</td>\n",
       "    </tr>\n",
       "    <tr>\n",
       "      <th>2</th>\n",
       "      <td>zZUnPeh2hEp0WydbAZEOOg</td>\n",
       "      <td>Uwlk0txjQBPw_JhHsQnyeg, Ybxr1tSCkv3lYA0I1qmnPQ...</td>\n",
       "      <td>[Uwlk0txjQBPw_JhHsQnyeg, Ybxr1tSCkv3lYA0I1qmnP...</td>\n",
       "    </tr>\n",
       "  </tbody>\n",
       "</table>\n",
       "</div>"
      ],
      "text/plain": [
       "                  user_id                                            friends  \\\n",
       "0  ntlvfPzc8eglqvk92iDIAw  oeMvJh94PiGQnx_6GlndPQ, wm1z1PaJKvHgSDRKfwhfDg...   \n",
       "1  FOBRPlBHa3WPHFB5qYDlVg  ly7EnE8leJmyqyePVYFlug, pRlR63iDytsnnniPb3AOug...   \n",
       "2  zZUnPeh2hEp0WydbAZEOOg  Uwlk0txjQBPw_JhHsQnyeg, Ybxr1tSCkv3lYA0I1qmnPQ...   \n",
       "\n",
       "                                         friend_list  \n",
       "0  [oeMvJh94PiGQnx_6GlndPQ, wm1z1PaJKvHgSDRKfwhfD...  \n",
       "1  [ly7EnE8leJmyqyePVYFlug, pRlR63iDytsnnniPb3AOu...  \n",
       "2  [Uwlk0txjQBPw_JhHsQnyeg, Ybxr1tSCkv3lYA0I1qmnP...  "
      ]
     },
     "execution_count": 6,
     "metadata": {},
     "output_type": "execute_result"
    }
   ],
   "source": [
    "df_users.head(3)"
   ]
  },
  {
   "cell_type": "code",
   "execution_count": 7,
   "metadata": {},
   "outputs": [
    {
     "name": "stdout",
     "output_type": "stream",
     "text": [
      "There are 209393 businesses\n",
      "There are 8021122 reviews\n",
      "There are 1968703 users\n"
     ]
    }
   ],
   "source": [
    "print('There are', df_business.shape[0], 'businesses')\n",
    "print('There are', df_reviews.shape[0], 'reviews')\n",
    "print('There are', df_users.shape[0], 'users')"
   ]
  },
  {
   "cell_type": "markdown",
   "metadata": {},
   "source": [
    "For our study, we need to infer user's home, so we need **at least 3 reviews**. Also, we will study users with **at least 3 friends**.  "
   ]
  },
  {
   "cell_type": "code",
   "execution_count": 8,
   "metadata": {},
   "outputs": [],
   "source": [
    "# We count the number of reviewe per user\n",
    "df_numberOfReviews = df_reviews.groupby('user_id').count().drop(['business_id', 'stars', 'date'], axis = 1).rename(columns={'review_id': 'review_count'})"
   ]
  },
  {
   "cell_type": "code",
   "execution_count": 9,
   "metadata": {},
   "outputs": [
    {
     "data": {
      "text/html": [
       "<div>\n",
       "<style scoped>\n",
       "    .dataframe tbody tr th:only-of-type {\n",
       "        vertical-align: middle;\n",
       "    }\n",
       "\n",
       "    .dataframe tbody tr th {\n",
       "        vertical-align: top;\n",
       "    }\n",
       "\n",
       "    .dataframe thead th {\n",
       "        text-align: right;\n",
       "    }\n",
       "</style>\n",
       "<table border=\"1\" class=\"dataframe\">\n",
       "  <thead>\n",
       "    <tr style=\"text-align: right;\">\n",
       "      <th></th>\n",
       "      <th>review_count</th>\n",
       "    </tr>\n",
       "    <tr>\n",
       "      <th>user_id</th>\n",
       "      <th></th>\n",
       "    </tr>\n",
       "  </thead>\n",
       "  <tbody>\n",
       "    <tr>\n",
       "      <th>---1lKK3aKOuomHnwAkAow</th>\n",
       "      <td>131</td>\n",
       "    </tr>\n",
       "    <tr>\n",
       "      <th>---3o4ZsKYoBYBe7H6xG8A</th>\n",
       "      <td>1</td>\n",
       "    </tr>\n",
       "    <tr>\n",
       "      <th>---89pEy_h9PvHwcHNbpyg</th>\n",
       "      <td>1</td>\n",
       "    </tr>\n",
       "    <tr>\n",
       "      <th>---94vtJ_5o_nikEs6hUjg</th>\n",
       "      <td>5</td>\n",
       "    </tr>\n",
       "    <tr>\n",
       "      <th>---PLwSf5gKdIoVnyRHgBA</th>\n",
       "      <td>3</td>\n",
       "    </tr>\n",
       "  </tbody>\n",
       "</table>\n",
       "</div>"
      ],
      "text/plain": [
       "                        review_count\n",
       "user_id                             \n",
       "---1lKK3aKOuomHnwAkAow           131\n",
       "---3o4ZsKYoBYBe7H6xG8A             1\n",
       "---89pEy_h9PvHwcHNbpyg             1\n",
       "---94vtJ_5o_nikEs6hUjg             5\n",
       "---PLwSf5gKdIoVnyRHgBA             3"
      ]
     },
     "execution_count": 9,
     "metadata": {},
     "output_type": "execute_result"
    }
   ],
   "source": [
    "df_numberOfReviews.head()"
   ]
  },
  {
   "cell_type": "code",
   "execution_count": 10,
   "metadata": {},
   "outputs": [],
   "source": [
    "# We merge the df_users dataset to the df_numberOfReviews dataset\n",
    "df_users = pd.merge(df_users, df_numberOfReviews, left_on='user_id', right_on='user_id', how='inner')"
   ]
  },
  {
   "cell_type": "code",
   "execution_count": 11,
   "metadata": {},
   "outputs": [],
   "source": [
    "# We create a mask for users with more than 3 friends\n",
    "mask = df_users.apply(lambda x: len(x.friend_list) >= 3, axis=1)"
   ]
  },
  {
   "cell_type": "code",
   "execution_count": 12,
   "metadata": {},
   "outputs": [
    {
     "name": "stdout",
     "output_type": "stream",
     "text": [
      "Number of users with more than 3 reviews: 602736\n",
      "Number of users with more than 3 friends: 957463\n"
     ]
    }
   ],
   "source": [
    "print('Number of users with more than 3 reviews:', df_numberOfReviews[df_numberOfReviews['review_count'] >= 3].shape[0])\n",
    "print('Number of users with more than 3 friends:', df_users[mask].shape[0])"
   ]
  },
  {
   "cell_type": "code",
   "execution_count": 13,
   "metadata": {},
   "outputs": [
    {
     "name": "stdout",
     "output_type": "stream",
     "text": [
      "Number of users with more than 4 reviews and with more than 3 friends: 343424\n"
     ]
    }
   ],
   "source": [
    "# Select users that satisfy both conditions\n",
    "df_selectedUsers = df_users[mask&(df_users['review_count'] >= 3)]\n",
    "print('Number of users with more than 4 reviews and with more than 3 friends:', df_selectedUsers.shape[0])"
   ]
  },
  {
   "cell_type": "code",
   "execution_count": 69,
   "metadata": {},
   "outputs": [],
   "source": [
    "friends_dict = df_selectedUsers.set_index(\"user_id\")[\"friend_list\"].to_dict()"
   ]
  },
  {
   "cell_type": "code",
   "execution_count": 14,
   "metadata": {},
   "outputs": [
    {
     "name": "stdout",
     "output_type": "stream",
     "text": [
      "Number of checkins of selected users: 4516345\n"
     ]
    }
   ],
   "source": [
    "# Number of checkins of the selected users\n",
    "print('Number of checkins of selected users:', df_selectedUsers['review_count'].sum())"
   ]
  },
  {
   "cell_type": "code",
   "execution_count": 15,
   "metadata": {},
   "outputs": [],
   "source": [
    "df_reviews = pd.merge(df_reviews, df_business, left_on='business_id', right_on='business_id', how='inner').drop(['state'], axis=1)"
   ]
  },
  {
   "cell_type": "code",
   "execution_count": 17,
   "metadata": {},
   "outputs": [],
   "source": [
    "df_selectedReviews = df_reviews[df_reviews[\"user_id\"].isin(df_selectedUsers.user_id)]"
   ]
  },
  {
   "cell_type": "code",
   "execution_count": 57,
   "metadata": {},
   "outputs": [
    {
     "name": "stderr",
     "output_type": "stream",
     "text": [
      "<ipython-input-57-f1ff465342bd>:1: SettingWithCopyWarning: \n",
      "A value is trying to be set on a copy of a slice from a DataFrame.\n",
      "Try using .loc[row_indexer,col_indexer] = value instead\n",
      "\n",
      "See the caveats in the documentation: https://pandas.pydata.org/pandas-docs/stable/user_guide/indexing.html#returning-a-view-versus-a-copy\n",
      "  df_selectedReviews[\"date\"] = pd.to_datetime(df_selectedReviews.date.values)\n"
     ]
    }
   ],
   "source": [
    "df_selectedReviews[\"date\"] = pd.to_datetime(df_selectedReviews.date.values)"
   ]
  },
  {
   "cell_type": "code",
   "execution_count": 61,
   "metadata": {},
   "outputs": [
    {
     "data": {
      "text/html": [
       "<div>\n",
       "<style scoped>\n",
       "    .dataframe tbody tr th:only-of-type {\n",
       "        vertical-align: middle;\n",
       "    }\n",
       "\n",
       "    .dataframe tbody tr th {\n",
       "        vertical-align: top;\n",
       "    }\n",
       "\n",
       "    .dataframe thead th {\n",
       "        text-align: right;\n",
       "    }\n",
       "</style>\n",
       "<table border=\"1\" class=\"dataframe\">\n",
       "  <thead>\n",
       "    <tr style=\"text-align: right;\">\n",
       "      <th></th>\n",
       "      <th>review_id</th>\n",
       "      <th>user_id</th>\n",
       "      <th>business_id</th>\n",
       "      <th>stars_x</th>\n",
       "      <th>date</th>\n",
       "      <th>latitude</th>\n",
       "      <th>longitude</th>\n",
       "      <th>stars_y</th>\n",
       "    </tr>\n",
       "  </thead>\n",
       "  <tbody>\n",
       "    <tr>\n",
       "      <th>1</th>\n",
       "      <td>t7xOZF5UKXjSpVcXLOSAgw</td>\n",
       "      <td>owbC7FP8SNAlwv6f9S5Stw</td>\n",
       "      <td>-MhfebM0QIsKt87iDN-FNw</td>\n",
       "      <td>2</td>\n",
       "      <td>2014-03-14 08:24:25</td>\n",
       "      <td>36.112896</td>\n",
       "      <td>-115.177637</td>\n",
       "      <td>3.5</td>\n",
       "    </tr>\n",
       "    <tr>\n",
       "      <th>2</th>\n",
       "      <td>MimB5Xh85rG7phUMPrShag</td>\n",
       "      <td>v9vGnjphb0Hta0lvtf5haA</td>\n",
       "      <td>-MhfebM0QIsKt87iDN-FNw</td>\n",
       "      <td>3</td>\n",
       "      <td>2015-10-07 22:16:59</td>\n",
       "      <td>36.112896</td>\n",
       "      <td>-115.177637</td>\n",
       "      <td>3.5</td>\n",
       "    </tr>\n",
       "    <tr>\n",
       "      <th>4</th>\n",
       "      <td>cnV5xtm6WuyaLfot9uWbDg</td>\n",
       "      <td>LkWNo83Lg92C5V4JEyxOZA</td>\n",
       "      <td>-MhfebM0QIsKt87iDN-FNw</td>\n",
       "      <td>3</td>\n",
       "      <td>2010-10-10 01:27:31</td>\n",
       "      <td>36.112896</td>\n",
       "      <td>-115.177637</td>\n",
       "      <td>3.5</td>\n",
       "    </tr>\n",
       "    <tr>\n",
       "      <th>5</th>\n",
       "      <td>i593z2rGxk5Lj23Bx9o1Lg</td>\n",
       "      <td>mLtaUzSjIFO_3BmfPNUKqg</td>\n",
       "      <td>-MhfebM0QIsKt87iDN-FNw</td>\n",
       "      <td>1</td>\n",
       "      <td>2015-08-20 01:10:53</td>\n",
       "      <td>36.112896</td>\n",
       "      <td>-115.177637</td>\n",
       "      <td>3.5</td>\n",
       "    </tr>\n",
       "    <tr>\n",
       "      <th>6</th>\n",
       "      <td>TWpbq_vbpJRotCQ6l8SeXA</td>\n",
       "      <td>wKX1tAeRIYPU4NtM-R5N2w</td>\n",
       "      <td>-MhfebM0QIsKt87iDN-FNw</td>\n",
       "      <td>5</td>\n",
       "      <td>2012-03-31 22:00:15</td>\n",
       "      <td>36.112896</td>\n",
       "      <td>-115.177637</td>\n",
       "      <td>3.5</td>\n",
       "    </tr>\n",
       "  </tbody>\n",
       "</table>\n",
       "</div>"
      ],
      "text/plain": [
       "                review_id                 user_id             business_id  \\\n",
       "1  t7xOZF5UKXjSpVcXLOSAgw  owbC7FP8SNAlwv6f9S5Stw  -MhfebM0QIsKt87iDN-FNw   \n",
       "2  MimB5Xh85rG7phUMPrShag  v9vGnjphb0Hta0lvtf5haA  -MhfebM0QIsKt87iDN-FNw   \n",
       "4  cnV5xtm6WuyaLfot9uWbDg  LkWNo83Lg92C5V4JEyxOZA  -MhfebM0QIsKt87iDN-FNw   \n",
       "5  i593z2rGxk5Lj23Bx9o1Lg  mLtaUzSjIFO_3BmfPNUKqg  -MhfebM0QIsKt87iDN-FNw   \n",
       "6  TWpbq_vbpJRotCQ6l8SeXA  wKX1tAeRIYPU4NtM-R5N2w  -MhfebM0QIsKt87iDN-FNw   \n",
       "\n",
       "   stars_x                date   latitude   longitude  stars_y  \n",
       "1        2 2014-03-14 08:24:25  36.112896 -115.177637      3.5  \n",
       "2        3 2015-10-07 22:16:59  36.112896 -115.177637      3.5  \n",
       "4        3 2010-10-10 01:27:31  36.112896 -115.177637      3.5  \n",
       "5        1 2015-08-20 01:10:53  36.112896 -115.177637      3.5  \n",
       "6        5 2012-03-31 22:00:15  36.112896 -115.177637      3.5  "
      ]
     },
     "execution_count": 61,
     "metadata": {},
     "output_type": "execute_result"
    }
   ],
   "source": [
    "df_selectedReviews.head()"
   ]
  },
  {
   "cell_type": "markdown",
   "metadata": {},
   "source": [
    "# Getting the Reviewed Label"
   ]
  },
  {
   "cell_type": "code",
   "execution_count": 33,
   "metadata": {},
   "outputs": [],
   "source": [
    "df_reviews[\"date\"] = pd.to_datetime(df_reviews.date.values)"
   ]
  },
  {
   "cell_type": "code",
   "execution_count": 47,
   "metadata": {},
   "outputs": [],
   "source": [
    "df_reviews = df_reviews.rename({\"stars_x\" : \"rating\", \"stars_y\" : \"average_rating\"},axis=1)"
   ]
  },
  {
   "cell_type": "code",
   "execution_count": 49,
   "metadata": {},
   "outputs": [],
   "source": [
    "df_reviews_groupedUser = df_reviews.groupby([\"user_id\",\"business_id\"])[[\"date\",\"rating\"]].agg(list)"
   ]
  },
  {
   "cell_type": "code",
   "execution_count": 95,
   "metadata": {},
   "outputs": [
    {
     "data": {
      "text/html": [
       "<div>\n",
       "<style scoped>\n",
       "    .dataframe tbody tr th:only-of-type {\n",
       "        vertical-align: middle;\n",
       "    }\n",
       "\n",
       "    .dataframe tbody tr th {\n",
       "        vertical-align: top;\n",
       "    }\n",
       "\n",
       "    .dataframe thead th {\n",
       "        text-align: right;\n",
       "    }\n",
       "</style>\n",
       "<table border=\"1\" class=\"dataframe\">\n",
       "  <thead>\n",
       "    <tr style=\"text-align: right;\">\n",
       "      <th></th>\n",
       "      <th></th>\n",
       "      <th>date</th>\n",
       "      <th>rating</th>\n",
       "    </tr>\n",
       "    <tr>\n",
       "      <th>user_id</th>\n",
       "      <th>business_id</th>\n",
       "      <th></th>\n",
       "      <th></th>\n",
       "    </tr>\n",
       "  </thead>\n",
       "  <tbody>\n",
       "    <tr>\n",
       "      <th rowspan=\"5\" valign=\"top\">---1lKK3aKOuomHnwAkAow</th>\n",
       "      <th>--9e1ONYQuAa-CB_Rrw7Tw</th>\n",
       "      <td>[2008-11-11 04:40:05]</td>\n",
       "      <td>[4]</td>\n",
       "    </tr>\n",
       "    <tr>\n",
       "      <th>-ErwgUmZ1-jHW_rSu55jlg</th>\n",
       "      <td>[2010-11-09 20:21:52]</td>\n",
       "      <td>[5]</td>\n",
       "    </tr>\n",
       "    <tr>\n",
       "      <th>0YhT9HCBkU394IG6tQVtNQ</th>\n",
       "      <td>[2012-05-01 16:17:54]</td>\n",
       "      <td>[1]</td>\n",
       "    </tr>\n",
       "    <tr>\n",
       "      <th>1JgaRBX0oiRsvEhHF3ZMjw</th>\n",
       "      <td>[2011-02-16 03:58:48]</td>\n",
       "      <td>[1]</td>\n",
       "    </tr>\n",
       "    <tr>\n",
       "      <th>1Vn_lex3LGGwuTo-xeJnww</th>\n",
       "      <td>[2011-02-16 04:16:12]</td>\n",
       "      <td>[5]</td>\n",
       "    </tr>\n",
       "  </tbody>\n",
       "</table>\n",
       "</div>"
      ],
      "text/plain": [
       "                                                                date rating\n",
       "user_id                business_id                                         \n",
       "---1lKK3aKOuomHnwAkAow --9e1ONYQuAa-CB_Rrw7Tw  [2008-11-11 04:40:05]    [4]\n",
       "                       -ErwgUmZ1-jHW_rSu55jlg  [2010-11-09 20:21:52]    [5]\n",
       "                       0YhT9HCBkU394IG6tQVtNQ  [2012-05-01 16:17:54]    [1]\n",
       "                       1JgaRBX0oiRsvEhHF3ZMjw  [2011-02-16 03:58:48]    [1]\n",
       "                       1Vn_lex3LGGwuTo-xeJnww  [2011-02-16 04:16:12]    [5]"
      ]
     },
     "execution_count": 95,
     "metadata": {},
     "output_type": "execute_result"
    }
   ],
   "source": [
    "df_reviews_groupedUser.head()"
   ]
  },
  {
   "cell_type": "code",
   "execution_count": 127,
   "metadata": {},
   "outputs": [],
   "source": [
    "#takes a row of the shape [\"user_id\",\"business_id\",\"date\"]\n",
    "#returns a label : if a friend has left a good review in the same place before : 2, if a friend has left a bad review\n",
    "#in the same place before : 1, and if a friend hasn't left a review before : 0.\n",
    "def get_visit_label(user_id,business_id,date_user):\n",
    "    #get friend list of user:\n",
    "    friends = friends_dict.get(user_id)\n",
    "    for friend_id in friends:\n",
    "        if((friend_id,business_id) in df_reviews_groupedUser.index):\n",
    "            friend_review = df_reviews_groupedUser.loc[friend_id].loc[business_id]\n",
    "            for date,rating in zip(friend_review.date,friend_review.rating):\n",
    "                if(date < date_user):\n",
    "                    if(rating >= 3.5):\n",
    "                        return 2\n",
    "                    else:\n",
    "                        return 1\n",
    "    return 0"
   ]
  },
  {
   "cell_type": "code",
   "execution_count": 105,
   "metadata": {},
   "outputs": [],
   "source": [
    "selected_reviews_array = np.array(df_selectedReviews[[\"user_id\",\"business_id\",\"date\"]])"
   ]
  },
  {
   "cell_type": "code",
   "execution_count": 137,
   "metadata": {},
   "outputs": [],
   "source": [
    "get_visit_label_vec = np.vectorize(get_visit_label)"
   ]
  },
  {
   "cell_type": "code",
   "execution_count": null,
   "metadata": {},
   "outputs": [],
   "source": [
    "labels = get_visit_label_n(selected_reviews_array[:,0],selected_reviews_array[:,1],selected_reviews_array[:,2])"
   ]
  },
  {
   "cell_type": "code",
   "execution_count": 124,
   "metadata": {},
   "outputs": [],
   "source": [
    "labels = np.apply_along_axis(get_visit_label,axis = 1, arr = selected_reviews_array[:100])"
   ]
  },
  {
   "cell_type": "code",
   "execution_count": 125,
   "metadata": {},
   "outputs": [
    {
     "data": {
      "text/plain": [
       "array([0, 0, 1, 0, 2, 2, 2, 1, 0, 2, 1, 0, 2, 1, 1, 2, 2, 0, 0, 0, 2, 1,\n",
       "       0, 0, 0, 0, 0, 0, 0, 0, 0, 0, 0, 1, 0, 0, 0, 0, 0, 1, 2, 0, 0, 2,\n",
       "       0, 1, 1, 0, 2, 0, 0, 0, 0, 0, 0, 1, 0, 0, 0, 0, 1, 0, 0, 0, 0, 0,\n",
       "       0, 0, 0, 2, 2, 0, 0, 0, 0, 0, 0, 0, 0, 1, 0, 2, 0, 0, 0, 2, 0, 0,\n",
       "       0, 2, 0, 0, 2, 0, 2, 2, 2, 0, 0, 0])"
      ]
     },
     "execution_count": 125,
     "metadata": {},
     "output_type": "execute_result"
    }
   ],
   "source": [
    "labels"
   ]
  },
  {
   "cell_type": "code",
   "execution_count": null,
   "metadata": {},
   "outputs": [],
   "source": []
  }
 ],
 "metadata": {
  "kernelspec": {
   "display_name": "Python 3",
   "language": "python",
   "name": "python3"
  },
  "language_info": {
   "codemirror_mode": {
    "name": "ipython",
    "version": 3
   },
   "file_extension": ".py",
   "mimetype": "text/x-python",
   "name": "python",
   "nbconvert_exporter": "python",
   "pygments_lexer": "ipython3",
   "version": "3.8.5"
  }
 },
 "nbformat": 4,
 "nbformat_minor": 4
}
