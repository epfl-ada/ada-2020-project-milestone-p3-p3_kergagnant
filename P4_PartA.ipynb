{
 "cells": [
  {
   "cell_type": "markdown",
   "metadata": {},
   "source": [
    "# Welcome!\n",
    "In this notebook we will try to answer the following questions: \n",
    "\n",
    "- Study the influence of mean rating of businesses on mobility. Do good ratings and bad ratings of businesses influence human mobility? If yes, how?\n",
    "\n",
    "- Study of the word of mouth impact on friends’ recommendations. How do friends’ recommendations influence our mobility?  How likely are we to visit a friend's recommended business?\n",
    "\n",
    "- Study of the word of mouth impact on weekdays. Depending on the day of the week, are we more likely to travel far? Does the influence of friend’s recommendations change depending on the day of the week ?\n",
    "\n",
    "- Study of the word of mouth impact on categories of businesses. Are there categories of businesses more influenced by friends reviews than others? \n",
    "\n",
    "- Study the 'treatment' having a good rating vs not, with methods seen in the course. Does a good rating have an influence on the number of visits of the business? Is there a correlation between ratings and the number of visits?\n"
   ]
  },
  {
   "cell_type": "markdown",
   "metadata": {},
   "source": [
    "# Table of Contents\n",
    "* [I. Import libraries](#I.-Import-libraries)\n",
    "* [II. Data Wangling](#II.-Data-Wangling)\n",
    "    * [Prepare the dataframe for business](#Prepare-the-dataframe-for-business)\n",
    "    * [Prepare the dataframe for users](#Prepare-the-dataframe-for-users)\n",
    "    * [Prepare the dataframe for reviews](#Prepare-the-dataframe-for-reviews)\n",
    "    * [Prepare categories of businesses](#Prepare-categories-of-businesses)\n",
    "    * [Add category labels to business dataframe](#Add-category-labels-to-business-dataframe)\n",
    "    * [Prepare review dataframe with only selected users](#Prepare-review-dataframe-with-only-selected-users)\n",
    "\n",
    "* [III. Data Analysis](#III.-Data-Analysis)\n",
    "    * [Load the data & some insights](#II.-Load-the-data-&-some-insights)\n",
    "    * [Influence of the mean rating of businesses on mobility](#III.-Influence-of-the-mean-rating-of-businesses-on-mobility)\n",
    "        * [Find User's home](#Find-User's-home)\n",
    "        * [Study of the probability of move to a business far away from home and give a good review](#Study-of-the-probability-of-move-to-a-business-far-away-from-home-and-give-a-good-review)\n",
    "    * [Words of mouth impact](#IV.-Words-of-mouth-impact)    \n",
    "        * [Get the reviewed label](#Get-the-reviewed-label)\n",
    "        * [Study friends' ratings influence on mobility](#Study-friends'-ratings-influence-on-mobility)\n",
    "    * [Week day study](#Week-day-study)\n",
    "        * [Influence of friend's reviews depending on week day](#Influence-of-friend's-reviews-depending-on-week-day)\n",
    "    * [Category study](#Category-study)\n",
    "    * [Well rated business and poorely rated buisnesses](#Well-rated-business-and-poorely-rated-buisnesses)\n",
    "    \n",
    "        * [Distribution of the number of visits of well rated places vs badly rated places](#Distribution-of-the-number-of-visits-of-well-rated-places-vs-badly-rated-places)\n",
    "    * [Distribution of checkins accross category](#Distribution-of-checkins-accross-category)\n",
    "    * [Study distribution of number of checkins per business depending on rating and per catagory](#Study-distribution-of-number-of-checkins-per-business-depending-on-rating-and-per-catagory)\n",
    "* [IV. Data Story](#IV.-Data-Story)\n",
    "    * [Codes for intervative plots for data story](#Codes-for-intervative-plots-for-data-story)"
   ]
  },
  {
   "cell_type": "markdown",
   "metadata": {},
   "source": [
    "# I. Import libraries"
   ]
  },
  {
   "cell_type": "code",
   "execution_count": 1,
   "metadata": {},
   "outputs": [],
   "source": [
    "import json\n",
    "import math\n",
    "import pickle\n",
    "import numpy as np\n",
    "import pandas as pd\n",
    "import chart_studio\n",
    "import seaborn as sns\n",
    "import plotly.io as pio\n",
    "from bisect import bisect\n",
    "import plotly.express as px\n",
    "import matplotlib.pyplot as plt\n",
    "import chart_studio.plotly as py\n",
    "import plotly.figure_factory as ff\n",
    "from math import radians, cos, sin, asin, sqrt"
   ]
  },
  {
   "cell_type": "markdown",
   "metadata": {},
   "source": [
    "# II. Data Wangling\n",
    "### Prepare the dataframe for business\n",
    "\n",
    "The original business file is a `csv` file of 148 MB. However, only some attributes are useful. So useless columns are removed from the data. The new dataframe is stored as a csv named df_user.csv. This file has 46.8 MB."
   ]
  },
  {
   "cell_type": "code",
   "execution_count": 2,
   "metadata": {},
   "outputs": [],
   "source": [
    "# Read original dataframe\n",
    "df_business_ori = pd.read_json(\"./data/yelp_academic_dataset_business.json\", lines = True)"
   ]
  },
  {
   "cell_type": "code",
   "execution_count": 3,
   "metadata": {},
   "outputs": [
    {
     "data": {
      "text/html": [
       "<div>\n",
       "<style scoped>\n",
       "    .dataframe tbody tr th:only-of-type {\n",
       "        vertical-align: middle;\n",
       "    }\n",
       "\n",
       "    .dataframe tbody tr th {\n",
       "        vertical-align: top;\n",
       "    }\n",
       "\n",
       "    .dataframe thead th {\n",
       "        text-align: right;\n",
       "    }\n",
       "</style>\n",
       "<table border=\"1\" class=\"dataframe\">\n",
       "  <thead>\n",
       "    <tr style=\"text-align: right;\">\n",
       "      <th></th>\n",
       "      <th>business_id</th>\n",
       "      <th>state</th>\n",
       "      <th>latitude</th>\n",
       "      <th>longitude</th>\n",
       "      <th>categories</th>\n",
       "      <th>stars</th>\n",
       "    </tr>\n",
       "  </thead>\n",
       "  <tbody>\n",
       "    <tr>\n",
       "      <th>0</th>\n",
       "      <td>f9NumwFMBDn751xgFiRbNA</td>\n",
       "      <td>NC</td>\n",
       "      <td>35.462724</td>\n",
       "      <td>-80.852612</td>\n",
       "      <td>Active Life, Gun/Rifle Ranges, Guns &amp; Ammo, Sh...</td>\n",
       "      <td>3.5</td>\n",
       "    </tr>\n",
       "    <tr>\n",
       "      <th>1</th>\n",
       "      <td>Yzvjg0SayhoZgCljUJRF9Q</td>\n",
       "      <td>AZ</td>\n",
       "      <td>33.569404</td>\n",
       "      <td>-111.890264</td>\n",
       "      <td>Health &amp; Medical, Fitness &amp; Instruction, Yoga,...</td>\n",
       "      <td>5.0</td>\n",
       "    </tr>\n",
       "    <tr>\n",
       "      <th>2</th>\n",
       "      <td>XNoUzKckATkOD1hP6vghZg</td>\n",
       "      <td>QC</td>\n",
       "      <td>45.479984</td>\n",
       "      <td>-73.580070</td>\n",
       "      <td>Pets, Pet Services, Pet Groomers</td>\n",
       "      <td>5.0</td>\n",
       "    </tr>\n",
       "  </tbody>\n",
       "</table>\n",
       "</div>"
      ],
      "text/plain": [
       "              business_id state   latitude   longitude  \\\n",
       "0  f9NumwFMBDn751xgFiRbNA    NC  35.462724  -80.852612   \n",
       "1  Yzvjg0SayhoZgCljUJRF9Q    AZ  33.569404 -111.890264   \n",
       "2  XNoUzKckATkOD1hP6vghZg    QC  45.479984  -73.580070   \n",
       "\n",
       "                                          categories  stars  \n",
       "0  Active Life, Gun/Rifle Ranges, Guns & Ammo, Sh...    3.5  \n",
       "1  Health & Medical, Fitness & Instruction, Yoga,...    5.0  \n",
       "2                   Pets, Pet Services, Pet Groomers    5.0  "
      ]
     },
     "execution_count": 3,
     "metadata": {},
     "output_type": "execute_result"
    }
   ],
   "source": [
    "# Keep only relevant colunms\n",
    "df_business = df_business_ori[['business_id','state','latitude','longitude', 'categories','stars']].copy()\n",
    "# Show an example\n",
    "df_business[:3]"
   ]
  },
  {
   "cell_type": "code",
   "execution_count": 4,
   "metadata": {},
   "outputs": [],
   "source": [
    "# Save smaller dataframe as csv in order to not load the entire dataset next time\n",
    "df_business.to_csv('./data/df_business.csv',index=False)"
   ]
  },
  {
   "cell_type": "markdown",
   "metadata": {},
   "source": [
    "### Prepare the dataframe for users\n",
    "The original user file is a `json` file of 3.3 GB. However, we only use attributes `user_id` and `firends`. So a new dataframe for users is created and stored as a `csv` named `df_user.csv`. This file has 2.5 GB."
   ]
  },
  {
   "cell_type": "code",
   "execution_count": 5,
   "metadata": {},
   "outputs": [],
   "source": [
    "# Read large json file of user\n",
    "with open(\"./data/yelp_academic_dataset_user.json\") as json_file:      \n",
    "    data = json_file.readlines()\n",
    "    data = list(map(json.loads, data)) "
   ]
  },
  {
   "cell_type": "code",
   "execution_count": 6,
   "metadata": {},
   "outputs": [],
   "source": [
    "# Convert to DataFrame\n",
    "df_user_ori = pd.DataFrame(data)    \n",
    "# Keep only relevant colunms\n",
    "df_users = df_user_ori[['user_id','friends']].copy()"
   ]
  },
  {
   "cell_type": "code",
   "execution_count": 7,
   "metadata": {},
   "outputs": [
    {
     "data": {
      "text/html": [
       "<div>\n",
       "<style scoped>\n",
       "    .dataframe tbody tr th:only-of-type {\n",
       "        vertical-align: middle;\n",
       "    }\n",
       "\n",
       "    .dataframe tbody tr th {\n",
       "        vertical-align: top;\n",
       "    }\n",
       "\n",
       "    .dataframe thead th {\n",
       "        text-align: right;\n",
       "    }\n",
       "</style>\n",
       "<table border=\"1\" class=\"dataframe\">\n",
       "  <thead>\n",
       "    <tr style=\"text-align: right;\">\n",
       "      <th></th>\n",
       "      <th>user_id</th>\n",
       "      <th>friends</th>\n",
       "    </tr>\n",
       "  </thead>\n",
       "  <tbody>\n",
       "    <tr>\n",
       "      <th>0</th>\n",
       "      <td>ntlvfPzc8eglqvk92iDIAw</td>\n",
       "      <td>oeMvJh94PiGQnx_6GlndPQ, wm1z1PaJKvHgSDRKfwhfDg...</td>\n",
       "    </tr>\n",
       "    <tr>\n",
       "      <th>1</th>\n",
       "      <td>FOBRPlBHa3WPHFB5qYDlVg</td>\n",
       "      <td>ly7EnE8leJmyqyePVYFlug, pRlR63iDytsnnniPb3AOug...</td>\n",
       "    </tr>\n",
       "    <tr>\n",
       "      <th>2</th>\n",
       "      <td>zZUnPeh2hEp0WydbAZEOOg</td>\n",
       "      <td>Uwlk0txjQBPw_JhHsQnyeg, Ybxr1tSCkv3lYA0I1qmnPQ...</td>\n",
       "    </tr>\n",
       "  </tbody>\n",
       "</table>\n",
       "</div>"
      ],
      "text/plain": [
       "                  user_id                                            friends\n",
       "0  ntlvfPzc8eglqvk92iDIAw  oeMvJh94PiGQnx_6GlndPQ, wm1z1PaJKvHgSDRKfwhfDg...\n",
       "1  FOBRPlBHa3WPHFB5qYDlVg  ly7EnE8leJmyqyePVYFlug, pRlR63iDytsnnniPb3AOug...\n",
       "2  zZUnPeh2hEp0WydbAZEOOg  Uwlk0txjQBPw_JhHsQnyeg, Ybxr1tSCkv3lYA0I1qmnPQ..."
      ]
     },
     "execution_count": 7,
     "metadata": {},
     "output_type": "execute_result"
    }
   ],
   "source": [
    "# Show an example\n",
    "df_users[:3]"
   ]
  },
  {
   "cell_type": "code",
   "execution_count": 8,
   "metadata": {},
   "outputs": [],
   "source": [
    "# Save smaller dataframe as csv in order to not load the entire dataset next time\n",
    "df_users.to_csv('./data/df_user.csv',index=False)"
   ]
  },
  {
   "cell_type": "markdown",
   "metadata": {},
   "source": [
    "### Prepare the dataframe for reviews\n",
    "\n",
    "The original review file is a `json` file of 6.3 GB containing many useless attributes. We have used `jq`, a tool which allows us to select the desired attribute. The result is stored in a `csv` file named `df_reviews.csv`. This file has 729.9 MB."
   ]
  },
  {
   "cell_type": "code",
   "execution_count": 9,
   "metadata": {
    "scrolled": true
   },
   "outputs": [
    {
     "data": {
      "text/html": [
       "<div>\n",
       "<style scoped>\n",
       "    .dataframe tbody tr th:only-of-type {\n",
       "        vertical-align: middle;\n",
       "    }\n",
       "\n",
       "    .dataframe tbody tr th {\n",
       "        vertical-align: top;\n",
       "    }\n",
       "\n",
       "    .dataframe thead th {\n",
       "        text-align: right;\n",
       "    }\n",
       "</style>\n",
       "<table border=\"1\" class=\"dataframe\">\n",
       "  <thead>\n",
       "    <tr style=\"text-align: right;\">\n",
       "      <th></th>\n",
       "      <th>review_id</th>\n",
       "      <th>user_id</th>\n",
       "      <th>business_id</th>\n",
       "      <th>stars</th>\n",
       "      <th>date</th>\n",
       "    </tr>\n",
       "  </thead>\n",
       "  <tbody>\n",
       "    <tr>\n",
       "      <th>0</th>\n",
       "      <td>xQY8N_XvtGbearJ5X4QryQ</td>\n",
       "      <td>OwjRMXRC0KyPrIlcjaXeFQ</td>\n",
       "      <td>-MhfebM0QIsKt87iDN-FNw</td>\n",
       "      <td>2</td>\n",
       "      <td>2015-04-15 05:21:16</td>\n",
       "    </tr>\n",
       "    <tr>\n",
       "      <th>1</th>\n",
       "      <td>UmFMZ8PyXZTY2QcwzsfQYA</td>\n",
       "      <td>nIJD_7ZXHq-FX8byPMOkMQ</td>\n",
       "      <td>lbrU8StCq3yDfr-QMnGrmQ</td>\n",
       "      <td>1</td>\n",
       "      <td>2013-12-07 03:16:52</td>\n",
       "    </tr>\n",
       "    <tr>\n",
       "      <th>2</th>\n",
       "      <td>LG2ZaYiOgpr2DK_90pYjNw</td>\n",
       "      <td>V34qejxNsCbcgD8C0HVk-Q</td>\n",
       "      <td>HQl28KMwrEKHqhFrrDqVNQ</td>\n",
       "      <td>5</td>\n",
       "      <td>2015-12-05 03:18:11</td>\n",
       "    </tr>\n",
       "    <tr>\n",
       "      <th>3</th>\n",
       "      <td>i6g_oA9Yf9Y31qt0wibXpw</td>\n",
       "      <td>ofKDkJKXSKZXu5xJNGiiBQ</td>\n",
       "      <td>5JxlZaqCnk1MnbgRirs40Q</td>\n",
       "      <td>1</td>\n",
       "      <td>2011-05-27 05:30:52</td>\n",
       "    </tr>\n",
       "    <tr>\n",
       "      <th>4</th>\n",
       "      <td>6TdNDKywdbjoTkizeMce8A</td>\n",
       "      <td>UgMW8bLE0QMJDCkQ1Ax5Mg</td>\n",
       "      <td>IS4cv902ykd8wj1TR0N3-A</td>\n",
       "      <td>4</td>\n",
       "      <td>2017-01-14 21:56:57</td>\n",
       "    </tr>\n",
       "  </tbody>\n",
       "</table>\n",
       "</div>"
      ],
      "text/plain": [
       "                review_id                 user_id             business_id  \\\n",
       "0  xQY8N_XvtGbearJ5X4QryQ  OwjRMXRC0KyPrIlcjaXeFQ  -MhfebM0QIsKt87iDN-FNw   \n",
       "1  UmFMZ8PyXZTY2QcwzsfQYA  nIJD_7ZXHq-FX8byPMOkMQ  lbrU8StCq3yDfr-QMnGrmQ   \n",
       "2  LG2ZaYiOgpr2DK_90pYjNw  V34qejxNsCbcgD8C0HVk-Q  HQl28KMwrEKHqhFrrDqVNQ   \n",
       "3  i6g_oA9Yf9Y31qt0wibXpw  ofKDkJKXSKZXu5xJNGiiBQ  5JxlZaqCnk1MnbgRirs40Q   \n",
       "4  6TdNDKywdbjoTkizeMce8A  UgMW8bLE0QMJDCkQ1Ax5Mg  IS4cv902ykd8wj1TR0N3-A   \n",
       "\n",
       "   stars                 date  \n",
       "0      2  2015-04-15 05:21:16  \n",
       "1      1  2013-12-07 03:16:52  \n",
       "2      5  2015-12-05 03:18:11  \n",
       "3      1  2011-05-27 05:30:52  \n",
       "4      4  2017-01-14 21:56:57  "
      ]
     },
     "execution_count": 9,
     "metadata": {},
     "output_type": "execute_result"
    }
   ],
   "source": [
    "# Read the review file\n",
    "df_review = pd.read_csv(\"./data/df_reviews.csv\")\n",
    "# Show an example\n",
    "df_review.head()"
   ]
  },
  {
   "cell_type": "markdown",
   "metadata": {},
   "source": [
    "### Prepare categories of businesses"
   ]
  },
  {
   "cell_type": "markdown",
   "metadata": {},
   "source": [
    "The categories used to describe the businesses were way too specific, so we decided to label those 1336 very sharp categories to 17 more general categories described in the `business_category-list.pdf`, making it easier to make some analysis around those 17 labels. Since this labelling was done by hand, we had to correct a few of the typos (missing letters, lower cases, additional spaces). The 17 more general categories are `Automotive`, `BusinessSupport`, `Computer(& Elecetronics)`, `Construction`, `Education`, `Entertainment`, `Food(& Dining)`, `Health`, `Home(& Garden)`, `Legal(& Finance)`, `Manufacturing`, `Merchant`, `Miscellaneous`, `PersonalCare`, `RealEstate`, `Sport`, `Travel(& Transportation)`."
   ]
  },
  {
   "cell_type": "code",
   "execution_count": 10,
   "metadata": {},
   "outputs": [],
   "source": [
    "# Read prepared csv mapping category name to category label\n",
    "df_categories = pd.read_csv('./data/name_category.csv')"
   ]
  },
  {
   "cell_type": "code",
   "execution_count": 11,
   "metadata": {},
   "outputs": [],
   "source": [
    "def correction_name(x):\n",
    "    \"\"\"\n",
    "        Sanitize category name\n",
    "        x: row of the dataframe\n",
    "        Return: sanitized category name\n",
    "    \"\"\"\n",
    "    name = x[0]\n",
    "    name = name.replace(\"'\", \"\")\n",
    "    return name\n",
    "\n",
    "def correction_category(x):\n",
    "    \"\"\"\n",
    "        Sanitize category label\n",
    "        x: row of the dataframe\n",
    "        Return: sanitized category\n",
    "    \"\"\"\n",
    "    category = x[1]\n",
    "    category = category.replace(\" \", \"\")\n",
    "    category = category.replace(\"Consruction\", \"Construction\")\n",
    "    category = category.replace(\"Constructor\", \"Construction\")\n",
    "    category = category.replace(\"Entertainement\", \"Entertainment\")\n",
    "    category = category.replace(\"Entertainemnt\", \"Entertainment\")\n",
    "    category = category.replace(\"Entertainments\", \"Entertainment\")\n",
    "    category = category.replace(\"Merchants\", \"Merchant\")\n",
    "    category = category.replace(\"'\", \"\")\n",
    "    category = category.replace(\"Mischellaneous\", \"Miscellaneous\")\n",
    "    category = category.replace(\"food\", \"Food\")\n",
    "    return category"
   ]
  },
  {
   "cell_type": "code",
   "execution_count": 12,
   "metadata": {},
   "outputs": [],
   "source": [
    "# Sanitize category name and category label\n",
    "df_categories['name'] = df_categories.apply(lambda x: correction_name(x), axis=1)\n",
    "df_categories['category'] = df_categories.apply(lambda x: correction_category(x), axis=1)"
   ]
  },
  {
   "cell_type": "code",
   "execution_count": 13,
   "metadata": {},
   "outputs": [],
   "source": [
    "# Save sanitized file\n",
    "df_categories.to_csv('./data/name_category.csv', index=False)"
   ]
  },
  {
   "cell_type": "markdown",
   "metadata": {},
   "source": [
    "### Add category labels to business dataframe"
   ]
  },
  {
   "cell_type": "code",
   "execution_count": 14,
   "metadata": {},
   "outputs": [],
   "source": [
    "# Add category labels to business dataframe\n",
    "df_business['categories'] = df_business.categories.apply(lambda x: [] if x == None else x.split(', '))"
   ]
  },
  {
   "cell_type": "code",
   "execution_count": 15,
   "metadata": {},
   "outputs": [],
   "source": [
    "# Create a dictionary mapping category name to category label\n",
    "dict_categories = df_categories.set_index('name')['category'].to_dict()\n",
    "# Tokenize the category label and store in a dictionary\n",
    "indexCategory = {val: key for key, val in enumerate(set(df_categories['category']))}"
   ]
  },
  {
   "cell_type": "code",
   "execution_count": 16,
   "metadata": {},
   "outputs": [],
   "source": [
    "def create_category_mask(row): \n",
    "    \"\"\"\n",
    "        For categories of each business, create a mask of categories\n",
    "        row: row of the dataframe\n",
    "        Return: mask of categories. If 1 at index i, it means that the business have i-th category.\n",
    "    \"\"\"\n",
    "    res  = np.zeros(numberCat)\n",
    "    for r in row:\n",
    "        category = dict_categories.get(r)\n",
    "        index = indexCategory.get(category)\n",
    "        res[index] = 1\n",
    "    return res > 0\n",
    "# Vectorize the function \n",
    "#create_category_mask_vect = np.vectorize(test, signature='()->(k)')"
   ]
  },
  {
   "cell_type": "code",
   "execution_count": 17,
   "metadata": {},
   "outputs": [],
   "source": [
    "# Fetch the number of categories\n",
    "numberCat = len(set(df_categories['category']))\n",
    "# Create category mask for each business in reviews\n",
    "categoryMask = df_business.apply(lambda row: create_category_mask(row.categories),axis=1)"
   ]
  },
  {
   "cell_type": "code",
   "execution_count": 18,
   "metadata": {},
   "outputs": [],
   "source": [
    "# For each category, add a new column to the business dataframe\n",
    "for category_name in set(df_categories['category']):\n",
    "    # Create \"category_name\" column, and assign the category mask\n",
    "    # If mask at row i is True, it means that the business at row i has category: \"category_name\"\n",
    "    df_business[category_name] = [tup[indexCategory.get(category_name)] for tup in categoryMask]"
   ]
  },
  {
   "cell_type": "code",
   "execution_count": 19,
   "metadata": {},
   "outputs": [
    {
     "data": {
      "text/html": [
       "<div>\n",
       "<style scoped>\n",
       "    .dataframe tbody tr th:only-of-type {\n",
       "        vertical-align: middle;\n",
       "    }\n",
       "\n",
       "    .dataframe tbody tr th {\n",
       "        vertical-align: top;\n",
       "    }\n",
       "\n",
       "    .dataframe thead th {\n",
       "        text-align: right;\n",
       "    }\n",
       "</style>\n",
       "<table border=\"1\" class=\"dataframe\">\n",
       "  <thead>\n",
       "    <tr style=\"text-align: right;\">\n",
       "      <th></th>\n",
       "      <th>business_id</th>\n",
       "      <th>state</th>\n",
       "      <th>latitude</th>\n",
       "      <th>longitude</th>\n",
       "      <th>categories</th>\n",
       "      <th>stars</th>\n",
       "      <th>Construction</th>\n",
       "      <th>Computers</th>\n",
       "      <th>Home</th>\n",
       "      <th>Merchant</th>\n",
       "      <th>...</th>\n",
       "      <th>Education</th>\n",
       "      <th>Legal</th>\n",
       "      <th>BusinessSupport</th>\n",
       "      <th>PersonalCare</th>\n",
       "      <th>Entertainment</th>\n",
       "      <th>RealEstate</th>\n",
       "      <th>Automotive</th>\n",
       "      <th>Food</th>\n",
       "      <th>Miscellaneous</th>\n",
       "      <th>Health</th>\n",
       "    </tr>\n",
       "  </thead>\n",
       "  <tbody>\n",
       "    <tr>\n",
       "      <th>0</th>\n",
       "      <td>f9NumwFMBDn751xgFiRbNA</td>\n",
       "      <td>NC</td>\n",
       "      <td>35.462724</td>\n",
       "      <td>-80.852612</td>\n",
       "      <td>[Active Life, Gun/Rifle Ranges, Guns &amp; Ammo, S...</td>\n",
       "      <td>3.5</td>\n",
       "      <td>False</td>\n",
       "      <td>False</td>\n",
       "      <td>False</td>\n",
       "      <td>True</td>\n",
       "      <td>...</td>\n",
       "      <td>False</td>\n",
       "      <td>False</td>\n",
       "      <td>False</td>\n",
       "      <td>True</td>\n",
       "      <td>True</td>\n",
       "      <td>False</td>\n",
       "      <td>False</td>\n",
       "      <td>False</td>\n",
       "      <td>False</td>\n",
       "      <td>False</td>\n",
       "    </tr>\n",
       "    <tr>\n",
       "      <th>1</th>\n",
       "      <td>Yzvjg0SayhoZgCljUJRF9Q</td>\n",
       "      <td>AZ</td>\n",
       "      <td>33.569404</td>\n",
       "      <td>-111.890264</td>\n",
       "      <td>[Health &amp; Medical, Fitness &amp; Instruction, Yoga...</td>\n",
       "      <td>5.0</td>\n",
       "      <td>False</td>\n",
       "      <td>False</td>\n",
       "      <td>False</td>\n",
       "      <td>False</td>\n",
       "      <td>...</td>\n",
       "      <td>False</td>\n",
       "      <td>False</td>\n",
       "      <td>False</td>\n",
       "      <td>True</td>\n",
       "      <td>False</td>\n",
       "      <td>False</td>\n",
       "      <td>False</td>\n",
       "      <td>False</td>\n",
       "      <td>False</td>\n",
       "      <td>True</td>\n",
       "    </tr>\n",
       "  </tbody>\n",
       "</table>\n",
       "<p>2 rows × 23 columns</p>\n",
       "</div>"
      ],
      "text/plain": [
       "              business_id state   latitude   longitude  \\\n",
       "0  f9NumwFMBDn751xgFiRbNA    NC  35.462724  -80.852612   \n",
       "1  Yzvjg0SayhoZgCljUJRF9Q    AZ  33.569404 -111.890264   \n",
       "\n",
       "                                          categories  stars  Construction  \\\n",
       "0  [Active Life, Gun/Rifle Ranges, Guns & Ammo, S...    3.5         False   \n",
       "1  [Health & Medical, Fitness & Instruction, Yoga...    5.0         False   \n",
       "\n",
       "   Computers   Home  Merchant  ...  Education  Legal  BusinessSupport  \\\n",
       "0      False  False      True  ...      False  False            False   \n",
       "1      False  False     False  ...      False  False            False   \n",
       "\n",
       "   PersonalCare  Entertainment  RealEstate  Automotive   Food  Miscellaneous  \\\n",
       "0          True           True       False       False  False          False   \n",
       "1          True          False       False       False  False          False   \n",
       "\n",
       "   Health  \n",
       "0   False  \n",
       "1    True  \n",
       "\n",
       "[2 rows x 23 columns]"
      ]
     },
     "execution_count": 19,
     "metadata": {},
     "output_type": "execute_result"
    }
   ],
   "source": [
    "# Show an example\n",
    "df_business.head(2)"
   ]
  },
  {
   "cell_type": "code",
   "execution_count": 20,
   "metadata": {},
   "outputs": [],
   "source": [
    "# Save smaller dataframe as csv in order to not load the entire dataset next time\n",
    "df_business.to_csv('./data/df_business.csv',index=False)"
   ]
  },
  {
   "cell_type": "markdown",
   "metadata": {},
   "source": [
    "### Prepare review dataframe with only selected users\n",
    "For our study, we need to infer user's home, so we need **at least 3 reviews**. Also, we will study users with **at least 3 friends**. "
   ]
  },
  {
   "cell_type": "code",
   "execution_count": 21,
   "metadata": {},
   "outputs": [],
   "source": [
    "# Convert the string of friends to a list\n",
    "df_users['friend_list'] = df_users.apply(lambda x: x.friends.split(', '), axis=1)\n",
    "df_users = df_users.drop('friends', axis=1)"
   ]
  },
  {
   "cell_type": "code",
   "execution_count": 23,
   "metadata": {},
   "outputs": [],
   "source": [
    "# We count the number of reviewe per user\n",
    "df_numberOfReviews = df_review.groupby('user_id').count().drop(['business_id', 'stars', 'date'], axis = 1).rename(columns={'review_id': 'review_count'})"
   ]
  },
  {
   "cell_type": "code",
   "execution_count": 24,
   "metadata": {},
   "outputs": [],
   "source": [
    "# We merge the df_users dataset to the df_numberOfReviews dataset\n",
    "df_users = pd.merge(df_users, df_numberOfReviews, left_on='user_id', right_on='user_id', how='inner')"
   ]
  },
  {
   "cell_type": "code",
   "execution_count": 25,
   "metadata": {},
   "outputs": [],
   "source": [
    "# We create a mask for users with more than 3 friends\n",
    "mask = df_users.apply(lambda x: len(x.friend_list) >= 3, axis=1)"
   ]
  },
  {
   "cell_type": "code",
   "execution_count": 26,
   "metadata": {},
   "outputs": [
    {
     "name": "stdout",
     "output_type": "stream",
     "text": [
      "Number of users with more than 3 reviews: 602736\n",
      "Number of users with more than 3 friends: 957463\n"
     ]
    }
   ],
   "source": [
    "print('Number of users with more than 3 reviews:', df_numberOfReviews[df_numberOfReviews['review_count'] >= 3].shape[0])\n",
    "print('Number of users with more than 3 friends:', df_users[mask].shape[0])"
   ]
  },
  {
   "cell_type": "code",
   "execution_count": 27,
   "metadata": {},
   "outputs": [
    {
     "name": "stdout",
     "output_type": "stream",
     "text": [
      "Number of users with more than 4 reviews and with more than 3 friends: 343424\n"
     ]
    }
   ],
   "source": [
    "# Select users that satisfy both conditions\n",
    "df_selectedUsers = df_users[mask&(df_users['review_count'] >= 3)]\n",
    "print('Number of users with more than 3 reviews and with more than 3 friends:', df_selectedUsers.shape[0])"
   ]
  },
  {
   "cell_type": "code",
   "execution_count": 37,
   "metadata": {},
   "outputs": [],
   "source": [
    "# Save smaller user dataframe as csv in order to not load the entire dataset next time\n",
    "df_selectedUsers.to_csv('./data/selectedUsers.csv',index=False)"
   ]
  },
  {
   "cell_type": "code",
   "execution_count": 28,
   "metadata": {},
   "outputs": [
    {
     "name": "stdout",
     "output_type": "stream",
     "text": [
      "Number of checkins of selected users: 4516345\n"
     ]
    }
   ],
   "source": [
    "# Number of checkins of the selected users\n",
    "print('Number of checkins of selected users:', df_selectedUsers['review_count'].sum())"
   ]
  },
  {
   "cell_type": "markdown",
   "metadata": {},
   "source": [
    "Prepare a dataframe containly only selected users."
   ]
  },
  {
   "cell_type": "code",
   "execution_count": 29,
   "metadata": {},
   "outputs": [],
   "source": [
    "# Merge review and business dataframe\n",
    "df_review = pd.merge(df_review, df_business, left_on='business_id', right_on='business_id', how='inner').drop(['state'], axis=1)"
   ]
  },
  {
   "cell_type": "code",
   "execution_count": 33,
   "metadata": {},
   "outputs": [],
   "source": [
    "# Select only rows of selected users\n",
    "df_selectedReviews = df_review[df_review[\"user_id\"].isin(df_selectedUsers.user_id)]"
   ]
  },
  {
   "cell_type": "code",
   "execution_count": 34,
   "metadata": {},
   "outputs": [
    {
     "name": "stderr",
     "output_type": "stream",
     "text": [
      "<ipython-input-34-f0a7b85b7e69>:2: SettingWithCopyWarning: \n",
      "A value is trying to be set on a copy of a slice from a DataFrame.\n",
      "Try using .loc[row_indexer,col_indexer] = value instead\n",
      "\n",
      "See the caveats in the documentation: https://pandas.pydata.org/pandas-docs/stable/user_guide/indexing.html#returning-a-view-versus-a-copy\n",
      "  df_selectedReviews[\"date\"] = pd.to_datetime(df_selectedReviews.date.values)\n"
     ]
    }
   ],
   "source": [
    "# Convert date to datetime object\n",
    "df_selectedReviews[\"date\"] = pd.to_datetime(df_selectedReviews.date.values)"
   ]
  },
  {
   "cell_type": "code",
   "execution_count": 40,
   "metadata": {},
   "outputs": [
    {
     "data": {
      "text/html": [
       "<div>\n",
       "<style scoped>\n",
       "    .dataframe tbody tr th:only-of-type {\n",
       "        vertical-align: middle;\n",
       "    }\n",
       "\n",
       "    .dataframe tbody tr th {\n",
       "        vertical-align: top;\n",
       "    }\n",
       "\n",
       "    .dataframe thead th {\n",
       "        text-align: right;\n",
       "    }\n",
       "</style>\n",
       "<table border=\"1\" class=\"dataframe\">\n",
       "  <thead>\n",
       "    <tr style=\"text-align: right;\">\n",
       "      <th></th>\n",
       "      <th>review_id</th>\n",
       "      <th>user_id</th>\n",
       "      <th>business_id</th>\n",
       "      <th>stars_x</th>\n",
       "      <th>date</th>\n",
       "      <th>latitude</th>\n",
       "      <th>longitude</th>\n",
       "      <th>categories</th>\n",
       "      <th>stars_y</th>\n",
       "      <th>Construction</th>\n",
       "      <th>...</th>\n",
       "      <th>Education</th>\n",
       "      <th>Legal</th>\n",
       "      <th>BusinessSupport</th>\n",
       "      <th>PersonalCare</th>\n",
       "      <th>Entertainment</th>\n",
       "      <th>RealEstate</th>\n",
       "      <th>Automotive</th>\n",
       "      <th>Food</th>\n",
       "      <th>Miscellaneous</th>\n",
       "      <th>Health</th>\n",
       "    </tr>\n",
       "  </thead>\n",
       "  <tbody>\n",
       "    <tr>\n",
       "      <th>1</th>\n",
       "      <td>t7xOZF5UKXjSpVcXLOSAgw</td>\n",
       "      <td>owbC7FP8SNAlwv6f9S5Stw</td>\n",
       "      <td>-MhfebM0QIsKt87iDN-FNw</td>\n",
       "      <td>2</td>\n",
       "      <td>2014-03-14 08:24:25</td>\n",
       "      <td>36.112896</td>\n",
       "      <td>-115.177637</td>\n",
       "      <td>[Shopping, Arts &amp; Entertainment, Art Galleries...</td>\n",
       "      <td>3.5</td>\n",
       "      <td>False</td>\n",
       "      <td>...</td>\n",
       "      <td>False</td>\n",
       "      <td>False</td>\n",
       "      <td>False</td>\n",
       "      <td>False</td>\n",
       "      <td>True</td>\n",
       "      <td>False</td>\n",
       "      <td>False</td>\n",
       "      <td>False</td>\n",
       "      <td>False</td>\n",
       "      <td>False</td>\n",
       "    </tr>\n",
       "    <tr>\n",
       "      <th>2</th>\n",
       "      <td>MimB5Xh85rG7phUMPrShag</td>\n",
       "      <td>v9vGnjphb0Hta0lvtf5haA</td>\n",
       "      <td>-MhfebM0QIsKt87iDN-FNw</td>\n",
       "      <td>3</td>\n",
       "      <td>2015-10-07 22:16:59</td>\n",
       "      <td>36.112896</td>\n",
       "      <td>-115.177637</td>\n",
       "      <td>[Shopping, Arts &amp; Entertainment, Art Galleries...</td>\n",
       "      <td>3.5</td>\n",
       "      <td>False</td>\n",
       "      <td>...</td>\n",
       "      <td>False</td>\n",
       "      <td>False</td>\n",
       "      <td>False</td>\n",
       "      <td>False</td>\n",
       "      <td>True</td>\n",
       "      <td>False</td>\n",
       "      <td>False</td>\n",
       "      <td>False</td>\n",
       "      <td>False</td>\n",
       "      <td>False</td>\n",
       "    </tr>\n",
       "    <tr>\n",
       "      <th>4</th>\n",
       "      <td>cnV5xtm6WuyaLfot9uWbDg</td>\n",
       "      <td>LkWNo83Lg92C5V4JEyxOZA</td>\n",
       "      <td>-MhfebM0QIsKt87iDN-FNw</td>\n",
       "      <td>3</td>\n",
       "      <td>2010-10-10 01:27:31</td>\n",
       "      <td>36.112896</td>\n",
       "      <td>-115.177637</td>\n",
       "      <td>[Shopping, Arts &amp; Entertainment, Art Galleries...</td>\n",
       "      <td>3.5</td>\n",
       "      <td>False</td>\n",
       "      <td>...</td>\n",
       "      <td>False</td>\n",
       "      <td>False</td>\n",
       "      <td>False</td>\n",
       "      <td>False</td>\n",
       "      <td>True</td>\n",
       "      <td>False</td>\n",
       "      <td>False</td>\n",
       "      <td>False</td>\n",
       "      <td>False</td>\n",
       "      <td>False</td>\n",
       "    </tr>\n",
       "    <tr>\n",
       "      <th>5</th>\n",
       "      <td>i593z2rGxk5Lj23Bx9o1Lg</td>\n",
       "      <td>mLtaUzSjIFO_3BmfPNUKqg</td>\n",
       "      <td>-MhfebM0QIsKt87iDN-FNw</td>\n",
       "      <td>1</td>\n",
       "      <td>2015-08-20 01:10:53</td>\n",
       "      <td>36.112896</td>\n",
       "      <td>-115.177637</td>\n",
       "      <td>[Shopping, Arts &amp; Entertainment, Art Galleries...</td>\n",
       "      <td>3.5</td>\n",
       "      <td>False</td>\n",
       "      <td>...</td>\n",
       "      <td>False</td>\n",
       "      <td>False</td>\n",
       "      <td>False</td>\n",
       "      <td>False</td>\n",
       "      <td>True</td>\n",
       "      <td>False</td>\n",
       "      <td>False</td>\n",
       "      <td>False</td>\n",
       "      <td>False</td>\n",
       "      <td>False</td>\n",
       "    </tr>\n",
       "    <tr>\n",
       "      <th>6</th>\n",
       "      <td>TWpbq_vbpJRotCQ6l8SeXA</td>\n",
       "      <td>wKX1tAeRIYPU4NtM-R5N2w</td>\n",
       "      <td>-MhfebM0QIsKt87iDN-FNw</td>\n",
       "      <td>5</td>\n",
       "      <td>2012-03-31 22:00:15</td>\n",
       "      <td>36.112896</td>\n",
       "      <td>-115.177637</td>\n",
       "      <td>[Shopping, Arts &amp; Entertainment, Art Galleries...</td>\n",
       "      <td>3.5</td>\n",
       "      <td>False</td>\n",
       "      <td>...</td>\n",
       "      <td>False</td>\n",
       "      <td>False</td>\n",
       "      <td>False</td>\n",
       "      <td>False</td>\n",
       "      <td>True</td>\n",
       "      <td>False</td>\n",
       "      <td>False</td>\n",
       "      <td>False</td>\n",
       "      <td>False</td>\n",
       "      <td>False</td>\n",
       "    </tr>\n",
       "  </tbody>\n",
       "</table>\n",
       "<p>5 rows × 26 columns</p>\n",
       "</div>"
      ],
      "text/plain": [
       "                review_id                 user_id             business_id  \\\n",
       "1  t7xOZF5UKXjSpVcXLOSAgw  owbC7FP8SNAlwv6f9S5Stw  -MhfebM0QIsKt87iDN-FNw   \n",
       "2  MimB5Xh85rG7phUMPrShag  v9vGnjphb0Hta0lvtf5haA  -MhfebM0QIsKt87iDN-FNw   \n",
       "4  cnV5xtm6WuyaLfot9uWbDg  LkWNo83Lg92C5V4JEyxOZA  -MhfebM0QIsKt87iDN-FNw   \n",
       "5  i593z2rGxk5Lj23Bx9o1Lg  mLtaUzSjIFO_3BmfPNUKqg  -MhfebM0QIsKt87iDN-FNw   \n",
       "6  TWpbq_vbpJRotCQ6l8SeXA  wKX1tAeRIYPU4NtM-R5N2w  -MhfebM0QIsKt87iDN-FNw   \n",
       "\n",
       "   stars_x                date   latitude   longitude  \\\n",
       "1        2 2014-03-14 08:24:25  36.112896 -115.177637   \n",
       "2        3 2015-10-07 22:16:59  36.112896 -115.177637   \n",
       "4        3 2010-10-10 01:27:31  36.112896 -115.177637   \n",
       "5        1 2015-08-20 01:10:53  36.112896 -115.177637   \n",
       "6        5 2012-03-31 22:00:15  36.112896 -115.177637   \n",
       "\n",
       "                                          categories  stars_y  Construction  \\\n",
       "1  [Shopping, Arts & Entertainment, Art Galleries...      3.5         False   \n",
       "2  [Shopping, Arts & Entertainment, Art Galleries...      3.5         False   \n",
       "4  [Shopping, Arts & Entertainment, Art Galleries...      3.5         False   \n",
       "5  [Shopping, Arts & Entertainment, Art Galleries...      3.5         False   \n",
       "6  [Shopping, Arts & Entertainment, Art Galleries...      3.5         False   \n",
       "\n",
       "   ...  Education  Legal  BusinessSupport  PersonalCare  Entertainment  \\\n",
       "1  ...      False  False            False         False           True   \n",
       "2  ...      False  False            False         False           True   \n",
       "4  ...      False  False            False         False           True   \n",
       "5  ...      False  False            False         False           True   \n",
       "6  ...      False  False            False         False           True   \n",
       "\n",
       "   RealEstate  Automotive   Food  Miscellaneous  Health  \n",
       "1       False       False  False          False   False  \n",
       "2       False       False  False          False   False  \n",
       "4       False       False  False          False   False  \n",
       "5       False       False  False          False   False  \n",
       "6       False       False  False          False   False  \n",
       "\n",
       "[5 rows x 26 columns]"
      ]
     },
     "execution_count": 40,
     "metadata": {},
     "output_type": "execute_result"
    }
   ],
   "source": [
    "# Show an example\n",
    "df_selectedReviews.head()"
   ]
  },
  {
   "cell_type": "code",
   "execution_count": 36,
   "metadata": {},
   "outputs": [],
   "source": [
    "# Save smaller dataframe as csv in order to not load the entire dataset next time\n",
    "df_selectedReviews.to_csv('./data/selectedReviews.csv',index=False)"
   ]
  },
  {
   "cell_type": "markdown",
   "metadata": {},
   "source": [
    "# III. Data Analysis\n",
    "## Load the data & some insights\n",
    "In this section we get some first basic information about the data."
   ]
  },
  {
   "cell_type": "code",
   "execution_count": 11,
   "metadata": {},
   "outputs": [],
   "source": [
    "# We load the 4 pre-processed datasets \n",
    "df_business = pd.read_csv('./data/df_business.csv')\n",
    "df_reviews = pd.read_csv('./data/df_reviews.csv')\n",
    "df_users = pd.read_csv('./data/df_user.csv')\n",
    "df_selectedReviews = pd.read_csv('./data/selectedReviews.csv')\n",
    "df_selectedUsers = pd.read_csv('./data/selectedUsers.csv')"
   ]
  },
  {
   "cell_type": "markdown",
   "metadata": {},
   "source": [
    "For reading purposes, the 4 datasets have the following form."
   ]
  },
  {
   "cell_type": "code",
   "execution_count": 12,
   "metadata": {},
   "outputs": [
    {
     "data": {
      "text/html": [
       "<div>\n",
       "<style scoped>\n",
       "    .dataframe tbody tr th:only-of-type {\n",
       "        vertical-align: middle;\n",
       "    }\n",
       "\n",
       "    .dataframe tbody tr th {\n",
       "        vertical-align: top;\n",
       "    }\n",
       "\n",
       "    .dataframe thead th {\n",
       "        text-align: right;\n",
       "    }\n",
       "</style>\n",
       "<table border=\"1\" class=\"dataframe\">\n",
       "  <thead>\n",
       "    <tr style=\"text-align: right;\">\n",
       "      <th></th>\n",
       "      <th>business_id</th>\n",
       "      <th>state</th>\n",
       "      <th>latitude</th>\n",
       "      <th>longitude</th>\n",
       "      <th>stars</th>\n",
       "      <th>categories</th>\n",
       "    </tr>\n",
       "  </thead>\n",
       "  <tbody>\n",
       "    <tr>\n",
       "      <th>0</th>\n",
       "      <td>f9NumwFMBDn751xgFiRbNA</td>\n",
       "      <td>NC</td>\n",
       "      <td>35.462724</td>\n",
       "      <td>-80.852612</td>\n",
       "      <td>3.5</td>\n",
       "      <td>Active Life, Gun/Rifle Ranges, Guns &amp; Ammo, Sh...</td>\n",
       "    </tr>\n",
       "    <tr>\n",
       "      <th>1</th>\n",
       "      <td>Yzvjg0SayhoZgCljUJRF9Q</td>\n",
       "      <td>AZ</td>\n",
       "      <td>33.569404</td>\n",
       "      <td>-111.890264</td>\n",
       "      <td>5.0</td>\n",
       "      <td>Health &amp; Medical, Fitness &amp; Instruction, Yoga,...</td>\n",
       "    </tr>\n",
       "    <tr>\n",
       "      <th>2</th>\n",
       "      <td>XNoUzKckATkOD1hP6vghZg</td>\n",
       "      <td>QC</td>\n",
       "      <td>45.479984</td>\n",
       "      <td>-73.580070</td>\n",
       "      <td>5.0</td>\n",
       "      <td>Pets, Pet Services, Pet Groomers</td>\n",
       "    </tr>\n",
       "  </tbody>\n",
       "</table>\n",
       "</div>"
      ],
      "text/plain": [
       "              business_id state   latitude   longitude  stars  \\\n",
       "0  f9NumwFMBDn751xgFiRbNA    NC  35.462724  -80.852612    3.5   \n",
       "1  Yzvjg0SayhoZgCljUJRF9Q    AZ  33.569404 -111.890264    5.0   \n",
       "2  XNoUzKckATkOD1hP6vghZg    QC  45.479984  -73.580070    5.0   \n",
       "\n",
       "                                          categories  \n",
       "0  Active Life, Gun/Rifle Ranges, Guns & Ammo, Sh...  \n",
       "1  Health & Medical, Fitness & Instruction, Yoga,...  \n",
       "2                   Pets, Pet Services, Pet Groomers  "
      ]
     },
     "execution_count": 12,
     "metadata": {},
     "output_type": "execute_result"
    }
   ],
   "source": [
    "# Show an example\n",
    "df_business.head(3)"
   ]
  },
  {
   "cell_type": "code",
   "execution_count": 13,
   "metadata": {
    "scrolled": true
   },
   "outputs": [
    {
     "data": {
      "text/html": [
       "<div>\n",
       "<style scoped>\n",
       "    .dataframe tbody tr th:only-of-type {\n",
       "        vertical-align: middle;\n",
       "    }\n",
       "\n",
       "    .dataframe tbody tr th {\n",
       "        vertical-align: top;\n",
       "    }\n",
       "\n",
       "    .dataframe thead th {\n",
       "        text-align: right;\n",
       "    }\n",
       "</style>\n",
       "<table border=\"1\" class=\"dataframe\">\n",
       "  <thead>\n",
       "    <tr style=\"text-align: right;\">\n",
       "      <th></th>\n",
       "      <th>review_id</th>\n",
       "      <th>user_id</th>\n",
       "      <th>business_id</th>\n",
       "      <th>stars</th>\n",
       "      <th>date</th>\n",
       "    </tr>\n",
       "  </thead>\n",
       "  <tbody>\n",
       "    <tr>\n",
       "      <th>0</th>\n",
       "      <td>xQY8N_XvtGbearJ5X4QryQ</td>\n",
       "      <td>OwjRMXRC0KyPrIlcjaXeFQ</td>\n",
       "      <td>-MhfebM0QIsKt87iDN-FNw</td>\n",
       "      <td>2</td>\n",
       "      <td>2015-04-15 05:21:16</td>\n",
       "    </tr>\n",
       "    <tr>\n",
       "      <th>1</th>\n",
       "      <td>UmFMZ8PyXZTY2QcwzsfQYA</td>\n",
       "      <td>nIJD_7ZXHq-FX8byPMOkMQ</td>\n",
       "      <td>lbrU8StCq3yDfr-QMnGrmQ</td>\n",
       "      <td>1</td>\n",
       "      <td>2013-12-07 03:16:52</td>\n",
       "    </tr>\n",
       "    <tr>\n",
       "      <th>2</th>\n",
       "      <td>LG2ZaYiOgpr2DK_90pYjNw</td>\n",
       "      <td>V34qejxNsCbcgD8C0HVk-Q</td>\n",
       "      <td>HQl28KMwrEKHqhFrrDqVNQ</td>\n",
       "      <td>5</td>\n",
       "      <td>2015-12-05 03:18:11</td>\n",
       "    </tr>\n",
       "  </tbody>\n",
       "</table>\n",
       "</div>"
      ],
      "text/plain": [
       "                review_id                 user_id             business_id  \\\n",
       "0  xQY8N_XvtGbearJ5X4QryQ  OwjRMXRC0KyPrIlcjaXeFQ  -MhfebM0QIsKt87iDN-FNw   \n",
       "1  UmFMZ8PyXZTY2QcwzsfQYA  nIJD_7ZXHq-FX8byPMOkMQ  lbrU8StCq3yDfr-QMnGrmQ   \n",
       "2  LG2ZaYiOgpr2DK_90pYjNw  V34qejxNsCbcgD8C0HVk-Q  HQl28KMwrEKHqhFrrDqVNQ   \n",
       "\n",
       "   stars                date  \n",
       "0      2 2015-04-15 05:21:16  \n",
       "1      1 2013-12-07 03:16:52  \n",
       "2      5 2015-12-05 03:18:11  "
      ]
     },
     "execution_count": 13,
     "metadata": {},
     "output_type": "execute_result"
    }
   ],
   "source": [
    "# Show an example\n",
    "df_reviews[\"date\"] = pd.to_datetime(df_reviews.date.values)\n",
    "df_reviews.head(3)"
   ]
  },
  {
   "cell_type": "code",
   "execution_count": 14,
   "metadata": {},
   "outputs": [
    {
     "data": {
      "text/html": [
       "<div>\n",
       "<style scoped>\n",
       "    .dataframe tbody tr th:only-of-type {\n",
       "        vertical-align: middle;\n",
       "    }\n",
       "\n",
       "    .dataframe tbody tr th {\n",
       "        vertical-align: top;\n",
       "    }\n",
       "\n",
       "    .dataframe thead th {\n",
       "        text-align: right;\n",
       "    }\n",
       "</style>\n",
       "<table border=\"1\" class=\"dataframe\">\n",
       "  <thead>\n",
       "    <tr style=\"text-align: right;\">\n",
       "      <th></th>\n",
       "      <th>user_id</th>\n",
       "      <th>friends</th>\n",
       "      <th>friend_list</th>\n",
       "    </tr>\n",
       "  </thead>\n",
       "  <tbody>\n",
       "    <tr>\n",
       "      <th>0</th>\n",
       "      <td>ntlvfPzc8eglqvk92iDIAw</td>\n",
       "      <td>oeMvJh94PiGQnx_6GlndPQ, wm1z1PaJKvHgSDRKfwhfDg...</td>\n",
       "      <td>[oeMvJh94PiGQnx_6GlndPQ, wm1z1PaJKvHgSDRKfwhfD...</td>\n",
       "    </tr>\n",
       "    <tr>\n",
       "      <th>1</th>\n",
       "      <td>FOBRPlBHa3WPHFB5qYDlVg</td>\n",
       "      <td>ly7EnE8leJmyqyePVYFlug, pRlR63iDytsnnniPb3AOug...</td>\n",
       "      <td>[ly7EnE8leJmyqyePVYFlug, pRlR63iDytsnnniPb3AOu...</td>\n",
       "    </tr>\n",
       "    <tr>\n",
       "      <th>2</th>\n",
       "      <td>zZUnPeh2hEp0WydbAZEOOg</td>\n",
       "      <td>Uwlk0txjQBPw_JhHsQnyeg, Ybxr1tSCkv3lYA0I1qmnPQ...</td>\n",
       "      <td>[Uwlk0txjQBPw_JhHsQnyeg, Ybxr1tSCkv3lYA0I1qmnP...</td>\n",
       "    </tr>\n",
       "  </tbody>\n",
       "</table>\n",
       "</div>"
      ],
      "text/plain": [
       "                  user_id                                            friends  \\\n",
       "0  ntlvfPzc8eglqvk92iDIAw  oeMvJh94PiGQnx_6GlndPQ, wm1z1PaJKvHgSDRKfwhfDg...   \n",
       "1  FOBRPlBHa3WPHFB5qYDlVg  ly7EnE8leJmyqyePVYFlug, pRlR63iDytsnnniPb3AOug...   \n",
       "2  zZUnPeh2hEp0WydbAZEOOg  Uwlk0txjQBPw_JhHsQnyeg, Ybxr1tSCkv3lYA0I1qmnPQ...   \n",
       "\n",
       "                                         friend_list  \n",
       "0  [oeMvJh94PiGQnx_6GlndPQ, wm1z1PaJKvHgSDRKfwhfD...  \n",
       "1  [ly7EnE8leJmyqyePVYFlug, pRlR63iDytsnnniPb3AOu...  \n",
       "2  [Uwlk0txjQBPw_JhHsQnyeg, Ybxr1tSCkv3lYA0I1qmnP...  "
      ]
     },
     "execution_count": 14,
     "metadata": {},
     "output_type": "execute_result"
    }
   ],
   "source": [
    "# Convert the string of friends to a list\n",
    "df_users['friend_list'] = df_users.apply(lambda x: x.friends.split(', '), axis=1)\n",
    "df_user = df_users.drop('friends', axis=1)\n",
    "# Show an example\n",
    "df_users.head(3)"
   ]
  },
  {
   "cell_type": "code",
   "execution_count": 15,
   "metadata": {},
   "outputs": [
    {
     "name": "stdout",
     "output_type": "stream",
     "text": [
      "There are 209393 businesses.\n",
      "There are 8021122 reviews.\n",
      "There are 1968703 users.\n"
     ]
    }
   ],
   "source": [
    "print('There are', df_business.shape[0], 'businesses.')\n",
    "print('There are', df_reviews.shape[0], 'reviews.')\n",
    "print('There are', df_users.shape[0], 'users.')"
   ]
  },
  {
   "cell_type": "code",
   "execution_count": 5,
   "metadata": {},
   "outputs": [
    {
     "data": {
      "text/html": [
       "<div>\n",
       "<style scoped>\n",
       "    .dataframe tbody tr th:only-of-type {\n",
       "        vertical-align: middle;\n",
       "    }\n",
       "\n",
       "    .dataframe tbody tr th {\n",
       "        vertical-align: top;\n",
       "    }\n",
       "\n",
       "    .dataframe thead th {\n",
       "        text-align: right;\n",
       "    }\n",
       "</style>\n",
       "<table border=\"1\" class=\"dataframe\">\n",
       "  <thead>\n",
       "    <tr style=\"text-align: right;\">\n",
       "      <th></th>\n",
       "      <th>review_id</th>\n",
       "      <th>user_id</th>\n",
       "      <th>business_id</th>\n",
       "      <th>stars_x</th>\n",
       "      <th>date</th>\n",
       "      <th>latitude</th>\n",
       "      <th>longitude</th>\n",
       "      <th>stars_y</th>\n",
       "      <th>reviewed_by_friend_before</th>\n",
       "      <th>square_id</th>\n",
       "      <th>dist_checkin_home</th>\n",
       "      <th>week_day</th>\n",
       "    </tr>\n",
       "  </thead>\n",
       "  <tbody>\n",
       "    <tr>\n",
       "      <th>0</th>\n",
       "      <td>t7xOZF5UKXjSpVcXLOSAgw</td>\n",
       "      <td>owbC7FP8SNAlwv6f9S5Stw</td>\n",
       "      <td>-MhfebM0QIsKt87iDN-FNw</td>\n",
       "      <td>2</td>\n",
       "      <td>2014-03-14 08:24:25</td>\n",
       "      <td>36.112896</td>\n",
       "      <td>-115.177637</td>\n",
       "      <td>3.5</td>\n",
       "      <td>-1</td>\n",
       "      <td>160_-413</td>\n",
       "      <td>3.490097</td>\n",
       "      <td>4</td>\n",
       "    </tr>\n",
       "    <tr>\n",
       "      <th>1</th>\n",
       "      <td>MimB5Xh85rG7phUMPrShag</td>\n",
       "      <td>v9vGnjphb0Hta0lvtf5haA</td>\n",
       "      <td>-MhfebM0QIsKt87iDN-FNw</td>\n",
       "      <td>3</td>\n",
       "      <td>2015-10-07 22:16:59</td>\n",
       "      <td>36.112896</td>\n",
       "      <td>-115.177637</td>\n",
       "      <td>3.5</td>\n",
       "      <td>-1</td>\n",
       "      <td>160_-413</td>\n",
       "      <td>1.435575</td>\n",
       "      <td>2</td>\n",
       "    </tr>\n",
       "    <tr>\n",
       "      <th>2</th>\n",
       "      <td>cnV5xtm6WuyaLfot9uWbDg</td>\n",
       "      <td>LkWNo83Lg92C5V4JEyxOZA</td>\n",
       "      <td>-MhfebM0QIsKt87iDN-FNw</td>\n",
       "      <td>3</td>\n",
       "      <td>2010-10-10 01:27:31</td>\n",
       "      <td>36.112896</td>\n",
       "      <td>-115.177637</td>\n",
       "      <td>3.5</td>\n",
       "      <td>2</td>\n",
       "      <td>160_-413</td>\n",
       "      <td>3.632600</td>\n",
       "      <td>6</td>\n",
       "    </tr>\n",
       "  </tbody>\n",
       "</table>\n",
       "</div>"
      ],
      "text/plain": [
       "                review_id                 user_id             business_id  \\\n",
       "0  t7xOZF5UKXjSpVcXLOSAgw  owbC7FP8SNAlwv6f9S5Stw  -MhfebM0QIsKt87iDN-FNw   \n",
       "1  MimB5Xh85rG7phUMPrShag  v9vGnjphb0Hta0lvtf5haA  -MhfebM0QIsKt87iDN-FNw   \n",
       "2  cnV5xtm6WuyaLfot9uWbDg  LkWNo83Lg92C5V4JEyxOZA  -MhfebM0QIsKt87iDN-FNw   \n",
       "\n",
       "   stars_x                 date   latitude   longitude  stars_y  \\\n",
       "0        2  2014-03-14 08:24:25  36.112896 -115.177637      3.5   \n",
       "1        3  2015-10-07 22:16:59  36.112896 -115.177637      3.5   \n",
       "2        3  2010-10-10 01:27:31  36.112896 -115.177637      3.5   \n",
       "\n",
       "   reviewed_by_friend_before square_id  dist_checkin_home  week_day  \n",
       "0                         -1  160_-413           3.490097         4  \n",
       "1                         -1  160_-413           1.435575         2  \n",
       "2                          2  160_-413           3.632600         6  "
      ]
     },
     "execution_count": 5,
     "metadata": {},
     "output_type": "execute_result"
    }
   ],
   "source": [
    "# Convert date to datetime object\n",
    "df_selectedReviews[\"date\"] = pd.to_datetime(df_selectedReviews.date.values)\n",
    "# Show an example\n",
    "df_selectedReviews.head(3)"
   ]
  },
  {
   "cell_type": "code",
   "execution_count": 151,
   "metadata": {},
   "outputs": [
    {
     "data": {
      "text/html": [
       "<div>\n",
       "<style scoped>\n",
       "    .dataframe tbody tr th:only-of-type {\n",
       "        vertical-align: middle;\n",
       "    }\n",
       "\n",
       "    .dataframe tbody tr th {\n",
       "        vertical-align: top;\n",
       "    }\n",
       "\n",
       "    .dataframe thead th {\n",
       "        text-align: right;\n",
       "    }\n",
       "</style>\n",
       "<table border=\"1\" class=\"dataframe\">\n",
       "  <thead>\n",
       "    <tr style=\"text-align: right;\">\n",
       "      <th></th>\n",
       "      <th>user_id</th>\n",
       "      <th>friend_list</th>\n",
       "      <th>review_count</th>\n",
       "      <th>latitude_home</th>\n",
       "      <th>longitude_home</th>\n",
       "    </tr>\n",
       "  </thead>\n",
       "  <tbody>\n",
       "    <tr>\n",
       "      <th>0</th>\n",
       "      <td>ntlvfPzc8eglqvk92iDIAw</td>\n",
       "      <td>['oeMvJh94PiGQnx_6GlndPQ', 'wm1z1PaJKvHgSDRKfw...</td>\n",
       "      <td>58</td>\n",
       "      <td>36.131612</td>\n",
       "      <td>-115.163849</td>\n",
       "    </tr>\n",
       "    <tr>\n",
       "      <th>1</th>\n",
       "      <td>FOBRPlBHa3WPHFB5qYDlVg</td>\n",
       "      <td>['ly7EnE8leJmyqyePVYFlug', 'pRlR63iDytsnnniPb3...</td>\n",
       "      <td>64</td>\n",
       "      <td>33.639702</td>\n",
       "      <td>-112.383382</td>\n",
       "    </tr>\n",
       "    <tr>\n",
       "      <th>2</th>\n",
       "      <td>zZUnPeh2hEp0WydbAZEOOg</td>\n",
       "      <td>['Uwlk0txjQBPw_JhHsQnyeg', 'Ybxr1tSCkv3lYA0I1q...</td>\n",
       "      <td>3</td>\n",
       "      <td>36.114935</td>\n",
       "      <td>-115.191060</td>\n",
       "    </tr>\n",
       "  </tbody>\n",
       "</table>\n",
       "</div>"
      ],
      "text/plain": [
       "                  user_id                                        friend_list  \\\n",
       "0  ntlvfPzc8eglqvk92iDIAw  ['oeMvJh94PiGQnx_6GlndPQ', 'wm1z1PaJKvHgSDRKfw...   \n",
       "1  FOBRPlBHa3WPHFB5qYDlVg  ['ly7EnE8leJmyqyePVYFlug', 'pRlR63iDytsnnniPb3...   \n",
       "2  zZUnPeh2hEp0WydbAZEOOg  ['Uwlk0txjQBPw_JhHsQnyeg', 'Ybxr1tSCkv3lYA0I1q...   \n",
       "\n",
       "   review_count  latitude_home  longitude_home  \n",
       "0            58      36.131612     -115.163849  \n",
       "1            64      33.639702     -112.383382  \n",
       "2             3      36.114935     -115.191060  "
      ]
     },
     "execution_count": 151,
     "metadata": {},
     "output_type": "execute_result"
    }
   ],
   "source": [
    "# Convert the string of friends to a list\n",
    "df_selectedUsers['friend_list'] = df_selectedUsers.apply(lambda x: x.friend_list.split(', '), axis=1)\n",
    "# Show an example\n",
    "df_selectedUsers.head(3)"
   ]
  },
  {
   "cell_type": "code",
   "execution_count": 152,
   "metadata": {},
   "outputs": [
    {
     "name": "stdout",
     "output_type": "stream",
     "text": [
      "There are 343424 users that have at least 3 reviews and 3 friends.\n",
      "There are 4516345 reviews corresponding to those users.\n"
     ]
    }
   ],
   "source": [
    "print('There are', df_selectedUsers.shape[0], 'users that have at least 3 reviews and 3 friends.')\n",
    "print('There are', df_selectedReviews.shape[0], 'reviews corresponding to those users.')"
   ]
  },
  {
   "cell_type": "markdown",
   "metadata": {},
   "source": [
    "**Why do we select users?**    \n",
    "In later part of this study, we will be computing each users' home. That is why we consider users having made at least 3 reviews. The idea behind that is that with 2 reviews we can infer the user's home and with the 3rd one you can see how far the user went for a checkin far away from home. \n",
    "If we kept users who made only 2 reviews, the number of 'inactive users' would be far too great, and most checkins would be made at zero km from home.    \n",
    "Also, we are only considering users with at least 3 friends, because we will try to understand if a friend's review increases our chance to visit the place in the future. To make that study, we need users with active friends (i.e users with at least 3 friends). \n",
    "\n",
    "\n",
    "**What is a good review and a bad review?**    \n",
    "In this study we will be distingising good and bad reviews. However, what is a good review and what is a bad review.    \n",
    "To understand that, we next plot the distribution of ratings on the 209393 available businesses.    \n",
    "*NB: we will be displaying this figure in our datastory so we import some librares to export the figure to our datastory website*.\n"
   ]
  },
  {
   "cell_type": "code",
   "execution_count": 177,
   "metadata": {},
   "outputs": [],
   "source": [
    "# Plot the distribution of ratings on businesses \n",
    "fig = px.histogram(df_business['stars'], x=\"stars\", hover_data=[\"stars\"], nbins=100, marginal=\"box\")\n",
    "fig.show()"
   ]
  },
  {
   "cell_type": "markdown",
   "metadata": {},
   "source": [
    "<img src=\"./images/histogram_mean_rating.png\">"
   ]
  },
  {
   "cell_type": "markdown",
   "metadata": {},
   "source": [
    "***NB: this is an image of the real figure (plotty plots are not saved into the hard memory of the notebook) so we display an image of the actual figure. For interaction, please visit our website.***"
   ]
  },
  {
   "cell_type": "code",
   "execution_count": null,
   "metadata": {},
   "outputs": [],
   "source": [
    "# Export the figure to an HTML file that will be displated on the datastory\n",
    "pio.write_html(fig, file=\"rating_distribution.html\", auto_open=True)"
   ]
  },
  {
   "cell_type": "markdown",
   "metadata": {},
   "source": [
    "As we can see on the figure above, the 25k lowest rated businesses have 2 or less stars and the +25k best reviewed businesses have 5 stars. Hence, from now on we will consider the following:\n",
    "* a good review is a review of 5 stars\n",
    "* a bad review is a review of 2 or less stars"
   ]
  },
  {
   "cell_type": "markdown",
   "metadata": {},
   "source": [
    "## Influence of the mean rating of businesses on mobility\n",
    "Lets now dive into the subject.    \n",
    "First, we will study movement of users depending on the mean rating of each business.     \n",
    "We consider that a user has \"checked-in\" to a location if he made a review on that place.\n",
    "What we would like to understand is if users are willing to travel further from their home to go to a good rated business and see if when they travelled further from home they leave a better review. \n",
    "### Find User's home\n",
    "We first need to find user's homes, for this we assign to each check-in a 25x25km square, and assign as the user's home, the mean of the check-ins made in the square the user has the most check-ins in. (Similar to the original paper).    \n",
    "Note that we will be computing the user's home of people having made at least 3 checkins (or reviews). "
   ]
  },
  {
   "cell_type": "code",
   "execution_count": 36,
   "metadata": {},
   "outputs": [],
   "source": [
    "# Define some constants\n",
    "ONE_DEGREE_LATITIDE_TO_KM = 111\n",
    "EARTH_RADIUS = 6371\n",
    "\n",
    "def getSquareIdString(lat, long):\n",
    "    '''\n",
    "        GOAL: unction used to compute the square_id given two coordinate (latitude coordinate and longitude coordinate)\n",
    "        INPUT: Takes as input two float that represent the latitude and longitude (be aware that order matters!)\n",
    "        OUTPUT: Returns a string that is the id of the cell in which the two coordinates are located in\n",
    "        Explanations on this function are given in section I\n",
    "    '''\n",
    "    \n",
    "    lat_id = math.trunc(lat*ONE_DEGREE_LATITIDE_TO_KM/25.0)\n",
    "    long_id = math.trunc(math.pi/180*EARTH_RADIUS*math.cos(math.radians(lat))*long/25)\n",
    "    return str(lat_id)+'_'+str(long_id)\n",
    "\n",
    "# Transform the function used to compute the square_id to a numpy usable function \n",
    "# (i.e argumennts of the function can be passed as np.array)\n",
    "# This is done to improve efficiency by avoiding the use of an apply on a dataframe, which would cause a lot of overhead \n",
    "# when working with indices\n",
    "vect_GetSquareIdString = np.vectorize(getSquareIdString)"
   ]
  },
  {
   "cell_type": "code",
   "execution_count": null,
   "metadata": {},
   "outputs": [],
   "source": [
    "def haversine(x1, x2):\n",
    "    \"\"\"\n",
    "        GOAL: compute the arc-distance between two points with format (latitude, longitude)\n",
    "             Calculate the great circle distance between two points on the earth (specified in decimal degrees)\n",
    "        INPUT: Takes two np.array where the first element is the latitude and the second is the longitude (be aware that latitude is first!)\n",
    "        OUTPUT: return the distance bewteen the two given points\n",
    "        NOTE: this function was copied verbatim from: \n",
    "        https://stackoverflow.com/questions/15736995/how-can-i-quickly-estimate-the-distance-between-two-latitude-longitude-points\n",
    "    \"\"\"\n",
    "    # convert decimal degrees to radians \n",
    "    lon1, lat1, lon2, lat2 = map(radians, [x1[1], x1[0], x2[1], x2[0]])\n",
    "    # haversine formula \n",
    "    dlon = lon2 - lon1 \n",
    "    dlat = lat2 - lat1 \n",
    "    a = sin(dlat/2)**2 + cos(lat1) * cos(lat2) * sin(dlon/2)**2\n",
    "    c = 2 * asin(sqrt(a)) \n",
    "    # Radius of earth in kilometers is 6371\n",
    "    km = 6371* c\n",
    "    return km"
   ]
  },
  {
   "cell_type": "code",
   "execution_count": null,
   "metadata": {},
   "outputs": [],
   "source": [
    "def getUserHome(df):\n",
    "    '''\n",
    "        GOAL: compute each user's home\n",
    "        INPUT: a dataframe of checkins with at lest the 'user_id' of the person who made that checkin, as well \n",
    "               as the coordinates of the checkin (latitude and longitude)\n",
    "        OUTPUT: a dataframe with index the users and as column the coordinare of the user's home\n",
    "    '''\n",
    "    # we are using the column time as a counter for the pair (user_id, square_id)\n",
    "    # in the meantime, we are computing the mean latitude and longitude for each pair (user_id, square_id)\n",
    "    save = df.groupby(['user_id', 'square_id']).agg({\n",
    "        'date': 'count', \n",
    "        'latitude': ['mean'],\n",
    "        'longitude': ['mean']\n",
    "    }).reset_index()\n",
    "    \n",
    "    # we copy the counter of pair (user_id, square_id), the mean latitude, and mean longitude \n",
    "    # in new columns\n",
    "    save['count'] = save['date']['count']\n",
    "    save['latitude_home'] = save['latitude']['mean']\n",
    "    save['longitude_home'] = save['longitude']['mean']\n",
    "\n",
    "    # we drop the columns the we previously copied \n",
    "    save = save.drop([('date', 'count'), 'square_id', ('latitude', 'mean'), ('longitude', 'mean')], axis=1)\n",
    "    \n",
    "    # we keep only the square_id with the most count \n",
    "    save = save.loc[save.groupby('user_id')['count'].idxmax()]\n",
    "    \n",
    "    # we drop the column count as it will be of no use later\n",
    "    save = save.drop('count', axis=1)\n",
    "    return save"
   ]
  },
  {
   "cell_type": "code",
   "execution_count": null,
   "metadata": {},
   "outputs": [],
   "source": [
    "# Compute the square_id for each user\n",
    "df_selectedReviews['square_id'] = vect_GetSquareIdString(df_selectedReviews['latitude'].values, df_selectedReviews['longitude'].values)"
   ]
  },
  {
   "cell_type": "code",
   "execution_count": 25,
   "metadata": {},
   "outputs": [],
   "source": [
    "# Compute users' homes for the selected users\n",
    "df_homes = getUserHome(df_selectedReviews)"
   ]
  },
  {
   "cell_type": "code",
   "execution_count": 27,
   "metadata": {},
   "outputs": [],
   "source": [
    "# Merge the selected users and the their home coordinates\n",
    "df_selectedUsers = pd.merge(df_selectedUsers, df_homes, left_on='user_id', right_on='user_id', how='left')"
   ]
  },
  {
   "cell_type": "code",
   "execution_count": null,
   "metadata": {},
   "outputs": [],
   "source": [
    "# Save each user's home for later use\n",
    "df_homes.to_csv('./df_homes.csv',index=False)"
   ]
  },
  {
   "cell_type": "markdown",
   "metadata": {},
   "source": [
    "### Study of the probability of move to a business far away from home and give a good review\n",
    "A first intersting fact to gather could be: are we more satisfied when we travel far from home. In other words, we would like to see if we are more willing to give a good review on a business if we travel far from home. "
   ]
  },
  {
   "cell_type": "code",
   "execution_count": 28,
   "metadata": {},
   "outputs": [],
   "source": [
    "# Merge review and business dataframe\n",
    "df_reviews = pd.merge(df_reviews, df_business, left_on='business_id', right_on='business_id', how='inner').drop(['state'], axis=1)\n",
    "\n",
    "# Merge review dataframe with selected users\n",
    "df_complete = pd.merge(df_reviews, df_selectedUsers, left_on='user_id', right_on='user_id', how='right')\n",
    "\n",
    "# Rename some column name for convenience\n",
    "# Actual_stars corresponds to the mean rating given to a business (its the aggregation of all user's review on that business)\n",
    "df_complete = df_complete.rename(columns={('latitude_home', ''): \"latitude_home\", ('longitude_home', ''): \"longitude_home\"})\n",
    "df_business = df_business.rename(columns={\"stars\":\"actual_stars\"})"
   ]
  },
  {
   "cell_type": "code",
   "execution_count": 31,
   "metadata": {},
   "outputs": [],
   "source": [
    "# For each check-in we keep track of the home coordinates, the business coordinates, the categories\n",
    "# We display a small example of the dataset from that point\n",
    "df_complete = pd.read_csv('./data/selectedReviews.csv')"
   ]
  },
  {
   "cell_type": "code",
   "execution_count": 32,
   "metadata": {},
   "outputs": [
    {
     "data": {
      "text/html": [
       "<div>\n",
       "<style scoped>\n",
       "    .dataframe tbody tr th:only-of-type {\n",
       "        vertical-align: middle;\n",
       "    }\n",
       "\n",
       "    .dataframe tbody tr th {\n",
       "        vertical-align: top;\n",
       "    }\n",
       "\n",
       "    .dataframe thead th {\n",
       "        text-align: right;\n",
       "    }\n",
       "</style>\n",
       "<table border=\"1\" class=\"dataframe\">\n",
       "  <thead>\n",
       "    <tr style=\"text-align: right;\">\n",
       "      <th></th>\n",
       "      <th>Unnamed: 0</th>\n",
       "      <th>review_id</th>\n",
       "      <th>user_id</th>\n",
       "      <th>business_id</th>\n",
       "      <th>stars_x</th>\n",
       "      <th>date</th>\n",
       "      <th>latitude</th>\n",
       "      <th>longitude</th>\n",
       "      <th>stars_y</th>\n",
       "      <th>reviewed_by_friend_before</th>\n",
       "      <th>square_id</th>\n",
       "      <th>dist_checkin_home</th>\n",
       "      <th>week_day</th>\n",
       "    </tr>\n",
       "  </thead>\n",
       "  <tbody>\n",
       "    <tr>\n",
       "      <th>0</th>\n",
       "      <td>1</td>\n",
       "      <td>t7xOZF5UKXjSpVcXLOSAgw</td>\n",
       "      <td>owbC7FP8SNAlwv6f9S5Stw</td>\n",
       "      <td>-MhfebM0QIsKt87iDN-FNw</td>\n",
       "      <td>2</td>\n",
       "      <td>2014-03-14 08:24:25</td>\n",
       "      <td>36.112896</td>\n",
       "      <td>-115.177637</td>\n",
       "      <td>3.5</td>\n",
       "      <td>-1</td>\n",
       "      <td>160_-413</td>\n",
       "      <td>3.490097</td>\n",
       "      <td>4</td>\n",
       "    </tr>\n",
       "    <tr>\n",
       "      <th>1</th>\n",
       "      <td>2</td>\n",
       "      <td>MimB5Xh85rG7phUMPrShag</td>\n",
       "      <td>v9vGnjphb0Hta0lvtf5haA</td>\n",
       "      <td>-MhfebM0QIsKt87iDN-FNw</td>\n",
       "      <td>3</td>\n",
       "      <td>2015-10-07 22:16:59</td>\n",
       "      <td>36.112896</td>\n",
       "      <td>-115.177637</td>\n",
       "      <td>3.5</td>\n",
       "      <td>-1</td>\n",
       "      <td>160_-413</td>\n",
       "      <td>1.435575</td>\n",
       "      <td>2</td>\n",
       "    </tr>\n",
       "  </tbody>\n",
       "</table>\n",
       "</div>"
      ],
      "text/plain": [
       "   Unnamed: 0               review_id                 user_id  \\\n",
       "0           1  t7xOZF5UKXjSpVcXLOSAgw  owbC7FP8SNAlwv6f9S5Stw   \n",
       "1           2  MimB5Xh85rG7phUMPrShag  v9vGnjphb0Hta0lvtf5haA   \n",
       "\n",
       "              business_id  stars_x                 date   latitude  \\\n",
       "0  -MhfebM0QIsKt87iDN-FNw        2  2014-03-14 08:24:25  36.112896   \n",
       "1  -MhfebM0QIsKt87iDN-FNw        3  2015-10-07 22:16:59  36.112896   \n",
       "\n",
       "    longitude  stars_y  reviewed_by_friend_before square_id  \\\n",
       "0 -115.177637      3.5                         -1  160_-413   \n",
       "1 -115.177637      3.5                         -1  160_-413   \n",
       "\n",
       "   dist_checkin_home  week_day  \n",
       "0           3.490097         4  \n",
       "1           1.435575         2  "
      ]
     },
     "execution_count": 32,
     "metadata": {},
     "output_type": "execute_result"
    }
   ],
   "source": [
    "df_complete.head(2)"
   ]
  },
  {
   "cell_type": "code",
   "execution_count": 33,
   "metadata": {},
   "outputs": [],
   "source": [
    "# Compute the distance between user home and business location\n",
    "from scipy.spatial import distance\n",
    "df_complete['distance'] = df_complete.apply(lambda x: distance.cdist([(x.latitude_home, x.longitude_home)], [(x.latitude, x.longitude)], metric=haversine)[0,0], axis=1)"
   ]
  },
  {
   "cell_type": "code",
   "execution_count": 65,
   "metadata": {},
   "outputs": [],
   "source": [
    "df_complete = df_complete.drop([\"review_count\"],axis = 1)"
   ]
  },
  {
   "cell_type": "code",
   "execution_count": null,
   "metadata": {},
   "outputs": [],
   "source": [
    "# Add mean ratings of businesses to the main dataframe\n",
    "df_complete = pd.merge(df_complete, df_business[['business_id', 'actual_stars']], left_on='business_id', right_on='business_id', how='inner')"
   ]
  },
  {
   "cell_type": "code",
   "execution_count": 34,
   "metadata": {},
   "outputs": [],
   "source": [
    "# Create the bins for the plotting\n",
    "maxDistance = max(df_complete['distance'])\n",
    "# Create non linear groups of distances\n",
    "bins = np.geomspace(5, maxDistance, 15)\n",
    "# Center the bins\n",
    "binsCentered = (bins[:-1] + bins[1:])/2"
   ]
  },
  {
   "cell_type": "code",
   "execution_count": 38,
   "metadata": {},
   "outputs": [],
   "source": [
    "# Group rows in dataframe by \"distance\"\n",
    "totalReview = df_complete['review_id'].groupby(pd.cut(df_complete['distance'], bins=bins)).count()\n",
    "# Good with 3 but can use 5 ----- to be modified at the end\n",
    "df_goodUserreviews = df_complete[df_complete['stars'] >= 5]\n",
    "df_badUserreviews = df_complete[df_complete['stars'] <= 2]"
   ]
  },
  {
   "cell_type": "code",
   "execution_count": 39,
   "metadata": {},
   "outputs": [],
   "source": [
    "# Compute good reviews and bad reviews for each group\n",
    "goodUserReview = df_goodUserreviews['review_id'].groupby(pd.cut(df_goodUserreviews['distance'], bins=bins)).count()\n",
    "badUserReview = df_badUserreviews['review_id'].groupby(pd.cut(df_badUserreviews['distance'], bins=bins)).count()"
   ]
  },
  {
   "cell_type": "code",
   "execution_count": 161,
   "metadata": {},
   "outputs": [
    {
     "data": {
      "text/plain": [
       "Text(0.5, 1.0, 'Probability to Give Good Rating (stars >= 5) Depending on Distance')"
      ]
     },
     "execution_count": 161,
     "metadata": {},
     "output_type": "execute_result"
    },
    {
     "data": {
      "image/png": "[encoded data removed]",
      "text/plain": [
       "<Figure size 720x576 with 1 Axes>"
      ]
     },
     "metadata": {
      "needs_background": "light"
     },
     "output_type": "display_data"
    }
   ],
   "source": [
    "# Plot result\n",
    "plt.figure(figsize=(10,8)) \n",
    "plt.plot(binsCentered,goodUserReview/totalReview,'go', linestyle=\"-\", fillstyle=\"none\", markersize=15,label='Good Review')\n",
    "plt.xscale('log')\n",
    "plt.yscale('log')\n",
    "plt.xlabel(\"Check−in distance from home (km)\")\n",
    "plt.ylabel(\"P_GoodReview\")\n",
    "plt.legend(loc=\"lower left\")\n",
    "plt.title(\"Probability to Give Good Rating (stars >= 5) Depending on Distance\")"
   ]
  },
  {
   "cell_type": "markdown",
   "metadata": {},
   "source": [
    "**Observations of the plot**    \n",
    "It appears that our intuition was not totally correct.    \n",
    "First, we can see that from 0 to 100 km, the more we travel away from home, the greater the probability to travel to a good rated business increase. However, past the 100 km mark, this probability decreases quite sharply (with respect to difference observes across the entire graph).    \n",
    "So it would appear that there is a breakpoint after which our satisfication does not increase. "
   ]
  },
  {
   "cell_type": "markdown",
   "metadata": {},
   "source": [
    "### Study the probability of moving to a good rated business depending on the distance from home\n",
    "One problem with the previous figure was that it might be dependent on the actual current review of each places. Meaning, that it might very well be that up-to 100km users are increasingly travelling to good rated businesses, and past the 100km mark, they enter in less known area, and go to businesses less prestigious.    \n",
    "Thus, we will plot the probability to move to a well rated place (i.e with rating equal to 5) depending on the distance travel. \n"
   ]
  },
  {
   "cell_type": "code",
   "execution_count": 46,
   "metadata": {},
   "outputs": [],
   "source": [
    "# Select rows for good reviews and bad reviews\n",
    "df_goodPlaceReviews = df_complete[df_complete['actual_stars'] >= 5]\n",
    "df_badPlaceReviews = df_complete[df_complete['actual_stars'] <= 2]"
   ]
  },
  {
   "cell_type": "code",
   "execution_count": 47,
   "metadata": {},
   "outputs": [],
   "source": [
    "# Compute good reviews and bad reviews for each group\n",
    "goodPlaceReview = df_goodPlaceReviews['review_id'].groupby(pd.cut(df_goodPlaceReviews['distance'], bins=bins)).count()\n",
    "badPlaceReview = df_badPlaceReviews['review_id'].groupby(pd.cut(df_badPlaceReviews['distance'], bins=bins)).count()"
   ]
  },
  {
   "cell_type": "markdown",
   "metadata": {},
   "source": [
    "Plot the result."
   ]
  },
  {
   "cell_type": "code",
   "execution_count": 160,
   "metadata": {},
   "outputs": [
    {
     "data": {
      "text/plain": [
       "Text(0.5, 1.0, 'Probability to go to Good Rated (stars >= 5) Place Depending on Distance')"
      ]
     },
     "execution_count": 160,
     "metadata": {},
     "output_type": "execute_result"
    },
    {
     "data": {
      "image/png": "[encoded data removed]",
      "text/plain": [
       "<Figure size 720x576 with 1 Axes>"
      ]
     },
     "metadata": {
      "needs_background": "light"
     },
     "output_type": "display_data"
    }
   ],
   "source": [
    "# Plot the result\n",
    "plt.figure(figsize=(10,8)) \n",
    "plt.plot(binsCentered,goodPlaceReview/totalReview,'go', linestyle=\"-\", fillstyle=\"none\", markersize=15,label='Good Review')\n",
    "plt.xscale('log')\n",
    "plt.yscale('log')\n",
    "plt.xlabel(\"Check−in distance from home (km)\")\n",
    "plt.ylabel(\"P_GoodReview\")\n",
    "plt.legend(loc=\"lower left\")\n",
    "plt.title(\"Probability to go to Good Rated (stars >= 5) Place Depending on Distance\")"
   ]
  },
  {
   "cell_type": "markdown",
   "metadata": {},
   "source": [
    "**Observations of the plot**     \n",
    "We observe the similar behavour on this plot than on the latter plot: the probability that a user travels to a well rated place increases up-to the 100 km mark. After that mark, the probability to travel to a well-rated business falls sharlpy.    \n",
    "So it appears that our analysis was correct: the probability to give a good review depending on distance has a similar trend than the probability to go to a good reviewed place. Hence, people are more incline to give good review only because they went to better reviewed place.     \n",
    "However, the final conclusion is that up-to 100 km, the probability that a user travels to a good rated place increases with the distance travelled. Passed the 100 km mark, that probability decreases. "
   ]
  },
  {
   "cell_type": "markdown",
   "metadata": {},
   "source": [
    "#### Mean rating of visited places depending on distance "
   ]
  },
  {
   "cell_type": "code",
   "execution_count": 52,
   "metadata": {},
   "outputs": [],
   "source": [
    "meanActualStars = df_complete[['review_id', 'actual_stars']].groupby(pd.cut(df_complete['distance'], bins=bins))['actual_stars'].mean()\n",
    "meanGivenStars = df_complete[['review_id', 'stars']].groupby(pd.cut(df_complete['distance'], bins=bins))['stars'].mean()"
   ]
  },
  {
   "cell_type": "code",
   "execution_count": 156,
   "metadata": {},
   "outputs": [
    {
     "data": {
      "text/plain": [
       "Text(0.5, 1.0, 'Mean Business rating Depending on Distance')"
      ]
     },
     "execution_count": 156,
     "metadata": {},
     "output_type": "execute_result"
    },
    {
     "data": {
      "image/png": "[encoded data removed]",
      "text/plain": [
       "<Figure size 720x432 with 1 Axes>"
      ]
     },
     "metadata": {
      "needs_background": "light"
     },
     "output_type": "display_data"
    }
   ],
   "source": [
    "plt.figure(figsize=(10,6)) \n",
    "plt.plot(binsCentered,meanActualStars,'r*', linestyle=\"-\", markersize=15,label='mean business rating')\n",
    "plt.plot(binsCentered,meanGivenStars,'b*', linestyle=\"-\", markersize=15,label='mean rating given by our selected users')\n",
    "plt.xscale('log')\n",
    "plt.yscale('log')\n",
    "plt.xlabel(\"Check−in distance from home (km)\")\n",
    "plt.ylabel(\"Mean rating\")\n",
    "plt.legend(loc=\"lower right\")\n",
    "plt.title(\"Mean Business rating Depending on Distance\")"
   ]
  },
  {
   "cell_type": "markdown",
   "metadata": {},
   "source": [
    "**Observations of the plot**     \n",
    "We observe that across all distances, the mean rating is always around 3.8. This conforts our decision to choose \"good rating\" as a 5-stars rating and \"bad rating\" as a 2-stars or less rating.     \n",
    "If there is a real incentive to move far (or to not move far), these two type of ratings should encapsulate it. "
   ]
  },
  {
   "cell_type": "markdown",
   "metadata": {},
   "source": [
    "## Words of mouth impact\n",
    "\n",
    "In this section, we want to study friends' ratings influence on mobility with respect to traveling distances. Namely, we study whether friends' ratings can inflence on our mobility, and if yes, how?\n",
    "\n",
    "### Get the reviewed label\n",
    "\n",
    "To start, we distribute a `reviewed label` to each review, which is prepared for later use. The `reviewed label` is used to mark whether the business of the review have been reviewd by at least one of user's friends. If yes, whether her friend had given a good rating or not. <br>\n",
    "We decide to assign 0 to `reviewed label` if no user's friend had reviewed the same business as user, 1 if at least one user's friend had reviewed the same business and gave a bad rating (i.e. rating strictly smaller than 3) and 2 if at least one user's friend had reviewed the same business and gave a good rating (i.e. rating strictly greater than 4)."
   ]
  },
  {
   "cell_type": "code",
   "execution_count": 89,
   "metadata": {},
   "outputs": [
    {
     "data": {
      "text/html": [
       "<div>\n",
       "<style scoped>\n",
       "    .dataframe tbody tr th:only-of-type {\n",
       "        vertical-align: middle;\n",
       "    }\n",
       "\n",
       "    .dataframe tbody tr th {\n",
       "        vertical-align: top;\n",
       "    }\n",
       "\n",
       "    .dataframe thead th {\n",
       "        text-align: right;\n",
       "    }\n",
       "</style>\n",
       "<table border=\"1\" class=\"dataframe\">\n",
       "  <thead>\n",
       "    <tr style=\"text-align: right;\">\n",
       "      <th></th>\n",
       "      <th></th>\n",
       "      <th>date</th>\n",
       "      <th>rating</th>\n",
       "    </tr>\n",
       "    <tr>\n",
       "      <th>user_id</th>\n",
       "      <th>business_id</th>\n",
       "      <th></th>\n",
       "      <th></th>\n",
       "    </tr>\n",
       "  </thead>\n",
       "  <tbody>\n",
       "    <tr>\n",
       "      <th rowspan=\"5\" valign=\"top\">---1lKK3aKOuomHnwAkAow</th>\n",
       "      <th>--9e1ONYQuAa-CB_Rrw7Tw</th>\n",
       "      <td>[2008-11-11 04:40:05]</td>\n",
       "      <td>[4]</td>\n",
       "    </tr>\n",
       "    <tr>\n",
       "      <th>-ErwgUmZ1-jHW_rSu55jlg</th>\n",
       "      <td>[2010-11-09 20:21:52]</td>\n",
       "      <td>[5]</td>\n",
       "    </tr>\n",
       "    <tr>\n",
       "      <th>0YhT9HCBkU394IG6tQVtNQ</th>\n",
       "      <td>[2012-05-01 16:17:54]</td>\n",
       "      <td>[1]</td>\n",
       "    </tr>\n",
       "    <tr>\n",
       "      <th>1JgaRBX0oiRsvEhHF3ZMjw</th>\n",
       "      <td>[2011-02-16 03:58:48]</td>\n",
       "      <td>[1]</td>\n",
       "    </tr>\n",
       "    <tr>\n",
       "      <th>1Vn_lex3LGGwuTo-xeJnww</th>\n",
       "      <td>[2011-02-16 04:16:12]</td>\n",
       "      <td>[5]</td>\n",
       "    </tr>\n",
       "  </tbody>\n",
       "</table>\n",
       "</div>"
      ],
      "text/plain": [
       "                                                                date rating\n",
       "user_id                business_id                                         \n",
       "---1lKK3aKOuomHnwAkAow --9e1ONYQuAa-CB_Rrw7Tw  [2008-11-11 04:40:05]    [4]\n",
       "                       -ErwgUmZ1-jHW_rSu55jlg  [2010-11-09 20:21:52]    [5]\n",
       "                       0YhT9HCBkU394IG6tQVtNQ  [2012-05-01 16:17:54]    [1]\n",
       "                       1JgaRBX0oiRsvEhHF3ZMjw  [2011-02-16 03:58:48]    [1]\n",
       "                       1Vn_lex3LGGwuTo-xeJnww  [2011-02-16 04:16:12]    [5]"
      ]
     },
     "execution_count": 89,
     "metadata": {},
     "output_type": "execute_result"
    }
   ],
   "source": [
    "# Convert date to datatime object\n",
    "df_reviews[\"date\"] = pd.to_datetime(df_reviews.date.values)\n",
    "# Rename columns\n",
    "df_reviews = df_reviews.rename({\"stars\" : \"rating\", \"average_stars\" : \"average_rating\"},axis=1)\n",
    "# Group by user_id and business_id and return the corresponding date and rating\n",
    "df_reviews_groupedUser = df_reviews.groupby([\"user_id\",\"business_id\"])[[\"date\",\"rating\"]].agg(list)\n",
    "# Show an example\n",
    "df_reviews_groupedUser.head()"
   ]
  },
  {
   "cell_type": "code",
   "execution_count": 90,
   "metadata": {},
   "outputs": [],
   "source": [
    "# Group by user_id and business\n",
    "level_user_id = df_reviews_groupedUser.groupby(level='user_id')\n",
    "\n",
    "# Create a dictionary of (user_id, business) → list of date and ratings of the business done by user\n",
    "user_business_date_dict = {}\n",
    "for idx, data in level_user_id:\n",
    "    user_business_date_dict[idx] = {}\n",
    "    for row_index, row in data.iterrows():\n",
    "        user_business_date_dict[idx][row_index[1]] = (row.date,row.rating)"
   ]
  },
  {
   "cell_type": "code",
   "execution_count": 93,
   "metadata": {},
   "outputs": [],
   "source": [
    "friends_dict = df_selectedUsers.set_index(\"user_id\")[\"friend_list\"].to_dict()"
   ]
  },
  {
   "cell_type": "code",
   "execution_count": 94,
   "metadata": {},
   "outputs": [],
   "source": [
    "def get_visit_label(user_id,business_id,date_user):\n",
    "    \"\"\"\n",
    "        Check whether the business has been reviewed by user's friends or not \n",
    "        user_id: id of user\n",
    "        business_id: id of business\n",
    "        date_user: date of review\n",
    "        Returns: rating of the user itself if a friend has left a good review in the same place before,\n",
    "                 -1 otherwise\n",
    "    \"\"\"\n",
    "    # Takes a row of the shape [\"user_id\",\"business_id\",\"date\"]\n",
    "    \n",
    "    # Get friend list of user:\n",
    "    friends = friends_dict.get(user_id)\n",
    "    for friend_id in friends:\n",
    "        friend_dates_rating = user_business_date_dict.get(friend_id, {}).get(business_id)\n",
    "        if(friend_dates_rating != None):\n",
    "            for date,rating in zip(friend_dates_rating[0],friend_dates_rating[1]):\n",
    "                if(date < date_user):\n",
    "                    return rating\n",
    "    return -1\n",
    "\n",
    "# Vectorize the function\n",
    "get_visit_label_vec = np.vectorize(get_visit_label)"
   ]
  },
  {
   "cell_type": "code",
   "execution_count": 98,
   "metadata": {},
   "outputs": [],
   "source": [
    "# Select useful columns\n",
    "selected_reviews_array = np.array(df_selectedReviews[[\"user_id\",\"business_id\",\"date\"]])"
   ]
  },
  {
   "cell_type": "code",
   "execution_count": 101,
   "metadata": {},
   "outputs": [],
   "source": [
    "# Compute ratings if reviewed by a friend before\n",
    "df_selectedReviews[\"reviewed_by_friend_before\"] = get_visit_label_vec(selected_reviews_array[:,0],selected_reviews_array[:,1],selected_reviews_array[:,2])"
   ]
  },
  {
   "cell_type": "code",
   "execution_count": 9,
   "metadata": {},
   "outputs": [],
   "source": [
    "def set_label(rating):\n",
    "    \"\"\"\n",
    "        Determine the visit label for each review\n",
    "        rating: rating of business\n",
    "        Return: 2 if a friend has left a good review (bigger than 4),\n",
    "                1 if a friend has left a bad review (smaller than 3),\n",
    "                0 otherwise\n",
    "    \"\"\"\n",
    "    if rating < 0:\n",
    "        return 0\n",
    "    elif rating < 3:\n",
    "        return 1\n",
    "    elif rating > 4:\n",
    "        return 2\n",
    "    else :\n",
    "        return 0"
   ]
  },
  {
   "cell_type": "markdown",
   "metadata": {},
   "source": [
    "Since those computations are quite heavy, we reload the previously computed labels contaning the rating if a business was reviwed by a friend before."
   ]
  },
  {
   "cell_type": "code",
   "execution_count": 38,
   "metadata": {},
   "outputs": [],
   "source": [
    "selected_reviews_full_info = pd.read_csv('./data/selectedReviewsLabel.csv')"
   ]
  },
  {
   "cell_type": "code",
   "execution_count": 40,
   "metadata": {},
   "outputs": [],
   "source": [
    "#Taking the information we need for the following section\n",
    "df_selectedReviews[\"reviewed_by_friend_before\"] = selected_reviews_full_info[\"reviewed_by_friend_before\"]\n",
    "df_selectedReviews[\"square_id\"] = selected_reviews_full_info[\"square_id\"]\n",
    "df_selectedReviews[\"dist_checkin_home\"]= selected_reviews_full_info[\"dist_checkin_home\"]\n",
    "df_selectedReviews[\"week_day\"]= selected_reviews_full_info[\"week_day\"]"
   ]
  },
  {
   "cell_type": "code",
   "execution_count": 44,
   "metadata": {},
   "outputs": [
    {
     "data": {
      "text/html": [
       "<div>\n",
       "<style scoped>\n",
       "    .dataframe tbody tr th:only-of-type {\n",
       "        vertical-align: middle;\n",
       "    }\n",
       "\n",
       "    .dataframe tbody tr th {\n",
       "        vertical-align: top;\n",
       "    }\n",
       "\n",
       "    .dataframe thead th {\n",
       "        text-align: right;\n",
       "    }\n",
       "</style>\n",
       "<table border=\"1\" class=\"dataframe\">\n",
       "  <thead>\n",
       "    <tr style=\"text-align: right;\">\n",
       "      <th></th>\n",
       "      <th>review_id</th>\n",
       "      <th>user_id</th>\n",
       "      <th>business_id</th>\n",
       "      <th>rating</th>\n",
       "      <th>date</th>\n",
       "      <th>latitude</th>\n",
       "      <th>longitude</th>\n",
       "      <th>categories</th>\n",
       "      <th>average_rating</th>\n",
       "      <th>Construction</th>\n",
       "      <th>...</th>\n",
       "      <th>Entertainment</th>\n",
       "      <th>RealEstate</th>\n",
       "      <th>Automotive</th>\n",
       "      <th>Food</th>\n",
       "      <th>Miscellaneous</th>\n",
       "      <th>Health</th>\n",
       "      <th>reviewed_by_friend_before</th>\n",
       "      <th>square_id</th>\n",
       "      <th>dist_checkin_home</th>\n",
       "      <th>week_day</th>\n",
       "    </tr>\n",
       "  </thead>\n",
       "  <tbody>\n",
       "    <tr>\n",
       "      <th>2224411</th>\n",
       "      <td>m2NRJL_tWRTtsJoOEPr4PA</td>\n",
       "      <td>xdSh3Mjwuq3LWD85su8NKw</td>\n",
       "      <td>g4h7tTyZGqtP-If4ZAoCKA</td>\n",
       "      <td>2</td>\n",
       "      <td>2010-11-03 11:44:12</td>\n",
       "      <td>43.517793</td>\n",
       "      <td>-79.691673</td>\n",
       "      <td>['Restaurants', 'Sushi Bars', 'Japanese']</td>\n",
       "      <td>2.0</td>\n",
       "      <td>False</td>\n",
       "      <td>...</td>\n",
       "      <td>False</td>\n",
       "      <td>False</td>\n",
       "      <td>False</td>\n",
       "      <td>True</td>\n",
       "      <td>False</td>\n",
       "      <td>False</td>\n",
       "      <td>-1</td>\n",
       "      <td>193_-257</td>\n",
       "      <td>33.151050</td>\n",
       "      <td>2</td>\n",
       "    </tr>\n",
       "    <tr>\n",
       "      <th>448179</th>\n",
       "      <td>qRoK3nIhkB5aCOV4M70qFQ</td>\n",
       "      <td>dzhdfLAY0VNq004_qsxzdg</td>\n",
       "      <td>poYsvuOmVDqF4dTnjJ780A</td>\n",
       "      <td>5</td>\n",
       "      <td>2017-06-28 05:55:09</td>\n",
       "      <td>36.116650</td>\n",
       "      <td>-115.138753</td>\n",
       "      <td>['Juice Bars &amp; Smoothies', 'Breakfast &amp; Brunch...</td>\n",
       "      <td>4.5</td>\n",
       "      <td>False</td>\n",
       "      <td>...</td>\n",
       "      <td>False</td>\n",
       "      <td>False</td>\n",
       "      <td>False</td>\n",
       "      <td>True</td>\n",
       "      <td>False</td>\n",
       "      <td>False</td>\n",
       "      <td>5</td>\n",
       "      <td>160_-413</td>\n",
       "      <td>1.901923</td>\n",
       "      <td>2</td>\n",
       "    </tr>\n",
       "  </tbody>\n",
       "</table>\n",
       "<p>2 rows × 30 columns</p>\n",
       "</div>"
      ],
      "text/plain": [
       "                      review_id                 user_id  \\\n",
       "2224411  m2NRJL_tWRTtsJoOEPr4PA  xdSh3Mjwuq3LWD85su8NKw   \n",
       "448179   qRoK3nIhkB5aCOV4M70qFQ  dzhdfLAY0VNq004_qsxzdg   \n",
       "\n",
       "                    business_id  rating                 date   latitude  \\\n",
       "2224411  g4h7tTyZGqtP-If4ZAoCKA       2  2010-11-03 11:44:12  43.517793   \n",
       "448179   poYsvuOmVDqF4dTnjJ780A       5  2017-06-28 05:55:09  36.116650   \n",
       "\n",
       "          longitude                                         categories  \\\n",
       "2224411  -79.691673          ['Restaurants', 'Sushi Bars', 'Japanese']   \n",
       "448179  -115.138753  ['Juice Bars & Smoothies', 'Breakfast & Brunch...   \n",
       "\n",
       "         average_rating  Construction  ...  Entertainment  RealEstate  \\\n",
       "2224411             2.0         False  ...          False       False   \n",
       "448179              4.5         False  ...          False       False   \n",
       "\n",
       "         Automotive  Food  Miscellaneous  Health  reviewed_by_friend_before  \\\n",
       "2224411       False  True          False   False                         -1   \n",
       "448179        False  True          False   False                          5   \n",
       "\n",
       "         square_id  dist_checkin_home  week_day  \n",
       "2224411   193_-257          33.151050         2  \n",
       "448179    160_-413           1.901923         2  \n",
       "\n",
       "[2 rows x 30 columns]"
      ]
     },
     "execution_count": 44,
     "metadata": {},
     "output_type": "execute_result"
    }
   ],
   "source": [
    "df_selectedReviews.sample(2)"
   ]
  },
  {
   "cell_type": "code",
   "execution_count": 45,
   "metadata": {},
   "outputs": [],
   "source": [
    "# Assign label to each review\n",
    "# 2 if a friend of user has left a good review,\n",
    "# 1 if a friend of user has left a bad review,\n",
    "# 0 otherwise\n",
    "df_selectedReviews[\"review_label\"] = df_selectedReviews[\"reviewed_by_friend_before\"].apply(set_label)"
   ]
  },
  {
   "cell_type": "markdown",
   "metadata": {},
   "source": [
    "### Study friends' ratings influence on mobility\n",
    "\n",
    "Only checkins of the business where at least one of user's friends have been a reviewed before are studied. We aim to compute the probability to move to a well reviewed (by our friends) business with respect to distance, and the probability to move to a badly reviewed (by our friends) business with respect to distance, and finally, compare the results."
   ]
  },
  {
   "cell_type": "code",
   "execution_count": 51,
   "metadata": {},
   "outputs": [],
   "source": [
    "# Work on a copy\n",
    "newframe = df_homes[['user_id']].copy()\n",
    "# Create a tuple of (latitude,longitude) for each check-in\n",
    "newframe['latlong'] = list(zip(df_homes['latitude_home'],df_homes['longitude_home']))\n",
    "# Create the dictionary mapping from cell_id to all check-ins done in the cell\n",
    "dict_user_home = newframe.groupby('user_id')['latlong'].apply(list).to_dict()"
   ]
  },
  {
   "cell_type": "code",
   "execution_count": 156,
   "metadata": {},
   "outputs": [],
   "source": [
    "# List all distances between check-in location and user's home\n",
    "distances = df_selectedReviews['dist_checkin_home'].values\n",
    "# Prepare the distance groups for the plot\n",
    "number_distance_groups = 10\n",
    "# Define interval of travelling distance\n",
    "interval_dist_min = 0.1\n",
    "interval_dist_max = max(distances)\n",
    "# Define non linear distance intervals\n",
    "interval_dist = np.geomspace(interval_dist_min , interval_dist_max, number_distance_groups)"
   ]
  },
  {
   "cell_type": "code",
   "execution_count": 183,
   "metadata": {
    "scrolled": true
   },
   "outputs": [
    {
     "data": {
      "text/html": [
       "<div>\n",
       "<style scoped>\n",
       "    .dataframe tbody tr th:only-of-type {\n",
       "        vertical-align: middle;\n",
       "    }\n",
       "\n",
       "    .dataframe tbody tr th {\n",
       "        vertical-align: top;\n",
       "    }\n",
       "\n",
       "    .dataframe thead th {\n",
       "        text-align: right;\n",
       "    }\n",
       "</style>\n",
       "<table border=\"1\" class=\"dataframe\">\n",
       "  <thead>\n",
       "    <tr style=\"text-align: right;\">\n",
       "      <th></th>\n",
       "      <th>Unnamed: 0</th>\n",
       "      <th>review_id</th>\n",
       "      <th>user_id</th>\n",
       "      <th>business_id</th>\n",
       "      <th>stars_x</th>\n",
       "      <th>date</th>\n",
       "      <th>latitude</th>\n",
       "      <th>longitude</th>\n",
       "      <th>stars_y</th>\n",
       "      <th>reviewed_by_friend_before</th>\n",
       "      <th>square_id</th>\n",
       "      <th>dist_checkin_home</th>\n",
       "      <th>week_day</th>\n",
       "    </tr>\n",
       "  </thead>\n",
       "  <tbody>\n",
       "    <tr>\n",
       "      <th>0</th>\n",
       "      <td>1</td>\n",
       "      <td>t7xOZF5UKXjSpVcXLOSAgw</td>\n",
       "      <td>owbC7FP8SNAlwv6f9S5Stw</td>\n",
       "      <td>-MhfebM0QIsKt87iDN-FNw</td>\n",
       "      <td>2</td>\n",
       "      <td>2014-03-14 08:24:25</td>\n",
       "      <td>36.112896</td>\n",
       "      <td>-115.177637</td>\n",
       "      <td>3.5</td>\n",
       "      <td>-1</td>\n",
       "      <td>160_-413</td>\n",
       "      <td>3.490097</td>\n",
       "      <td>4</td>\n",
       "    </tr>\n",
       "    <tr>\n",
       "      <th>1</th>\n",
       "      <td>2</td>\n",
       "      <td>MimB5Xh85rG7phUMPrShag</td>\n",
       "      <td>v9vGnjphb0Hta0lvtf5haA</td>\n",
       "      <td>-MhfebM0QIsKt87iDN-FNw</td>\n",
       "      <td>3</td>\n",
       "      <td>2015-10-07 22:16:59</td>\n",
       "      <td>36.112896</td>\n",
       "      <td>-115.177637</td>\n",
       "      <td>3.5</td>\n",
       "      <td>-1</td>\n",
       "      <td>160_-413</td>\n",
       "      <td>1.435575</td>\n",
       "      <td>2</td>\n",
       "    </tr>\n",
       "  </tbody>\n",
       "</table>\n",
       "</div>"
      ],
      "text/plain": [
       "   Unnamed: 0               review_id                 user_id  \\\n",
       "0           1  t7xOZF5UKXjSpVcXLOSAgw  owbC7FP8SNAlwv6f9S5Stw   \n",
       "1           2  MimB5Xh85rG7phUMPrShag  v9vGnjphb0Hta0lvtf5haA   \n",
       "\n",
       "              business_id  stars_x                date   latitude   longitude  \\\n",
       "0  -MhfebM0QIsKt87iDN-FNw        2 2014-03-14 08:24:25  36.112896 -115.177637   \n",
       "1  -MhfebM0QIsKt87iDN-FNw        3 2015-10-07 22:16:59  36.112896 -115.177637   \n",
       "\n",
       "   stars_y  reviewed_by_friend_before square_id  dist_checkin_home  week_day  \n",
       "0      3.5                         -1  160_-413           3.490097         4  \n",
       "1      3.5                         -1  160_-413           1.435575         2  "
      ]
     },
     "execution_count": 183,
     "metadata": {},
     "output_type": "execute_result"
    }
   ],
   "source": [
    "# Compute id of distance group for each review (splitting check-ins into buckets)\n",
    "df_selectedReviews['id_groups'] = df_selectedReviews['dist_checkin_home'].apply(lambda x: bisect(interval_dist, x))\n",
    "# Show an example\n",
    "df_selectedReviews.head(2)"
   ]
  },
  {
   "cell_type": "code",
   "execution_count": 159,
   "metadata": {},
   "outputs": [],
   "source": [
    "def compute_fractions(df,number_distance_groups):\n",
    "    \"\"\"\n",
    "        Compute the popability of travelling(recommended (or not) by at least one friend) as a funtion of distance travelled\n",
    "        df: dataframe\n",
    "        number_distance_groups: number of distance groups\n",
    "        Return: porbability that user travels with/without friends' recommendation as a function of distance\n",
    "    \"\"\"\n",
    "    # Group the dataframe by id_groups and review label\n",
    "    grouped = df.groupby(['id_groups','review_label']).count()['user_id'].reset_index()\n",
    "    # Count the numbers of each label in the same group\n",
    "    grouped.rename(columns = {'user_id':'counts'},inplace=True)\n",
    "    # Create a dictionary mapping from (group_id, label) to the number of counts\n",
    "    dict_group_revlabel = grouped.groupby(['id_groups','review_label'])['counts'].apply(list).apply(np.squeeze).to_dict()\n",
    "    \n",
    "    # Initialize arrays\n",
    "    good_reviews = []\n",
    "    bad_reviews = []\n",
    "    \n",
    "    # For all groups\n",
    "    for group_id in range(number_distance_groups):\n",
    "        # Find all reviews in the group\n",
    "        target_rows = np.where(df['id_groups']==group_id)[0]\n",
    "        tot = float(len(target_rows))\n",
    "        if(tot==0):\n",
    "            # When there is no review for this group, append 0 to the fraction\n",
    "            good_reviews.append(0)\n",
    "            bad_reviews.append(0)\n",
    "        else:\n",
    "            # Count the number of recommended and not recommended reviews within the group\n",
    "            group_good = (dict_group_revlabel.get((group_id,2))or 0)\n",
    "            group_bad = (dict_group_revlabel.get((group_id,1))or 0)\n",
    "            # Compute the porbability that user travels with/without friends' recommendation\n",
    "            good_reviews.append(group_good/tot) \n",
    "            bad_reviews.append(group_bad/tot)\n",
    "            \n",
    "    return good_reviews,bad_reviews"
   ]
  },
  {
   "cell_type": "code",
   "execution_count": 160,
   "metadata": {},
   "outputs": [],
   "source": [
    "# Compute the popability of travelling(recommended (or not) by at least one friend) as a funtion of distance travelled\n",
    "good_reviews,bad_reviews = compute_fractions(df_selectedReviews,number_distance_groups)"
   ]
  },
  {
   "cell_type": "code",
   "execution_count": 161,
   "metadata": {
    "scrolled": false
   },
   "outputs": [
    {
     "data": {
      "image/png": "[encoded data removed]",
      "text/plain": [
       "<Figure size 864x432 with 1 Axes>"
      ]
     },
     "metadata": {
      "needs_background": "light"
     },
     "output_type": "display_data"
    }
   ],
   "source": [
    "# Plot the result\n",
    "plt.figure(figsize=(12, 6))\n",
    "# What I obtain previously, with the first P_null\n",
    "#plt.subplot(121)\n",
    "plt.plot(interval_dist,good_reviews,'r*-', markersize=10,label='Travel to a business recommended by a friend)')\n",
    "plt.plot(interval_dist,bad_reviews,'bo-', markersize=10,label='Travel to a business NOT recommended by a friend)')\n",
    "plt.xscale('log')\n",
    "plt.yscale('log')\n",
    "plt.ylabel(\"Porbability of going to a business at distance d\")\n",
    "plt.xlabel(\"Check−in distance from home (km)\")\n",
    "plt.legend(loc=\"lower left\")\n",
    "plt.title(\"Influence of a friend review on mobility\")\n",
    "\n",
    "plt.show()"
   ]
  },
  {
   "cell_type": "markdown",
   "metadata": {},
   "source": [
    "##### Discussion:\n",
    "\n",
    "This plot shows for each distance, the proportion of check-ins that were made after a friend left a good review (red curve) or after a friend left a bad review (blue curve) over all check-ins. We can as expected see that there is a gap between the two curves, the probablty of going to a business well rated by friends is higher than the probability of going to a business not well rated. Now seeing how these curves evolve over the distance is interesting, as both probabilities go higher for the first ten kilometers from home, before going back down. So as the distance gets bigger, a friends influence gets smaller (at least when it comes to well rated businesses by friends). For the blue curve, the probability that someone goes to a business after it was badly rated by a friend gets smaller, which could be explained by the influence of the friends review but probably because we have less friends as the distance gets bigger so less reviews to get influenced by."
   ]
  },
  {
   "cell_type": "markdown",
   "metadata": {},
   "source": [
    "## Week day study\n",
    "In this section, we aim to study the pattern of humain mobility depending on week day. To do so, all reviews are grouped by week day, then the probability of travelling as a function of distance travelled is computed for each day of the week."
   ]
  },
  {
   "cell_type": "code",
   "execution_count": 67,
   "metadata": {},
   "outputs": [],
   "source": [
    "# Apply weekday() to each date in the dataframe\n",
    "df_selectedReviews[\"week_day\"]=df_selectedReviews.date.apply(lambda x : x.weekday())"
   ]
  },
  {
   "cell_type": "code",
   "execution_count": 68,
   "metadata": {},
   "outputs": [],
   "source": [
    "def compute_fractions_week(df,number_distance_groups):\n",
    "    \"\"\"\n",
    "        For each day of the week, compute the popability of travelling as a funtion of distance travelled\n",
    "        df: dataframe\n",
    "        number_distance_groups: number of distance groups\n",
    "        Return: porbability that user travels as a function of distance for each day\n",
    "    \"\"\"\n",
    "    # Group the dataframe by id_groups and week day\n",
    "    grouped = df.groupby(['id_groups','week_day']).count()['user_id'].reset_index()\n",
    "    # Count the numbers of each label in the same group\n",
    "    grouped.rename(columns = {'user_id':'counts'},inplace=True)\n",
    "    # Create a dictionary mapping from (group_id, week day) to the number of counts\n",
    "    dict_group_revlabel = grouped.groupby(['id_groups','week_day'])['counts'].apply(list).apply(np.squeeze).to_dict()\n",
    "    \n",
    "    # Initialize arrays\n",
    "    mon_reviews = []\n",
    "    tue_reviews = []\n",
    "    wed_reviews = []\n",
    "    thu_reviews = []\n",
    "    fri_reviews = []\n",
    "    sat_reviews = []\n",
    "    sun_reviews = []\n",
    "    \n",
    "    # For all groups\n",
    "    for group_id in range(number_distance_groups):\n",
    "        # Find all reviews in the group\n",
    "        target_rows = np.where(df['id_groups']==group_id)[0]\n",
    "        tot = float(len(target_rows))\n",
    "        if(tot==0):\n",
    "            # When there is no review for this group, append 0 to the fraction\n",
    "            good_reviews.append(0)\n",
    "            bad_reviews.append(0)\n",
    "        else:\n",
    "            # Count the number of reviews for each week day within the group\n",
    "            group_mon = (dict_group_revlabel.get((group_id,0))or 0)\n",
    "            group_tue = (dict_group_revlabel.get((group_id,1))or 0)\n",
    "            group_wed = (dict_group_revlabel.get((group_id,2))or 0)\n",
    "            group_thu = (dict_group_revlabel.get((group_id,3))or 0)\n",
    "            group_fri = (dict_group_revlabel.get((group_id,4))or 0)\n",
    "            group_sat = (dict_group_revlabel.get((group_id,5))or 0)\n",
    "            group_sun = (dict_group_revlabel.get((group_id,6))or 0)\n",
    "            # Compute the porbability that user travels as a function of distance for each day\n",
    "            mon_reviews.append(group_mon/tot) \n",
    "            tue_reviews.append(group_tue/tot)\n",
    "            wed_reviews.append(group_wed/tot)\n",
    "            thu_reviews.append(group_thu/tot)\n",
    "            fri_reviews.append(group_fri/tot)\n",
    "            sat_reviews.append(group_sat/tot)\n",
    "            sun_reviews.append(group_sun/tot)\n",
    "            \n",
    "    return mon_reviews,tue_reviews,wed_reviews,thu_reviews,fri_reviews,sat_reviews,sun_reviews"
   ]
  },
  {
   "cell_type": "code",
   "execution_count": 69,
   "metadata": {},
   "outputs": [],
   "source": [
    "# Compute fractions for all week days\n",
    "mon_reviews,tue_reviews,wed_reviews,thu_reviews,fri_reviews,sat_reviews,sun_reviews = compute_fractions_week(df_selectedReviews_v2,number_distance_groups)"
   ]
  },
  {
   "cell_type": "code",
   "execution_count": 148,
   "metadata": {
    "scrolled": false
   },
   "outputs": [
    {
     "data": {
      "image/png": "[encoded data removed]",
      "text/plain": [
       "<Figure size 864x432 with 1 Axes>"
      ]
     },
     "metadata": {
      "needs_background": "light"
     },
     "output_type": "display_data"
    }
   ],
   "source": [
    "# Plot the result\n",
    "plt.figure(figsize=(12, 6))\n",
    "# What I obtain previously, with the first P_null\n",
    "#plt.subplot(121)\n",
    "plt.plot(interval_dist,mon_reviews,'ro-', markersize=10,label='Travel to a business on monday')\n",
    "plt.plot(interval_dist,tue_reviews,'bo-', markersize=10,label='Travel to a business on tuesday')\n",
    "plt.plot(interval_dist,wed_reviews,'co-', markersize=10,label='Travel to a business on wednesday')\n",
    "plt.plot(interval_dist,thu_reviews,'yo-', markersize=10,label='Travel to a business on thursday')\n",
    "plt.plot(interval_dist,fri_reviews,'go-', markersize=10,label='Travel to a business on friday')\n",
    "plt.plot(interval_dist,sat_reviews,'mo-', markersize=10,label='Travel to a business on saturday')\n",
    "plt.plot(interval_dist,sun_reviews,'ko-', markersize=10,label='Travel to a business on sunday')\n",
    "plt.xscale('log')\n",
    "plt.yscale('log')\n",
    "plt.ylabel(\"Probability of checking in to a business at distance d\")\n",
    "plt.xlabel(\"Check−in distance from home (km)\")\n",
    "plt.legend(loc=\"lower left\")\n",
    "plt.title(\"Influence of the day of the week on the check-in probability\")\n",
    "\n",
    "plt.show()"
   ]
  },
  {
   "cell_type": "markdown",
   "metadata": {},
   "source": [
    "##### Discussion:\n",
    "\n",
    "We had excpected that on week-ends, the probability that a user travels further would get higher, which we can in part observe here: for Saturday, Sunday and Monday, the probability does get higher until the 100km mark then goes back down (which does make some sense). But for week days, the probability goes down for the first 100km but then goes back up (except for Friday), which could indicate that during week days, if someone travels far it's probably to go further than 100km (we could imagine some kind of business trip or vacation)."
   ]
  },
  {
   "cell_type": "markdown",
   "metadata": {},
   "source": [
    "### Influence of friend's reviews depending on week day"
   ]
  },
  {
   "cell_type": "markdown",
   "metadata": {},
   "source": [
    "We will now see if the influence of a user's friend's good and bad reviews evolves depending on the day of the week. Intuitively we would expect that on week-end, user's are more likely to move further away than during a week day following a friend's good review. Let's see how it actually is:"
   ]
  },
  {
   "cell_type": "code",
   "execution_count": 149,
   "metadata": {},
   "outputs": [],
   "source": [
    "# Fetch reviews by week day\n",
    "mon_checkins = df_selectedReviews[df_selectedReviews[\"week_day\"] == 0]\n",
    "tue_checkins = df_selectedReviews[df_selectedReviews[\"week_day\"] == 1]\n",
    "wed_checkins = df_selectedReviews[df_selectedReviews[\"week_day\"] == 2]\n",
    "thu_checkins = df_selectedReviews[df_selectedReviews[\"week_day\"] == 3]\n",
    "fri_checkins = df_selectedReviews[df_selectedReviews[\"week_day\"] == 4]\n",
    "sat_checkins = df_selectedReviews[df_selectedReviews[\"week_day\"] == 5]\n",
    "sun_checkins = df_selectedReviews[df_selectedReviews[\"week_day\"] == 6]"
   ]
  },
  {
   "cell_type": "code",
   "execution_count": 150,
   "metadata": {},
   "outputs": [],
   "source": [
    "# Compute fractions for each week day\n",
    "mon_good_reviews,mon_bad_reviews = compute_fractions(mon_checkins,number_distance_groups)\n",
    "tue_good_reviews,tue_bad_reviews = compute_fractions(tue_checkins,number_distance_groups)\n",
    "wed_good_reviews,wed_bad_reviews = compute_fractions(wed_checkins,number_distance_groups)\n",
    "thu_good_reviews,thu_bad_reviews = compute_fractions(thu_checkins,number_distance_groups)\n",
    "fri_good_reviews,fri_bad_reviews = compute_fractions(fri_checkins,number_distance_groups)\n",
    "sat_good_reviews,sat_bad_reviews = compute_fractions(sat_checkins,number_distance_groups)\n",
    "sun_good_reviews,sun_bad_reviews = compute_fractions(sun_checkins,number_distance_groups)"
   ]
  },
  {
   "cell_type": "code",
   "execution_count": 151,
   "metadata": {},
   "outputs": [
    {
     "data": {
      "text/plain": [
       "<matplotlib.legend.Legend at 0x7fe3fceca1c0>"
      ]
     },
     "execution_count": 151,
     "metadata": {},
     "output_type": "execute_result"
    },
    {
     "data": {
      "image/png": "[encoded data removed]",
      "text/plain": [
       "<Figure size 1008x1080 with 8 Axes>"
      ]
     },
     "metadata": {
      "needs_background": "light"
     },
     "output_type": "display_data"
    }
   ],
   "source": [
    "# Plot the result\n",
    "f, ax = plt.subplots(4, 2, figsize=(14, 15))\n",
    "ax[0,0].plot(interval_dist,mon_good_reviews,'r*-', markersize=10,label='Travel to a business recommended by a friend)')\n",
    "ax[0,0].plot(interval_dist,mon_bad_reviews,'bo-', markersize=10,label='Travel to a business NOT recommended by a friend)')\n",
    "ax[0,0].set_xscale('log')\n",
    "ax[0,0].set_yscale('log')\n",
    "ax[0,0].set_ylabel(\"Probability\")\n",
    "ax[0,0].set_xlabel(\"Check−in distance from home (km)\")\n",
    "ax[0,0].set_title(\"Monday\")\n",
    "\n",
    "ax[0,1].plot(interval_dist,tue_good_reviews,'r*-', markersize=10,label='Travel to a business recommended by a friend)')\n",
    "ax[0,1].plot(interval_dist,tue_bad_reviews,'bo-', markersize=10,label='Travel to a business NOT recommended by a friend)')\n",
    "ax[0,1].set_xscale('log')\n",
    "ax[0,1].set_yscale('log')\n",
    "ax[0,1].set_xlabel(\"Check−in distance from home (km)\")\n",
    "ax[0,1].set_title(\"Tuesday\")\n",
    "\n",
    "ax[1,0].plot(interval_dist,wed_good_reviews,'r*-', markersize=10,label='Travel to a business recommended by a friend)')\n",
    "ax[1,0].plot(interval_dist,wed_bad_reviews,'bo-', markersize=10,label='Travel to a business NOT recommended by a friend)')\n",
    "ax[1,0].set_xscale('log')\n",
    "ax[1,0].set_yscale('log')\n",
    "ax[1,0].set_ylabel(\"Probability\")\n",
    "ax[1,0].set_xlabel(\"Check−in distance from home (km)\")\n",
    "ax[1,0].set_title(\"Wednesday\")\n",
    "\n",
    "ax[1,1].plot(interval_dist,thu_good_reviews,'r*-', markersize=10,label='Travel to a business recommended by a friend)')\n",
    "ax[1,1].plot(interval_dist,thu_bad_reviews,'bo-', markersize=10,label='Travel to a business NOT recommended by a friend)')\n",
    "ax[1,1].set_xscale('log')\n",
    "ax[1,1].set_yscale('log')\n",
    "ax[1,1].set_xlabel(\"Check−in distance from home (km)\")\n",
    "ax[1,1].set_title(\"Thursday\")\n",
    "\n",
    "ax[2,0].plot(interval_dist,fri_good_reviews,'r*-', markersize=10,label='Travel to a business recommended by a friend)')\n",
    "ax[2,0].plot(interval_dist,fri_bad_reviews,'bo-', markersize=10,label='Travel to a business NOT recommended by a friend)')\n",
    "ax[2,0].set_xscale('log')\n",
    "ax[2,0].set_yscale('log')\n",
    "ax[2,0].set_ylabel(\"Probability\")\n",
    "ax[2,0].set_xlabel(\"Check−in distance from home (km)\")\n",
    "ax[2,0].set_title(\"Friday\")\n",
    "\n",
    "ax[2,1].plot(interval_dist,sat_good_reviews,'r*-', markersize=10,label='Travel to a business recommended by a friend)')\n",
    "ax[2,1].plot(interval_dist,sat_bad_reviews,'bo-', markersize=10,label='Travel to a business NOT recommended by a friend)')\n",
    "ax[2,1].set_xscale('log')\n",
    "ax[2,1].set_yscale('log')\n",
    "ax[2,1].set_xlabel(\"Check−in distance from home (km)\")\n",
    "ax[2,1].set_title(\"Saturday\")\n",
    "\n",
    "ax[3,0].plot(interval_dist,sun_good_reviews,'r*-', markersize=10,label='Travel to a business recommended by a friend)')\n",
    "ax[3,0].plot(interval_dist,sun_bad_reviews,'bo-', markersize=10,label='Travel to a business NOT recommended by a friend)')\n",
    "ax[3,0].set_xscale('log')\n",
    "ax[3,0].set_yscale('log')\n",
    "ax[3,0].set_ylabel(\"Probability\")\n",
    "ax[3,0].set_xlabel(\"Check−in distance from home (km)\")\n",
    "ax[3,0].set_title(\"Sunday\")\n",
    "\n",
    "ax[3,1].plot(interval_dist,good_reviews,'r*-', markersize=10,label='Travel to a business recommended by a friend)')\n",
    "ax[3,1].plot(interval_dist,bad_reviews,'bo-', markersize=10,label='Travel to a business NOT recommended by a friend)')\n",
    "ax[3,1].set_xscale('log')\n",
    "ax[3,1].set_yscale('log')\n",
    "ax[3,1].set_xlabel(\"Check−in distance from home (km)\")\n",
    "ax[3,1].set_title(\"All Week\")\n",
    "f.tight_layout()\n",
    "\n",
    "handles, labels = ax[0,0].get_legend_handles_labels()\n",
    "f.legend(handles, labels, loc='center')"
   ]
  },
  {
   "cell_type": "markdown",
   "metadata": {},
   "source": [
    "##### Discussion:\n",
    "Unfortunately, this is not giving us much more information. We can see that plot for all seven days of the week are pretty similar to our original plot for friends's reviews influence. It seems that the day of the week doesn't have much impact on friend's influence on check-ins."
   ]
  },
  {
   "cell_type": "markdown",
   "metadata": {},
   "source": [
    "### Category study\n",
    "In this section, we aim to study whether depending on the category, the influence of friend's review changes. We excpect some differences, even though a friend gave a great review to this real sport center very far from my home, I'm still not very likely to go there, since I can find one closer to my place. However, if a friend gave a great review to one a restaurant far away from my house, then I still might go there."
   ]
  },
  {
   "cell_type": "code",
   "execution_count": 152,
   "metadata": {},
   "outputs": [
    {
     "data": {
      "text/plain": [
       "Index(['Construction', 'Computers', 'Home', 'Merchant', 'Manufacturing',\n",
       "       'Travel', 'Sport', 'Education', 'Legal', 'BusinessSupport',\n",
       "       'PersonalCare', 'Entertainment', 'RealEstate', 'Automotive', 'Food',\n",
       "       'Miscellaneous', 'Health'],\n",
       "      dtype='object')"
      ]
     },
     "execution_count": 152,
     "metadata": {},
     "output_type": "execute_result"
    }
   ],
   "source": [
    "# Fetch all categories\n",
    "categories = df_selectedReviews.columns[9:26]\n",
    "categories"
   ]
  },
  {
   "cell_type": "code",
   "execution_count": 101,
   "metadata": {},
   "outputs": [],
   "source": [
    "# Work on a copy\n",
    "df_selectedReviews_cat = df_selectedReviews.copy()"
   ]
  },
  {
   "cell_type": "code",
   "execution_count": 153,
   "metadata": {},
   "outputs": [],
   "source": [
    "# Let's do the same but now over all reviews\n",
    "# Let's get for each categories, the corresponding check-ins\n",
    "check_in_per_category = []\n",
    "for cat in categories:\n",
    "    check_in_per_category.append(df_selectedReviews_cat[df_selectedReviews_cat[cat] == True].drop(categories,axis = 1))"
   ]
  },
  {
   "cell_type": "code",
   "execution_count": 154,
   "metadata": {},
   "outputs": [],
   "source": [
    "# For each category, get the fractions of good and bad reviews\n",
    "good_bad_reviews_cat = []\n",
    "for df in check_in_per_category:\n",
    "    good_bad_reviews_cat.append(compute_fractions(df,number_distance_groups))\n",
    "good_bad_reviews_cat.append(compute_fractions(df_selectedReviews_cat,number_distance_groups))"
   ]
  },
  {
   "cell_type": "code",
   "execution_count": 155,
   "metadata": {},
   "outputs": [
    {
     "data": {
      "text/plain": [
       "Text(0.5, 1.0, 'All categories')"
      ]
     },
     "execution_count": 155,
     "metadata": {},
     "output_type": "execute_result"
    },
    {
     "data": {
      "image/png": "[encoded data removed]",
      "text/plain": [
       "<Figure size 1008x1800 with 18 Axes>"
      ]
     },
     "metadata": {
      "needs_background": "light"
     },
     "output_type": "display_data"
    }
   ],
   "source": [
    "# Plot the result\n",
    "f, ax = plt.subplots(9, 2, figsize=(14, 25))\n",
    "i = 0\n",
    "for cat in categories:\n",
    "    ix = i%9\n",
    "    iy = i%2\n",
    "    ax[ix,iy].plot(interval_dist,good_bad_reviews_cat[i][0],'r*-', markersize=10,label='Travel to a business recommended by a friend)')\n",
    "    ax[ix,iy].plot(interval_dist,good_bad_reviews_cat[i][1],'bo-', markersize=10,label='Travel to a business NOT recommended by a friend)')\n",
    "    ax[ix,iy].set_xscale('log')\n",
    "    ax[ix,iy].set_yscale('log')\n",
    "    ax[ix,iy].set_ylabel(\"Probability\")\n",
    "    ax[ix,iy].set_xlabel(\"Check−in distance from home (km)\")\n",
    "    ax[ix,iy].set_title(cat)\n",
    "    i += 1\n",
    "\n",
    "ax[8,1].plot(interval_dist,good_bad_reviews_cat[i][0],'r*-', markersize=10,label='Travel to a business recommended by a friend)')\n",
    "ax[8,1].plot(interval_dist,good_bad_reviews_cat[i][1],'bo-', markersize=10,label='Travel to a business NOT recommended by a friend)')\n",
    "ax[8,1].set_xscale('log')\n",
    "ax[8,1].set_yscale('log')\n",
    "ax[8,1].set_ylabel(\"Probability\")\n",
    "ax[8,1].set_xlabel(\"Check−in distance from home (km)\")\n",
    "f.tight_layout()\n",
    "ax[8,1].set_title('All categories')"
   ]
  },
  {
   "cell_type": "markdown",
   "metadata": {},
   "source": [
    "##### Discussion:\n",
    "This on the other hand does give us some more intersting insights. Depending on the categories the influence of bad and good friends reviews changes. We will not go over all categories but let's note a few intersting tendencies. \n",
    "The most intersting plots are for the categories Real Estate and Manufacturing, where both the probabilities of doing a check in after a good friend review and bad friend review get really close to each other as distance gets higher. This means that as distance gets higher the opinion of a friend on a business isn't really important. We could see this as: even if the friend reviews are (or bad), if there are too far, some type of business are not worth the long distance travelling, which is understandable for Real Estate or Manufacturing.\n",
    "The categories with the biggest gaps between the two curves are Food and Entertainment, meaning that the friends opinion have the most influence here, regardless of the distance, which is what we would have expceted for those two categories. Indeed, food and entertainment particularly, if well reviewed by friends, are more likely to make people move further: if an excellent restaurant or a great escape game a friend recommended is far away, the user still might go (when it wouldn't really if the friend gave bad reviews)."
   ]
  },
  {
   "cell_type": "markdown",
   "metadata": {},
   "source": [
    "##  Well rated business and poorely rated buisnesses\n",
    "Do well rated business have a greater visitorship then poorely rated buisnesses? (Obersvational Studies)"
   ]
  },
  {
   "cell_type": "markdown",
   "metadata": {},
   "source": [
    "### Distribution of the number of visits of well rated places vs badly rated places\n",
    "We will first try to understand if a well rated business attracts more people than badly rated businesses."
   ]
  },
  {
   "cell_type": "code",
   "execution_count": 82,
   "metadata": {},
   "outputs": [
    {
     "data": {
      "text/html": [
       "<div>\n",
       "<style scoped>\n",
       "    .dataframe tbody tr th:only-of-type {\n",
       "        vertical-align: middle;\n",
       "    }\n",
       "\n",
       "    .dataframe tbody tr th {\n",
       "        vertical-align: top;\n",
       "    }\n",
       "\n",
       "    .dataframe thead th {\n",
       "        text-align: right;\n",
       "    }\n",
       "</style>\n",
       "<table border=\"1\" class=\"dataframe\">\n",
       "  <thead>\n",
       "    <tr style=\"text-align: right;\">\n",
       "      <th></th>\n",
       "      <th>business_id</th>\n",
       "      <th>state</th>\n",
       "      <th>latitude</th>\n",
       "      <th>longitude</th>\n",
       "      <th>categories</th>\n",
       "      <th>stars</th>\n",
       "      <th>state</th>\n",
       "      <th>Sport</th>\n",
       "      <th>Computers</th>\n",
       "      <th>Entertainment</th>\n",
       "      <th>...</th>\n",
       "      <th>Miscellaneous</th>\n",
       "      <th>Home</th>\n",
       "      <th>PersonalCare</th>\n",
       "      <th>RealEstate</th>\n",
       "      <th>Legal</th>\n",
       "      <th>Health</th>\n",
       "      <th>Travel</th>\n",
       "      <th>Automotive</th>\n",
       "      <th>Food</th>\n",
       "      <th>Merchant</th>\n",
       "    </tr>\n",
       "  </thead>\n",
       "  <tbody>\n",
       "    <tr>\n",
       "      <th>0</th>\n",
       "      <td>f9NumwFMBDn751xgFiRbNA</td>\n",
       "      <td>NC</td>\n",
       "      <td>35.462724</td>\n",
       "      <td>-80.852612</td>\n",
       "      <td>[Active Life, Gun/Rifle Ranges, Guns &amp; Ammo, S...</td>\n",
       "      <td>3.5</td>\n",
       "      <td>NC</td>\n",
       "      <td>False</td>\n",
       "      <td>False</td>\n",
       "      <td>True</td>\n",
       "      <td>...</td>\n",
       "      <td>False</td>\n",
       "      <td>False</td>\n",
       "      <td>True</td>\n",
       "      <td>False</td>\n",
       "      <td>False</td>\n",
       "      <td>False</td>\n",
       "      <td>False</td>\n",
       "      <td>False</td>\n",
       "      <td>False</td>\n",
       "      <td>True</td>\n",
       "    </tr>\n",
       "    <tr>\n",
       "      <th>1</th>\n",
       "      <td>Yzvjg0SayhoZgCljUJRF9Q</td>\n",
       "      <td>AZ</td>\n",
       "      <td>33.569404</td>\n",
       "      <td>-111.890264</td>\n",
       "      <td>[Health &amp; Medical, Fitness &amp; Instruction, Yoga...</td>\n",
       "      <td>5.0</td>\n",
       "      <td>AZ</td>\n",
       "      <td>True</td>\n",
       "      <td>False</td>\n",
       "      <td>False</td>\n",
       "      <td>...</td>\n",
       "      <td>False</td>\n",
       "      <td>False</td>\n",
       "      <td>True</td>\n",
       "      <td>False</td>\n",
       "      <td>False</td>\n",
       "      <td>True</td>\n",
       "      <td>False</td>\n",
       "      <td>False</td>\n",
       "      <td>False</td>\n",
       "      <td>False</td>\n",
       "    </tr>\n",
       "  </tbody>\n",
       "</table>\n",
       "<p>2 rows × 24 columns</p>\n",
       "</div>"
      ],
      "text/plain": [
       "              business_id state   latitude   longitude  \\\n",
       "0  f9NumwFMBDn751xgFiRbNA    NC  35.462724  -80.852612   \n",
       "1  Yzvjg0SayhoZgCljUJRF9Q    AZ  33.569404 -111.890264   \n",
       "\n",
       "                                          categories  stars state  Sport  \\\n",
       "0  [Active Life, Gun/Rifle Ranges, Guns & Ammo, S...    3.5    NC  False   \n",
       "1  [Health & Medical, Fitness & Instruction, Yoga...    5.0    AZ   True   \n",
       "\n",
       "   Computers  Entertainment  ...  Miscellaneous   Home  PersonalCare  \\\n",
       "0      False           True  ...          False  False          True   \n",
       "1      False          False  ...          False  False          True   \n",
       "\n",
       "   RealEstate  Legal  Health  Travel  Automotive   Food  Merchant  \n",
       "0       False  False   False   False       False  False      True  \n",
       "1       False  False    True   False       False  False     False  \n",
       "\n",
       "[2 rows x 24 columns]"
      ]
     },
     "execution_count": 82,
     "metadata": {},
     "output_type": "execute_result"
    }
   ],
   "source": [
    "# Recall business dataframe\n",
    "df_business.head(2)"
   ]
  },
  {
   "cell_type": "code",
   "execution_count": 83,
   "metadata": {},
   "outputs": [],
   "source": [
    "# Fetch all categories of business\n",
    "df_categories['category'])"
   ]
  },
  {
   "cell_type": "code",
   "execution_count": 84,
   "metadata": {},
   "outputs": [],
   "source": [
    "# Merge dataframes\n",
    "df_checkinsCategory = pd.merge(df_reviews, df_selectedUsers, left_on='user_id', right_on='user_id', how='right')\n",
    "df_checkinsCategory = pd.merge(df_checkinsCategory, df_business, left_on='business_id', right_on='business_id', how='inner')\n",
    "# Drop useless columns \n",
    "df_checkinsCategory = df_checkinsCategory.drop(['longitude_x', 'longitude_y','friend_list', 'categories_y', 'latitude', 'longitude', 'categories_x', 'latitude_y', 'date', 'latitude_x', 'longitude_home', 'latitude_home', 'state', 'categories'], axis=1)"
   ]
  },
  {
   "cell_type": "code",
   "execution_count": 121,
   "metadata": {},
   "outputs": [],
   "source": [
    "# stars_y is duplicate name\n",
    "changeName = df_checkinsCategory.columns.values\n",
    "changeName[4] = \"mean_rating\"\n",
    "df_checkinsCategory.columns = changeName\n",
    "df_checkinsCategory = df_checkinsCategory.drop('stars_y', axis=1)"
   ]
  },
  {
   "cell_type": "code",
   "execution_count": 126,
   "metadata": {},
   "outputs": [],
   "source": [
    "# Compute treated and control values\n",
    "treated = df_checkinsCategory[df_checkinsCategory['mean_rating'] >=4].groupby('business_id').count()['review_id']\n",
    "control = df_checkinsCategory[df_checkinsCategory['mean_rating'] <=2].groupby('business_id').count()['review_id']"
   ]
  },
  {
   "cell_type": "code",
   "execution_count": 129,
   "metadata": {},
   "outputs": [
    {
     "data": {
      "image/png": "[encoded data removed]",
      "text/plain": [
       "<Figure size 432x288 with 1 Axes>"
      ]
     },
     "metadata": {
      "needs_background": "light"
     },
     "output_type": "display_data"
    }
   ],
   "source": [
    "# Plot the result\n",
    "ax = sns.distplot(treated[treated <= 50], hist=True, label='treated');\n",
    "ax = sns.distplot(control[control <= 50], hist=True, label='control')\n",
    "ax.set(title='Business Visit distribution',xlabel='Number of visits', ylabel='Visit density')\n",
    "plt.legend()\n",
    "plt.show()"
   ]
  },
  {
   "cell_type": "code",
   "execution_count": 176,
   "metadata": {},
   "outputs": [
    {
     "data": {
      "text/plain": [
       "'https://plotly.com/~PM_EPFL/8/'"
      ]
     },
     "execution_count": 176,
     "metadata": {},
     "output_type": "execute_result"
    }
   ],
   "source": [
    "# Create figure\n",
    "fig = ff.create_distplot([treated[treated <= 50], control[control <= 50]], ['Treated', 'Control'], bin_size=.2, colors=colors,  show_hist=False, show_rug=False)\n",
    "fig.update_layout(title_text='Distribution of the number of visits of businesses')\n",
    "# Send the figure to the server\n",
    "username = 'PM_EPFL' \n",
    "api_key = 'mhSnWR5XdSgJaEB24BH4' \n",
    "chart_studio.tools.set_credentials_file(username=username, api_key=api_key)\n",
    "py.plot(fig, filename = 'dist_visit', auto_open=True)"
   ]
  },
  {
   "cell_type": "code",
   "execution_count": 179,
   "metadata": {},
   "outputs": [],
   "source": [
    "# Plot the result\n",
    "colors = ['rgb(0, 0, 100)', 'rgb(0, 200, 200)']\n",
    "fig = ff.create_distplot([treated[treated <= 50], control[control <= 50]], ['Treated', 'Control'], bin_size=.2, colors=colors,  show_hist=False, show_rug=False)\n",
    "fig.update_layout(title_text='Distribution of the number of visits of businesses')\n",
    "fig.show()"
   ]
  },
  {
   "cell_type": "markdown",
   "metadata": {},
   "source": [
    "<img src=\"./images/global.png\">"
   ]
  },
  {
   "cell_type": "markdown",
   "metadata": {},
   "source": [
    "**NB: we can't save plotty figure into the memory of the notebook, we we've displayed snapshots of the actual figure. The interactive figure can be found on our website***"
   ]
  },
  {
   "cell_type": "code",
   "execution_count": 141,
   "metadata": {},
   "outputs": [
    {
     "name": "stdout",
     "output_type": "stream",
     "text": [
      "The mean number of vists of well rated businesses is  27.34777793461384 and the median is 6.0\n",
      "The mean number of visits of bad rated businesses is: 7.594013529793346 and the median is 3.0\n"
     ]
    }
   ],
   "source": [
    "print(\"The mean number of vists of well rated businesses is \", np.mean(treated), \"and the median is\", np.median(treated))\n",
    "print(\"The mean number of visits of bad rated businesses is:\", np.mean(control), \"and the median is\", np.median(control))"
   ]
  },
  {
   "cell_type": "markdown",
   "metadata": {},
   "source": [
    "***Discussion***     \n",
    "It appears that businesses with better grade have an advandage. We can see that buisnesses well rated vs the badly rated businesses have the same pareto distribution, but the one of well rated businesses is slightly shiffted toward bigger number of visits. Hence, it would appear that businesses with a high rating are more visited. \n",
    "This observation is also cooborated by the median and mean of each of the distribution. \n",
    "\n",
    "However, from the course, we know that we canno't jump to conclusion yet, and have to study if businesses used to created this plot are comparable. This is the next goal: get some insight on what are the well-rated businesses and the not-well rated businesses."
   ]
  },
  {
   "cell_type": "markdown",
   "metadata": {},
   "source": [
    "## Distribution of checkins accross category"
   ]
  },
  {
   "cell_type": "code",
   "execution_count": 143,
   "metadata": {},
   "outputs": [],
   "source": [
    "# Count how buisness are distributed among categories\n",
    "def count_per_category(df):\n",
    "    df_res = pd.DataFrame(np.array([name for name in categorySet]),columns=['category'])\n",
    "    categoryCount = np.zeros(len(categorySet))\n",
    "    for category_name in categorySet:\n",
    "        categoryCount[indexCategory.get(category_name)] = df[df[category_name]].count()[0]\n",
    "    df_res['count'] = categoryCount\n",
    "    return df_res"
   ]
  },
  {
   "cell_type": "code",
   "execution_count": 144,
   "metadata": {},
   "outputs": [],
   "source": [
    "# Compute the seperation of groups\n",
    "treatedGroupSeperation = count_per_category(df_checkinsCategory[df_checkinsCategory['mean_rating'] >=4])"
   ]
  },
  {
   "cell_type": "code",
   "execution_count": 145,
   "metadata": {},
   "outputs": [
    {
     "data": {
      "text/plain": [
       "<matplotlib.axes._subplots.AxesSubplot at 0x7faa16ca95b0>"
      ]
     },
     "execution_count": 145,
     "metadata": {},
     "output_type": "execute_result"
    },
    {
     "data": {
      "text/plain": [
       "<Figure size 720x720 with 0 Axes>"
      ]
     },
     "metadata": {},
     "output_type": "display_data"
    },
    {
     "data": {
      "image/png": "[encoded data removed]",
      "text/plain": [
       "<Figure size 432x288 with 1 Axes>"
      ]
     },
     "metadata": {
      "needs_background": "light"
     },
     "output_type": "display_data"
    }
   ],
   "source": [
    "# Plot the result\n",
    "plt.figure(figsize=(10,10)) \n",
    "treatedGroupSeperation.plot.bar(x='category', y='count', rot=90)"
   ]
  },
  {
   "cell_type": "code",
   "execution_count": 147,
   "metadata": {},
   "outputs": [],
   "source": [
    "# Compute the seperation of groups\n",
    "controlGroupSeperation = count_per_category(df_checkinsCategory[df_checkinsCategory['mean_rating'] <=2])"
   ]
  },
  {
   "cell_type": "code",
   "execution_count": 148,
   "metadata": {
    "scrolled": true
   },
   "outputs": [
    {
     "data": {
      "text/plain": [
       "<matplotlib.axes._subplots.AxesSubplot at 0x7faa16b8c670>"
      ]
     },
     "execution_count": 148,
     "metadata": {},
     "output_type": "execute_result"
    },
    {
     "data": {
      "text/plain": [
       "<Figure size 720x720 with 0 Axes>"
      ]
     },
     "metadata": {},
     "output_type": "display_data"
    },
    {
     "data": {
      "image/png": "[encoded data removed]",
      "text/plain": [
       "<Figure size 432x288 with 1 Axes>"
      ]
     },
     "metadata": {
      "needs_background": "light"
     },
     "output_type": "display_data"
    }
   ],
   "source": [
    "# Plot the result\n",
    "plt.figure(figsize=(10,10)) \n",
    "controlGroupSeperation.plot.bar(x='category', y='count', rot=90)"
   ]
  },
  {
   "cell_type": "markdown",
   "metadata": {},
   "source": [
    "**Observations on the graph**    \n",
    "It appears that well rated-buisnesses are mainly represented by restaurant, entertainment businesses and Business Support businesses. On the other hand, differences between category are smaller for the poorly rated businesses: there is still an over-representation of restaurants, but the difference with other type of buisnesses is smaller. "
   ]
  },
  {
   "cell_type": "markdown",
   "metadata": {},
   "source": [
    "## Study distribution of number of checkins per business depending on rating and per catagory\n",
    "In this section, we will compare the treatment (having a good mean rating) against the control (having a bad rating) on businesses that are similar (i.e part of the same category). This is in-line with what was said in the Observational Studies Course. "
   ]
  },
  {
   "cell_type": "code",
   "execution_count": null,
   "metadata": {},
   "outputs": [],
   "source": [
    "# Load data\n",
    "df_goodCheckins = pd.read_csv('./data/good_checkins.csv')\n",
    "df_badCheckins = pd.read_csv('./data/bad_checkins.csv')\n",
    "df_badCheckins.head(3)"
   ]
  },
  {
   "cell_type": "code",
   "execution_count": null,
   "metadata": {},
   "outputs": [],
   "source": [
    "def set_visible(idx,N):\n",
    "    \"\"\"\n",
    "        Return masks for arrays\n",
    "        idx: index of arrays\n",
    "        N: number of all arrays\n",
    "        Return: mask having the length of arrays. \n",
    "                True at position idx and idx+1, False otherwise\n",
    "    \"\"\"\n",
    "    # Create initial mask\n",
    "    a = np.zeros(2*N)\n",
    "    # Set True for target indices\n",
    "    a[2*idx]=True\n",
    "    a[2*idx+1]=True\n",
    "    # Create final mask\n",
    "    a = a>0\n",
    "    return list(a.copy())\n",
    "\n",
    "def list_dict_(col_names,N):\n",
    "    \"\"\"\n",
    "        Compute the list of dictionaries for interactive plot\n",
    "        col_names: columns name of the dataframe, which is used as x-axis for the plot\n",
    "        N: number of all arrays\n",
    "        Return: list of dictionaries for interactive plot\n",
    "    \"\"\"\n",
    "    # Initialize the array\n",
    "    res = []\n",
    "    \n",
    "    # Add each week day\n",
    "    for idx,i in enumerate(col_names): \n",
    "        res.append(dict(label=i,\n",
    "                         method=\"update\",\n",
    "                         args=[{\"visible\": set_visible(idx,N)},\n",
    "                               {\"title\": i}]))\n",
    "\n",
    "    return list(res)"
   ]
  },
  {
   "cell_type": "code",
   "execution_count": null,
   "metadata": {},
   "outputs": [],
   "source": [
    "fig = go.Figure()\n",
    "for i in range(len(col_names)):\n",
    "    cat1 = col_names[i]\n",
    "\n",
    "    treated_1 = df_goodCheckins[df_goodCheckins[cat1]].groupby('business_id').count()\n",
    "    control_1 = df_badCheckins[df_badCheckins[cat1]].groupby('business_id').count()\n",
    "    treated_1 = treated_1['review_id']\n",
    "    control_1 = control_1['review_id']\n",
    "\n",
    "    fig_ = ff.create_distplot([treated_1[treated_1 <= 50], control_1[control_1 <= 50]], ['Treated', 'Control'], bin_size=.2,  show_hist=False,show_rug=False)\n",
    "    \n",
    "    fig.add_trace(\n",
    "        go.Scatter(x=fig_.data[0].x, \n",
    "                   y=fig_.data[0].y,\n",
    "                   name=\"Treated\",\n",
    "                   line=dict(color=\"#FF0000\")))\n",
    "    \n",
    "    fig.add_trace(\n",
    "        go.Scatter(x=fig_.data[1].x, \n",
    "                   y=fig_.data[1].y,\n",
    "                   name=\"Control\",\n",
    "                   line=dict(color=\"#0000FF\")))\n",
    "\n",
    "    # Save html\n",
    "    #pio.write_html(fig, file=cat1+'.html', auto_open=False)\n",
    "    \n",
    "# Add layout\n",
    "fig.update_layout(\n",
    "    updatemenus=[\n",
    "        dict(\n",
    "            active=0,\n",
    "            buttons=list_dict_(col_names,len(col_names))\n",
    "        )\n",
    "    ])\n",
    "\n",
    "# Define axies\n",
    "fig.update_xaxes(title_text=\"The number of clients\")\n",
    "fig.update_yaxes(title_text=\"Probability of the number of client the business can have\")  \n",
    "# Set title\n",
    "fig.update_layout(title_text=\"Influence of ratings on the number of clients that business can have\")\n",
    "fig.show() "
   ]
  },
  {
   "cell_type": "markdown",
   "metadata": {},
   "source": [
    "<img src=\"./images/realEstate.png\">\n",
    "<img src=\"./images/food.png\">\n",
    "<img src=\"./images/entertainment.png\">"
   ]
  },
  {
   "cell_type": "markdown",
   "metadata": {},
   "source": [
    "**NB: we can't save plotty figure into the memory of the notebook, we we've displayed snapshots of the actual figure. The interactive figure can be found on our website***"
   ]
  },
  {
   "cell_type": "markdown",
   "metadata": {},
   "source": [
    "***Discussion***     \n",
    "The figure above plots the probability of a buisness to attract n clients. We've plot this probability for businesses that have been well rated (red) and poorly-rated (blue).     \n",
    "We can that ratings have a lot of influence on businesses that provide food services or entertainement services, whereas businesses such as Real Estate agencies are less influenced by ratings.     \n",
    "We can thus refine our previously conclusion: having a good review helps certain category of buisnesses, some are imune to bad/good reviews.  \n",
    "\n"
   ]
  },
  {
   "cell_type": "markdown",
   "metadata": {},
   "source": [
    "# IV. Data Story\n",
    "## Codes for intervative plots for data story\n",
    "Create the interactive plot for the evolution of friends' reviews influence on mobility according to weekdays"
   ]
  },
  {
   "cell_type": "code",
   "execution_count": 120,
   "metadata": {
    "scrolled": true
   },
   "outputs": [
    {
     "data": {
      "text/html": [
       "<div>\n",
       "<style scoped>\n",
       "    .dataframe tbody tr th:only-of-type {\n",
       "        vertical-align: middle;\n",
       "    }\n",
       "\n",
       "    .dataframe tbody tr th {\n",
       "        vertical-align: top;\n",
       "    }\n",
       "\n",
       "    .dataframe thead th {\n",
       "        text-align: right;\n",
       "    }\n",
       "</style>\n",
       "<table border=\"1\" class=\"dataframe\">\n",
       "  <thead>\n",
       "    <tr style=\"text-align: right;\">\n",
       "      <th></th>\n",
       "      <th>mon</th>\n",
       "      <th>tue</th>\n",
       "      <th>wed</th>\n",
       "      <th>thu</th>\n",
       "      <th>fri</th>\n",
       "      <th>sat</th>\n",
       "      <th>sun</th>\n",
       "      <th>allWeekDays</th>\n",
       "      <th>bucket</th>\n",
       "    </tr>\n",
       "  </thead>\n",
       "  <tbody>\n",
       "    <tr>\n",
       "      <th>0</th>\n",
       "      <td>0.036301</td>\n",
       "      <td>0.043127</td>\n",
       "      <td>0.035008</td>\n",
       "      <td>0.036259</td>\n",
       "      <td>0.036784</td>\n",
       "      <td>0.033494</td>\n",
       "      <td>0.035211</td>\n",
       "      <td>0.036605</td>\n",
       "      <td>0.100000</td>\n",
       "    </tr>\n",
       "    <tr>\n",
       "      <th>1</th>\n",
       "      <td>0.066043</td>\n",
       "      <td>0.067536</td>\n",
       "      <td>0.064058</td>\n",
       "      <td>0.061815</td>\n",
       "      <td>0.064771</td>\n",
       "      <td>0.053868</td>\n",
       "      <td>0.057454</td>\n",
       "      <td>0.062360</td>\n",
       "      <td>0.330530</td>\n",
       "    </tr>\n",
       "    <tr>\n",
       "      <th>2</th>\n",
       "      <td>0.078054</td>\n",
       "      <td>0.081050</td>\n",
       "      <td>0.080477</td>\n",
       "      <td>0.077344</td>\n",
       "      <td>0.076375</td>\n",
       "      <td>0.069528</td>\n",
       "      <td>0.069827</td>\n",
       "      <td>0.076178</td>\n",
       "      <td>1.092500</td>\n",
       "    </tr>\n",
       "    <tr>\n",
       "      <th>3</th>\n",
       "      <td>0.085617</td>\n",
       "      <td>0.085395</td>\n",
       "      <td>0.085262</td>\n",
       "      <td>0.084203</td>\n",
       "      <td>0.081403</td>\n",
       "      <td>0.074329</td>\n",
       "      <td>0.077653</td>\n",
       "      <td>0.081993</td>\n",
       "      <td>3.611038</td>\n",
       "    </tr>\n",
       "    <tr>\n",
       "      <th>4</th>\n",
       "      <td>0.084256</td>\n",
       "      <td>0.083751</td>\n",
       "      <td>0.082604</td>\n",
       "      <td>0.080948</td>\n",
       "      <td>0.078963</td>\n",
       "      <td>0.074947</td>\n",
       "      <td>0.078276</td>\n",
       "      <td>0.080513</td>\n",
       "      <td>11.935557</td>\n",
       "    </tr>\n",
       "  </tbody>\n",
       "</table>\n",
       "</div>"
      ],
      "text/plain": [
       "        mon       tue       wed       thu       fri       sat       sun  \\\n",
       "0  0.036301  0.043127  0.035008  0.036259  0.036784  0.033494  0.035211   \n",
       "1  0.066043  0.067536  0.064058  0.061815  0.064771  0.053868  0.057454   \n",
       "2  0.078054  0.081050  0.080477  0.077344  0.076375  0.069528  0.069827   \n",
       "3  0.085617  0.085395  0.085262  0.084203  0.081403  0.074329  0.077653   \n",
       "4  0.084256  0.083751  0.082604  0.080948  0.078963  0.074947  0.078276   \n",
       "\n",
       "   allWeekDays     bucket  \n",
       "0     0.036605   0.100000  \n",
       "1     0.062360   0.330530  \n",
       "2     0.076178   1.092500  \n",
       "3     0.081993   3.611038  \n",
       "4     0.080513  11.935557  "
      ]
     },
     "execution_count": 120,
     "metadata": {},
     "output_type": "execute_result"
    }
   ],
   "source": [
    "# Load dataframes for week day study\n",
    "df_bad = pd.read_csv('./for_plotting/bad_reviews_week.csv')\n",
    "df_good = pd.read_csv('./for_plotting/good_reviews_week.csv')\n",
    "# Show an example\n",
    "df_good.head()"
   ]
  },
  {
   "cell_type": "code",
   "execution_count": 121,
   "metadata": {},
   "outputs": [],
   "source": [
    "# Rename columns names for both dataframes\n",
    "df_good.rename(columns={'mon':'Monday','tue':'Tuesday','wed':'Wednesday','thu':'Thursday','fri':'Friday','sat':'Saturday','sun':'Sunday'},inplace=True)\n",
    "df_bad.rename(columns={'mon':'Monday','tue':'Tuesday','wed':'Wednesday','thu':'Thursday','fri':'Friday','sat':'Saturday','sun':'Sunday'},inplace=True)"
   ]
  },
  {
   "cell_type": "code",
   "execution_count": 122,
   "metadata": {},
   "outputs": [],
   "source": [
    "def set_visible(idx,N):\n",
    "    \"\"\"\n",
    "        Return masks for arrays\n",
    "        idx: index of arrays\n",
    "        N: number of all arrays\n",
    "        Return: mask having the length of arrays. \n",
    "                True at position idx and idx+1, False otherwise\n",
    "    \"\"\"\n",
    "    # Create initial mask\n",
    "    a = np.zeros(2*N)\n",
    "    # Set True for target indices\n",
    "    a[2*idx]=True\n",
    "    a[2*idx+1]=True\n",
    "    # Create final mask\n",
    "    a = a>0\n",
    "    return list(a.copy())"
   ]
  },
  {
   "cell_type": "code",
   "execution_count": 123,
   "metadata": {},
   "outputs": [],
   "source": [
    "def list_dict(col_names,N):\n",
    "    \"\"\"\n",
    "        Compute the list of dictionaries for interactive plot\n",
    "        col_names: columns name of the dataframe, which is used as x-axis for the plot\n",
    "        N: number of all arrays\n",
    "        Return: list of dictionaries for interactive plot\n",
    "    \"\"\"\n",
    "    # Initialize the array\n",
    "    res = []\n",
    "    \n",
    "    # Plot all weekdays\n",
    "    res.append(dict(label=\"Plot all weekdays\",\n",
    "                     method=\"update\",\n",
    "                     args=[{\"visible\": list(np.ones(N))},\n",
    "                           {\"title\": \"Plot all weekdays\"}]))\n",
    "    # Add each week day\n",
    "    for idx,i in enumerate(col_names): \n",
    "        res.append(dict(label=i,\n",
    "                         method=\"update\",\n",
    "                         args=[{\"visible\": set_visible(idx,N)},\n",
    "                               {\"title\": i}]))\n",
    "\n",
    "    return list(res)"
   ]
  },
  {
   "cell_type": "code",
   "execution_count": 124,
   "metadata": {},
   "outputs": [],
   "source": [
    "# Define distance groups\n",
    "bucket = df_good['bucket'].values\n",
    "# Define x axis of the plot\n",
    "col_names = df_bad.columns[:len(df_bad.columns)-1]"
   ]
  },
  {
   "cell_type": "code",
   "execution_count": null,
   "metadata": {},
   "outputs": [],
   "source": [
    "# Initialize figure\n",
    "fig = go.Figure()\n",
    "\n",
    "# Add Traces\n",
    "for i in col_names:\n",
    "    fig.add_trace(\n",
    "    go.Scatter(x=bucket,\n",
    "               y=df_good[i].values,\n",
    "               name=i+\" good review\",\n",
    "               line=dict(color=\"#FF0000\")))\n",
    "    fig.add_trace(\n",
    "    go.Scatter(x=bucket,\n",
    "               y=df_bad[i].values,\n",
    "               name=i+\" bad review\",\n",
    "               line=dict(color=\"#0000FF\")))\n",
    "\n",
    "# Add layout\n",
    "fig.update_layout(\n",
    "    updatemenus=[\n",
    "        dict(\n",
    "            active=0,\n",
    "            buttons=list_dict(col_names,len(col_names)),\n",
    "        )\n",
    "    ])\n",
    "\n",
    "\n",
    "# Define axies\n",
    "fig.update_xaxes(title_text=\"Distance travelled in km by weekday in logarithmic scale\", type=\"log\")\n",
    "fig.update_yaxes(title_text=\"Probability of travelling\") \n",
    "# Set title\n",
    "fig.update_layout(title_text=\"Evolution of friends' reviews influence on mobility according to weekdays\")\n",
    "fig.show()"
   ]
  },
  {
   "cell_type": "code",
   "execution_count": 126,
   "metadata": {},
   "outputs": [],
   "source": [
    "# Save html\n",
    "pio.write_html(fig, file='evolution_weekday.html', auto_open=True)"
   ]
  },
  {
   "cell_type": "markdown",
   "metadata": {},
   "source": [
    "Create the interactive plot for the evolution of friends' reviews influence on mobility according to categories"
   ]
  },
  {
   "cell_type": "code",
   "execution_count": 127,
   "metadata": {
    "scrolled": true
   },
   "outputs": [
    {
     "data": {
      "text/html": [
       "<div>\n",
       "<style scoped>\n",
       "    .dataframe tbody tr th:only-of-type {\n",
       "        vertical-align: middle;\n",
       "    }\n",
       "\n",
       "    .dataframe tbody tr th {\n",
       "        vertical-align: top;\n",
       "    }\n",
       "\n",
       "    .dataframe thead th {\n",
       "        text-align: right;\n",
       "    }\n",
       "</style>\n",
       "<table border=\"1\" class=\"dataframe\">\n",
       "  <thead>\n",
       "    <tr style=\"text-align: right;\">\n",
       "      <th></th>\n",
       "      <th>Construction</th>\n",
       "      <th>Computers</th>\n",
       "      <th>Home</th>\n",
       "      <th>Merchant</th>\n",
       "      <th>Manufacturing</th>\n",
       "      <th>Travel</th>\n",
       "      <th>Sport</th>\n",
       "      <th>Education</th>\n",
       "      <th>Legal</th>\n",
       "      <th>BusinessSupport</th>\n",
       "      <th>PersonalCare</th>\n",
       "      <th>Entertainment</th>\n",
       "      <th>RealEstate</th>\n",
       "      <th>Automotive</th>\n",
       "      <th>Food</th>\n",
       "      <th>Miscellaneous</th>\n",
       "      <th>Health</th>\n",
       "      <th>All Categories</th>\n",
       "    </tr>\n",
       "  </thead>\n",
       "  <tbody>\n",
       "    <tr>\n",
       "      <th>0</th>\n",
       "      <td>0.011936</td>\n",
       "      <td>0.014444</td>\n",
       "      <td>0.014615</td>\n",
       "      <td>0.035347</td>\n",
       "      <td>0.017167</td>\n",
       "      <td>0.033902</td>\n",
       "      <td>0.045535</td>\n",
       "      <td>0.034448</td>\n",
       "      <td>0.011161</td>\n",
       "      <td>0.035795</td>\n",
       "      <td>0.031081</td>\n",
       "      <td>0.048737</td>\n",
       "      <td>0.021817</td>\n",
       "      <td>0.019601</td>\n",
       "      <td>0.042929</td>\n",
       "      <td>0.026024</td>\n",
       "      <td>0.026828</td>\n",
       "      <td>0.036605</td>\n",
       "    </tr>\n",
       "    <tr>\n",
       "      <th>1</th>\n",
       "      <td>0.032927</td>\n",
       "      <td>0.027411</td>\n",
       "      <td>0.039514</td>\n",
       "      <td>0.067379</td>\n",
       "      <td>0.029827</td>\n",
       "      <td>0.073211</td>\n",
       "      <td>0.043014</td>\n",
       "      <td>0.085977</td>\n",
       "      <td>0.031363</td>\n",
       "      <td>0.071918</td>\n",
       "      <td>0.060781</td>\n",
       "      <td>0.070728</td>\n",
       "      <td>0.048294</td>\n",
       "      <td>0.066355</td>\n",
       "      <td>0.064546</td>\n",
       "      <td>0.072068</td>\n",
       "      <td>0.036810</td>\n",
       "      <td>0.062360</td>\n",
       "    </tr>\n",
       "    <tr>\n",
       "      <th>2</th>\n",
       "      <td>0.043876</td>\n",
       "      <td>0.047142</td>\n",
       "      <td>0.050519</td>\n",
       "      <td>0.082257</td>\n",
       "      <td>0.049288</td>\n",
       "      <td>0.090685</td>\n",
       "      <td>0.054936</td>\n",
       "      <td>0.085361</td>\n",
       "      <td>0.042151</td>\n",
       "      <td>0.085851</td>\n",
       "      <td>0.070101</td>\n",
       "      <td>0.091973</td>\n",
       "      <td>0.062287</td>\n",
       "      <td>0.065293</td>\n",
       "      <td>0.079677</td>\n",
       "      <td>0.082501</td>\n",
       "      <td>0.045037</td>\n",
       "      <td>0.076178</td>\n",
       "    </tr>\n",
       "    <tr>\n",
       "      <th>3</th>\n",
       "      <td>0.044220</td>\n",
       "      <td>0.053504</td>\n",
       "      <td>0.051243</td>\n",
       "      <td>0.083429</td>\n",
       "      <td>0.059445</td>\n",
       "      <td>0.078351</td>\n",
       "      <td>0.062517</td>\n",
       "      <td>0.070358</td>\n",
       "      <td>0.043982</td>\n",
       "      <td>0.080017</td>\n",
       "      <td>0.063602</td>\n",
       "      <td>0.100211</td>\n",
       "      <td>0.063559</td>\n",
       "      <td>0.043501</td>\n",
       "      <td>0.089292</td>\n",
       "      <td>0.066551</td>\n",
       "      <td>0.049170</td>\n",
       "      <td>0.081993</td>\n",
       "    </tr>\n",
       "    <tr>\n",
       "      <th>4</th>\n",
       "      <td>0.042705</td>\n",
       "      <td>0.045966</td>\n",
       "      <td>0.041418</td>\n",
       "      <td>0.076462</td>\n",
       "      <td>0.060533</td>\n",
       "      <td>0.067588</td>\n",
       "      <td>0.064907</td>\n",
       "      <td>0.066298</td>\n",
       "      <td>0.044245</td>\n",
       "      <td>0.075450</td>\n",
       "      <td>0.061568</td>\n",
       "      <td>0.098514</td>\n",
       "      <td>0.053847</td>\n",
       "      <td>0.041706</td>\n",
       "      <td>0.091174</td>\n",
       "      <td>0.066310</td>\n",
       "      <td>0.050503</td>\n",
       "      <td>0.080513</td>\n",
       "    </tr>\n",
       "  </tbody>\n",
       "</table>\n",
       "</div>"
      ],
      "text/plain": [
       "   Construction  Computers      Home  Merchant  Manufacturing    Travel  \\\n",
       "0      0.011936   0.014444  0.014615  0.035347       0.017167  0.033902   \n",
       "1      0.032927   0.027411  0.039514  0.067379       0.029827  0.073211   \n",
       "2      0.043876   0.047142  0.050519  0.082257       0.049288  0.090685   \n",
       "3      0.044220   0.053504  0.051243  0.083429       0.059445  0.078351   \n",
       "4      0.042705   0.045966  0.041418  0.076462       0.060533  0.067588   \n",
       "\n",
       "      Sport  Education     Legal  BusinessSupport  PersonalCare  \\\n",
       "0  0.045535   0.034448  0.011161         0.035795      0.031081   \n",
       "1  0.043014   0.085977  0.031363         0.071918      0.060781   \n",
       "2  0.054936   0.085361  0.042151         0.085851      0.070101   \n",
       "3  0.062517   0.070358  0.043982         0.080017      0.063602   \n",
       "4  0.064907   0.066298  0.044245         0.075450      0.061568   \n",
       "\n",
       "   Entertainment  RealEstate  Automotive      Food  Miscellaneous    Health  \\\n",
       "0       0.048737    0.021817    0.019601  0.042929       0.026024  0.026828   \n",
       "1       0.070728    0.048294    0.066355  0.064546       0.072068  0.036810   \n",
       "2       0.091973    0.062287    0.065293  0.079677       0.082501  0.045037   \n",
       "3       0.100211    0.063559    0.043501  0.089292       0.066551  0.049170   \n",
       "4       0.098514    0.053847    0.041706  0.091174       0.066310  0.050503   \n",
       "\n",
       "   All Categories  \n",
       "0        0.036605  \n",
       "1        0.062360  \n",
       "2        0.076178  \n",
       "3        0.081993  \n",
       "4        0.080513  "
      ]
     },
     "execution_count": 127,
     "metadata": {},
     "output_type": "execute_result"
    }
   ],
   "source": [
    "# Load dataframes for category study\n",
    "df_bad_cat = pd.read_csv('./for_plotting/bad_reviews_cat.csv')\n",
    "df_good_cat = pd.read_csv('./for_plotting/good_reviews_cat.csv')\n",
    "# Show an example\n",
    "df_good_cat.head()"
   ]
  },
  {
   "cell_type": "code",
   "execution_count": 128,
   "metadata": {},
   "outputs": [],
   "source": [
    "# Define x axis of the plot\n",
    "col_names_cat = df_bad_cat.columns"
   ]
  },
  {
   "cell_type": "code",
   "execution_count": 129,
   "metadata": {},
   "outputs": [],
   "source": [
    "def list_dict_cat(col_names_cat,N):\n",
    "    \"\"\"\n",
    "        Compute the list of dictionaries for interactive plot\n",
    "        col_names_cat: columns name of the category dataframe, \n",
    "                        which is used as x-axis for the plot\n",
    "        N: number of all arrays\n",
    "        Return: list of dictionaries for interactive plot\n",
    "    \"\"\"\n",
    "    res = []\n",
    "    \n",
    "    # For plotting all arrays\n",
    "    res.append(dict(label=\"Plot all categories\",\n",
    "                     method=\"update\",\n",
    "                     args=[{\"visible\": list(np.ones(N))},\n",
    "                           {\"title\": \"Plot all categories\"}]))\n",
    "    \n",
    "    # For plotting arrays indiviually\n",
    "    for idx,i in enumerate(col_names_cat): \n",
    "        res.append(dict(label=i,\n",
    "                         method=\"update\",\n",
    "                         args=[{\"visible\": set_visible(idx,N)},\n",
    "                               {\"title\": i}]))\n",
    "    return list(res)"
   ]
  },
  {
   "cell_type": "code",
   "execution_count": null,
   "metadata": {
    "scrolled": false
   },
   "outputs": [],
   "source": [
    "# Initialize figure\n",
    "fig = go.Figure()\n",
    "\n",
    "# Add Traces\n",
    "for i in col_names_cat:\n",
    "    fig.add_trace(\n",
    "    go.Scatter(x=bucket,\n",
    "               y=df_good_cat[i].values,\n",
    "               name=i+\" good review\",\n",
    "               line=dict(color=\"#FF0000\")))\n",
    "    fig.add_trace(\n",
    "    go.Scatter(x=bucket,\n",
    "               y=df_bad_cat[i].values,\n",
    "               name=i+\" bad review\",\n",
    "               line=dict(color=\"#0000FF\")))\n",
    "\n",
    "# Add layout\n",
    "fig.update_layout(\n",
    "    updatemenus=[\n",
    "        dict(\n",
    "            active=0,\n",
    "            buttons=list_dict_cat(col_names_cat,len(col_names_cat)),\n",
    "        )\n",
    "    ])\n",
    "\n",
    "# Define axies\n",
    "fig.update_xaxes(title_text=\"Distance travelled in km by category in logarithmic scale\", type=\"log\")\n",
    "fig.update_yaxes(title_text=\"Probability of travelling\") \n",
    "# Set title\n",
    "fig.update_layout(title_text=\"Evolution of friends' reviews influence on mobility according to categories\")\n",
    "fig.show()"
   ]
  },
  {
   "cell_type": "code",
   "execution_count": 131,
   "metadata": {},
   "outputs": [],
   "source": [
    "# Save html\n",
    "pio.write_html(fig, file='evolution_category.html', auto_open=True)"
   ]
  },
  {
   "cell_type": "markdown",
   "metadata": {},
   "source": [
    "Create the interactive plot for the probability of giving good ratings study"
   ]
  },
  {
   "cell_type": "code",
   "execution_count": 37,
   "metadata": {
    "scrolled": true
   },
   "outputs": [],
   "source": [
    "# Load dataframes for week day study\n",
    "df_mean_rating = pd.read_csv('./data/prob_give_good_review.csv')"
   ]
  },
  {
   "cell_type": "code",
   "execution_count": 38,
   "metadata": {},
   "outputs": [],
   "source": [
    "x_ = df_mean_rating['review_id']"
   ]
  },
  {
   "cell_type": "code",
   "execution_count": 39,
   "metadata": {
    "scrolled": true
   },
   "outputs": [],
   "source": [
    "y_ =[]\n",
    "y_.append(-(5.0- 8.154)/2)\n",
    "y_.append(-(8.154- 13.299)/2)\n",
    "y_.append(-(13.299- 21.689)/2)\n",
    "y_.append(-(21.689- 35.372)/2)\n",
    "y_.append(-(35.372- 57.688)/2)\n",
    "y_.append(-(57.688- 94.083)/2)\n",
    "y_.append(-(94.083- 153.438)/2)\n",
    "y_.append(-(153.438- 250.24)/2)\n",
    "y_.append(-(250.24- 408.112)/2)\n",
    "y_.append(-(408.112- 665.584)/2)\n",
    "y_.append(-(665.584- 1085.491)/2)\n",
    "y_.append(-(1085.491- 1770.311)/2)\n",
    "y_.append(-(1770.311- 2887.173)/2)\n",
    "y_.append(-(2887.173- 4708.646)/2)"
   ]
  },
  {
   "cell_type": "code",
   "execution_count": null,
   "metadata": {
    "scrolled": true
   },
   "outputs": [],
   "source": [
    "# Initialize figure\n",
    "fig = go.Figure()\n",
    "\n",
    "# Add Traces\n",
    "fig.add_trace(\n",
    "    go.Scatter(x=y_,\n",
    "               y=x_,\n",
    "               line=dict(color=\"#33CFA5\")))\n",
    "\n",
    "# Define axies\n",
    "fig.update_xaxes(title_text=\"Distance travelled in km in logarithmic scale\", type=\"log\")\n",
    "fig.update_yaxes(title_text=\"Probability of giving good ratings\") \n",
    "# Set title\n",
    "fig.update_layout(title_text=\"Probability of giving good ratings (stars >=5) depending on distance\")\n",
    "fig.show()"
   ]
  },
  {
   "cell_type": "code",
   "execution_count": 59,
   "metadata": {},
   "outputs": [],
   "source": [
    "# Save html\n",
    "pio.write_html(fig, file='give_good_ratings.html', auto_open=True)"
   ]
  },
  {
   "cell_type": "markdown",
   "metadata": {},
   "source": [
    "Create the interactive plot for the probability of visiting good rated business study"
   ]
  },
  {
   "cell_type": "code",
   "execution_count": 132,
   "metadata": {
    "scrolled": true
   },
   "outputs": [],
   "source": [
    "# Load data\n",
    "df_to_good = pd.read_csv('./data/prob_go__to_good_reviewed_place.csv')"
   ]
  },
  {
   "cell_type": "code",
   "execution_count": 133,
   "metadata": {},
   "outputs": [],
   "source": [
    "x2 = df_to_good['review_id'].values\n",
    "y2 = np.array([   6.57721204,   10.72667525,   17.49397179,   28.53065297,\n",
    "         46.53020873,   75.88541092,  123.76036444,  201.83889923,\n",
    "        329.17599607,  536.84813386,  875.53747015, 1427.90076611,\n",
    "       2328.74167854, 3797.90944447])"
   ]
  },
  {
   "cell_type": "code",
   "execution_count": null,
   "metadata": {},
   "outputs": [],
   "source": [
    "# Initialize figure\n",
    "fig = go.Figure()\n",
    "\n",
    "# Add Traces\n",
    "fig.add_trace(\n",
    "    go.Scatter(x=y2,\n",
    "               y=x2,\n",
    "               line=dict(color=\"#33CFA5\")))\n",
    "\n",
    "# Define axies\n",
    "fig.update_xaxes(title_text=\"Distance travelled in km in logarithmic scale\", type=\"log\")\n",
    "fig.update_yaxes(title_text=\"Probability to go to good rated business\") \n",
    "# Set title\n",
    "fig.update_layout(title_text=\"Probability to go to good rated business (stars >=5) depending on distance\")\n",
    "fig.show()"
   ]
  },
  {
   "cell_type": "code",
   "execution_count": 135,
   "metadata": {},
   "outputs": [],
   "source": [
    "# Save html\n",
    "pio.write_html(fig, file='go_to_good_rated_business.html', auto_open=True)"
   ]
  },
  {
   "cell_type": "markdown",
   "metadata": {},
   "source": [
    "Create the interactive plot for words of mouth on friends' recommendation study"
   ]
  },
  {
   "cell_type": "code",
   "execution_count": 154,
   "metadata": {},
   "outputs": [],
   "source": [
    "# Load dataframes\n",
    "mouth_friend = pd.read_csv('./for_plotting/basic_to_plot.csv')"
   ]
  },
  {
   "cell_type": "code",
   "execution_count": null,
   "metadata": {},
   "outputs": [],
   "source": [
    "# Initialize figure\n",
    "fig = go.Figure()\n",
    "\n",
    "# Add Traces\n",
    "fig.add_trace(\n",
    "    go.Scatter(x=mouth_friend['buckets'].values,\n",
    "               y=mouth_friend['good'].values,\n",
    "               name=\"Good reviews\",\n",
    "               line=dict(color=\"#FF0000\")))\n",
    "\n",
    "fig.add_trace(\n",
    "    go.Scatter(x=mouth_friend['buckets'].values,\n",
    "               y=mouth_friend['bad'].values,\n",
    "               name=\"Bad reviews\",\n",
    "               line=dict(color=\"#0000FF\")))\n",
    "\n",
    "# Define axies\n",
    "fig.update_xaxes(title_text=\"Distance travelled in km in logarithmic scale\", type=\"log\")\n",
    "fig.update_yaxes(title_text=\"Probability to go to good rated business\") \n",
    "# Set title\n",
    "fig.update_layout(title_text=\"Influence of a friends' recommendations on mobility\")\n",
    "fig.show()"
   ]
  },
  {
   "cell_type": "code",
   "execution_count": 156,
   "metadata": {},
   "outputs": [],
   "source": [
    "# Save html\n",
    "pio.write_html(fig, file='friends_recomm_influence.html', auto_open=True)"
   ]
  },
  {
   "cell_type": "markdown",
   "metadata": {},
   "source": [
    "Create the interactive plot for week"
   ]
  },
  {
   "cell_type": "code",
   "execution_count": 157,
   "metadata": {
    "scrolled": true
   },
   "outputs": [
    {
     "data": {
      "text/html": [
       "<div>\n",
       "<style scoped>\n",
       "    .dataframe tbody tr th:only-of-type {\n",
       "        vertical-align: middle;\n",
       "    }\n",
       "\n",
       "    .dataframe tbody tr th {\n",
       "        vertical-align: top;\n",
       "    }\n",
       "\n",
       "    .dataframe thead th {\n",
       "        text-align: right;\n",
       "    }\n",
       "</style>\n",
       "<table border=\"1\" class=\"dataframe\">\n",
       "  <thead>\n",
       "    <tr style=\"text-align: right;\">\n",
       "      <th></th>\n",
       "      <th>Unnamed: 0</th>\n",
       "      <th>Monday</th>\n",
       "      <th>Tuesday</th>\n",
       "      <th>Wednesday</th>\n",
       "      <th>Thursday</th>\n",
       "      <th>Friday</th>\n",
       "      <th>Saturday</th>\n",
       "      <th>Sunday</th>\n",
       "      <th>buckets</th>\n",
       "    </tr>\n",
       "  </thead>\n",
       "  <tbody>\n",
       "    <tr>\n",
       "      <th>0</th>\n",
       "      <td>0</td>\n",
       "      <td>0.149692</td>\n",
       "      <td>0.168640</td>\n",
       "      <td>0.146850</td>\n",
       "      <td>0.132639</td>\n",
       "      <td>0.136902</td>\n",
       "      <td>0.131217</td>\n",
       "      <td>0.134060</td>\n",
       "      <td>0.100000</td>\n",
       "    </tr>\n",
       "    <tr>\n",
       "      <th>1</th>\n",
       "      <td>1</td>\n",
       "      <td>0.161906</td>\n",
       "      <td>0.166494</td>\n",
       "      <td>0.151695</td>\n",
       "      <td>0.131715</td>\n",
       "      <td>0.134971</td>\n",
       "      <td>0.118988</td>\n",
       "      <td>0.134231</td>\n",
       "      <td>0.330530</td>\n",
       "    </tr>\n",
       "    <tr>\n",
       "      <th>2</th>\n",
       "      <td>2</td>\n",
       "      <td>0.160025</td>\n",
       "      <td>0.158375</td>\n",
       "      <td>0.152935</td>\n",
       "      <td>0.138363</td>\n",
       "      <td>0.133366</td>\n",
       "      <td>0.123422</td>\n",
       "      <td>0.133514</td>\n",
       "      <td>1.092500</td>\n",
       "    </tr>\n",
       "    <tr>\n",
       "      <th>3</th>\n",
       "      <td>3</td>\n",
       "      <td>0.157914</td>\n",
       "      <td>0.149693</td>\n",
       "      <td>0.150508</td>\n",
       "      <td>0.138613</td>\n",
       "      <td>0.133828</td>\n",
       "      <td>0.126885</td>\n",
       "      <td>0.142559</td>\n",
       "      <td>3.611038</td>\n",
       "    </tr>\n",
       "    <tr>\n",
       "      <th>4</th>\n",
       "      <td>4</td>\n",
       "      <td>0.157123</td>\n",
       "      <td>0.145881</td>\n",
       "      <td>0.144928</td>\n",
       "      <td>0.135116</td>\n",
       "      <td>0.132686</td>\n",
       "      <td>0.134833</td>\n",
       "      <td>0.149433</td>\n",
       "      <td>11.935557</td>\n",
       "    </tr>\n",
       "    <tr>\n",
       "      <th>5</th>\n",
       "      <td>5</td>\n",
       "      <td>0.160998</td>\n",
       "      <td>0.143543</td>\n",
       "      <td>0.142705</td>\n",
       "      <td>0.132885</td>\n",
       "      <td>0.130325</td>\n",
       "      <td>0.137393</td>\n",
       "      <td>0.152152</td>\n",
       "      <td>39.450577</td>\n",
       "    </tr>\n",
       "    <tr>\n",
       "      <th>6</th>\n",
       "      <td>6</td>\n",
       "      <td>0.166597</td>\n",
       "      <td>0.122535</td>\n",
       "      <td>0.138061</td>\n",
       "      <td>0.111204</td>\n",
       "      <td>0.135124</td>\n",
       "      <td>0.164079</td>\n",
       "      <td>0.162400</td>\n",
       "      <td>130.395930</td>\n",
       "    </tr>\n",
       "    <tr>\n",
       "      <th>7</th>\n",
       "      <td>7</td>\n",
       "      <td>0.166556</td>\n",
       "      <td>0.153464</td>\n",
       "      <td>0.149818</td>\n",
       "      <td>0.136725</td>\n",
       "      <td>0.133742</td>\n",
       "      <td>0.123467</td>\n",
       "      <td>0.136228</td>\n",
       "      <td>430.997459</td>\n",
       "    </tr>\n",
       "    <tr>\n",
       "      <th>8</th>\n",
       "      <td>8</td>\n",
       "      <td>0.162377</td>\n",
       "      <td>0.157230</td>\n",
       "      <td>0.170332</td>\n",
       "      <td>0.130557</td>\n",
       "      <td>0.115583</td>\n",
       "      <td>0.127749</td>\n",
       "      <td>0.136172</td>\n",
       "      <td>1424.575212</td>\n",
       "    </tr>\n",
       "    <tr>\n",
       "      <th>9</th>\n",
       "      <td>9</td>\n",
       "      <td>0.155007</td>\n",
       "      <td>0.169389</td>\n",
       "      <td>0.142756</td>\n",
       "      <td>0.141158</td>\n",
       "      <td>0.123757</td>\n",
       "      <td>0.126776</td>\n",
       "      <td>0.141158</td>\n",
       "      <td>4708.646162</td>\n",
       "    </tr>\n",
       "  </tbody>\n",
       "</table>\n",
       "</div>"
      ],
      "text/plain": [
       "   Unnamed: 0    Monday   Tuesday  Wednesday  Thursday    Friday  Saturday  \\\n",
       "0           0  0.149692  0.168640   0.146850  0.132639  0.136902  0.131217   \n",
       "1           1  0.161906  0.166494   0.151695  0.131715  0.134971  0.118988   \n",
       "2           2  0.160025  0.158375   0.152935  0.138363  0.133366  0.123422   \n",
       "3           3  0.157914  0.149693   0.150508  0.138613  0.133828  0.126885   \n",
       "4           4  0.157123  0.145881   0.144928  0.135116  0.132686  0.134833   \n",
       "5           5  0.160998  0.143543   0.142705  0.132885  0.130325  0.137393   \n",
       "6           6  0.166597  0.122535   0.138061  0.111204  0.135124  0.164079   \n",
       "7           7  0.166556  0.153464   0.149818  0.136725  0.133742  0.123467   \n",
       "8           8  0.162377  0.157230   0.170332  0.130557  0.115583  0.127749   \n",
       "9           9  0.155007  0.169389   0.142756  0.141158  0.123757  0.126776   \n",
       "\n",
       "     Sunday      buckets  \n",
       "0  0.134060     0.100000  \n",
       "1  0.134231     0.330530  \n",
       "2  0.133514     1.092500  \n",
       "3  0.142559     3.611038  \n",
       "4  0.149433    11.935557  \n",
       "5  0.152152    39.450577  \n",
       "6  0.162400   130.395930  \n",
       "7  0.136228   430.997459  \n",
       "8  0.136172  1424.575212  \n",
       "9  0.141158  4708.646162  "
      ]
     },
     "execution_count": 157,
     "metadata": {},
     "output_type": "execute_result"
    }
   ],
   "source": [
    "# Load dataframes for week day study\n",
    "df_week = pd.read_csv('./for_plotting/week_to_plot.csv')\n",
    "df_week.rename(columns={'mon':'Monday','tue':'Tuesday','wed':'Wednesday','thu':'Thursday','fri':'Friday','sat':'Saturday','sun':'Sunday'},inplace=True)\n",
    "df_week"
   ]
  },
  {
   "cell_type": "code",
   "execution_count": 158,
   "metadata": {},
   "outputs": [],
   "source": [
    "col_names_ = df_week.columns[1:len(df_week.columns)-1].copy()\n",
    "buckets=df_week['buckets'].values"
   ]
  },
  {
   "cell_type": "code",
   "execution_count": null,
   "metadata": {},
   "outputs": [],
   "source": [
    "# Initialize figure\n",
    "fig = go.Figure()\n",
    "\n",
    "# Add Traces\n",
    "for i in col_names_:\n",
    "    fig.add_trace(\n",
    "    go.Scatter(x=buckets,\n",
    "               y=df_week[i].values,\n",
    "               name=i))\n",
    "\n",
    "# Add layout\n",
    "fig.update_layout(\n",
    "    updatemenus=[\n",
    "        dict(\n",
    "            active=0,\n",
    "            buttons=list_dict(col_names_,len(col_names_)),\n",
    "        )\n",
    "    ])\n",
    "\n",
    "# Define axies\n",
    "fig.update_xaxes(title_text=\"Distance travelled in km by weekday in logarithmic scale\", type=\"log\")\n",
    "fig.update_yaxes(title_text=\"Probability of travelling\")  \n",
    "# Set title\n",
    "fig.update_layout(title_text=\"Influence of weekdays on mobility\")\n",
    "fig.show()"
   ]
  },
  {
   "cell_type": "code",
   "execution_count": 160,
   "metadata": {},
   "outputs": [],
   "source": [
    "# Save html\n",
    "pio.write_html(fig, file='weekday_influence.html', auto_open=True)"
   ]
  },
  {
   "cell_type": "markdown",
   "metadata": {},
   "source": [
    "Create the interactive plot for treated and control model"
   ]
  },
  {
   "cell_type": "code",
   "execution_count": 168,
   "metadata": {},
   "outputs": [
    {
     "data": {
      "text/html": [
       "<div>\n",
       "<style scoped>\n",
       "    .dataframe tbody tr th:only-of-type {\n",
       "        vertical-align: middle;\n",
       "    }\n",
       "\n",
       "    .dataframe tbody tr th {\n",
       "        vertical-align: top;\n",
       "    }\n",
       "\n",
       "    .dataframe thead th {\n",
       "        text-align: right;\n",
       "    }\n",
       "</style>\n",
       "<table border=\"1\" class=\"dataframe\">\n",
       "  <thead>\n",
       "    <tr style=\"text-align: right;\">\n",
       "      <th></th>\n",
       "      <th>review_id</th>\n",
       "      <th>user_id</th>\n",
       "      <th>business_id</th>\n",
       "      <th>stars_x</th>\n",
       "      <th>friends</th>\n",
       "      <th>review_count</th>\n",
       "      <th>stars_y</th>\n",
       "      <th>BusinessSupport</th>\n",
       "      <th>Manufacturing</th>\n",
       "      <th>Automotive</th>\n",
       "      <th>...</th>\n",
       "      <th>PersonalCare</th>\n",
       "      <th>Entertainment</th>\n",
       "      <th>Computers</th>\n",
       "      <th>Education</th>\n",
       "      <th>Construction</th>\n",
       "      <th>Travel</th>\n",
       "      <th>Miscellaneous</th>\n",
       "      <th>Sport</th>\n",
       "      <th>Merchant</th>\n",
       "      <th>RealEstate</th>\n",
       "    </tr>\n",
       "  </thead>\n",
       "  <tbody>\n",
       "    <tr>\n",
       "      <th>0</th>\n",
       "      <td>UmFMZ8PyXZTY2QcwzsfQYA</td>\n",
       "      <td>nIJD_7ZXHq-FX8byPMOkMQ</td>\n",
       "      <td>lbrU8StCq3yDfr-QMnGrmQ</td>\n",
       "      <td>1</td>\n",
       "      <td>B5vnnBub9sscTix_tPAwUw, FKFWX9kiyTvJY8_P9j_Rmw...</td>\n",
       "      <td>30</td>\n",
       "      <td>1.5</td>\n",
       "      <td>False</td>\n",
       "      <td>False</td>\n",
       "      <td>False</td>\n",
       "      <td>...</td>\n",
       "      <td>True</td>\n",
       "      <td>False</td>\n",
       "      <td>False</td>\n",
       "      <td>False</td>\n",
       "      <td>False</td>\n",
       "      <td>False</td>\n",
       "      <td>False</td>\n",
       "      <td>False</td>\n",
       "      <td>False</td>\n",
       "      <td>False</td>\n",
       "    </tr>\n",
       "    <tr>\n",
       "      <th>1</th>\n",
       "      <td>T0JLHmc_1Nt_Uv2DNmzhhA</td>\n",
       "      <td>nIJD_7ZXHq-FX8byPMOkMQ</td>\n",
       "      <td>jJDnxINrCKstFyeH3F8Cfw</td>\n",
       "      <td>2</td>\n",
       "      <td>B5vnnBub9sscTix_tPAwUw, FKFWX9kiyTvJY8_P9j_Rmw...</td>\n",
       "      <td>30</td>\n",
       "      <td>2.0</td>\n",
       "      <td>False</td>\n",
       "      <td>False</td>\n",
       "      <td>True</td>\n",
       "      <td>...</td>\n",
       "      <td>False</td>\n",
       "      <td>False</td>\n",
       "      <td>False</td>\n",
       "      <td>False</td>\n",
       "      <td>False</td>\n",
       "      <td>False</td>\n",
       "      <td>False</td>\n",
       "      <td>False</td>\n",
       "      <td>False</td>\n",
       "      <td>False</td>\n",
       "    </tr>\n",
       "    <tr>\n",
       "      <th>2</th>\n",
       "      <td>-LMhqBpTytjSzNB-2g99-Q</td>\n",
       "      <td>rhE4gLtM0gb3XLwSz6HPCw</td>\n",
       "      <td>jJDnxINrCKstFyeH3F8Cfw</td>\n",
       "      <td>4</td>\n",
       "      <td>BqUm1rHPSxlCWr-3HhNQyw, 6p1NDChnIpGl29Ce3cMKWg...</td>\n",
       "      <td>193</td>\n",
       "      <td>2.0</td>\n",
       "      <td>False</td>\n",
       "      <td>False</td>\n",
       "      <td>True</td>\n",
       "      <td>...</td>\n",
       "      <td>False</td>\n",
       "      <td>False</td>\n",
       "      <td>False</td>\n",
       "      <td>False</td>\n",
       "      <td>False</td>\n",
       "      <td>False</td>\n",
       "      <td>False</td>\n",
       "      <td>False</td>\n",
       "      <td>False</td>\n",
       "      <td>False</td>\n",
       "    </tr>\n",
       "  </tbody>\n",
       "</table>\n",
       "<p>3 rows × 24 columns</p>\n",
       "</div>"
      ],
      "text/plain": [
       "                review_id                 user_id             business_id  \\\n",
       "0  UmFMZ8PyXZTY2QcwzsfQYA  nIJD_7ZXHq-FX8byPMOkMQ  lbrU8StCq3yDfr-QMnGrmQ   \n",
       "1  T0JLHmc_1Nt_Uv2DNmzhhA  nIJD_7ZXHq-FX8byPMOkMQ  jJDnxINrCKstFyeH3F8Cfw   \n",
       "2  -LMhqBpTytjSzNB-2g99-Q  rhE4gLtM0gb3XLwSz6HPCw  jJDnxINrCKstFyeH3F8Cfw   \n",
       "\n",
       "   stars_x                                            friends  review_count  \\\n",
       "0        1  B5vnnBub9sscTix_tPAwUw, FKFWX9kiyTvJY8_P9j_Rmw...            30   \n",
       "1        2  B5vnnBub9sscTix_tPAwUw, FKFWX9kiyTvJY8_P9j_Rmw...            30   \n",
       "2        4  BqUm1rHPSxlCWr-3HhNQyw, 6p1NDChnIpGl29Ce3cMKWg...           193   \n",
       "\n",
       "   stars_y  BusinessSupport  Manufacturing  Automotive  ...  PersonalCare  \\\n",
       "0      1.5            False          False       False  ...          True   \n",
       "1      2.0            False          False        True  ...         False   \n",
       "2      2.0            False          False        True  ...         False   \n",
       "\n",
       "   Entertainment  Computers  Education  Construction  Travel  Miscellaneous  \\\n",
       "0          False      False      False         False   False          False   \n",
       "1          False      False      False         False   False          False   \n",
       "2          False      False      False         False   False          False   \n",
       "\n",
       "   Sport  Merchant  RealEstate  \n",
       "0  False     False       False  \n",
       "1  False     False       False  \n",
       "2  False     False       False  \n",
       "\n",
       "[3 rows x 24 columns]"
      ]
     },
     "execution_count": 168,
     "metadata": {},
     "output_type": "execute_result"
    }
   ],
   "source": [
    "# Load data\n",
    "df_goodCheckins = pd.read_csv('./data/good_checkins.csv')\n",
    "df_badCheckins = pd.read_csv('./data/bad_checkins.csv')\n",
    "df_badCheckins.head(3)"
   ]
  },
  {
   "cell_type": "code",
   "execution_count": 169,
   "metadata": {},
   "outputs": [
    {
     "data": {
      "text/plain": [
       "Index(['BusinessSupport', 'Manufacturing', 'Automotive', 'Home', 'Legal',\n",
       "       'Food', 'Health', 'PersonalCare', 'Entertainment', 'Computers',\n",
       "       'Education', 'Construction', 'Travel', 'Miscellaneous', 'Sport',\n",
       "       'Merchant', 'RealEstate'],\n",
       "      dtype='object')"
      ]
     },
     "execution_count": 169,
     "metadata": {},
     "output_type": "execute_result"
    }
   ],
   "source": [
    "col_names = df_goodCheckins.columns[6:len(df_goodCheckins.columns)]\n",
    "col_names"
   ]
  },
  {
   "cell_type": "code",
   "execution_count": 170,
   "metadata": {},
   "outputs": [],
   "source": [
    "def set_visible(idx,N):\n",
    "    \"\"\"\n",
    "        Return masks for arrays\n",
    "        idx: index of arrays\n",
    "        N: number of all arrays\n",
    "        Return: mask having the length of arrays. \n",
    "                True at position idx and idx+1, False otherwise\n",
    "    \"\"\"\n",
    "    # Create initial mask\n",
    "    a = np.zeros(2*N)\n",
    "    # Set True for target indices\n",
    "    a[2*idx]=True\n",
    "    a[2*idx+1]=True\n",
    "    # Create final mask\n",
    "    a = a>0\n",
    "    return list(a.copy())\n",
    "\n",
    "def list_dict_(col_names,N):\n",
    "    \"\"\"\n",
    "        Compute the list of dictionaries for interactive plot\n",
    "        col_names: columns name of the dataframe, which is used as x-axis for the plot\n",
    "        N: number of all arrays\n",
    "        Return: list of dictionaries for interactive plot\n",
    "    \"\"\"\n",
    "    # Initialize the array\n",
    "    res = []\n",
    "    \n",
    "    # Add each week day\n",
    "    for idx,i in enumerate(col_names): \n",
    "        res.append(dict(label=i,\n",
    "                         method=\"update\",\n",
    "                         args=[{\"visible\": set_visible(idx,N)},\n",
    "                               {\"title\": i}]))\n",
    "\n",
    "    return list(res)"
   ]
  },
  {
   "cell_type": "code",
   "execution_count": null,
   "metadata": {},
   "outputs": [],
   "source": [
    "fig = go.Figure()\n",
    "for i in range(len(col_names)):\n",
    "    cat1 = col_names[i]\n",
    "\n",
    "    treated_1 = df_goodCheckins[df_goodCheckins[cat1]].groupby('business_id').count()\n",
    "    control_1 = df_badCheckins[df_badCheckins[cat1]].groupby('business_id').count()\n",
    "    treated_1 = treated_1['review_id']\n",
    "    control_1 = control_1['review_id']\n",
    "\n",
    "    fig_ = ff.create_distplot([treated_1[treated_1 <= 50], control_1[control_1 <= 50]], ['Treated', 'Control'], bin_size=.2,  show_hist=False,show_rug=False)\n",
    "    \n",
    "    fig.add_trace(\n",
    "        go.Scatter(x=fig_.data[0].x, \n",
    "                   y=fig_.data[0].y,\n",
    "                   name=\"Treated\",\n",
    "                   line=dict(color=\"#FF0000\")))\n",
    "    \n",
    "    fig.add_trace(\n",
    "        go.Scatter(x=fig_.data[1].x, \n",
    "                   y=fig_.data[1].y,\n",
    "                   name=\"Control\",\n",
    "                   line=dict(color=\"#0000FF\")))\n",
    "\n",
    "    # Save html\n",
    "    #pio.write_html(fig, file=cat1+'.html', auto_open=False)\n",
    "    \n",
    "# Add layout\n",
    "fig.update_layout(\n",
    "    updatemenus=[\n",
    "        dict(\n",
    "            active=0,\n",
    "            buttons=list_dict_(col_names,len(col_names))\n",
    "        )\n",
    "    ])\n",
    "\n",
    "# Define axies\n",
    "fig.update_xaxes(title_text=\"The number of clients\")\n",
    "fig.update_yaxes(title_text=\"Probability of the number of client the business can have\")  \n",
    "# Set title\n",
    "fig.update_layout(title_text=\"Influence of ratings on the number of clients that business can have\")\n",
    "fig.show()    "
   ]
  },
  {
   "cell_type": "code",
   "execution_count": 175,
   "metadata": {},
   "outputs": [],
   "source": [
    "# Save html\n",
    "pio.write_html(fig, file='treatedControl.html', auto_open=True)"
   ]
  },
  {
   "cell_type": "code",
   "execution_count": null,
   "metadata": {},
   "outputs": [],
   "source": []
  }
 ],
 "metadata": {
  "kernelspec": {
   "display_name": "Python 3",
   "language": "python",
   "name": "python3"
  },
  "language_info": {
   "codemirror_mode": {
    "name": "ipython",
    "version": 3
   },
   "file_extension": ".py",
   "mimetype": "text/x-python",
   "name": "python",
   "nbconvert_exporter": "python",
   "pygments_lexer": "ipython3",
   "version": "3.7.4"
  }
 },
 "nbformat": 4,
 "nbformat_minor": 4
}
