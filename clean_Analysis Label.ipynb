{
 "cells": [
  {
   "cell_type": "markdown",
   "metadata": {},
   "source": [
    "# Table of Contents:\n",
    "* [I. Import libraries](#I.-Import-libraries)\n",
    "* [II. Load the data & some insights](#II.-Load-the-data-&-some-insights)\n",
    "* [III. Part A of study graphs](#III.-Part-A-of-study-graphs)\n",
    "    * [Find User's home](#Find-User's-home)\n",
    "    * [Analysis of](#Analysis-of)\n",
    "* [IV. Words of mouth impact](#IV.-Words-of-mouth-impact)    \n",
    "    * [Get the reviewed label](#Get-the-reviewed-label)\n",
    "    * [Study friends' ratings influence on mobility](#Study-friends'-ratings-influence-on-mobility)\n",
    "* [V. Week Day Study](#V.-Week-Day-Study)\n",
    "    "
   ]
  },
  {
   "cell_type": "markdown",
   "metadata": {},
   "source": [
    "# I. Import libraries"
   ]
  },
  {
   "cell_type": "code",
   "execution_count": 16,
   "metadata": {},
   "outputs": [],
   "source": [
    "import json\n",
    "import math\n",
    "import pickle\n",
    "import pandas as pd\n",
    "import numpy as np\n",
    "import seaborn as sns\n",
    "from bisect import bisect\n",
    "import matplotlib.pyplot as plt\n",
    "from math import radians, cos, sin, asin, sqrt"
   ]
  },
  {
   "cell_type": "markdown",
   "metadata": {},
   "source": [
    "# II. Load the data & some insights"
   ]
  },
  {
   "cell_type": "code",
   "execution_count": 2,
   "metadata": {},
   "outputs": [],
   "source": [
    "# We load the 4 pre-processed datasets \n",
    "df_business = pd.read_csv('./data/df_business.csv')\n",
    "df_reviews = pd.read_csv('./data/df_reviews.csv')\n",
    "df_users = pd.read_csv('./data/df_user.csv')\n",
    "df_selectedReviews = pd.read_csv('./data/selectedReviews.csv')"
   ]
  },
  {
   "cell_type": "markdown",
   "metadata": {},
   "source": [
    "For reading purposes, the 4 datasets have the following form."
   ]
  },
  {
   "cell_type": "code",
   "execution_count": 12,
   "metadata": {},
   "outputs": [
    {
     "data": {
      "text/html": [
       "<div>\n",
       "<style scoped>\n",
       "    .dataframe tbody tr th:only-of-type {\n",
       "        vertical-align: middle;\n",
       "    }\n",
       "\n",
       "    .dataframe tbody tr th {\n",
       "        vertical-align: top;\n",
       "    }\n",
       "\n",
       "    .dataframe thead th {\n",
       "        text-align: right;\n",
       "    }\n",
       "</style>\n",
       "<table border=\"1\" class=\"dataframe\">\n",
       "  <thead>\n",
       "    <tr style=\"text-align: right;\">\n",
       "      <th></th>\n",
       "      <th>business_id</th>\n",
       "      <th>state</th>\n",
       "      <th>latitude</th>\n",
       "      <th>longitude</th>\n",
       "      <th>categories</th>\n",
       "      <th>stars</th>\n",
       "      <th>Travel</th>\n",
       "      <th>BusinessSupport</th>\n",
       "      <th>Home</th>\n",
       "      <th>Sport</th>\n",
       "      <th>...</th>\n",
       "      <th>RealEstate</th>\n",
       "      <th>Manufacturing</th>\n",
       "      <th>Health</th>\n",
       "      <th>Construction</th>\n",
       "      <th>Automotive</th>\n",
       "      <th>Computers</th>\n",
       "      <th>Entertainment</th>\n",
       "      <th>PersonalCare</th>\n",
       "      <th>Miscellaneous</th>\n",
       "      <th>Food</th>\n",
       "    </tr>\n",
       "  </thead>\n",
       "  <tbody>\n",
       "    <tr>\n",
       "      <th>0</th>\n",
       "      <td>f9NumwFMBDn751xgFiRbNA</td>\n",
       "      <td>NC</td>\n",
       "      <td>35.462724</td>\n",
       "      <td>-80.852612</td>\n",
       "      <td>['Active Life', 'Gun/Rifle Ranges', 'Guns &amp; Am...</td>\n",
       "      <td>3.5</td>\n",
       "      <td>False</td>\n",
       "      <td>False</td>\n",
       "      <td>False</td>\n",
       "      <td>False</td>\n",
       "      <td>...</td>\n",
       "      <td>False</td>\n",
       "      <td>False</td>\n",
       "      <td>False</td>\n",
       "      <td>False</td>\n",
       "      <td>False</td>\n",
       "      <td>False</td>\n",
       "      <td>True</td>\n",
       "      <td>True</td>\n",
       "      <td>False</td>\n",
       "      <td>False</td>\n",
       "    </tr>\n",
       "    <tr>\n",
       "      <th>1</th>\n",
       "      <td>Yzvjg0SayhoZgCljUJRF9Q</td>\n",
       "      <td>AZ</td>\n",
       "      <td>33.569404</td>\n",
       "      <td>-111.890264</td>\n",
       "      <td>['Health &amp; Medical', 'Fitness &amp; Instruction', ...</td>\n",
       "      <td>5.0</td>\n",
       "      <td>False</td>\n",
       "      <td>False</td>\n",
       "      <td>False</td>\n",
       "      <td>True</td>\n",
       "      <td>...</td>\n",
       "      <td>False</td>\n",
       "      <td>False</td>\n",
       "      <td>True</td>\n",
       "      <td>False</td>\n",
       "      <td>False</td>\n",
       "      <td>False</td>\n",
       "      <td>False</td>\n",
       "      <td>True</td>\n",
       "      <td>False</td>\n",
       "      <td>False</td>\n",
       "    </tr>\n",
       "    <tr>\n",
       "      <th>2</th>\n",
       "      <td>XNoUzKckATkOD1hP6vghZg</td>\n",
       "      <td>QC</td>\n",
       "      <td>45.479984</td>\n",
       "      <td>-73.580070</td>\n",
       "      <td>['Pets', 'Pet Services', 'Pet Groomers']</td>\n",
       "      <td>5.0</td>\n",
       "      <td>False</td>\n",
       "      <td>False</td>\n",
       "      <td>False</td>\n",
       "      <td>False</td>\n",
       "      <td>...</td>\n",
       "      <td>False</td>\n",
       "      <td>False</td>\n",
       "      <td>False</td>\n",
       "      <td>False</td>\n",
       "      <td>False</td>\n",
       "      <td>False</td>\n",
       "      <td>False</td>\n",
       "      <td>True</td>\n",
       "      <td>False</td>\n",
       "      <td>False</td>\n",
       "    </tr>\n",
       "  </tbody>\n",
       "</table>\n",
       "<p>3 rows × 23 columns</p>\n",
       "</div>"
      ],
      "text/plain": [
       "              business_id state   latitude   longitude  \\\n",
       "0  f9NumwFMBDn751xgFiRbNA    NC  35.462724  -80.852612   \n",
       "1  Yzvjg0SayhoZgCljUJRF9Q    AZ  33.569404 -111.890264   \n",
       "2  XNoUzKckATkOD1hP6vghZg    QC  45.479984  -73.580070   \n",
       "\n",
       "                                          categories  stars  Travel  \\\n",
       "0  ['Active Life', 'Gun/Rifle Ranges', 'Guns & Am...    3.5   False   \n",
       "1  ['Health & Medical', 'Fitness & Instruction', ...    5.0   False   \n",
       "2           ['Pets', 'Pet Services', 'Pet Groomers']    5.0   False   \n",
       "\n",
       "   BusinessSupport   Home  Sport  ...  RealEstate  Manufacturing  Health  \\\n",
       "0            False  False  False  ...       False          False   False   \n",
       "1            False  False   True  ...       False          False    True   \n",
       "2            False  False  False  ...       False          False   False   \n",
       "\n",
       "   Construction  Automotive  Computers  Entertainment  PersonalCare  \\\n",
       "0         False       False      False           True          True   \n",
       "1         False       False      False          False          True   \n",
       "2         False       False      False          False          True   \n",
       "\n",
       "   Miscellaneous   Food  \n",
       "0          False  False  \n",
       "1          False  False  \n",
       "2          False  False  \n",
       "\n",
       "[3 rows x 23 columns]"
      ]
     },
     "execution_count": 12,
     "metadata": {},
     "output_type": "execute_result"
    }
   ],
   "source": [
    "# Show an example\n",
    "df_business.head(3)"
   ]
  },
  {
   "cell_type": "code",
   "execution_count": 5,
   "metadata": {
    "scrolled": true
   },
   "outputs": [
    {
     "data": {
      "text/html": [
       "<div>\n",
       "<style scoped>\n",
       "    .dataframe tbody tr th:only-of-type {\n",
       "        vertical-align: middle;\n",
       "    }\n",
       "\n",
       "    .dataframe tbody tr th {\n",
       "        vertical-align: top;\n",
       "    }\n",
       "\n",
       "    .dataframe thead th {\n",
       "        text-align: right;\n",
       "    }\n",
       "</style>\n",
       "<table border=\"1\" class=\"dataframe\">\n",
       "  <thead>\n",
       "    <tr style=\"text-align: right;\">\n",
       "      <th></th>\n",
       "      <th>review_id</th>\n",
       "      <th>user_id</th>\n",
       "      <th>business_id</th>\n",
       "      <th>stars</th>\n",
       "      <th>date</th>\n",
       "    </tr>\n",
       "  </thead>\n",
       "  <tbody>\n",
       "    <tr>\n",
       "      <th>0</th>\n",
       "      <td>xQY8N_XvtGbearJ5X4QryQ</td>\n",
       "      <td>OwjRMXRC0KyPrIlcjaXeFQ</td>\n",
       "      <td>-MhfebM0QIsKt87iDN-FNw</td>\n",
       "      <td>2</td>\n",
       "      <td>2015-04-15 05:21:16</td>\n",
       "    </tr>\n",
       "    <tr>\n",
       "      <th>1</th>\n",
       "      <td>UmFMZ8PyXZTY2QcwzsfQYA</td>\n",
       "      <td>nIJD_7ZXHq-FX8byPMOkMQ</td>\n",
       "      <td>lbrU8StCq3yDfr-QMnGrmQ</td>\n",
       "      <td>1</td>\n",
       "      <td>2013-12-07 03:16:52</td>\n",
       "    </tr>\n",
       "    <tr>\n",
       "      <th>2</th>\n",
       "      <td>LG2ZaYiOgpr2DK_90pYjNw</td>\n",
       "      <td>V34qejxNsCbcgD8C0HVk-Q</td>\n",
       "      <td>HQl28KMwrEKHqhFrrDqVNQ</td>\n",
       "      <td>5</td>\n",
       "      <td>2015-12-05 03:18:11</td>\n",
       "    </tr>\n",
       "  </tbody>\n",
       "</table>\n",
       "</div>"
      ],
      "text/plain": [
       "                review_id                 user_id             business_id  \\\n",
       "0  xQY8N_XvtGbearJ5X4QryQ  OwjRMXRC0KyPrIlcjaXeFQ  -MhfebM0QIsKt87iDN-FNw   \n",
       "1  UmFMZ8PyXZTY2QcwzsfQYA  nIJD_7ZXHq-FX8byPMOkMQ  lbrU8StCq3yDfr-QMnGrmQ   \n",
       "2  LG2ZaYiOgpr2DK_90pYjNw  V34qejxNsCbcgD8C0HVk-Q  HQl28KMwrEKHqhFrrDqVNQ   \n",
       "\n",
       "   stars                 date  \n",
       "0      2  2015-04-15 05:21:16  \n",
       "1      1  2013-12-07 03:16:52  \n",
       "2      5  2015-12-05 03:18:11  "
      ]
     },
     "execution_count": 5,
     "metadata": {},
     "output_type": "execute_result"
    }
   ],
   "source": [
    "# Show an example\n",
    "df_reviews.head(3)"
   ]
  },
  {
   "cell_type": "code",
   "execution_count": 6,
   "metadata": {},
   "outputs": [
    {
     "data": {
      "text/html": [
       "<div>\n",
       "<style scoped>\n",
       "    .dataframe tbody tr th:only-of-type {\n",
       "        vertical-align: middle;\n",
       "    }\n",
       "\n",
       "    .dataframe tbody tr th {\n",
       "        vertical-align: top;\n",
       "    }\n",
       "\n",
       "    .dataframe thead th {\n",
       "        text-align: right;\n",
       "    }\n",
       "</style>\n",
       "<table border=\"1\" class=\"dataframe\">\n",
       "  <thead>\n",
       "    <tr style=\"text-align: right;\">\n",
       "      <th></th>\n",
       "      <th>user_id</th>\n",
       "      <th>friends</th>\n",
       "      <th>friend_list</th>\n",
       "    </tr>\n",
       "  </thead>\n",
       "  <tbody>\n",
       "    <tr>\n",
       "      <th>0</th>\n",
       "      <td>ntlvfPzc8eglqvk92iDIAw</td>\n",
       "      <td>oeMvJh94PiGQnx_6GlndPQ, wm1z1PaJKvHgSDRKfwhfDg...</td>\n",
       "      <td>[oeMvJh94PiGQnx_6GlndPQ, wm1z1PaJKvHgSDRKfwhfD...</td>\n",
       "    </tr>\n",
       "    <tr>\n",
       "      <th>1</th>\n",
       "      <td>FOBRPlBHa3WPHFB5qYDlVg</td>\n",
       "      <td>ly7EnE8leJmyqyePVYFlug, pRlR63iDytsnnniPb3AOug...</td>\n",
       "      <td>[ly7EnE8leJmyqyePVYFlug, pRlR63iDytsnnniPb3AOu...</td>\n",
       "    </tr>\n",
       "    <tr>\n",
       "      <th>2</th>\n",
       "      <td>zZUnPeh2hEp0WydbAZEOOg</td>\n",
       "      <td>Uwlk0txjQBPw_JhHsQnyeg, Ybxr1tSCkv3lYA0I1qmnPQ...</td>\n",
       "      <td>[Uwlk0txjQBPw_JhHsQnyeg, Ybxr1tSCkv3lYA0I1qmnP...</td>\n",
       "    </tr>\n",
       "  </tbody>\n",
       "</table>\n",
       "</div>"
      ],
      "text/plain": [
       "                  user_id                                            friends  \\\n",
       "0  ntlvfPzc8eglqvk92iDIAw  oeMvJh94PiGQnx_6GlndPQ, wm1z1PaJKvHgSDRKfwhfDg...   \n",
       "1  FOBRPlBHa3WPHFB5qYDlVg  ly7EnE8leJmyqyePVYFlug, pRlR63iDytsnnniPb3AOug...   \n",
       "2  zZUnPeh2hEp0WydbAZEOOg  Uwlk0txjQBPw_JhHsQnyeg, Ybxr1tSCkv3lYA0I1qmnPQ...   \n",
       "\n",
       "                                         friend_list  \n",
       "0  [oeMvJh94PiGQnx_6GlndPQ, wm1z1PaJKvHgSDRKfwhfD...  \n",
       "1  [ly7EnE8leJmyqyePVYFlug, pRlR63iDytsnnniPb3AOu...  \n",
       "2  [Uwlk0txjQBPw_JhHsQnyeg, Ybxr1tSCkv3lYA0I1qmnP...  "
      ]
     },
     "execution_count": 6,
     "metadata": {},
     "output_type": "execute_result"
    }
   ],
   "source": [
    "# Convert the string of friends to a list\n",
    "df_users['friend_list'] = df_users.apply(lambda x: x.friends.split(', '), axis=1)\n",
    "df_user = df_users.drop('friends', axis=1)\n",
    "# Show an example\n",
    "df_users.head(3)"
   ]
  },
  {
   "cell_type": "code",
   "execution_count": 7,
   "metadata": {},
   "outputs": [
    {
     "name": "stdout",
     "output_type": "stream",
     "text": [
      "There are 209393 businesses\n",
      "There are 8021122 reviews\n",
      "There are 1968703 users\n"
     ]
    }
   ],
   "source": [
    "print('There are', df_business.shape[0], 'businesses.')\n",
    "print('There are', df_reviews.shape[0], 'reviews.')\n",
    "print('There are', df_users.shape[0], 'users.')"
   ]
  },
  {
   "cell_type": "code",
   "execution_count": 7,
   "metadata": {
    "scrolled": true
   },
   "outputs": [
    {
     "data": {
      "text/html": [
       "<div>\n",
       "<style scoped>\n",
       "    .dataframe tbody tr th:only-of-type {\n",
       "        vertical-align: middle;\n",
       "    }\n",
       "\n",
       "    .dataframe tbody tr th {\n",
       "        vertical-align: top;\n",
       "    }\n",
       "\n",
       "    .dataframe thead th {\n",
       "        text-align: right;\n",
       "    }\n",
       "</style>\n",
       "<table border=\"1\" class=\"dataframe\">\n",
       "  <thead>\n",
       "    <tr style=\"text-align: right;\">\n",
       "      <th></th>\n",
       "      <th>Unnamed: 0</th>\n",
       "      <th>review_id</th>\n",
       "      <th>user_id</th>\n",
       "      <th>business_id</th>\n",
       "      <th>stars_x</th>\n",
       "      <th>date</th>\n",
       "      <th>latitude</th>\n",
       "      <th>longitude</th>\n",
       "      <th>stars_y</th>\n",
       "      <th>reviewed_by_friend_before</th>\n",
       "      <th>square_id</th>\n",
       "      <th>dist_checkin_home</th>\n",
       "      <th>week_day</th>\n",
       "    </tr>\n",
       "  </thead>\n",
       "  <tbody>\n",
       "    <tr>\n",
       "      <th>0</th>\n",
       "      <td>1</td>\n",
       "      <td>t7xOZF5UKXjSpVcXLOSAgw</td>\n",
       "      <td>owbC7FP8SNAlwv6f9S5Stw</td>\n",
       "      <td>-MhfebM0QIsKt87iDN-FNw</td>\n",
       "      <td>2</td>\n",
       "      <td>2014-03-14 08:24:25</td>\n",
       "      <td>36.112896</td>\n",
       "      <td>-115.177637</td>\n",
       "      <td>3.5</td>\n",
       "      <td>-1</td>\n",
       "      <td>160_-413</td>\n",
       "      <td>3.490097</td>\n",
       "      <td>4</td>\n",
       "    </tr>\n",
       "    <tr>\n",
       "      <th>1</th>\n",
       "      <td>2</td>\n",
       "      <td>MimB5Xh85rG7phUMPrShag</td>\n",
       "      <td>v9vGnjphb0Hta0lvtf5haA</td>\n",
       "      <td>-MhfebM0QIsKt87iDN-FNw</td>\n",
       "      <td>3</td>\n",
       "      <td>2015-10-07 22:16:59</td>\n",
       "      <td>36.112896</td>\n",
       "      <td>-115.177637</td>\n",
       "      <td>3.5</td>\n",
       "      <td>-1</td>\n",
       "      <td>160_-413</td>\n",
       "      <td>1.435575</td>\n",
       "      <td>2</td>\n",
       "    </tr>\n",
       "    <tr>\n",
       "      <th>2</th>\n",
       "      <td>4</td>\n",
       "      <td>cnV5xtm6WuyaLfot9uWbDg</td>\n",
       "      <td>LkWNo83Lg92C5V4JEyxOZA</td>\n",
       "      <td>-MhfebM0QIsKt87iDN-FNw</td>\n",
       "      <td>3</td>\n",
       "      <td>2010-10-10 01:27:31</td>\n",
       "      <td>36.112896</td>\n",
       "      <td>-115.177637</td>\n",
       "      <td>3.5</td>\n",
       "      <td>2</td>\n",
       "      <td>160_-413</td>\n",
       "      <td>3.632600</td>\n",
       "      <td>6</td>\n",
       "    </tr>\n",
       "  </tbody>\n",
       "</table>\n",
       "</div>"
      ],
      "text/plain": [
       "   Unnamed: 0               review_id                 user_id  \\\n",
       "0           1  t7xOZF5UKXjSpVcXLOSAgw  owbC7FP8SNAlwv6f9S5Stw   \n",
       "1           2  MimB5Xh85rG7phUMPrShag  v9vGnjphb0Hta0lvtf5haA   \n",
       "2           4  cnV5xtm6WuyaLfot9uWbDg  LkWNo83Lg92C5V4JEyxOZA   \n",
       "\n",
       "              business_id  stars_x                date   latitude   longitude  \\\n",
       "0  -MhfebM0QIsKt87iDN-FNw        2 2014-03-14 08:24:25  36.112896 -115.177637   \n",
       "1  -MhfebM0QIsKt87iDN-FNw        3 2015-10-07 22:16:59  36.112896 -115.177637   \n",
       "2  -MhfebM0QIsKt87iDN-FNw        3 2010-10-10 01:27:31  36.112896 -115.177637   \n",
       "\n",
       "   stars_y  reviewed_by_friend_before square_id  dist_checkin_home  week_day  \n",
       "0      3.5                         -1  160_-413           3.490097         4  \n",
       "1      3.5                         -1  160_-413           1.435575         2  \n",
       "2      3.5                          2  160_-413           3.632600         6  "
      ]
     },
     "execution_count": 7,
     "metadata": {},
     "output_type": "execute_result"
    }
   ],
   "source": [
    "# Convert date to datetime object\n",
    "df_selectedReviews[\"date\"] = pd.to_datetime(df_selectedReviews.date.values)\n",
    "# Show an example\n",
    "df_selectedReviews.head(3)"
   ]
  },
  {
   "cell_type": "markdown",
   "metadata": {},
   "source": [
    "# III. Part-A-of-study-graphs\n",
    "explaination, purpose etc\n",
    "\n",
    "### Find User's home"
   ]
  },
  {
   "cell_type": "code",
   "execution_count": null,
   "metadata": {},
   "outputs": [],
   "source": [
    "# Define some constants\n",
    "ONE_DEGREE_LATITIDE_TO_KM = 111\n",
    "EARTH_RADIUS = 6371\n",
    "\n",
    "# GOAL: unction used to compute the square_id given two coordinate (latitude coordinate and longitude coordinate)\n",
    "# INPUT: Takes as input two float that represent the latitude and longitude (be aware that order matters!)\n",
    "# OUTPUT: Returns a string that is the id of the cell in which the two coordinates are located in\n",
    "# Explanations on this function are given in section I\n",
    "def getSquareIdString(lat, long):\n",
    "    lat_id = math.trunc(lat*ONE_DEGREE_LATITIDE_TO_KM/25.0)\n",
    "    long_id = math.trunc(math.pi/180*EARTH_RADIUS*math.cos(math.radians(lat))*long/25)\n",
    "    return str(lat_id)+'_'+str(long_id)\n",
    "\n",
    "# Transform the function used to compute the square_id to a numpy usable function \n",
    "# (i.e argumennts of the function can be passed as np.array)\n",
    "# This is done to improve efficiency by avoiding the use of an apply on a dataframe, which would cause a lot of overhead \n",
    "# when working with indices\n",
    "vect_GetSquareIdString = np.vectorize(getSquareIdString)"
   ]
  },
  {
   "cell_type": "code",
   "execution_count": 367,
   "metadata": {},
   "outputs": [],
   "source": [
    "# GOAL: compute the arc-distance between two points with format (latitude, longitude)\n",
    "# INPUT: Takes two np.array where the first element is the latitude and the second is the longitude (be aware that latitude is first!)\n",
    "# OUTPUT: return the distance bewteen the two given points\n",
    "# NOTE: this function was copied verbatim from: \n",
    "# https://stackoverflow.com/questions/15736995/how-can-i-quickly-estimate-the-distance-between-two-latitude-longitude-points\n",
    "def haversine(x1, x2):\n",
    "    \"\"\"\n",
    "    Calculate the great circle distance between two points \n",
    "    on the earth (specified in decimal degrees)\n",
    "    \"\"\"\n",
    "    # convert decimal degrees to radians \n",
    "    lon1, lat1, lon2, lat2 = map(radians, [x1[1], x1[0], x2[1], x2[0]])\n",
    "    # haversine formula \n",
    "    dlon = lon2 - lon1 \n",
    "    dlat = lat2 - lat1 \n",
    "    a = sin(dlat/2)**2 + cos(lat1) * cos(lat2) * sin(dlon/2)**2\n",
    "    c = 2 * asin(sqrt(a)) \n",
    "    # Radius of earth in kilometers is 6371\n",
    "    km = 6371* c\n",
    "    return km"
   ]
  },
  {
   "cell_type": "code",
   "execution_count": 368,
   "metadata": {},
   "outputs": [],
   "source": [
    "def getUserHome(df):\n",
    "    # we are using the column time as a counter for the pair (user_id, square_id)\n",
    "    # in the meantime, we are computing the mean latitude and longitude for each pair (user_id, square_id)\n",
    "    save = df.groupby(['user_id', 'square_id']).agg({\n",
    "        'date': 'count', \n",
    "        'latitude': ['mean'],\n",
    "        'longitude': ['mean']\n",
    "    }).reset_index()\n",
    "    \n",
    "    # we copy the counter of pair (user_id, square_id), the mean latitude, and mean longitude \n",
    "    # in new columns\n",
    "    save['count'] = save['date']['count']\n",
    "    save['latitude_home'] = save['latitude']['mean']\n",
    "    save['longitude_home'] = save['longitude']['mean']\n",
    "\n",
    "    # we drop the columns the we previously copied \n",
    "    save = save.drop([('date', 'count'), 'square_id', ('latitude', 'mean'), ('longitude', 'mean')], axis=1)\n",
    "    \n",
    "    # we keep only the square_id with the most count \n",
    "    save = save.loc[save.groupby('user_id')['count'].idxmax()]\n",
    "    \n",
    "    # we drop the column count as it will be of no use later\n",
    "    save = save.drop('count', axis=1)\n",
    "    return save"
   ]
  },
  {
   "cell_type": "code",
   "execution_count": null,
   "metadata": {},
   "outputs": [],
   "source": [
    "# Compute the square_id for each user\n",
    "df_selectedReviews['square_id'] = vect_GetSquareIdString(df_selectedReviews['latitude'].values, df_selectedReviews['longitude'].values)"
   ]
  },
  {
   "cell_type": "code",
   "execution_count": null,
   "metadata": {},
   "outputs": [],
   "source": [
    "# Compute users' homes\n",
    "df_homes = getUserHome(df_selectedReviews)"
   ]
  },
  {
   "cell_type": "code",
   "execution_count": null,
   "metadata": {},
   "outputs": [],
   "source": [
    "df_homes.to_csv('./df_homes.csv',index=False)"
   ]
  },
  {
   "cell_type": "markdown",
   "metadata": {},
   "source": [
    "### Analysis of"
   ]
  },
  {
   "cell_type": "code",
   "execution_count": null,
   "metadata": {},
   "outputs": [],
   "source": [
    "# Merge review dataframe with selected users\n",
    "df_complete = pd.merge(df_reviews, df_selectedUsers, left_on='user_id', right_on='user_id', how='right')\n",
    "# Rename some column name for convenience\n",
    "df_complete = df_complete.rename(columns={('latitude_home', ''): \"latitude_home\", ('longitude_home', ''): \"longitude_home\"})\n",
    "df_business = df_business.rename(columns={\"stars\":\"actual_stars\"})"
   ]
  },
  {
   "cell_type": "code",
   "execution_count": null,
   "metadata": {},
   "outputs": [],
   "source": [
    "# Compute the distance between user home and business location\n",
    "df_complete['distance'] = df_complete.apply(lambda x: distance.cdist([(x.latitude_home, x.longitude_home)], [(x.latitude, x.longitude)], metric=haversine)[0,0], axis=1)"
   ]
  },
  {
   "cell_type": "code",
   "execution_count": null,
   "metadata": {},
   "outputs": [],
   "source": [
    "# Add mean ratings of businesses to the main dataframe\n",
    "df_complete = pd.merge(df_complete, df_business[['business_id', 'actual_stars']], left_on='business_id', right_on='business_id', how='inner')"
   ]
  },
  {
   "cell_type": "code",
   "execution_count": null,
   "metadata": {},
   "outputs": [],
   "source": [
    "# Create the bins for the plotting\n",
    "maxDistance = max(df_complete['distance'])\n",
    "# Create non linear groups of distances\n",
    "bins = np.geomspace(5, maxDistance, 15)\n",
    "# Center the bins\n",
    "binsCentered = (bins[:-1] + bins[1:])/2"
   ]
  },
  {
   "cell_type": "markdown",
   "metadata": {},
   "source": [
    "#### Probability to give good review depending on distance"
   ]
  },
  {
   "cell_type": "code",
   "execution_count": null,
   "metadata": {},
   "outputs": [],
   "source": [
    "# Group rows in dataframe by \"distance\"\n",
    "totalReview = df_complete['review_id'].groupby(pd.cut(df_complete['distance'], bins=bins)).count()\n",
    "# Good with 3 but can use 5 ----- to be modified at the end\n",
    "df_goodUserreviews = df_complete[df_complete['stars_x'] >= 3]\n",
    "df_badUserreviews = df_complete[df_complete['stars_x'] <= 2]"
   ]
  },
  {
   "cell_type": "code",
   "execution_count": null,
   "metadata": {},
   "outputs": [],
   "source": [
    "# Compute good reviews and bad reviews for each group\n",
    "goodUserReview = df_goodUserreviews['review_id'].groupby(pd.cut(df_goodUserreviews['distance'], bins=bins)).count()\n",
    "badUserReview = df_badUserreviews['review_id'].groupby(pd.cut(df_badUserreviews['distance'], bins=bins)).count()"
   ]
  },
  {
   "cell_type": "markdown",
   "metadata": {},
   "source": [
    "Plot the result."
   ]
  },
  {
   "cell_type": "code",
   "execution_count": null,
   "metadata": {},
   "outputs": [],
   "source": [
    "# Plot result\n",
    "plt.figure(figsize=(7,6)) \n",
    "plt.plot(binsCentered,goodUserReview/totalReview,'go', linestyle=\"-\", fillstyle=\"none\", markersize=15,label='Good Review')\n",
    "plt.xscale('log')\n",
    "plt.yscale('log')\n",
    "plt.xlabel(\"Check−in distance from home (km)\")\n",
    "plt.ylabel(\"P_GoodReview\")\n",
    "plt.legend(loc=\"lower right\")\n",
    "plt.title(\"Probability to Give Good Rating (stars >= 5) Depending on Distance\")"
   ]
  },
  {
   "cell_type": "markdown",
   "metadata": {},
   "source": [
    "##### Discussion:\n",
    "\n",
    "--"
   ]
  },
  {
   "cell_type": "markdown",
   "metadata": {},
   "source": [
    "#### Probability to go to good reviewed place"
   ]
  },
  {
   "cell_type": "code",
   "execution_count": null,
   "metadata": {},
   "outputs": [],
   "source": [
    "# Select rows for good reviews and bad reviews\n",
    "df_goodPlaceReviews = df_complete[df_complete['actual_stars'] >= 5]\n",
    "df_badPlaceReviews = df_complete[df_complete['actual_stars'] <= 2]"
   ]
  },
  {
   "cell_type": "code",
   "execution_count": null,
   "metadata": {},
   "outputs": [],
   "source": [
    "# Compute good reviews and bad reviews for each group\n",
    "goodPlaceReview = df_goodPlaceReviews['review_id'].groupby(pd.cut(df_goodPlaceReviews['distance'], bins=bins)).count()\n",
    "badPlaceReview = df_badPlaceReviews['review_id'].groupby(pd.cut(df_badPlaceReviews['distance'], bins=bins)).count()"
   ]
  },
  {
   "cell_type": "markdown",
   "metadata": {},
   "source": [
    "Plot the result."
   ]
  },
  {
   "cell_type": "code",
   "execution_count": null,
   "metadata": {},
   "outputs": [],
   "source": [
    "# Plot the result\n",
    "#plt.figure(figsize=(7,6)) \n",
    "plt.plot(binsCentered,goodPlaceReview/totalReview,'go', linestyle=\"-\", fillstyle=\"none\", markersize=15,label='Good Review')\n",
    "#plt.plot(binsCentered,badPlaceReview/totalReview,'ro', linestyle=\"-\", markersize=15,label='badReview')\n",
    "plt.xscale('log')\n",
    "plt.yscale('log')\n",
    "plt.xlabel(\"Check−in distance from home (km)\")\n",
    "plt.ylabel(\"P_GoodReview\")\n",
    "plt.legend(loc=\"lower right\")\n",
    "plt.title(\"Probability to go to Good Rated (stars >= 5) Place Depending on Distance\")"
   ]
  },
  {
   "cell_type": "markdown",
   "metadata": {},
   "source": [
    "##### Discussion:\n",
    "\n",
    "--"
   ]
  },
  {
   "cell_type": "markdown",
   "metadata": {},
   "source": [
    "#### Mean review given distance ?"
   ]
  },
  {
   "cell_type": "code",
   "execution_count": null,
   "metadata": {},
   "outputs": [],
   "source": [
    "meanActualStars = df_complete[['review_id', 'actual_stars']].groupby(pd.cut(df_complete['distance'], bins=bins))['actual_stars'].mean()\n",
    "meanGivenStars = df_complete[['review_id', 'stars']].groupby(pd.cut(df_complete['distance'], bins=bins))['stars'].mean()"
   ]
  },
  {
   "cell_type": "code",
   "execution_count": null,
   "metadata": {},
   "outputs": [],
   "source": [
    "plt.plot(binsCentered,meanActualStars,'r*', linestyle=\"-\", markersize=15,label='mean business stars')\n",
    "plt.plot(binsCentered,meanGivenStars,'b*', linestyle=\"-\", markersize=15,label='mean given stars')\n",
    "plt.xscale('log')\n",
    "plt.yscale('log')\n",
    "plt.xlabel(\"Check−in distance from home (km)\")\n",
    "plt.ylabel(\"P_GoodReview\")\n",
    "plt.legend(loc=\"lower right\")\n",
    "plt.title(\"Probability to go to Good Rated (stars >= 5) Place Depending on Distance\")"
   ]
  },
  {
   "cell_type": "markdown",
   "metadata": {},
   "source": [
    "# IV. Words of mouth impact\n",
    "\n",
    "In this section, we want to study friends' ratings influence on mobility with respect to traveling distances. Namely, we study whether friends' ratings can inflence on our mobility, and if yes, how?\n",
    "\n",
    "### Get the reviewed label\n",
    "\n",
    "To start, we distribute a `reviewed label` to each review, which is prepared for later use. The `reviewed label` is used to mark whether the business of the review have been reviewd by at least one of user's friends. If yes, whether her friend had given a good rating or not. <br>\n",
    "We decide to assign 0 to `reviewed label` if no user's friend had reviewed the same business as user, 1 if at least one user's friend had reviewed the same business and gave a bad rating (i.e. rating smaller than 3) and 2 if at least one user's friend had reviewed the same business and gave a good rating (i.e. rating greater than 4)."
   ]
  },
  {
   "cell_type": "code",
   "execution_count": null,
   "metadata": {},
   "outputs": [],
   "source": [
    "# Convert date to datatime object\n",
    "df_reviews[\"date\"] = pd.to_datetime(df_reviews.date.values)\n",
    "# Rename columns\n",
    "df_reviews = df_reviews.rename({\"stars_x\" : \"rating\", \"stars_y\" : \"average_rating\"},axis=1)\n",
    "# Group by user_id and business_id and return the corresponding date and rating\n",
    "df_reviews_groupedUser = df_reviews.groupby([\"user_id\",\"business_id\"])[[\"date\",\"rating\"]].agg(list)\n",
    "# Show an example\n",
    "df_reviews_groupedUser.head()"
   ]
  },
  {
   "cell_type": "code",
   "execution_count": null,
   "metadata": {},
   "outputs": [],
   "source": [
    "# Group by user_id and business\n",
    "level_user_id = df_reviews_groupedUser.groupby(level='user_id')\n",
    "\n",
    "# Create a dictionary of (user_id, business) → list of date and ratings of the business done by user\n",
    "user_business_date_dict = {}\n",
    "for idx, data in level_user_id:\n",
    "    user_business_date_dict[idx] = {}\n",
    "    for row_index, row in data.iterrows():\n",
    "        user_business_date_dict[idx][row_index[1]] = (row.date,row.rating)"
   ]
  },
  {
   "cell_type": "code",
   "execution_count": null,
   "metadata": {},
   "outputs": [],
   "source": [
    "def get_visit_label(user_id,business_id,date_user):\n",
    "    \"\"\"\n",
    "        Check whether the business has been reviewed by user's friends or not \n",
    "        user_id: id of user\n",
    "        business_id: id of business\n",
    "        date_user: date of review\n",
    "        Returns: rating of the user itself if a friend has left a good review in the same place before,\n",
    "                 -1 otherwise\n",
    "    \"\"\"\n",
    "    # Takes a row of the shape [\"user_id\",\"business_id\",\"date\"]\n",
    "    \n",
    "    # Get friend list of user:\n",
    "    friends = friends_dict.get(user_id)\n",
    "    for friend_id in friends:\n",
    "        friend_dates_rating = user_business_date_dict.get(friend_id, {}).get(business_id)\n",
    "        if(friend_dates_rating != None):\n",
    "            for date,rating in zip(friend_dates_rating[0],friend_dates_rating[1]):\n",
    "                if(date < date_user):\n",
    "                    return rating\n",
    "    return -1\n",
    "\n",
    "# Vectorize the function\n",
    "get_visit_label_vec = np.vectorize(get_visit_label)"
   ]
  },
  {
   "cell_type": "code",
   "execution_count": null,
   "metadata": {},
   "outputs": [],
   "source": [
    "# Select useful columns\n",
    "selected_reviews_array = np.array(df_selectedReviews[[\"user_id\",\"business_id\",\"date\"]])\n",
    "# Compute ratings if reviewed by a friend before\n",
    "df_selectedReviews[\"reviewed_by_friend_before\"] = get_visit_label_vec(selected_reviews_array[:,0],selected_reviews_array[:,1],selected_reviews_array[:,2])"
   ]
  },
  {
   "cell_type": "code",
   "execution_count": null,
   "metadata": {},
   "outputs": [],
   "source": [
    "def set_label(rating):\n",
    "    \"\"\"\n",
    "        Determine the visit label for each review\n",
    "        rating: rating of business\n",
    "        Return: 2 if a friend has left a good review,\n",
    "                1 if a friend has left a bad review,\n",
    "                0 otherwise\n",
    "    \"\"\"\n",
    "    if rating < 0:\n",
    "        return 0\n",
    "    elif rating < 3:\n",
    "        return 1\n",
    "    elif rating > 4:\n",
    "        return 2\n",
    "    else :\n",
    "        return 0"
   ]
  },
  {
   "cell_type": "code",
   "execution_count": null,
   "metadata": {},
   "outputs": [],
   "source": [
    "# Assign label to each review\n",
    "# 2 if a friend of user has left a good review,\n",
    "# 1 if a friend of user has left a bad review,\n",
    "# 0 otherwise\n",
    "df_selectedReviews[\"reviewed_before_friend_4\"] = df_selectedReviews[\"reviewed_by_friend_before\"].apply(set_label)"
   ]
  },
  {
   "cell_type": "code",
   "execution_count": null,
   "metadata": {},
   "outputs": [],
   "source": [
    "# Show an example\n",
    "df_selectedReviews.head()"
   ]
  },
  {
   "cell_type": "markdown",
   "metadata": {},
   "source": [
    "### Study friends' ratings influence on mobility\n",
    "\n",
    "Only checkins of the business where at least one of user's friends have been a reviewed before are studied. We aim to compute the probability to move to a well reviewed business with respect to distance, and the probability to move to a badly reviewed business with respect to distance, and finally, compare the results."
   ]
  },
  {
   "cell_type": "code",
   "execution_count": null,
   "metadata": {},
   "outputs": [],
   "source": [
    "# Work on a copy\n",
    "newframe = df_homes[['user_id']].copy()\n",
    "# Create a tuple of (latitude,longitude) for each check-in\n",
    "newframe['latlong'] = list(zip(df_homes['latitude_home'],df_homes['longitude_home']))\n",
    "# Create the dictionary mapping from cell_id to all check-ins done in the cell\n",
    "dict_user_home = newframe.groupby('user_id')['latlong'].apply(list).to_dict()"
   ]
  },
  {
   "cell_type": "code",
   "execution_count": null,
   "metadata": {},
   "outputs": [],
   "source": [
    "# Fetch the distance from users' home and business location, computed previously\n",
    "df_selectedReviews['dist_checkin_home'] = df_complete['distance'].copy()#df_selectedReviews.apply(lambda row: haversine( dict_user_home.get(row['user_id'])[0],(row['latitude'],row['longitude']) ),axis=1)"
   ]
  },
  {
   "cell_type": "code",
   "execution_count": 401,
   "metadata": {},
   "outputs": [],
   "source": [
    "# List all distances between check-in location and user's home\n",
    "distances = df_selectedReviews['dist_checkin_home'].values\n",
    "# Prepare the distance groups for the plot\n",
    "number_distance_groups = 10\n",
    "# Define interval of travelling distance\n",
    "interval_dist_min = 0.1\n",
    "interval_dist_max = max(distances)\n",
    "# Define non linear distance intervals\n",
    "interval_dist = np.geomspace(interval_dist_min , interval_dist_max, number_distance_groups)"
   ]
  },
  {
   "cell_type": "code",
   "execution_count": null,
   "metadata": {
    "scrolled": true
   },
   "outputs": [],
   "source": [
    "# Compute id of distance group for each review\n",
    "df_selectedReviews['id_groups'] = df_selectedReviews['dist_checkin_home'].apply(lambda x: bisect(interval_dist, x))\n",
    "# Show an example\n",
    "df_selectedReviews.head()"
   ]
  },
  {
   "cell_type": "code",
   "execution_count": 403,
   "metadata": {},
   "outputs": [],
   "source": [
    "# Preapare the dataframe for word of mouth, keeping only reviews for which user's friend has reviewed the same business before\n",
    "df_selectedReviews_v2 = df_selectedReviews[df_selectedReviews[\"reviewed_before_friend_4\"] !=0]"
   ]
  },
  {
   "cell_type": "code",
   "execution_count": 404,
   "metadata": {},
   "outputs": [],
   "source": [
    "def compute_fractions(df,number_distance_groups):\n",
    "    \"\"\"\n",
    "        Compute the popability of travelling(recommended (or not) by at least one friend) as a funtion of distance travelled\n",
    "        df: dataframe\n",
    "        number_distance_groups: number of distance groups\n",
    "        Return: porbability that user travels with/without friends' recommendation as a function of distance\n",
    "    \"\"\"\n",
    "    # Group the dataframe by id_groups and review label\n",
    "    grouped = df.groupby(['id_groups','reviewed_before_friend_4']).count()['user_id'].reset_index()\n",
    "    # Count the numbers of each label in the same group\n",
    "    grouped.rename(columns = {'user_id':'counts'},inplace=True)\n",
    "    # Create a dictionary mapping from (group_id, label) to the number of counts\n",
    "    dict_group_revlabel = grouped.groupby(['id_groups','reviewed_before_friend_4'])['counts'].apply(list).apply(np.squeeze).to_dict()\n",
    "    \n",
    "    # Initialize arrays\n",
    "    good_reviews = []\n",
    "    bad_reviews = []\n",
    "    \n",
    "    # For all groups\n",
    "    for group_id in range(number_distance_groups):\n",
    "        # Find all reviews in the group\n",
    "        target_rows = np.where(df['id_groups']==group_id)[0]\n",
    "        tot = float(len(target_rows))\n",
    "        if(tot==0):\n",
    "            # When there is no review for this group, append 0 to the fraction\n",
    "            good_reviews.append(0)\n",
    "            bad_reviews.append(0)\n",
    "        else:\n",
    "            # Count the number of recommended and not recommended reviews within the group\n",
    "            group_good = (dict_group_revlabel.get((group_id,2))or 0)\n",
    "            group_bad = (dict_group_revlabel.get((group_id,1))or 0)\n",
    "            # Compute the porbability that user travels with/without friends' recommendation\n",
    "            good_reviews.append(group_good/tot) \n",
    "            bad_reviews.append(group_bad/tot)\n",
    "            \n",
    "    return good_reviews,bad_reviews"
   ]
  },
  {
   "cell_type": "code",
   "execution_count": 405,
   "metadata": {},
   "outputs": [],
   "source": [
    "# Compute the popability of travelling(recommended (or not) by at least one friend) as a funtion of distance travelled\n",
    "good_reviews,bad_reviews = compute_fractions(df_selectedReviews_v2,number_distance_groups)"
   ]
  },
  {
   "cell_type": "code",
   "execution_count": 407,
   "metadata": {
    "scrolled": false
   },
   "outputs": [
    {
     "data": {
      "image/png": "[encoded data removed]",
      "text/plain": [
       "<Figure size 864x432 with 1 Axes>"
      ]
     },
     "metadata": {
      "needs_background": "light"
     },
     "output_type": "display_data"
    }
   ],
   "source": [
    "# Plot the result\n",
    "plt.figure(figsize=(12, 6))\n",
    "# What I obtain previously, with the first P_null\n",
    "#plt.subplot(121)\n",
    "plt.plot(interval_dist,good_reviews,'r*-', markersize=10,label='Travel to a business recommended by a friend)')\n",
    "plt.plot(interval_dist,bad_reviews,'bo-', markersize=10,label='Travel to a business NOT recommended by a friend)')\n",
    "plt.xscale('log')\n",
    "plt.yscale('log')\n",
    "plt.ylabel(\"Porbability\")\n",
    "plt.xlabel(\"Check−in distance from home (km)\")\n",
    "plt.legend(loc=\"lower left\")\n",
    "plt.title(\"--TITLE TO DEFINE --\")\n",
    "\n",
    "plt.show()"
   ]
  },
  {
   "cell_type": "markdown",
   "metadata": {},
   "source": [
    "##### Discussion:\n",
    "\n",
    "--"
   ]
  },
  {
   "cell_type": "markdown",
   "metadata": {},
   "source": [
    "# V. Week Day Study\n",
    "In this section, we aim to study the pattern of humain mobility depending on week day. To do so, all reviews are grouped by week day, then the probability of travelling as a function of distance travelled is computed for each day of the week."
   ]
  },
  {
   "cell_type": "code",
   "execution_count": null,
   "metadata": {},
   "outputs": [],
   "source": [
    "# Apply weekday() to each date in the dataframe\n",
    "df_selectedReviews[\"week_day\"]=df_selectedReviews.date.apply(lambda x : x.weekday())"
   ]
  },
  {
   "cell_type": "code",
   "execution_count": 408,
   "metadata": {},
   "outputs": [],
   "source": [
    "def compute_fractions_week(df,number_distance_groups):\n",
    "    \"\"\"\n",
    "        For each day of the week, compute the popability of travelling as a funtion of distance travelled\n",
    "        df: dataframe\n",
    "        number_distance_groups: number of distance groups\n",
    "        Return: porbability that user travels as a function of distance for each day\n",
    "    \"\"\"\n",
    "    # Group the dataframe by id_groups and week day\n",
    "    grouped = df.groupby(['id_groups','week_day']).count()['user_id'].reset_index()\n",
    "    # Count the numbers of each label in the same group\n",
    "    grouped.rename(columns = {'user_id':'counts'},inplace=True)\n",
    "    # Create a dictionary mapping from (group_id, week day) to the number of counts\n",
    "    dict_group_revlabel = grouped.groupby(['id_groups','week_day'])['counts'].apply(list).apply(np.squeeze).to_dict()\n",
    "    \n",
    "    # Initialize arrays\n",
    "    mon_reviews = []\n",
    "    tue_reviews = []\n",
    "    wed_reviews = []\n",
    "    thu_reviews = []\n",
    "    fri_reviews = []\n",
    "    sat_reviews = []\n",
    "    sun_reviews = []\n",
    "    \n",
    "    # For all groups\n",
    "    for group_id in range(number_distance_groups):\n",
    "        # Find all reviews in the group\n",
    "        target_rows = np.where(df['id_groups']==group_id)[0]\n",
    "        tot = float(len(target_rows))\n",
    "        if(tot==0):\n",
    "            # When there is no review for this group, append 0 to the fraction\n",
    "            good_reviews.append(0)\n",
    "            bad_reviews.append(0)\n",
    "        else:\n",
    "            # Count the number of reviews for each week day within the group\n",
    "            group_mon = (dict_group_revlabel.get((group_id,0))or 0)\n",
    "            group_tue = (dict_group_revlabel.get((group_id,1))or 0)\n",
    "            group_wed = (dict_group_revlabel.get((group_id,2))or 0)\n",
    "            group_thu = (dict_group_revlabel.get((group_id,3))or 0)\n",
    "            group_fri = (dict_group_revlabel.get((group_id,4))or 0)\n",
    "            group_sat = (dict_group_revlabel.get((group_id,5))or 0)\n",
    "            group_sun = (dict_group_revlabel.get((group_id,6))or 0)\n",
    "            # Compute the porbability that user travels as a function of distance for each day\n",
    "            mon_reviews.append(group_mon/tot) \n",
    "            tue_reviews.append(group_tue/tot)\n",
    "            wed_reviews.append(group_wed/tot)\n",
    "            thu_reviews.append(group_thu/tot)\n",
    "            fri_reviews.append(group_fri/tot)\n",
    "            sat_reviews.append(group_sat/tot)\n",
    "            sun_reviews.append(group_sun/tot)\n",
    "            \n",
    "    return mon_reviews,tue_reviews,wed_reviews,thu_reviews,fri_reviews,sat_reviews,sun_reviews"
   ]
  },
  {
   "cell_type": "code",
   "execution_count": 409,
   "metadata": {},
   "outputs": [],
   "source": [
    "# Compute fractions for all week days\n",
    "mon_reviews,tue_reviews,wed_reviews,thu_reviews,fri_reviews,sat_reviews,sun_reviews = compute_fractions_week(df_selectedReviews_v2,number_distance_groups)"
   ]
  },
  {
   "cell_type": "code",
   "execution_count": 411,
   "metadata": {
    "scrolled": true
   },
   "outputs": [
    {
     "data": {
      "image/png": "[encoded data removed]",
      "text/plain": [
       "<Figure size 864x432 with 1 Axes>"
      ]
     },
     "metadata": {
      "needs_background": "light"
     },
     "output_type": "display_data"
    }
   ],
   "source": [
    "# Plot the result\n",
    "plt.figure(figsize=(12, 6))\n",
    "# What I obtain previously, with the first P_null\n",
    "#plt.subplot(121)\n",
    "plt.plot(interval_dist,mon_reviews,'ro-', markersize=10,label='Travel to a business on monday')\n",
    "plt.plot(interval_dist,tue_reviews,'bo-', markersize=10,label='Travel to a business on tuesday')\n",
    "plt.plot(interval_dist,wed_reviews,'co-', markersize=10,label='Travel to a business on wednesday')\n",
    "plt.plot(interval_dist,thu_reviews,'yo-', markersize=10,label='Travel to a business on thursday')\n",
    "plt.plot(interval_dist,fri_reviews,'go-', markersize=10,label='Travel to a business on friday')\n",
    "plt.plot(interval_dist,sat_reviews,'mo-', markersize=10,label='Travel to a business on saturday')\n",
    "plt.plot(interval_dist,sun_reviews,'ko-', markersize=10,label='Travel to a business on sunday')\n",
    "plt.xscale('log')\n",
    "plt.yscale('log')\n",
    "plt.ylabel(\"Porbability\")\n",
    "plt.xlabel(\"Check−in distance from home (km)\")\n",
    "plt.legend(loc=\"lower left\")\n",
    "plt.title(\"--TITLE TO DEFINE --\")\n",
    "\n",
    "plt.show()"
   ]
  },
  {
   "cell_type": "markdown",
   "metadata": {},
   "source": [
    "##### Discussion:\n",
    "\n",
    "--"
   ]
  },
  {
   "cell_type": "markdown",
   "metadata": {},
   "source": [
    "# Variant"
   ]
  },
  {
   "cell_type": "code",
   "execution_count": 412,
   "metadata": {},
   "outputs": [],
   "source": [
    "mon_checkins = df_selectedReviews_v2[df_selectedReviews_v2[\"week_day\"] == 0]\n",
    "tue_checkins = df_selectedReviews_v2[df_selectedReviews_v2[\"week_day\"] == 1]\n",
    "wed_checkins = df_selectedReviews_v2[df_selectedReviews_v2[\"week_day\"] == 2]\n",
    "thu_checkins = df_selectedReviews_v2[df_selectedReviews_v2[\"week_day\"] == 3]\n",
    "fri_checkins = df_selectedReviews_v2[df_selectedReviews_v2[\"week_day\"] == 4]\n",
    "sat_checkins = df_selectedReviews_v2[df_selectedReviews_v2[\"week_day\"] == 5]\n",
    "sun_checkins = df_selectedReviews_v2[df_selectedReviews_v2[\"week_day\"] == 6]"
   ]
  },
  {
   "cell_type": "code",
   "execution_count": 413,
   "metadata": {},
   "outputs": [],
   "source": [
    "mon_good_reviews,mon_bad_reviews = compute_fractions(mon_checkins,number_distance_groups)\n",
    "tue_good_reviews,tue_bad_reviews = compute_fractions(tue_checkins,number_distance_groups)\n",
    "wed_good_reviews,wed_bad_reviews = compute_fractions(wed_checkins,number_distance_groups)\n",
    "thu_good_reviews,thu_bad_reviews = compute_fractions(thu_checkins,number_distance_groups)\n",
    "fri_good_reviews,fri_bad_reviews = compute_fractions(fri_checkins,number_distance_groups)\n",
    "sat_good_reviews,sat_bad_reviews = compute_fractions(sat_checkins,number_distance_groups)\n",
    "sun_good_reviews,sun_bad_reviews = compute_fractions(sun_checkins,number_distance_groups)"
   ]
  },
  {
   "cell_type": "code",
   "execution_count": 414,
   "metadata": {},
   "outputs": [
    {
     "data": {
      "text/plain": [
       "<matplotlib.legend.Legend at 0x7f79385590d0>"
      ]
     },
     "execution_count": 414,
     "metadata": {},
     "output_type": "execute_result"
    },
    {
     "data": {
      "image/png": "[encoded data removed]",
      "text/plain": [
       "<Figure size 1008x1080 with 8 Axes>"
      ]
     },
     "metadata": {
      "needs_background": "light"
     },
     "output_type": "display_data"
    }
   ],
   "source": [
    "# Plot the result\n",
    "f, ax = plt.subplots(4, 2, figsize=(14, 15))\n",
    "ax[0,0].plot(interval_dist,mon_good_reviews,'r*-', markersize=10,label='Travel to a business recommended by a friend)')\n",
    "ax[0,0].plot(interval_dist,mon_bad_reviews,'bo-', markersize=10,label='Travel to a business NOT recommended by a friend)')\n",
    "ax[0,0].set_xscale('log')\n",
    "ax[0,0].set_yscale('log')\n",
    "ax[0,0].set_title(\"Monday\")\n",
    "\n",
    "ax[0,1].plot(interval_dist,tue_good_reviews,'r*-', markersize=10,label='Travel to a business recommended by a friend)')\n",
    "ax[0,1].plot(interval_dist,tue_bad_reviews,'bo-', markersize=10,label='Travel to a business NOT recommended by a friend)')\n",
    "ax[0,1].set_xscale('log')\n",
    "ax[0,1].set_yscale('log')\n",
    "ax[0,1].set_title(\"Tuesday\")\n",
    "\n",
    "ax[1,0].plot(interval_dist,wed_good_reviews,'r*-', markersize=10,label='Travel to a business recommended by a friend)')\n",
    "ax[1,0].plot(interval_dist,wed_bad_reviews,'bo-', markersize=10,label='Travel to a business NOT recommended by a friend)')\n",
    "ax[1,0].set_xscale('log')\n",
    "ax[1,0].set_yscale('log')\n",
    "ax[1,0].set_title(\"Wednesday\")\n",
    "\n",
    "ax[1,1].plot(interval_dist,thu_good_reviews,'r*-', markersize=10,label='Travel to a business recommended by a friend)')\n",
    "ax[1,1].plot(interval_dist,thu_bad_reviews,'bo-', markersize=10,label='Travel to a business NOT recommended by a friend)')\n",
    "ax[1,1].set_xscale('log')\n",
    "ax[1,1].set_yscale('log')\n",
    "ax[1,1].set_title(\"Thursday\")\n",
    "\n",
    "ax[2,0].plot(interval_dist,fri_good_reviews,'r*-', markersize=10,label='Travel to a business recommended by a friend)')\n",
    "ax[2,0].plot(interval_dist,fri_bad_reviews,'bo-', markersize=10,label='Travel to a business NOT recommended by a friend)')\n",
    "ax[2,0].set_xscale('log')\n",
    "ax[2,0].set_yscale('log')\n",
    "ax[2,0].set_title(\"Friday\")\n",
    "\n",
    "ax[2,1].plot(interval_dist,sat_good_reviews,'r*-', markersize=10,label='Travel to a business recommended by a friend)')\n",
    "ax[2,1].plot(interval_dist,sat_bad_reviews,'bo-', markersize=10,label='Travel to a business NOT recommended by a friend)')\n",
    "ax[2,1].set_xscale('log')\n",
    "ax[2,1].set_yscale('log')\n",
    "ax[2,1].set_title(\"Saturday\")\n",
    "\n",
    "ax[3,0].plot(interval_dist,sun_good_reviews,'r*-', markersize=10,label='Travel to a business recommended by a friend)')\n",
    "ax[3,0].plot(interval_dist,sun_bad_reviews,'bo-', markersize=10,label='Travel to a business NOT recommended by a friend)')\n",
    "ax[3,0].set_xscale('log')\n",
    "ax[3,0].set_yscale('log')\n",
    "ax[3,0].set_title(\"Sunday\")\n",
    "\n",
    "ax[3,1].plot(interval_dist,good_reviews,'r*-', markersize=10,label='Travel to a business recommended by a friend)')\n",
    "ax[3,1].plot(interval_dist,bad_reviews,'bo-', markersize=10,label='Travel to a business NOT recommended by a friend)')\n",
    "ax[3,1].set_xscale('log')\n",
    "ax[3,1].set_yscale('log')\n",
    "ax[3,1].set_title(\"All Week\")\n",
    "\n",
    "\n",
    "handles, labels = ax[0,0].get_legend_handles_labels()\n",
    "f.legend(handles, labels, loc='center')"
   ]
  },
  {
   "cell_type": "markdown",
   "metadata": {},
   "source": [
    "##### Discussion:\n",
    "\n",
    "--"
   ]
  },
  {
   "cell_type": "markdown",
   "metadata": {},
   "source": [
    "# Categories\n",
    "In this section, we aim to study whether there are categories that influence more on human mobility."
   ]
  },
  {
   "cell_type": "code",
   "execution_count": null,
   "metadata": {},
   "outputs": [],
   "source": [
    "# Merge category masks to the selectedReview dataframe, so that we can easily get access to categories of each business\n",
    "df_selectedReviews_cat = pd.merge(df_selectedReviews, df_business[[\"business_id\"]+list(set(df_categories['category']))], left_on='business_id', right_on='business_id', how='inner')"
   ]
  },
  {
   "cell_type": "code",
   "execution_count": null,
   "metadata": {},
   "outputs": [],
   "source": [
    "# Select only rows where business has been reviewed by at least one of user's friends before\n",
    "df_selectedReviews_catv2 = df_selectedReviews_cat[df_selectedReviews_cat[\"reviewed_before_friend_4\"] !=0]"
   ]
  },
  {
   "cell_type": "code",
   "execution_count": null,
   "metadata": {},
   "outputs": [],
   "source": [
    "# ?\n",
    "check_in_per_category_v2 = []\n",
    "for cat in set(df_categories['category']):\n",
    "    check_in_per_category_v2.append(df_selectedReviews_catv2[df_selectedReviews_catv2[cat] == True].drop(list(set(df_categories['category'])),axis = 1))"
   ]
  },
  {
   "cell_type": "code",
   "execution_count": null,
   "metadata": {},
   "outputs": [],
   "source": [
    "# \n",
    "good_bad_reviews_cat_v2 = []\n",
    "for df in check_in_per_category:\n",
    "    good_bad_reviews_cat_v2.append(compute_fractions(df,number_distance_groups))\n",
    "good_bad_reviews_cat_v2.append(compute_fractions(df_selectedReviews_catv2,number_distance_groups))"
   ]
  },
  {
   "cell_type": "code",
   "execution_count": null,
   "metadata": {},
   "outputs": [],
   "source": [
    "# Plot the result\n",
    "f, ax = plt.subplots(9, 2, figsize=(14, 20))\n",
    "i = 0\n",
    "for cat in set(df_categories['category']):\n",
    "    ix = i%9\n",
    "    iy = i%2\n",
    "    ax[ix,iy].plot(interval_dist,good_bad_reviews_cat_v2[i][0],'r*-', markersize=10,label='Travel to a business recommended by a friend)')\n",
    "    ax[ix,iy].plot(interval_dist,good_bad_reviews_cat_v2[i][1],'bo-', markersize=10,label='Travel to a business NOT recommended by a friend)')\n",
    "    ax[ix,iy].set_xscale('log')\n",
    "    ax[ix,iy].set_yscale('log')\n",
    "    ax[ix,iy].set_title(cat)\n",
    "    i += 1\n",
    "\n",
    "ax[8,1].plot(interval_dist,good_bad_reviews_cat_v2[i][0],'r*-', markersize=10,label='Travel to a business recommended by a friend)')\n",
    "ax[8,1].plot(interval_dist,good_bad_reviews_cat_v2[i][1],'bo-', markersize=10,label='Travel to a business NOT recommended by a friend)')\n",
    "ax[8,1].set_xscale('log')\n",
    "ax[8,1].set_yscale('log')\n",
    "ax[8,1].set_title('All cat')"
   ]
  },
  {
   "cell_type": "markdown",
   "metadata": {},
   "source": [
    "##### Discussion:\n",
    "\n",
    "--"
   ]
  },
  {
   "cell_type": "code",
   "execution_count": null,
   "metadata": {},
   "outputs": [],
   "source": [
    "# \n",
    "check_in_per_category_v1 = []\n",
    "for cat in set(df_categories['category']):\n",
    "    check_in_per_category_v1.append(df_selectedReviews_cat[df_selectedReviews_cat[cat] == True].drop(list(set(df_categories['category'])),axis = 1))"
   ]
  },
  {
   "cell_type": "code",
   "execution_count": null,
   "metadata": {},
   "outputs": [],
   "source": [
    "# \n",
    "good_bad_reviews_cat_v1 = []\n",
    "for df in check_in_per_category_v1:\n",
    "    good_bad_reviews_cat_v1.append(compute_fractions(df,number_distance_groups))\n",
    "good_bad_reviews_cat_v1.append(compute_fractions(df_selectedReviews_cat,number_distance_groups))"
   ]
  },
  {
   "cell_type": "code",
   "execution_count": null,
   "metadata": {},
   "outputs": [],
   "source": [
    "# Plot the result\n",
    "f, ax = plt.subplots(9, 2, figsize=(14, 20))\n",
    "i = 0\n",
    "for cat in set(df_categories['category']):\n",
    "    ix = i%9\n",
    "    iy = i%2\n",
    "    ax[ix,iy].plot(interval_dist,good_bad_reviews_cat_v1[i][0],'r*-', markersize=10,label='Travel to a business recommended by a friend)')\n",
    "    ax[ix,iy].plot(interval_dist,good_bad_reviews_cat_v1[i][1],'bo-', markersize=10,label='Travel to a business NOT recommended by a friend)')\n",
    "    ax[ix,iy].set_xscale('log')\n",
    "    ax[ix,iy].set_yscale('log')\n",
    "    ax[ix,iy].set_title(cat)\n",
    "    i += 1\n",
    "\n",
    "ax[8,1].plot(interval_dist,good_bad_reviews_cat_v1[i][0],'r*-', markersize=10,label='Travel to a business recommended by a friend)')\n",
    "ax[8,1].plot(interval_dist,good_bad_reviews_cat_v1[i][1],'bo-', markersize=10,label='Travel to a business NOT recommended by a friend)')\n",
    "ax[8,1].set_xscale('log')\n",
    "ax[8,1].set_yscale('log')\n",
    "ax[8,1].set_title('All cat')"
   ]
  },
  {
   "cell_type": "markdown",
   "metadata": {},
   "source": [
    "##### Discussion:\n",
    "\n",
    "--"
   ]
  },
  {
   "cell_type": "code",
   "execution_count": null,
   "metadata": {},
   "outputs": [],
   "source": []
  },
  {
   "cell_type": "code",
   "execution_count": null,
   "metadata": {},
   "outputs": [],
   "source": []
  },
  {
   "cell_type": "code",
   "execution_count": null,
   "metadata": {},
   "outputs": [],
   "source": []
  },
  {
   "cell_type": "code",
   "execution_count": null,
   "metadata": {},
   "outputs": [],
   "source": []
  },
  {
   "cell_type": "code",
   "execution_count": null,
   "metadata": {},
   "outputs": [],
   "source": []
  },
  {
   "cell_type": "code",
   "execution_count": null,
   "metadata": {},
   "outputs": [],
   "source": []
  },
  {
   "cell_type": "code",
   "execution_count": null,
   "metadata": {},
   "outputs": [],
   "source": []
  },
  {
   "cell_type": "code",
   "execution_count": null,
   "metadata": {},
   "outputs": [],
   "source": []
  },
  {
   "cell_type": "code",
   "execution_count": null,
   "metadata": {},
   "outputs": [],
   "source": []
  }
 ],
 "metadata": {
  "kernelspec": {
   "display_name": "Python 3",
   "language": "python",
   "name": "python3"
  },
  "language_info": {
   "codemirror_mode": {
    "name": "ipython",
    "version": 3
   },
   "file_extension": ".py",
   "mimetype": "text/x-python",
   "name": "python",
   "nbconvert_exporter": "python",
   "pygments_lexer": "ipython3",
   "version": "3.7.4"
  }
 },
 "nbformat": 4,
 "nbformat_minor": 4
}
