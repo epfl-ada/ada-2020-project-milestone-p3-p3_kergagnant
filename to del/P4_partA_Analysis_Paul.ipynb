{
 "cells": [
  {
   "cell_type": "code",
   "execution_count": 1,
   "metadata": {},
   "outputs": [],
   "source": [
    "import json\n",
    "import math\n",
    "import pickle\n",
    "import pandas as pd\n",
    "import numpy as np\n",
    "import seaborn as sns\n",
    "import matplotlib.pyplot as plt\n",
    "from scipy.spatial import distance\n",
    "from math import radians, cos, sin, asin, sqrt\n",
    "\n",
    "\n"
   ]
  },
  {
   "cell_type": "markdown",
   "metadata": {},
   "source": [
    "# I. Load the data & some insights"
   ]
  },
  {
   "cell_type": "code",
   "execution_count": 2,
   "metadata": {},
   "outputs": [],
   "source": [
    "# We load the 3 datasets \n",
    "df_business = pd.read_csv('./data/df_business.csv')\n",
    "df_reviews = pd.read_csv('./data/df_reviews.csv')\n",
    "df_users = pd.read_csv('./data/df_user.csv')"
   ]
  },
  {
   "cell_type": "code",
   "execution_count": 3,
   "metadata": {},
   "outputs": [],
   "source": [
    "# Convert the string of friends to a list\n",
    "df_users['friend_list'] = df_users.apply(lambda x: x.friends.split(', '), axis=1)\n",
    "df_user = df_users.drop('friends', axis=1)"
   ]
  },
  {
   "cell_type": "markdown",
   "metadata": {},
   "source": [
    "For reading purposes, the 3 datasets have the following form"
   ]
  },
  {
   "cell_type": "code",
   "execution_count": 26,
   "metadata": {},
   "outputs": [
    {
     "data": {
      "text/html": [
       "<div>\n",
       "<style scoped>\n",
       "    .dataframe tbody tr th:only-of-type {\n",
       "        vertical-align: middle;\n",
       "    }\n",
       "\n",
       "    .dataframe tbody tr th {\n",
       "        vertical-align: top;\n",
       "    }\n",
       "\n",
       "    .dataframe thead th {\n",
       "        text-align: right;\n",
       "    }\n",
       "</style>\n",
       "<table border=\"1\" class=\"dataframe\">\n",
       "  <thead>\n",
       "    <tr style=\"text-align: right;\">\n",
       "      <th></th>\n",
       "      <th>business_id</th>\n",
       "      <th>state</th>\n",
       "      <th>latitude</th>\n",
       "      <th>longitude</th>\n",
       "      <th>categories</th>\n",
       "      <th>stars</th>\n",
       "      <th>state</th>\n",
       "      <th>Entertainment</th>\n",
       "      <th>Merchant</th>\n",
       "      <th>Education</th>\n",
       "      <th>...</th>\n",
       "      <th>Legal</th>\n",
       "      <th>RealEstate</th>\n",
       "      <th>Construction</th>\n",
       "      <th>Manufacturing</th>\n",
       "      <th>Health</th>\n",
       "      <th>Food</th>\n",
       "      <th>Home</th>\n",
       "      <th>Miscellaneous</th>\n",
       "      <th>BusinessSupport</th>\n",
       "      <th>PersonalCare</th>\n",
       "    </tr>\n",
       "  </thead>\n",
       "  <tbody>\n",
       "    <tr>\n",
       "      <th>0</th>\n",
       "      <td>f9NumwFMBDn751xgFiRbNA</td>\n",
       "      <td>NC</td>\n",
       "      <td>35.462724</td>\n",
       "      <td>-80.852612</td>\n",
       "      <td>[Active Life, Gun/Rifle Ranges, Guns &amp; Ammo, S...</td>\n",
       "      <td>3.5</td>\n",
       "      <td>NC</td>\n",
       "      <td>True</td>\n",
       "      <td>True</td>\n",
       "      <td>False</td>\n",
       "      <td>...</td>\n",
       "      <td>False</td>\n",
       "      <td>False</td>\n",
       "      <td>False</td>\n",
       "      <td>False</td>\n",
       "      <td>False</td>\n",
       "      <td>False</td>\n",
       "      <td>False</td>\n",
       "      <td>False</td>\n",
       "      <td>False</td>\n",
       "      <td>True</td>\n",
       "    </tr>\n",
       "    <tr>\n",
       "      <th>1</th>\n",
       "      <td>Yzvjg0SayhoZgCljUJRF9Q</td>\n",
       "      <td>AZ</td>\n",
       "      <td>33.569404</td>\n",
       "      <td>-111.890264</td>\n",
       "      <td>[Health &amp; Medical, Fitness &amp; Instruction, Yoga...</td>\n",
       "      <td>5.0</td>\n",
       "      <td>AZ</td>\n",
       "      <td>False</td>\n",
       "      <td>False</td>\n",
       "      <td>False</td>\n",
       "      <td>...</td>\n",
       "      <td>False</td>\n",
       "      <td>False</td>\n",
       "      <td>False</td>\n",
       "      <td>False</td>\n",
       "      <td>True</td>\n",
       "      <td>False</td>\n",
       "      <td>False</td>\n",
       "      <td>False</td>\n",
       "      <td>False</td>\n",
       "      <td>True</td>\n",
       "    </tr>\n",
       "    <tr>\n",
       "      <th>2</th>\n",
       "      <td>XNoUzKckATkOD1hP6vghZg</td>\n",
       "      <td>QC</td>\n",
       "      <td>45.479984</td>\n",
       "      <td>-73.580070</td>\n",
       "      <td>[Pets, Pet Services, Pet Groomers]</td>\n",
       "      <td>5.0</td>\n",
       "      <td>QC</td>\n",
       "      <td>False</td>\n",
       "      <td>False</td>\n",
       "      <td>False</td>\n",
       "      <td>...</td>\n",
       "      <td>False</td>\n",
       "      <td>False</td>\n",
       "      <td>False</td>\n",
       "      <td>False</td>\n",
       "      <td>False</td>\n",
       "      <td>False</td>\n",
       "      <td>False</td>\n",
       "      <td>False</td>\n",
       "      <td>False</td>\n",
       "      <td>True</td>\n",
       "    </tr>\n",
       "  </tbody>\n",
       "</table>\n",
       "<p>3 rows × 24 columns</p>\n",
       "</div>"
      ],
      "text/plain": [
       "              business_id state   latitude   longitude  \\\n",
       "0  f9NumwFMBDn751xgFiRbNA    NC  35.462724  -80.852612   \n",
       "1  Yzvjg0SayhoZgCljUJRF9Q    AZ  33.569404 -111.890264   \n",
       "2  XNoUzKckATkOD1hP6vghZg    QC  45.479984  -73.580070   \n",
       "\n",
       "                                          categories  stars state  \\\n",
       "0  [Active Life, Gun/Rifle Ranges, Guns & Ammo, S...    3.5    NC   \n",
       "1  [Health & Medical, Fitness & Instruction, Yoga...    5.0    AZ   \n",
       "2                 [Pets, Pet Services, Pet Groomers]    5.0    QC   \n",
       "\n",
       "   Entertainment  Merchant  Education  ...  Legal  RealEstate  Construction  \\\n",
       "0           True      True      False  ...  False       False         False   \n",
       "1          False     False      False  ...  False       False         False   \n",
       "2          False     False      False  ...  False       False         False   \n",
       "\n",
       "   Manufacturing  Health   Food   Home  Miscellaneous  BusinessSupport  \\\n",
       "0          False   False  False  False          False            False   \n",
       "1          False    True  False  False          False            False   \n",
       "2          False   False  False  False          False            False   \n",
       "\n",
       "   PersonalCare  \n",
       "0          True  \n",
       "1          True  \n",
       "2          True  \n",
       "\n",
       "[3 rows x 24 columns]"
      ]
     },
     "execution_count": 26,
     "metadata": {},
     "output_type": "execute_result"
    }
   ],
   "source": [
    "df_business.head(3)"
   ]
  },
  {
   "cell_type": "code",
   "execution_count": 27,
   "metadata": {},
   "outputs": [
    {
     "data": {
      "text/html": [
       "<div>\n",
       "<style scoped>\n",
       "    .dataframe tbody tr th:only-of-type {\n",
       "        vertical-align: middle;\n",
       "    }\n",
       "\n",
       "    .dataframe tbody tr th {\n",
       "        vertical-align: top;\n",
       "    }\n",
       "\n",
       "    .dataframe thead th {\n",
       "        text-align: right;\n",
       "    }\n",
       "</style>\n",
       "<table border=\"1\" class=\"dataframe\">\n",
       "  <thead>\n",
       "    <tr style=\"text-align: right;\">\n",
       "      <th></th>\n",
       "      <th>review_id</th>\n",
       "      <th>user_id</th>\n",
       "      <th>business_id</th>\n",
       "      <th>stars</th>\n",
       "      <th>date</th>\n",
       "    </tr>\n",
       "  </thead>\n",
       "  <tbody>\n",
       "    <tr>\n",
       "      <th>0</th>\n",
       "      <td>xQY8N_XvtGbearJ5X4QryQ</td>\n",
       "      <td>OwjRMXRC0KyPrIlcjaXeFQ</td>\n",
       "      <td>-MhfebM0QIsKt87iDN-FNw</td>\n",
       "      <td>2</td>\n",
       "      <td>2015-04-15 05:21:16</td>\n",
       "    </tr>\n",
       "    <tr>\n",
       "      <th>1</th>\n",
       "      <td>UmFMZ8PyXZTY2QcwzsfQYA</td>\n",
       "      <td>nIJD_7ZXHq-FX8byPMOkMQ</td>\n",
       "      <td>lbrU8StCq3yDfr-QMnGrmQ</td>\n",
       "      <td>1</td>\n",
       "      <td>2013-12-07 03:16:52</td>\n",
       "    </tr>\n",
       "    <tr>\n",
       "      <th>2</th>\n",
       "      <td>LG2ZaYiOgpr2DK_90pYjNw</td>\n",
       "      <td>V34qejxNsCbcgD8C0HVk-Q</td>\n",
       "      <td>HQl28KMwrEKHqhFrrDqVNQ</td>\n",
       "      <td>5</td>\n",
       "      <td>2015-12-05 03:18:11</td>\n",
       "    </tr>\n",
       "  </tbody>\n",
       "</table>\n",
       "</div>"
      ],
      "text/plain": [
       "                review_id                 user_id             business_id  \\\n",
       "0  xQY8N_XvtGbearJ5X4QryQ  OwjRMXRC0KyPrIlcjaXeFQ  -MhfebM0QIsKt87iDN-FNw   \n",
       "1  UmFMZ8PyXZTY2QcwzsfQYA  nIJD_7ZXHq-FX8byPMOkMQ  lbrU8StCq3yDfr-QMnGrmQ   \n",
       "2  LG2ZaYiOgpr2DK_90pYjNw  V34qejxNsCbcgD8C0HVk-Q  HQl28KMwrEKHqhFrrDqVNQ   \n",
       "\n",
       "   stars                 date  \n",
       "0      2  2015-04-15 05:21:16  \n",
       "1      1  2013-12-07 03:16:52  \n",
       "2      5  2015-12-05 03:18:11  "
      ]
     },
     "execution_count": 27,
     "metadata": {},
     "output_type": "execute_result"
    }
   ],
   "source": [
    "df_reviews.head(3)"
   ]
  },
  {
   "cell_type": "code",
   "execution_count": 28,
   "metadata": {},
   "outputs": [
    {
     "data": {
      "text/html": [
       "<div>\n",
       "<style scoped>\n",
       "    .dataframe tbody tr th:only-of-type {\n",
       "        vertical-align: middle;\n",
       "    }\n",
       "\n",
       "    .dataframe tbody tr th {\n",
       "        vertical-align: top;\n",
       "    }\n",
       "\n",
       "    .dataframe thead th {\n",
       "        text-align: right;\n",
       "    }\n",
       "</style>\n",
       "<table border=\"1\" class=\"dataframe\">\n",
       "  <thead>\n",
       "    <tr style=\"text-align: right;\">\n",
       "      <th></th>\n",
       "      <th>user_id</th>\n",
       "      <th>friends</th>\n",
       "      <th>friend_list</th>\n",
       "    </tr>\n",
       "  </thead>\n",
       "  <tbody>\n",
       "    <tr>\n",
       "      <th>0</th>\n",
       "      <td>ntlvfPzc8eglqvk92iDIAw</td>\n",
       "      <td>oeMvJh94PiGQnx_6GlndPQ, wm1z1PaJKvHgSDRKfwhfDg...</td>\n",
       "      <td>[oeMvJh94PiGQnx_6GlndPQ, wm1z1PaJKvHgSDRKfwhfD...</td>\n",
       "    </tr>\n",
       "    <tr>\n",
       "      <th>1</th>\n",
       "      <td>FOBRPlBHa3WPHFB5qYDlVg</td>\n",
       "      <td>ly7EnE8leJmyqyePVYFlug, pRlR63iDytsnnniPb3AOug...</td>\n",
       "      <td>[ly7EnE8leJmyqyePVYFlug, pRlR63iDytsnnniPb3AOu...</td>\n",
       "    </tr>\n",
       "    <tr>\n",
       "      <th>2</th>\n",
       "      <td>zZUnPeh2hEp0WydbAZEOOg</td>\n",
       "      <td>Uwlk0txjQBPw_JhHsQnyeg, Ybxr1tSCkv3lYA0I1qmnPQ...</td>\n",
       "      <td>[Uwlk0txjQBPw_JhHsQnyeg, Ybxr1tSCkv3lYA0I1qmnP...</td>\n",
       "    </tr>\n",
       "  </tbody>\n",
       "</table>\n",
       "</div>"
      ],
      "text/plain": [
       "                  user_id                                            friends  \\\n",
       "0  ntlvfPzc8eglqvk92iDIAw  oeMvJh94PiGQnx_6GlndPQ, wm1z1PaJKvHgSDRKfwhfDg...   \n",
       "1  FOBRPlBHa3WPHFB5qYDlVg  ly7EnE8leJmyqyePVYFlug, pRlR63iDytsnnniPb3AOug...   \n",
       "2  zZUnPeh2hEp0WydbAZEOOg  Uwlk0txjQBPw_JhHsQnyeg, Ybxr1tSCkv3lYA0I1qmnPQ...   \n",
       "\n",
       "                                         friend_list  \n",
       "0  [oeMvJh94PiGQnx_6GlndPQ, wm1z1PaJKvHgSDRKfwhfD...  \n",
       "1  [ly7EnE8leJmyqyePVYFlug, pRlR63iDytsnnniPb3AOu...  \n",
       "2  [Uwlk0txjQBPw_JhHsQnyeg, Ybxr1tSCkv3lYA0I1qmnP...  "
      ]
     },
     "execution_count": 28,
     "metadata": {},
     "output_type": "execute_result"
    }
   ],
   "source": [
    "df_users.head(3)"
   ]
  },
  {
   "cell_type": "code",
   "execution_count": 29,
   "metadata": {},
   "outputs": [
    {
     "name": "stdout",
     "output_type": "stream",
     "text": [
      "There are 209393 businesses\n",
      "There are 8021122 reviews\n",
      "There are 1968703 users\n"
     ]
    }
   ],
   "source": [
    "print('There are', df_business.shape[0], 'businesses')\n",
    "print('There are', df_reviews.shape[0], 'reviews')\n",
    "print('There are', df_users.shape[0], 'users')"
   ]
  },
  {
   "cell_type": "markdown",
   "metadata": {},
   "source": [
    "For our study, we need to infer user's home, so we need **at least 3 reviews**. Also, we will study users with **at least 3 friends**.  "
   ]
  },
  {
   "cell_type": "code",
   "execution_count": 30,
   "metadata": {},
   "outputs": [],
   "source": [
    "# We count the number of reviewe per user\n",
    "df_numberOfReviews = df_reviews.groupby('user_id').count().drop(['business_id', 'stars', 'date'], axis = 1).rename(columns={'review_id': 'review_count'})"
   ]
  },
  {
   "cell_type": "code",
   "execution_count": 31,
   "metadata": {},
   "outputs": [],
   "source": [
    "# We merge the df_users dataset to the df_numberOfReviews dataset\n",
    "df_users = pd.merge(df_users, df_numberOfReviews, left_on='user_id', right_on='user_id', how='inner')"
   ]
  },
  {
   "cell_type": "code",
   "execution_count": 32,
   "metadata": {},
   "outputs": [],
   "source": [
    "# We create a mask for users with more than 3 friends\n",
    "mask = df_users.apply(lambda x: len(x.friend_list) >= 3, axis=1)"
   ]
  },
  {
   "cell_type": "code",
   "execution_count": 33,
   "metadata": {},
   "outputs": [
    {
     "name": "stdout",
     "output_type": "stream",
     "text": [
      "Number of users with more than 3 reviews: 602736\n",
      "Number of users with more than 3 friends: 957463\n"
     ]
    }
   ],
   "source": [
    "print('Number of users with more than 3 reviews:', df_numberOfReviews[df_numberOfReviews['review_count'] >= 3].shape[0])\n",
    "print('Number of users with more than 3 friends:', df_users[mask].shape[0])"
   ]
  },
  {
   "cell_type": "code",
   "execution_count": 34,
   "metadata": {},
   "outputs": [
    {
     "name": "stdout",
     "output_type": "stream",
     "text": [
      "Number of users with more than 4 reviews and with more than 3 friends: 343424\n"
     ]
    }
   ],
   "source": [
    "# Select users that satisfy both conditions\n",
    "df_selectedUsers = df_users[mask&(df_users['review_count'] >= 3)]\n",
    "print('Number of users with more than 4 reviews and with more than 3 friends:', df_selectedUsers.shape[0])"
   ]
  },
  {
   "cell_type": "code",
   "execution_count": 35,
   "metadata": {},
   "outputs": [
    {
     "name": "stdout",
     "output_type": "stream",
     "text": [
      "Number of checkins of selected users: 4516345\n"
     ]
    }
   ],
   "source": [
    "# Number of checkins of the selected users\n",
    "print('Number of checkins of selected users:', df_selectedUsers['review_count'].sum())"
   ]
  },
  {
   "cell_type": "code",
   "execution_count": 60,
   "metadata": {},
   "outputs": [],
   "source": [
    "df_reviews = pd.merge(df_reviews, df_business, left_on='business_id', right_on='business_id', how='inner').drop(['state'], axis=1)"
   ]
  },
  {
   "cell_type": "markdown",
   "metadata": {},
   "source": [
    "# I. Find user's home"
   ]
  },
  {
   "cell_type": "code",
   "execution_count": 55,
   "metadata": {},
   "outputs": [],
   "source": [
    "# some constants\n",
    "ONE_DEGREE_LATITIDE_TO_KM = 111\n",
    "EARTH_RADIUS = 6371\n",
    "\n",
    "# GOAL: unction used to compute the square_id given two coordinate (latitude coordinate and longitude coordinate)\n",
    "# INPUT: Takes as input two float that represent the latitude and longitude (be aware that order matters!)\n",
    "# OUTPUT: Returns a string that is the id of the cell in which the two coordinates are located in\n",
    "# Explanations on this function are given in section I\n",
    "def getSquareIdString(lat, long):\n",
    "    lat_id = math.trunc(lat*ONE_DEGREE_LATITIDE_TO_KM/25.0)\n",
    "    long_id = math.trunc(math.pi/180*EARTH_RADIUS*math.cos(math.radians(lat))*long/25)\n",
    "    return str(lat_id)+'_'+str(long_id)\n",
    "\n",
    "# Transform the function used to compute the square_id to a numpy usable function \n",
    "# (i.e argumennts of the function can be passed as np.array)\n",
    "# This is done to improve efficiency by avoiding the use of an apply on a dataframe, which would cause a lot of overhead \n",
    "# when working with indices\n",
    "vect_GetSquareIdString = np.vectorize(getSquareIdString)"
   ]
  },
  {
   "cell_type": "code",
   "execution_count": 56,
   "metadata": {},
   "outputs": [],
   "source": [
    "# GOAL: compute the arc-distance between two points with format (latitude, longitude)\n",
    "# INPUT: Takes two np.array where the first element is the latitude and the second is the longitude (be aware that latitude is first!)\n",
    "# OUTPUT: return the distance bewteen the two given points\n",
    "# NOTE: this function was copied verbatim from: \n",
    "# https://stackoverflow.com/questions/15736995/how-can-i-quickly-estimate-the-distance-between-two-latitude-longitude-points\n",
    "def haversine(x1, x2):\n",
    "    \"\"\"\n",
    "    Calculate the great circle distance between two points \n",
    "    on the earth (specified in decimal degrees)\n",
    "    \"\"\"\n",
    "    # convert decimal degrees to radians \n",
    "    lon1, lat1, lon2, lat2 = map(radians, [x1[1], x1[0], x2[1], x2[0]])\n",
    "    # haversine formula \n",
    "    dlon = lon2 - lon1 \n",
    "    dlat = lat2 - lat1 \n",
    "    a = sin(dlat/2)**2 + cos(lat1) * cos(lat2) * sin(dlon/2)**2\n",
    "    c = 2 * asin(sqrt(a)) \n",
    "    # Radius of earth in kilometers is 6371\n",
    "    km = 6371* c\n",
    "    return km"
   ]
  },
  {
   "cell_type": "code",
   "execution_count": 57,
   "metadata": {},
   "outputs": [],
   "source": [
    "def getUserHome(df):\n",
    "    # we are using the column time as a counter for the pair (user_id, square_id)\n",
    "    # in the meantime, we are computing the mean latitude and longitude for each pair (user_id, square_id)\n",
    "    save = df.groupby(['user_id', 'square_id']).agg({\n",
    "        'date': 'count', \n",
    "        'latitude': ['mean'],\n",
    "        'longitude': ['mean']\n",
    "    }).reset_index()\n",
    "    \n",
    "    # we copy the counter of pair (user_id, square_id), the mean latitude, and mean longitude \n",
    "    # in new columns\n",
    "    save['count'] = save['date']['count']\n",
    "    save['latitude_home'] = save['latitude']['mean']\n",
    "    save['longitude_home'] = save['longitude']['mean']\n",
    "\n",
    "    # we drop the columns the we previously copied \n",
    "    save = save.drop([('date', 'count'), 'square_id', ('latitude', 'mean'), ('longitude', 'mean')], axis=1)\n",
    "    \n",
    "    # we keep only the square_id with the most count \n",
    "    save = save.loc[save.groupby('user_id')['count'].idxmax()]\n",
    "    \n",
    "    # we drop the column count as it will be of no use later\n",
    "    save = save.drop('count', axis=1)\n",
    "    return save"
   ]
  },
  {
   "cell_type": "code",
   "execution_count": 61,
   "metadata": {},
   "outputs": [],
   "source": [
    "df_reviews['square_id'] = vect_GetSquareIdString(df_reviews['latitude'].values, df_reviews['longitude'].values)"
   ]
  },
  {
   "cell_type": "code",
   "execution_count": 62,
   "metadata": {},
   "outputs": [
    {
     "name": "stderr",
     "output_type": "stream",
     "text": [
      "/Users/paulmansat/opt/anaconda3/lib/python3.8/site-packages/pandas/core/generic.py:3936: PerformanceWarning: dropping on a non-lexsorted multi-index without a level parameter may impact performance.\n",
      "  obj = obj._drop_axis(labels, axis, level=level, errors=errors)\n"
     ]
    }
   ],
   "source": [
    "df_homes = getUserHome(df_reviews)"
   ]
  },
  {
   "cell_type": "code",
   "execution_count": null,
   "metadata": {},
   "outputs": [],
   "source": []
  },
  {
   "cell_type": "code",
   "execution_count": 63,
   "metadata": {},
   "outputs": [
    {
     "name": "stderr",
     "output_type": "stream",
     "text": [
      "/Users/paulmansat/opt/anaconda3/lib/python3.8/site-packages/pandas/core/reshape/merge.py:618: UserWarning: merging between different levels can give an unintended result (1 levels on the left, 2 on the right)\n",
      "  warnings.warn(msg, UserWarning)\n"
     ]
    }
   ],
   "source": [
    "df_selectedUsers = pd.merge(df_selectedUsers, df_homes, left_on='user_id', right_on='user_id', how='left')"
   ]
  },
  {
   "cell_type": "code",
   "execution_count": 21,
   "metadata": {},
   "outputs": [
    {
     "data": {
      "text/html": [
       "<div>\n",
       "<style scoped>\n",
       "    .dataframe tbody tr th:only-of-type {\n",
       "        vertical-align: middle;\n",
       "    }\n",
       "\n",
       "    .dataframe tbody tr th {\n",
       "        vertical-align: top;\n",
       "    }\n",
       "\n",
       "    .dataframe thead tr th {\n",
       "        text-align: left;\n",
       "    }\n",
       "</style>\n",
       "<table border=\"1\" class=\"dataframe\">\n",
       "  <thead>\n",
       "    <tr>\n",
       "      <th></th>\n",
       "      <th>user_id</th>\n",
       "      <th>latitude_home</th>\n",
       "      <th>longitude_home</th>\n",
       "    </tr>\n",
       "    <tr>\n",
       "      <th></th>\n",
       "      <th></th>\n",
       "      <th></th>\n",
       "      <th></th>\n",
       "    </tr>\n",
       "  </thead>\n",
       "  <tbody>\n",
       "    <tr>\n",
       "      <th>3</th>\n",
       "      <td>---1lKK3aKOuomHnwAkAow</td>\n",
       "      <td>36.155733</td>\n",
       "      <td>-115.202243</td>\n",
       "    </tr>\n",
       "    <tr>\n",
       "      <th>6</th>\n",
       "      <td>---3o4ZsKYoBYBe7H6xG8A</td>\n",
       "      <td>36.263859</td>\n",
       "      <td>-115.265990</td>\n",
       "    </tr>\n",
       "    <tr>\n",
       "      <th>7</th>\n",
       "      <td>---89pEy_h9PvHwcHNbpyg</td>\n",
       "      <td>36.110518</td>\n",
       "      <td>-115.305637</td>\n",
       "    </tr>\n",
       "    <tr>\n",
       "      <th>8</th>\n",
       "      <td>---94vtJ_5o_nikEs6hUjg</td>\n",
       "      <td>33.612476</td>\n",
       "      <td>-111.987214</td>\n",
       "    </tr>\n",
       "    <tr>\n",
       "      <th>10</th>\n",
       "      <td>---PLwSf5gKdIoVnyRHgBA</td>\n",
       "      <td>33.619849</td>\n",
       "      <td>-111.959372</td>\n",
       "    </tr>\n",
       "    <tr>\n",
       "      <th>...</th>\n",
       "      <td>...</td>\n",
       "      <td>...</td>\n",
       "      <td>...</td>\n",
       "    </tr>\n",
       "    <tr>\n",
       "      <th>3033660</th>\n",
       "      <td>zzzTrQ2bkvteEngjkXCTAA</td>\n",
       "      <td>33.639402</td>\n",
       "      <td>-112.011426</td>\n",
       "    </tr>\n",
       "    <tr>\n",
       "      <th>3033662</th>\n",
       "      <td>zzzfcCWPDkg-kGVpqCKCEg</td>\n",
       "      <td>36.083868</td>\n",
       "      <td>-115.098392</td>\n",
       "    </tr>\n",
       "    <tr>\n",
       "      <th>3033663</th>\n",
       "      <td>zzzhFxwfzL56CQVnw8piTw</td>\n",
       "      <td>36.055678</td>\n",
       "      <td>-115.118681</td>\n",
       "    </tr>\n",
       "    <tr>\n",
       "      <th>3033664</th>\n",
       "      <td>zzzmshdEWLFCApxETl1TGQ</td>\n",
       "      <td>33.377818</td>\n",
       "      <td>-111.890791</td>\n",
       "    </tr>\n",
       "    <tr>\n",
       "      <th>3033666</th>\n",
       "      <td>zzzv9W8ShM4TkXZGMFVY1w</td>\n",
       "      <td>40.427132</td>\n",
       "      <td>-79.968175</td>\n",
       "    </tr>\n",
       "  </tbody>\n",
       "</table>\n",
       "<p>1968703 rows × 3 columns</p>\n",
       "</div>"
      ],
      "text/plain": [
       "                        user_id latitude_home longitude_home\n",
       "                                                            \n",
       "3        ---1lKK3aKOuomHnwAkAow     36.155733    -115.202243\n",
       "6        ---3o4ZsKYoBYBe7H6xG8A     36.263859    -115.265990\n",
       "7        ---89pEy_h9PvHwcHNbpyg     36.110518    -115.305637\n",
       "8        ---94vtJ_5o_nikEs6hUjg     33.612476    -111.987214\n",
       "10       ---PLwSf5gKdIoVnyRHgBA     33.619849    -111.959372\n",
       "...                         ...           ...            ...\n",
       "3033660  zzzTrQ2bkvteEngjkXCTAA     33.639402    -112.011426\n",
       "3033662  zzzfcCWPDkg-kGVpqCKCEg     36.083868    -115.098392\n",
       "3033663  zzzhFxwfzL56CQVnw8piTw     36.055678    -115.118681\n",
       "3033664  zzzmshdEWLFCApxETl1TGQ     33.377818    -111.890791\n",
       "3033666  zzzv9W8ShM4TkXZGMFVY1w     40.427132     -79.968175\n",
       "\n",
       "[1968703 rows x 3 columns]"
      ]
     },
     "execution_count": 21,
     "metadata": {},
     "output_type": "execute_result"
    }
   ],
   "source": [
    "df_homes"
   ]
  },
  {
   "cell_type": "markdown",
   "metadata": {},
   "source": [
    "## Part A of study graphs"
   ]
  },
  {
   "cell_type": "code",
   "execution_count": 22,
   "metadata": {},
   "outputs": [],
   "source": [
    "df_complete = pd.merge(df_reviews, df_selectedUsers, left_on='user_id', right_on='user_id', how='right')"
   ]
  },
  {
   "cell_type": "code",
   "execution_count": 23,
   "metadata": {},
   "outputs": [],
   "source": [
    "df_complete = df_complete.rename(columns={('latitude_home', ''): \"latitude_home\", ('longitude_home', ''): \"longitude_home\"})"
   ]
  },
  {
   "cell_type": "code",
   "execution_count": 24,
   "metadata": {},
   "outputs": [],
   "source": [
    "df_business = df_business.rename(columns={\"stars\":\"actual_stars\"})"
   ]
  },
  {
   "cell_type": "code",
   "execution_count": 25,
   "metadata": {},
   "outputs": [],
   "source": [
    "df_complete['distance'] = df_complete.apply(lambda x: distance.cdist([(x.latitude_home, x.longitude_home)], [(x.latitude, x.longitude)], metric=haversine)[0,0], axis=1)"
   ]
  },
  {
   "cell_type": "code",
   "execution_count": 26,
   "metadata": {},
   "outputs": [],
   "source": [
    "# A save point\n",
    "rollback = df_complete.copy()"
   ]
  },
  {
   "cell_type": "code",
   "execution_count": 27,
   "metadata": {},
   "outputs": [],
   "source": [
    "df_complete = pd.merge(df_complete, df_business[['business_id', 'actual_stars']], left_on='business_id', right_on='business_id', how='inner')"
   ]
  },
  {
   "cell_type": "code",
   "execution_count": 28,
   "metadata": {},
   "outputs": [],
   "source": [
    "# Create the bins for the plotting\n",
    "maxDistance = max(df_complete['distance'])\n"
   ]
  },
  {
   "cell_type": "code",
   "execution_count": 29,
   "metadata": {},
   "outputs": [],
   "source": [
    "bins = np.geomspace(5, maxDistance, 15)\n",
    "binsCentered = (bins[:-1] + bins[1:])/2"
   ]
  },
  {
   "cell_type": "markdown",
   "metadata": {},
   "source": [
    "## Probability to give good review depending on distance"
   ]
  },
  {
   "cell_type": "code",
   "execution_count": 30,
   "metadata": {},
   "outputs": [],
   "source": [
    "totalReview = df_complete['review_id'].groupby(pd.cut(df_complete['distance'], bins=bins)).count()"
   ]
  },
  {
   "cell_type": "code",
   "execution_count": 33,
   "metadata": {},
   "outputs": [],
   "source": [
    "# Good with 3 but can use 5\n",
    "df_goodUserreviews = df_complete[df_complete['stars_x'] >= 3]\n",
    "df_badUserreviews = df_complete[df_complete['stars_x'] <= 2]"
   ]
  },
  {
   "cell_type": "code",
   "execution_count": 34,
   "metadata": {},
   "outputs": [],
   "source": [
    "goodUserReview = df_goodUserreviews['review_id'].groupby(pd.cut(df_goodUserreviews['distance'], bins=bins)).count()"
   ]
  },
  {
   "cell_type": "code",
   "execution_count": 35,
   "metadata": {},
   "outputs": [],
   "source": [
    "badUserReview = df_badUserreviews['review_id'].groupby(pd.cut(df_badUserreviews['distance'], bins=bins)).count()"
   ]
  },
  {
   "cell_type": "code",
   "execution_count": 36,
   "metadata": {},
   "outputs": [
    {
     "data": {
      "text/plain": [
       "Text(0.5, 1.0, 'Probability to Give Good Rating (stars >= 5) Depending on Distance')"
      ]
     },
     "execution_count": 36,
     "metadata": {},
     "output_type": "execute_result"
    },
    {
     "data": {
      "image/png": "[encoded data removed]",
      "text/plain": [
       "<Figure size 504x432 with 1 Axes>"
      ]
     },
     "metadata": {
      "needs_background": "light"
     },
     "output_type": "display_data"
    }
   ],
   "source": [
    "plt.figure(figsize=(7,6)) \n",
    "plt.plot(binsCentered,goodUserReview/totalReview,'go', linestyle=\"-\", fillstyle=\"none\", markersize=15,label='Good Review')\n",
    "plt.xscale('log')\n",
    "plt.yscale('log')\n",
    "plt.xlabel(\"Check−in distance from home (km)\")\n",
    "plt.ylabel(\"P_GoodReview\")\n",
    "plt.legend(loc=\"lower right\")\n",
    "plt.title(\"Probability to Give Good Rating (stars >= 5) Depending on Distance\")\n",
    "#plt.ylim(0,10**2)"
   ]
  },
  {
   "cell_type": "markdown",
   "metadata": {},
   "source": [
    "## Probability to go to good reviewed place"
   ]
  },
  {
   "cell_type": "code",
   "execution_count": null,
   "metadata": {},
   "outputs": [],
   "source": [
    "df_goodPlaceReviews = df_complete[df_complete['actual_stars'] >= 5]\n",
    "df_badPlaceReviews = df_complete[df_complete['actual_stars'] <= 2]"
   ]
  },
  {
   "cell_type": "code",
   "execution_count": null,
   "metadata": {},
   "outputs": [],
   "source": [
    "goodPlaceReview = df_goodPlaceReviews['review_id'].groupby(pd.cut(df_goodPlaceReviews['distance'], bins=bins)).count()\n",
    "badPlaceReview = df_badPlaceReviews['review_id'].groupby(pd.cut(df_badPlaceReviews['distance'], bins=bins)).count()"
   ]
  },
  {
   "cell_type": "code",
   "execution_count": null,
   "metadata": {},
   "outputs": [],
   "source": [
    "#plt.figure(figsize=(7,6)) \n",
    "plt.plot(binsCentered,goodPlaceReview/totalReview,'go', linestyle=\"-\", fillstyle=\"none\", markersize=15,label='Good Review')\n",
    "#plt.plot(binsCentered,badPlaceReview/totalReview,'ro', linestyle=\"-\", markersize=15,label='badReview')\n",
    "plt.xscale('log')\n",
    "plt.yscale('log')\n",
    "plt.xlabel(\"Check−in distance from home (km)\")\n",
    "plt.ylabel(\"P_GoodReview\")\n",
    "plt.legend(loc=\"lower right\")\n",
    "plt.title(\"Probability to go to Good Rated (stars >= 5) Place Depending on Distance\")\n",
    "#plt.ylim(10**(-2),10**(-1))"
   ]
  },
  {
   "cell_type": "markdown",
   "metadata": {},
   "source": [
    "# Mean review given distance"
   ]
  },
  {
   "cell_type": "code",
   "execution_count": null,
   "metadata": {},
   "outputs": [],
   "source": [
    "meanActualStars = df_complete[['review_id', 'actual_stars']].groupby(pd.cut(df_complete['distance'], bins=bins))['actual_stars'].mean()\n",
    "meanGivenStars = df_complete[['review_id', 'stars']].groupby(pd.cut(df_complete['distance'], bins=bins))['stars'].mean()"
   ]
  },
  {
   "cell_type": "code",
   "execution_count": null,
   "metadata": {},
   "outputs": [],
   "source": [
    "plt.plot(binsCentered,meanActualStars,'r*', linestyle=\"-\", markersize=15,label='mean business stars')\n",
    "plt.plot(binsCentered,meanGivenStars,'b*', linestyle=\"-\", markersize=15,label='mean given stars')\n",
    "plt.xscale('log')\n",
    "plt.yscale('log')\n",
    "plt.xlabel(\"Check−in distance from home (km)\")\n",
    "plt.ylabel(\"P_GoodReview\")\n",
    "plt.legend(loc=\"lower right\")\n",
    "plt.title(\"Probability to go to Good Rated (stars >= 5) Place Depending on Distance\")"
   ]
  },
  {
   "cell_type": "code",
   "execution_count": null,
   "metadata": {},
   "outputs": [],
   "source": []
  },
  {
   "cell_type": "markdown",
   "metadata": {},
   "source": [
    "#  Correction Categories"
   ]
  },
  {
   "cell_type": "code",
   "execution_count": 4,
   "metadata": {},
   "outputs": [],
   "source": [
    "df_categories = pd.read_csv('name_category.csv')"
   ]
  },
  {
   "cell_type": "code",
   "execution_count": null,
   "metadata": {},
   "outputs": [],
   "source": []
  },
  {
   "cell_type": "code",
   "execution_count": 7,
   "metadata": {},
   "outputs": [],
   "source": [
    "#df_categories.drop('Unnamed: 0', axis=1, inplace=True)"
   ]
  },
  {
   "cell_type": "code",
   "execution_count": null,
   "metadata": {},
   "outputs": [],
   "source": [
    "#df_categories"
   ]
  },
  {
   "cell_type": "code",
   "execution_count": 8,
   "metadata": {},
   "outputs": [],
   "source": [
    "def correction_name(x):\n",
    "    name = x[0]\n",
    "    name = name.replace(\"'\", \"\")\n",
    "    return name\n",
    "\n",
    "def correction_category(x):\n",
    "    category = x[1]\n",
    "    category = category.replace(\" \", \"\")\n",
    "    category = category.replace(\"Consruction\", \"Construction\")\n",
    "    category = category.replace(\"Constructor\", \"Construction\")\n",
    "    category = category.replace(\"Entertainement\", \"Entertainment\")\n",
    "    category = category.replace(\"Entertainemnt\", \"Entertainment\")\n",
    "    category = category.replace(\"Entertainments\", \"Entertainment\")\n",
    "    category = category.replace(\"Merchants\", \"Merchant\")\n",
    "    category = category.replace(\"'\", \"\")\n",
    "    category = category.replace(\"Mischellaneous\", \"Miscellaneous\")\n",
    "    category = category.replace(\"food\", \"Food\")\n",
    "    return category"
   ]
  },
  {
   "cell_type": "code",
   "execution_count": 9,
   "metadata": {},
   "outputs": [],
   "source": [
    "df_corrected = df_categories.copy()"
   ]
  },
  {
   "cell_type": "code",
   "execution_count": 10,
   "metadata": {},
   "outputs": [],
   "source": [
    "df_corrected['name'] = df_categories.apply(lambda x: correction_name(x), axis=1)"
   ]
  },
  {
   "cell_type": "code",
   "execution_count": 11,
   "metadata": {},
   "outputs": [],
   "source": [
    "df_corrected['category'] = df_categories.apply(lambda x: correction_category(x), axis=1)"
   ]
  },
  {
   "cell_type": "code",
   "execution_count": null,
   "metadata": {},
   "outputs": [],
   "source": [
    "len(set(df_corrected['category']))"
   ]
  },
  {
   "cell_type": "code",
   "execution_count": null,
   "metadata": {},
   "outputs": [],
   "source": [
    "df_corrected.to_csv('name_category.csv', index=False)"
   ]
  },
  {
   "cell_type": "markdown",
   "metadata": {},
   "source": [
    "# Get dataframe categories"
   ]
  },
  {
   "cell_type": "code",
   "execution_count": 38,
   "metadata": {},
   "outputs": [],
   "source": [
    "df_business_ori = pd.read_json(\"./data/yelp_academic_dataset_business.json\", lines = True)"
   ]
  },
  {
   "cell_type": "code",
   "execution_count": 39,
   "metadata": {},
   "outputs": [],
   "source": [
    "df_business = df_business_ori[['business_id','state','latitude','longitude', 'categories','stars', 'state']].copy()"
   ]
  },
  {
   "cell_type": "code",
   "execution_count": 40,
   "metadata": {},
   "outputs": [],
   "source": [
    "df_business['categories'] = df_business.categories.apply(lambda x: [] if x == None else x.split(', '))"
   ]
  },
  {
   "cell_type": "code",
   "execution_count": 41,
   "metadata": {},
   "outputs": [],
   "source": [
    "dict_categories = df_corrected.set_index('name')['category'].to_dict()"
   ]
  },
  {
   "cell_type": "code",
   "execution_count": 42,
   "metadata": {},
   "outputs": [],
   "source": [
    "indexCategory = {val: key for key, val in enumerate(set(df_corrected['category']))}"
   ]
  },
  {
   "cell_type": "code",
   "execution_count": 43,
   "metadata": {},
   "outputs": [],
   "source": [
    "numberCat = len(set(df_corrected['category']))\n",
    "def create_category_mask(row): \n",
    "    res  = np.zeros(numberCat)\n",
    "    for r in row:\n",
    "        category = dict_categories.get(r)\n",
    "        index = indexCategory.get(category)\n",
    "        res[index] = 1\n",
    "    return res > 0\n",
    "           \n",
    "#test_vect = np.vectorize(create_category_mask, signature='()->(k)')\n"
   ]
  },
  {
   "cell_type": "code",
   "execution_count": 44,
   "metadata": {},
   "outputs": [],
   "source": [
    "categoryMask = df_business.apply(lambda x: create_category_mask(x.categories),axis=1)"
   ]
  },
  {
   "cell_type": "code",
   "execution_count": 45,
   "metadata": {},
   "outputs": [],
   "source": [
    "for category_name in set(df_corrected['category']):\n",
    "    df_business[category_name] = [tup[indexCategory.get(category_name)] for tup in categoryMask]"
   ]
  },
  {
   "cell_type": "code",
   "execution_count": 46,
   "metadata": {},
   "outputs": [
    {
     "data": {
      "text/html": [
       "<div>\n",
       "<style scoped>\n",
       "    .dataframe tbody tr th:only-of-type {\n",
       "        vertical-align: middle;\n",
       "    }\n",
       "\n",
       "    .dataframe tbody tr th {\n",
       "        vertical-align: top;\n",
       "    }\n",
       "\n",
       "    .dataframe thead th {\n",
       "        text-align: right;\n",
       "    }\n",
       "</style>\n",
       "<table border=\"1\" class=\"dataframe\">\n",
       "  <thead>\n",
       "    <tr style=\"text-align: right;\">\n",
       "      <th></th>\n",
       "      <th>business_id</th>\n",
       "      <th>state</th>\n",
       "      <th>latitude</th>\n",
       "      <th>longitude</th>\n",
       "      <th>categories</th>\n",
       "      <th>stars</th>\n",
       "      <th>state</th>\n",
       "      <th>Entertainment</th>\n",
       "      <th>Merchant</th>\n",
       "      <th>Education</th>\n",
       "      <th>...</th>\n",
       "      <th>Legal</th>\n",
       "      <th>RealEstate</th>\n",
       "      <th>Construction</th>\n",
       "      <th>Manufacturing</th>\n",
       "      <th>Health</th>\n",
       "      <th>Food</th>\n",
       "      <th>Home</th>\n",
       "      <th>Miscellaneous</th>\n",
       "      <th>BusinessSupport</th>\n",
       "      <th>PersonalCare</th>\n",
       "    </tr>\n",
       "  </thead>\n",
       "  <tbody>\n",
       "    <tr>\n",
       "      <th>0</th>\n",
       "      <td>f9NumwFMBDn751xgFiRbNA</td>\n",
       "      <td>NC</td>\n",
       "      <td>35.462724</td>\n",
       "      <td>-80.852612</td>\n",
       "      <td>[Active Life, Gun/Rifle Ranges, Guns &amp; Ammo, S...</td>\n",
       "      <td>3.5</td>\n",
       "      <td>NC</td>\n",
       "      <td>True</td>\n",
       "      <td>True</td>\n",
       "      <td>False</td>\n",
       "      <td>...</td>\n",
       "      <td>False</td>\n",
       "      <td>False</td>\n",
       "      <td>False</td>\n",
       "      <td>False</td>\n",
       "      <td>False</td>\n",
       "      <td>False</td>\n",
       "      <td>False</td>\n",
       "      <td>False</td>\n",
       "      <td>False</td>\n",
       "      <td>True</td>\n",
       "    </tr>\n",
       "    <tr>\n",
       "      <th>1</th>\n",
       "      <td>Yzvjg0SayhoZgCljUJRF9Q</td>\n",
       "      <td>AZ</td>\n",
       "      <td>33.569404</td>\n",
       "      <td>-111.890264</td>\n",
       "      <td>[Health &amp; Medical, Fitness &amp; Instruction, Yoga...</td>\n",
       "      <td>5.0</td>\n",
       "      <td>AZ</td>\n",
       "      <td>False</td>\n",
       "      <td>False</td>\n",
       "      <td>False</td>\n",
       "      <td>...</td>\n",
       "      <td>False</td>\n",
       "      <td>False</td>\n",
       "      <td>False</td>\n",
       "      <td>False</td>\n",
       "      <td>True</td>\n",
       "      <td>False</td>\n",
       "      <td>False</td>\n",
       "      <td>False</td>\n",
       "      <td>False</td>\n",
       "      <td>True</td>\n",
       "    </tr>\n",
       "    <tr>\n",
       "      <th>2</th>\n",
       "      <td>XNoUzKckATkOD1hP6vghZg</td>\n",
       "      <td>QC</td>\n",
       "      <td>45.479984</td>\n",
       "      <td>-73.580070</td>\n",
       "      <td>[Pets, Pet Services, Pet Groomers]</td>\n",
       "      <td>5.0</td>\n",
       "      <td>QC</td>\n",
       "      <td>False</td>\n",
       "      <td>False</td>\n",
       "      <td>False</td>\n",
       "      <td>...</td>\n",
       "      <td>False</td>\n",
       "      <td>False</td>\n",
       "      <td>False</td>\n",
       "      <td>False</td>\n",
       "      <td>False</td>\n",
       "      <td>False</td>\n",
       "      <td>False</td>\n",
       "      <td>False</td>\n",
       "      <td>False</td>\n",
       "      <td>True</td>\n",
       "    </tr>\n",
       "  </tbody>\n",
       "</table>\n",
       "<p>3 rows × 24 columns</p>\n",
       "</div>"
      ],
      "text/plain": [
       "              business_id state   latitude   longitude  \\\n",
       "0  f9NumwFMBDn751xgFiRbNA    NC  35.462724  -80.852612   \n",
       "1  Yzvjg0SayhoZgCljUJRF9Q    AZ  33.569404 -111.890264   \n",
       "2  XNoUzKckATkOD1hP6vghZg    QC  45.479984  -73.580070   \n",
       "\n",
       "                                          categories  stars state  \\\n",
       "0  [Active Life, Gun/Rifle Ranges, Guns & Ammo, S...    3.5    NC   \n",
       "1  [Health & Medical, Fitness & Instruction, Yoga...    5.0    AZ   \n",
       "2                 [Pets, Pet Services, Pet Groomers]    5.0    QC   \n",
       "\n",
       "   Entertainment  Merchant  Education  ...  Legal  RealEstate  Construction  \\\n",
       "0           True      True      False  ...  False       False         False   \n",
       "1          False     False      False  ...  False       False         False   \n",
       "2          False     False      False  ...  False       False         False   \n",
       "\n",
       "   Manufacturing  Health   Food   Home  Miscellaneous  BusinessSupport  \\\n",
       "0          False   False  False  False          False            False   \n",
       "1          False    True  False  False          False            False   \n",
       "2          False   False  False  False          False            False   \n",
       "\n",
       "   PersonalCare  \n",
       "0          True  \n",
       "1          True  \n",
       "2          True  \n",
       "\n",
       "[3 rows x 24 columns]"
      ]
     },
     "execution_count": 46,
     "metadata": {},
     "output_type": "execute_result"
    }
   ],
   "source": [
    "df_business.head(3)"
   ]
  },
  {
   "cell_type": "markdown",
   "metadata": {},
   "source": [
    "# Observational Studies"
   ]
  },
  {
   "cell_type": "code",
   "execution_count": 22,
   "metadata": {},
   "outputs": [],
   "source": [
    "import networkx as nx\n",
    "import statsmodels.api as sm\n",
    "import statsmodels.formula.api as smf\n",
    "import seaborn as sns"
   ]
  },
  {
   "cell_type": "code",
   "execution_count": 47,
   "metadata": {},
   "outputs": [],
   "source": [
    "categorySet = set(df_corrected['category'])"
   ]
  },
  {
   "cell_type": "code",
   "execution_count": 64,
   "metadata": {},
   "outputs": [],
   "source": [
    "# reset of the review dataframe\n",
    "df_reviews = pd.read_csv('./data/df_reviews.csv')"
   ]
  },
  {
   "cell_type": "code",
   "execution_count": null,
   "metadata": {},
   "outputs": [],
   "source": []
  },
  {
   "cell_type": "code",
   "execution_count": 65,
   "metadata": {},
   "outputs": [],
   "source": [
    "# A dataframe of the checkins made by selected users on \n",
    "df_checkinsCategory = pd.merge(df_reviews, df_selectedUsers, left_on='user_id', right_on='user_id', how='right')\n",
    "df_checkinsCategory = pd.merge(df_checkinsCategory, df_business, left_on='business_id', right_on='business_id', how='inner')\n",
    "df_checkinsCategory = df_checkinsCategory.rename(columns={('latitude_home', ''): \"latitude_home\", ('longitude_home', ''): \"longitude_home\"})"
   ]
  },
  {
   "cell_type": "code",
   "execution_count": 50,
   "metadata": {},
   "outputs": [
    {
     "data": {
      "text/html": [
       "<div>\n",
       "<style scoped>\n",
       "    .dataframe tbody tr th:only-of-type {\n",
       "        vertical-align: middle;\n",
       "    }\n",
       "\n",
       "    .dataframe tbody tr th {\n",
       "        vertical-align: top;\n",
       "    }\n",
       "\n",
       "    .dataframe thead th {\n",
       "        text-align: right;\n",
       "    }\n",
       "</style>\n",
       "<table border=\"1\" class=\"dataframe\">\n",
       "  <thead>\n",
       "    <tr style=\"text-align: right;\">\n",
       "      <th></th>\n",
       "      <th>review_id</th>\n",
       "      <th>user_id</th>\n",
       "      <th>business_id</th>\n",
       "      <th>stars_x</th>\n",
       "      <th>date</th>\n",
       "      <th>friends</th>\n",
       "      <th>friend_list</th>\n",
       "      <th>review_count</th>\n",
       "      <th>state</th>\n",
       "      <th>latitude</th>\n",
       "      <th>...</th>\n",
       "      <th>Legal</th>\n",
       "      <th>RealEstate</th>\n",
       "      <th>Construction</th>\n",
       "      <th>Manufacturing</th>\n",
       "      <th>Health</th>\n",
       "      <th>Food</th>\n",
       "      <th>Home</th>\n",
       "      <th>Miscellaneous</th>\n",
       "      <th>BusinessSupport</th>\n",
       "      <th>PersonalCare</th>\n",
       "    </tr>\n",
       "  </thead>\n",
       "  <tbody>\n",
       "    <tr>\n",
       "      <th>0</th>\n",
       "      <td>UmFMZ8PyXZTY2QcwzsfQYA</td>\n",
       "      <td>nIJD_7ZXHq-FX8byPMOkMQ</td>\n",
       "      <td>lbrU8StCq3yDfr-QMnGrmQ</td>\n",
       "      <td>1</td>\n",
       "      <td>2013-12-07 03:16:52</td>\n",
       "      <td>B5vnnBub9sscTix_tPAwUw, FKFWX9kiyTvJY8_P9j_Rmw...</td>\n",
       "      <td>[B5vnnBub9sscTix_tPAwUw, FKFWX9kiyTvJY8_P9j_Rm...</td>\n",
       "      <td>30</td>\n",
       "      <td>AZ</td>\n",
       "      <td>33.348382</td>\n",
       "      <td>...</td>\n",
       "      <td>False</td>\n",
       "      <td>False</td>\n",
       "      <td>False</td>\n",
       "      <td>False</td>\n",
       "      <td>False</td>\n",
       "      <td>False</td>\n",
       "      <td>False</td>\n",
       "      <td>False</td>\n",
       "      <td>False</td>\n",
       "      <td>True</td>\n",
       "    </tr>\n",
       "    <tr>\n",
       "      <th>1</th>\n",
       "      <td>5VS8E8Ys3IhQRJU3nW8YtQ</td>\n",
       "      <td>nIJD_7ZXHq-FX8byPMOkMQ</td>\n",
       "      <td>IsN0qEzgAXBjbT3qn6lokA</td>\n",
       "      <td>4</td>\n",
       "      <td>2009-02-04 17:36:27</td>\n",
       "      <td>B5vnnBub9sscTix_tPAwUw, FKFWX9kiyTvJY8_P9j_Rmw...</td>\n",
       "      <td>[B5vnnBub9sscTix_tPAwUw, FKFWX9kiyTvJY8_P9j_Rm...</td>\n",
       "      <td>30</td>\n",
       "      <td>AZ</td>\n",
       "      <td>33.527428</td>\n",
       "      <td>...</td>\n",
       "      <td>False</td>\n",
       "      <td>False</td>\n",
       "      <td>False</td>\n",
       "      <td>False</td>\n",
       "      <td>False</td>\n",
       "      <td>True</td>\n",
       "      <td>False</td>\n",
       "      <td>False</td>\n",
       "      <td>False</td>\n",
       "      <td>False</td>\n",
       "    </tr>\n",
       "  </tbody>\n",
       "</table>\n",
       "<p>2 rows × 31 columns</p>\n",
       "</div>"
      ],
      "text/plain": [
       "                review_id                 user_id             business_id  \\\n",
       "0  UmFMZ8PyXZTY2QcwzsfQYA  nIJD_7ZXHq-FX8byPMOkMQ  lbrU8StCq3yDfr-QMnGrmQ   \n",
       "1  5VS8E8Ys3IhQRJU3nW8YtQ  nIJD_7ZXHq-FX8byPMOkMQ  IsN0qEzgAXBjbT3qn6lokA   \n",
       "\n",
       "   stars_x                 date  \\\n",
       "0        1  2013-12-07 03:16:52   \n",
       "1        4  2009-02-04 17:36:27   \n",
       "\n",
       "                                             friends  \\\n",
       "0  B5vnnBub9sscTix_tPAwUw, FKFWX9kiyTvJY8_P9j_Rmw...   \n",
       "1  B5vnnBub9sscTix_tPAwUw, FKFWX9kiyTvJY8_P9j_Rmw...   \n",
       "\n",
       "                                         friend_list  review_count state  \\\n",
       "0  [B5vnnBub9sscTix_tPAwUw, FKFWX9kiyTvJY8_P9j_Rm...            30    AZ   \n",
       "1  [B5vnnBub9sscTix_tPAwUw, FKFWX9kiyTvJY8_P9j_Rm...            30    AZ   \n",
       "\n",
       "    latitude  ...  Legal RealEstate  Construction Manufacturing  Health  \\\n",
       "0  33.348382  ...  False      False         False         False   False   \n",
       "1  33.527428  ...  False      False         False         False   False   \n",
       "\n",
       "    Food   Home  Miscellaneous  BusinessSupport  PersonalCare  \n",
       "0  False  False          False            False          True  \n",
       "1   True  False          False            False         False  \n",
       "\n",
       "[2 rows x 31 columns]"
      ]
     },
     "execution_count": 50,
     "metadata": {},
     "output_type": "execute_result"
    }
   ],
   "source": [
    "df_checkinsCategory.head(2)"
   ]
  },
  {
   "cell_type": "code",
   "execution_count": 478,
   "metadata": {},
   "outputs": [],
   "source": [
    "# A save point (can be deleted afterwards)\n",
    "rollBack = df_checkinsCategory.copy()"
   ]
  },
  {
   "cell_type": "code",
   "execution_count": 388,
   "metadata": {},
   "outputs": [],
   "source": [
    "treated = df_checkinsCategory[df_checkinsCategory['stars_y'] >=4].groupby('business_id').count()['review_id']\n",
    "control = df_checkinsCategory[df_checkinsCategory['stars_y'] <=2].groupby('business_id').count()['review_id']"
   ]
  },
  {
   "cell_type": "code",
   "execution_count": 374,
   "metadata": {},
   "outputs": [],
   "source": [
    "bins = np.geomspace(0.1, max(treated), 50)\n",
    "bins[0] = 0\n"
   ]
  },
  {
   "cell_type": "code",
   "execution_count": 376,
   "metadata": {},
   "outputs": [],
   "source": [
    "#pd.DataFrame(control)['review_id'].groupby(pd.cut(pd.DataFrame(control)['review_id'], bins=bins)).count()"
   ]
  },
  {
   "cell_type": "code",
   "execution_count": 377,
   "metadata": {},
   "outputs": [],
   "source": [
    "#pd.DataFrame(treated)['review_id'].groupby(pd.cut(pd.DataFrame(treated)['review_id'], bins=bins)).count()"
   ]
  },
  {
   "cell_type": "code",
   "execution_count": 339,
   "metadata": {},
   "outputs": [
    {
     "data": {
      "image/png": "[encoded data removed]",
      "text/plain": [
       "<Figure size 432x288 with 1 Axes>"
      ]
     },
     "metadata": {
      "needs_background": "light"
     },
     "output_type": "display_data"
    }
   ],
   "source": [
    "treatedData, binsTreated, _ = plt.hist(treated, density= True, log=True, bins=100)\n",
    "binsTreatedCentered = (binsTreated[:-1] + binsTreated[1:])/2"
   ]
  },
  {
   "cell_type": "code",
   "execution_count": 340,
   "metadata": {},
   "outputs": [
    {
     "data": {
      "image/png": "[encoded data removed]",
      "text/plain": [
       "<Figure size 432x288 with 1 Axes>"
      ]
     },
     "metadata": {
      "needs_background": "light"
     },
     "output_type": "display_data"
    }
   ],
   "source": [
    "contorlData, controlBins, _ = plt.hist(control, density= True, log=True, bins=100)\n",
    "controlBinsCentered = (controlBins[:-1] + controlBins[1:])/2"
   ]
  },
  {
   "cell_type": "code",
   "execution_count": 348,
   "metadata": {},
   "outputs": [
    {
     "data": {
      "image/png": "[encoded data removed]",
      "text/plain": [
       "<Figure size 432x288 with 1 Axes>"
      ]
     },
     "metadata": {
      "needs_background": "light"
     },
     "output_type": "display_data"
    }
   ],
   "source": [
    "plt.plot(binsTreatedCentered, treatedData, 'bo')\n",
    "plt.plot(controlBinsCentered, contorlData, 'r*')\n",
    "plt.xscale('log')\n",
    "plt.yscale('log')"
   ]
  },
  {
   "cell_type": "code",
   "execution_count": 392,
   "metadata": {},
   "outputs": [
    {
     "data": {
      "image/png": "[encoded data removed]",
      "text/plain": [
       "<Figure size 432x288 with 1 Axes>"
      ]
     },
     "metadata": {
      "needs_background": "light"
     },
     "output_type": "display_data"
    }
   ],
   "source": [
    "# income in the previous year\n",
    "ax = sns.distplot(treated[treated <= 50], hist=True, label='treated');\n",
    "ax = sns.distplot(control[control <= 50], hist=True, label='control')\n",
    "ax.set(title='Business Visit distribution',xlabel='Number of visits', ylabel='Visit density')\n",
    "plt.legend()\n",
    "plt.show()"
   ]
  },
  {
   "cell_type": "code",
   "execution_count": 390,
   "metadata": {},
   "outputs": [
    {
     "data": {
      "text/plain": [
       "27.34777793461384"
      ]
     },
     "execution_count": 390,
     "metadata": {},
     "output_type": "execute_result"
    }
   ],
   "source": [
    "np.mean(treated)"
   ]
  },
  {
   "cell_type": "code",
   "execution_count": 391,
   "metadata": {},
   "outputs": [
    {
     "data": {
      "text/plain": [
       "7.594013529793346"
      ]
     },
     "execution_count": 391,
     "metadata": {},
     "output_type": "execute_result"
    }
   ],
   "source": [
    "np.mean(control)"
   ]
  },
  {
   "cell_type": "markdown",
   "metadata": {},
   "source": [
    "Difference is not big => no difference ?   \n",
    "To be sure, we will check the distribution of checkins among businesses"
   ]
  },
  {
   "cell_type": "markdown",
   "metadata": {},
   "source": [
    "# Distribution of checkins per categories"
   ]
  },
  {
   "cell_type": "code",
   "execution_count": 452,
   "metadata": {},
   "outputs": [],
   "source": [
    "# Count how buisness are distributed among categories\n",
    "def count_per_category(df):\n",
    "    df_res = pd.DataFrame(np.array([name for name in categorySet]),columns=['category'])\n",
    "    categoryCount = np.zeros(len(categorySet))\n",
    "    for category_name in categorySet:\n",
    "        #print(category_name)\n",
    "        categoryCount[indexCategory.get(category_name)] = df[df[category_name]].count()[0]\n",
    "    df_res['count'] = categoryCount\n",
    "    return df_res"
   ]
  },
  {
   "cell_type": "code",
   "execution_count": 463,
   "metadata": {},
   "outputs": [],
   "source": [
    "treatedGroupSeperation = count_per_category(df_checkinsCategory[df_checkinsCategory['stars_y'] >=4])"
   ]
  },
  {
   "cell_type": "code",
   "execution_count": 467,
   "metadata": {},
   "outputs": [
    {
     "data": {
      "text/plain": [
       "<matplotlib.axes._subplots.AxesSubplot at 0x7f8e3c839430>"
      ]
     },
     "execution_count": 467,
     "metadata": {},
     "output_type": "execute_result"
    },
    {
     "data": {
      "text/plain": [
       "<Figure size 720x720 with 0 Axes>"
      ]
     },
     "metadata": {},
     "output_type": "display_data"
    },
    {
     "data": {
      "image/png": "[encoded data removed]",
      "text/plain": [
       "<Figure size 432x288 with 1 Axes>"
      ]
     },
     "metadata": {
      "needs_background": "light"
     },
     "output_type": "display_data"
    }
   ],
   "source": [
    "plt.figure(figsize=(10,10)) \n",
    "treatedGroupSeperation.plot.bar(x='category', y='count', rot=90)"
   ]
  },
  {
   "cell_type": "code",
   "execution_count": 460,
   "metadata": {},
   "outputs": [],
   "source": [
    "controlGroupSeperation = count_per_category(df_checkinsCategory[df_checkinsCategory['stars_y'] <=2])"
   ]
  },
  {
   "cell_type": "code",
   "execution_count": 466,
   "metadata": {},
   "outputs": [
    {
     "data": {
      "text/plain": [
       "<matplotlib.axes._subplots.AxesSubplot at 0x7f8e3c769b20>"
      ]
     },
     "execution_count": 466,
     "metadata": {},
     "output_type": "execute_result"
    },
    {
     "data": {
      "text/plain": [
       "<Figure size 720x720 with 0 Axes>"
      ]
     },
     "metadata": {},
     "output_type": "display_data"
    },
    {
     "data": {
      "image/png": "[encoded data removed]",
      "text/plain": [
       "<Figure size 432x288 with 1 Axes>"
      ]
     },
     "metadata": {
      "needs_background": "light"
     },
     "output_type": "display_data"
    }
   ],
   "source": [
    "plt.figure(figsize=(10,10)) \n",
    "controlGroupSeperation.plot.bar(x='category', y='count', rot=90)"
   ]
  },
  {
   "cell_type": "markdown",
   "metadata": {},
   "source": [
    "The treated and control group do not have the same proportion of same category => we will use propensity score between points to compare. "
   ]
  },
  {
   "cell_type": "markdown",
   "metadata": {},
   "source": [
    "# Computation of the Propensity score"
   ]
  },
  {
   "cell_type": "code",
   "execution_count": 66,
   "metadata": {},
   "outputs": [],
   "source": [
    "# To compute the propensity score of checkins we will be using distance from home of the checkin\n",
    "df_checkinsCategory['distance'] = df_checkinsCategory.apply(lambda x: distance.cdist([(x.latitude_home, x.longitude_home)], [(x.latitude, x.longitude)], metric=haversine)[0,0], axis=1)"
   ]
  },
  {
   "cell_type": "code",
   "execution_count": 67,
   "metadata": {},
   "outputs": [],
   "source": [
    "df_checkinsCategory['normalized_distance'] = (df_checkinsCategory['distance'] - df_checkinsCategory['distance'].mean())/df_checkinsCategory['distance'].std()"
   ]
  },
  {
   "cell_type": "code",
   "execution_count": 77,
   "metadata": {},
   "outputs": [],
   "source": [
    "good = df_checkinsCategory[(df_checkinsCategory['stars_y'] >= 4)]"
   ]
  },
  {
   "cell_type": "code",
   "execution_count": 78,
   "metadata": {},
   "outputs": [],
   "source": [
    "bad = df_checkinsCategory[(df_checkinsCategory['stars_y'] <= 2)]"
   ]
  },
  {
   "cell_type": "code",
   "execution_count": 80,
   "metadata": {},
   "outputs": [],
   "source": [
    "# Create the dataframe used for computing the propensity scores\n",
    "df_prop = pd.concat([good, bad])\n",
    "df_prop['treated'] = (df_prop['stars_y'] >= 4)*1\n",
    "\n",
    "for category_name in set(df_corrected['category']):\n",
    "    df_prop[category_name+'_int'] = df_prop[category_name]*1"
   ]
  },
  {
   "cell_type": "code",
   "execution_count": 95,
   "metadata": {},
   "outputs": [],
   "source": [
    "mod = smf.logit(formula='treated ~ normalized_distance + C(Automotive_int) + C(BusinessSupport_int) + C(Computers_int) + C(Construction_int) + C(Education_int) + C(Entertainment_int) + C(Food_int) + C(Health_int) + C(Home_int) + C(Legal_int) + C(Manufacturing_int) + C(Merchant_int) + C(Miscellaneous_int) + C(PersonalCare_int) + C(RealEstate_int) + C(Sport_int) + C(Travel_int)', \n",
    "                data=df_prop) "
   ]
  },
  {
   "cell_type": "code",
   "execution_count": 96,
   "metadata": {},
   "outputs": [
    {
     "name": "stdout",
     "output_type": "stream",
     "text": [
      "Optimization terminated successfully.\n",
      "         Current function value: 0.202507\n",
      "         Iterations 8\n"
     ]
    }
   ],
   "source": [
    "res = mod.fit()\n",
    "# Extract the estimated propensity scores\n",
    "df_prop['Propensity_score'] = res.predict()"
   ]
  },
  {
   "cell_type": "code",
   "execution_count": 102,
   "metadata": {},
   "outputs": [],
   "source": [
    "rollBack = df_prop.copy()"
   ]
  },
  {
   "cell_type": "code",
   "execution_count": 106,
   "metadata": {},
   "outputs": [
    {
     "data": {
      "text/html": [
       "<div>\n",
       "<style scoped>\n",
       "    .dataframe tbody tr th:only-of-type {\n",
       "        vertical-align: middle;\n",
       "    }\n",
       "\n",
       "    .dataframe tbody tr th {\n",
       "        vertical-align: top;\n",
       "    }\n",
       "\n",
       "    .dataframe thead th {\n",
       "        text-align: right;\n",
       "    }\n",
       "</style>\n",
       "<table border=\"1\" class=\"dataframe\">\n",
       "  <thead>\n",
       "    <tr style=\"text-align: right;\">\n",
       "      <th></th>\n",
       "      <th>review_id</th>\n",
       "      <th>user_id</th>\n",
       "      <th>business_id</th>\n",
       "      <th>stars_x</th>\n",
       "      <th>date</th>\n",
       "      <th>friends</th>\n",
       "      <th>friend_list</th>\n",
       "      <th>review_count</th>\n",
       "      <th>latitude_home</th>\n",
       "      <th>longitude_home</th>\n",
       "      <th>...</th>\n",
       "      <th>RealEstate_int</th>\n",
       "      <th>Construction_int</th>\n",
       "      <th>Manufacturing_int</th>\n",
       "      <th>Health_int</th>\n",
       "      <th>Food_int</th>\n",
       "      <th>Home_int</th>\n",
       "      <th>Miscellaneous_int</th>\n",
       "      <th>BusinessSupport_int</th>\n",
       "      <th>PersonalCare_int</th>\n",
       "      <th>Propensity_score</th>\n",
       "    </tr>\n",
       "  </thead>\n",
       "  <tbody>\n",
       "    <tr>\n",
       "      <th>224</th>\n",
       "      <td>0zjdJuiptDYTKGP-rZtLcg</td>\n",
       "      <td>nIJD_7ZXHq-FX8byPMOkMQ</td>\n",
       "      <td>paJaapnNsrWexFHBq18uDw</td>\n",
       "      <td>5</td>\n",
       "      <td>2014-08-10 22:00:50</td>\n",
       "      <td>B5vnnBub9sscTix_tPAwUw, FKFWX9kiyTvJY8_P9j_Rmw...</td>\n",
       "      <td>[B5vnnBub9sscTix_tPAwUw, FKFWX9kiyTvJY8_P9j_Rm...</td>\n",
       "      <td>30</td>\n",
       "      <td>33.368309</td>\n",
       "      <td>-111.810061</td>\n",
       "      <td>...</td>\n",
       "      <td>0</td>\n",
       "      <td>0</td>\n",
       "      <td>0</td>\n",
       "      <td>0</td>\n",
       "      <td>0</td>\n",
       "      <td>0</td>\n",
       "      <td>0</td>\n",
       "      <td>0</td>\n",
       "      <td>1</td>\n",
       "      <td>0.942771</td>\n",
       "    </tr>\n",
       "    <tr>\n",
       "      <th>225</th>\n",
       "      <td>Bc_pyVNCbmJV622Pl-0lvw</td>\n",
       "      <td>ZTfptU_YSmdE5sLg7tSYAw</td>\n",
       "      <td>paJaapnNsrWexFHBq18uDw</td>\n",
       "      <td>5</td>\n",
       "      <td>2015-05-03 16:38:10</td>\n",
       "      <td>qZB8BZ2ZzMF0VfIGhttu7w, 0weiF2qlMMzPxXny02ZegQ...</td>\n",
       "      <td>[qZB8BZ2ZzMF0VfIGhttu7w, 0weiF2qlMMzPxXny02Zeg...</td>\n",
       "      <td>45</td>\n",
       "      <td>33.294752</td>\n",
       "      <td>-111.750092</td>\n",
       "      <td>...</td>\n",
       "      <td>0</td>\n",
       "      <td>0</td>\n",
       "      <td>0</td>\n",
       "      <td>0</td>\n",
       "      <td>0</td>\n",
       "      <td>0</td>\n",
       "      <td>0</td>\n",
       "      <td>0</td>\n",
       "      <td>1</td>\n",
       "      <td>0.942772</td>\n",
       "    </tr>\n",
       "  </tbody>\n",
       "</table>\n",
       "<p>2 rows × 54 columns</p>\n",
       "</div>"
      ],
      "text/plain": [
       "                  review_id                 user_id             business_id  \\\n",
       "224  0zjdJuiptDYTKGP-rZtLcg  nIJD_7ZXHq-FX8byPMOkMQ  paJaapnNsrWexFHBq18uDw   \n",
       "225  Bc_pyVNCbmJV622Pl-0lvw  ZTfptU_YSmdE5sLg7tSYAw  paJaapnNsrWexFHBq18uDw   \n",
       "\n",
       "     stars_x                 date  \\\n",
       "224        5  2014-08-10 22:00:50   \n",
       "225        5  2015-05-03 16:38:10   \n",
       "\n",
       "                                               friends  \\\n",
       "224  B5vnnBub9sscTix_tPAwUw, FKFWX9kiyTvJY8_P9j_Rmw...   \n",
       "225  qZB8BZ2ZzMF0VfIGhttu7w, 0weiF2qlMMzPxXny02ZegQ...   \n",
       "\n",
       "                                           friend_list  review_count  \\\n",
       "224  [B5vnnBub9sscTix_tPAwUw, FKFWX9kiyTvJY8_P9j_Rm...            30   \n",
       "225  [qZB8BZ2ZzMF0VfIGhttu7w, 0weiF2qlMMzPxXny02Zeg...            45   \n",
       "\n",
       "     latitude_home  longitude_home  ... RealEstate_int  Construction_int  \\\n",
       "224      33.368309     -111.810061  ...              0                 0   \n",
       "225      33.294752     -111.750092  ...              0                 0   \n",
       "\n",
       "     Manufacturing_int Health_int  Food_int Home_int  Miscellaneous_int  \\\n",
       "224                  0          0         0        0                  0   \n",
       "225                  0          0         0        0                  0   \n",
       "\n",
       "     BusinessSupport_int  PersonalCare_int  Propensity_score  \n",
       "224                    0                 1          0.942771  \n",
       "225                    0                 1          0.942772  \n",
       "\n",
       "[2 rows x 54 columns]"
      ]
     },
     "execution_count": 106,
     "metadata": {},
     "output_type": "execute_result"
    }
   ],
   "source": [
    "df_prop.head(2)"
   ]
  },
  {
   "cell_type": "code",
   "execution_count": 107,
   "metadata": {},
   "outputs": [],
   "source": [
    "df_prop = df_prop.drop(['friends', 'friend_list'], axis=1)"
   ]
  },
  {
   "cell_type": "code",
   "execution_count": null,
   "metadata": {},
   "outputs": [],
   "source": []
  },
  {
   "cell_type": "code",
   "execution_count": 109,
   "metadata": {},
   "outputs": [],
   "source": [
    "df_prop.to_csv('df_prop.csv', index=False)"
   ]
  },
  {
   "cell_type": "code",
   "execution_count": 110,
   "metadata": {},
   "outputs": [],
   "source": [
    "def get_similarity(propensity_score1, propensity_score2):\n",
    "    '''Calculate similarity for instances with given propensity scores'''\n",
    "    return 1-np.abs(propensity_score1-propensity_score2)"
   ]
  },
  {
   "cell_type": "code",
   "execution_count": 112,
   "metadata": {},
   "outputs": [
    {
     "ename": "KeyboardInterrupt",
     "evalue": "",
     "output_type": "error",
     "traceback": [
      "\u001b[0;31m---------------------------------------------------------------------------\u001b[0m",
      "\u001b[0;31mKeyboardInterrupt\u001b[0m                         Traceback (most recent call last)",
      "\u001b[0;32m<ipython-input-112-1e9747d196ec>\u001b[0m in \u001b[0;36m<module>\u001b[0;34m\u001b[0m\n\u001b[1;32m     11\u001b[0m         \u001b[0;31m# Calculate the similarity\u001b[0m\u001b[0;34m\u001b[0m\u001b[0;34m\u001b[0m\u001b[0;34m\u001b[0m\u001b[0m\n\u001b[1;32m     12\u001b[0m         similarity = get_similarity(control_row['Propensity_score'],\n\u001b[0;32m---> 13\u001b[0;31m                                     treatment_row['Propensity_score'])\n\u001b[0m\u001b[1;32m     14\u001b[0m \u001b[0;34m\u001b[0m\u001b[0m\n\u001b[1;32m     15\u001b[0m         \u001b[0;31m# Add an edge between the two instances weighted by the similarity between them\u001b[0m\u001b[0;34m\u001b[0m\u001b[0;34m\u001b[0m\u001b[0;34m\u001b[0m\u001b[0m\n",
      "\u001b[0;32m~/opt/anaconda3/lib/python3.8/site-packages/pandas/core/series.py\u001b[0m in \u001b[0;36m__getitem__\u001b[0;34m(self, key)\u001b[0m\n\u001b[1;32m    869\u001b[0m         \u001b[0mkey\u001b[0m \u001b[0;34m=\u001b[0m \u001b[0mcom\u001b[0m\u001b[0;34m.\u001b[0m\u001b[0mapply_if_callable\u001b[0m\u001b[0;34m(\u001b[0m\u001b[0mkey\u001b[0m\u001b[0;34m,\u001b[0m \u001b[0mself\u001b[0m\u001b[0;34m)\u001b[0m\u001b[0;34m\u001b[0m\u001b[0;34m\u001b[0m\u001b[0m\n\u001b[1;32m    870\u001b[0m         \u001b[0;32mtry\u001b[0m\u001b[0;34m:\u001b[0m\u001b[0;34m\u001b[0m\u001b[0;34m\u001b[0m\u001b[0m\n\u001b[0;32m--> 871\u001b[0;31m             \u001b[0mresult\u001b[0m \u001b[0;34m=\u001b[0m \u001b[0mself\u001b[0m\u001b[0;34m.\u001b[0m\u001b[0mindex\u001b[0m\u001b[0;34m.\u001b[0m\u001b[0mget_value\u001b[0m\u001b[0;34m(\u001b[0m\u001b[0mself\u001b[0m\u001b[0;34m,\u001b[0m \u001b[0mkey\u001b[0m\u001b[0;34m)\u001b[0m\u001b[0;34m\u001b[0m\u001b[0;34m\u001b[0m\u001b[0m\n\u001b[0m\u001b[1;32m    872\u001b[0m \u001b[0;34m\u001b[0m\u001b[0m\n\u001b[1;32m    873\u001b[0m             \u001b[0;32mif\u001b[0m \u001b[0;32mnot\u001b[0m \u001b[0mis_scalar\u001b[0m\u001b[0;34m(\u001b[0m\u001b[0mresult\u001b[0m\u001b[0;34m)\u001b[0m\u001b[0;34m:\u001b[0m\u001b[0;34m\u001b[0m\u001b[0;34m\u001b[0m\u001b[0m\n",
      "\u001b[0;32m~/opt/anaconda3/lib/python3.8/site-packages/pandas/core/indexes/base.py\u001b[0m in \u001b[0;36mget_value\u001b[0;34m(self, series, key)\u001b[0m\n\u001b[1;32m   4403\u001b[0m         \u001b[0mk\u001b[0m \u001b[0;34m=\u001b[0m \u001b[0mself\u001b[0m\u001b[0;34m.\u001b[0m\u001b[0m_convert_scalar_indexer\u001b[0m\u001b[0;34m(\u001b[0m\u001b[0mk\u001b[0m\u001b[0;34m,\u001b[0m \u001b[0mkind\u001b[0m\u001b[0;34m=\u001b[0m\u001b[0;34m\"getitem\"\u001b[0m\u001b[0;34m)\u001b[0m\u001b[0;34m\u001b[0m\u001b[0;34m\u001b[0m\u001b[0m\n\u001b[1;32m   4404\u001b[0m         \u001b[0;32mtry\u001b[0m\u001b[0;34m:\u001b[0m\u001b[0;34m\u001b[0m\u001b[0;34m\u001b[0m\u001b[0m\n\u001b[0;32m-> 4405\u001b[0;31m             \u001b[0;32mreturn\u001b[0m \u001b[0mself\u001b[0m\u001b[0;34m.\u001b[0m\u001b[0m_engine\u001b[0m\u001b[0;34m.\u001b[0m\u001b[0mget_value\u001b[0m\u001b[0;34m(\u001b[0m\u001b[0ms\u001b[0m\u001b[0;34m,\u001b[0m \u001b[0mk\u001b[0m\u001b[0;34m,\u001b[0m \u001b[0mtz\u001b[0m\u001b[0;34m=\u001b[0m\u001b[0mgetattr\u001b[0m\u001b[0;34m(\u001b[0m\u001b[0mseries\u001b[0m\u001b[0;34m.\u001b[0m\u001b[0mdtype\u001b[0m\u001b[0;34m,\u001b[0m \u001b[0;34m\"tz\"\u001b[0m\u001b[0;34m,\u001b[0m \u001b[0;32mNone\u001b[0m\u001b[0;34m)\u001b[0m\u001b[0;34m)\u001b[0m\u001b[0;34m\u001b[0m\u001b[0;34m\u001b[0m\u001b[0m\n\u001b[0m\u001b[1;32m   4406\u001b[0m         \u001b[0;32mexcept\u001b[0m \u001b[0mKeyError\u001b[0m \u001b[0;32mas\u001b[0m \u001b[0me1\u001b[0m\u001b[0;34m:\u001b[0m\u001b[0;34m\u001b[0m\u001b[0;34m\u001b[0m\u001b[0m\n\u001b[1;32m   4407\u001b[0m             \u001b[0;32mif\u001b[0m \u001b[0mlen\u001b[0m\u001b[0;34m(\u001b[0m\u001b[0mself\u001b[0m\u001b[0;34m)\u001b[0m \u001b[0;34m>\u001b[0m \u001b[0;36m0\u001b[0m \u001b[0;32mand\u001b[0m \u001b[0;34m(\u001b[0m\u001b[0mself\u001b[0m\u001b[0;34m.\u001b[0m\u001b[0mholds_integer\u001b[0m\u001b[0;34m(\u001b[0m\u001b[0;34m)\u001b[0m \u001b[0;32mor\u001b[0m \u001b[0mself\u001b[0m\u001b[0;34m.\u001b[0m\u001b[0mis_boolean\u001b[0m\u001b[0;34m(\u001b[0m\u001b[0;34m)\u001b[0m\u001b[0;34m)\u001b[0m\u001b[0;34m:\u001b[0m\u001b[0;34m\u001b[0m\u001b[0;34m\u001b[0m\u001b[0m\n",
      "\u001b[0;31mKeyboardInterrupt\u001b[0m: "
     ]
    }
   ],
   "source": [
    "treatment_df = df_prop[df_prop['treated'] == 1]\n",
    "control_df = df_prop[df_prop['treated'] == 0]\n",
    "\n",
    "# Create an empty undirected graph\n",
    "G = nx.Graph()\n",
    "\n",
    "# Loop through all the pairs of instances\n",
    "for control_id, control_row in control_df.iterrows():\n",
    "    for treatment_id, treatment_row in treatment_df.iterrows():\n",
    "\n",
    "        # Calculate the similarity \n",
    "        similarity = get_similarity(control_row['Propensity_score'],\n",
    "                                    treatment_row['Propensity_score'])\n",
    "\n",
    "        # Add an edge between the two instances weighted by the similarity between them\n",
    "        G.add_weighted_edges_from([(control_id, treatment_id, similarity)])\n",
    "\n",
    "# Generate and return the maximum weight matching on the generated graph\n",
    "matching = nx.max_weight_matching(G)"
   ]
  },
  {
   "cell_type": "code",
   "execution_count": null,
   "metadata": {},
   "outputs": [],
   "source": [
    "balanced_df_1 = df_prop.iloc[list(matching.keys())]\n"
   ]
  },
  {
   "cell_type": "code",
   "execution_count": null,
   "metadata": {},
   "outputs": [],
   "source": [
    "# Separate the treatment and control groups\n",
    "treatment_df_greedy = df_prop[df_prop['treated'] == 1]\n",
    "control_df_greedy = df_prop[df_prop['treated'] == 0]\n",
    "EPSILON = 0.05\n",
    "\n",
    "# Create the graph instance\n",
    "G_greedy = nx.Graph()\n",
    "\n",
    "# Create a dictionary for already matched non-treated subject\n",
    "# so that we can quickly check whether a non-treated subject has been matched or not\n",
    "already_matched = dict()\n",
    "\n",
    "# Loop through all the pairs of instances\n",
    "for treatment_id, treatment_row in treatment_df_greedy.iterrows():\n",
    "    for control_id, control_row in control_df_greedy.iterrows():\n",
    "        \n",
    "        # If non-treated subject is not matched yet\n",
    "        if(control_id not in already_matched.keys()):\n",
    "            \n",
    "            # Calculate the difference\n",
    "            difference = np.abs(control_row['Propensity_score']-treatment_row['Propensity_score'])\n",
    "\n",
    "            # add weight only if the difference less than epsilon\n",
    "            if (difference < EPSILON):\n",
    "                # Mark the matched id\n",
    "                already_matched[control_id] = 1\n",
    "                # Add to the graph\n",
    "                G_greedy.add_weighted_edges_from([(control_id, treatment_id, -difference)])\n",
    "                # One matching is sufficient for each treated subject\n",
    "                break\n",
    "\n",
    "# Generate and return the maximum weight matching on the generated graph\n",
    "matching_greedy = nx.max_weight_matching(G=G_greedy,maxcardinality=True)"
   ]
  },
  {
   "cell_type": "code",
   "execution_count": null,
   "metadata": {},
   "outputs": [],
   "source": []
  },
  {
   "cell_type": "code",
   "execution_count": null,
   "metadata": {},
   "outputs": [],
   "source": []
  },
  {
   "cell_type": "code",
   "execution_count": null,
   "metadata": {},
   "outputs": [],
   "source": [
    "df_checkinsCategory['distance'].std()"
   ]
  },
  {
   "cell_type": "code",
   "execution_count": 510,
   "metadata": {},
   "outputs": [
    {
     "data": {
      "text/html": [
       "<div>\n",
       "<style scoped>\n",
       "    .dataframe tbody tr th:only-of-type {\n",
       "        vertical-align: middle;\n",
       "    }\n",
       "\n",
       "    .dataframe tbody tr th {\n",
       "        vertical-align: top;\n",
       "    }\n",
       "\n",
       "    .dataframe thead th {\n",
       "        text-align: right;\n",
       "    }\n",
       "</style>\n",
       "<table border=\"1\" class=\"dataframe\">\n",
       "  <thead>\n",
       "    <tr style=\"text-align: right;\">\n",
       "      <th></th>\n",
       "      <th>stars_y</th>\n",
       "      <th>normalized_distance</th>\n",
       "    </tr>\n",
       "  </thead>\n",
       "  <tbody>\n",
       "    <tr>\n",
       "      <th>0</th>\n",
       "      <td>1.5</td>\n",
       "      <td>-0.179740</td>\n",
       "    </tr>\n",
       "    <tr>\n",
       "      <th>1</th>\n",
       "      <td>3.5</td>\n",
       "      <td>-0.143698</td>\n",
       "    </tr>\n",
       "    <tr>\n",
       "      <th>2</th>\n",
       "      <td>3.5</td>\n",
       "      <td>-0.167823</td>\n",
       "    </tr>\n",
       "    <tr>\n",
       "      <th>3</th>\n",
       "      <td>3.5</td>\n",
       "      <td>-0.167958</td>\n",
       "    </tr>\n",
       "    <tr>\n",
       "      <th>4</th>\n",
       "      <td>3.5</td>\n",
       "      <td>-0.155869</td>\n",
       "    </tr>\n",
       "    <tr>\n",
       "      <th>...</th>\n",
       "      <td>...</td>\n",
       "      <td>...</td>\n",
       "    </tr>\n",
       "    <tr>\n",
       "      <th>4516340</th>\n",
       "      <td>3.0</td>\n",
       "      <td>-0.160703</td>\n",
       "    </tr>\n",
       "    <tr>\n",
       "      <th>4516341</th>\n",
       "      <td>5.0</td>\n",
       "      <td>-0.191486</td>\n",
       "    </tr>\n",
       "    <tr>\n",
       "      <th>4516342</th>\n",
       "      <td>5.0</td>\n",
       "      <td>-0.191486</td>\n",
       "    </tr>\n",
       "    <tr>\n",
       "      <th>4516343</th>\n",
       "      <td>5.0</td>\n",
       "      <td>-0.191486</td>\n",
       "    </tr>\n",
       "    <tr>\n",
       "      <th>4516344</th>\n",
       "      <td>5.0</td>\n",
       "      <td>-0.191486</td>\n",
       "    </tr>\n",
       "  </tbody>\n",
       "</table>\n",
       "<p>4516345 rows × 2 columns</p>\n",
       "</div>"
      ],
      "text/plain": [
       "         stars_y  normalized_distance\n",
       "0            1.5            -0.179740\n",
       "1            3.5            -0.143698\n",
       "2            3.5            -0.167823\n",
       "3            3.5            -0.167958\n",
       "4            3.5            -0.155869\n",
       "...          ...                  ...\n",
       "4516340      3.0            -0.160703\n",
       "4516341      5.0            -0.191486\n",
       "4516342      5.0            -0.191486\n",
       "4516343      5.0            -0.191486\n",
       "4516344      5.0            -0.191486\n",
       "\n",
       "[4516345 rows x 2 columns]"
      ]
     },
     "execution_count": 510,
     "metadata": {},
     "output_type": "execute_result"
    }
   ],
   "source": [
    "df_checkinsCategory[['stars_y','normalized_distance']]"
   ]
  },
  {
   "cell_type": "code",
   "execution_count": 496,
   "metadata": {},
   "outputs": [
    {
     "data": {
      "text/html": [
       "<div>\n",
       "<style scoped>\n",
       "    .dataframe tbody tr th:only-of-type {\n",
       "        vertical-align: middle;\n",
       "    }\n",
       "\n",
       "    .dataframe tbody tr th {\n",
       "        vertical-align: top;\n",
       "    }\n",
       "\n",
       "    .dataframe thead th {\n",
       "        text-align: right;\n",
       "    }\n",
       "</style>\n",
       "<table border=\"1\" class=\"dataframe\">\n",
       "  <thead>\n",
       "    <tr style=\"text-align: right;\">\n",
       "      <th></th>\n",
       "      <th>stars_y</th>\n",
       "      <th>distance</th>\n",
       "    </tr>\n",
       "  </thead>\n",
       "  <tbody>\n",
       "    <tr>\n",
       "      <th>0</th>\n",
       "      <td>1.5</td>\n",
       "      <td>5.072312</td>\n",
       "    </tr>\n",
       "    <tr>\n",
       "      <th>1</th>\n",
       "      <td>3.5</td>\n",
       "      <td>20.636263</td>\n",
       "    </tr>\n",
       "    <tr>\n",
       "      <th>2</th>\n",
       "      <td>3.5</td>\n",
       "      <td>10.218474</td>\n",
       "    </tr>\n",
       "    <tr>\n",
       "      <th>3</th>\n",
       "      <td>3.5</td>\n",
       "      <td>10.159975</td>\n",
       "    </tr>\n",
       "    <tr>\n",
       "      <th>4</th>\n",
       "      <td>3.5</td>\n",
       "      <td>15.380415</td>\n",
       "    </tr>\n",
       "    <tr>\n",
       "      <th>...</th>\n",
       "      <td>...</td>\n",
       "      <td>...</td>\n",
       "    </tr>\n",
       "    <tr>\n",
       "      <th>4516340</th>\n",
       "      <td>3.0</td>\n",
       "      <td>13.292976</td>\n",
       "    </tr>\n",
       "    <tr>\n",
       "      <th>4516341</th>\n",
       "      <td>5.0</td>\n",
       "      <td>0.000000</td>\n",
       "    </tr>\n",
       "    <tr>\n",
       "      <th>4516342</th>\n",
       "      <td>5.0</td>\n",
       "      <td>0.000000</td>\n",
       "    </tr>\n",
       "    <tr>\n",
       "      <th>4516343</th>\n",
       "      <td>5.0</td>\n",
       "      <td>0.000000</td>\n",
       "    </tr>\n",
       "    <tr>\n",
       "      <th>4516344</th>\n",
       "      <td>5.0</td>\n",
       "      <td>0.000000</td>\n",
       "    </tr>\n",
       "  </tbody>\n",
       "</table>\n",
       "<p>4516345 rows × 2 columns</p>\n",
       "</div>"
      ],
      "text/plain": [
       "         stars_y   distance\n",
       "0            1.5   5.072312\n",
       "1            3.5  20.636263\n",
       "2            3.5  10.218474\n",
       "3            3.5  10.159975\n",
       "4            3.5  15.380415\n",
       "...          ...        ...\n",
       "4516340      3.0  13.292976\n",
       "4516341      5.0   0.000000\n",
       "4516342      5.0   0.000000\n",
       "4516343      5.0   0.000000\n",
       "4516344      5.0   0.000000\n",
       "\n",
       "[4516345 rows x 2 columns]"
      ]
     },
     "execution_count": 496,
     "metadata": {},
     "output_type": "execute_result"
    }
   ],
   "source": [
    "df_checkinsCategory[['stars_y', 'distance']]"
   ]
  },
  {
   "cell_type": "code",
   "execution_count": null,
   "metadata": {},
   "outputs": [],
   "source": [
    "res = mod.fit()\n",
    "\n",
    "# Extract the estimated propensity scores\n",
    "df_checkinsCategory['Propensity_score'] = res.predict()"
   ]
  },
  {
   "cell_type": "code",
   "execution_count": null,
   "metadata": {},
   "outputs": [],
   "source": []
  },
  {
   "cell_type": "code",
   "execution_count": 417,
   "metadata": {},
   "outputs": [],
   "source": [
    "df = pd.DataFrame(np.array([name for name in categorySet]))\n"
   ]
  },
  {
   "cell_type": "code",
   "execution_count": 419,
   "metadata": {},
   "outputs": [],
   "source": [
    "categoryCount = np.zeros(len(categorySet))\n",
    "\n"
   ]
  },
  {
   "cell_type": "code",
   "execution_count": 426,
   "metadata": {},
   "outputs": [
    {
     "ename": "NameError",
     "evalue": "name 'count_per_category' is not defined",
     "output_type": "error",
     "traceback": [
      "\u001b[0;31m---------------------------------------------------------------------------\u001b[0m",
      "\u001b[0;31mNameError\u001b[0m                                 Traceback (most recent call last)",
      "\u001b[0;32m<ipython-input-426-3520a5edbd11>\u001b[0m in \u001b[0;36m<module>\u001b[0;34m\u001b[0m\n\u001b[0;32m----> 1\u001b[0;31m \u001b[0mcount_per_category\u001b[0m\u001b[0;34m(\u001b[0m\u001b[0mdf_checkinsCategory\u001b[0m\u001b[0;34m[\u001b[0m\u001b[0mdf_checkinsCategory\u001b[0m\u001b[0;34m[\u001b[0m\u001b[0;34m'stars_y'\u001b[0m\u001b[0;34m]\u001b[0m \u001b[0;34m>=\u001b[0m\u001b[0;36m4\u001b[0m\u001b[0;34m]\u001b[0m\u001b[0;34m)\u001b[0m\u001b[0;34m\u001b[0m\u001b[0;34m\u001b[0m\u001b[0m\n\u001b[0m",
      "\u001b[0;31mNameError\u001b[0m: name 'count_per_category' is not defined"
     ]
    }
   ],
   "source": [
    "count_per_category(df_checkinsCategory[df_checkinsCategory['stars_y'] >=4])"
   ]
  },
  {
   "cell_type": "code",
   "execution_count": 425,
   "metadata": {},
   "outputs": [
    {
     "data": {
      "text/html": [
       "<div>\n",
       "<style scoped>\n",
       "    .dataframe tbody tr th:only-of-type {\n",
       "        vertical-align: middle;\n",
       "    }\n",
       "\n",
       "    .dataframe tbody tr th {\n",
       "        vertical-align: top;\n",
       "    }\n",
       "\n",
       "    .dataframe thead th {\n",
       "        text-align: right;\n",
       "    }\n",
       "</style>\n",
       "<table border=\"1\" class=\"dataframe\">\n",
       "  <thead>\n",
       "    <tr style=\"text-align: right;\">\n",
       "      <th></th>\n",
       "      <th>review_id</th>\n",
       "      <th>user_id</th>\n",
       "      <th>business_id</th>\n",
       "      <th>stars_x</th>\n",
       "      <th>date</th>\n",
       "      <th>friends</th>\n",
       "      <th>friend_list</th>\n",
       "      <th>review_count</th>\n",
       "      <th>latitude_home</th>\n",
       "      <th>longitude_home</th>\n",
       "      <th>...</th>\n",
       "      <th>Entertainment</th>\n",
       "      <th>Automotive</th>\n",
       "      <th>Sport</th>\n",
       "      <th>Construction</th>\n",
       "      <th>BusinessSupport</th>\n",
       "      <th>Home</th>\n",
       "      <th>PersonalCare</th>\n",
       "      <th>Education</th>\n",
       "      <th>Travel</th>\n",
       "      <th>RealEstate</th>\n",
       "    </tr>\n",
       "  </thead>\n",
       "  <tbody>\n",
       "    <tr>\n",
       "      <th>224</th>\n",
       "      <td>0zjdJuiptDYTKGP-rZtLcg</td>\n",
       "      <td>nIJD_7ZXHq-FX8byPMOkMQ</td>\n",
       "      <td>paJaapnNsrWexFHBq18uDw</td>\n",
       "      <td>5</td>\n",
       "      <td>2014-08-10 22:00:50</td>\n",
       "      <td>B5vnnBub9sscTix_tPAwUw, FKFWX9kiyTvJY8_P9j_Rmw...</td>\n",
       "      <td>[B5vnnBub9sscTix_tPAwUw, FKFWX9kiyTvJY8_P9j_Rm...</td>\n",
       "      <td>30</td>\n",
       "      <td>33.368309</td>\n",
       "      <td>-111.810061</td>\n",
       "      <td>...</td>\n",
       "      <td>False</td>\n",
       "      <td>False</td>\n",
       "      <td>False</td>\n",
       "      <td>False</td>\n",
       "      <td>False</td>\n",
       "      <td>False</td>\n",
       "      <td>True</td>\n",
       "      <td>False</td>\n",
       "      <td>False</td>\n",
       "      <td>False</td>\n",
       "    </tr>\n",
       "    <tr>\n",
       "      <th>225</th>\n",
       "      <td>Bc_pyVNCbmJV622Pl-0lvw</td>\n",
       "      <td>ZTfptU_YSmdE5sLg7tSYAw</td>\n",
       "      <td>paJaapnNsrWexFHBq18uDw</td>\n",
       "      <td>5</td>\n",
       "      <td>2015-05-03 16:38:10</td>\n",
       "      <td>qZB8BZ2ZzMF0VfIGhttu7w, 0weiF2qlMMzPxXny02ZegQ...</td>\n",
       "      <td>[qZB8BZ2ZzMF0VfIGhttu7w, 0weiF2qlMMzPxXny02Zeg...</td>\n",
       "      <td>45</td>\n",
       "      <td>33.294752</td>\n",
       "      <td>-111.750092</td>\n",
       "      <td>...</td>\n",
       "      <td>False</td>\n",
       "      <td>False</td>\n",
       "      <td>False</td>\n",
       "      <td>False</td>\n",
       "      <td>False</td>\n",
       "      <td>False</td>\n",
       "      <td>True</td>\n",
       "      <td>False</td>\n",
       "      <td>False</td>\n",
       "      <td>False</td>\n",
       "    </tr>\n",
       "    <tr>\n",
       "      <th>226</th>\n",
       "      <td>zhQWulW6hSHbk0sHFqcOlw</td>\n",
       "      <td>-9WVpTW5LAEo9y6PbW0-cw</td>\n",
       "      <td>paJaapnNsrWexFHBq18uDw</td>\n",
       "      <td>5</td>\n",
       "      <td>2013-11-06 02:00:13</td>\n",
       "      <td>fMRFqU1ZdjOS4bKuM4BBHg, NGqukUgODyg5qpvIyVKd4g...</td>\n",
       "      <td>[fMRFqU1ZdjOS4bKuM4BBHg, NGqukUgODyg5qpvIyVKd4...</td>\n",
       "      <td>288</td>\n",
       "      <td>33.410579</td>\n",
       "      <td>-111.911594</td>\n",
       "      <td>...</td>\n",
       "      <td>False</td>\n",
       "      <td>False</td>\n",
       "      <td>False</td>\n",
       "      <td>False</td>\n",
       "      <td>False</td>\n",
       "      <td>False</td>\n",
       "      <td>True</td>\n",
       "      <td>False</td>\n",
       "      <td>False</td>\n",
       "      <td>False</td>\n",
       "    </tr>\n",
       "    <tr>\n",
       "      <th>227</th>\n",
       "      <td>6ihTeW4CBzyHEAK6xij4Rg</td>\n",
       "      <td>JoT5g6CXb8CBQ_QLmKnIRA</td>\n",
       "      <td>paJaapnNsrWexFHBq18uDw</td>\n",
       "      <td>4</td>\n",
       "      <td>2015-05-16 23:23:11</td>\n",
       "      <td>uviWU_edAcoVqCdW7TD1yQ, SO78YFzsKbao9xYY4B09wQ...</td>\n",
       "      <td>[uviWU_edAcoVqCdW7TD1yQ, SO78YFzsKbao9xYY4B09w...</td>\n",
       "      <td>244</td>\n",
       "      <td>33.392387</td>\n",
       "      <td>-111.855442</td>\n",
       "      <td>...</td>\n",
       "      <td>False</td>\n",
       "      <td>False</td>\n",
       "      <td>False</td>\n",
       "      <td>False</td>\n",
       "      <td>False</td>\n",
       "      <td>False</td>\n",
       "      <td>True</td>\n",
       "      <td>False</td>\n",
       "      <td>False</td>\n",
       "      <td>False</td>\n",
       "    </tr>\n",
       "    <tr>\n",
       "      <th>228</th>\n",
       "      <td>NsNkgOX6Dp7Rwh5YGaB8bQ</td>\n",
       "      <td>dIuYkwYX9zDctKN644P-Vg</td>\n",
       "      <td>paJaapnNsrWexFHBq18uDw</td>\n",
       "      <td>5</td>\n",
       "      <td>2015-08-29 00:06:26</td>\n",
       "      <td>UClaUwwl2NEGP1wmtYeQLQ, nP1em1zqEBov4PVYMoLiqA...</td>\n",
       "      <td>[UClaUwwl2NEGP1wmtYeQLQ, nP1em1zqEBov4PVYMoLiq...</td>\n",
       "      <td>103</td>\n",
       "      <td>33.395671</td>\n",
       "      <td>-111.870085</td>\n",
       "      <td>...</td>\n",
       "      <td>False</td>\n",
       "      <td>False</td>\n",
       "      <td>False</td>\n",
       "      <td>False</td>\n",
       "      <td>False</td>\n",
       "      <td>False</td>\n",
       "      <td>True</td>\n",
       "      <td>False</td>\n",
       "      <td>False</td>\n",
       "      <td>False</td>\n",
       "    </tr>\n",
       "    <tr>\n",
       "      <th>...</th>\n",
       "      <td>...</td>\n",
       "      <td>...</td>\n",
       "      <td>...</td>\n",
       "      <td>...</td>\n",
       "      <td>...</td>\n",
       "      <td>...</td>\n",
       "      <td>...</td>\n",
       "      <td>...</td>\n",
       "      <td>...</td>\n",
       "      <td>...</td>\n",
       "      <td>...</td>\n",
       "      <td>...</td>\n",
       "      <td>...</td>\n",
       "      <td>...</td>\n",
       "      <td>...</td>\n",
       "      <td>...</td>\n",
       "      <td>...</td>\n",
       "      <td>...</td>\n",
       "      <td>...</td>\n",
       "      <td>...</td>\n",
       "      <td>...</td>\n",
       "    </tr>\n",
       "    <tr>\n",
       "      <th>4516335</th>\n",
       "      <td>0EKjSoW1Dd9PpZxFz0OjKw</td>\n",
       "      <td>u51f7RWvYf6n4JKyDZ-S_g</td>\n",
       "      <td>qEFXT2eVN9Un5JPekkGQNg</td>\n",
       "      <td>5</td>\n",
       "      <td>2019-09-18 12:25:41</td>\n",
       "      <td>h7LK8tayhjvuTDjpuYb3Zg, ATnaxco-RcpdT5LVFuSocw...</td>\n",
       "      <td>[h7LK8tayhjvuTDjpuYb3Zg, ATnaxco-RcpdT5LVFuSoc...</td>\n",
       "      <td>4</td>\n",
       "      <td>35.147425</td>\n",
       "      <td>-80.829315</td>\n",
       "      <td>...</td>\n",
       "      <td>False</td>\n",
       "      <td>False</td>\n",
       "      <td>False</td>\n",
       "      <td>False</td>\n",
       "      <td>False</td>\n",
       "      <td>False</td>\n",
       "      <td>True</td>\n",
       "      <td>False</td>\n",
       "      <td>False</td>\n",
       "      <td>False</td>\n",
       "    </tr>\n",
       "    <tr>\n",
       "      <th>4516341</th>\n",
       "      <td>wMiYcPbtTV6yMHQgS1AsTQ</td>\n",
       "      <td>-2e5_Rlby0zx5OfG7B7zsg</td>\n",
       "      <td>rDzSaJ0AaFmrDATauMnUGQ</td>\n",
       "      <td>5</td>\n",
       "      <td>2017-05-15 02:36:59</td>\n",
       "      <td>cXsmsTEigCZCREKDGstHnw, dgXfFMzlJ_WDUGkpEXYCJg...</td>\n",
       "      <td>[cXsmsTEigCZCREKDGstHnw, dgXfFMzlJ_WDUGkpEXYCJ...</td>\n",
       "      <td>3</td>\n",
       "      <td>33.524364</td>\n",
       "      <td>-111.898592</td>\n",
       "      <td>...</td>\n",
       "      <td>False</td>\n",
       "      <td>False</td>\n",
       "      <td>False</td>\n",
       "      <td>False</td>\n",
       "      <td>False</td>\n",
       "      <td>True</td>\n",
       "      <td>False</td>\n",
       "      <td>False</td>\n",
       "      <td>False</td>\n",
       "      <td>False</td>\n",
       "    </tr>\n",
       "    <tr>\n",
       "      <th>4516342</th>\n",
       "      <td>fnw_ZAytnQL5kn6iYzglvA</td>\n",
       "      <td>ksHreH7-pdNQhO28bJsQjA</td>\n",
       "      <td>ItZ0dvwbWL7_e_QYNXRhUA</td>\n",
       "      <td>4</td>\n",
       "      <td>2015-12-07 19:09:50</td>\n",
       "      <td>zpMvXReWlU4sKjY8mNW_QQ, CONCLr2u6RC89jtankSFhA...</td>\n",
       "      <td>[zpMvXReWlU4sKjY8mNW_QQ, CONCLr2u6RC89jtankSFh...</td>\n",
       "      <td>3</td>\n",
       "      <td>33.554300</td>\n",
       "      <td>-111.893166</td>\n",
       "      <td>...</td>\n",
       "      <td>False</td>\n",
       "      <td>False</td>\n",
       "      <td>False</td>\n",
       "      <td>False</td>\n",
       "      <td>False</td>\n",
       "      <td>False</td>\n",
       "      <td>True</td>\n",
       "      <td>False</td>\n",
       "      <td>False</td>\n",
       "      <td>False</td>\n",
       "    </tr>\n",
       "    <tr>\n",
       "      <th>4516343</th>\n",
       "      <td>7wJ1nOoGhbotO7Z8FUoiFQ</td>\n",
       "      <td>ksHreH7-pdNQhO28bJsQjA</td>\n",
       "      <td>ItZ0dvwbWL7_e_QYNXRhUA</td>\n",
       "      <td>5</td>\n",
       "      <td>2015-05-20 16:46:52</td>\n",
       "      <td>zpMvXReWlU4sKjY8mNW_QQ, CONCLr2u6RC89jtankSFhA...</td>\n",
       "      <td>[zpMvXReWlU4sKjY8mNW_QQ, CONCLr2u6RC89jtankSFh...</td>\n",
       "      <td>3</td>\n",
       "      <td>33.554300</td>\n",
       "      <td>-111.893166</td>\n",
       "      <td>...</td>\n",
       "      <td>False</td>\n",
       "      <td>False</td>\n",
       "      <td>False</td>\n",
       "      <td>False</td>\n",
       "      <td>False</td>\n",
       "      <td>False</td>\n",
       "      <td>True</td>\n",
       "      <td>False</td>\n",
       "      <td>False</td>\n",
       "      <td>False</td>\n",
       "    </tr>\n",
       "    <tr>\n",
       "      <th>4516344</th>\n",
       "      <td>8Ze6RxSiW0C2bx7_SV166Q</td>\n",
       "      <td>ksHreH7-pdNQhO28bJsQjA</td>\n",
       "      <td>ItZ0dvwbWL7_e_QYNXRhUA</td>\n",
       "      <td>5</td>\n",
       "      <td>2017-01-11 19:22:32</td>\n",
       "      <td>zpMvXReWlU4sKjY8mNW_QQ, CONCLr2u6RC89jtankSFhA...</td>\n",
       "      <td>[zpMvXReWlU4sKjY8mNW_QQ, CONCLr2u6RC89jtankSFh...</td>\n",
       "      <td>3</td>\n",
       "      <td>33.554300</td>\n",
       "      <td>-111.893166</td>\n",
       "      <td>...</td>\n",
       "      <td>False</td>\n",
       "      <td>False</td>\n",
       "      <td>False</td>\n",
       "      <td>False</td>\n",
       "      <td>False</td>\n",
       "      <td>False</td>\n",
       "      <td>True</td>\n",
       "      <td>False</td>\n",
       "      <td>False</td>\n",
       "      <td>False</td>\n",
       "    </tr>\n",
       "  </tbody>\n",
       "</table>\n",
       "<p>2518703 rows × 33 columns</p>\n",
       "</div>"
      ],
      "text/plain": [
       "                      review_id                 user_id  \\\n",
       "224      0zjdJuiptDYTKGP-rZtLcg  nIJD_7ZXHq-FX8byPMOkMQ   \n",
       "225      Bc_pyVNCbmJV622Pl-0lvw  ZTfptU_YSmdE5sLg7tSYAw   \n",
       "226      zhQWulW6hSHbk0sHFqcOlw  -9WVpTW5LAEo9y6PbW0-cw   \n",
       "227      6ihTeW4CBzyHEAK6xij4Rg  JoT5g6CXb8CBQ_QLmKnIRA   \n",
       "228      NsNkgOX6Dp7Rwh5YGaB8bQ  dIuYkwYX9zDctKN644P-Vg   \n",
       "...                         ...                     ...   \n",
       "4516335  0EKjSoW1Dd9PpZxFz0OjKw  u51f7RWvYf6n4JKyDZ-S_g   \n",
       "4516341  wMiYcPbtTV6yMHQgS1AsTQ  -2e5_Rlby0zx5OfG7B7zsg   \n",
       "4516342  fnw_ZAytnQL5kn6iYzglvA  ksHreH7-pdNQhO28bJsQjA   \n",
       "4516343  7wJ1nOoGhbotO7Z8FUoiFQ  ksHreH7-pdNQhO28bJsQjA   \n",
       "4516344  8Ze6RxSiW0C2bx7_SV166Q  ksHreH7-pdNQhO28bJsQjA   \n",
       "\n",
       "                    business_id  stars_x                 date  \\\n",
       "224      paJaapnNsrWexFHBq18uDw        5  2014-08-10 22:00:50   \n",
       "225      paJaapnNsrWexFHBq18uDw        5  2015-05-03 16:38:10   \n",
       "226      paJaapnNsrWexFHBq18uDw        5  2013-11-06 02:00:13   \n",
       "227      paJaapnNsrWexFHBq18uDw        4  2015-05-16 23:23:11   \n",
       "228      paJaapnNsrWexFHBq18uDw        5  2015-08-29 00:06:26   \n",
       "...                         ...      ...                  ...   \n",
       "4516335  qEFXT2eVN9Un5JPekkGQNg        5  2019-09-18 12:25:41   \n",
       "4516341  rDzSaJ0AaFmrDATauMnUGQ        5  2017-05-15 02:36:59   \n",
       "4516342  ItZ0dvwbWL7_e_QYNXRhUA        4  2015-12-07 19:09:50   \n",
       "4516343  ItZ0dvwbWL7_e_QYNXRhUA        5  2015-05-20 16:46:52   \n",
       "4516344  ItZ0dvwbWL7_e_QYNXRhUA        5  2017-01-11 19:22:32   \n",
       "\n",
       "                                                   friends  \\\n",
       "224      B5vnnBub9sscTix_tPAwUw, FKFWX9kiyTvJY8_P9j_Rmw...   \n",
       "225      qZB8BZ2ZzMF0VfIGhttu7w, 0weiF2qlMMzPxXny02ZegQ...   \n",
       "226      fMRFqU1ZdjOS4bKuM4BBHg, NGqukUgODyg5qpvIyVKd4g...   \n",
       "227      uviWU_edAcoVqCdW7TD1yQ, SO78YFzsKbao9xYY4B09wQ...   \n",
       "228      UClaUwwl2NEGP1wmtYeQLQ, nP1em1zqEBov4PVYMoLiqA...   \n",
       "...                                                    ...   \n",
       "4516335  h7LK8tayhjvuTDjpuYb3Zg, ATnaxco-RcpdT5LVFuSocw...   \n",
       "4516341  cXsmsTEigCZCREKDGstHnw, dgXfFMzlJ_WDUGkpEXYCJg...   \n",
       "4516342  zpMvXReWlU4sKjY8mNW_QQ, CONCLr2u6RC89jtankSFhA...   \n",
       "4516343  zpMvXReWlU4sKjY8mNW_QQ, CONCLr2u6RC89jtankSFhA...   \n",
       "4516344  zpMvXReWlU4sKjY8mNW_QQ, CONCLr2u6RC89jtankSFhA...   \n",
       "\n",
       "                                               friend_list  review_count  \\\n",
       "224      [B5vnnBub9sscTix_tPAwUw, FKFWX9kiyTvJY8_P9j_Rm...            30   \n",
       "225      [qZB8BZ2ZzMF0VfIGhttu7w, 0weiF2qlMMzPxXny02Zeg...            45   \n",
       "226      [fMRFqU1ZdjOS4bKuM4BBHg, NGqukUgODyg5qpvIyVKd4...           288   \n",
       "227      [uviWU_edAcoVqCdW7TD1yQ, SO78YFzsKbao9xYY4B09w...           244   \n",
       "228      [UClaUwwl2NEGP1wmtYeQLQ, nP1em1zqEBov4PVYMoLiq...           103   \n",
       "...                                                    ...           ...   \n",
       "4516335  [h7LK8tayhjvuTDjpuYb3Zg, ATnaxco-RcpdT5LVFuSoc...             4   \n",
       "4516341  [cXsmsTEigCZCREKDGstHnw, dgXfFMzlJ_WDUGkpEXYCJ...             3   \n",
       "4516342  [zpMvXReWlU4sKjY8mNW_QQ, CONCLr2u6RC89jtankSFh...             3   \n",
       "4516343  [zpMvXReWlU4sKjY8mNW_QQ, CONCLr2u6RC89jtankSFh...             3   \n",
       "4516344  [zpMvXReWlU4sKjY8mNW_QQ, CONCLr2u6RC89jtankSFh...             3   \n",
       "\n",
       "         latitude_home  longitude_home  ... Entertainment  Automotive  Sport  \\\n",
       "224          33.368309     -111.810061  ...         False       False  False   \n",
       "225          33.294752     -111.750092  ...         False       False  False   \n",
       "226          33.410579     -111.911594  ...         False       False  False   \n",
       "227          33.392387     -111.855442  ...         False       False  False   \n",
       "228          33.395671     -111.870085  ...         False       False  False   \n",
       "...                ...             ...  ...           ...         ...    ...   \n",
       "4516335      35.147425      -80.829315  ...         False       False  False   \n",
       "4516341      33.524364     -111.898592  ...         False       False  False   \n",
       "4516342      33.554300     -111.893166  ...         False       False  False   \n",
       "4516343      33.554300     -111.893166  ...         False       False  False   \n",
       "4516344      33.554300     -111.893166  ...         False       False  False   \n",
       "\n",
       "        Construction  BusinessSupport   Home  PersonalCare  Education  Travel  \\\n",
       "224            False            False  False          True      False   False   \n",
       "225            False            False  False          True      False   False   \n",
       "226            False            False  False          True      False   False   \n",
       "227            False            False  False          True      False   False   \n",
       "228            False            False  False          True      False   False   \n",
       "...              ...              ...    ...           ...        ...     ...   \n",
       "4516335        False            False  False          True      False   False   \n",
       "4516341        False            False   True         False      False   False   \n",
       "4516342        False            False  False          True      False   False   \n",
       "4516343        False            False  False          True      False   False   \n",
       "4516344        False            False  False          True      False   False   \n",
       "\n",
       "         RealEstate  \n",
       "224           False  \n",
       "225           False  \n",
       "226           False  \n",
       "227           False  \n",
       "228           False  \n",
       "...             ...  \n",
       "4516335       False  \n",
       "4516341       False  \n",
       "4516342       False  \n",
       "4516343       False  \n",
       "4516344       False  \n",
       "\n",
       "[2518703 rows x 33 columns]"
      ]
     },
     "execution_count": 425,
     "metadata": {},
     "output_type": "execute_result"
    }
   ],
   "source": [
    "df_checkinsCategory[df_checkinsCategory['stars_y'] >=4]"
   ]
  },
  {
   "cell_type": "code",
   "execution_count": null,
   "metadata": {},
   "outputs": [],
   "source": []
  }
 ],
 "metadata": {
  "kernelspec": {
   "display_name": "Python 3",
   "language": "python",
   "name": "python3"
  },
  "language_info": {
   "codemirror_mode": {
    "name": "ipython",
    "version": 3
   },
   "file_extension": ".py",
   "mimetype": "text/x-python",
   "name": "python",
   "nbconvert_exporter": "python",
   "pygments_lexer": "ipython3",
   "version": "3.8.3"
  }
 },
 "nbformat": 4,
 "nbformat_minor": 4
}
