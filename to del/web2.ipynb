{
 "cells": [
  {
   "cell_type": "markdown",
   "metadata": {},
   "source": [
    "# Import libraries"
   ]
  },
  {
   "cell_type": "code",
   "execution_count": 1,
   "metadata": {},
   "outputs": [],
   "source": [
    "import numpy as np\n",
    "import pandas as pd\n",
    "import plotly.io as pio\n",
    "import plotly.express as px\n",
    "import plotly.graph_objects as go"
   ]
  },
  {
   "cell_type": "markdown",
   "metadata": {},
   "source": [
    "# Load useful dataframes for interactive plots"
   ]
  },
  {
   "cell_type": "code",
   "execution_count": 183,
   "metadata": {},
   "outputs": [
    {
     "data": {
      "text/html": [
       "<div>\n",
       "<style scoped>\n",
       "    .dataframe tbody tr th:only-of-type {\n",
       "        vertical-align: middle;\n",
       "    }\n",
       "\n",
       "    .dataframe tbody tr th {\n",
       "        vertical-align: top;\n",
       "    }\n",
       "\n",
       "    .dataframe thead th {\n",
       "        text-align: right;\n",
       "    }\n",
       "</style>\n",
       "<table border=\"1\" class=\"dataframe\">\n",
       "  <thead>\n",
       "    <tr style=\"text-align: right;\">\n",
       "      <th></th>\n",
       "      <th>mon</th>\n",
       "      <th>tue</th>\n",
       "      <th>wed</th>\n",
       "      <th>thu</th>\n",
       "      <th>fri</th>\n",
       "      <th>sat</th>\n",
       "      <th>sun</th>\n",
       "      <th>allWeekDays</th>\n",
       "      <th>bucket</th>\n",
       "    </tr>\n",
       "  </thead>\n",
       "  <tbody>\n",
       "    <tr>\n",
       "      <th>0</th>\n",
       "      <td>0.762658</td>\n",
       "      <td>0.794944</td>\n",
       "      <td>0.741935</td>\n",
       "      <td>0.789286</td>\n",
       "      <td>0.782007</td>\n",
       "      <td>0.776173</td>\n",
       "      <td>0.830389</td>\n",
       "      <td>0.782094</td>\n",
       "      <td>0.100000</td>\n",
       "    </tr>\n",
       "    <tr>\n",
       "      <th>1</th>\n",
       "      <td>0.787020</td>\n",
       "      <td>0.754667</td>\n",
       "      <td>0.752195</td>\n",
       "      <td>0.779775</td>\n",
       "      <td>0.764254</td>\n",
       "      <td>0.741294</td>\n",
       "      <td>0.767365</td>\n",
       "      <td>0.764244</td>\n",
       "      <td>0.330530</td>\n",
       "    </tr>\n",
       "    <tr>\n",
       "      <th>2</th>\n",
       "      <td>0.758806</td>\n",
       "      <td>0.765931</td>\n",
       "      <td>0.764204</td>\n",
       "      <td>0.763565</td>\n",
       "      <td>0.764304</td>\n",
       "      <td>0.763861</td>\n",
       "      <td>0.764934</td>\n",
       "      <td>0.763594</td>\n",
       "      <td>1.092500</td>\n",
       "    </tr>\n",
       "    <tr>\n",
       "      <th>3</th>\n",
       "      <td>0.774574</td>\n",
       "      <td>0.771320</td>\n",
       "      <td>0.770966</td>\n",
       "      <td>0.780416</td>\n",
       "      <td>0.778295</td>\n",
       "      <td>0.777246</td>\n",
       "      <td>0.771028</td>\n",
       "      <td>0.774685</td>\n",
       "      <td>3.611038</td>\n",
       "    </tr>\n",
       "    <tr>\n",
       "      <th>4</th>\n",
       "      <td>0.773922</td>\n",
       "      <td>0.773409</td>\n",
       "      <td>0.779660</td>\n",
       "      <td>0.786511</td>\n",
       "      <td>0.778237</td>\n",
       "      <td>0.783960</td>\n",
       "      <td>0.776293</td>\n",
       "      <td>0.778660</td>\n",
       "      <td>11.935557</td>\n",
       "    </tr>\n",
       "  </tbody>\n",
       "</table>\n",
       "</div>"
      ],
      "text/plain": [
       "        mon       tue       wed       thu       fri       sat       sun  \\\n",
       "0  0.762658  0.794944  0.741935  0.789286  0.782007  0.776173  0.830389   \n",
       "1  0.787020  0.754667  0.752195  0.779775  0.764254  0.741294  0.767365   \n",
       "2  0.758806  0.765931  0.764204  0.763565  0.764304  0.763861  0.764934   \n",
       "3  0.774574  0.771320  0.770966  0.780416  0.778295  0.777246  0.771028   \n",
       "4  0.773922  0.773409  0.779660  0.786511  0.778237  0.783960  0.776293   \n",
       "\n",
       "   allWeekDays     bucket  \n",
       "0     0.782094   0.100000  \n",
       "1     0.764244   0.330530  \n",
       "2     0.763594   1.092500  \n",
       "3     0.774685   3.611038  \n",
       "4     0.778660  11.935557  "
      ]
     },
     "execution_count": 183,
     "metadata": {},
     "output_type": "execute_result"
    }
   ],
   "source": [
    "# Load dataframes for week day study\n",
    "df_bad = pd.read_csv('./for_plotting/bad_reviews_week.csv')\n",
    "df_good = pd.read_csv('./for_plotting/good_reviews_week.csv')\n",
    "# Show an example\n",
    "df_good.head()"
   ]
  },
  {
   "cell_type": "code",
   "execution_count": 198,
   "metadata": {},
   "outputs": [],
   "source": [
    "# Rename columns names for both dataframes\n",
    "df_good.rename(columns={'mon':'Monday','tue':'Tuesday','wed':'Wednesday','thu':'Thursday','fri':'Friday','sat':'Saturday','sun':'Sunday'},inplace=True)\n",
    "df_bad.rename(columns={'mon':'Monday','tue':'Tuesday','wed':'Wednesday','thu':'Thursday','fri':'Friday','sat':'Saturday','sun':'Sunday'},inplace=True)"
   ]
  },
  {
   "cell_type": "code",
   "execution_count": 199,
   "metadata": {},
   "outputs": [
    {
     "data": {
      "text/html": [
       "<div>\n",
       "<style scoped>\n",
       "    .dataframe tbody tr th:only-of-type {\n",
       "        vertical-align: middle;\n",
       "    }\n",
       "\n",
       "    .dataframe tbody tr th {\n",
       "        vertical-align: top;\n",
       "    }\n",
       "\n",
       "    .dataframe thead th {\n",
       "        text-align: right;\n",
       "    }\n",
       "</style>\n",
       "<table border=\"1\" class=\"dataframe\">\n",
       "  <thead>\n",
       "    <tr style=\"text-align: right;\">\n",
       "      <th></th>\n",
       "      <th>Automotive</th>\n",
       "      <th>Construction</th>\n",
       "      <th>Manufacturing</th>\n",
       "      <th>Legal</th>\n",
       "      <th>PersonalCare</th>\n",
       "      <th>Food</th>\n",
       "      <th>Education</th>\n",
       "      <th>Travel</th>\n",
       "      <th>Entertainment</th>\n",
       "      <th>RealEstate</th>\n",
       "      <th>Merchant</th>\n",
       "      <th>Computers</th>\n",
       "      <th>Sport</th>\n",
       "      <th>Health</th>\n",
       "      <th>BusinessSupport</th>\n",
       "      <th>Home</th>\n",
       "      <th>Miscellaneous</th>\n",
       "      <th>All Categories</th>\n",
       "    </tr>\n",
       "  </thead>\n",
       "  <tbody>\n",
       "    <tr>\n",
       "      <th>0</th>\n",
       "      <td>0.253165</td>\n",
       "      <td>0.307692</td>\n",
       "      <td>0.333333</td>\n",
       "      <td>0.333333</td>\n",
       "      <td>0.161905</td>\n",
       "      <td>0.200482</td>\n",
       "      <td>0.209302</td>\n",
       "      <td>0.353175</td>\n",
       "      <td>0.218509</td>\n",
       "      <td>0.467391</td>\n",
       "      <td>0.215517</td>\n",
       "      <td>0.434783</td>\n",
       "      <td>0.168831</td>\n",
       "      <td>0.109756</td>\n",
       "      <td>0.265487</td>\n",
       "      <td>0.388235</td>\n",
       "      <td>0.194030</td>\n",
       "      <td>0.217906</td>\n",
       "    </tr>\n",
       "    <tr>\n",
       "      <th>1</th>\n",
       "      <td>0.112500</td>\n",
       "      <td>0.129032</td>\n",
       "      <td>0.173913</td>\n",
       "      <td>0.187500</td>\n",
       "      <td>0.143824</td>\n",
       "      <td>0.234589</td>\n",
       "      <td>0.096491</td>\n",
       "      <td>0.248786</td>\n",
       "      <td>0.236539</td>\n",
       "      <td>0.178571</td>\n",
       "      <td>0.200793</td>\n",
       "      <td>0.250000</td>\n",
       "      <td>0.306977</td>\n",
       "      <td>0.200000</td>\n",
       "      <td>0.224332</td>\n",
       "      <td>0.178947</td>\n",
       "      <td>0.136905</td>\n",
       "      <td>0.235756</td>\n",
       "    </tr>\n",
       "    <tr>\n",
       "      <th>2</th>\n",
       "      <td>0.164324</td>\n",
       "      <td>0.201389</td>\n",
       "      <td>0.220833</td>\n",
       "      <td>0.259516</td>\n",
       "      <td>0.169061</td>\n",
       "      <td>0.238584</td>\n",
       "      <td>0.134417</td>\n",
       "      <td>0.252881</td>\n",
       "      <td>0.232272</td>\n",
       "      <td>0.235294</td>\n",
       "      <td>0.220236</td>\n",
       "      <td>0.258621</td>\n",
       "      <td>0.299046</td>\n",
       "      <td>0.205031</td>\n",
       "      <td>0.226807</td>\n",
       "      <td>0.225564</td>\n",
       "      <td>0.163808</td>\n",
       "      <td>0.236406</td>\n",
       "    </tr>\n",
       "    <tr>\n",
       "      <th>3</th>\n",
       "      <td>0.261383</td>\n",
       "      <td>0.204604</td>\n",
       "      <td>0.209979</td>\n",
       "      <td>0.232939</td>\n",
       "      <td>0.179231</td>\n",
       "      <td>0.226340</td>\n",
       "      <td>0.168168</td>\n",
       "      <td>0.302136</td>\n",
       "      <td>0.231334</td>\n",
       "      <td>0.244528</td>\n",
       "      <td>0.217799</td>\n",
       "      <td>0.293046</td>\n",
       "      <td>0.294460</td>\n",
       "      <td>0.193586</td>\n",
       "      <td>0.247063</td>\n",
       "      <td>0.218801</td>\n",
       "      <td>0.174878</td>\n",
       "      <td>0.225315</td>\n",
       "    </tr>\n",
       "    <tr>\n",
       "      <th>4</th>\n",
       "      <td>0.260403</td>\n",
       "      <td>0.190206</td>\n",
       "      <td>0.220178</td>\n",
       "      <td>0.230578</td>\n",
       "      <td>0.167509</td>\n",
       "      <td>0.222714</td>\n",
       "      <td>0.170499</td>\n",
       "      <td>0.278033</td>\n",
       "      <td>0.220481</td>\n",
       "      <td>0.283532</td>\n",
       "      <td>0.226722</td>\n",
       "      <td>0.368658</td>\n",
       "      <td>0.279634</td>\n",
       "      <td>0.188462</td>\n",
       "      <td>0.228904</td>\n",
       "      <td>0.241835</td>\n",
       "      <td>0.167913</td>\n",
       "      <td>0.221340</td>\n",
       "    </tr>\n",
       "  </tbody>\n",
       "</table>\n",
       "</div>"
      ],
      "text/plain": [
       "   Automotive  Construction  Manufacturing     Legal  PersonalCare      Food  \\\n",
       "0    0.253165      0.307692       0.333333  0.333333      0.161905  0.200482   \n",
       "1    0.112500      0.129032       0.173913  0.187500      0.143824  0.234589   \n",
       "2    0.164324      0.201389       0.220833  0.259516      0.169061  0.238584   \n",
       "3    0.261383      0.204604       0.209979  0.232939      0.179231  0.226340   \n",
       "4    0.260403      0.190206       0.220178  0.230578      0.167509  0.222714   \n",
       "\n",
       "   Education    Travel  Entertainment  RealEstate  Merchant  Computers  \\\n",
       "0   0.209302  0.353175       0.218509    0.467391  0.215517   0.434783   \n",
       "1   0.096491  0.248786       0.236539    0.178571  0.200793   0.250000   \n",
       "2   0.134417  0.252881       0.232272    0.235294  0.220236   0.258621   \n",
       "3   0.168168  0.302136       0.231334    0.244528  0.217799   0.293046   \n",
       "4   0.170499  0.278033       0.220481    0.283532  0.226722   0.368658   \n",
       "\n",
       "      Sport    Health  BusinessSupport      Home  Miscellaneous  \\\n",
       "0  0.168831  0.109756         0.265487  0.388235       0.194030   \n",
       "1  0.306977  0.200000         0.224332  0.178947       0.136905   \n",
       "2  0.299046  0.205031         0.226807  0.225564       0.163808   \n",
       "3  0.294460  0.193586         0.247063  0.218801       0.174878   \n",
       "4  0.279634  0.188462         0.228904  0.241835       0.167913   \n",
       "\n",
       "   All Categories  \n",
       "0        0.217906  \n",
       "1        0.235756  \n",
       "2        0.236406  \n",
       "3        0.225315  \n",
       "4        0.221340  "
      ]
     },
     "execution_count": 199,
     "metadata": {},
     "output_type": "execute_result"
    }
   ],
   "source": [
    "# Load dataframes for category study\n",
    "df_bad_cat = pd.read_csv('./for_plotting/bad_reviews_cat.csv')\n",
    "df_good_cat = pd.read_csv('./for_plotting/good_reviews_cat.csv')\n",
    "# Show an example\n",
    "df_bad_cat.head()"
   ]
  },
  {
   "cell_type": "markdown",
   "metadata": {},
   "source": [
    "# Create the interactive plot for week day study"
   ]
  },
  {
   "cell_type": "code",
   "execution_count": 19,
   "metadata": {},
   "outputs": [],
   "source": [
    "def set_visible(idx,N):\n",
    "    \"\"\"\n",
    "        Return mask \n",
    "    \"\"\"\n",
    "    a = np.zeros(2*N)\n",
    "    a[2*idx]=True\n",
    "    a[2*idx+1]=True\n",
    "    a = a>0\n",
    "    return list(a.copy())"
   ]
  },
  {
   "cell_type": "code",
   "execution_count": 20,
   "metadata": {},
   "outputs": [],
   "source": [
    "def list_dict(col_names,N):\n",
    "    \"\"\"\n",
    "    \n",
    "    \"\"\"\n",
    "    # Initialize the array\n",
    "    res = []\n",
    "    # Plot all weekdays\n",
    "    res.append(dict(label=\"Plot all weekdays\",\n",
    "                     method=\"update\",\n",
    "                     args=[{\"visible\": list(np.ones(N))},\n",
    "                           {\"title\": \"Plot all weekdays\"}]))\n",
    "    # Add each week day\n",
    "    for idx,i in enumerate(col_names): \n",
    "        res.append(dict(label=i,\n",
    "                         method=\"update\",\n",
    "                         args=[{\"visible\": set_visible(idx,N)},\n",
    "                               {\"title\": i}]))\n",
    "\n",
    "    return list(res)"
   ]
  },
  {
   "cell_type": "code",
   "execution_count": 202,
   "metadata": {},
   "outputs": [],
   "source": [
    "# Define distance groups\n",
    "bucket = df_good['bucket'].values\n",
    "# Define x axis of the plot\n",
    "col_names = df_bad.columns[:len(df_bad.columns)-1]"
   ]
  },
  {
   "cell_type": "code",
   "execution_count": 209,
   "metadata": {},
   "outputs": [
    {
     "data": {
      "application/vnd.plotly.v1+json": {
       "config": {
        "plotlyServerURL": "https://plot.ly"
       },
       "data": [
        {
         "line": {
          "color": "#33CFA1"
         },
         "name": "Monday good review",
         "type": "scatter",
         "x": [
          0.1,
          0.3305298396179653,
          1.092499748778779,
          3.6110376674651734,
          11.935557010816956,
          39.4505774453641,
          130.39593035852323,
          430.9974594823805,
          1424.5752115846176,
          4708.64616208793
         ],
         "y": [
          0.7626582278481012,
          0.7870201096892139,
          0.7588063374865406,
          0.7745737845904791,
          0.7739223889763175,
          0.766357112705783,
          0.7682619647355163,
          0.7592039800995025,
          0.8040345821325648,
          0.8006872852233677
         ]
        },
        {
         "line": {
          "color": "#F06A64"
         },
         "name": "Monday bad review",
         "type": "scatter",
         "x": [
          0.1,
          0.3305298396179653,
          1.092499748778779,
          3.6110376674651734,
          11.935557010816956,
          39.4505774453641,
          130.39593035852323,
          430.9974594823805,
          1424.5752115846176,
          4708.64616208793
         ],
         "y": [
          0.2373417721518987,
          0.2129798903107861,
          0.2411936625134595,
          0.2254262154095209,
          0.2260776110236825,
          0.2336428872942169,
          0.23173803526448364,
          0.2407960199004975,
          0.19596541786743515,
          0.19931271477663232
         ]
        },
        {
         "line": {
          "color": "#33CFA1"
         },
         "name": "Tuesday good review",
         "type": "scatter",
         "x": [
          0.1,
          0.3305298396179653,
          1.092499748778779,
          3.6110376674651734,
          11.935557010816956,
          39.4505774453641,
          130.39593035852323,
          430.9974594823805,
          1424.5752115846176,
          4708.64616208793
         ],
         "y": [
          0.7949438202247191,
          0.7546666666666667,
          0.7659309916070873,
          0.7713203116661329,
          0.7734094009673819,
          0.7656434940424525,
          0.726027397260274,
          0.7613390928725702,
          0.8482142857142857,
          0.7777777777777778
         ]
        },
        {
         "line": {
          "color": "#F06A64"
         },
         "name": "Tuesday bad review",
         "type": "scatter",
         "x": [
          0.1,
          0.3305298396179653,
          1.092499748778779,
          3.6110376674651734,
          11.935557010816956,
          39.4505774453641,
          130.39593035852323,
          430.9974594823805,
          1424.5752115846176,
          4708.64616208793
         ],
         "y": [
          0.2050561797752809,
          0.2453333333333333,
          0.23406900839291264,
          0.228679688333867,
          0.2265905990326181,
          0.2343565059575476,
          0.273972602739726,
          0.2386609071274298,
          0.15178571428571427,
          0.2222222222222222
         ]
        },
        {
         "line": {
          "color": "#33CFA1"
         },
         "name": "Wednesday good review",
         "type": "scatter",
         "x": [
          0.1,
          0.3305298396179653,
          1.092499748778779,
          3.6110376674651734,
          11.935557010816956,
          39.4505774453641,
          130.39593035852323,
          430.9974594823805,
          1424.5752115846176,
          4708.64616208793
         ],
         "y": [
          0.7419354838709677,
          0.7521951219512195,
          0.7642040882021568,
          0.7709660297239915,
          0.7796596063418085,
          0.7713310580204779,
          0.8145896656534954,
          0.7853982300884956,
          0.8324175824175825,
          0.7574626865671642
         ]
        },
        {
         "line": {
          "color": "#F06A64"
         },
         "name": "Wednesday bad review",
         "type": "scatter",
         "x": [
          0.1,
          0.3305298396179653,
          1.092499748778779,
          3.6110376674651734,
          11.935557010816956,
          39.4505774453641,
          130.39593035852323,
          430.9974594823805,
          1424.5752115846176,
          4708.64616208793
         ],
         "y": [
          0.25806451612903225,
          0.2478048780487805,
          0.2357959117978433,
          0.2290339702760085,
          0.2203403936581915,
          0.2286689419795221,
          0.18541033434650456,
          0.21460176991150445,
          0.16758241758241754,
          0.24253731343283585
         ]
        },
        {
         "line": {
          "color": "#33CFA1"
         },
         "name": "Thursday good review",
         "type": "scatter",
         "x": [
          0.1,
          0.3305298396179653,
          1.092499748778779,
          3.6110376674651734,
          11.935557010816956,
          39.4505774453641,
          130.39593035852323,
          430.9974594823805,
          1424.5752115846176,
          4708.64616208793
         ],
         "y": [
          0.7892857142857143,
          0.7797752808988764,
          0.7635652019213663,
          0.7804161143449945,
          0.7865113372612034,
          0.7707978179338562,
          0.8339622641509434,
          0.7903030303030303,
          0.8207885304659498,
          0.8
         ]
        },
        {
         "line": {
          "color": "#F06A64"
         },
         "name": "Thursday bad review",
         "type": "scatter",
         "x": [
          0.1,
          0.3305298396179653,
          1.092499748778779,
          3.6110376674651734,
          11.935557010816956,
          39.4505774453641,
          130.39593035852323,
          430.9974594823805,
          1424.5752115846176,
          4708.64616208793
         ],
         "y": [
          0.2107142857142857,
          0.2202247191011236,
          0.2364347980786337,
          0.21958388565500547,
          0.21348866273879666,
          0.2292021820661439,
          0.1660377358490566,
          0.2096969696969697,
          0.17921146953405018,
          0.2
         ]
        },
        {
         "line": {
          "color": "#33CFA1"
         },
         "name": "Friday good review",
         "type": "scatter",
         "x": [
          0.1,
          0.3305298396179653,
          1.092499748778779,
          3.6110376674651734,
          11.935557010816956,
          39.4505774453641,
          130.39593035852323,
          430.9974594823805,
          1424.5752115846176,
          4708.64616208793
         ],
         "y": [
          0.7820069204152249,
          0.7642543859649122,
          0.7643041712809154,
          0.7782951289398281,
          0.7782373528475979,
          0.7728141839040501,
          0.8198757763975155,
          0.7781908302354399,
          0.8178137651821862,
          0.7977044476327116
         ]
        },
        {
         "line": {
          "color": "#F06A64"
         },
         "name": "Friday bad review",
         "type": "scatter",
         "x": [
          0.1,
          0.3305298396179653,
          1.092499748778779,
          3.6110376674651734,
          11.935557010816956,
          39.4505774453641,
          130.39593035852323,
          430.9974594823805,
          1424.5752115846176,
          4708.64616208793
         ],
         "y": [
          0.2179930795847751,
          0.2357456140350877,
          0.2356958287190845,
          0.22170487106017192,
          0.22176264715240213,
          0.22718581609595,
          0.18012422360248448,
          0.2218091697645601,
          0.18218623481781376,
          0.2022955523672884
         ]
        },
        {
         "line": {
          "color": "#33CFA1"
         },
         "name": "Saturday good review",
         "type": "scatter",
         "x": [
          0.1,
          0.3305298396179653,
          1.092499748778779,
          3.6110376674651734,
          11.935557010816956,
          39.4505774453641,
          130.39593035852323,
          430.9974594823805,
          1424.5752115846176,
          4708.64616208793
         ],
         "y": [
          0.7761732851985559,
          0.7412935323383084,
          0.7638611886717191,
          0.777246112195429,
          0.7839602808963636,
          0.7744435284418797,
          0.7826086956521741,
          0.7785234899328859,
          0.8168498168498168,
          0.7535014005602241
         ]
        },
        {
         "line": {
          "color": "#F06A64"
         },
         "name": "Saturday bad review",
         "type": "scatter",
         "x": [
          0.1,
          0.3305298396179653,
          1.092499748778779,
          3.6110376674651734,
          11.935557010816956,
          39.4505774453641,
          130.39593035852323,
          430.9974594823805,
          1424.5752115846176,
          4708.64616208793
         ],
         "y": [
          0.2238267148014441,
          0.25870646766169153,
          0.2361388113282808,
          0.22275388780457087,
          0.21603971910363645,
          0.2255564715581204,
          0.21739130434782608,
          0.2214765100671141,
          0.18315018315018314,
          0.2464985994397759
         ]
        },
        {
         "line": {
          "color": "#33CFA1"
         },
         "name": "Sunday good review",
         "type": "scatter",
         "x": [
          0.1,
          0.3305298396179653,
          1.092499748778779,
          3.6110376674651734,
          11.935557010816956,
          39.4505774453641,
          130.39593035852323,
          430.9974594823805,
          1424.5752115846176,
          4708.64616208793
         ],
         "y": [
          0.8303886925795053,
          0.7673649393605292,
          0.7649336283185841,
          0.7710282992434856,
          0.7762934861570748,
          0.7750316385021959,
          0.8191214470284238,
          0.7615571776155717,
          0.8556701030927835,
          0.7672955974842768
         ]
        },
        {
         "line": {
          "color": "#F06A64"
         },
         "name": "Sunday bad review",
         "type": "scatter",
         "x": [
          0.1,
          0.3305298396179653,
          1.092499748778779,
          3.6110376674651734,
          11.935557010816956,
          39.4505774453641,
          130.39593035852323,
          430.9974594823805,
          1424.5752115846176,
          4708.64616208793
         ],
         "y": [
          0.1696113074204947,
          0.2326350606394708,
          0.2350663716814159,
          0.2289717007565145,
          0.2237065138429252,
          0.22496836149780391,
          0.18087855297157626,
          0.2384428223844282,
          0.14432989690721648,
          0.2327044025157233
         ]
        },
        {
         "line": {
          "color": "#33CFA1"
         },
         "name": "allWeekDays good review",
         "type": "scatter",
         "x": [
          0.1,
          0.3305298396179653,
          1.092499748778779,
          3.6110376674651734,
          11.935557010816956,
          39.4505774453641,
          130.39593035852323,
          430.9974594823805,
          1424.5752115846176,
          4708.64616208793
         ],
         "y": [
          0.7820937944102321,
          0.7642444871984608,
          0.7635938461538462,
          0.7746852431776059,
          0.7786602980465946,
          0.7708269620668955,
          0.7943768359211079,
          0.7729532648326152,
          0.8282639213851193,
          0.7794744318181818
         ]
        },
        {
         "line": {
          "color": "#F06A64"
         },
         "name": "allWeekDays bad review",
         "type": "scatter",
         "x": [
          0.1,
          0.3305298396179653,
          1.092499748778779,
          3.6110376674651734,
          11.935557010816956,
          39.4505774453641,
          130.39593035852323,
          430.9974594823805,
          1424.5752115846176,
          4708.64616208793
         ],
         "y": [
          0.2179062055897679,
          0.23575551280153914,
          0.23640615384615385,
          0.2253147568223941,
          0.22133970195340533,
          0.2291730379331045,
          0.2056231640788921,
          0.2270467351673849,
          0.17173607861488066,
          0.22052556818181812
         ]
        }
       ],
       "layout": {
        "template": {
         "data": {
          "bar": [
           {
            "error_x": {
             "color": "#2a3f5f"
            },
            "error_y": {
             "color": "#2a3f5f"
            },
            "marker": {
             "line": {
              "color": "#E5ECF6",
              "width": 0.5
             }
            },
            "type": "bar"
           }
          ],
          "barpolar": [
           {
            "marker": {
             "line": {
              "color": "#E5ECF6",
              "width": 0.5
             }
            },
            "type": "barpolar"
           }
          ],
          "carpet": [
           {
            "aaxis": {
             "endlinecolor": "#2a3f5f",
             "gridcolor": "white",
             "linecolor": "white",
             "minorgridcolor": "white",
             "startlinecolor": "#2a3f5f"
            },
            "baxis": {
             "endlinecolor": "#2a3f5f",
             "gridcolor": "white",
             "linecolor": "white",
             "minorgridcolor": "white",
             "startlinecolor": "#2a3f5f"
            },
            "type": "carpet"
           }
          ],
          "choropleth": [
           {
            "colorbar": {
             "outlinewidth": 0,
             "ticks": ""
            },
            "type": "choropleth"
           }
          ],
          "contour": [
           {
            "colorbar": {
             "outlinewidth": 0,
             "ticks": ""
            },
            "colorscale": [
             [
              0,
              "#0d0887"
             ],
             [
              0.1111111111111111,
              "#46039f"
             ],
             [
              0.2222222222222222,
              "#7201a8"
             ],
             [
              0.3333333333333333,
              "#9c179e"
             ],
             [
              0.4444444444444444,
              "#bd3786"
             ],
             [
              0.5555555555555556,
              "#d8576b"
             ],
             [
              0.6666666666666666,
              "#ed7953"
             ],
             [
              0.7777777777777778,
              "#fb9f3a"
             ],
             [
              0.8888888888888888,
              "#fdca26"
             ],
             [
              1,
              "#f0f921"
             ]
            ],
            "type": "contour"
           }
          ],
          "contourcarpet": [
           {
            "colorbar": {
             "outlinewidth": 0,
             "ticks": ""
            },
            "type": "contourcarpet"
           }
          ],
          "heatmap": [
           {
            "colorbar": {
             "outlinewidth": 0,
             "ticks": ""
            },
            "colorscale": [
             [
              0,
              "#0d0887"
             ],
             [
              0.1111111111111111,
              "#46039f"
             ],
             [
              0.2222222222222222,
              "#7201a8"
             ],
             [
              0.3333333333333333,
              "#9c179e"
             ],
             [
              0.4444444444444444,
              "#bd3786"
             ],
             [
              0.5555555555555556,
              "#d8576b"
             ],
             [
              0.6666666666666666,
              "#ed7953"
             ],
             [
              0.7777777777777778,
              "#fb9f3a"
             ],
             [
              0.8888888888888888,
              "#fdca26"
             ],
             [
              1,
              "#f0f921"
             ]
            ],
            "type": "heatmap"
           }
          ],
          "heatmapgl": [
           {
            "colorbar": {
             "outlinewidth": 0,
             "ticks": ""
            },
            "colorscale": [
             [
              0,
              "#0d0887"
             ],
             [
              0.1111111111111111,
              "#46039f"
             ],
             [
              0.2222222222222222,
              "#7201a8"
             ],
             [
              0.3333333333333333,
              "#9c179e"
             ],
             [
              0.4444444444444444,
              "#bd3786"
             ],
             [
              0.5555555555555556,
              "#d8576b"
             ],
             [
              0.6666666666666666,
              "#ed7953"
             ],
             [
              0.7777777777777778,
              "#fb9f3a"
             ],
             [
              0.8888888888888888,
              "#fdca26"
             ],
             [
              1,
              "#f0f921"
             ]
            ],
            "type": "heatmapgl"
           }
          ],
          "histogram": [
           {
            "marker": {
             "colorbar": {
              "outlinewidth": 0,
              "ticks": ""
             }
            },
            "type": "histogram"
           }
          ],
          "histogram2d": [
           {
            "colorbar": {
             "outlinewidth": 0,
             "ticks": ""
            },
            "colorscale": [
             [
              0,
              "#0d0887"
             ],
             [
              0.1111111111111111,
              "#46039f"
             ],
             [
              0.2222222222222222,
              "#7201a8"
             ],
             [
              0.3333333333333333,
              "#9c179e"
             ],
             [
              0.4444444444444444,
              "#bd3786"
             ],
             [
              0.5555555555555556,
              "#d8576b"
             ],
             [
              0.6666666666666666,
              "#ed7953"
             ],
             [
              0.7777777777777778,
              "#fb9f3a"
             ],
             [
              0.8888888888888888,
              "#fdca26"
             ],
             [
              1,
              "#f0f921"
             ]
            ],
            "type": "histogram2d"
           }
          ],
          "histogram2dcontour": [
           {
            "colorbar": {
             "outlinewidth": 0,
             "ticks": ""
            },
            "colorscale": [
             [
              0,
              "#0d0887"
             ],
             [
              0.1111111111111111,
              "#46039f"
             ],
             [
              0.2222222222222222,
              "#7201a8"
             ],
             [
              0.3333333333333333,
              "#9c179e"
             ],
             [
              0.4444444444444444,
              "#bd3786"
             ],
             [
              0.5555555555555556,
              "#d8576b"
             ],
             [
              0.6666666666666666,
              "#ed7953"
             ],
             [
              0.7777777777777778,
              "#fb9f3a"
             ],
             [
              0.8888888888888888,
              "#fdca26"
             ],
             [
              1,
              "#f0f921"
             ]
            ],
            "type": "histogram2dcontour"
           }
          ],
          "mesh3d": [
           {
            "colorbar": {
             "outlinewidth": 0,
             "ticks": ""
            },
            "type": "mesh3d"
           }
          ],
          "parcoords": [
           {
            "line": {
             "colorbar": {
              "outlinewidth": 0,
              "ticks": ""
             }
            },
            "type": "parcoords"
           }
          ],
          "pie": [
           {
            "automargin": true,
            "type": "pie"
           }
          ],
          "scatter": [
           {
            "marker": {
             "colorbar": {
              "outlinewidth": 0,
              "ticks": ""
             }
            },
            "type": "scatter"
           }
          ],
          "scatter3d": [
           {
            "line": {
             "colorbar": {
              "outlinewidth": 0,
              "ticks": ""
             }
            },
            "marker": {
             "colorbar": {
              "outlinewidth": 0,
              "ticks": ""
             }
            },
            "type": "scatter3d"
           }
          ],
          "scattercarpet": [
           {
            "marker": {
             "colorbar": {
              "outlinewidth": 0,
              "ticks": ""
             }
            },
            "type": "scattercarpet"
           }
          ],
          "scattergeo": [
           {
            "marker": {
             "colorbar": {
              "outlinewidth": 0,
              "ticks": ""
             }
            },
            "type": "scattergeo"
           }
          ],
          "scattergl": [
           {
            "marker": {
             "colorbar": {
              "outlinewidth": 0,
              "ticks": ""
             }
            },
            "type": "scattergl"
           }
          ],
          "scattermapbox": [
           {
            "marker": {
             "colorbar": {
              "outlinewidth": 0,
              "ticks": ""
             }
            },
            "type": "scattermapbox"
           }
          ],
          "scatterpolar": [
           {
            "marker": {
             "colorbar": {
              "outlinewidth": 0,
              "ticks": ""
             }
            },
            "type": "scatterpolar"
           }
          ],
          "scatterpolargl": [
           {
            "marker": {
             "colorbar": {
              "outlinewidth": 0,
              "ticks": ""
             }
            },
            "type": "scatterpolargl"
           }
          ],
          "scatterternary": [
           {
            "marker": {
             "colorbar": {
              "outlinewidth": 0,
              "ticks": ""
             }
            },
            "type": "scatterternary"
           }
          ],
          "surface": [
           {
            "colorbar": {
             "outlinewidth": 0,
             "ticks": ""
            },
            "colorscale": [
             [
              0,
              "#0d0887"
             ],
             [
              0.1111111111111111,
              "#46039f"
             ],
             [
              0.2222222222222222,
              "#7201a8"
             ],
             [
              0.3333333333333333,
              "#9c179e"
             ],
             [
              0.4444444444444444,
              "#bd3786"
             ],
             [
              0.5555555555555556,
              "#d8576b"
             ],
             [
              0.6666666666666666,
              "#ed7953"
             ],
             [
              0.7777777777777778,
              "#fb9f3a"
             ],
             [
              0.8888888888888888,
              "#fdca26"
             ],
             [
              1,
              "#f0f921"
             ]
            ],
            "type": "surface"
           }
          ],
          "table": [
           {
            "cells": {
             "fill": {
              "color": "#EBF0F8"
             },
             "line": {
              "color": "white"
             }
            },
            "header": {
             "fill": {
              "color": "#C8D4E3"
             },
             "line": {
              "color": "white"
             }
            },
            "type": "table"
           }
          ]
         },
         "layout": {
          "annotationdefaults": {
           "arrowcolor": "#2a3f5f",
           "arrowhead": 0,
           "arrowwidth": 1
          },
          "autotypenumbers": "strict",
          "coloraxis": {
           "colorbar": {
            "outlinewidth": 0,
            "ticks": ""
           }
          },
          "colorscale": {
           "diverging": [
            [
             0,
             "#8e0152"
            ],
            [
             0.1,
             "#c51b7d"
            ],
            [
             0.2,
             "#de77ae"
            ],
            [
             0.3,
             "#f1b6da"
            ],
            [
             0.4,
             "#fde0ef"
            ],
            [
             0.5,
             "#f7f7f7"
            ],
            [
             0.6,
             "#e6f5d0"
            ],
            [
             0.7,
             "#b8e186"
            ],
            [
             0.8,
             "#7fbc41"
            ],
            [
             0.9,
             "#4d9221"
            ],
            [
             1,
             "#276419"
            ]
           ],
           "sequential": [
            [
             0,
             "#0d0887"
            ],
            [
             0.1111111111111111,
             "#46039f"
            ],
            [
             0.2222222222222222,
             "#7201a8"
            ],
            [
             0.3333333333333333,
             "#9c179e"
            ],
            [
             0.4444444444444444,
             "#bd3786"
            ],
            [
             0.5555555555555556,
             "#d8576b"
            ],
            [
             0.6666666666666666,
             "#ed7953"
            ],
            [
             0.7777777777777778,
             "#fb9f3a"
            ],
            [
             0.8888888888888888,
             "#fdca26"
            ],
            [
             1,
             "#f0f921"
            ]
           ],
           "sequentialminus": [
            [
             0,
             "#0d0887"
            ],
            [
             0.1111111111111111,
             "#46039f"
            ],
            [
             0.2222222222222222,
             "#7201a8"
            ],
            [
             0.3333333333333333,
             "#9c179e"
            ],
            [
             0.4444444444444444,
             "#bd3786"
            ],
            [
             0.5555555555555556,
             "#d8576b"
            ],
            [
             0.6666666666666666,
             "#ed7953"
            ],
            [
             0.7777777777777778,
             "#fb9f3a"
            ],
            [
             0.8888888888888888,
             "#fdca26"
            ],
            [
             1,
             "#f0f921"
            ]
           ]
          },
          "colorway": [
           "#636efa",
           "#EF553B",
           "#00cc96",
           "#ab63fa",
           "#FFA15A",
           "#19d3f3",
           "#FF6692",
           "#B6E880",
           "#FF97FF",
           "#FECB52"
          ],
          "font": {
           "color": "#2a3f5f"
          },
          "geo": {
           "bgcolor": "white",
           "lakecolor": "white",
           "landcolor": "#E5ECF6",
           "showlakes": true,
           "showland": true,
           "subunitcolor": "white"
          },
          "hoverlabel": {
           "align": "left"
          },
          "hovermode": "closest",
          "mapbox": {
           "style": "light"
          },
          "paper_bgcolor": "white",
          "plot_bgcolor": "#E5ECF6",
          "polar": {
           "angularaxis": {
            "gridcolor": "white",
            "linecolor": "white",
            "ticks": ""
           },
           "bgcolor": "#E5ECF6",
           "radialaxis": {
            "gridcolor": "white",
            "linecolor": "white",
            "ticks": ""
           }
          },
          "scene": {
           "xaxis": {
            "backgroundcolor": "#E5ECF6",
            "gridcolor": "white",
            "gridwidth": 2,
            "linecolor": "white",
            "showbackground": true,
            "ticks": "",
            "zerolinecolor": "white"
           },
           "yaxis": {
            "backgroundcolor": "#E5ECF6",
            "gridcolor": "white",
            "gridwidth": 2,
            "linecolor": "white",
            "showbackground": true,
            "ticks": "",
            "zerolinecolor": "white"
           },
           "zaxis": {
            "backgroundcolor": "#E5ECF6",
            "gridcolor": "white",
            "gridwidth": 2,
            "linecolor": "white",
            "showbackground": true,
            "ticks": "",
            "zerolinecolor": "white"
           }
          },
          "shapedefaults": {
           "line": {
            "color": "#2a3f5f"
           }
          },
          "ternary": {
           "aaxis": {
            "gridcolor": "white",
            "linecolor": "white",
            "ticks": ""
           },
           "baxis": {
            "gridcolor": "white",
            "linecolor": "white",
            "ticks": ""
           },
           "bgcolor": "#E5ECF6",
           "caxis": {
            "gridcolor": "white",
            "linecolor": "white",
            "ticks": ""
           }
          },
          "title": {
           "x": 0.05
          },
          "xaxis": {
           "automargin": true,
           "gridcolor": "white",
           "linecolor": "white",
           "ticks": "",
           "title": {
            "standoff": 15
           },
           "zerolinecolor": "white",
           "zerolinewidth": 2
          },
          "yaxis": {
           "automargin": true,
           "gridcolor": "white",
           "linecolor": "white",
           "ticks": "",
           "title": {
            "standoff": 15
           },
           "zerolinecolor": "white",
           "zerolinewidth": 2
          }
         }
        },
        "title": {
         "text": "Distance travelled in km by weekday"
        },
        "updatemenus": [
         {
          "active": 0,
          "buttons": [
           {
            "args": [
             {
              "visible": [
               1,
               1,
               1,
               1,
               1,
               1,
               1,
               1
              ]
             },
             {
              "title": "Plot all categories"
             }
            ],
            "label": "Plot all categories",
            "method": "update"
           },
           {
            "args": [
             {
              "visible": [
               true,
               true,
               false,
               false,
               false,
               false,
               false,
               false,
               false,
               false,
               false,
               false,
               false,
               false,
               false,
               false
              ]
             },
             {
              "title": "Monday"
             }
            ],
            "label": "Monday",
            "method": "update"
           },
           {
            "args": [
             {
              "visible": [
               false,
               false,
               true,
               true,
               false,
               false,
               false,
               false,
               false,
               false,
               false,
               false,
               false,
               false,
               false,
               false
              ]
             },
             {
              "title": "Tuesday"
             }
            ],
            "label": "Tuesday",
            "method": "update"
           },
           {
            "args": [
             {
              "visible": [
               false,
               false,
               false,
               false,
               true,
               true,
               false,
               false,
               false,
               false,
               false,
               false,
               false,
               false,
               false,
               false
              ]
             },
             {
              "title": "Wednesday"
             }
            ],
            "label": "Wednesday",
            "method": "update"
           },
           {
            "args": [
             {
              "visible": [
               false,
               false,
               false,
               false,
               false,
               false,
               true,
               true,
               false,
               false,
               false,
               false,
               false,
               false,
               false,
               false
              ]
             },
             {
              "title": "Thursday"
             }
            ],
            "label": "Thursday",
            "method": "update"
           },
           {
            "args": [
             {
              "visible": [
               false,
               false,
               false,
               false,
               false,
               false,
               false,
               false,
               true,
               true,
               false,
               false,
               false,
               false,
               false,
               false
              ]
             },
             {
              "title": "Friday"
             }
            ],
            "label": "Friday",
            "method": "update"
           },
           {
            "args": [
             {
              "visible": [
               false,
               false,
               false,
               false,
               false,
               false,
               false,
               false,
               false,
               false,
               true,
               true,
               false,
               false,
               false,
               false
              ]
             },
             {
              "title": "Saturday"
             }
            ],
            "label": "Saturday",
            "method": "update"
           },
           {
            "args": [
             {
              "visible": [
               false,
               false,
               false,
               false,
               false,
               false,
               false,
               false,
               false,
               false,
               false,
               false,
               true,
               true,
               false,
               false
              ]
             },
             {
              "title": "Sunday"
             }
            ],
            "label": "Sunday",
            "method": "update"
           },
           {
            "args": [
             {
              "visible": [
               false,
               false,
               false,
               false,
               false,
               false,
               false,
               false,
               false,
               false,
               false,
               false,
               false,
               false,
               true,
               true
              ]
             },
             {
              "title": "allWeekDays"
             }
            ],
            "label": "allWeekDays",
            "method": "update"
           }
          ]
         }
        ],
        "xaxis": {
         "title": {
          "text": "Distance travelled in km by category in logarithmic scale"
         },
         "type": "log"
        },
        "yaxis": {
         "title": {
          "text": "Probability of travelling"
         }
        }
       }
      },
      "text/html": [
       "<div>                            <div id=\"9c3e9bb1-94c9-4775-b206-3eeed6aedac3\" class=\"plotly-graph-div\" style=\"height:525px; width:100%;\"></div>            <script type=\"text/javascript\">                require([\"plotly\"], function(Plotly) {                    window.PLOTLYENV=window.PLOTLYENV || {};                                    if (document.getElementById(\"9c3e9bb1-94c9-4775-b206-3eeed6aedac3\")) {                    Plotly.newPlot(                        \"9c3e9bb1-94c9-4775-b206-3eeed6aedac3\",                        [{\"line\": {\"color\": \"#33CFA1\"}, \"name\": \"Monday good review\", \"type\": \"scatter\", \"x\": [0.1, 0.3305298396179653, 1.092499748778779, 3.6110376674651734, 11.935557010816956, 39.4505774453641, 130.39593035852323, 430.9974594823805, 1424.5752115846176, 4708.64616208793], \"y\": [0.7626582278481012, 0.7870201096892139, 0.7588063374865406, 0.7745737845904791, 0.7739223889763175, 0.766357112705783, 0.7682619647355163, 0.7592039800995025, 0.8040345821325648, 0.8006872852233677]}, {\"line\": {\"color\": \"#F06A64\"}, \"name\": \"Monday bad review\", \"type\": \"scatter\", \"x\": [0.1, 0.3305298396179653, 1.092499748778779, 3.6110376674651734, 11.935557010816956, 39.4505774453641, 130.39593035852323, 430.9974594823805, 1424.5752115846176, 4708.64616208793], \"y\": [0.2373417721518987, 0.2129798903107861, 0.2411936625134595, 0.2254262154095209, 0.2260776110236825, 0.2336428872942169, 0.23173803526448364, 0.2407960199004975, 0.19596541786743515, 0.19931271477663232]}, {\"line\": {\"color\": \"#33CFA1\"}, \"name\": \"Tuesday good review\", \"type\": \"scatter\", \"x\": [0.1, 0.3305298396179653, 1.092499748778779, 3.6110376674651734, 11.935557010816956, 39.4505774453641, 130.39593035852323, 430.9974594823805, 1424.5752115846176, 4708.64616208793], \"y\": [0.7949438202247191, 0.7546666666666667, 0.7659309916070873, 0.7713203116661329, 0.7734094009673819, 0.7656434940424525, 0.726027397260274, 0.7613390928725702, 0.8482142857142857, 0.7777777777777778]}, {\"line\": {\"color\": \"#F06A64\"}, \"name\": \"Tuesday bad review\", \"type\": \"scatter\", \"x\": [0.1, 0.3305298396179653, 1.092499748778779, 3.6110376674651734, 11.935557010816956, 39.4505774453641, 130.39593035852323, 430.9974594823805, 1424.5752115846176, 4708.64616208793], \"y\": [0.2050561797752809, 0.2453333333333333, 0.23406900839291264, 0.228679688333867, 0.2265905990326181, 0.2343565059575476, 0.273972602739726, 0.2386609071274298, 0.15178571428571427, 0.2222222222222222]}, {\"line\": {\"color\": \"#33CFA1\"}, \"name\": \"Wednesday good review\", \"type\": \"scatter\", \"x\": [0.1, 0.3305298396179653, 1.092499748778779, 3.6110376674651734, 11.935557010816956, 39.4505774453641, 130.39593035852323, 430.9974594823805, 1424.5752115846176, 4708.64616208793], \"y\": [0.7419354838709677, 0.7521951219512195, 0.7642040882021568, 0.7709660297239915, 0.7796596063418085, 0.7713310580204779, 0.8145896656534954, 0.7853982300884956, 0.8324175824175825, 0.7574626865671642]}, {\"line\": {\"color\": \"#F06A64\"}, \"name\": \"Wednesday bad review\", \"type\": \"scatter\", \"x\": [0.1, 0.3305298396179653, 1.092499748778779, 3.6110376674651734, 11.935557010816956, 39.4505774453641, 130.39593035852323, 430.9974594823805, 1424.5752115846176, 4708.64616208793], \"y\": [0.25806451612903225, 0.2478048780487805, 0.2357959117978433, 0.2290339702760085, 0.2203403936581915, 0.2286689419795221, 0.18541033434650456, 0.21460176991150445, 0.16758241758241754, 0.24253731343283585]}, {\"line\": {\"color\": \"#33CFA1\"}, \"name\": \"Thursday good review\", \"type\": \"scatter\", \"x\": [0.1, 0.3305298396179653, 1.092499748778779, 3.6110376674651734, 11.935557010816956, 39.4505774453641, 130.39593035852323, 430.9974594823805, 1424.5752115846176, 4708.64616208793], \"y\": [0.7892857142857143, 0.7797752808988764, 0.7635652019213663, 0.7804161143449945, 0.7865113372612034, 0.7707978179338562, 0.8339622641509434, 0.7903030303030303, 0.8207885304659498, 0.8]}, {\"line\": {\"color\": \"#F06A64\"}, \"name\": \"Thursday bad review\", \"type\": \"scatter\", \"x\": [0.1, 0.3305298396179653, 1.092499748778779, 3.6110376674651734, 11.935557010816956, 39.4505774453641, 130.39593035852323, 430.9974594823805, 1424.5752115846176, 4708.64616208793], \"y\": [0.2107142857142857, 0.2202247191011236, 0.2364347980786337, 0.21958388565500547, 0.21348866273879666, 0.2292021820661439, 0.1660377358490566, 0.2096969696969697, 0.17921146953405018, 0.2]}, {\"line\": {\"color\": \"#33CFA1\"}, \"name\": \"Friday good review\", \"type\": \"scatter\", \"x\": [0.1, 0.3305298396179653, 1.092499748778779, 3.6110376674651734, 11.935557010816956, 39.4505774453641, 130.39593035852323, 430.9974594823805, 1424.5752115846176, 4708.64616208793], \"y\": [0.7820069204152249, 0.7642543859649122, 0.7643041712809154, 0.7782951289398281, 0.7782373528475979, 0.7728141839040501, 0.8198757763975155, 0.7781908302354399, 0.8178137651821862, 0.7977044476327116]}, {\"line\": {\"color\": \"#F06A64\"}, \"name\": \"Friday bad review\", \"type\": \"scatter\", \"x\": [0.1, 0.3305298396179653, 1.092499748778779, 3.6110376674651734, 11.935557010816956, 39.4505774453641, 130.39593035852323, 430.9974594823805, 1424.5752115846176, 4708.64616208793], \"y\": [0.2179930795847751, 0.2357456140350877, 0.2356958287190845, 0.22170487106017192, 0.22176264715240213, 0.22718581609595, 0.18012422360248448, 0.2218091697645601, 0.18218623481781376, 0.2022955523672884]}, {\"line\": {\"color\": \"#33CFA1\"}, \"name\": \"Saturday good review\", \"type\": \"scatter\", \"x\": [0.1, 0.3305298396179653, 1.092499748778779, 3.6110376674651734, 11.935557010816956, 39.4505774453641, 130.39593035852323, 430.9974594823805, 1424.5752115846176, 4708.64616208793], \"y\": [0.7761732851985559, 0.7412935323383084, 0.7638611886717191, 0.777246112195429, 0.7839602808963636, 0.7744435284418797, 0.7826086956521741, 0.7785234899328859, 0.8168498168498168, 0.7535014005602241]}, {\"line\": {\"color\": \"#F06A64\"}, \"name\": \"Saturday bad review\", \"type\": \"scatter\", \"x\": [0.1, 0.3305298396179653, 1.092499748778779, 3.6110376674651734, 11.935557010816956, 39.4505774453641, 130.39593035852323, 430.9974594823805, 1424.5752115846176, 4708.64616208793], \"y\": [0.2238267148014441, 0.25870646766169153, 0.2361388113282808, 0.22275388780457087, 0.21603971910363645, 0.2255564715581204, 0.21739130434782608, 0.2214765100671141, 0.18315018315018314, 0.2464985994397759]}, {\"line\": {\"color\": \"#33CFA1\"}, \"name\": \"Sunday good review\", \"type\": \"scatter\", \"x\": [0.1, 0.3305298396179653, 1.092499748778779, 3.6110376674651734, 11.935557010816956, 39.4505774453641, 130.39593035852323, 430.9974594823805, 1424.5752115846176, 4708.64616208793], \"y\": [0.8303886925795053, 0.7673649393605292, 0.7649336283185841, 0.7710282992434856, 0.7762934861570748, 0.7750316385021959, 0.8191214470284238, 0.7615571776155717, 0.8556701030927835, 0.7672955974842768]}, {\"line\": {\"color\": \"#F06A64\"}, \"name\": \"Sunday bad review\", \"type\": \"scatter\", \"x\": [0.1, 0.3305298396179653, 1.092499748778779, 3.6110376674651734, 11.935557010816956, 39.4505774453641, 130.39593035852323, 430.9974594823805, 1424.5752115846176, 4708.64616208793], \"y\": [0.1696113074204947, 0.2326350606394708, 0.2350663716814159, 0.2289717007565145, 0.2237065138429252, 0.22496836149780391, 0.18087855297157626, 0.2384428223844282, 0.14432989690721648, 0.2327044025157233]}, {\"line\": {\"color\": \"#33CFA1\"}, \"name\": \"allWeekDays good review\", \"type\": \"scatter\", \"x\": [0.1, 0.3305298396179653, 1.092499748778779, 3.6110376674651734, 11.935557010816956, 39.4505774453641, 130.39593035852323, 430.9974594823805, 1424.5752115846176, 4708.64616208793], \"y\": [0.7820937944102321, 0.7642444871984608, 0.7635938461538462, 0.7746852431776059, 0.7786602980465946, 0.7708269620668955, 0.7943768359211079, 0.7729532648326152, 0.8282639213851193, 0.7794744318181818]}, {\"line\": {\"color\": \"#F06A64\"}, \"name\": \"allWeekDays bad review\", \"type\": \"scatter\", \"x\": [0.1, 0.3305298396179653, 1.092499748778779, 3.6110376674651734, 11.935557010816956, 39.4505774453641, 130.39593035852323, 430.9974594823805, 1424.5752115846176, 4708.64616208793], \"y\": [0.2179062055897679, 0.23575551280153914, 0.23640615384615385, 0.2253147568223941, 0.22133970195340533, 0.2291730379331045, 0.2056231640788921, 0.2270467351673849, 0.17173607861488066, 0.22052556818181812]}],                        {\"template\": {\"data\": {\"bar\": [{\"error_x\": {\"color\": \"#2a3f5f\"}, \"error_y\": {\"color\": \"#2a3f5f\"}, \"marker\": {\"line\": {\"color\": \"#E5ECF6\", \"width\": 0.5}}, \"type\": \"bar\"}], \"barpolar\": [{\"marker\": {\"line\": {\"color\": \"#E5ECF6\", \"width\": 0.5}}, \"type\": \"barpolar\"}], \"carpet\": [{\"aaxis\": {\"endlinecolor\": \"#2a3f5f\", \"gridcolor\": \"white\", \"linecolor\": \"white\", \"minorgridcolor\": \"white\", \"startlinecolor\": \"#2a3f5f\"}, \"baxis\": {\"endlinecolor\": \"#2a3f5f\", \"gridcolor\": \"white\", \"linecolor\": \"white\", \"minorgridcolor\": \"white\", \"startlinecolor\": \"#2a3f5f\"}, \"type\": \"carpet\"}], \"choropleth\": [{\"colorbar\": {\"outlinewidth\": 0, \"ticks\": \"\"}, \"type\": \"choropleth\"}], \"contour\": [{\"colorbar\": {\"outlinewidth\": 0, \"ticks\": \"\"}, \"colorscale\": [[0.0, \"#0d0887\"], [0.1111111111111111, \"#46039f\"], [0.2222222222222222, \"#7201a8\"], [0.3333333333333333, \"#9c179e\"], [0.4444444444444444, \"#bd3786\"], [0.5555555555555556, \"#d8576b\"], [0.6666666666666666, \"#ed7953\"], [0.7777777777777778, \"#fb9f3a\"], [0.8888888888888888, \"#fdca26\"], [1.0, \"#f0f921\"]], \"type\": \"contour\"}], \"contourcarpet\": [{\"colorbar\": {\"outlinewidth\": 0, \"ticks\": \"\"}, \"type\": \"contourcarpet\"}], \"heatmap\": [{\"colorbar\": {\"outlinewidth\": 0, \"ticks\": \"\"}, \"colorscale\": [[0.0, \"#0d0887\"], [0.1111111111111111, \"#46039f\"], [0.2222222222222222, \"#7201a8\"], [0.3333333333333333, \"#9c179e\"], [0.4444444444444444, \"#bd3786\"], [0.5555555555555556, \"#d8576b\"], [0.6666666666666666, \"#ed7953\"], [0.7777777777777778, \"#fb9f3a\"], [0.8888888888888888, \"#fdca26\"], [1.0, \"#f0f921\"]], \"type\": \"heatmap\"}], \"heatmapgl\": [{\"colorbar\": {\"outlinewidth\": 0, \"ticks\": \"\"}, \"colorscale\": [[0.0, \"#0d0887\"], [0.1111111111111111, \"#46039f\"], [0.2222222222222222, \"#7201a8\"], [0.3333333333333333, \"#9c179e\"], [0.4444444444444444, \"#bd3786\"], [0.5555555555555556, \"#d8576b\"], [0.6666666666666666, \"#ed7953\"], [0.7777777777777778, \"#fb9f3a\"], [0.8888888888888888, \"#fdca26\"], [1.0, \"#f0f921\"]], \"type\": \"heatmapgl\"}], \"histogram\": [{\"marker\": {\"colorbar\": {\"outlinewidth\": 0, \"ticks\": \"\"}}, \"type\": \"histogram\"}], \"histogram2d\": [{\"colorbar\": {\"outlinewidth\": 0, \"ticks\": \"\"}, \"colorscale\": [[0.0, \"#0d0887\"], [0.1111111111111111, \"#46039f\"], [0.2222222222222222, \"#7201a8\"], [0.3333333333333333, \"#9c179e\"], [0.4444444444444444, \"#bd3786\"], [0.5555555555555556, \"#d8576b\"], [0.6666666666666666, \"#ed7953\"], [0.7777777777777778, \"#fb9f3a\"], [0.8888888888888888, \"#fdca26\"], [1.0, \"#f0f921\"]], \"type\": \"histogram2d\"}], \"histogram2dcontour\": [{\"colorbar\": {\"outlinewidth\": 0, \"ticks\": \"\"}, \"colorscale\": [[0.0, \"#0d0887\"], [0.1111111111111111, \"#46039f\"], [0.2222222222222222, \"#7201a8\"], [0.3333333333333333, \"#9c179e\"], [0.4444444444444444, \"#bd3786\"], [0.5555555555555556, \"#d8576b\"], [0.6666666666666666, \"#ed7953\"], [0.7777777777777778, \"#fb9f3a\"], [0.8888888888888888, \"#fdca26\"], [1.0, \"#f0f921\"]], \"type\": \"histogram2dcontour\"}], \"mesh3d\": [{\"colorbar\": {\"outlinewidth\": 0, \"ticks\": \"\"}, \"type\": \"mesh3d\"}], \"parcoords\": [{\"line\": {\"colorbar\": {\"outlinewidth\": 0, \"ticks\": \"\"}}, \"type\": \"parcoords\"}], \"pie\": [{\"automargin\": true, \"type\": \"pie\"}], \"scatter\": [{\"marker\": {\"colorbar\": {\"outlinewidth\": 0, \"ticks\": \"\"}}, \"type\": \"scatter\"}], \"scatter3d\": [{\"line\": {\"colorbar\": {\"outlinewidth\": 0, \"ticks\": \"\"}}, \"marker\": {\"colorbar\": {\"outlinewidth\": 0, \"ticks\": \"\"}}, \"type\": \"scatter3d\"}], \"scattercarpet\": [{\"marker\": {\"colorbar\": {\"outlinewidth\": 0, \"ticks\": \"\"}}, \"type\": \"scattercarpet\"}], \"scattergeo\": [{\"marker\": {\"colorbar\": {\"outlinewidth\": 0, \"ticks\": \"\"}}, \"type\": \"scattergeo\"}], \"scattergl\": [{\"marker\": {\"colorbar\": {\"outlinewidth\": 0, \"ticks\": \"\"}}, \"type\": \"scattergl\"}], \"scattermapbox\": [{\"marker\": {\"colorbar\": {\"outlinewidth\": 0, \"ticks\": \"\"}}, \"type\": \"scattermapbox\"}], \"scatterpolar\": [{\"marker\": {\"colorbar\": {\"outlinewidth\": 0, \"ticks\": \"\"}}, \"type\": \"scatterpolar\"}], \"scatterpolargl\": [{\"marker\": {\"colorbar\": {\"outlinewidth\": 0, \"ticks\": \"\"}}, \"type\": \"scatterpolargl\"}], \"scatterternary\": [{\"marker\": {\"colorbar\": {\"outlinewidth\": 0, \"ticks\": \"\"}}, \"type\": \"scatterternary\"}], \"surface\": [{\"colorbar\": {\"outlinewidth\": 0, \"ticks\": \"\"}, \"colorscale\": [[0.0, \"#0d0887\"], [0.1111111111111111, \"#46039f\"], [0.2222222222222222, \"#7201a8\"], [0.3333333333333333, \"#9c179e\"], [0.4444444444444444, \"#bd3786\"], [0.5555555555555556, \"#d8576b\"], [0.6666666666666666, \"#ed7953\"], [0.7777777777777778, \"#fb9f3a\"], [0.8888888888888888, \"#fdca26\"], [1.0, \"#f0f921\"]], \"type\": \"surface\"}], \"table\": [{\"cells\": {\"fill\": {\"color\": \"#EBF0F8\"}, \"line\": {\"color\": \"white\"}}, \"header\": {\"fill\": {\"color\": \"#C8D4E3\"}, \"line\": {\"color\": \"white\"}}, \"type\": \"table\"}]}, \"layout\": {\"annotationdefaults\": {\"arrowcolor\": \"#2a3f5f\", \"arrowhead\": 0, \"arrowwidth\": 1}, \"autotypenumbers\": \"strict\", \"coloraxis\": {\"colorbar\": {\"outlinewidth\": 0, \"ticks\": \"\"}}, \"colorscale\": {\"diverging\": [[0, \"#8e0152\"], [0.1, \"#c51b7d\"], [0.2, \"#de77ae\"], [0.3, \"#f1b6da\"], [0.4, \"#fde0ef\"], [0.5, \"#f7f7f7\"], [0.6, \"#e6f5d0\"], [0.7, \"#b8e186\"], [0.8, \"#7fbc41\"], [0.9, \"#4d9221\"], [1, \"#276419\"]], \"sequential\": [[0.0, \"#0d0887\"], [0.1111111111111111, \"#46039f\"], [0.2222222222222222, \"#7201a8\"], [0.3333333333333333, \"#9c179e\"], [0.4444444444444444, \"#bd3786\"], [0.5555555555555556, \"#d8576b\"], [0.6666666666666666, \"#ed7953\"], [0.7777777777777778, \"#fb9f3a\"], [0.8888888888888888, \"#fdca26\"], [1.0, \"#f0f921\"]], \"sequentialminus\": [[0.0, \"#0d0887\"], [0.1111111111111111, \"#46039f\"], [0.2222222222222222, \"#7201a8\"], [0.3333333333333333, \"#9c179e\"], [0.4444444444444444, \"#bd3786\"], [0.5555555555555556, \"#d8576b\"], [0.6666666666666666, \"#ed7953\"], [0.7777777777777778, \"#fb9f3a\"], [0.8888888888888888, \"#fdca26\"], [1.0, \"#f0f921\"]]}, \"colorway\": [\"#636efa\", \"#EF553B\", \"#00cc96\", \"#ab63fa\", \"#FFA15A\", \"#19d3f3\", \"#FF6692\", \"#B6E880\", \"#FF97FF\", \"#FECB52\"], \"font\": {\"color\": \"#2a3f5f\"}, \"geo\": {\"bgcolor\": \"white\", \"lakecolor\": \"white\", \"landcolor\": \"#E5ECF6\", \"showlakes\": true, \"showland\": true, \"subunitcolor\": \"white\"}, \"hoverlabel\": {\"align\": \"left\"}, \"hovermode\": \"closest\", \"mapbox\": {\"style\": \"light\"}, \"paper_bgcolor\": \"white\", \"plot_bgcolor\": \"#E5ECF6\", \"polar\": {\"angularaxis\": {\"gridcolor\": \"white\", \"linecolor\": \"white\", \"ticks\": \"\"}, \"bgcolor\": \"#E5ECF6\", \"radialaxis\": {\"gridcolor\": \"white\", \"linecolor\": \"white\", \"ticks\": \"\"}}, \"scene\": {\"xaxis\": {\"backgroundcolor\": \"#E5ECF6\", \"gridcolor\": \"white\", \"gridwidth\": 2, \"linecolor\": \"white\", \"showbackground\": true, \"ticks\": \"\", \"zerolinecolor\": \"white\"}, \"yaxis\": {\"backgroundcolor\": \"#E5ECF6\", \"gridcolor\": \"white\", \"gridwidth\": 2, \"linecolor\": \"white\", \"showbackground\": true, \"ticks\": \"\", \"zerolinecolor\": \"white\"}, \"zaxis\": {\"backgroundcolor\": \"#E5ECF6\", \"gridcolor\": \"white\", \"gridwidth\": 2, \"linecolor\": \"white\", \"showbackground\": true, \"ticks\": \"\", \"zerolinecolor\": \"white\"}}, \"shapedefaults\": {\"line\": {\"color\": \"#2a3f5f\"}}, \"ternary\": {\"aaxis\": {\"gridcolor\": \"white\", \"linecolor\": \"white\", \"ticks\": \"\"}, \"baxis\": {\"gridcolor\": \"white\", \"linecolor\": \"white\", \"ticks\": \"\"}, \"bgcolor\": \"#E5ECF6\", \"caxis\": {\"gridcolor\": \"white\", \"linecolor\": \"white\", \"ticks\": \"\"}}, \"title\": {\"x\": 0.05}, \"xaxis\": {\"automargin\": true, \"gridcolor\": \"white\", \"linecolor\": \"white\", \"ticks\": \"\", \"title\": {\"standoff\": 15}, \"zerolinecolor\": \"white\", \"zerolinewidth\": 2}, \"yaxis\": {\"automargin\": true, \"gridcolor\": \"white\", \"linecolor\": \"white\", \"ticks\": \"\", \"title\": {\"standoff\": 15}, \"zerolinecolor\": \"white\", \"zerolinewidth\": 2}}}, \"title\": {\"text\": \"Distance travelled in km by weekday\"}, \"updatemenus\": [{\"active\": 0, \"buttons\": [{\"args\": [{\"visible\": [1.0, 1.0, 1.0, 1.0, 1.0, 1.0, 1.0, 1.0]}, {\"title\": \"Plot all categories\"}], \"label\": \"Plot all categories\", \"method\": \"update\"}, {\"args\": [{\"visible\": [true, true, false, false, false, false, false, false, false, false, false, false, false, false, false, false]}, {\"title\": \"Monday\"}], \"label\": \"Monday\", \"method\": \"update\"}, {\"args\": [{\"visible\": [false, false, true, true, false, false, false, false, false, false, false, false, false, false, false, false]}, {\"title\": \"Tuesday\"}], \"label\": \"Tuesday\", \"method\": \"update\"}, {\"args\": [{\"visible\": [false, false, false, false, true, true, false, false, false, false, false, false, false, false, false, false]}, {\"title\": \"Wednesday\"}], \"label\": \"Wednesday\", \"method\": \"update\"}, {\"args\": [{\"visible\": [false, false, false, false, false, false, true, true, false, false, false, false, false, false, false, false]}, {\"title\": \"Thursday\"}], \"label\": \"Thursday\", \"method\": \"update\"}, {\"args\": [{\"visible\": [false, false, false, false, false, false, false, false, true, true, false, false, false, false, false, false]}, {\"title\": \"Friday\"}], \"label\": \"Friday\", \"method\": \"update\"}, {\"args\": [{\"visible\": [false, false, false, false, false, false, false, false, false, false, true, true, false, false, false, false]}, {\"title\": \"Saturday\"}], \"label\": \"Saturday\", \"method\": \"update\"}, {\"args\": [{\"visible\": [false, false, false, false, false, false, false, false, false, false, false, false, true, true, false, false]}, {\"title\": \"Sunday\"}], \"label\": \"Sunday\", \"method\": \"update\"}, {\"args\": [{\"visible\": [false, false, false, false, false, false, false, false, false, false, false, false, false, false, true, true]}, {\"title\": \"allWeekDays\"}], \"label\": \"allWeekDays\", \"method\": \"update\"}]}], \"xaxis\": {\"title\": {\"text\": \"Distance travelled in km by category in logarithmic scale\"}, \"type\": \"log\"}, \"yaxis\": {\"title\": {\"text\": \"Probability of travelling\"}}},                        {\"responsive\": true}                    ).then(function(){\n",
       "                            \n",
       "var gd = document.getElementById('9c3e9bb1-94c9-4775-b206-3eeed6aedac3');\n",
       "var x = new MutationObserver(function (mutations, observer) {{\n",
       "        var display = window.getComputedStyle(gd).display;\n",
       "        if (!display || display === 'none') {{\n",
       "            console.log([gd, 'removed!']);\n",
       "            Plotly.purge(gd);\n",
       "            observer.disconnect();\n",
       "        }}\n",
       "}});\n",
       "\n",
       "// Listen for the removal of the full notebook cells\n",
       "var notebookContainer = gd.closest('#notebook-container');\n",
       "if (notebookContainer) {{\n",
       "    x.observe(notebookContainer, {childList: true});\n",
       "}}\n",
       "\n",
       "// Listen for the clearing of the current output cell\n",
       "var outputEl = gd.closest('.output');\n",
       "if (outputEl) {{\n",
       "    x.observe(outputEl, {childList: true});\n",
       "}}\n",
       "\n",
       "                        })                };                });            </script>        </div>"
      ]
     },
     "metadata": {},
     "output_type": "display_data"
    }
   ],
   "source": [
    "# Initialize figure\n",
    "fig = go.Figure()\n",
    "\n",
    "# Add Traces\n",
    "for i in col_names:\n",
    "    fig.add_trace(\n",
    "    go.Scatter(x=bucket,\n",
    "               y=df_good[i].values,\n",
    "               name=i+\" good review\",\n",
    "               line=dict(color=\"#33CFA1\")))\n",
    "    fig.add_trace(\n",
    "    go.Scatter(x=bucket,\n",
    "               y=df_bad[i].values,\n",
    "               name=i+\" bad review\",\n",
    "               line=dict(color=\"#F06A64\")))\n",
    "\n",
    "\n",
    "fig.update_layout(\n",
    "    updatemenus=[\n",
    "        dict(\n",
    "            active=0,\n",
    "            buttons=list_dict_cat(col_names,len(col_names)),\n",
    "        )\n",
    "    ])\n",
    "\n",
    "\n",
    "fig.update_xaxes(title_text=\"Distance travelled in km by category in logarithmic scale\", type=\"log\")\n",
    "fig.update_yaxes(title_text=\"Probability of travelling\") \n",
    "\n",
    "# Set title\n",
    "fig.update_layout(title_text=\"Distance travelled in km by weekday\")\n",
    "\n",
    "fig.show()"
   ]
  },
  {
   "cell_type": "code",
   "execution_count": 210,
   "metadata": {},
   "outputs": [],
   "source": [
    "# Save html\n",
    "pio.write_html(fig, file='weekday.html', auto_open=True)"
   ]
  },
  {
   "cell_type": "markdown",
   "metadata": {},
   "source": [
    "# Create the interactive plot for category study"
   ]
  },
  {
   "cell_type": "code",
   "execution_count": 215,
   "metadata": {},
   "outputs": [],
   "source": [
    "# Define x axis of the plot\n",
    "col_names_cat = df_bad_cat.columns"
   ]
  },
  {
   "cell_type": "code",
   "execution_count": 23,
   "metadata": {},
   "outputs": [],
   "source": [
    "def list_dict_cat(col_names_cat,N):\n",
    "    res = []\n",
    "\n",
    "    res.append(dict(label=\"Plot all categories\",\n",
    "                     method=\"update\",\n",
    "                     args=[{\"visible\": list(np.ones(N))},\n",
    "                           {\"title\": \"Plot all categories\"}]))\n",
    "    \n",
    "    for idx,i in enumerate(col_names_cat): \n",
    "        res.append(dict(label=i,\n",
    "                         method=\"update\",\n",
    "                         args=[{\"visible\": set_visible(idx,N)},\n",
    "                               {\"title\": i}]))\n",
    "        \n",
    "\n",
    "    \n",
    "    return list(res)"
   ]
  },
  {
   "cell_type": "code",
   "execution_count": 24,
   "metadata": {},
   "outputs": [
    {
     "ename": "NameError",
     "evalue": "name 'col_names_cat' is not defined",
     "output_type": "error",
     "traceback": [
      "\u001b[0;31m---------------------------------------------------------------------------\u001b[0m",
      "\u001b[0;31mNameError\u001b[0m                                 Traceback (most recent call last)",
      "\u001b[0;32m<ipython-input-24-c4bd0128d980>\u001b[0m in \u001b[0;36m<module>\u001b[0;34m\u001b[0m\n\u001b[1;32m      3\u001b[0m \u001b[0;34m\u001b[0m\u001b[0m\n\u001b[1;32m      4\u001b[0m \u001b[0;31m# Add Traces\u001b[0m\u001b[0;34m\u001b[0m\u001b[0;34m\u001b[0m\u001b[0;34m\u001b[0m\u001b[0m\n\u001b[0;32m----> 5\u001b[0;31m \u001b[0;32mfor\u001b[0m \u001b[0mi\u001b[0m \u001b[0;32min\u001b[0m \u001b[0mcol_names_cat\u001b[0m\u001b[0;34m:\u001b[0m\u001b[0;34m\u001b[0m\u001b[0;34m\u001b[0m\u001b[0m\n\u001b[0m\u001b[1;32m      6\u001b[0m     fig.add_trace(\n\u001b[1;32m      7\u001b[0m     go.Scatter(x=bucket,\n",
      "\u001b[0;31mNameError\u001b[0m: name 'col_names_cat' is not defined"
     ]
    }
   ],
   "source": [
    "# Initialize figure\n",
    "fig = go.Figure()\n",
    "\n",
    "# Add Traces\n",
    "for i in col_names_cat:\n",
    "    fig.add_trace(\n",
    "    go.Scatter(x=bucket,\n",
    "               y=df_good_cat[i].values,\n",
    "               name=i+\" good review\",\n",
    "               line=dict(color=\"#33CFA1\")))\n",
    "    fig.add_trace(\n",
    "    go.Scatter(x=bucket,\n",
    "               y=df_bad_cat[i].values,\n",
    "               name=i+\" bad review\",\n",
    "               line=dict(color=\"#F06A64\")))\n",
    "\n",
    "\n",
    "fig.update_layout(\n",
    "    updatemenus=[\n",
    "        dict(\n",
    "            active=0,\n",
    "            buttons=list_dict_cat(col_names_cat,len(col_names_cat)),\n",
    "        )\n",
    "    ])\n",
    "\n",
    "\n",
    "fig.update_xaxes(title_text=\"Distance travelled in km by category in logarithmic scale\", type=\"log\")\n",
    "fig.update_yaxes(title_text=\"Probability of travelling\") \n",
    "\n",
    "# Set title\n",
    "fig.update_layout(title_text=\"Distance travelled in km by category\")\n",
    "\n",
    "fig.show()"
   ]
  },
  {
   "cell_type": "code",
   "execution_count": 214,
   "metadata": {},
   "outputs": [],
   "source": [
    "# Save html\n",
    "pio.write_html(fig, file='category.html', auto_open=True)"
   ]
  },
  {
   "cell_type": "markdown",
   "metadata": {},
   "source": [
    "# Category"
   ]
  },
  {
   "cell_type": "code",
   "execution_count": 33,
   "metadata": {},
   "outputs": [],
   "source": [
    "def set_visible(idx,N):\n",
    "    \"\"\"\n",
    "        Return mask \n",
    "    \"\"\"\n",
    "    a = np.zeros(N)\n",
    "    a[idx]=True\n",
    "    a = a>0\n",
    "    return list(a.copy())"
   ]
  },
  {
   "cell_type": "code",
   "execution_count": 34,
   "metadata": {},
   "outputs": [],
   "source": [
    "def list_dict(col_names,N):\n",
    "    \"\"\"\n",
    "    \n",
    "    \"\"\"\n",
    "    # Initialize the array\n",
    "    res = []\n",
    "    # Plot all weekdays\n",
    "    res.append(dict(label=\"Plot all Ratings\",\n",
    "                     method=\"update\",\n",
    "                     args=[{\"visible\": list(np.ones(N))},\n",
    "                           {\"title\": \"Plot all weekdays\"}]))\n",
    "    # Add each week day\n",
    "    for idx,i in enumerate(col_names): \n",
    "        res.append(dict(label=\"Stars \"+i,\n",
    "                         method=\"update\",\n",
    "                         args=[{\"visible\": set_visible(idx,N)},\n",
    "                               {\"title\": i}]))\n",
    "\n",
    "    return list(res)"
   ]
  },
  {
   "cell_type": "code",
   "execution_count": 35,
   "metadata": {},
   "outputs": [
    {
     "data": {
      "application/vnd.plotly.v1+json": {
       "config": {
        "plotlyServerURL": "https://plotly.com"
       },
       "data": [
        {
         "type": "bar",
         "x": [
          "BusinessSupport",
          "Manufacturing",
          "Automotive",
          "Home",
          "Legal",
          "Food",
          "Health",
          "PersonalCare",
          "Entertainment",
          "Computers",
          "Education",
          "Construction",
          "Travel",
          "Miscellaneous",
          "Sport",
          "Merchant",
          "RealEstate"
         ],
         "y": [
          1972,
          123,
          1396,
          4367,
          854,
          2049,
          885,
          2172,
          634,
          1740,
          258,
          602,
          1143,
          2499,
          215,
          2051,
          1728
         ]
        },
        {
         "type": "bar",
         "x": [
          "BusinessSupport",
          "Manufacturing",
          "Automotive",
          "Home",
          "Legal",
          "Food",
          "Health",
          "PersonalCare",
          "Entertainment",
          "Computers",
          "Education",
          "Construction",
          "Travel",
          "Miscellaneous",
          "Sport",
          "Merchant",
          "RealEstate"
         ],
         "y": [
          6430,
          274,
          6166,
          7706,
          1967,
          17455,
          2985,
          5903,
          2466,
          2349,
          434,
          2164,
          7950,
          3881,
          735,
          5548,
          5371
         ]
        },
        {
         "type": "bar",
         "x": [
          "BusinessSupport",
          "Manufacturing",
          "Automotive",
          "Home",
          "Legal",
          "Food",
          "Health",
          "PersonalCare",
          "Entertainment",
          "Computers",
          "Education",
          "Construction",
          "Travel",
          "Miscellaneous",
          "Sport",
          "Merchant",
          "RealEstate"
         ],
         "y": [
          19985,
          1668,
          13301,
          15261,
          5513,
          60957,
          10260,
          18214,
          13623,
          7105,
          2280,
          4320,
          10689,
          7144,
          5870,
          18867,
          10900
         ]
        },
        {
         "type": "bar",
         "x": [
          "BusinessSupport",
          "Manufacturing",
          "Automotive",
          "Home",
          "Legal",
          "Food",
          "Health",
          "PersonalCare",
          "Entertainment",
          "Computers",
          "Education",
          "Construction",
          "Travel",
          "Miscellaneous",
          "Sport",
          "Merchant",
          "RealEstate"
         ],
         "y": [
          58279,
          4048,
          24239,
          23159,
          9159,
          165180,
          20427,
          38765,
          65022,
          13940,
          6651,
          8074,
          31493,
          12330,
          24459,
          42093,
          12280
         ]
        },
        {
         "type": "bar",
         "x": [
          "BusinessSupport",
          "Manufacturing",
          "Automotive",
          "Home",
          "Legal",
          "Food",
          "Health",
          "PersonalCare",
          "Entertainment",
          "Computers",
          "Education",
          "Construction",
          "Travel",
          "Miscellaneous",
          "Sport",
          "Merchant",
          "RealEstate"
         ],
         "y": [
          121579,
          9094,
          36659,
          30308,
          13198,
          415845,
          29092,
          82878,
          162760,
          18172,
          14176,
          13236,
          59302,
          22768,
          51531,
          76190,
          21723
         ]
        },
        {
         "type": "bar",
         "x": [
          "BusinessSupport",
          "Manufacturing",
          "Automotive",
          "Home",
          "Legal",
          "Food",
          "Health",
          "PersonalCare",
          "Entertainment",
          "Computers",
          "Education",
          "Construction",
          "Travel",
          "Miscellaneous",
          "Sport",
          "Merchant",
          "RealEstate"
         ],
         "y": [
          173120,
          12060,
          38811,
          35087,
          15305,
          811140,
          43885,
          139388,
          287938,
          16971,
          19804,
          16642,
          62387,
          30839,
          72815,
          108904,
          32011
         ]
        },
        {
         "type": "bar",
         "x": [
          "BusinessSupport",
          "Manufacturing",
          "Automotive",
          "Home",
          "Legal",
          "Food",
          "Health",
          "PersonalCare",
          "Entertainment",
          "Computers",
          "Education",
          "Construction",
          "Travel",
          "Miscellaneous",
          "Sport",
          "Merchant",
          "RealEstate"
         ],
         "y": [
          233224,
          11220,
          45389,
          42371,
          14657,
          1272574,
          55464,
          193190,
          425756,
          16056,
          24026,
          21819,
          60882,
          38606,
          64360,
          156456,
          30057
         ]
        },
        {
         "type": "bar",
         "x": [
          "BusinessSupport",
          "Manufacturing",
          "Automotive",
          "Home",
          "Legal",
          "Food",
          "Health",
          "PersonalCare",
          "Entertainment",
          "Computers",
          "Education",
          "Construction",
          "Travel",
          "Miscellaneous",
          "Sport",
          "Merchant",
          "RealEstate"
         ],
         "y": [
          135247,
          11176,
          43397,
          48047,
          15737,
          630660,
          51904,
          182207,
          199174,
          17955,
          27005,
          28087,
          33647,
          50537,
          38541,
          112369,
          25049
         ]
        },
        {
         "type": "bar",
         "x": [
          "BusinessSupport",
          "Manufacturing",
          "Automotive",
          "Home",
          "Legal",
          "Food",
          "Health",
          "PersonalCare",
          "Entertainment",
          "Computers",
          "Education",
          "Construction",
          "Travel",
          "Miscellaneous",
          "Sport",
          "Merchant",
          "RealEstate"
         ],
         "y": [
          37694,
          4451,
          25389,
          38032,
          9275,
          44081,
          29248,
          81721,
          26644,
          8381,
          10655,
          20267,
          9411,
          26673,
          15404,
          39562,
          11043
         ]
        }
       ],
       "layout": {
        "template": {
         "data": {
          "bar": [
           {
            "error_x": {
             "color": "#2a3f5f"
            },
            "error_y": {
             "color": "#2a3f5f"
            },
            "marker": {
             "line": {
              "color": "#E5ECF6",
              "width": 0.5
             }
            },
            "type": "bar"
           }
          ],
          "barpolar": [
           {
            "marker": {
             "line": {
              "color": "#E5ECF6",
              "width": 0.5
             }
            },
            "type": "barpolar"
           }
          ],
          "carpet": [
           {
            "aaxis": {
             "endlinecolor": "#2a3f5f",
             "gridcolor": "white",
             "linecolor": "white",
             "minorgridcolor": "white",
             "startlinecolor": "#2a3f5f"
            },
            "baxis": {
             "endlinecolor": "#2a3f5f",
             "gridcolor": "white",
             "linecolor": "white",
             "minorgridcolor": "white",
             "startlinecolor": "#2a3f5f"
            },
            "type": "carpet"
           }
          ],
          "choropleth": [
           {
            "colorbar": {
             "outlinewidth": 0,
             "ticks": ""
            },
            "type": "choropleth"
           }
          ],
          "contour": [
           {
            "colorbar": {
             "outlinewidth": 0,
             "ticks": ""
            },
            "colorscale": [
             [
              0,
              "#0d0887"
             ],
             [
              0.1111111111111111,
              "#46039f"
             ],
             [
              0.2222222222222222,
              "#7201a8"
             ],
             [
              0.3333333333333333,
              "#9c179e"
             ],
             [
              0.4444444444444444,
              "#bd3786"
             ],
             [
              0.5555555555555556,
              "#d8576b"
             ],
             [
              0.6666666666666666,
              "#ed7953"
             ],
             [
              0.7777777777777778,
              "#fb9f3a"
             ],
             [
              0.8888888888888888,
              "#fdca26"
             ],
             [
              1,
              "#f0f921"
             ]
            ],
            "type": "contour"
           }
          ],
          "contourcarpet": [
           {
            "colorbar": {
             "outlinewidth": 0,
             "ticks": ""
            },
            "type": "contourcarpet"
           }
          ],
          "heatmap": [
           {
            "colorbar": {
             "outlinewidth": 0,
             "ticks": ""
            },
            "colorscale": [
             [
              0,
              "#0d0887"
             ],
             [
              0.1111111111111111,
              "#46039f"
             ],
             [
              0.2222222222222222,
              "#7201a8"
             ],
             [
              0.3333333333333333,
              "#9c179e"
             ],
             [
              0.4444444444444444,
              "#bd3786"
             ],
             [
              0.5555555555555556,
              "#d8576b"
             ],
             [
              0.6666666666666666,
              "#ed7953"
             ],
             [
              0.7777777777777778,
              "#fb9f3a"
             ],
             [
              0.8888888888888888,
              "#fdca26"
             ],
             [
              1,
              "#f0f921"
             ]
            ],
            "type": "heatmap"
           }
          ],
          "heatmapgl": [
           {
            "colorbar": {
             "outlinewidth": 0,
             "ticks": ""
            },
            "colorscale": [
             [
              0,
              "#0d0887"
             ],
             [
              0.1111111111111111,
              "#46039f"
             ],
             [
              0.2222222222222222,
              "#7201a8"
             ],
             [
              0.3333333333333333,
              "#9c179e"
             ],
             [
              0.4444444444444444,
              "#bd3786"
             ],
             [
              0.5555555555555556,
              "#d8576b"
             ],
             [
              0.6666666666666666,
              "#ed7953"
             ],
             [
              0.7777777777777778,
              "#fb9f3a"
             ],
             [
              0.8888888888888888,
              "#fdca26"
             ],
             [
              1,
              "#f0f921"
             ]
            ],
            "type": "heatmapgl"
           }
          ],
          "histogram": [
           {
            "marker": {
             "colorbar": {
              "outlinewidth": 0,
              "ticks": ""
             }
            },
            "type": "histogram"
           }
          ],
          "histogram2d": [
           {
            "colorbar": {
             "outlinewidth": 0,
             "ticks": ""
            },
            "colorscale": [
             [
              0,
              "#0d0887"
             ],
             [
              0.1111111111111111,
              "#46039f"
             ],
             [
              0.2222222222222222,
              "#7201a8"
             ],
             [
              0.3333333333333333,
              "#9c179e"
             ],
             [
              0.4444444444444444,
              "#bd3786"
             ],
             [
              0.5555555555555556,
              "#d8576b"
             ],
             [
              0.6666666666666666,
              "#ed7953"
             ],
             [
              0.7777777777777778,
              "#fb9f3a"
             ],
             [
              0.8888888888888888,
              "#fdca26"
             ],
             [
              1,
              "#f0f921"
             ]
            ],
            "type": "histogram2d"
           }
          ],
          "histogram2dcontour": [
           {
            "colorbar": {
             "outlinewidth": 0,
             "ticks": ""
            },
            "colorscale": [
             [
              0,
              "#0d0887"
             ],
             [
              0.1111111111111111,
              "#46039f"
             ],
             [
              0.2222222222222222,
              "#7201a8"
             ],
             [
              0.3333333333333333,
              "#9c179e"
             ],
             [
              0.4444444444444444,
              "#bd3786"
             ],
             [
              0.5555555555555556,
              "#d8576b"
             ],
             [
              0.6666666666666666,
              "#ed7953"
             ],
             [
              0.7777777777777778,
              "#fb9f3a"
             ],
             [
              0.8888888888888888,
              "#fdca26"
             ],
             [
              1,
              "#f0f921"
             ]
            ],
            "type": "histogram2dcontour"
           }
          ],
          "mesh3d": [
           {
            "colorbar": {
             "outlinewidth": 0,
             "ticks": ""
            },
            "type": "mesh3d"
           }
          ],
          "parcoords": [
           {
            "line": {
             "colorbar": {
              "outlinewidth": 0,
              "ticks": ""
             }
            },
            "type": "parcoords"
           }
          ],
          "pie": [
           {
            "automargin": true,
            "type": "pie"
           }
          ],
          "scatter": [
           {
            "marker": {
             "colorbar": {
              "outlinewidth": 0,
              "ticks": ""
             }
            },
            "type": "scatter"
           }
          ],
          "scatter3d": [
           {
            "line": {
             "colorbar": {
              "outlinewidth": 0,
              "ticks": ""
             }
            },
            "marker": {
             "colorbar": {
              "outlinewidth": 0,
              "ticks": ""
             }
            },
            "type": "scatter3d"
           }
          ],
          "scattercarpet": [
           {
            "marker": {
             "colorbar": {
              "outlinewidth": 0,
              "ticks": ""
             }
            },
            "type": "scattercarpet"
           }
          ],
          "scattergeo": [
           {
            "marker": {
             "colorbar": {
              "outlinewidth": 0,
              "ticks": ""
             }
            },
            "type": "scattergeo"
           }
          ],
          "scattergl": [
           {
            "marker": {
             "colorbar": {
              "outlinewidth": 0,
              "ticks": ""
             }
            },
            "type": "scattergl"
           }
          ],
          "scattermapbox": [
           {
            "marker": {
             "colorbar": {
              "outlinewidth": 0,
              "ticks": ""
             }
            },
            "type": "scattermapbox"
           }
          ],
          "scatterpolar": [
           {
            "marker": {
             "colorbar": {
              "outlinewidth": 0,
              "ticks": ""
             }
            },
            "type": "scatterpolar"
           }
          ],
          "scatterpolargl": [
           {
            "marker": {
             "colorbar": {
              "outlinewidth": 0,
              "ticks": ""
             }
            },
            "type": "scatterpolargl"
           }
          ],
          "scatterternary": [
           {
            "marker": {
             "colorbar": {
              "outlinewidth": 0,
              "ticks": ""
             }
            },
            "type": "scatterternary"
           }
          ],
          "surface": [
           {
            "colorbar": {
             "outlinewidth": 0,
             "ticks": ""
            },
            "colorscale": [
             [
              0,
              "#0d0887"
             ],
             [
              0.1111111111111111,
              "#46039f"
             ],
             [
              0.2222222222222222,
              "#7201a8"
             ],
             [
              0.3333333333333333,
              "#9c179e"
             ],
             [
              0.4444444444444444,
              "#bd3786"
             ],
             [
              0.5555555555555556,
              "#d8576b"
             ],
             [
              0.6666666666666666,
              "#ed7953"
             ],
             [
              0.7777777777777778,
              "#fb9f3a"
             ],
             [
              0.8888888888888888,
              "#fdca26"
             ],
             [
              1,
              "#f0f921"
             ]
            ],
            "type": "surface"
           }
          ],
          "table": [
           {
            "cells": {
             "fill": {
              "color": "#EBF0F8"
             },
             "line": {
              "color": "white"
             }
            },
            "header": {
             "fill": {
              "color": "#C8D4E3"
             },
             "line": {
              "color": "white"
             }
            },
            "type": "table"
           }
          ]
         },
         "layout": {
          "annotationdefaults": {
           "arrowcolor": "#2a3f5f",
           "arrowhead": 0,
           "arrowwidth": 1
          },
          "autotypenumbers": "strict",
          "coloraxis": {
           "colorbar": {
            "outlinewidth": 0,
            "ticks": ""
           }
          },
          "colorscale": {
           "diverging": [
            [
             0,
             "#8e0152"
            ],
            [
             0.1,
             "#c51b7d"
            ],
            [
             0.2,
             "#de77ae"
            ],
            [
             0.3,
             "#f1b6da"
            ],
            [
             0.4,
             "#fde0ef"
            ],
            [
             0.5,
             "#f7f7f7"
            ],
            [
             0.6,
             "#e6f5d0"
            ],
            [
             0.7,
             "#b8e186"
            ],
            [
             0.8,
             "#7fbc41"
            ],
            [
             0.9,
             "#4d9221"
            ],
            [
             1,
             "#276419"
            ]
           ],
           "sequential": [
            [
             0,
             "#0d0887"
            ],
            [
             0.1111111111111111,
             "#46039f"
            ],
            [
             0.2222222222222222,
             "#7201a8"
            ],
            [
             0.3333333333333333,
             "#9c179e"
            ],
            [
             0.4444444444444444,
             "#bd3786"
            ],
            [
             0.5555555555555556,
             "#d8576b"
            ],
            [
             0.6666666666666666,
             "#ed7953"
            ],
            [
             0.7777777777777778,
             "#fb9f3a"
            ],
            [
             0.8888888888888888,
             "#fdca26"
            ],
            [
             1,
             "#f0f921"
            ]
           ],
           "sequentialminus": [
            [
             0,
             "#0d0887"
            ],
            [
             0.1111111111111111,
             "#46039f"
            ],
            [
             0.2222222222222222,
             "#7201a8"
            ],
            [
             0.3333333333333333,
             "#9c179e"
            ],
            [
             0.4444444444444444,
             "#bd3786"
            ],
            [
             0.5555555555555556,
             "#d8576b"
            ],
            [
             0.6666666666666666,
             "#ed7953"
            ],
            [
             0.7777777777777778,
             "#fb9f3a"
            ],
            [
             0.8888888888888888,
             "#fdca26"
            ],
            [
             1,
             "#f0f921"
            ]
           ]
          },
          "colorway": [
           "#636efa",
           "#EF553B",
           "#00cc96",
           "#ab63fa",
           "#FFA15A",
           "#19d3f3",
           "#FF6692",
           "#B6E880",
           "#FF97FF",
           "#FECB52"
          ],
          "font": {
           "color": "#2a3f5f"
          },
          "geo": {
           "bgcolor": "white",
           "lakecolor": "white",
           "landcolor": "#E5ECF6",
           "showlakes": true,
           "showland": true,
           "subunitcolor": "white"
          },
          "hoverlabel": {
           "align": "left"
          },
          "hovermode": "closest",
          "mapbox": {
           "style": "light"
          },
          "paper_bgcolor": "white",
          "plot_bgcolor": "#E5ECF6",
          "polar": {
           "angularaxis": {
            "gridcolor": "white",
            "linecolor": "white",
            "ticks": ""
           },
           "bgcolor": "#E5ECF6",
           "radialaxis": {
            "gridcolor": "white",
            "linecolor": "white",
            "ticks": ""
           }
          },
          "scene": {
           "xaxis": {
            "backgroundcolor": "#E5ECF6",
            "gridcolor": "white",
            "gridwidth": 2,
            "linecolor": "white",
            "showbackground": true,
            "ticks": "",
            "zerolinecolor": "white"
           },
           "yaxis": {
            "backgroundcolor": "#E5ECF6",
            "gridcolor": "white",
            "gridwidth": 2,
            "linecolor": "white",
            "showbackground": true,
            "ticks": "",
            "zerolinecolor": "white"
           },
           "zaxis": {
            "backgroundcolor": "#E5ECF6",
            "gridcolor": "white",
            "gridwidth": 2,
            "linecolor": "white",
            "showbackground": true,
            "ticks": "",
            "zerolinecolor": "white"
           }
          },
          "shapedefaults": {
           "line": {
            "color": "#2a3f5f"
           }
          },
          "ternary": {
           "aaxis": {
            "gridcolor": "white",
            "linecolor": "white",
            "ticks": ""
           },
           "baxis": {
            "gridcolor": "white",
            "linecolor": "white",
            "ticks": ""
           },
           "bgcolor": "#E5ECF6",
           "caxis": {
            "gridcolor": "white",
            "linecolor": "white",
            "ticks": ""
           }
          },
          "title": {
           "x": 0.05
          },
          "xaxis": {
           "automargin": true,
           "gridcolor": "white",
           "linecolor": "white",
           "ticks": "",
           "title": {
            "standoff": 15
           },
           "zerolinecolor": "white",
           "zerolinewidth": 2
          },
          "yaxis": {
           "automargin": true,
           "gridcolor": "white",
           "linecolor": "white",
           "ticks": "",
           "title": {
            "standoff": 15
           },
           "zerolinecolor": "white",
           "zerolinewidth": 2
          }
         }
        },
        "updatemenus": [
         {
          "active": 0,
          "buttons": [
           {
            "args": [
             {
              "visible": [
               1,
               1,
               1,
               1,
               1,
               1,
               1,
               1,
               1
              ]
             },
             {
              "title": "Plot all weekdays"
             }
            ],
            "label": "Plot all Ratings",
            "method": "update"
           },
           {
            "args": [
             {
              "visible": [
               true,
               false,
               false,
               false,
               false,
               false,
               false,
               false,
               false
              ]
             },
             {
              "title": "1"
             }
            ],
            "label": "Stars1",
            "method": "update"
           },
           {
            "args": [
             {
              "visible": [
               false,
               true,
               false,
               false,
               false,
               false,
               false,
               false,
               false
              ]
             },
             {
              "title": "1.5"
             }
            ],
            "label": "Stars1.5",
            "method": "update"
           },
           {
            "args": [
             {
              "visible": [
               false,
               false,
               true,
               false,
               false,
               false,
               false,
               false,
               false
              ]
             },
             {
              "title": "2"
             }
            ],
            "label": "Stars2",
            "method": "update"
           },
           {
            "args": [
             {
              "visible": [
               false,
               false,
               false,
               true,
               false,
               false,
               false,
               false,
               false
              ]
             },
             {
              "title": "2.5"
             }
            ],
            "label": "Stars2.5",
            "method": "update"
           },
           {
            "args": [
             {
              "visible": [
               false,
               false,
               false,
               false,
               true,
               false,
               false,
               false,
               false
              ]
             },
             {
              "title": "3"
             }
            ],
            "label": "Stars3",
            "method": "update"
           },
           {
            "args": [
             {
              "visible": [
               false,
               false,
               false,
               false,
               false,
               true,
               false,
               false,
               false
              ]
             },
             {
              "title": "3.5"
             }
            ],
            "label": "Stars3.5",
            "method": "update"
           },
           {
            "args": [
             {
              "visible": [
               false,
               false,
               false,
               false,
               false,
               false,
               true,
               false,
               false
              ]
             },
             {
              "title": "4"
             }
            ],
            "label": "Stars4",
            "method": "update"
           },
           {
            "args": [
             {
              "visible": [
               false,
               false,
               false,
               false,
               false,
               false,
               false,
               true,
               false
              ]
             },
             {
              "title": "4.5"
             }
            ],
            "label": "Stars4.5",
            "method": "update"
           },
           {
            "args": [
             {
              "visible": [
               false,
               false,
               false,
               false,
               false,
               false,
               false,
               false,
               true
              ]
             },
             {
              "title": "5"
             }
            ],
            "label": "Stars5",
            "method": "update"
           }
          ]
         }
        ]
       }
      },
      "text/html": [
       "<div>                            <div id=\"e377efd4-06f3-4788-a604-c3bb77ebf488\" class=\"plotly-graph-div\" style=\"height:525px; width:100%;\"></div>            <script type=\"text/javascript\">                require([\"plotly\"], function(Plotly) {                    window.PLOTLYENV=window.PLOTLYENV || {};                                    if (document.getElementById(\"e377efd4-06f3-4788-a604-c3bb77ebf488\")) {                    Plotly.newPlot(                        \"e377efd4-06f3-4788-a604-c3bb77ebf488\",                        [{\"type\": \"bar\", \"x\": [\"BusinessSupport\", \"Manufacturing\", \"Automotive\", \"Home\", \"Legal\", \"Food\", \"Health\", \"PersonalCare\", \"Entertainment\", \"Computers\", \"Education\", \"Construction\", \"Travel\", \"Miscellaneous\", \"Sport\", \"Merchant\", \"RealEstate\"], \"y\": [1972.0, 123.0, 1396.0, 4367.0, 854.0, 2049.0, 885.0, 2172.0, 634.0, 1740.0, 258.0, 602.0, 1143.0, 2499.0, 215.0, 2051.0, 1728.0]}, {\"type\": \"bar\", \"x\": [\"BusinessSupport\", \"Manufacturing\", \"Automotive\", \"Home\", \"Legal\", \"Food\", \"Health\", \"PersonalCare\", \"Entertainment\", \"Computers\", \"Education\", \"Construction\", \"Travel\", \"Miscellaneous\", \"Sport\", \"Merchant\", \"RealEstate\"], \"y\": [6430.0, 274.0, 6166.0, 7706.0, 1967.0, 17455.0, 2985.0, 5903.0, 2466.0, 2349.0, 434.0, 2164.0, 7950.0, 3881.0, 735.0, 5548.0, 5371.0]}, {\"type\": \"bar\", \"x\": [\"BusinessSupport\", \"Manufacturing\", \"Automotive\", \"Home\", \"Legal\", \"Food\", \"Health\", \"PersonalCare\", \"Entertainment\", \"Computers\", \"Education\", \"Construction\", \"Travel\", \"Miscellaneous\", \"Sport\", \"Merchant\", \"RealEstate\"], \"y\": [19985.0, 1668.0, 13301.0, 15261.0, 5513.0, 60957.0, 10260.0, 18214.0, 13623.0, 7105.0, 2280.0, 4320.0, 10689.0, 7144.0, 5870.0, 18867.0, 10900.0]}, {\"type\": \"bar\", \"x\": [\"BusinessSupport\", \"Manufacturing\", \"Automotive\", \"Home\", \"Legal\", \"Food\", \"Health\", \"PersonalCare\", \"Entertainment\", \"Computers\", \"Education\", \"Construction\", \"Travel\", \"Miscellaneous\", \"Sport\", \"Merchant\", \"RealEstate\"], \"y\": [58279.0, 4048.0, 24239.0, 23159.0, 9159.0, 165180.0, 20427.0, 38765.0, 65022.0, 13940.0, 6651.0, 8074.0, 31493.0, 12330.0, 24459.0, 42093.0, 12280.0]}, {\"type\": \"bar\", \"x\": [\"BusinessSupport\", \"Manufacturing\", \"Automotive\", \"Home\", \"Legal\", \"Food\", \"Health\", \"PersonalCare\", \"Entertainment\", \"Computers\", \"Education\", \"Construction\", \"Travel\", \"Miscellaneous\", \"Sport\", \"Merchant\", \"RealEstate\"], \"y\": [121579.0, 9094.0, 36659.0, 30308.0, 13198.0, 415845.0, 29092.0, 82878.0, 162760.0, 18172.0, 14176.0, 13236.0, 59302.0, 22768.0, 51531.0, 76190.0, 21723.0]}, {\"type\": \"bar\", \"x\": [\"BusinessSupport\", \"Manufacturing\", \"Automotive\", \"Home\", \"Legal\", \"Food\", \"Health\", \"PersonalCare\", \"Entertainment\", \"Computers\", \"Education\", \"Construction\", \"Travel\", \"Miscellaneous\", \"Sport\", \"Merchant\", \"RealEstate\"], \"y\": [173120.0, 12060.0, 38811.0, 35087.0, 15305.0, 811140.0, 43885.0, 139388.0, 287938.0, 16971.0, 19804.0, 16642.0, 62387.0, 30839.0, 72815.0, 108904.0, 32011.0]}, {\"type\": \"bar\", \"x\": [\"BusinessSupport\", \"Manufacturing\", \"Automotive\", \"Home\", \"Legal\", \"Food\", \"Health\", \"PersonalCare\", \"Entertainment\", \"Computers\", \"Education\", \"Construction\", \"Travel\", \"Miscellaneous\", \"Sport\", \"Merchant\", \"RealEstate\"], \"y\": [233224.0, 11220.0, 45389.0, 42371.0, 14657.0, 1272574.0, 55464.0, 193190.0, 425756.0, 16056.0, 24026.0, 21819.0, 60882.0, 38606.0, 64360.0, 156456.0, 30057.0]}, {\"type\": \"bar\", \"x\": [\"BusinessSupport\", \"Manufacturing\", \"Automotive\", \"Home\", \"Legal\", \"Food\", \"Health\", \"PersonalCare\", \"Entertainment\", \"Computers\", \"Education\", \"Construction\", \"Travel\", \"Miscellaneous\", \"Sport\", \"Merchant\", \"RealEstate\"], \"y\": [135247.0, 11176.0, 43397.0, 48047.0, 15737.0, 630660.0, 51904.0, 182207.0, 199174.0, 17955.0, 27005.0, 28087.0, 33647.0, 50537.0, 38541.0, 112369.0, 25049.0]}, {\"type\": \"bar\", \"x\": [\"BusinessSupport\", \"Manufacturing\", \"Automotive\", \"Home\", \"Legal\", \"Food\", \"Health\", \"PersonalCare\", \"Entertainment\", \"Computers\", \"Education\", \"Construction\", \"Travel\", \"Miscellaneous\", \"Sport\", \"Merchant\", \"RealEstate\"], \"y\": [37694.0, 4451.0, 25389.0, 38032.0, 9275.0, 44081.0, 29248.0, 81721.0, 26644.0, 8381.0, 10655.0, 20267.0, 9411.0, 26673.0, 15404.0, 39562.0, 11043.0]}],                        {\"template\": {\"data\": {\"bar\": [{\"error_x\": {\"color\": \"#2a3f5f\"}, \"error_y\": {\"color\": \"#2a3f5f\"}, \"marker\": {\"line\": {\"color\": \"#E5ECF6\", \"width\": 0.5}}, \"type\": \"bar\"}], \"barpolar\": [{\"marker\": {\"line\": {\"color\": \"#E5ECF6\", \"width\": 0.5}}, \"type\": \"barpolar\"}], \"carpet\": [{\"aaxis\": {\"endlinecolor\": \"#2a3f5f\", \"gridcolor\": \"white\", \"linecolor\": \"white\", \"minorgridcolor\": \"white\", \"startlinecolor\": \"#2a3f5f\"}, \"baxis\": {\"endlinecolor\": \"#2a3f5f\", \"gridcolor\": \"white\", \"linecolor\": \"white\", \"minorgridcolor\": \"white\", \"startlinecolor\": \"#2a3f5f\"}, \"type\": \"carpet\"}], \"choropleth\": [{\"colorbar\": {\"outlinewidth\": 0, \"ticks\": \"\"}, \"type\": \"choropleth\"}], \"contour\": [{\"colorbar\": {\"outlinewidth\": 0, \"ticks\": \"\"}, \"colorscale\": [[0.0, \"#0d0887\"], [0.1111111111111111, \"#46039f\"], [0.2222222222222222, \"#7201a8\"], [0.3333333333333333, \"#9c179e\"], [0.4444444444444444, \"#bd3786\"], [0.5555555555555556, \"#d8576b\"], [0.6666666666666666, \"#ed7953\"], [0.7777777777777778, \"#fb9f3a\"], [0.8888888888888888, \"#fdca26\"], [1.0, \"#f0f921\"]], \"type\": \"contour\"}], \"contourcarpet\": [{\"colorbar\": {\"outlinewidth\": 0, \"ticks\": \"\"}, \"type\": \"contourcarpet\"}], \"heatmap\": [{\"colorbar\": {\"outlinewidth\": 0, \"ticks\": \"\"}, \"colorscale\": [[0.0, \"#0d0887\"], [0.1111111111111111, \"#46039f\"], [0.2222222222222222, \"#7201a8\"], [0.3333333333333333, \"#9c179e\"], [0.4444444444444444, \"#bd3786\"], [0.5555555555555556, \"#d8576b\"], [0.6666666666666666, \"#ed7953\"], [0.7777777777777778, \"#fb9f3a\"], [0.8888888888888888, \"#fdca26\"], [1.0, \"#f0f921\"]], \"type\": \"heatmap\"}], \"heatmapgl\": [{\"colorbar\": {\"outlinewidth\": 0, \"ticks\": \"\"}, \"colorscale\": [[0.0, \"#0d0887\"], [0.1111111111111111, \"#46039f\"], [0.2222222222222222, \"#7201a8\"], [0.3333333333333333, \"#9c179e\"], [0.4444444444444444, \"#bd3786\"], [0.5555555555555556, \"#d8576b\"], [0.6666666666666666, \"#ed7953\"], [0.7777777777777778, \"#fb9f3a\"], [0.8888888888888888, \"#fdca26\"], [1.0, \"#f0f921\"]], \"type\": \"heatmapgl\"}], \"histogram\": [{\"marker\": {\"colorbar\": {\"outlinewidth\": 0, \"ticks\": \"\"}}, \"type\": \"histogram\"}], \"histogram2d\": [{\"colorbar\": {\"outlinewidth\": 0, \"ticks\": \"\"}, \"colorscale\": [[0.0, \"#0d0887\"], [0.1111111111111111, \"#46039f\"], [0.2222222222222222, \"#7201a8\"], [0.3333333333333333, \"#9c179e\"], [0.4444444444444444, \"#bd3786\"], [0.5555555555555556, \"#d8576b\"], [0.6666666666666666, \"#ed7953\"], [0.7777777777777778, \"#fb9f3a\"], [0.8888888888888888, \"#fdca26\"], [1.0, \"#f0f921\"]], \"type\": \"histogram2d\"}], \"histogram2dcontour\": [{\"colorbar\": {\"outlinewidth\": 0, \"ticks\": \"\"}, \"colorscale\": [[0.0, \"#0d0887\"], [0.1111111111111111, \"#46039f\"], [0.2222222222222222, \"#7201a8\"], [0.3333333333333333, \"#9c179e\"], [0.4444444444444444, \"#bd3786\"], [0.5555555555555556, \"#d8576b\"], [0.6666666666666666, \"#ed7953\"], [0.7777777777777778, \"#fb9f3a\"], [0.8888888888888888, \"#fdca26\"], [1.0, \"#f0f921\"]], \"type\": \"histogram2dcontour\"}], \"mesh3d\": [{\"colorbar\": {\"outlinewidth\": 0, \"ticks\": \"\"}, \"type\": \"mesh3d\"}], \"parcoords\": [{\"line\": {\"colorbar\": {\"outlinewidth\": 0, \"ticks\": \"\"}}, \"type\": \"parcoords\"}], \"pie\": [{\"automargin\": true, \"type\": \"pie\"}], \"scatter\": [{\"marker\": {\"colorbar\": {\"outlinewidth\": 0, \"ticks\": \"\"}}, \"type\": \"scatter\"}], \"scatter3d\": [{\"line\": {\"colorbar\": {\"outlinewidth\": 0, \"ticks\": \"\"}}, \"marker\": {\"colorbar\": {\"outlinewidth\": 0, \"ticks\": \"\"}}, \"type\": \"scatter3d\"}], \"scattercarpet\": [{\"marker\": {\"colorbar\": {\"outlinewidth\": 0, \"ticks\": \"\"}}, \"type\": \"scattercarpet\"}], \"scattergeo\": [{\"marker\": {\"colorbar\": {\"outlinewidth\": 0, \"ticks\": \"\"}}, \"type\": \"scattergeo\"}], \"scattergl\": [{\"marker\": {\"colorbar\": {\"outlinewidth\": 0, \"ticks\": \"\"}}, \"type\": \"scattergl\"}], \"scattermapbox\": [{\"marker\": {\"colorbar\": {\"outlinewidth\": 0, \"ticks\": \"\"}}, \"type\": \"scattermapbox\"}], \"scatterpolar\": [{\"marker\": {\"colorbar\": {\"outlinewidth\": 0, \"ticks\": \"\"}}, \"type\": \"scatterpolar\"}], \"scatterpolargl\": [{\"marker\": {\"colorbar\": {\"outlinewidth\": 0, \"ticks\": \"\"}}, \"type\": \"scatterpolargl\"}], \"scatterternary\": [{\"marker\": {\"colorbar\": {\"outlinewidth\": 0, \"ticks\": \"\"}}, \"type\": \"scatterternary\"}], \"surface\": [{\"colorbar\": {\"outlinewidth\": 0, \"ticks\": \"\"}, \"colorscale\": [[0.0, \"#0d0887\"], [0.1111111111111111, \"#46039f\"], [0.2222222222222222, \"#7201a8\"], [0.3333333333333333, \"#9c179e\"], [0.4444444444444444, \"#bd3786\"], [0.5555555555555556, \"#d8576b\"], [0.6666666666666666, \"#ed7953\"], [0.7777777777777778, \"#fb9f3a\"], [0.8888888888888888, \"#fdca26\"], [1.0, \"#f0f921\"]], \"type\": \"surface\"}], \"table\": [{\"cells\": {\"fill\": {\"color\": \"#EBF0F8\"}, \"line\": {\"color\": \"white\"}}, \"header\": {\"fill\": {\"color\": \"#C8D4E3\"}, \"line\": {\"color\": \"white\"}}, \"type\": \"table\"}]}, \"layout\": {\"annotationdefaults\": {\"arrowcolor\": \"#2a3f5f\", \"arrowhead\": 0, \"arrowwidth\": 1}, \"autotypenumbers\": \"strict\", \"coloraxis\": {\"colorbar\": {\"outlinewidth\": 0, \"ticks\": \"\"}}, \"colorscale\": {\"diverging\": [[0, \"#8e0152\"], [0.1, \"#c51b7d\"], [0.2, \"#de77ae\"], [0.3, \"#f1b6da\"], [0.4, \"#fde0ef\"], [0.5, \"#f7f7f7\"], [0.6, \"#e6f5d0\"], [0.7, \"#b8e186\"], [0.8, \"#7fbc41\"], [0.9, \"#4d9221\"], [1, \"#276419\"]], \"sequential\": [[0.0, \"#0d0887\"], [0.1111111111111111, \"#46039f\"], [0.2222222222222222, \"#7201a8\"], [0.3333333333333333, \"#9c179e\"], [0.4444444444444444, \"#bd3786\"], [0.5555555555555556, \"#d8576b\"], [0.6666666666666666, \"#ed7953\"], [0.7777777777777778, \"#fb9f3a\"], [0.8888888888888888, \"#fdca26\"], [1.0, \"#f0f921\"]], \"sequentialminus\": [[0.0, \"#0d0887\"], [0.1111111111111111, \"#46039f\"], [0.2222222222222222, \"#7201a8\"], [0.3333333333333333, \"#9c179e\"], [0.4444444444444444, \"#bd3786\"], [0.5555555555555556, \"#d8576b\"], [0.6666666666666666, \"#ed7953\"], [0.7777777777777778, \"#fb9f3a\"], [0.8888888888888888, \"#fdca26\"], [1.0, \"#f0f921\"]]}, \"colorway\": [\"#636efa\", \"#EF553B\", \"#00cc96\", \"#ab63fa\", \"#FFA15A\", \"#19d3f3\", \"#FF6692\", \"#B6E880\", \"#FF97FF\", \"#FECB52\"], \"font\": {\"color\": \"#2a3f5f\"}, \"geo\": {\"bgcolor\": \"white\", \"lakecolor\": \"white\", \"landcolor\": \"#E5ECF6\", \"showlakes\": true, \"showland\": true, \"subunitcolor\": \"white\"}, \"hoverlabel\": {\"align\": \"left\"}, \"hovermode\": \"closest\", \"mapbox\": {\"style\": \"light\"}, \"paper_bgcolor\": \"white\", \"plot_bgcolor\": \"#E5ECF6\", \"polar\": {\"angularaxis\": {\"gridcolor\": \"white\", \"linecolor\": \"white\", \"ticks\": \"\"}, \"bgcolor\": \"#E5ECF6\", \"radialaxis\": {\"gridcolor\": \"white\", \"linecolor\": \"white\", \"ticks\": \"\"}}, \"scene\": {\"xaxis\": {\"backgroundcolor\": \"#E5ECF6\", \"gridcolor\": \"white\", \"gridwidth\": 2, \"linecolor\": \"white\", \"showbackground\": true, \"ticks\": \"\", \"zerolinecolor\": \"white\"}, \"yaxis\": {\"backgroundcolor\": \"#E5ECF6\", \"gridcolor\": \"white\", \"gridwidth\": 2, \"linecolor\": \"white\", \"showbackground\": true, \"ticks\": \"\", \"zerolinecolor\": \"white\"}, \"zaxis\": {\"backgroundcolor\": \"#E5ECF6\", \"gridcolor\": \"white\", \"gridwidth\": 2, \"linecolor\": \"white\", \"showbackground\": true, \"ticks\": \"\", \"zerolinecolor\": \"white\"}}, \"shapedefaults\": {\"line\": {\"color\": \"#2a3f5f\"}}, \"ternary\": {\"aaxis\": {\"gridcolor\": \"white\", \"linecolor\": \"white\", \"ticks\": \"\"}, \"baxis\": {\"gridcolor\": \"white\", \"linecolor\": \"white\", \"ticks\": \"\"}, \"bgcolor\": \"#E5ECF6\", \"caxis\": {\"gridcolor\": \"white\", \"linecolor\": \"white\", \"ticks\": \"\"}}, \"title\": {\"x\": 0.05}, \"xaxis\": {\"automargin\": true, \"gridcolor\": \"white\", \"linecolor\": \"white\", \"ticks\": \"\", \"title\": {\"standoff\": 15}, \"zerolinecolor\": \"white\", \"zerolinewidth\": 2}, \"yaxis\": {\"automargin\": true, \"gridcolor\": \"white\", \"linecolor\": \"white\", \"ticks\": \"\", \"title\": {\"standoff\": 15}, \"zerolinecolor\": \"white\", \"zerolinewidth\": 2}}}, \"updatemenus\": [{\"active\": 0, \"buttons\": [{\"args\": [{\"visible\": [1.0, 1.0, 1.0, 1.0, 1.0, 1.0, 1.0, 1.0, 1.0]}, {\"title\": \"Plot all weekdays\"}], \"label\": \"Plot all Ratings\", \"method\": \"update\"}, {\"args\": [{\"visible\": [true, false, false, false, false, false, false, false, false]}, {\"title\": \"1\"}], \"label\": \"Stars1\", \"method\": \"update\"}, {\"args\": [{\"visible\": [false, true, false, false, false, false, false, false, false]}, {\"title\": \"1.5\"}], \"label\": \"Stars1.5\", \"method\": \"update\"}, {\"args\": [{\"visible\": [false, false, true, false, false, false, false, false, false]}, {\"title\": \"2\"}], \"label\": \"Stars2\", \"method\": \"update\"}, {\"args\": [{\"visible\": [false, false, false, true, false, false, false, false, false]}, {\"title\": \"2.5\"}], \"label\": \"Stars2.5\", \"method\": \"update\"}, {\"args\": [{\"visible\": [false, false, false, false, true, false, false, false, false]}, {\"title\": \"3\"}], \"label\": \"Stars3\", \"method\": \"update\"}, {\"args\": [{\"visible\": [false, false, false, false, false, true, false, false, false]}, {\"title\": \"3.5\"}], \"label\": \"Stars3.5\", \"method\": \"update\"}, {\"args\": [{\"visible\": [false, false, false, false, false, false, true, false, false]}, {\"title\": \"4\"}], \"label\": \"Stars4\", \"method\": \"update\"}, {\"args\": [{\"visible\": [false, false, false, false, false, false, false, true, false]}, {\"title\": \"4.5\"}], \"label\": \"Stars4.5\", \"method\": \"update\"}, {\"args\": [{\"visible\": [false, false, false, false, false, false, false, false, true]}, {\"title\": \"5\"}], \"label\": \"Stars5\", \"method\": \"update\"}]}]},                        {\"responsive\": true}                    ).then(function(){\n",
       "                            \n",
       "var gd = document.getElementById('e377efd4-06f3-4788-a604-c3bb77ebf488');\n",
       "var x = new MutationObserver(function (mutations, observer) {{\n",
       "        var display = window.getComputedStyle(gd).display;\n",
       "        if (!display || display === 'none') {{\n",
       "            console.log([gd, 'removed!']);\n",
       "            Plotly.purge(gd);\n",
       "            observer.disconnect();\n",
       "        }}\n",
       "}});\n",
       "\n",
       "// Listen for the removal of the full notebook cells\n",
       "var notebookContainer = gd.closest('#notebook-container');\n",
       "if (notebookContainer) {{\n",
       "    x.observe(notebookContainer, {childList: true});\n",
       "}}\n",
       "\n",
       "// Listen for the clearing of the current output cell\n",
       "var outputEl = gd.closest('.output');\n",
       "if (outputEl) {{\n",
       "    x.observe(outputEl, {childList: true});\n",
       "}}\n",
       "\n",
       "                        })                };                });            </script>        </div>"
      ]
     },
     "metadata": {},
     "output_type": "display_data"
    }
   ],
   "source": [
    "# Initialize figure\n",
    "fig = go.Figure()\n",
    "\n",
    "# Add Traces\n",
    "for i in df_category.columns[1:]:\n",
    "    fig.add_trace(go.Bar(x=df_category['category'], y=df_category[i]))\n",
    "\n",
    "\n",
    "fig.update_layout(\n",
    "    updatemenus=[\n",
    "        dict(\n",
    "            active=0,\n",
    "            buttons=list_dict(colName,len(colName)),\n",
    "        )\n",
    "    ])\n",
    "\n",
    "\n",
    "#fig.update_xaxes(title_text=\"Distance travelled in km by category in logarithmic scale\", type=\"log\")\n",
    "#fig.update_yaxes(title_text=\"Probability of travelling\") \n",
    "\n",
    "# Set title\n",
    "#fig.update_layout(title_text=\"Distance travelled in km by weekday\")\n",
    "\n",
    "fig.show()"
   ]
  },
  {
   "cell_type": "code",
   "execution_count": 36,
   "metadata": {},
   "outputs": [
    {
     "data": {
      "text/plain": [
       "'https://plotly.com/~PM_EPFL/3/'"
      ]
     },
     "execution_count": 36,
     "metadata": {},
     "output_type": "execute_result"
    }
   ],
   "source": [
    "import chart_studio.plotly as py\n",
    "import chart_studio\n",
    "username = 'PM_EPFL' # your username\n",
    "api_key = 'mhSnWR5XdSgJaEB24BH4' # your api key - go to profile > settings > regenerate key\n",
    "chart_studio.tools.set_credentials_file(username=username, api_key=api_key)\n",
    "py.plot(fig, filename = 'category_dist', auto_open=True)"
   ]
  },
  {
   "cell_type": "code",
   "execution_count": null,
   "metadata": {},
   "outputs": [],
   "source": []
  }
 ],
 "metadata": {
  "kernelspec": {
   "display_name": "Python 3",
   "language": "python",
   "name": "python3"
  },
  "language_info": {
   "codemirror_mode": {
    "name": "ipython",
    "version": 3
   },
   "file_extension": ".py",
   "mimetype": "text/x-python",
   "name": "python",
   "nbconvert_exporter": "python",
   "pygments_lexer": "ipython3",
   "version": "3.8.3"
  }
 },
 "nbformat": 4,
 "nbformat_minor": 2
}
