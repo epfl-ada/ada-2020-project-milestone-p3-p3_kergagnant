{
 "cells": [
  {
   "cell_type": "code",
   "execution_count": 1,
   "metadata": {},
   "outputs": [],
   "source": [
    "import json\n",
    "import math\n",
    "import pickle\n",
    "import pandas as pd\n",
    "import numpy as np\n",
    "import seaborn as sns\n",
    "import matplotlib.pyplot as plt\n",
    "from scipy.spatial import distance\n",
    "from math import radians, cos, sin, asin, sqrt\n",
    "\n",
    "\n"
   ]
  },
  {
   "cell_type": "markdown",
   "metadata": {},
   "source": [
    "# I. Load the data & some insights"
   ]
  },
  {
   "cell_type": "code",
   "execution_count": 2,
   "metadata": {},
   "outputs": [],
   "source": [
    "# We load the 3 datasets \n",
    "df_business = pd.read_csv('./data/df_business.csv')\n",
    "df_reviews = pd.read_csv('./data/df_reviews.csv')\n",
    "df_users = pd.read_csv('./data/df_user.csv')"
   ]
  },
  {
   "cell_type": "code",
   "execution_count": 3,
   "metadata": {},
   "outputs": [],
   "source": [
    "# Convert the string of friends to a list\n",
    "df_users['friend_list'] = df_users.apply(lambda x: x.friends.split(', '), axis=1)\n",
    "df_user = df_users.drop('friends', axis=1)"
   ]
  },
  {
   "cell_type": "markdown",
   "metadata": {},
   "source": [
    "For reading purposes, the 3 datasets have the following form"
   ]
  },
  {
   "cell_type": "code",
   "execution_count": 4,
   "metadata": {},
   "outputs": [
    {
     "data": {
      "text/html": [
       "<div>\n",
       "<style scoped>\n",
       "    .dataframe tbody tr th:only-of-type {\n",
       "        vertical-align: middle;\n",
       "    }\n",
       "\n",
       "    .dataframe tbody tr th {\n",
       "        vertical-align: top;\n",
       "    }\n",
       "\n",
       "    .dataframe thead th {\n",
       "        text-align: right;\n",
       "    }\n",
       "</style>\n",
       "<table border=\"1\" class=\"dataframe\">\n",
       "  <thead>\n",
       "    <tr style=\"text-align: right;\">\n",
       "      <th></th>\n",
       "      <th>business_id</th>\n",
       "      <th>state</th>\n",
       "      <th>latitude</th>\n",
       "      <th>longitude</th>\n",
       "      <th>stars</th>\n",
       "    </tr>\n",
       "  </thead>\n",
       "  <tbody>\n",
       "    <tr>\n",
       "      <th>0</th>\n",
       "      <td>f9NumwFMBDn751xgFiRbNA</td>\n",
       "      <td>NC</td>\n",
       "      <td>35.462724</td>\n",
       "      <td>-80.852612</td>\n",
       "      <td>3.5</td>\n",
       "    </tr>\n",
       "    <tr>\n",
       "      <th>1</th>\n",
       "      <td>Yzvjg0SayhoZgCljUJRF9Q</td>\n",
       "      <td>AZ</td>\n",
       "      <td>33.569404</td>\n",
       "      <td>-111.890264</td>\n",
       "      <td>5.0</td>\n",
       "    </tr>\n",
       "    <tr>\n",
       "      <th>2</th>\n",
       "      <td>XNoUzKckATkOD1hP6vghZg</td>\n",
       "      <td>QC</td>\n",
       "      <td>45.479984</td>\n",
       "      <td>-73.580070</td>\n",
       "      <td>5.0</td>\n",
       "    </tr>\n",
       "  </tbody>\n",
       "</table>\n",
       "</div>"
      ],
      "text/plain": [
       "              business_id state   latitude   longitude  stars\n",
       "0  f9NumwFMBDn751xgFiRbNA    NC  35.462724  -80.852612    3.5\n",
       "1  Yzvjg0SayhoZgCljUJRF9Q    AZ  33.569404 -111.890264    5.0\n",
       "2  XNoUzKckATkOD1hP6vghZg    QC  45.479984  -73.580070    5.0"
      ]
     },
     "execution_count": 4,
     "metadata": {},
     "output_type": "execute_result"
    }
   ],
   "source": [
    "df_business.head(3)"
   ]
  },
  {
   "cell_type": "code",
   "execution_count": 5,
   "metadata": {},
   "outputs": [
    {
     "data": {
      "text/html": [
       "<div>\n",
       "<style scoped>\n",
       "    .dataframe tbody tr th:only-of-type {\n",
       "        vertical-align: middle;\n",
       "    }\n",
       "\n",
       "    .dataframe tbody tr th {\n",
       "        vertical-align: top;\n",
       "    }\n",
       "\n",
       "    .dataframe thead th {\n",
       "        text-align: right;\n",
       "    }\n",
       "</style>\n",
       "<table border=\"1\" class=\"dataframe\">\n",
       "  <thead>\n",
       "    <tr style=\"text-align: right;\">\n",
       "      <th></th>\n",
       "      <th>review_id</th>\n",
       "      <th>user_id</th>\n",
       "      <th>business_id</th>\n",
       "      <th>stars</th>\n",
       "      <th>date</th>\n",
       "    </tr>\n",
       "  </thead>\n",
       "  <tbody>\n",
       "    <tr>\n",
       "      <th>0</th>\n",
       "      <td>xQY8N_XvtGbearJ5X4QryQ</td>\n",
       "      <td>OwjRMXRC0KyPrIlcjaXeFQ</td>\n",
       "      <td>-MhfebM0QIsKt87iDN-FNw</td>\n",
       "      <td>2</td>\n",
       "      <td>2015-04-15 05:21:16</td>\n",
       "    </tr>\n",
       "    <tr>\n",
       "      <th>1</th>\n",
       "      <td>UmFMZ8PyXZTY2QcwzsfQYA</td>\n",
       "      <td>nIJD_7ZXHq-FX8byPMOkMQ</td>\n",
       "      <td>lbrU8StCq3yDfr-QMnGrmQ</td>\n",
       "      <td>1</td>\n",
       "      <td>2013-12-07 03:16:52</td>\n",
       "    </tr>\n",
       "    <tr>\n",
       "      <th>2</th>\n",
       "      <td>LG2ZaYiOgpr2DK_90pYjNw</td>\n",
       "      <td>V34qejxNsCbcgD8C0HVk-Q</td>\n",
       "      <td>HQl28KMwrEKHqhFrrDqVNQ</td>\n",
       "      <td>5</td>\n",
       "      <td>2015-12-05 03:18:11</td>\n",
       "    </tr>\n",
       "  </tbody>\n",
       "</table>\n",
       "</div>"
      ],
      "text/plain": [
       "                review_id                 user_id             business_id  \\\n",
       "0  xQY8N_XvtGbearJ5X4QryQ  OwjRMXRC0KyPrIlcjaXeFQ  -MhfebM0QIsKt87iDN-FNw   \n",
       "1  UmFMZ8PyXZTY2QcwzsfQYA  nIJD_7ZXHq-FX8byPMOkMQ  lbrU8StCq3yDfr-QMnGrmQ   \n",
       "2  LG2ZaYiOgpr2DK_90pYjNw  V34qejxNsCbcgD8C0HVk-Q  HQl28KMwrEKHqhFrrDqVNQ   \n",
       "\n",
       "   stars                 date  \n",
       "0      2  2015-04-15 05:21:16  \n",
       "1      1  2013-12-07 03:16:52  \n",
       "2      5  2015-12-05 03:18:11  "
      ]
     },
     "execution_count": 5,
     "metadata": {},
     "output_type": "execute_result"
    }
   ],
   "source": [
    "df_reviews.head(3)"
   ]
  },
  {
   "cell_type": "code",
   "execution_count": 6,
   "metadata": {},
   "outputs": [
    {
     "data": {
      "text/html": [
       "<div>\n",
       "<style scoped>\n",
       "    .dataframe tbody tr th:only-of-type {\n",
       "        vertical-align: middle;\n",
       "    }\n",
       "\n",
       "    .dataframe tbody tr th {\n",
       "        vertical-align: top;\n",
       "    }\n",
       "\n",
       "    .dataframe thead th {\n",
       "        text-align: right;\n",
       "    }\n",
       "</style>\n",
       "<table border=\"1\" class=\"dataframe\">\n",
       "  <thead>\n",
       "    <tr style=\"text-align: right;\">\n",
       "      <th></th>\n",
       "      <th>user_id</th>\n",
       "      <th>friends</th>\n",
       "      <th>friend_list</th>\n",
       "    </tr>\n",
       "  </thead>\n",
       "  <tbody>\n",
       "    <tr>\n",
       "      <th>0</th>\n",
       "      <td>ntlvfPzc8eglqvk92iDIAw</td>\n",
       "      <td>oeMvJh94PiGQnx_6GlndPQ, wm1z1PaJKvHgSDRKfwhfDg...</td>\n",
       "      <td>[oeMvJh94PiGQnx_6GlndPQ, wm1z1PaJKvHgSDRKfwhfD...</td>\n",
       "    </tr>\n",
       "    <tr>\n",
       "      <th>1</th>\n",
       "      <td>FOBRPlBHa3WPHFB5qYDlVg</td>\n",
       "      <td>ly7EnE8leJmyqyePVYFlug, pRlR63iDytsnnniPb3AOug...</td>\n",
       "      <td>[ly7EnE8leJmyqyePVYFlug, pRlR63iDytsnnniPb3AOu...</td>\n",
       "    </tr>\n",
       "    <tr>\n",
       "      <th>2</th>\n",
       "      <td>zZUnPeh2hEp0WydbAZEOOg</td>\n",
       "      <td>Uwlk0txjQBPw_JhHsQnyeg, Ybxr1tSCkv3lYA0I1qmnPQ...</td>\n",
       "      <td>[Uwlk0txjQBPw_JhHsQnyeg, Ybxr1tSCkv3lYA0I1qmnP...</td>\n",
       "    </tr>\n",
       "  </tbody>\n",
       "</table>\n",
       "</div>"
      ],
      "text/plain": [
       "                  user_id                                            friends  \\\n",
       "0  ntlvfPzc8eglqvk92iDIAw  oeMvJh94PiGQnx_6GlndPQ, wm1z1PaJKvHgSDRKfwhfDg...   \n",
       "1  FOBRPlBHa3WPHFB5qYDlVg  ly7EnE8leJmyqyePVYFlug, pRlR63iDytsnnniPb3AOug...   \n",
       "2  zZUnPeh2hEp0WydbAZEOOg  Uwlk0txjQBPw_JhHsQnyeg, Ybxr1tSCkv3lYA0I1qmnPQ...   \n",
       "\n",
       "                                         friend_list  \n",
       "0  [oeMvJh94PiGQnx_6GlndPQ, wm1z1PaJKvHgSDRKfwhfD...  \n",
       "1  [ly7EnE8leJmyqyePVYFlug, pRlR63iDytsnnniPb3AOu...  \n",
       "2  [Uwlk0txjQBPw_JhHsQnyeg, Ybxr1tSCkv3lYA0I1qmnP...  "
      ]
     },
     "execution_count": 6,
     "metadata": {},
     "output_type": "execute_result"
    }
   ],
   "source": [
    "df_users.head(3)"
   ]
  },
  {
   "cell_type": "code",
   "execution_count": 7,
   "metadata": {},
   "outputs": [
    {
     "name": "stdout",
     "output_type": "stream",
     "text": [
      "There are 209393 businesses\n",
      "There are 8021122 reviews\n",
      "There are 1968703 users\n"
     ]
    }
   ],
   "source": [
    "print('There are', df_business.shape[0], 'businesses')\n",
    "print('There are', df_reviews.shape[0], 'reviews')\n",
    "print('There are', df_users.shape[0], 'users')"
   ]
  },
  {
   "cell_type": "markdown",
   "metadata": {},
   "source": [
    "For our study, we need to infer user's home, so we need **at least 3 reviews**. Also, we will study users with **at least 3 friends**.  "
   ]
  },
  {
   "cell_type": "code",
   "execution_count": 8,
   "metadata": {},
   "outputs": [],
   "source": [
    "# We count the number of reviewe per user\n",
    "df_numberOfReviews = df_reviews.groupby('user_id').count().drop(['business_id', 'stars', 'date'], axis = 1).rename(columns={'review_id': 'review_count'})"
   ]
  },
  {
   "cell_type": "code",
   "execution_count": 9,
   "metadata": {},
   "outputs": [],
   "source": [
    "# We merge the df_users dataset to the df_numberOfReviews dataset\n",
    "df_users = pd.merge(df_users, df_numberOfReviews, left_on='user_id', right_on='user_id', how='inner')"
   ]
  },
  {
   "cell_type": "code",
   "execution_count": 10,
   "metadata": {},
   "outputs": [],
   "source": [
    "# We create a mask for users with more than 3 friends\n",
    "mask = df_users.apply(lambda x: len(x.friend_list) >= 3, axis=1)"
   ]
  },
  {
   "cell_type": "code",
   "execution_count": 11,
   "metadata": {},
   "outputs": [
    {
     "name": "stdout",
     "output_type": "stream",
     "text": [
      "Number of users with more than 3 reviews: 602736\n",
      "Number of users with more than 3 friends: 957463\n"
     ]
    }
   ],
   "source": [
    "print('Number of users with more than 3 reviews:', df_numberOfReviews[df_numberOfReviews['review_count'] >= 3].shape[0])\n",
    "print('Number of users with more than 3 friends:', df_users[mask].shape[0])"
   ]
  },
  {
   "cell_type": "code",
   "execution_count": 12,
   "metadata": {},
   "outputs": [
    {
     "name": "stdout",
     "output_type": "stream",
     "text": [
      "Number of users with more than 4 reviews and with more than 3 friends: 343424\n"
     ]
    }
   ],
   "source": [
    "# Select users that satisfy both conditions\n",
    "df_selectedUsers = df_users[mask&(df_users['review_count'] >= 3)]\n",
    "print('Number of users with more than 4 reviews and with more than 3 friends:', df_selectedUsers.shape[0])"
   ]
  },
  {
   "cell_type": "code",
   "execution_count": 13,
   "metadata": {},
   "outputs": [
    {
     "name": "stdout",
     "output_type": "stream",
     "text": [
      "Number of checkins of selected users: 4516345\n"
     ]
    }
   ],
   "source": [
    "# Number of checkins of the selected users\n",
    "print('Number of checkins of selected users:', df_selectedUsers['review_count'].sum())"
   ]
  },
  {
   "cell_type": "code",
   "execution_count": 14,
   "metadata": {},
   "outputs": [],
   "source": [
    "df_reviews = pd.merge(df_reviews, df_business, left_on='business_id', right_on='business_id', how='inner').drop(['state'], axis=1)"
   ]
  },
  {
   "cell_type": "markdown",
   "metadata": {},
   "source": [
    "# I. Find user's home"
   ]
  },
  {
   "cell_type": "code",
   "execution_count": 15,
   "metadata": {},
   "outputs": [],
   "source": [
    "# some constants\n",
    "ONE_DEGREE_LATITIDE_TO_KM = 111\n",
    "EARTH_RADIUS = 6371\n",
    "\n",
    "# GOAL: unction used to compute the square_id given two coordinate (latitude coordinate and longitude coordinate)\n",
    "# INPUT: Takes as input two float that represent the latitude and longitude (be aware that order matters!)\n",
    "# OUTPUT: Returns a string that is the id of the cell in which the two coordinates are located in\n",
    "# Explanations on this function are given in section I\n",
    "def getSquareIdString(lat, long):\n",
    "    lat_id = math.trunc(lat*ONE_DEGREE_LATITIDE_TO_KM/25.0)\n",
    "    long_id = math.trunc(math.pi/180*EARTH_RADIUS*math.cos(math.radians(lat))*long/25)\n",
    "    return str(lat_id)+'_'+str(long_id)\n",
    "\n",
    "# Transform the function used to compute the square_id to a numpy usable function \n",
    "# (i.e argumennts of the function can be passed as np.array)\n",
    "# This is done to improve efficiency by avoiding the use of an apply on a dataframe, which would cause a lot of overhead \n",
    "# when working with indices\n",
    "vect_GetSquareIdString = np.vectorize(getSquareIdString)"
   ]
  },
  {
   "cell_type": "code",
   "execution_count": 16,
   "metadata": {},
   "outputs": [],
   "source": [
    "# GOAL: compute the arc-distance between two points with format (latitude, longitude)\n",
    "# INPUT: Takes two np.array where the first element is the latitude and the second is the longitude (be aware that latitude is first!)\n",
    "# OUTPUT: return the distance bewteen the two given points\n",
    "# NOTE: this function was copied verbatim from: \n",
    "# https://stackoverflow.com/questions/15736995/how-can-i-quickly-estimate-the-distance-between-two-latitude-longitude-points\n",
    "def haversine(x1, x2):\n",
    "    \"\"\"\n",
    "    Calculate the great circle distance between two points \n",
    "    on the earth (specified in decimal degrees)\n",
    "    \"\"\"\n",
    "    # convert decimal degrees to radians \n",
    "    lon1, lat1, lon2, lat2 = map(radians, [x1[1], x1[0], x2[1], x2[0]])\n",
    "    # haversine formula \n",
    "    dlon = lon2 - lon1 \n",
    "    dlat = lat2 - lat1 \n",
    "    a = sin(dlat/2)**2 + cos(lat1) * cos(lat2) * sin(dlon/2)**2\n",
    "    c = 2 * asin(sqrt(a)) \n",
    "    # Radius of earth in kilometers is 6371\n",
    "    km = 6371* c\n",
    "    return km"
   ]
  },
  {
   "cell_type": "code",
   "execution_count": 17,
   "metadata": {},
   "outputs": [],
   "source": [
    "def getUserHome(df):\n",
    "    # we are using the column time as a counter for the pair (user_id, square_id)\n",
    "    # in the meantime, we are computing the mean latitude and longitude for each pair (user_id, square_id)\n",
    "    save = df.groupby(['user_id', 'square_id']).agg({\n",
    "        'date': 'count', \n",
    "        'latitude': ['mean'],\n",
    "        'longitude': ['mean']\n",
    "    }).reset_index()\n",
    "    \n",
    "    # we copy the counter of pair (user_id, square_id), the mean latitude, and mean longitude \n",
    "    # in new columns\n",
    "    save['count'] = save['date']['count']\n",
    "    save['latitude_home'] = save['latitude']['mean']\n",
    "    save['longitude_home'] = save['longitude']['mean']\n",
    "\n",
    "    # we drop the columns the we previously copied \n",
    "    save = save.drop([('date', 'count'), 'square_id', ('latitude', 'mean'), ('longitude', 'mean')], axis=1)\n",
    "    \n",
    "    # we keep only the square_id with the most count \n",
    "    save = save.loc[save.groupby('user_id')['count'].idxmax()]\n",
    "    \n",
    "    # we drop the column count as it will be of no use later\n",
    "    save = save.drop('count', axis=1)\n",
    "    return save"
   ]
  },
  {
   "cell_type": "code",
   "execution_count": 18,
   "metadata": {},
   "outputs": [],
   "source": [
    "df_reviews['square_id'] = vect_GetSquareIdString(df_reviews['latitude'].values, df_reviews['longitude'].values)\n"
   ]
  },
  {
   "cell_type": "code",
   "execution_count": 19,
   "metadata": {},
   "outputs": [
    {
     "name": "stderr",
     "output_type": "stream",
     "text": [
      "/Users/paulmansat/opt/anaconda3/lib/python3.8/site-packages/pandas/core/generic.py:3936: PerformanceWarning: dropping on a non-lexsorted multi-index without a level parameter may impact performance.\n",
      "  obj = obj._drop_axis(labels, axis, level=level, errors=errors)\n"
     ]
    }
   ],
   "source": [
    "df_homes = getUserHome(df_reviews)"
   ]
  },
  {
   "cell_type": "code",
   "execution_count": null,
   "metadata": {},
   "outputs": [],
   "source": []
  },
  {
   "cell_type": "code",
   "execution_count": 20,
   "metadata": {},
   "outputs": [
    {
     "name": "stderr",
     "output_type": "stream",
     "text": [
      "/Users/paulmansat/opt/anaconda3/lib/python3.8/site-packages/pandas/core/reshape/merge.py:618: UserWarning: merging between different levels can give an unintended result (1 levels on the left, 2 on the right)\n",
      "  warnings.warn(msg, UserWarning)\n"
     ]
    }
   ],
   "source": [
    "df_selectedUsers = pd.merge(df_selectedUsers, df_homes, left_on='user_id', right_on='user_id', how='left')"
   ]
  },
  {
   "cell_type": "code",
   "execution_count": 21,
   "metadata": {},
   "outputs": [
    {
     "data": {
      "text/html": [
       "<div>\n",
       "<style scoped>\n",
       "    .dataframe tbody tr th:only-of-type {\n",
       "        vertical-align: middle;\n",
       "    }\n",
       "\n",
       "    .dataframe tbody tr th {\n",
       "        vertical-align: top;\n",
       "    }\n",
       "\n",
       "    .dataframe thead tr th {\n",
       "        text-align: left;\n",
       "    }\n",
       "</style>\n",
       "<table border=\"1\" class=\"dataframe\">\n",
       "  <thead>\n",
       "    <tr>\n",
       "      <th></th>\n",
       "      <th>user_id</th>\n",
       "      <th>latitude_home</th>\n",
       "      <th>longitude_home</th>\n",
       "    </tr>\n",
       "    <tr>\n",
       "      <th></th>\n",
       "      <th></th>\n",
       "      <th></th>\n",
       "      <th></th>\n",
       "    </tr>\n",
       "  </thead>\n",
       "  <tbody>\n",
       "    <tr>\n",
       "      <th>3</th>\n",
       "      <td>---1lKK3aKOuomHnwAkAow</td>\n",
       "      <td>36.155733</td>\n",
       "      <td>-115.202243</td>\n",
       "    </tr>\n",
       "    <tr>\n",
       "      <th>6</th>\n",
       "      <td>---3o4ZsKYoBYBe7H6xG8A</td>\n",
       "      <td>36.263859</td>\n",
       "      <td>-115.265990</td>\n",
       "    </tr>\n",
       "    <tr>\n",
       "      <th>7</th>\n",
       "      <td>---89pEy_h9PvHwcHNbpyg</td>\n",
       "      <td>36.110518</td>\n",
       "      <td>-115.305637</td>\n",
       "    </tr>\n",
       "    <tr>\n",
       "      <th>8</th>\n",
       "      <td>---94vtJ_5o_nikEs6hUjg</td>\n",
       "      <td>33.612476</td>\n",
       "      <td>-111.987214</td>\n",
       "    </tr>\n",
       "    <tr>\n",
       "      <th>10</th>\n",
       "      <td>---PLwSf5gKdIoVnyRHgBA</td>\n",
       "      <td>33.619849</td>\n",
       "      <td>-111.959372</td>\n",
       "    </tr>\n",
       "    <tr>\n",
       "      <th>...</th>\n",
       "      <td>...</td>\n",
       "      <td>...</td>\n",
       "      <td>...</td>\n",
       "    </tr>\n",
       "    <tr>\n",
       "      <th>3033660</th>\n",
       "      <td>zzzTrQ2bkvteEngjkXCTAA</td>\n",
       "      <td>33.639402</td>\n",
       "      <td>-112.011426</td>\n",
       "    </tr>\n",
       "    <tr>\n",
       "      <th>3033662</th>\n",
       "      <td>zzzfcCWPDkg-kGVpqCKCEg</td>\n",
       "      <td>36.083868</td>\n",
       "      <td>-115.098392</td>\n",
       "    </tr>\n",
       "    <tr>\n",
       "      <th>3033663</th>\n",
       "      <td>zzzhFxwfzL56CQVnw8piTw</td>\n",
       "      <td>36.055678</td>\n",
       "      <td>-115.118681</td>\n",
       "    </tr>\n",
       "    <tr>\n",
       "      <th>3033664</th>\n",
       "      <td>zzzmshdEWLFCApxETl1TGQ</td>\n",
       "      <td>33.377818</td>\n",
       "      <td>-111.890791</td>\n",
       "    </tr>\n",
       "    <tr>\n",
       "      <th>3033666</th>\n",
       "      <td>zzzv9W8ShM4TkXZGMFVY1w</td>\n",
       "      <td>40.427132</td>\n",
       "      <td>-79.968175</td>\n",
       "    </tr>\n",
       "  </tbody>\n",
       "</table>\n",
       "<p>1968703 rows × 3 columns</p>\n",
       "</div>"
      ],
      "text/plain": [
       "                        user_id latitude_home longitude_home\n",
       "                                                            \n",
       "3        ---1lKK3aKOuomHnwAkAow     36.155733    -115.202243\n",
       "6        ---3o4ZsKYoBYBe7H6xG8A     36.263859    -115.265990\n",
       "7        ---89pEy_h9PvHwcHNbpyg     36.110518    -115.305637\n",
       "8        ---94vtJ_5o_nikEs6hUjg     33.612476    -111.987214\n",
       "10       ---PLwSf5gKdIoVnyRHgBA     33.619849    -111.959372\n",
       "...                         ...           ...            ...\n",
       "3033660  zzzTrQ2bkvteEngjkXCTAA     33.639402    -112.011426\n",
       "3033662  zzzfcCWPDkg-kGVpqCKCEg     36.083868    -115.098392\n",
       "3033663  zzzhFxwfzL56CQVnw8piTw     36.055678    -115.118681\n",
       "3033664  zzzmshdEWLFCApxETl1TGQ     33.377818    -111.890791\n",
       "3033666  zzzv9W8ShM4TkXZGMFVY1w     40.427132     -79.968175\n",
       "\n",
       "[1968703 rows x 3 columns]"
      ]
     },
     "execution_count": 21,
     "metadata": {},
     "output_type": "execute_result"
    }
   ],
   "source": [
    "df_homes"
   ]
  },
  {
   "cell_type": "markdown",
   "metadata": {},
   "source": [
    "## Part A of study graphs"
   ]
  },
  {
   "cell_type": "code",
   "execution_count": 22,
   "metadata": {},
   "outputs": [],
   "source": [
    "df_complete = pd.merge(df_reviews, df_selectedUsers, left_on='user_id', right_on='user_id', how='right')"
   ]
  },
  {
   "cell_type": "code",
   "execution_count": 23,
   "metadata": {},
   "outputs": [],
   "source": [
    "df_complete = df_complete.rename(columns={('latitude_home', ''): \"latitude_home\", ('longitude_home', ''): \"longitude_home\"})"
   ]
  },
  {
   "cell_type": "code",
   "execution_count": 24,
   "metadata": {},
   "outputs": [],
   "source": [
    "df_business = df_business.rename(columns={\"stars\":\"actual_stars\"})"
   ]
  },
  {
   "cell_type": "code",
   "execution_count": 25,
   "metadata": {},
   "outputs": [],
   "source": [
    "df_complete['distance'] = df_complete.apply(lambda x: distance.cdist([(x.latitude_home, x.longitude_home)], [(x.latitude, x.longitude)], metric=haversine)[0,0], axis=1)"
   ]
  },
  {
   "cell_type": "code",
   "execution_count": 26,
   "metadata": {},
   "outputs": [],
   "source": [
    "# A save point\n",
    "rollback = df_complete.copy()"
   ]
  },
  {
   "cell_type": "code",
   "execution_count": 27,
   "metadata": {},
   "outputs": [],
   "source": [
    "df_complete = pd.merge(df_complete, df_business[['business_id', 'actual_stars']], left_on='business_id', right_on='business_id', how='inner')"
   ]
  },
  {
   "cell_type": "code",
   "execution_count": 28,
   "metadata": {},
   "outputs": [],
   "source": [
    "# Create the bins for the plotting\n",
    "maxDistance = max(df_complete['distance'])\n"
   ]
  },
  {
   "cell_type": "code",
   "execution_count": 29,
   "metadata": {},
   "outputs": [],
   "source": [
    "bins = np.geomspace(5, maxDistance, 15)\n",
    "binsCentered = (bins[:-1] + bins[1:])/2"
   ]
  },
  {
   "cell_type": "markdown",
   "metadata": {},
   "source": [
    "## Probability to give good review depending on distance"
   ]
  },
  {
   "cell_type": "code",
   "execution_count": 30,
   "metadata": {},
   "outputs": [],
   "source": [
    "totalReview = df_complete['review_id'].groupby(pd.cut(df_complete['distance'], bins=bins)).count()"
   ]
  },
  {
   "cell_type": "code",
   "execution_count": 33,
   "metadata": {},
   "outputs": [],
   "source": [
    "# Good with 3 but can use 5\n",
    "df_goodUserreviews = df_complete[df_complete['stars_x'] >= 3]\n",
    "df_badUserreviews = df_complete[df_complete['stars_x'] <= 2]"
   ]
  },
  {
   "cell_type": "code",
   "execution_count": 34,
   "metadata": {},
   "outputs": [],
   "source": [
    "goodUserReview = df_goodUserreviews['review_id'].groupby(pd.cut(df_goodUserreviews['distance'], bins=bins)).count()"
   ]
  },
  {
   "cell_type": "code",
   "execution_count": 35,
   "metadata": {},
   "outputs": [],
   "source": [
    "badUserReview = df_badUserreviews['review_id'].groupby(pd.cut(df_badUserreviews['distance'], bins=bins)).count()"
   ]
  },
  {
   "cell_type": "code",
   "execution_count": 36,
   "metadata": {},
   "outputs": [
    {
     "data": {
      "text/plain": [
       "Text(0.5, 1.0, 'Probability to Give Good Rating (stars >= 5) Depending on Distance')"
      ]
     },
     "execution_count": 36,
     "metadata": {},
     "output_type": "execute_result"
    },
    {
     "data": {
      "image/png": "[encoded data removed]",
      "text/plain": [
       "<Figure size 504x432 with 1 Axes>"
      ]
     },
     "metadata": {
      "needs_background": "light"
     },
     "output_type": "display_data"
    }
   ],
   "source": [
    "plt.figure(figsize=(7,6)) \n",
    "plt.plot(binsCentered,goodUserReview/totalReview,'go', linestyle=\"-\", fillstyle=\"none\", markersize=15,label='Good Review')\n",
    "plt.xscale('log')\n",
    "plt.yscale('log')\n",
    "plt.xlabel(\"Check−in distance from home (km)\")\n",
    "plt.ylabel(\"P_GoodReview\")\n",
    "plt.legend(loc=\"lower right\")\n",
    "plt.title(\"Probability to Give Good Rating (stars >= 5) Depending on Distance\")\n",
    "#plt.ylim(0,10**2)"
   ]
  },
  {
   "cell_type": "markdown",
   "metadata": {},
   "source": [
    "## Probability to go to good reviewed place"
   ]
  },
  {
   "cell_type": "code",
   "execution_count": null,
   "metadata": {},
   "outputs": [],
   "source": [
    "df_goodPlaceReviews = df_complete[df_complete['actual_stars'] >= 5]\n",
    "df_badPlaceReviews = df_complete[df_complete['actual_stars'] <= 2]"
   ]
  },
  {
   "cell_type": "code",
   "execution_count": null,
   "metadata": {},
   "outputs": [],
   "source": [
    "goodPlaceReview = df_goodPlaceReviews['review_id'].groupby(pd.cut(df_goodPlaceReviews['distance'], bins=bins)).count()\n",
    "badPlaceReview = df_badPlaceReviews['review_id'].groupby(pd.cut(df_badPlaceReviews['distance'], bins=bins)).count()"
   ]
  },
  {
   "cell_type": "code",
   "execution_count": null,
   "metadata": {},
   "outputs": [],
   "source": [
    "#plt.figure(figsize=(7,6)) \n",
    "plt.plot(binsCentered,goodPlaceReview/totalReview,'go', linestyle=\"-\", fillstyle=\"none\", markersize=15,label='Good Review')\n",
    "#plt.plot(binsCentered,badPlaceReview/totalReview,'ro', linestyle=\"-\", markersize=15,label='badReview')\n",
    "plt.xscale('log')\n",
    "plt.yscale('log')\n",
    "plt.xlabel(\"Check−in distance from home (km)\")\n",
    "plt.ylabel(\"P_GoodReview\")\n",
    "plt.legend(loc=\"lower right\")\n",
    "plt.title(\"Probability to go to Good Rated (stars >= 5) Place Depending on Distance\")\n",
    "#plt.ylim(10**(-2),10**(-1))"
   ]
  },
  {
   "cell_type": "markdown",
   "metadata": {},
   "source": [
    "# Mean review given distance"
   ]
  },
  {
   "cell_type": "code",
   "execution_count": null,
   "metadata": {},
   "outputs": [],
   "source": [
    "meanActualStars = df_complete[['review_id', 'actual_stars']].groupby(pd.cut(df_complete['distance'], bins=bins))['actual_stars'].mean()\n",
    "meanGivenStars = df_complete[['review_id', 'stars']].groupby(pd.cut(df_complete['distance'], bins=bins))['stars'].mean()"
   ]
  },
  {
   "cell_type": "code",
   "execution_count": null,
   "metadata": {},
   "outputs": [],
   "source": [
    "plt.plot(binsCentered,meanActualStars,'r*', linestyle=\"-\", markersize=15,label='mean business stars')\n",
    "plt.plot(binsCentered,meanGivenStars,'b*', linestyle=\"-\", markersize=15,label='mean given stars')\n",
    "plt.xscale('log')\n",
    "plt.yscale('log')\n",
    "plt.xlabel(\"Check−in distance from home (km)\")\n",
    "plt.ylabel(\"P_GoodReview\")\n",
    "plt.legend(loc=\"lower right\")\n",
    "plt.title(\"Probability to go to Good Rated (stars >= 5) Place Depending on Distance\")"
   ]
  },
  {
   "cell_type": "code",
   "execution_count": null,
   "metadata": {},
   "outputs": [],
   "source": []
  },
  {
   "cell_type": "markdown",
   "metadata": {},
   "source": [
    "# Categories"
   ]
  },
  {
   "cell_type": "code",
   "execution_count": 121,
   "metadata": {},
   "outputs": [],
   "source": [
    "df_categories = pd.read_csv('name_category.csv')"
   ]
  },
  {
   "cell_type": "code",
   "execution_count": 122,
   "metadata": {},
   "outputs": [],
   "source": [
    "df_categories.drop('Unnamed: 0', axis=1, inplace=True)"
   ]
  },
  {
   "cell_type": "code",
   "execution_count": 123,
   "metadata": {},
   "outputs": [
    {
     "data": {
      "text/html": [
       "<div>\n",
       "<style scoped>\n",
       "    .dataframe tbody tr th:only-of-type {\n",
       "        vertical-align: middle;\n",
       "    }\n",
       "\n",
       "    .dataframe tbody tr th {\n",
       "        vertical-align: top;\n",
       "    }\n",
       "\n",
       "    .dataframe thead th {\n",
       "        text-align: right;\n",
       "    }\n",
       "</style>\n",
       "<table border=\"1\" class=\"dataframe\">\n",
       "  <thead>\n",
       "    <tr style=\"text-align: right;\">\n",
       "      <th></th>\n",
       "      <th>name</th>\n",
       "      <th>category</th>\n",
       "    </tr>\n",
       "  </thead>\n",
       "  <tbody>\n",
       "    <tr>\n",
       "      <th>0</th>\n",
       "      <td>'Travel Services'</td>\n",
       "      <td>Travel</td>\n",
       "    </tr>\n",
       "    <tr>\n",
       "      <th>1</th>\n",
       "      <td>'Kitchen Incubators'</td>\n",
       "      <td>Home</td>\n",
       "    </tr>\n",
       "    <tr>\n",
       "      <th>2</th>\n",
       "      <td>'Medical Transportation'</td>\n",
       "      <td>Health</td>\n",
       "    </tr>\n",
       "    <tr>\n",
       "      <th>3</th>\n",
       "      <td>'Private Jet Charter'</td>\n",
       "      <td>Travel</td>\n",
       "    </tr>\n",
       "    <tr>\n",
       "      <th>4</th>\n",
       "      <td>'Specialty Food'</td>\n",
       "      <td>Food</td>\n",
       "    </tr>\n",
       "    <tr>\n",
       "      <th>...</th>\n",
       "      <td>...</td>\n",
       "      <td>...</td>\n",
       "    </tr>\n",
       "    <tr>\n",
       "      <th>1331</th>\n",
       "      <td>'Dim Sum'</td>\n",
       "      <td>Food</td>\n",
       "    </tr>\n",
       "    <tr>\n",
       "      <th>1332</th>\n",
       "      <td>'Podiatrists'</td>\n",
       "      <td>Health</td>\n",
       "    </tr>\n",
       "    <tr>\n",
       "      <th>1333</th>\n",
       "      <td>'Golf'</td>\n",
       "      <td>Sport</td>\n",
       "    </tr>\n",
       "    <tr>\n",
       "      <th>1334</th>\n",
       "      <td>'Buddhist Temples'</td>\n",
       "      <td>Miscellaneous</td>\n",
       "    </tr>\n",
       "    <tr>\n",
       "      <th>1335</th>\n",
       "      <td>'Adult'</td>\n",
       "      <td>Personal Care</td>\n",
       "    </tr>\n",
       "  </tbody>\n",
       "</table>\n",
       "<p>1336 rows × 2 columns</p>\n",
       "</div>"
      ],
      "text/plain": [
       "                          name        category\n",
       "0            'Travel Services'          Travel\n",
       "1         'Kitchen Incubators'            Home\n",
       "2     'Medical Transportation'          Health\n",
       "3        'Private Jet Charter'          Travel\n",
       "4             'Specialty Food'            Food\n",
       "...                        ...             ...\n",
       "1331                 'Dim Sum'            Food\n",
       "1332             'Podiatrists'          Health\n",
       "1333                    'Golf'           Sport\n",
       "1334        'Buddhist Temples'   Miscellaneous\n",
       "1335                   'Adult'   Personal Care\n",
       "\n",
       "[1336 rows x 2 columns]"
      ]
     },
     "execution_count": 123,
     "metadata": {},
     "output_type": "execute_result"
    }
   ],
   "source": [
    "df_categories"
   ]
  },
  {
   "cell_type": "code",
   "execution_count": 124,
   "metadata": {},
   "outputs": [],
   "source": [
    "def correction_name(x):\n",
    "    name = x[0]\n",
    "    name = name.replace(\"'\", \"\")\n",
    "    return name\n",
    "\n",
    "def correction_category(x):\n",
    "    category = x[1]\n",
    "    category = category.replace(\" \", \"\")\n",
    "    category = category.replace(\"Consruction\", \"Construction\")\n",
    "    category = category.replace(\"Constructor\", \"Construction\")\n",
    "    category = category.replace(\"Entertainement\", \"Entertainment\")\n",
    "    category = category.replace(\"Entertainemnt\", \"Entertainment\")\n",
    "    category = category.replace(\"Entertainments\", \"Entertainment\")\n",
    "    category = category.replace(\"Merchants\", \"Merchant\")\n",
    "    category = category.replace(\"'\", \"\")\n",
    "    category = category.replace(\"Mischellaneous\", \"Miscellaneous\")\n",
    "    category = category.replace(\"food\", \"Food\")\n",
    "    return category"
   ]
  },
  {
   "cell_type": "code",
   "execution_count": 126,
   "metadata": {},
   "outputs": [],
   "source": [
    "df_corrected = df_categories.copy()"
   ]
  },
  {
   "cell_type": "code",
   "execution_count": 127,
   "metadata": {},
   "outputs": [],
   "source": [
    "df_corrected['name'] = df_categories.apply(lambda x: correction_name(x), axis=1)"
   ]
  },
  {
   "cell_type": "code",
   "execution_count": 128,
   "metadata": {},
   "outputs": [],
   "source": [
    "df_corrected['category'] = df_categories.apply(lambda x: correction_category(x), axis=1)"
   ]
  },
  {
   "cell_type": "code",
   "execution_count": 129,
   "metadata": {},
   "outputs": [
    {
     "data": {
      "text/plain": [
       "{'Automotive',\n",
       " 'BusinessSupport',\n",
       " 'Computers',\n",
       " 'Construction',\n",
       " 'Education',\n",
       " 'Entertainment',\n",
       " 'Food',\n",
       " 'Health',\n",
       " 'Home',\n",
       " 'Legal',\n",
       " 'Manufacturing',\n",
       " 'Merchant',\n",
       " 'Miscellaneous',\n",
       " 'PersonalCare',\n",
       " 'RealEstate',\n",
       " 'Sport',\n",
       " 'Travel'}"
      ]
     },
     "execution_count": 129,
     "metadata": {},
     "output_type": "execute_result"
    }
   ],
   "source": [
    "set(df_corrected['category'])"
   ]
  },
  {
   "cell_type": "code",
   "execution_count": null,
   "metadata": {},
   "outputs": [],
   "source": []
  },
  {
   "cell_type": "code",
   "execution_count": null,
   "metadata": {},
   "outputs": [],
   "source": []
  },
  {
   "cell_type": "code",
   "execution_count": null,
   "metadata": {},
   "outputs": [],
   "source": []
  }
 ],
 "metadata": {
  "kernelspec": {
   "display_name": "Python 3",
   "language": "python",
   "name": "python3"
  },
  "language_info": {
   "codemirror_mode": {
    "name": "ipython",
    "version": 3
   },
   "file_extension": ".py",
   "mimetype": "text/x-python",
   "name": "python",
   "nbconvert_exporter": "python",
   "pygments_lexer": "ipython3",
   "version": "3.8.3"
  }
 },
 "nbformat": 4,
 "nbformat_minor": 4
}
