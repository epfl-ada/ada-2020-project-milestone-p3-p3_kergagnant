{
 "cells": [
  {
   "cell_type": "code",
   "execution_count": 1,
   "metadata": {},
   "outputs": [
    {
     "name": "stderr",
     "output_type": "stream",
     "text": [
      "/home/x_x/anaconda3/lib/python3.7/site-packages/statsmodels/tools/_testing.py:19: FutureWarning: pandas.util.testing is deprecated. Use the functions in the public API at pandas.testing instead.\n",
      "  import pandas.util.testing as tm\n"
     ]
    }
   ],
   "source": [
    "import json\n",
    "import math\n",
    "import pickle\n",
    "import pandas as pd\n",
    "import numpy as np\n",
    "import seaborn as sns\n",
    "import matplotlib.pyplot as plt"
   ]
  },
  {
   "cell_type": "markdown",
   "metadata": {},
   "source": [
    "# I. Load the data & some insights"
   ]
  },
  {
   "cell_type": "code",
   "execution_count": 2,
   "metadata": {},
   "outputs": [],
   "source": [
    "# We load the 3 datasets \n",
    "df_busi = pd.read_csv('./data/df_business.csv')\n"
   ]
  },
  {
   "cell_type": "code",
   "execution_count": 3,
   "metadata": {},
   "outputs": [],
   "source": [
    "df_revi = pd.read_csv('./data/df_reviews.csv')\n"
   ]
  },
  {
   "cell_type": "code",
   "execution_count": 4,
   "metadata": {},
   "outputs": [],
   "source": [
    "df_us = pd.read_csv('./data/df_user.csv')"
   ]
  },
  {
   "cell_type": "code",
   "execution_count": null,
   "metadata": {},
   "outputs": [],
   "source": []
  },
  {
   "cell_type": "code",
   "execution_count": 5,
   "metadata": {},
   "outputs": [],
   "source": [
    "df_business = df_busi[:10000]\n",
    "df_reviews = df_revi[:10000]\n",
    "df_users = df_us[:10000]"
   ]
  },
  {
   "cell_type": "code",
   "execution_count": 6,
   "metadata": {},
   "outputs": [
    {
     "name": "stderr",
     "output_type": "stream",
     "text": [
      "/home/x_x/anaconda3/lib/python3.7/site-packages/ipykernel_launcher.py:2: SettingWithCopyWarning: \n",
      "A value is trying to be set on a copy of a slice from a DataFrame.\n",
      "Try using .loc[row_indexer,col_indexer] = value instead\n",
      "\n",
      "See the caveats in the documentation: https://pandas.pydata.org/pandas-docs/stable/user_guide/indexing.html#returning-a-view-versus-a-copy\n",
      "  \n"
     ]
    }
   ],
   "source": [
    "# Convert the string of friends to a list\n",
    "df_users['friend_list'] = df_users.apply(lambda x: x.friends.split(', '), axis=1)"
   ]
  },
  {
   "cell_type": "code",
   "execution_count": 7,
   "metadata": {},
   "outputs": [],
   "source": [
    "df_users = df_users.drop('friends', axis=1)"
   ]
  },
  {
   "cell_type": "markdown",
   "metadata": {},
   "source": [
    "For reading purposes, the 3 datasets have the following form"
   ]
  },
  {
   "cell_type": "code",
   "execution_count": 8,
   "metadata": {},
   "outputs": [
    {
     "data": {
      "text/html": [
       "<div>\n",
       "<style scoped>\n",
       "    .dataframe tbody tr th:only-of-type {\n",
       "        vertical-align: middle;\n",
       "    }\n",
       "\n",
       "    .dataframe tbody tr th {\n",
       "        vertical-align: top;\n",
       "    }\n",
       "\n",
       "    .dataframe thead th {\n",
       "        text-align: right;\n",
       "    }\n",
       "</style>\n",
       "<table border=\"1\" class=\"dataframe\">\n",
       "  <thead>\n",
       "    <tr style=\"text-align: right;\">\n",
       "      <th></th>\n",
       "      <th>business_id</th>\n",
       "      <th>state</th>\n",
       "      <th>latitude</th>\n",
       "      <th>longitude</th>\n",
       "      <th>stars</th>\n",
       "    </tr>\n",
       "  </thead>\n",
       "  <tbody>\n",
       "    <tr>\n",
       "      <th>0</th>\n",
       "      <td>f9NumwFMBDn751xgFiRbNA</td>\n",
       "      <td>NC</td>\n",
       "      <td>35.462724</td>\n",
       "      <td>-80.852612</td>\n",
       "      <td>3.5</td>\n",
       "    </tr>\n",
       "    <tr>\n",
       "      <th>1</th>\n",
       "      <td>Yzvjg0SayhoZgCljUJRF9Q</td>\n",
       "      <td>AZ</td>\n",
       "      <td>33.569404</td>\n",
       "      <td>-111.890264</td>\n",
       "      <td>5.0</td>\n",
       "    </tr>\n",
       "    <tr>\n",
       "      <th>2</th>\n",
       "      <td>XNoUzKckATkOD1hP6vghZg</td>\n",
       "      <td>QC</td>\n",
       "      <td>45.479984</td>\n",
       "      <td>-73.580070</td>\n",
       "      <td>5.0</td>\n",
       "    </tr>\n",
       "  </tbody>\n",
       "</table>\n",
       "</div>"
      ],
      "text/plain": [
       "              business_id state   latitude   longitude  stars\n",
       "0  f9NumwFMBDn751xgFiRbNA    NC  35.462724  -80.852612    3.5\n",
       "1  Yzvjg0SayhoZgCljUJRF9Q    AZ  33.569404 -111.890264    5.0\n",
       "2  XNoUzKckATkOD1hP6vghZg    QC  45.479984  -73.580070    5.0"
      ]
     },
     "execution_count": 8,
     "metadata": {},
     "output_type": "execute_result"
    }
   ],
   "source": [
    "df_business.head(3)"
   ]
  },
  {
   "cell_type": "code",
   "execution_count": 9,
   "metadata": {},
   "outputs": [
    {
     "data": {
      "text/html": [
       "<div>\n",
       "<style scoped>\n",
       "    .dataframe tbody tr th:only-of-type {\n",
       "        vertical-align: middle;\n",
       "    }\n",
       "\n",
       "    .dataframe tbody tr th {\n",
       "        vertical-align: top;\n",
       "    }\n",
       "\n",
       "    .dataframe thead th {\n",
       "        text-align: right;\n",
       "    }\n",
       "</style>\n",
       "<table border=\"1\" class=\"dataframe\">\n",
       "  <thead>\n",
       "    <tr style=\"text-align: right;\">\n",
       "      <th></th>\n",
       "      <th>review_id</th>\n",
       "      <th>user_id</th>\n",
       "      <th>business_id</th>\n",
       "      <th>stars</th>\n",
       "      <th>date</th>\n",
       "    </tr>\n",
       "  </thead>\n",
       "  <tbody>\n",
       "    <tr>\n",
       "      <th>0</th>\n",
       "      <td>xQY8N_XvtGbearJ5X4QryQ</td>\n",
       "      <td>OwjRMXRC0KyPrIlcjaXeFQ</td>\n",
       "      <td>-MhfebM0QIsKt87iDN-FNw</td>\n",
       "      <td>2</td>\n",
       "      <td>2015-04-15 05:21:16</td>\n",
       "    </tr>\n",
       "    <tr>\n",
       "      <th>1</th>\n",
       "      <td>UmFMZ8PyXZTY2QcwzsfQYA</td>\n",
       "      <td>nIJD_7ZXHq-FX8byPMOkMQ</td>\n",
       "      <td>lbrU8StCq3yDfr-QMnGrmQ</td>\n",
       "      <td>1</td>\n",
       "      <td>2013-12-07 03:16:52</td>\n",
       "    </tr>\n",
       "    <tr>\n",
       "      <th>2</th>\n",
       "      <td>LG2ZaYiOgpr2DK_90pYjNw</td>\n",
       "      <td>V34qejxNsCbcgD8C0HVk-Q</td>\n",
       "      <td>HQl28KMwrEKHqhFrrDqVNQ</td>\n",
       "      <td>5</td>\n",
       "      <td>2015-12-05 03:18:11</td>\n",
       "    </tr>\n",
       "  </tbody>\n",
       "</table>\n",
       "</div>"
      ],
      "text/plain": [
       "                review_id                 user_id             business_id  \\\n",
       "0  xQY8N_XvtGbearJ5X4QryQ  OwjRMXRC0KyPrIlcjaXeFQ  -MhfebM0QIsKt87iDN-FNw   \n",
       "1  UmFMZ8PyXZTY2QcwzsfQYA  nIJD_7ZXHq-FX8byPMOkMQ  lbrU8StCq3yDfr-QMnGrmQ   \n",
       "2  LG2ZaYiOgpr2DK_90pYjNw  V34qejxNsCbcgD8C0HVk-Q  HQl28KMwrEKHqhFrrDqVNQ   \n",
       "\n",
       "   stars                 date  \n",
       "0      2  2015-04-15 05:21:16  \n",
       "1      1  2013-12-07 03:16:52  \n",
       "2      5  2015-12-05 03:18:11  "
      ]
     },
     "execution_count": 9,
     "metadata": {},
     "output_type": "execute_result"
    }
   ],
   "source": [
    "df_reviews.head(3)"
   ]
  },
  {
   "cell_type": "code",
   "execution_count": 10,
   "metadata": {},
   "outputs": [
    {
     "data": {
      "text/html": [
       "<div>\n",
       "<style scoped>\n",
       "    .dataframe tbody tr th:only-of-type {\n",
       "        vertical-align: middle;\n",
       "    }\n",
       "\n",
       "    .dataframe tbody tr th {\n",
       "        vertical-align: top;\n",
       "    }\n",
       "\n",
       "    .dataframe thead th {\n",
       "        text-align: right;\n",
       "    }\n",
       "</style>\n",
       "<table border=\"1\" class=\"dataframe\">\n",
       "  <thead>\n",
       "    <tr style=\"text-align: right;\">\n",
       "      <th></th>\n",
       "      <th>user_id</th>\n",
       "      <th>friend_list</th>\n",
       "    </tr>\n",
       "  </thead>\n",
       "  <tbody>\n",
       "    <tr>\n",
       "      <th>0</th>\n",
       "      <td>ntlvfPzc8eglqvk92iDIAw</td>\n",
       "      <td>[oeMvJh94PiGQnx_6GlndPQ, wm1z1PaJKvHgSDRKfwhfD...</td>\n",
       "    </tr>\n",
       "    <tr>\n",
       "      <th>1</th>\n",
       "      <td>FOBRPlBHa3WPHFB5qYDlVg</td>\n",
       "      <td>[ly7EnE8leJmyqyePVYFlug, pRlR63iDytsnnniPb3AOu...</td>\n",
       "    </tr>\n",
       "    <tr>\n",
       "      <th>2</th>\n",
       "      <td>zZUnPeh2hEp0WydbAZEOOg</td>\n",
       "      <td>[Uwlk0txjQBPw_JhHsQnyeg, Ybxr1tSCkv3lYA0I1qmnP...</td>\n",
       "    </tr>\n",
       "  </tbody>\n",
       "</table>\n",
       "</div>"
      ],
      "text/plain": [
       "                  user_id                                        friend_list\n",
       "0  ntlvfPzc8eglqvk92iDIAw  [oeMvJh94PiGQnx_6GlndPQ, wm1z1PaJKvHgSDRKfwhfD...\n",
       "1  FOBRPlBHa3WPHFB5qYDlVg  [ly7EnE8leJmyqyePVYFlug, pRlR63iDytsnnniPb3AOu...\n",
       "2  zZUnPeh2hEp0WydbAZEOOg  [Uwlk0txjQBPw_JhHsQnyeg, Ybxr1tSCkv3lYA0I1qmnP..."
      ]
     },
     "execution_count": 10,
     "metadata": {},
     "output_type": "execute_result"
    }
   ],
   "source": [
    "df_users.head(3)"
   ]
  },
  {
   "cell_type": "code",
   "execution_count": 11,
   "metadata": {},
   "outputs": [
    {
     "name": "stdout",
     "output_type": "stream",
     "text": [
      "There are 10000 businesses\n",
      "There are 10000 reviews\n",
      "There are 10000 users\n"
     ]
    }
   ],
   "source": [
    "print('There are', df_business.shape[0], 'businesses')\n",
    "print('There are', df_reviews.shape[0], 'reviews')\n",
    "print('There are', df_users.shape[0], 'users')"
   ]
  },
  {
   "cell_type": "markdown",
   "metadata": {},
   "source": [
    "For our study, we need to infer user's home, so we need **at least 3 reviews**. Also, we will study users with **at least 3 friends**.  "
   ]
  },
  {
   "cell_type": "code",
   "execution_count": 12,
   "metadata": {},
   "outputs": [],
   "source": [
    "# We count the number of reviewe per user\n",
    "df_numberOfReviews = df_reviews.groupby('user_id').count().drop(['business_id', 'stars', 'date'], axis = 1).rename(columns={'review_id': 'review_count'})"
   ]
  },
  {
   "cell_type": "code",
   "execution_count": 13,
   "metadata": {},
   "outputs": [],
   "source": [
    "# We merge the df_users dataset to the df_numberOfReviews dataset\n",
    "df_users = pd.merge(df_users, df_numberOfReviews, left_on='user_id', right_on='user_id', how='inner')"
   ]
  },
  {
   "cell_type": "code",
   "execution_count": 14,
   "metadata": {},
   "outputs": [],
   "source": [
    "# We create a mask for users with more than 3 friends\n",
    "mask = df_users.apply(lambda x: len(x.friend_list) >= 3, axis=1)"
   ]
  },
  {
   "cell_type": "code",
   "execution_count": 15,
   "metadata": {},
   "outputs": [
    {
     "name": "stdout",
     "output_type": "stream",
     "text": [
      "Number of users with more than 3 reviews: 59\n",
      "Number of users with more than 3 friends: 717\n"
     ]
    }
   ],
   "source": [
    "print('Number of users with more than 3 reviews:', df_numberOfReviews[df_numberOfReviews['review_count'] >= 3].shape[0])\n",
    "print('Number of users with more than 3 friends:', df_users[mask].shape[0])"
   ]
  },
  {
   "cell_type": "code",
   "execution_count": 16,
   "metadata": {},
   "outputs": [
    {
     "name": "stdout",
     "output_type": "stream",
     "text": [
      "Number of users with more than 4 reviews and with more than 3 friends: 26\n"
     ]
    }
   ],
   "source": [
    "# Select users that satisfy both conditions\n",
    "df_selectedUsers = df_users[mask&(df_users['review_count'] >= 3)]\n",
    "print('Number of users with more than 4 reviews and with more than 3 friends:', df_selectedUsers.shape[0])"
   ]
  },
  {
   "cell_type": "code",
   "execution_count": 17,
   "metadata": {},
   "outputs": [
    {
     "name": "stdout",
     "output_type": "stream",
     "text": [
      "Number of checkins of selected users: 98\n"
     ]
    }
   ],
   "source": [
    "# Number of checkins of the selected users\n",
    "print('Number of checkins of selected users:', df_selectedUsers['review_count'].sum())"
   ]
  },
  {
   "cell_type": "code",
   "execution_count": 18,
   "metadata": {},
   "outputs": [],
   "source": [
    "df_reviews = pd.merge(df_reviews, df_business, left_on='business_id', right_on='business_id', how='inner').drop(['state'], axis=1)"
   ]
  },
  {
   "cell_type": "markdown",
   "metadata": {},
   "source": [
    "# I. Find user's home"
   ]
  },
  {
   "cell_type": "code",
   "execution_count": 19,
   "metadata": {},
   "outputs": [],
   "source": [
    "# some constants\n",
    "ONE_DEGREE_LATITIDE_TO_KM = 111\n",
    "EARTH_RADIUS = 6371\n",
    "\n",
    "# GOAL: unction used to compute the square_id given two coordinate (latitude coordinate and longitude coordinate)\n",
    "# INPUT: Takes as input two float that represent the latitude and longitude (be aware that order matters!)\n",
    "# OUTPUT: Returns a string that is the id of the cell in which the two coordinates are located in\n",
    "# Explanations on this function are given in section I\n",
    "def getSquareIdString(lat, long):\n",
    "    lat_id = math.trunc(lat*ONE_DEGREE_LATITIDE_TO_KM/25.0)\n",
    "    long_id = math.trunc(math.pi/180*EARTH_RADIUS*math.cos(math.radians(lat))*long/25)\n",
    "    return str(lat_id)+'_'+str(long_id)\n",
    "\n",
    "# Transform the function used to compute the square_id to a numpy usable function \n",
    "# (i.e argumennts of the function can be passed as np.array)\n",
    "# This is done to improve efficiency by avoiding the use of an apply on a dataframe, which would cause a lot of overhead \n",
    "# when working with indices\n",
    "vect_GetSquareIdString = np.vectorize(getSquareIdString)"
   ]
  },
  {
   "cell_type": "code",
   "execution_count": 20,
   "metadata": {},
   "outputs": [],
   "source": [
    "# GOAL: compute the arc-distance between two points with format (latitude, longitude)\n",
    "# INPUT: Takes two np.array where the first element is the latitude and the second is the longitude (be aware that latitude is first!)\n",
    "# OUTPUT: return the distance bewteen the two given points\n",
    "# NOTE: this function was copied verbatim from: \n",
    "# https://stackoverflow.com/questions/15736995/how-can-i-quickly-estimate-the-distance-between-two-latitude-longitude-points\n",
    "def haversine(x1, x2):\n",
    "    \"\"\"\n",
    "    Calculate the great circle distance between two points \n",
    "    on the earth (specified in decimal degrees)\n",
    "    \"\"\"\n",
    "    # convert decimal degrees to radians \n",
    "    lon1, lat1, lon2, lat2 = map(radians, [x1[1], x1[0], x2[1], x2[0]])\n",
    "    # haversine formula \n",
    "    dlon = lon2 - lon1 \n",
    "    dlat = lat2 - lat1 \n",
    "    a = sin(dlat/2)**2 + cos(lat1) * cos(lat2) * sin(dlon/2)**2\n",
    "    c = 2 * asin(sqrt(a)) \n",
    "    # Radius of earth in kilometers is 6371\n",
    "    km = 6371* c\n",
    "    return km"
   ]
  },
  {
   "cell_type": "code",
   "execution_count": 21,
   "metadata": {},
   "outputs": [],
   "source": [
    "def getUserHome(df):\n",
    "    # we are using the column time as a counter for the pair (user_id, square_id)\n",
    "    # in the meantime, we are computing the mean latitude and longitude for each pair (user_id, square_id)\n",
    "    save = df.groupby(['user_id', 'square_id']).agg({\n",
    "        'date': 'count', \n",
    "        'latitude': ['mean'],\n",
    "        'longitude': ['mean']\n",
    "    }).reset_index()\n",
    "    \n",
    "    # we copy the counter of pair (user_id, square_id), the mean latitude, and mean longitude \n",
    "    # in new columns\n",
    "    save['count'] = save['date']['count']\n",
    "    save['latitude_home'] = save['latitude']['mean']\n",
    "    save['longitude_home'] = save['longitude']['mean']\n",
    "\n",
    "    # we drop the columns the we previously copied \n",
    "    save = save.drop([('date', 'count'), 'square_id', ('latitude', 'mean'), ('longitude', 'mean')], axis=1)\n",
    "    \n",
    "    # we keep only the square_id with the most count \n",
    "    save = save.loc[save.groupby('user_id')['count'].idxmax()]\n",
    "    \n",
    "    # we drop the column count as it will be of no use later\n",
    "    save = save.drop('count', axis=1)\n",
    "    return save"
   ]
  },
  {
   "cell_type": "code",
   "execution_count": 22,
   "metadata": {},
   "outputs": [],
   "source": [
    "df_reviews['square_id'] = vect_GetSquareIdString(df_reviews['latitude'].values, df_reviews['longitude'].values)\n"
   ]
  },
  {
   "cell_type": "code",
   "execution_count": 23,
   "metadata": {},
   "outputs": [
    {
     "name": "stderr",
     "output_type": "stream",
     "text": [
      "/home/x_x/anaconda3/lib/python3.7/site-packages/pandas/core/generic.py:3887: PerformanceWarning: dropping on a non-lexsorted multi-index without a level parameter may impact performance.\n",
      "  obj = obj._drop_axis(labels, axis, level=level, errors=errors)\n"
     ]
    }
   ],
   "source": [
    "df_homes = getUserHome(df_reviews)"
   ]
  },
  {
   "cell_type": "code",
   "execution_count": 24,
   "metadata": {},
   "outputs": [
    {
     "data": {
      "text/html": [
       "<div>\n",
       "<style scoped>\n",
       "    .dataframe tbody tr th:only-of-type {\n",
       "        vertical-align: middle;\n",
       "    }\n",
       "\n",
       "    .dataframe tbody tr th {\n",
       "        vertical-align: top;\n",
       "    }\n",
       "\n",
       "    .dataframe thead tr th {\n",
       "        text-align: left;\n",
       "    }\n",
       "</style>\n",
       "<table border=\"1\" class=\"dataframe\">\n",
       "  <thead>\n",
       "    <tr>\n",
       "      <th></th>\n",
       "      <th>user_id</th>\n",
       "      <th>latitude_home</th>\n",
       "      <th>longitude_home</th>\n",
       "    </tr>\n",
       "    <tr>\n",
       "      <th></th>\n",
       "      <th></th>\n",
       "      <th></th>\n",
       "      <th></th>\n",
       "    </tr>\n",
       "  </thead>\n",
       "  <tbody>\n",
       "    <tr>\n",
       "      <th>0</th>\n",
       "      <td>-00MbjbaOISrcuV7jOVRIg</td>\n",
       "      <td>33.493775</td>\n",
       "      <td>-111.925933</td>\n",
       "    </tr>\n",
       "    <tr>\n",
       "      <th>1</th>\n",
       "      <td>-0PMkrajJL2exxa-WB-Rog</td>\n",
       "      <td>43.145693</td>\n",
       "      <td>-89.246406</td>\n",
       "    </tr>\n",
       "    <tr>\n",
       "      <th>2</th>\n",
       "      <td>-2uUrtgM5fiOaCpQEnPv0g</td>\n",
       "      <td>41.111461</td>\n",
       "      <td>-81.465451</td>\n",
       "    </tr>\n",
       "    <tr>\n",
       "      <th>3</th>\n",
       "      <td>-3VGYEy97mcHSURNgAeUug</td>\n",
       "      <td>35.220842</td>\n",
       "      <td>-80.810279</td>\n",
       "    </tr>\n",
       "    <tr>\n",
       "      <th>4</th>\n",
       "      <td>-4G_Jo6EKowmALu-_S-p4Q</td>\n",
       "      <td>33.502771</td>\n",
       "      <td>-111.932108</td>\n",
       "    </tr>\n",
       "  </tbody>\n",
       "</table>\n",
       "</div>"
      ],
      "text/plain": [
       "                  user_id latitude_home longitude_home\n",
       "                                                      \n",
       "0  -00MbjbaOISrcuV7jOVRIg     33.493775    -111.925933\n",
       "1  -0PMkrajJL2exxa-WB-Rog     43.145693     -89.246406\n",
       "2  -2uUrtgM5fiOaCpQEnPv0g     41.111461     -81.465451\n",
       "3  -3VGYEy97mcHSURNgAeUug     35.220842     -80.810279\n",
       "4  -4G_Jo6EKowmALu-_S-p4Q     33.502771    -111.932108"
      ]
     },
     "execution_count": 24,
     "metadata": {},
     "output_type": "execute_result"
    }
   ],
   "source": [
    "df_homes.head()"
   ]
  },
  {
   "cell_type": "code",
   "execution_count": 25,
   "metadata": {},
   "outputs": [],
   "source": [
    "newframe = df_homes[['user_id']].copy()\n",
    "# Create a tuple of (latitude,longitude) for each check-in\n",
    "newframe['latlong'] = list(zip(df_homes['latitude_home'],df_homes['longitude_home']))\n",
    "# Create the dictionary mapping from cell_id to all check-ins done in the cell\n",
    "dict_user_home = newframe.groupby('user_id')['latlong'].apply(list).to_dict()"
   ]
  },
  {
   "cell_type": "code",
   "execution_count": null,
   "metadata": {},
   "outputs": [],
   "source": [
    "df_homes=> lat_home, long_home\n",
    "user_home_dict: id->(lat,long)"
   ]
  },
  {
   "cell_type": "code",
   "execution_count": 35,
   "metadata": {},
   "outputs": [],
   "source": [
    "df_reviews['reviewed_label'] = np.random.choice(3,len(df_reviews))"
   ]
  },
  {
   "cell_type": "code",
   "execution_count": 36,
   "metadata": {
    "scrolled": true
   },
   "outputs": [
    {
     "data": {
      "text/html": [
       "<div>\n",
       "<style scoped>\n",
       "    .dataframe tbody tr th:only-of-type {\n",
       "        vertical-align: middle;\n",
       "    }\n",
       "\n",
       "    .dataframe tbody tr th {\n",
       "        vertical-align: top;\n",
       "    }\n",
       "\n",
       "    .dataframe thead th {\n",
       "        text-align: right;\n",
       "    }\n",
       "</style>\n",
       "<table border=\"1\" class=\"dataframe\">\n",
       "  <thead>\n",
       "    <tr style=\"text-align: right;\">\n",
       "      <th></th>\n",
       "      <th>review_id</th>\n",
       "      <th>user_id</th>\n",
       "      <th>business_id</th>\n",
       "      <th>stars_x</th>\n",
       "      <th>date</th>\n",
       "      <th>latitude</th>\n",
       "      <th>longitude</th>\n",
       "      <th>stars_y</th>\n",
       "      <th>square_id</th>\n",
       "      <th>reviewed_label</th>\n",
       "    </tr>\n",
       "  </thead>\n",
       "  <tbody>\n",
       "    <tr>\n",
       "      <th>0</th>\n",
       "      <td>xQY8N_XvtGbearJ5X4QryQ</td>\n",
       "      <td>OwjRMXRC0KyPrIlcjaXeFQ</td>\n",
       "      <td>-MhfebM0QIsKt87iDN-FNw</td>\n",
       "      <td>2</td>\n",
       "      <td>2015-04-15 05:21:16</td>\n",
       "      <td>36.112896</td>\n",
       "      <td>-115.177637</td>\n",
       "      <td>3.5</td>\n",
       "      <td>160_-413</td>\n",
       "      <td>0</td>\n",
       "    </tr>\n",
       "    <tr>\n",
       "      <th>1</th>\n",
       "      <td>i6g_oA9Yf9Y31qt0wibXpw</td>\n",
       "      <td>ofKDkJKXSKZXu5xJNGiiBQ</td>\n",
       "      <td>5JxlZaqCnk1MnbgRirs40Q</td>\n",
       "      <td>1</td>\n",
       "      <td>2011-05-27 05:30:52</td>\n",
       "      <td>36.118343</td>\n",
       "      <td>-115.338821</td>\n",
       "      <td>3.5</td>\n",
       "      <td>160_-414</td>\n",
       "      <td>0</td>\n",
       "    </tr>\n",
       "    <tr>\n",
       "      <th>2</th>\n",
       "      <td>6TdNDKywdbjoTkizeMce8A</td>\n",
       "      <td>UgMW8bLE0QMJDCkQ1Ax5Mg</td>\n",
       "      <td>IS4cv902ykd8wj1TR0N3-A</td>\n",
       "      <td>4</td>\n",
       "      <td>2017-01-14 21:56:57</td>\n",
       "      <td>36.035068</td>\n",
       "      <td>-115.046353</td>\n",
       "      <td>3.5</td>\n",
       "      <td>159_-413</td>\n",
       "      <td>0</td>\n",
       "    </tr>\n",
       "  </tbody>\n",
       "</table>\n",
       "</div>"
      ],
      "text/plain": [
       "                review_id                 user_id             business_id  \\\n",
       "0  xQY8N_XvtGbearJ5X4QryQ  OwjRMXRC0KyPrIlcjaXeFQ  -MhfebM0QIsKt87iDN-FNw   \n",
       "1  i6g_oA9Yf9Y31qt0wibXpw  ofKDkJKXSKZXu5xJNGiiBQ  5JxlZaqCnk1MnbgRirs40Q   \n",
       "2  6TdNDKywdbjoTkizeMce8A  UgMW8bLE0QMJDCkQ1Ax5Mg  IS4cv902ykd8wj1TR0N3-A   \n",
       "\n",
       "   stars_x                 date   latitude   longitude  stars_y square_id  \\\n",
       "0        2  2015-04-15 05:21:16  36.112896 -115.177637      3.5  160_-413   \n",
       "1        1  2011-05-27 05:30:52  36.118343 -115.338821      3.5  160_-414   \n",
       "2        4  2017-01-14 21:56:57  36.035068 -115.046353      3.5  159_-413   \n",
       "\n",
       "   reviewed_label  \n",
       "0               0  \n",
       "1               0  \n",
       "2               0  "
      ]
     },
     "execution_count": 36,
     "metadata": {},
     "output_type": "execute_result"
    }
   ],
   "source": [
    "df_reviews[:3]"
   ]
  },
  {
   "cell_type": "code",
   "execution_count": null,
   "metadata": {},
   "outputs": [],
   "source": []
  },
  {
   "cell_type": "code",
   "execution_count": null,
   "metadata": {},
   "outputs": [],
   "source": [
    "# friend avoid"
   ]
  },
  {
   "cell_type": "code",
   "execution_count": null,
   "metadata": {},
   "outputs": [],
   "source": [
    "# friend recommended"
   ]
  },
  {
   "cell_type": "code",
   "execution_count": null,
   "metadata": {},
   "outputs": [],
   "source": []
  },
  {
   "cell_type": "code",
   "execution_count": null,
   "metadata": {},
   "outputs": [],
   "source": [
    "# mouth of effect"
   ]
  },
  {
   "cell_type": "code",
   "execution_count": 77,
   "metadata": {},
   "outputs": [
    {
     "data": {
      "text/html": [
       "<div>\n",
       "<style scoped>\n",
       "    .dataframe tbody tr th:only-of-type {\n",
       "        vertical-align: middle;\n",
       "    }\n",
       "\n",
       "    .dataframe tbody tr th {\n",
       "        vertical-align: top;\n",
       "    }\n",
       "\n",
       "    .dataframe thead th {\n",
       "        text-align: right;\n",
       "    }\n",
       "</style>\n",
       "<table border=\"1\" class=\"dataframe\">\n",
       "  <thead>\n",
       "    <tr style=\"text-align: right;\">\n",
       "      <th></th>\n",
       "      <th>user_id</th>\n",
       "      <th>latitude</th>\n",
       "      <th>longitude</th>\n",
       "      <th>reviewed_label</th>\n",
       "      <th>dist_checkin_home</th>\n",
       "    </tr>\n",
       "  </thead>\n",
       "  <tbody>\n",
       "    <tr>\n",
       "      <th>0</th>\n",
       "      <td>OwjRMXRC0KyPrIlcjaXeFQ</td>\n",
       "      <td>36.112896</td>\n",
       "      <td>-115.177637</td>\n",
       "      <td>0</td>\n",
       "      <td>0.0</td>\n",
       "    </tr>\n",
       "    <tr>\n",
       "      <th>1</th>\n",
       "      <td>ofKDkJKXSKZXu5xJNGiiBQ</td>\n",
       "      <td>36.118343</td>\n",
       "      <td>-115.338821</td>\n",
       "      <td>0</td>\n",
       "      <td>0.0</td>\n",
       "    </tr>\n",
       "  </tbody>\n",
       "</table>\n",
       "</div>"
      ],
      "text/plain": [
       "                  user_id   latitude   longitude  reviewed_label  \\\n",
       "0  OwjRMXRC0KyPrIlcjaXeFQ  36.112896 -115.177637               0   \n",
       "1  ofKDkJKXSKZXu5xJNGiiBQ  36.118343 -115.338821               0   \n",
       "\n",
       "   dist_checkin_home  \n",
       "0                0.0  \n",
       "1                0.0  "
      ]
     },
     "execution_count": 77,
     "metadata": {},
     "output_type": "execute_result"
    }
   ],
   "source": [
    "from math import radians, cos, sin, asin, sqrt\n",
    "# take rows with label 1 or 2\n",
    "df_friend_recommend = df_reviews[['user_id','latitude','longitude','reviewed_label']].copy()\n",
    "df_friend_recommend['dist_checkin_home'] = df_friend_recommend.apply(lambda row: haversine( dict_user_home.get(row['user_id'])[0],(row['latitude'],row['longitude']) ),axis=1)\n",
    "df_friend_recommend[:2]"
   ]
  },
  {
   "cell_type": "code",
   "execution_count": 78,
   "metadata": {},
   "outputs": [],
   "source": [
    "# define distance interval\n",
    "# List all distances between check-in location and user's home\n",
    "distances = df_friend_recommend['dist_checkin_home'].values\n",
    "# Prepare the distance groups for the plot\n",
    "number_distance_groups = 20\n",
    "interval_dist_min = 0.1\n",
    "interval_dist_max = max(distances)\n",
    "\n",
    "# Define non linear distance intervals\n",
    "interval_dist = np.geomspace(interval_dist_min , interval_dist_max, number_distance_groups)"
   ]
  },
  {
   "cell_type": "code",
   "execution_count": 79,
   "metadata": {
    "scrolled": true
   },
   "outputs": [
    {
     "data": {
      "text/html": [
       "<div>\n",
       "<style scoped>\n",
       "    .dataframe tbody tr th:only-of-type {\n",
       "        vertical-align: middle;\n",
       "    }\n",
       "\n",
       "    .dataframe tbody tr th {\n",
       "        vertical-align: top;\n",
       "    }\n",
       "\n",
       "    .dataframe thead th {\n",
       "        text-align: right;\n",
       "    }\n",
       "</style>\n",
       "<table border=\"1\" class=\"dataframe\">\n",
       "  <thead>\n",
       "    <tr style=\"text-align: right;\">\n",
       "      <th></th>\n",
       "      <th>user_id</th>\n",
       "      <th>latitude</th>\n",
       "      <th>longitude</th>\n",
       "      <th>reviewed_label</th>\n",
       "      <th>dist_checkin_home</th>\n",
       "      <th>id_groups</th>\n",
       "    </tr>\n",
       "  </thead>\n",
       "  <tbody>\n",
       "    <tr>\n",
       "      <th>0</th>\n",
       "      <td>OwjRMXRC0KyPrIlcjaXeFQ</td>\n",
       "      <td>36.112896</td>\n",
       "      <td>-115.177637</td>\n",
       "      <td>0</td>\n",
       "      <td>0.0</td>\n",
       "      <td>0</td>\n",
       "    </tr>\n",
       "    <tr>\n",
       "      <th>1</th>\n",
       "      <td>ofKDkJKXSKZXu5xJNGiiBQ</td>\n",
       "      <td>36.118343</td>\n",
       "      <td>-115.338821</td>\n",
       "      <td>0</td>\n",
       "      <td>0.0</td>\n",
       "      <td>0</td>\n",
       "    </tr>\n",
       "    <tr>\n",
       "      <th>2</th>\n",
       "      <td>UgMW8bLE0QMJDCkQ1Ax5Mg</td>\n",
       "      <td>36.035068</td>\n",
       "      <td>-115.046353</td>\n",
       "      <td>0</td>\n",
       "      <td>0.0</td>\n",
       "      <td>0</td>\n",
       "    </tr>\n",
       "    <tr>\n",
       "      <th>3</th>\n",
       "      <td>46TNf-5T5EcNFRJPYv_nrw</td>\n",
       "      <td>36.035068</td>\n",
       "      <td>-115.046353</td>\n",
       "      <td>0</td>\n",
       "      <td>0.0</td>\n",
       "      <td>0</td>\n",
       "    </tr>\n",
       "    <tr>\n",
       "      <th>4</th>\n",
       "      <td>OTGWjBCELxkZ6lpS2OEtxQ</td>\n",
       "      <td>36.035068</td>\n",
       "      <td>-115.046353</td>\n",
       "      <td>0</td>\n",
       "      <td>0.0</td>\n",
       "      <td>0</td>\n",
       "    </tr>\n",
       "  </tbody>\n",
       "</table>\n",
       "</div>"
      ],
      "text/plain": [
       "                  user_id   latitude   longitude  reviewed_label  \\\n",
       "0  OwjRMXRC0KyPrIlcjaXeFQ  36.112896 -115.177637               0   \n",
       "1  ofKDkJKXSKZXu5xJNGiiBQ  36.118343 -115.338821               0   \n",
       "2  UgMW8bLE0QMJDCkQ1Ax5Mg  36.035068 -115.046353               0   \n",
       "3  46TNf-5T5EcNFRJPYv_nrw  36.035068 -115.046353               0   \n",
       "4  OTGWjBCELxkZ6lpS2OEtxQ  36.035068 -115.046353               0   \n",
       "\n",
       "   dist_checkin_home  id_groups  \n",
       "0                0.0          0  \n",
       "1                0.0          0  \n",
       "2                0.0          0  \n",
       "3                0.0          0  \n",
       "4                0.0          0  "
      ]
     },
     "execution_count": 79,
     "metadata": {},
     "output_type": "execute_result"
    }
   ],
   "source": [
    "from bisect import bisect\n",
    "df_friend_recommend['id_groups'] = df_friend_recommend['dist_checkin_home'].apply(lambda x: bisect(interval_dist, x))\n",
    "df_friend_recommend.head()"
   ]
  },
  {
   "cell_type": "code",
   "execution_count": 70,
   "metadata": {},
   "outputs": [],
   "source": [
    "def compute_fractions(df,number_distance_groups):\n",
    "    grouped = df.groupby(['id_groups','reviewed_label']).count()['user_id'].reset_index()\n",
    "    grouped.rename(columns = {'user_id':'counts'},inplace=True)\n",
    "    dict_group_revlabel = grouped.groupby(['id_groups','reviewed_label'])['counts'].apply(list).apply(np.squeeze).to_dict()\n",
    "    \n",
    "    \n",
    "    good_reviews = []\n",
    "    bad_reviews = []\n",
    "    for group_id in range(number_distance_groups):\n",
    "        target_rows = np.where(df['id_groups']==group_id)[0]\n",
    "        tot = float(len(target_rows))\n",
    "        if(tot==0):\n",
    "            good_reviews.append(0)\n",
    "            bad_reviews.append(0)\n",
    "        else:\n",
    "            group_good = (dict_group_revlabel.get((group_id,2))or 0)\n",
    "            group_bad = (dict_group_revlabel.get((group_id,1))or 0)\n",
    "                  \n",
    "            good_reviews.append(group_good/tot) \n",
    "            bad_reviews.append(group_bad/tot)\n",
    "            \n",
    "            \n",
    "    \n",
    "    \"\"\"\n",
    "    df = df_[['id_groups','reviewed_label']].copy()\n",
    "    fractions = []\n",
    "    for group_id in range(number_distance_groups):\n",
    "        target_rows = np.where(df['id_groups']==group_id)[0]\n",
    "        \n",
    "        if(len(target_rows)==0):\n",
    "            fractions.append(0)\n",
    "        else:\n",
    "            good_reviews = np.where(df.iloc[target_rows]['reviewed_label']==2)[0]#np.where(df[target_rows][df['reviewed_lable']==2])[0]\n",
    "            \n",
    "            if (len(good_reviews)!=0):\n",
    "                fractions.append(len(good_reviews)/float(len(target_rows)))\n",
    "            else:\n",
    "                fractions.append(0)\n",
    "                \n",
    "        \"\"\"\n",
    "    return good_reviews,bad_reviews"
   ]
  },
  {
   "cell_type": "code",
   "execution_count": 85,
   "metadata": {
    "scrolled": true
   },
   "outputs": [
    {
     "data": {
      "text/plain": [
       "[0.6658514895509116,\n",
       " 0.5,\n",
       " 0,\n",
       " 0.8125,\n",
       " 0.7692307692307692,\n",
       " 0.4375,\n",
       " 0.5384615384615385,\n",
       " 0.6739130434782609,\n",
       " 0.6086956521739131,\n",
       " 0.625,\n",
       " 0.6896551724137931,\n",
       " 1.0,\n",
       " 1.0,\n",
       " 0,\n",
       " 0,\n",
       " 1.0,\n",
       " 0,\n",
       " 0,\n",
       " 0,\n",
       " 1.0]"
      ]
     },
     "execution_count": 85,
     "metadata": {},
     "output_type": "execute_result"
    }
   ],
   "source": [
    "# frend_recommend, friend_avoid\n",
    "good_reviews,bad_reviews = compute_fractions(df_friend_recommend,number_distance_groups+1)\n",
    "[good_reviews[i]+bad_reviews[i] for i in range(number_distance_groups)]"
   ]
  },
  {
   "cell_type": "code",
   "execution_count": 86,
   "metadata": {
    "scrolled": true
   },
   "outputs": [
    {
     "data": {
      "text/plain": [
       "[1.0,\n",
       " 1.0,\n",
       " 0,\n",
       " 1.0,\n",
       " 1.0,\n",
       " 1.0,\n",
       " 1.0,\n",
       " 1.0,\n",
       " 1.0,\n",
       " 1.0,\n",
       " 1.0,\n",
       " 1.0,\n",
       " 1.0,\n",
       " 0,\n",
       " 0,\n",
       " 1.0,\n",
       " 0,\n",
       " 0,\n",
       " 0,\n",
       " 1.0]"
      ]
     },
     "execution_count": 86,
     "metadata": {},
     "output_type": "execute_result"
    }
   ],
   "source": [
    "# words of mouth\n",
    "good_reviews_mouthEffect,bad_reviews_mouthEffect = compute_fractions(df_friend_recommend[df_friend_recommend['reviewed_label'] != 0],number_distance_groups+1)\n",
    "[good_reviews_mouthEffect[i]+bad_reviews_mouthEffect[i] for i in range(number_distance_groups)]"
   ]
  },
  {
   "cell_type": "code",
   "execution_count": 103,
   "metadata": {},
   "outputs": [
    {
     "data": {
      "image/png": "[encoded data removed]",
      "text/plain": [
       "<Figure size 864x432 with 1 Axes>"
      ]
     },
     "metadata": {
      "needs_background": "light"
     },
     "output_type": "display_data"
    }
   ],
   "source": [
    "plt.figure(figsize=(12, 6))\n",
    "# What I obtain previously, with the first P_null\n",
    "#plt.subplot(121)\n",
    "plt.plot(np.append(interval_dist,interval_dist[-1:]*1.1),good_reviews,'r*', markersize=10,label='Travel to a business recommended by a friend)')\n",
    "plt.plot(np.append(interval_dist,interval_dist[-1:]*1.1),bad_reviews,'bo', markersize=10,label='Travel to a business NOT recommended by a friend)')\n",
    "plt.xscale('log')\n",
    "plt.yscale('log')\n",
    "plt.ylabel(\"Porbability\")\n",
    "plt.xlabel(\"Check−in distance from home (km)\")\n",
    "plt.legend(loc=\"lower left\")\n",
    "plt.title(\"--TITLE TO DEFINE --\")\n",
    "\n",
    "plt.show()"
   ]
  },
  {
   "cell_type": "code",
   "execution_count": null,
   "metadata": {},
   "outputs": [],
   "source": []
  },
  {
   "cell_type": "markdown",
   "metadata": {},
   "source": [
    "### Study friend's ratings influence on mobility with respect to traveling distance\n",
    "##### 1. Friend recommend \n",
    "- the x-axis: the distance travelled \n",
    "- the y-axis: the probability to travel to distance d and traveling to a business recommended by a friend (i.e >= 3.5 stars)\n",
    "Attention: check that friend posted review prior to travelling date \n",
    "\n",
    "Sur la dataframe checkins à faire:\n",
    "- place reviewed label: reviewed by friend before (good review >= 3.5: 2, bad review < 3.5: 1, not reviewed: 0) <-- 1\n",
    "- place distance label: place label = distance to user's home <-- 2\n",
    "\n",
    "- group by distance, and for each group card(label 2)/card(group) <-- 2\n",
    "\n",
    "##### 2. Friend avoid \n",
    "- the x-axis: the distance travelled \n",
    "- the y-axis: the probability to travel to distance d and traveling to a business not recommended by a friend (i.e < 3.5 stars)\n",
    "\n",
    "\n",
    "### Words of mouth effect: \n",
    "Only on checkins that have been a reviewed by a friend before, study the probability to move to a well reviewed business with respect to distance \n",
    "- the x-axis: the distance travelled \n",
    "- the y-axis: the probability to travel to distance x and traveling to businesses (reviewed by a friend) and (with a rate greater or equal than 3.5)\n",
    "\n",
    "- group by distance, and for each group card(label 2)/[card(label 2) + card(label 1)] <-- 2"
   ]
  }
 ],
 "metadata": {
  "kernelspec": {
   "display_name": "Python 3",
   "language": "python",
   "name": "python3"
  },
  "language_info": {
   "codemirror_mode": {
    "name": "ipython",
    "version": 3
   },
   "file_extension": ".py",
   "mimetype": "text/x-python",
   "name": "python",
   "nbconvert_exporter": "python",
   "pygments_lexer": "ipython3",
   "version": "3.7.4"
  }
 },
 "nbformat": 4,
 "nbformat_minor": 4
}
