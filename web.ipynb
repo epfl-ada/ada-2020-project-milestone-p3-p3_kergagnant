{
 "cells": [
  {
   "cell_type": "markdown",
   "metadata": {},
   "source": [
    "# Import libraries"
   ]
  },
  {
   "cell_type": "code",
   "execution_count": 177,
   "metadata": {},
   "outputs": [],
   "source": [
    "import numpy as np\n",
    "import pandas as pd\n",
    "import plotly.io as pio\n",
    "import plotly.express as px\n",
    "import plotly.graph_objects as go"
   ]
  },
  {
   "cell_type": "markdown",
   "metadata": {},
   "source": [
    "# Load useful dataframes for interactive plots"
   ]
  },
  {
   "cell_type": "code",
   "execution_count": 183,
   "metadata": {},
   "outputs": [
    {
     "data": {
      "text/html": [
       "<div>\n",
       "<style scoped>\n",
       "    .dataframe tbody tr th:only-of-type {\n",
       "        vertical-align: middle;\n",
       "    }\n",
       "\n",
       "    .dataframe tbody tr th {\n",
       "        vertical-align: top;\n",
       "    }\n",
       "\n",
       "    .dataframe thead th {\n",
       "        text-align: right;\n",
       "    }\n",
       "</style>\n",
       "<table border=\"1\" class=\"dataframe\">\n",
       "  <thead>\n",
       "    <tr style=\"text-align: right;\">\n",
       "      <th></th>\n",
       "      <th>mon</th>\n",
       "      <th>tue</th>\n",
       "      <th>wed</th>\n",
       "      <th>thu</th>\n",
       "      <th>fri</th>\n",
       "      <th>sat</th>\n",
       "      <th>sun</th>\n",
       "      <th>allWeekDays</th>\n",
       "      <th>bucket</th>\n",
       "    </tr>\n",
       "  </thead>\n",
       "  <tbody>\n",
       "    <tr>\n",
       "      <th>0</th>\n",
       "      <td>0.762658</td>\n",
       "      <td>0.794944</td>\n",
       "      <td>0.741935</td>\n",
       "      <td>0.789286</td>\n",
       "      <td>0.782007</td>\n",
       "      <td>0.776173</td>\n",
       "      <td>0.830389</td>\n",
       "      <td>0.782094</td>\n",
       "      <td>0.100000</td>\n",
       "    </tr>\n",
       "    <tr>\n",
       "      <th>1</th>\n",
       "      <td>0.787020</td>\n",
       "      <td>0.754667</td>\n",
       "      <td>0.752195</td>\n",
       "      <td>0.779775</td>\n",
       "      <td>0.764254</td>\n",
       "      <td>0.741294</td>\n",
       "      <td>0.767365</td>\n",
       "      <td>0.764244</td>\n",
       "      <td>0.330530</td>\n",
       "    </tr>\n",
       "    <tr>\n",
       "      <th>2</th>\n",
       "      <td>0.758806</td>\n",
       "      <td>0.765931</td>\n",
       "      <td>0.764204</td>\n",
       "      <td>0.763565</td>\n",
       "      <td>0.764304</td>\n",
       "      <td>0.763861</td>\n",
       "      <td>0.764934</td>\n",
       "      <td>0.763594</td>\n",
       "      <td>1.092500</td>\n",
       "    </tr>\n",
       "    <tr>\n",
       "      <th>3</th>\n",
       "      <td>0.774574</td>\n",
       "      <td>0.771320</td>\n",
       "      <td>0.770966</td>\n",
       "      <td>0.780416</td>\n",
       "      <td>0.778295</td>\n",
       "      <td>0.777246</td>\n",
       "      <td>0.771028</td>\n",
       "      <td>0.774685</td>\n",
       "      <td>3.611038</td>\n",
       "    </tr>\n",
       "    <tr>\n",
       "      <th>4</th>\n",
       "      <td>0.773922</td>\n",
       "      <td>0.773409</td>\n",
       "      <td>0.779660</td>\n",
       "      <td>0.786511</td>\n",
       "      <td>0.778237</td>\n",
       "      <td>0.783960</td>\n",
       "      <td>0.776293</td>\n",
       "      <td>0.778660</td>\n",
       "      <td>11.935557</td>\n",
       "    </tr>\n",
       "  </tbody>\n",
       "</table>\n",
       "</div>"
      ],
      "text/plain": [
       "        mon       tue       wed       thu       fri       sat       sun  \\\n",
       "0  0.762658  0.794944  0.741935  0.789286  0.782007  0.776173  0.830389   \n",
       "1  0.787020  0.754667  0.752195  0.779775  0.764254  0.741294  0.767365   \n",
       "2  0.758806  0.765931  0.764204  0.763565  0.764304  0.763861  0.764934   \n",
       "3  0.774574  0.771320  0.770966  0.780416  0.778295  0.777246  0.771028   \n",
       "4  0.773922  0.773409  0.779660  0.786511  0.778237  0.783960  0.776293   \n",
       "\n",
       "   allWeekDays     bucket  \n",
       "0     0.782094   0.100000  \n",
       "1     0.764244   0.330530  \n",
       "2     0.763594   1.092500  \n",
       "3     0.774685   3.611038  \n",
       "4     0.778660  11.935557  "
      ]
     },
     "execution_count": 183,
     "metadata": {},
     "output_type": "execute_result"
    }
   ],
   "source": [
    "# Load dataframes for week day study\n",
    "df_bad = pd.read_csv('./for_plotting/bad_reviews_week.csv')\n",
    "df_good = pd.read_csv('./for_plotting/good_reviews_week.csv')\n",
    "# Show an example\n",
    "df_good.head()"
   ]
  },
  {
   "cell_type": "code",
   "execution_count": 198,
   "metadata": {},
   "outputs": [],
   "source": [
    "# Rename columns names for both dataframes\n",
    "df_good.rename(columns={'mon':'Monday','tue':'Tuesday','wed':'Wednesday','thu':'Thursday','fri':'Friday','sat':'Saturday','sun':'Sunday'},inplace=True)\n",
    "df_bad.rename(columns={'mon':'Monday','tue':'Tuesday','wed':'Wednesday','thu':'Thursday','fri':'Friday','sat':'Saturday','sun':'Sunday'},inplace=True)"
   ]
  },
  {
   "cell_type": "code",
   "execution_count": 199,
   "metadata": {},
   "outputs": [
    {
     "data": {
      "text/html": [
       "<div>\n",
       "<style scoped>\n",
       "    .dataframe tbody tr th:only-of-type {\n",
       "        vertical-align: middle;\n",
       "    }\n",
       "\n",
       "    .dataframe tbody tr th {\n",
       "        vertical-align: top;\n",
       "    }\n",
       "\n",
       "    .dataframe thead th {\n",
       "        text-align: right;\n",
       "    }\n",
       "</style>\n",
       "<table border=\"1\" class=\"dataframe\">\n",
       "  <thead>\n",
       "    <tr style=\"text-align: right;\">\n",
       "      <th></th>\n",
       "      <th>Automotive</th>\n",
       "      <th>Construction</th>\n",
       "      <th>Manufacturing</th>\n",
       "      <th>Legal</th>\n",
       "      <th>PersonalCare</th>\n",
       "      <th>Food</th>\n",
       "      <th>Education</th>\n",
       "      <th>Travel</th>\n",
       "      <th>Entertainment</th>\n",
       "      <th>RealEstate</th>\n",
       "      <th>Merchant</th>\n",
       "      <th>Computers</th>\n",
       "      <th>Sport</th>\n",
       "      <th>Health</th>\n",
       "      <th>BusinessSupport</th>\n",
       "      <th>Home</th>\n",
       "      <th>Miscellaneous</th>\n",
       "      <th>All Categories</th>\n",
       "    </tr>\n",
       "  </thead>\n",
       "  <tbody>\n",
       "    <tr>\n",
       "      <th>0</th>\n",
       "      <td>0.253165</td>\n",
       "      <td>0.307692</td>\n",
       "      <td>0.333333</td>\n",
       "      <td>0.333333</td>\n",
       "      <td>0.161905</td>\n",
       "      <td>0.200482</td>\n",
       "      <td>0.209302</td>\n",
       "      <td>0.353175</td>\n",
       "      <td>0.218509</td>\n",
       "      <td>0.467391</td>\n",
       "      <td>0.215517</td>\n",
       "      <td>0.434783</td>\n",
       "      <td>0.168831</td>\n",
       "      <td>0.109756</td>\n",
       "      <td>0.265487</td>\n",
       "      <td>0.388235</td>\n",
       "      <td>0.194030</td>\n",
       "      <td>0.217906</td>\n",
       "    </tr>\n",
       "    <tr>\n",
       "      <th>1</th>\n",
       "      <td>0.112500</td>\n",
       "      <td>0.129032</td>\n",
       "      <td>0.173913</td>\n",
       "      <td>0.187500</td>\n",
       "      <td>0.143824</td>\n",
       "      <td>0.234589</td>\n",
       "      <td>0.096491</td>\n",
       "      <td>0.248786</td>\n",
       "      <td>0.236539</td>\n",
       "      <td>0.178571</td>\n",
       "      <td>0.200793</td>\n",
       "      <td>0.250000</td>\n",
       "      <td>0.306977</td>\n",
       "      <td>0.200000</td>\n",
       "      <td>0.224332</td>\n",
       "      <td>0.178947</td>\n",
       "      <td>0.136905</td>\n",
       "      <td>0.235756</td>\n",
       "    </tr>\n",
       "    <tr>\n",
       "      <th>2</th>\n",
       "      <td>0.164324</td>\n",
       "      <td>0.201389</td>\n",
       "      <td>0.220833</td>\n",
       "      <td>0.259516</td>\n",
       "      <td>0.169061</td>\n",
       "      <td>0.238584</td>\n",
       "      <td>0.134417</td>\n",
       "      <td>0.252881</td>\n",
       "      <td>0.232272</td>\n",
       "      <td>0.235294</td>\n",
       "      <td>0.220236</td>\n",
       "      <td>0.258621</td>\n",
       "      <td>0.299046</td>\n",
       "      <td>0.205031</td>\n",
       "      <td>0.226807</td>\n",
       "      <td>0.225564</td>\n",
       "      <td>0.163808</td>\n",
       "      <td>0.236406</td>\n",
       "    </tr>\n",
       "    <tr>\n",
       "      <th>3</th>\n",
       "      <td>0.261383</td>\n",
       "      <td>0.204604</td>\n",
       "      <td>0.209979</td>\n",
       "      <td>0.232939</td>\n",
       "      <td>0.179231</td>\n",
       "      <td>0.226340</td>\n",
       "      <td>0.168168</td>\n",
       "      <td>0.302136</td>\n",
       "      <td>0.231334</td>\n",
       "      <td>0.244528</td>\n",
       "      <td>0.217799</td>\n",
       "      <td>0.293046</td>\n",
       "      <td>0.294460</td>\n",
       "      <td>0.193586</td>\n",
       "      <td>0.247063</td>\n",
       "      <td>0.218801</td>\n",
       "      <td>0.174878</td>\n",
       "      <td>0.225315</td>\n",
       "    </tr>\n",
       "    <tr>\n",
       "      <th>4</th>\n",
       "      <td>0.260403</td>\n",
       "      <td>0.190206</td>\n",
       "      <td>0.220178</td>\n",
       "      <td>0.230578</td>\n",
       "      <td>0.167509</td>\n",
       "      <td>0.222714</td>\n",
       "      <td>0.170499</td>\n",
       "      <td>0.278033</td>\n",
       "      <td>0.220481</td>\n",
       "      <td>0.283532</td>\n",
       "      <td>0.226722</td>\n",
       "      <td>0.368658</td>\n",
       "      <td>0.279634</td>\n",
       "      <td>0.188462</td>\n",
       "      <td>0.228904</td>\n",
       "      <td>0.241835</td>\n",
       "      <td>0.167913</td>\n",
       "      <td>0.221340</td>\n",
       "    </tr>\n",
       "  </tbody>\n",
       "</table>\n",
       "</div>"
      ],
      "text/plain": [
       "   Automotive  Construction  Manufacturing     Legal  PersonalCare      Food  \\\n",
       "0    0.253165      0.307692       0.333333  0.333333      0.161905  0.200482   \n",
       "1    0.112500      0.129032       0.173913  0.187500      0.143824  0.234589   \n",
       "2    0.164324      0.201389       0.220833  0.259516      0.169061  0.238584   \n",
       "3    0.261383      0.204604       0.209979  0.232939      0.179231  0.226340   \n",
       "4    0.260403      0.190206       0.220178  0.230578      0.167509  0.222714   \n",
       "\n",
       "   Education    Travel  Entertainment  RealEstate  Merchant  Computers  \\\n",
       "0   0.209302  0.353175       0.218509    0.467391  0.215517   0.434783   \n",
       "1   0.096491  0.248786       0.236539    0.178571  0.200793   0.250000   \n",
       "2   0.134417  0.252881       0.232272    0.235294  0.220236   0.258621   \n",
       "3   0.168168  0.302136       0.231334    0.244528  0.217799   0.293046   \n",
       "4   0.170499  0.278033       0.220481    0.283532  0.226722   0.368658   \n",
       "\n",
       "      Sport    Health  BusinessSupport      Home  Miscellaneous  \\\n",
       "0  0.168831  0.109756         0.265487  0.388235       0.194030   \n",
       "1  0.306977  0.200000         0.224332  0.178947       0.136905   \n",
       "2  0.299046  0.205031         0.226807  0.225564       0.163808   \n",
       "3  0.294460  0.193586         0.247063  0.218801       0.174878   \n",
       "4  0.279634  0.188462         0.228904  0.241835       0.167913   \n",
       "\n",
       "   All Categories  \n",
       "0        0.217906  \n",
       "1        0.235756  \n",
       "2        0.236406  \n",
       "3        0.225315  \n",
       "4        0.221340  "
      ]
     },
     "execution_count": 199,
     "metadata": {},
     "output_type": "execute_result"
    }
   ],
   "source": [
    "# Load dataframes for category study\n",
    "df_bad_cat = pd.read_csv('./for_plotting/bad_reviews_cat.csv')\n",
    "df_good_cat = pd.read_csv('./for_plotting/good_reviews_cat.csv')\n",
    "# Show an example\n",
    "df_bad_cat.head()"
   ]
  },
  {
   "cell_type": "markdown",
   "metadata": {},
   "source": [
    "# Create the interactive plot for week day study"
   ]
  },
  {
   "cell_type": "code",
   "execution_count": 200,
   "metadata": {},
   "outputs": [],
   "source": [
    "def set_visible(idx,N):\n",
    "    \"\"\"\n",
    "        Return mask \n",
    "    \"\"\"\n",
    "    a = np.zeros(2*N)\n",
    "    a[2*idx]=True\n",
    "    a[2*idx+1]=True\n",
    "    a = a>0\n",
    "    return list(a.copy())"
   ]
  },
  {
   "cell_type": "code",
   "execution_count": 201,
   "metadata": {},
   "outputs": [],
   "source": [
    "def list_dict(col_names,N):\n",
    "    \"\"\"\n",
    "    \n",
    "    \"\"\"\n",
    "    # Initialize the array\n",
    "    res = []\n",
    "    # Plot all weekdays\n",
    "    res.append(dict(label=\"Plot all weekdays\",\n",
    "                     method=\"update\",\n",
    "                     args=[{\"visible\": list(np.ones(N))},\n",
    "                           {\"title\": \"Plot all weekdays\"}]))\n",
    "    # Add each week day\n",
    "    for idx,i in enumerate(col_names): \n",
    "        res.append(dict(label=i,\n",
    "                         method=\"update\",\n",
    "                         args=[{\"visible\": set_visible(idx,N)},\n",
    "                               {\"title\": i}]))\n",
    "\n",
    "    return list(res)"
   ]
  },
  {
   "cell_type": "code",
   "execution_count": 202,
   "metadata": {},
   "outputs": [],
   "source": [
    "# Define distance groups\n",
    "bucket = df_good['bucket'].values\n",
    "# Define x axis of the plot\n",
    "col_names = df_bad.columns[:len(df_bad.columns)-1]"
   ]
  },
  {
   "cell_type": "code",
   "execution_count": 209,
   "metadata": {},
   "outputs": [
    {
     "data": {
      "application/vnd.plotly.v1+json": {
       "config": {
        "plotlyServerURL": "https://plot.ly"
       },
       "data": [
        {
         "line": {
          "color": "#33CFA1"
         },
         "name": "Monday good review",
         "type": "scatter",
         "x": [
          0.1,
          0.3305298396179653,
          1.092499748778779,
          3.6110376674651734,
          11.935557010816956,
          39.4505774453641,
          130.39593035852323,
          430.9974594823805,
          1424.5752115846176,
          4708.64616208793
         ],
         "y": [
          0.7626582278481012,
          0.7870201096892139,
          0.7588063374865406,
          0.7745737845904791,
          0.7739223889763175,
          0.766357112705783,
          0.7682619647355163,
          0.7592039800995025,
          0.8040345821325648,
          0.8006872852233677
         ]
        },
        {
         "line": {
          "color": "#F06A64"
         },
         "name": "Monday bad review",
         "type": "scatter",
         "x": [
          0.1,
          0.3305298396179653,
          1.092499748778779,
          3.6110376674651734,
          11.935557010816956,
          39.4505774453641,
          130.39593035852323,
          430.9974594823805,
          1424.5752115846176,
          4708.64616208793
         ],
         "y": [
          0.2373417721518987,
          0.2129798903107861,
          0.2411936625134595,
          0.2254262154095209,
          0.2260776110236825,
          0.2336428872942169,
          0.23173803526448364,
          0.2407960199004975,
          0.19596541786743515,
          0.19931271477663232
         ]
        },
        {
         "line": {
          "color": "#33CFA1"
         },
         "name": "Tuesday good review",
         "type": "scatter",
         "x": [
          0.1,
          0.3305298396179653,
          1.092499748778779,
          3.6110376674651734,
          11.935557010816956,
          39.4505774453641,
          130.39593035852323,
          430.9974594823805,
          1424.5752115846176,
          4708.64616208793
         ],
         "y": [
          0.7949438202247191,
          0.7546666666666667,
          0.7659309916070873,
          0.7713203116661329,
          0.7734094009673819,
          0.7656434940424525,
          0.726027397260274,
          0.7613390928725702,
          0.8482142857142857,
          0.7777777777777778
         ]
        },
        {
         "line": {
          "color": "#F06A64"
         },
         "name": "Tuesday bad review",
         "type": "scatter",
         "x": [
          0.1,
          0.3305298396179653,
          1.092499748778779,
          3.6110376674651734,
          11.935557010816956,
          39.4505774453641,
          130.39593035852323,
          430.9974594823805,
          1424.5752115846176,
          4708.64616208793
         ],
         "y": [
          0.2050561797752809,
          0.2453333333333333,
          0.23406900839291264,
          0.228679688333867,
          0.2265905990326181,
          0.2343565059575476,
          0.273972602739726,
          0.2386609071274298,
          0.15178571428571427,
          0.2222222222222222
         ]
        },
        {
         "line": {
          "color": "#33CFA1"
         },
         "name": "Wednesday good review",
         "type": "scatter",
         "x": [
          0.1,
          0.3305298396179653,
          1.092499748778779,
          3.6110376674651734,
          11.935557010816956,
          39.4505774453641,
          130.39593035852323,
          430.9974594823805,
          1424.5752115846176,
          4708.64616208793
         ],
         "y": [
          0.7419354838709677,
          0.7521951219512195,
          0.7642040882021568,
          0.7709660297239915,
          0.7796596063418085,
          0.7713310580204779,
          0.8145896656534954,
          0.7853982300884956,
          0.8324175824175825,
          0.7574626865671642
         ]
        },
        {
         "line": {
          "color": "#F06A64"
         },
         "name": "Wednesday bad review",
         "type": "scatter",
         "x": [
          0.1,
          0.3305298396179653,
          1.092499748778779,
          3.6110376674651734,
          11.935557010816956,
          39.4505774453641,
          130.39593035852323,
          430.9974594823805,
          1424.5752115846176,
          4708.64616208793
         ],
         "y": [
          0.25806451612903225,
          0.2478048780487805,
          0.2357959117978433,
          0.2290339702760085,
          0.2203403936581915,
          0.2286689419795221,
          0.18541033434650456,
          0.21460176991150445,
          0.16758241758241754,
          0.24253731343283585
         ]
        },
        {
         "line": {
          "color": "#33CFA1"
         },
         "name": "Thursday good review",
         "type": "scatter",
         "x": [
          0.1,
          0.3305298396179653,
          1.092499748778779,
          3.6110376674651734,
          11.935557010816956,
          39.4505774453641,
          130.39593035852323,
          430.9974594823805,
          1424.5752115846176,
          4708.64616208793
         ],
         "y": [
          0.7892857142857143,
          0.7797752808988764,
          0.7635652019213663,
          0.7804161143449945,
          0.7865113372612034,
          0.7707978179338562,
          0.8339622641509434,
          0.7903030303030303,
          0.8207885304659498,
          0.8
         ]
        },
        {
         "line": {
          "color": "#F06A64"
         },
         "name": "Thursday bad review",
         "type": "scatter",
         "x": [
          0.1,
          0.3305298396179653,
          1.092499748778779,
          3.6110376674651734,
          11.935557010816956,
          39.4505774453641,
          130.39593035852323,
          430.9974594823805,
          1424.5752115846176,
          4708.64616208793
         ],
         "y": [
          0.2107142857142857,
          0.2202247191011236,
          0.2364347980786337,
          0.21958388565500547,
          0.21348866273879666,
          0.2292021820661439,
          0.1660377358490566,
          0.2096969696969697,
          0.17921146953405018,
          0.2
         ]
        },
        {
         "line": {
          "color": "#33CFA1"
         },
         "name": "Friday good review",
         "type": "scatter",
         "x": [
          0.1,
          0.3305298396179653,
          1.092499748778779,
          3.6110376674651734,
          11.935557010816956,
          39.4505774453641,
          130.39593035852323,
          430.9974594823805,
          1424.5752115846176,
          4708.64616208793
         ],
         "y": [
          0.7820069204152249,
          0.7642543859649122,
          0.7643041712809154,
          0.7782951289398281,
          0.7782373528475979,
          0.7728141839040501,
          0.8198757763975155,
          0.7781908302354399,
          0.8178137651821862,
          0.7977044476327116
         ]
        },
        {
         "line": {
          "color": "#F06A64"
         },
         "name": "Friday bad review",
         "type": "scatter",
         "x": [
          0.1,
          0.3305298396179653,
          1.092499748778779,
          3.6110376674651734,
          11.935557010816956,
          39.4505774453641,
          130.39593035852323,
          430.9974594823805,
          1424.5752115846176,
          4708.64616208793
         ],
         "y": [
          0.2179930795847751,
          0.2357456140350877,
          0.2356958287190845,
          0.22170487106017192,
          0.22176264715240213,
          0.22718581609595,
          0.18012422360248448,
          0.2218091697645601,
          0.18218623481781376,
          0.2022955523672884
         ]
        },
        {
         "line": {
          "color": "#33CFA1"
         },
         "name": "Saturday good review",
         "type": "scatter",
         "x": [
          0.1,
          0.3305298396179653,
          1.092499748778779,
          3.6110376674651734,
          11.935557010816956,
          39.4505774453641,
          130.39593035852323,
          430.9974594823805,
          1424.5752115846176,
          4708.64616208793
         ],
         "y": [
          0.7761732851985559,
          0.7412935323383084,
          0.7638611886717191,
          0.777246112195429,
          0.7839602808963636,
          0.7744435284418797,
          0.7826086956521741,
          0.7785234899328859,
          0.8168498168498168,
          0.7535014005602241
         ]
        },
        {
         "line": {
          "color": "#F06A64"
         },
         "name": "Saturday bad review",
         "type": "scatter",
         "x": [
          0.1,
          0.3305298396179653,
          1.092499748778779,
          3.6110376674651734,
          11.935557010816956,
          39.4505774453641,
          130.39593035852323,
          430.9974594823805,
          1424.5752115846176,
          4708.64616208793
         ],
         "y": [
          0.2238267148014441,
          0.25870646766169153,
          0.2361388113282808,
          0.22275388780457087,
          0.21603971910363645,
          0.2255564715581204,
          0.21739130434782608,
          0.2214765100671141,
          0.18315018315018314,
          0.2464985994397759
         ]
        },
        {
         "line": {
          "color": "#33CFA1"
         },
         "name": "Sunday good review",
         "type": "scatter",
         "x": [
          0.1,
          0.3305298396179653,
          1.092499748778779,
          3.6110376674651734,
          11.935557010816956,
          39.4505774453641,
          130.39593035852323,
          430.9974594823805,
          1424.5752115846176,
          4708.64616208793
         ],
         "y": [
          0.8303886925795053,
          0.7673649393605292,
          0.7649336283185841,
          0.7710282992434856,
          0.7762934861570748,
          0.7750316385021959,
          0.8191214470284238,
          0.7615571776155717,
          0.8556701030927835,
          0.7672955974842768
         ]
        },
        {
         "line": {
          "color": "#F06A64"
         },
         "name": "Sunday bad review",
         "type": "scatter",
         "x": [
          0.1,
          0.3305298396179653,
          1.092499748778779,
          3.6110376674651734,
          11.935557010816956,
          39.4505774453641,
          130.39593035852323,
          430.9974594823805,
          1424.5752115846176,
          4708.64616208793
         ],
         "y": [
          0.1696113074204947,
          0.2326350606394708,
          0.2350663716814159,
          0.2289717007565145,
          0.2237065138429252,
          0.22496836149780391,
          0.18087855297157626,
          0.2384428223844282,
          0.14432989690721648,
          0.2327044025157233
         ]
        },
        {
         "line": {
          "color": "#33CFA1"
         },
         "name": "allWeekDays good review",
         "type": "scatter",
         "x": [
          0.1,
          0.3305298396179653,
          1.092499748778779,
          3.6110376674651734,
          11.935557010816956,
          39.4505774453641,
          130.39593035852323,
          430.9974594823805,
          1424.5752115846176,
          4708.64616208793
         ],
         "y": [
          0.7820937944102321,
          0.7642444871984608,
          0.7635938461538462,
          0.7746852431776059,
          0.7786602980465946,
          0.7708269620668955,
          0.7943768359211079,
          0.7729532648326152,
          0.8282639213851193,
          0.7794744318181818
         ]
        },
        {
         "line": {
          "color": "#F06A64"
         },
         "name": "allWeekDays bad review",
         "type": "scatter",
         "x": [
          0.1,
          0.3305298396179653,
          1.092499748778779,
          3.6110376674651734,
          11.935557010816956,
          39.4505774453641,
          130.39593035852323,
          430.9974594823805,
          1424.5752115846176,
          4708.64616208793
         ],
         "y": [
          0.2179062055897679,
          0.23575551280153914,
          0.23640615384615385,
          0.2253147568223941,
          0.22133970195340533,
          0.2291730379331045,
          0.2056231640788921,
          0.2270467351673849,
          0.17173607861488066,
          0.22052556818181812
         ]
        }
       ],
       "layout": {
        "template": {
         "data": {
          "bar": [
           {
            "error_x": {
             "color": "#2a3f5f"
            },
            "error_y": {
             "color": "#2a3f5f"
            },
            "marker": {
             "line": {
              "color": "#E5ECF6",
              "width": 0.5
             }
            },
            "type": "bar"
           }
          ],
          "barpolar": [
           {
            "marker": {
             "line": {
              "color": "#E5ECF6",
              "width": 0.5
             }
            },
            "type": "barpolar"
           }
          ],
          "carpet": [
           {
            "aaxis": {
             "endlinecolor": "#2a3f5f",
             "gridcolor": "white",
             "linecolor": "white",
             "minorgridcolor": "white",
             "startlinecolor": "#2a3f5f"
            },
            "baxis": {
             "endlinecolor": "#2a3f5f",
             "gridcolor": "white",
             "linecolor": "white",
             "minorgridcolor": "white",
             "startlinecolor": "#2a3f5f"
            },
            "type": "carpet"
           }
          ],
          "choropleth": [
           {
            "colorbar": {
             "outlinewidth": 0,
             "ticks": ""
            },
            "type": "choropleth"
           }
          ],
          "contour": [
           {
            "colorbar": {
             "outlinewidth": 0,
             "ticks": ""
            },
            "colorscale": [
             [
              0,
              "#0d0887"
             ],
             [
              0.1111111111111111,
              "#46039f"
             ],
             [
              0.2222222222222222,
              "#7201a8"
             ],
             [
              0.3333333333333333,
              "#9c179e"
             ],
             [
              0.4444444444444444,
              "#bd3786"
             ],
             [
              0.5555555555555556,
              "#d8576b"
             ],
             [
              0.6666666666666666,
              "#ed7953"
             ],
             [
              0.7777777777777778,
              "#fb9f3a"
             ],
             [
              0.8888888888888888,
              "#fdca26"
             ],
             [
              1,
              "#f0f921"
             ]
            ],
            "type": "contour"
           }
          ],
          "contourcarpet": [
           {
            "colorbar": {
             "outlinewidth": 0,
             "ticks": ""
            },
            "type": "contourcarpet"
           }
          ],
          "heatmap": [
           {
            "colorbar": {
             "outlinewidth": 0,
             "ticks": ""
            },
            "colorscale": [
             [
              0,
              "#0d0887"
             ],
             [
              0.1111111111111111,
              "#46039f"
             ],
             [
              0.2222222222222222,
              "#7201a8"
             ],
             [
              0.3333333333333333,
              "#9c179e"
             ],
             [
              0.4444444444444444,
              "#bd3786"
             ],
             [
              0.5555555555555556,
              "#d8576b"
             ],
             [
              0.6666666666666666,
              "#ed7953"
             ],
             [
              0.7777777777777778,
              "#fb9f3a"
             ],
             [
              0.8888888888888888,
              "#fdca26"
             ],
             [
              1,
              "#f0f921"
             ]
            ],
            "type": "heatmap"
           }
          ],
          "heatmapgl": [
           {
            "colorbar": {
             "outlinewidth": 0,
             "ticks": ""
            },
            "colorscale": [
             [
              0,
              "#0d0887"
             ],
             [
              0.1111111111111111,
              "#46039f"
             ],
             [
              0.2222222222222222,
              "#7201a8"
             ],
             [
              0.3333333333333333,
              "#9c179e"
             ],
             [
              0.4444444444444444,
              "#bd3786"
             ],
             [
              0.5555555555555556,
              "#d8576b"
             ],
             [
              0.6666666666666666,
              "#ed7953"
             ],
             [
              0.7777777777777778,
              "#fb9f3a"
             ],
             [
              0.8888888888888888,
              "#fdca26"
             ],
             [
              1,
              "#f0f921"
             ]
            ],
            "type": "heatmapgl"
           }
          ],
          "histogram": [
           {
            "marker": {
             "colorbar": {
              "outlinewidth": 0,
              "ticks": ""
             }
            },
            "type": "histogram"
           }
          ],
          "histogram2d": [
           {
            "colorbar": {
             "outlinewidth": 0,
             "ticks": ""
            },
            "colorscale": [
             [
              0,
              "#0d0887"
             ],
             [
              0.1111111111111111,
              "#46039f"
             ],
             [
              0.2222222222222222,
              "#7201a8"
             ],
             [
              0.3333333333333333,
              "#9c179e"
             ],
             [
              0.4444444444444444,
              "#bd3786"
             ],
             [
              0.5555555555555556,
              "#d8576b"
             ],
             [
              0.6666666666666666,
              "#ed7953"
             ],
             [
              0.7777777777777778,
              "#fb9f3a"
             ],
             [
              0.8888888888888888,
              "#fdca26"
             ],
             [
              1,
              "#f0f921"
             ]
            ],
            "type": "histogram2d"
           }
          ],
          "histogram2dcontour": [
           {
            "colorbar": {
             "outlinewidth": 0,
             "ticks": ""
            },
            "colorscale": [
             [
              0,
              "#0d0887"
             ],
             [
              0.1111111111111111,
              "#46039f"
             ],
             [
              0.2222222222222222,
              "#7201a8"
             ],
             [
              0.3333333333333333,
              "#9c179e"
             ],
             [
              0.4444444444444444,
              "#bd3786"
             ],
             [
              0.5555555555555556,
              "#d8576b"
             ],
             [
              0.6666666666666666,
              "#ed7953"
             ],
             [
              0.7777777777777778,
              "#fb9f3a"
             ],
             [
              0.8888888888888888,
              "#fdca26"
             ],
             [
              1,
              "#f0f921"
             ]
            ],
            "type": "histogram2dcontour"
           }
          ],
          "mesh3d": [
           {
            "colorbar": {
             "outlinewidth": 0,
             "ticks": ""
            },
            "type": "mesh3d"
           }
          ],
          "parcoords": [
           {
            "line": {
             "colorbar": {
              "outlinewidth": 0,
              "ticks": ""
             }
            },
            "type": "parcoords"
           }
          ],
          "pie": [
           {
            "automargin": true,
            "type": "pie"
           }
          ],
          "scatter": [
           {
            "marker": {
             "colorbar": {
              "outlinewidth": 0,
              "ticks": ""
             }
            },
            "type": "scatter"
           }
          ],
          "scatter3d": [
           {
            "line": {
             "colorbar": {
              "outlinewidth": 0,
              "ticks": ""
             }
            },
            "marker": {
             "colorbar": {
              "outlinewidth": 0,
              "ticks": ""
             }
            },
            "type": "scatter3d"
           }
          ],
          "scattercarpet": [
           {
            "marker": {
             "colorbar": {
              "outlinewidth": 0,
              "ticks": ""
             }
            },
            "type": "scattercarpet"
           }
          ],
          "scattergeo": [
           {
            "marker": {
             "colorbar": {
              "outlinewidth": 0,
              "ticks": ""
             }
            },
            "type": "scattergeo"
           }
          ],
          "scattergl": [
           {
            "marker": {
             "colorbar": {
              "outlinewidth": 0,
              "ticks": ""
             }
            },
            "type": "scattergl"
           }
          ],
          "scattermapbox": [
           {
            "marker": {
             "colorbar": {
              "outlinewidth": 0,
              "ticks": ""
             }
            },
            "type": "scattermapbox"
           }
          ],
          "scatterpolar": [
           {
            "marker": {
             "colorbar": {
              "outlinewidth": 0,
              "ticks": ""
             }
            },
            "type": "scatterpolar"
           }
          ],
          "scatterpolargl": [
           {
            "marker": {
             "colorbar": {
              "outlinewidth": 0,
              "ticks": ""
             }
            },
            "type": "scatterpolargl"
           }
          ],
          "scatterternary": [
           {
            "marker": {
             "colorbar": {
              "outlinewidth": 0,
              "ticks": ""
             }
            },
            "type": "scatterternary"
           }
          ],
          "surface": [
           {
            "colorbar": {
             "outlinewidth": 0,
             "ticks": ""
            },
            "colorscale": [
             [
              0,
              "#0d0887"
             ],
             [
              0.1111111111111111,
              "#46039f"
             ],
             [
              0.2222222222222222,
              "#7201a8"
             ],
             [
              0.3333333333333333,
              "#9c179e"
             ],
             [
              0.4444444444444444,
              "#bd3786"
             ],
             [
              0.5555555555555556,
              "#d8576b"
             ],
             [
              0.6666666666666666,
              "#ed7953"
             ],
             [
              0.7777777777777778,
              "#fb9f3a"
             ],
             [
              0.8888888888888888,
              "#fdca26"
             ],
             [
              1,
              "#f0f921"
             ]
            ],
            "type": "surface"
           }
          ],
          "table": [
           {
            "cells": {
             "fill": {
              "color": "#EBF0F8"
             },
             "line": {
              "color": "white"
             }
            },
            "header": {
             "fill": {
              "color": "#C8D4E3"
             },
             "line": {
              "color": "white"
             }
            },
            "type": "table"
           }
          ]
         },
         "layout": {
          "annotationdefaults": {
           "arrowcolor": "#2a3f5f",
           "arrowhead": 0,
           "arrowwidth": 1
          },
          "autotypenumbers": "strict",
          "coloraxis": {
           "colorbar": {
            "outlinewidth": 0,
            "ticks": ""
           }
          },
          "colorscale": {
           "diverging": [
            [
             0,
             "#8e0152"
            ],
            [
             0.1,
             "#c51b7d"
            ],
            [
             0.2,
             "#de77ae"
            ],
            [
             0.3,
             "#f1b6da"
            ],
            [
             0.4,
             "#fde0ef"
            ],
            [
             0.5,
             "#f7f7f7"
            ],
            [
             0.6,
             "#e6f5d0"
            ],
            [
             0.7,
             "#b8e186"
            ],
            [
             0.8,
             "#7fbc41"
            ],
            [
             0.9,
             "#4d9221"
            ],
            [
             1,
             "#276419"
            ]
           ],
           "sequential": [
            [
             0,
             "#0d0887"
            ],
            [
             0.1111111111111111,
             "#46039f"
            ],
            [
             0.2222222222222222,
             "#7201a8"
            ],
            [
             0.3333333333333333,
             "#9c179e"
            ],
            [
             0.4444444444444444,
             "#bd3786"
            ],
            [
             0.5555555555555556,
             "#d8576b"
            ],
            [
             0.6666666666666666,
             "#ed7953"
            ],
            [
             0.7777777777777778,
             "#fb9f3a"
            ],
            [
             0.8888888888888888,
             "#fdca26"
            ],
            [
             1,
             "#f0f921"
            ]
           ],
           "sequentialminus": [
            [
             0,
             "#0d0887"
            ],
            [
             0.1111111111111111,
             "#46039f"
            ],
            [
             0.2222222222222222,
             "#7201a8"
            ],
            [
             0.3333333333333333,
             "#9c179e"
            ],
            [
             0.4444444444444444,
             "#bd3786"
            ],
            [
             0.5555555555555556,
             "#d8576b"
            ],
            [
             0.6666666666666666,
             "#ed7953"
            ],
            [
             0.7777777777777778,
             "#fb9f3a"
            ],
            [
             0.8888888888888888,
             "#fdca26"
            ],
            [
             1,
             "#f0f921"
            ]
           ]
          },
          "colorway": [
           "#636efa",
           "#EF553B",
           "#00cc96",
           "#ab63fa",
           "#FFA15A",
           "#19d3f3",
           "#FF6692",
           "#B6E880",
           "#FF97FF",
           "#FECB52"
          ],
          "font": {
           "color": "#2a3f5f"
          },
          "geo": {
           "bgcolor": "white",
           "lakecolor": "white",
           "landcolor": "#E5ECF6",
           "showlakes": true,
           "showland": true,
           "subunitcolor": "white"
          },
          "hoverlabel": {
           "align": "left"
          },
          "hovermode": "closest",
          "mapbox": {
           "style": "light"
          },
          "paper_bgcolor": "white",
          "plot_bgcolor": "#E5ECF6",
          "polar": {
           "angularaxis": {
            "gridcolor": "white",
            "linecolor": "white",
            "ticks": ""
           },
           "bgcolor": "#E5ECF6",
           "radialaxis": {
            "gridcolor": "white",
            "linecolor": "white",
            "ticks": ""
           }
          },
          "scene": {
           "xaxis": {
            "backgroundcolor": "#E5ECF6",
            "gridcolor": "white",
            "gridwidth": 2,
            "linecolor": "white",
            "showbackground": true,
            "ticks": "",
            "zerolinecolor": "white"
           },
           "yaxis": {
            "backgroundcolor": "#E5ECF6",
            "gridcolor": "white",
            "gridwidth": 2,
            "linecolor": "white",
            "showbackground": true,
            "ticks": "",
            "zerolinecolor": "white"
           },
           "zaxis": {
            "backgroundcolor": "#E5ECF6",
            "gridcolor": "white",
            "gridwidth": 2,
            "linecolor": "white",
            "showbackground": true,
            "ticks": "",
            "zerolinecolor": "white"
           }
          },
          "shapedefaults": {
           "line": {
            "color": "#2a3f5f"
           }
          },
          "ternary": {
           "aaxis": {
            "gridcolor": "white",
            "linecolor": "white",
            "ticks": ""
           },
           "baxis": {
            "gridcolor": "white",
            "linecolor": "white",
            "ticks": ""
           },
           "bgcolor": "#E5ECF6",
           "caxis": {
            "gridcolor": "white",
            "linecolor": "white",
            "ticks": ""
           }
          },
          "title": {
           "x": 0.05
          },
          "xaxis": {
           "automargin": true,
           "gridcolor": "white",
           "linecolor": "white",
           "ticks": "",
           "title": {
            "standoff": 15
           },
           "zerolinecolor": "white",
           "zerolinewidth": 2
          },
          "yaxis": {
           "automargin": true,
           "gridcolor": "white",
           "linecolor": "white",
           "ticks": "",
           "title": {
            "standoff": 15
           },
           "zerolinecolor": "white",
           "zerolinewidth": 2
          }
         }
        },
        "title": {
         "text": "Distance travelled in km by weekday"
        },
        "updatemenus": [
         {
          "active": 0,
          "buttons": [
           {
            "args": [
             {
              "visible": [
               1,
               1,
               1,
               1,
               1,
               1,
               1,
               1
              ]
             },
             {
              "title": "Plot all categories"
             }
            ],
            "label": "Plot all categories",
            "method": "update"
           },
           {
            "args": [
             {
              "visible": [
               true,
               true,
               false,
               false,
               false,
               false,
               false,
               false,
               false,
               false,
               false,
               false,
               false,
               false,
               false,
               false
              ]
             },
             {
              "title": "Monday"
             }
            ],
            "label": "Monday",
            "method": "update"
           },
           {
            "args": [
             {
              "visible": [
               false,
               false,
               true,
               true,
               false,
               false,
               false,
               false,
               false,
               false,
               false,
               false,
               false,
               false,
               false,
               false
              ]
             },
             {
              "title": "Tuesday"
             }
            ],
            "label": "Tuesday",
            "method": "update"
           },
           {
            "args": [
             {
              "visible": [
               false,
               false,
               false,
               false,
               true,
               true,
               false,
               false,
               false,
               false,
               false,
               false,
               false,
               false,
               false,
               false
              ]
             },
             {
              "title": "Wednesday"
             }
            ],
            "label": "Wednesday",
            "method": "update"
           },
           {
            "args": [
             {
              "visible": [
               false,
               false,
               false,
               false,
               false,
               false,
               true,
               true,
               false,
               false,
               false,
               false,
               false,
               false,
               false,
               false
              ]
             },
             {
              "title": "Thursday"
             }
            ],
            "label": "Thursday",
            "method": "update"
           },
           {
            "args": [
             {
              "visible": [
               false,
               false,
               false,
               false,
               false,
               false,
               false,
               false,
               true,
               true,
               false,
               false,
               false,
               false,
               false,
               false
              ]
             },
             {
              "title": "Friday"
             }
            ],
            "label": "Friday",
            "method": "update"
           },
           {
            "args": [
             {
              "visible": [
               false,
               false,
               false,
               false,
               false,
               false,
               false,
               false,
               false,
               false,
               true,
               true,
               false,
               false,
               false,
               false
              ]
             },
             {
              "title": "Saturday"
             }
            ],
            "label": "Saturday",
            "method": "update"
           },
           {
            "args": [
             {
              "visible": [
               false,
               false,
               false,
               false,
               false,
               false,
               false,
               false,
               false,
               false,
               false,
               false,
               true,
               true,
               false,
               false
              ]
             },
             {
              "title": "Sunday"
             }
            ],
            "label": "Sunday",
            "method": "update"
           },
           {
            "args": [
             {
              "visible": [
               false,
               false,
               false,
               false,
               false,
               false,
               false,
               false,
               false,
               false,
               false,
               false,
               false,
               false,
               true,
               true
              ]
             },
             {
              "title": "allWeekDays"
             }
            ],
            "label": "allWeekDays",
            "method": "update"
           }
          ]
         }
        ],
        "xaxis": {
         "title": {
          "text": "Distance travelled in km by category in logarithmic scale"
         },
         "type": "log"
        },
        "yaxis": {
         "title": {
          "text": "Probability of travelling"
         }
        }
       }
      },
      "text/html": [
       "<div>                            <div id=\"9c3e9bb1-94c9-4775-b206-3eeed6aedac3\" class=\"plotly-graph-div\" style=\"height:525px; width:100%;\"></div>            <script type=\"text/javascript\">                require([\"plotly\"], function(Plotly) {                    window.PLOTLYENV=window.PLOTLYENV || {};                                    if (document.getElementById(\"9c3e9bb1-94c9-4775-b206-3eeed6aedac3\")) {                    Plotly.newPlot(                        \"9c3e9bb1-94c9-4775-b206-3eeed6aedac3\",                        [{\"line\": {\"color\": \"#33CFA1\"}, \"name\": \"Monday good review\", \"type\": \"scatter\", \"x\": [0.1, 0.3305298396179653, 1.092499748778779, 3.6110376674651734, 11.935557010816956, 39.4505774453641, 130.39593035852323, 430.9974594823805, 1424.5752115846176, 4708.64616208793], \"y\": [0.7626582278481012, 0.7870201096892139, 0.7588063374865406, 0.7745737845904791, 0.7739223889763175, 0.766357112705783, 0.7682619647355163, 0.7592039800995025, 0.8040345821325648, 0.8006872852233677]}, {\"line\": {\"color\": \"#F06A64\"}, \"name\": \"Monday bad review\", \"type\": \"scatter\", \"x\": [0.1, 0.3305298396179653, 1.092499748778779, 3.6110376674651734, 11.935557010816956, 39.4505774453641, 130.39593035852323, 430.9974594823805, 1424.5752115846176, 4708.64616208793], \"y\": [0.2373417721518987, 0.2129798903107861, 0.2411936625134595, 0.2254262154095209, 0.2260776110236825, 0.2336428872942169, 0.23173803526448364, 0.2407960199004975, 0.19596541786743515, 0.19931271477663232]}, {\"line\": {\"color\": \"#33CFA1\"}, \"name\": \"Tuesday good review\", \"type\": \"scatter\", \"x\": [0.1, 0.3305298396179653, 1.092499748778779, 3.6110376674651734, 11.935557010816956, 39.4505774453641, 130.39593035852323, 430.9974594823805, 1424.5752115846176, 4708.64616208793], \"y\": [0.7949438202247191, 0.7546666666666667, 0.7659309916070873, 0.7713203116661329, 0.7734094009673819, 0.7656434940424525, 0.726027397260274, 0.7613390928725702, 0.8482142857142857, 0.7777777777777778]}, {\"line\": {\"color\": \"#F06A64\"}, \"name\": \"Tuesday bad review\", \"type\": \"scatter\", \"x\": [0.1, 0.3305298396179653, 1.092499748778779, 3.6110376674651734, 11.935557010816956, 39.4505774453641, 130.39593035852323, 430.9974594823805, 1424.5752115846176, 4708.64616208793], \"y\": [0.2050561797752809, 0.2453333333333333, 0.23406900839291264, 0.228679688333867, 0.2265905990326181, 0.2343565059575476, 0.273972602739726, 0.2386609071274298, 0.15178571428571427, 0.2222222222222222]}, {\"line\": {\"color\": \"#33CFA1\"}, \"name\": \"Wednesday good review\", \"type\": \"scatter\", \"x\": [0.1, 0.3305298396179653, 1.092499748778779, 3.6110376674651734, 11.935557010816956, 39.4505774453641, 130.39593035852323, 430.9974594823805, 1424.5752115846176, 4708.64616208793], \"y\": [0.7419354838709677, 0.7521951219512195, 0.7642040882021568, 0.7709660297239915, 0.7796596063418085, 0.7713310580204779, 0.8145896656534954, 0.7853982300884956, 0.8324175824175825, 0.7574626865671642]}, {\"line\": {\"color\": \"#F06A64\"}, \"name\": \"Wednesday bad review\", \"type\": \"scatter\", \"x\": [0.1, 0.3305298396179653, 1.092499748778779, 3.6110376674651734, 11.935557010816956, 39.4505774453641, 130.39593035852323, 430.9974594823805, 1424.5752115846176, 4708.64616208793], \"y\": [0.25806451612903225, 0.2478048780487805, 0.2357959117978433, 0.2290339702760085, 0.2203403936581915, 0.2286689419795221, 0.18541033434650456, 0.21460176991150445, 0.16758241758241754, 0.24253731343283585]}, {\"line\": {\"color\": \"#33CFA1\"}, \"name\": \"Thursday good review\", \"type\": \"scatter\", \"x\": [0.1, 0.3305298396179653, 1.092499748778779, 3.6110376674651734, 11.935557010816956, 39.4505774453641, 130.39593035852323, 430.9974594823805, 1424.5752115846176, 4708.64616208793], \"y\": [0.7892857142857143, 0.7797752808988764, 0.7635652019213663, 0.7804161143449945, 0.7865113372612034, 0.7707978179338562, 0.8339622641509434, 0.7903030303030303, 0.8207885304659498, 0.8]}, {\"line\": {\"color\": \"#F06A64\"}, \"name\": \"Thursday bad review\", \"type\": \"scatter\", \"x\": [0.1, 0.3305298396179653, 1.092499748778779, 3.6110376674651734, 11.935557010816956, 39.4505774453641, 130.39593035852323, 430.9974594823805, 1424.5752115846176, 4708.64616208793], \"y\": [0.2107142857142857, 0.2202247191011236, 0.2364347980786337, 0.21958388565500547, 0.21348866273879666, 0.2292021820661439, 0.1660377358490566, 0.2096969696969697, 0.17921146953405018, 0.2]}, {\"line\": {\"color\": \"#33CFA1\"}, \"name\": \"Friday good review\", \"type\": \"scatter\", \"x\": [0.1, 0.3305298396179653, 1.092499748778779, 3.6110376674651734, 11.935557010816956, 39.4505774453641, 130.39593035852323, 430.9974594823805, 1424.5752115846176, 4708.64616208793], \"y\": [0.7820069204152249, 0.7642543859649122, 0.7643041712809154, 0.7782951289398281, 0.7782373528475979, 0.7728141839040501, 0.8198757763975155, 0.7781908302354399, 0.8178137651821862, 0.7977044476327116]}, {\"line\": {\"color\": \"#F06A64\"}, \"name\": \"Friday bad review\", \"type\": \"scatter\", \"x\": [0.1, 0.3305298396179653, 1.092499748778779, 3.6110376674651734, 11.935557010816956, 39.4505774453641, 130.39593035852323, 430.9974594823805, 1424.5752115846176, 4708.64616208793], \"y\": [0.2179930795847751, 0.2357456140350877, 0.2356958287190845, 0.22170487106017192, 0.22176264715240213, 0.22718581609595, 0.18012422360248448, 0.2218091697645601, 0.18218623481781376, 0.2022955523672884]}, {\"line\": {\"color\": \"#33CFA1\"}, \"name\": \"Saturday good review\", \"type\": \"scatter\", \"x\": [0.1, 0.3305298396179653, 1.092499748778779, 3.6110376674651734, 11.935557010816956, 39.4505774453641, 130.39593035852323, 430.9974594823805, 1424.5752115846176, 4708.64616208793], \"y\": [0.7761732851985559, 0.7412935323383084, 0.7638611886717191, 0.777246112195429, 0.7839602808963636, 0.7744435284418797, 0.7826086956521741, 0.7785234899328859, 0.8168498168498168, 0.7535014005602241]}, {\"line\": {\"color\": \"#F06A64\"}, \"name\": \"Saturday bad review\", \"type\": \"scatter\", \"x\": [0.1, 0.3305298396179653, 1.092499748778779, 3.6110376674651734, 11.935557010816956, 39.4505774453641, 130.39593035852323, 430.9974594823805, 1424.5752115846176, 4708.64616208793], \"y\": [0.2238267148014441, 0.25870646766169153, 0.2361388113282808, 0.22275388780457087, 0.21603971910363645, 0.2255564715581204, 0.21739130434782608, 0.2214765100671141, 0.18315018315018314, 0.2464985994397759]}, {\"line\": {\"color\": \"#33CFA1\"}, \"name\": \"Sunday good review\", \"type\": \"scatter\", \"x\": [0.1, 0.3305298396179653, 1.092499748778779, 3.6110376674651734, 11.935557010816956, 39.4505774453641, 130.39593035852323, 430.9974594823805, 1424.5752115846176, 4708.64616208793], \"y\": [0.8303886925795053, 0.7673649393605292, 0.7649336283185841, 0.7710282992434856, 0.7762934861570748, 0.7750316385021959, 0.8191214470284238, 0.7615571776155717, 0.8556701030927835, 0.7672955974842768]}, {\"line\": {\"color\": \"#F06A64\"}, \"name\": \"Sunday bad review\", \"type\": \"scatter\", \"x\": [0.1, 0.3305298396179653, 1.092499748778779, 3.6110376674651734, 11.935557010816956, 39.4505774453641, 130.39593035852323, 430.9974594823805, 1424.5752115846176, 4708.64616208793], \"y\": [0.1696113074204947, 0.2326350606394708, 0.2350663716814159, 0.2289717007565145, 0.2237065138429252, 0.22496836149780391, 0.18087855297157626, 0.2384428223844282, 0.14432989690721648, 0.2327044025157233]}, {\"line\": {\"color\": \"#33CFA1\"}, \"name\": \"allWeekDays good review\", \"type\": \"scatter\", \"x\": [0.1, 0.3305298396179653, 1.092499748778779, 3.6110376674651734, 11.935557010816956, 39.4505774453641, 130.39593035852323, 430.9974594823805, 1424.5752115846176, 4708.64616208793], \"y\": [0.7820937944102321, 0.7642444871984608, 0.7635938461538462, 0.7746852431776059, 0.7786602980465946, 0.7708269620668955, 0.7943768359211079, 0.7729532648326152, 0.8282639213851193, 0.7794744318181818]}, {\"line\": {\"color\": \"#F06A64\"}, \"name\": \"allWeekDays bad review\", \"type\": \"scatter\", \"x\": [0.1, 0.3305298396179653, 1.092499748778779, 3.6110376674651734, 11.935557010816956, 39.4505774453641, 130.39593035852323, 430.9974594823805, 1424.5752115846176, 4708.64616208793], \"y\": [0.2179062055897679, 0.23575551280153914, 0.23640615384615385, 0.2253147568223941, 0.22133970195340533, 0.2291730379331045, 0.2056231640788921, 0.2270467351673849, 0.17173607861488066, 0.22052556818181812]}],                        {\"template\": {\"data\": {\"bar\": [{\"error_x\": {\"color\": \"#2a3f5f\"}, \"error_y\": {\"color\": \"#2a3f5f\"}, \"marker\": {\"line\": {\"color\": \"#E5ECF6\", \"width\": 0.5}}, \"type\": \"bar\"}], \"barpolar\": [{\"marker\": {\"line\": {\"color\": \"#E5ECF6\", \"width\": 0.5}}, \"type\": \"barpolar\"}], \"carpet\": [{\"aaxis\": {\"endlinecolor\": \"#2a3f5f\", \"gridcolor\": \"white\", \"linecolor\": \"white\", \"minorgridcolor\": \"white\", \"startlinecolor\": \"#2a3f5f\"}, \"baxis\": {\"endlinecolor\": \"#2a3f5f\", \"gridcolor\": \"white\", \"linecolor\": \"white\", \"minorgridcolor\": \"white\", \"startlinecolor\": \"#2a3f5f\"}, \"type\": \"carpet\"}], \"choropleth\": [{\"colorbar\": {\"outlinewidth\": 0, \"ticks\": \"\"}, \"type\": \"choropleth\"}], \"contour\": [{\"colorbar\": {\"outlinewidth\": 0, \"ticks\": \"\"}, \"colorscale\": [[0.0, \"#0d0887\"], [0.1111111111111111, \"#46039f\"], [0.2222222222222222, \"#7201a8\"], [0.3333333333333333, \"#9c179e\"], [0.4444444444444444, \"#bd3786\"], [0.5555555555555556, \"#d8576b\"], [0.6666666666666666, \"#ed7953\"], [0.7777777777777778, \"#fb9f3a\"], [0.8888888888888888, \"#fdca26\"], [1.0, \"#f0f921\"]], \"type\": \"contour\"}], \"contourcarpet\": [{\"colorbar\": {\"outlinewidth\": 0, \"ticks\": \"\"}, \"type\": \"contourcarpet\"}], \"heatmap\": [{\"colorbar\": {\"outlinewidth\": 0, \"ticks\": \"\"}, \"colorscale\": [[0.0, \"#0d0887\"], [0.1111111111111111, \"#46039f\"], [0.2222222222222222, \"#7201a8\"], [0.3333333333333333, \"#9c179e\"], [0.4444444444444444, \"#bd3786\"], [0.5555555555555556, \"#d8576b\"], [0.6666666666666666, \"#ed7953\"], [0.7777777777777778, \"#fb9f3a\"], [0.8888888888888888, \"#fdca26\"], [1.0, \"#f0f921\"]], \"type\": \"heatmap\"}], \"heatmapgl\": [{\"colorbar\": {\"outlinewidth\": 0, \"ticks\": \"\"}, \"colorscale\": [[0.0, \"#0d0887\"], [0.1111111111111111, \"#46039f\"], [0.2222222222222222, \"#7201a8\"], [0.3333333333333333, \"#9c179e\"], [0.4444444444444444, \"#bd3786\"], [0.5555555555555556, \"#d8576b\"], [0.6666666666666666, \"#ed7953\"], [0.7777777777777778, \"#fb9f3a\"], [0.8888888888888888, \"#fdca26\"], [1.0, \"#f0f921\"]], \"type\": \"heatmapgl\"}], \"histogram\": [{\"marker\": {\"colorbar\": {\"outlinewidth\": 0, \"ticks\": \"\"}}, \"type\": \"histogram\"}], \"histogram2d\": [{\"colorbar\": {\"outlinewidth\": 0, \"ticks\": \"\"}, \"colorscale\": [[0.0, \"#0d0887\"], [0.1111111111111111, \"#46039f\"], [0.2222222222222222, \"#7201a8\"], [0.3333333333333333, \"#9c179e\"], [0.4444444444444444, \"#bd3786\"], [0.5555555555555556, \"#d8576b\"], [0.6666666666666666, \"#ed7953\"], [0.7777777777777778, \"#fb9f3a\"], [0.8888888888888888, \"#fdca26\"], [1.0, \"#f0f921\"]], \"type\": \"histogram2d\"}], \"histogram2dcontour\": [{\"colorbar\": {\"outlinewidth\": 0, \"ticks\": \"\"}, \"colorscale\": [[0.0, \"#0d0887\"], [0.1111111111111111, \"#46039f\"], [0.2222222222222222, \"#7201a8\"], [0.3333333333333333, \"#9c179e\"], [0.4444444444444444, \"#bd3786\"], [0.5555555555555556, \"#d8576b\"], [0.6666666666666666, \"#ed7953\"], [0.7777777777777778, \"#fb9f3a\"], [0.8888888888888888, \"#fdca26\"], [1.0, \"#f0f921\"]], \"type\": \"histogram2dcontour\"}], \"mesh3d\": [{\"colorbar\": {\"outlinewidth\": 0, \"ticks\": \"\"}, \"type\": \"mesh3d\"}], \"parcoords\": [{\"line\": {\"colorbar\": {\"outlinewidth\": 0, \"ticks\": \"\"}}, \"type\": \"parcoords\"}], \"pie\": [{\"automargin\": true, \"type\": \"pie\"}], \"scatter\": [{\"marker\": {\"colorbar\": {\"outlinewidth\": 0, \"ticks\": \"\"}}, \"type\": \"scatter\"}], \"scatter3d\": [{\"line\": {\"colorbar\": {\"outlinewidth\": 0, \"ticks\": \"\"}}, \"marker\": {\"colorbar\": {\"outlinewidth\": 0, \"ticks\": \"\"}}, \"type\": \"scatter3d\"}], \"scattercarpet\": [{\"marker\": {\"colorbar\": {\"outlinewidth\": 0, \"ticks\": \"\"}}, \"type\": \"scattercarpet\"}], \"scattergeo\": [{\"marker\": {\"colorbar\": {\"outlinewidth\": 0, \"ticks\": \"\"}}, \"type\": \"scattergeo\"}], \"scattergl\": [{\"marker\": {\"colorbar\": {\"outlinewidth\": 0, \"ticks\": \"\"}}, \"type\": \"scattergl\"}], \"scattermapbox\": [{\"marker\": {\"colorbar\": {\"outlinewidth\": 0, \"ticks\": \"\"}}, \"type\": \"scattermapbox\"}], \"scatterpolar\": [{\"marker\": {\"colorbar\": {\"outlinewidth\": 0, \"ticks\": \"\"}}, \"type\": \"scatterpolar\"}], \"scatterpolargl\": [{\"marker\": {\"colorbar\": {\"outlinewidth\": 0, \"ticks\": \"\"}}, \"type\": \"scatterpolargl\"}], \"scatterternary\": [{\"marker\": {\"colorbar\": {\"outlinewidth\": 0, \"ticks\": \"\"}}, \"type\": \"scatterternary\"}], \"surface\": [{\"colorbar\": {\"outlinewidth\": 0, \"ticks\": \"\"}, \"colorscale\": [[0.0, \"#0d0887\"], [0.1111111111111111, \"#46039f\"], [0.2222222222222222, \"#7201a8\"], [0.3333333333333333, \"#9c179e\"], [0.4444444444444444, \"#bd3786\"], [0.5555555555555556, \"#d8576b\"], [0.6666666666666666, \"#ed7953\"], [0.7777777777777778, \"#fb9f3a\"], [0.8888888888888888, \"#fdca26\"], [1.0, \"#f0f921\"]], \"type\": \"surface\"}], \"table\": [{\"cells\": {\"fill\": {\"color\": \"#EBF0F8\"}, \"line\": {\"color\": \"white\"}}, \"header\": {\"fill\": {\"color\": \"#C8D4E3\"}, \"line\": {\"color\": \"white\"}}, \"type\": \"table\"}]}, \"layout\": {\"annotationdefaults\": {\"arrowcolor\": \"#2a3f5f\", \"arrowhead\": 0, \"arrowwidth\": 1}, \"autotypenumbers\": \"strict\", \"coloraxis\": {\"colorbar\": {\"outlinewidth\": 0, \"ticks\": \"\"}}, \"colorscale\": {\"diverging\": [[0, \"#8e0152\"], [0.1, \"#c51b7d\"], [0.2, \"#de77ae\"], [0.3, \"#f1b6da\"], [0.4, \"#fde0ef\"], [0.5, \"#f7f7f7\"], [0.6, \"#e6f5d0\"], [0.7, \"#b8e186\"], [0.8, \"#7fbc41\"], [0.9, \"#4d9221\"], [1, \"#276419\"]], \"sequential\": [[0.0, \"#0d0887\"], [0.1111111111111111, \"#46039f\"], [0.2222222222222222, \"#7201a8\"], [0.3333333333333333, \"#9c179e\"], [0.4444444444444444, \"#bd3786\"], [0.5555555555555556, \"#d8576b\"], [0.6666666666666666, \"#ed7953\"], [0.7777777777777778, \"#fb9f3a\"], [0.8888888888888888, \"#fdca26\"], [1.0, \"#f0f921\"]], \"sequentialminus\": [[0.0, \"#0d0887\"], [0.1111111111111111, \"#46039f\"], [0.2222222222222222, \"#7201a8\"], [0.3333333333333333, \"#9c179e\"], [0.4444444444444444, \"#bd3786\"], [0.5555555555555556, \"#d8576b\"], [0.6666666666666666, \"#ed7953\"], [0.7777777777777778, \"#fb9f3a\"], [0.8888888888888888, \"#fdca26\"], [1.0, \"#f0f921\"]]}, \"colorway\": [\"#636efa\", \"#EF553B\", \"#00cc96\", \"#ab63fa\", \"#FFA15A\", \"#19d3f3\", \"#FF6692\", \"#B6E880\", \"#FF97FF\", \"#FECB52\"], \"font\": {\"color\": \"#2a3f5f\"}, \"geo\": {\"bgcolor\": \"white\", \"lakecolor\": \"white\", \"landcolor\": \"#E5ECF6\", \"showlakes\": true, \"showland\": true, \"subunitcolor\": \"white\"}, \"hoverlabel\": {\"align\": \"left\"}, \"hovermode\": \"closest\", \"mapbox\": {\"style\": \"light\"}, \"paper_bgcolor\": \"white\", \"plot_bgcolor\": \"#E5ECF6\", \"polar\": {\"angularaxis\": {\"gridcolor\": \"white\", \"linecolor\": \"white\", \"ticks\": \"\"}, \"bgcolor\": \"#E5ECF6\", \"radialaxis\": {\"gridcolor\": \"white\", \"linecolor\": \"white\", \"ticks\": \"\"}}, \"scene\": {\"xaxis\": {\"backgroundcolor\": \"#E5ECF6\", \"gridcolor\": \"white\", \"gridwidth\": 2, \"linecolor\": \"white\", \"showbackground\": true, \"ticks\": \"\", \"zerolinecolor\": \"white\"}, \"yaxis\": {\"backgroundcolor\": \"#E5ECF6\", \"gridcolor\": \"white\", \"gridwidth\": 2, \"linecolor\": \"white\", \"showbackground\": true, \"ticks\": \"\", \"zerolinecolor\": \"white\"}, \"zaxis\": {\"backgroundcolor\": \"#E5ECF6\", \"gridcolor\": \"white\", \"gridwidth\": 2, \"linecolor\": \"white\", \"showbackground\": true, \"ticks\": \"\", \"zerolinecolor\": \"white\"}}, \"shapedefaults\": {\"line\": {\"color\": \"#2a3f5f\"}}, \"ternary\": {\"aaxis\": {\"gridcolor\": \"white\", \"linecolor\": \"white\", \"ticks\": \"\"}, \"baxis\": {\"gridcolor\": \"white\", \"linecolor\": \"white\", \"ticks\": \"\"}, \"bgcolor\": \"#E5ECF6\", \"caxis\": {\"gridcolor\": \"white\", \"linecolor\": \"white\", \"ticks\": \"\"}}, \"title\": {\"x\": 0.05}, \"xaxis\": {\"automargin\": true, \"gridcolor\": \"white\", \"linecolor\": \"white\", \"ticks\": \"\", \"title\": {\"standoff\": 15}, \"zerolinecolor\": \"white\", \"zerolinewidth\": 2}, \"yaxis\": {\"automargin\": true, \"gridcolor\": \"white\", \"linecolor\": \"white\", \"ticks\": \"\", \"title\": {\"standoff\": 15}, \"zerolinecolor\": \"white\", \"zerolinewidth\": 2}}}, \"title\": {\"text\": \"Distance travelled in km by weekday\"}, \"updatemenus\": [{\"active\": 0, \"buttons\": [{\"args\": [{\"visible\": [1.0, 1.0, 1.0, 1.0, 1.0, 1.0, 1.0, 1.0]}, {\"title\": \"Plot all categories\"}], \"label\": \"Plot all categories\", \"method\": \"update\"}, {\"args\": [{\"visible\": [true, true, false, false, false, false, false, false, false, false, false, false, false, false, false, false]}, {\"title\": \"Monday\"}], \"label\": \"Monday\", \"method\": \"update\"}, {\"args\": [{\"visible\": [false, false, true, true, false, false, false, false, false, false, false, false, false, false, false, false]}, {\"title\": \"Tuesday\"}], \"label\": \"Tuesday\", \"method\": \"update\"}, {\"args\": [{\"visible\": [false, false, false, false, true, true, false, false, false, false, false, false, false, false, false, false]}, {\"title\": \"Wednesday\"}], \"label\": \"Wednesday\", \"method\": \"update\"}, {\"args\": [{\"visible\": [false, false, false, false, false, false, true, true, false, false, false, false, false, false, false, false]}, {\"title\": \"Thursday\"}], \"label\": \"Thursday\", \"method\": \"update\"}, {\"args\": [{\"visible\": [false, false, false, false, false, false, false, false, true, true, false, false, false, false, false, false]}, {\"title\": \"Friday\"}], \"label\": \"Friday\", \"method\": \"update\"}, {\"args\": [{\"visible\": [false, false, false, false, false, false, false, false, false, false, true, true, false, false, false, false]}, {\"title\": \"Saturday\"}], \"label\": \"Saturday\", \"method\": \"update\"}, {\"args\": [{\"visible\": [false, false, false, false, false, false, false, false, false, false, false, false, true, true, false, false]}, {\"title\": \"Sunday\"}], \"label\": \"Sunday\", \"method\": \"update\"}, {\"args\": [{\"visible\": [false, false, false, false, false, false, false, false, false, false, false, false, false, false, true, true]}, {\"title\": \"allWeekDays\"}], \"label\": \"allWeekDays\", \"method\": \"update\"}]}], \"xaxis\": {\"title\": {\"text\": \"Distance travelled in km by category in logarithmic scale\"}, \"type\": \"log\"}, \"yaxis\": {\"title\": {\"text\": \"Probability of travelling\"}}},                        {\"responsive\": true}                    ).then(function(){\n",
       "                            \n",
       "var gd = document.getElementById('9c3e9bb1-94c9-4775-b206-3eeed6aedac3');\n",
       "var x = new MutationObserver(function (mutations, observer) {{\n",
       "        var display = window.getComputedStyle(gd).display;\n",
       "        if (!display || display === 'none') {{\n",
       "            console.log([gd, 'removed!']);\n",
       "            Plotly.purge(gd);\n",
       "            observer.disconnect();\n",
       "        }}\n",
       "}});\n",
       "\n",
       "// Listen for the removal of the full notebook cells\n",
       "var notebookContainer = gd.closest('#notebook-container');\n",
       "if (notebookContainer) {{\n",
       "    x.observe(notebookContainer, {childList: true});\n",
       "}}\n",
       "\n",
       "// Listen for the clearing of the current output cell\n",
       "var outputEl = gd.closest('.output');\n",
       "if (outputEl) {{\n",
       "    x.observe(outputEl, {childList: true});\n",
       "}}\n",
       "\n",
       "                        })                };                });            </script>        </div>"
      ]
     },
     "metadata": {},
     "output_type": "display_data"
    }
   ],
   "source": [
    "# Initialize figure\n",
    "fig = go.Figure()\n",
    "\n",
    "# Add Traces\n",
    "for i in col_names:\n",
    "    fig.add_trace(\n",
    "    go.Scatter(x=bucket,\n",
    "               y=df_good[i].values,\n",
    "               name=i+\" good review\",\n",
    "               line=dict(color=\"#33CFA1\")))\n",
    "    fig.add_trace(\n",
    "    go.Scatter(x=bucket,\n",
    "               y=df_bad[i].values,\n",
    "               name=i+\" bad review\",\n",
    "               line=dict(color=\"#F06A64\")))\n",
    "\n",
    "\n",
    "fig.update_layout(\n",
    "    updatemenus=[\n",
    "        dict(\n",
    "            active=0,\n",
    "            buttons=list_dict_cat(col_names,len(col_names)),\n",
    "        )\n",
    "    ])\n",
    "\n",
    "\n",
    "fig.update_xaxes(title_text=\"Distance travelled in km by category in logarithmic scale\", type=\"log\")\n",
    "fig.update_yaxes(title_text=\"Probability of travelling\") \n",
    "\n",
    "# Set title\n",
    "fig.update_layout(title_text=\"Distance travelled in km by weekday\")\n",
    "\n",
    "fig.show()"
   ]
  },
  {
   "cell_type": "code",
   "execution_count": 210,
   "metadata": {},
   "outputs": [],
   "source": [
    "# Save html\n",
    "pio.write_html(fig, file='weekday.html', auto_open=True)"
   ]
  },
  {
   "cell_type": "markdown",
   "metadata": {},
   "source": [
    "# Create the interactive plot for category study"
   ]
  },
  {
   "cell_type": "code",
   "execution_count": 215,
   "metadata": {},
   "outputs": [],
   "source": [
    "# Define x axis of the plot\n",
    "col_names_cat = df_bad_cat.columns"
   ]
  },
  {
   "cell_type": "code",
   "execution_count": 212,
   "metadata": {},
   "outputs": [],
   "source": [
    "def list_dict_cat(col_names_cat,N):\n",
    "    res = []\n",
    "\n",
    "    res.append(dict(label=\"Plot all categories\",\n",
    "                     method=\"update\",\n",
    "                     args=[{\"visible\": list(np.ones(N))},\n",
    "                           {\"title\": \"Plot all categories\"}]))\n",
    "    \n",
    "    for idx,i in enumerate(col_names_cat): \n",
    "        res.append(dict(label=i,\n",
    "                         method=\"update\",\n",
    "                         args=[{\"visible\": set_visible(idx,N)},\n",
    "                               {\"title\": i}]))\n",
    "        \n",
    "\n",
    "    \n",
    "    return list(res)"
   ]
  },
  {
   "cell_type": "code",
   "execution_count": 213,
   "metadata": {},
   "outputs": [
    {
     "data": {
      "application/vnd.plotly.v1+json": {
       "config": {
        "plotlyServerURL": "https://plot.ly"
       },
       "data": [
        {
         "line": {
          "color": "#33CFA1"
         },
         "name": "Automotive good review",
         "type": "scatter",
         "x": [
          0.1,
          0.3305298396179653,
          1.092499748778779,
          3.6110376674651734,
          11.935557010816956,
          39.4505774453641,
          130.39593035852323,
          430.9974594823805,
          1424.5752115846176,
          4708.64616208793
         ],
         "y": [
          0.7468354430379747,
          0.8875,
          0.8356756756756757,
          0.7386166145290233,
          0.7395965836816282,
          0.7379447954772198,
          0.7903225806451613,
          0.6935483870967742,
          0.6666666666666666,
          0.7372881355932204
         ]
        },
        {
         "line": {
          "color": "#F06A64"
         },
         "name": "Automotive bad review",
         "type": "scatter",
         "x": [
          0.1,
          0.3305298396179653,
          1.092499748778779,
          3.6110376674651734,
          11.935557010816956,
          39.4505774453641,
          130.39593035852323,
          430.9974594823805,
          1424.5752115846176,
          4708.64616208793
         ],
         "y": [
          0.2531645569620253,
          0.1125,
          0.1643243243243243,
          0.2613833854709767,
          0.26040341631837177,
          0.2620552045227802,
          0.20967741935483872,
          0.3064516129032258,
          0.3333333333333333,
          0.2627118644067797
         ]
        },
        {
         "line": {
          "color": "#33CFA1"
         },
         "name": "Construction good review",
         "type": "scatter",
         "x": [
          0.1,
          0.3305298396179653,
          1.092499748778779,
          3.6110376674651734,
          11.935557010816956,
          39.4505774453641,
          130.39593035852323,
          430.9974594823805,
          1424.5752115846176,
          4708.64616208793
         ],
         "y": [
          0.6923076923076923,
          0.8709677419354839,
          0.7986111111111112,
          0.7953964194373402,
          0.8097936058276002,
          0.8117883456128601,
          0.8837209302325582,
          0.8032786885245902,
          0.9285714285714286,
          0.7222222222222222
         ]
        },
        {
         "line": {
          "color": "#F06A64"
         },
         "name": "Construction bad review",
         "type": "scatter",
         "x": [
          0.1,
          0.3305298396179653,
          1.092499748778779,
          3.6110376674651734,
          11.935557010816956,
          39.4505774453641,
          130.39593035852323,
          430.9974594823805,
          1424.5752115846176,
          4708.64616208793
         ],
         "y": [
          0.3076923076923077,
          0.12903225806451613,
          0.2013888888888889,
          0.20460358056265984,
          0.19020639417239985,
          0.18821165438714002,
          0.11627906976744184,
          0.19672131147540986,
          0.07142857142857142,
          0.2777777777777778
         ]
        },
        {
         "line": {
          "color": "#33CFA1"
         },
         "name": "Manufacturing good review",
         "type": "scatter",
         "x": [
          0.1,
          0.3305298396179653,
          1.092499748778779,
          3.6110376674651734,
          11.935557010816956,
          39.4505774453641,
          130.39593035852323,
          430.9974594823805,
          1424.5752115846176,
          4708.64616208793
         ],
         "y": [
          0.6666666666666666,
          0.8260869565217391,
          0.7791666666666667,
          0.7900207900207901,
          0.7798219584569733,
          0.7698744769874477,
          0.8666666666666667,
          0.6666666666666666,
          0.5,
          0.7142857142857143
         ]
        },
        {
         "line": {
          "color": "#F06A64"
         },
         "name": "Manufacturing bad review",
         "type": "scatter",
         "x": [
          0.1,
          0.3305298396179653,
          1.092499748778779,
          3.6110376674651734,
          11.935557010816956,
          39.4505774453641,
          130.39593035852323,
          430.9974594823805,
          1424.5752115846176,
          4708.64616208793
         ],
         "y": [
          0.3333333333333333,
          0.17391304347826084,
          0.22083333333333333,
          0.20997920997920996,
          0.2201780415430267,
          0.2301255230125523,
          0.13333333333333333,
          0.3333333333333333,
          0.5,
          0.2857142857142857
         ]
        },
        {
         "line": {
          "color": "#33CFA1"
         },
         "name": "Legal good review",
         "type": "scatter",
         "x": [
          0.1,
          0.3305298396179653,
          1.092499748778779,
          3.6110376674651734,
          11.935557010816956,
          39.4505774453641,
          130.39593035852323,
          430.9974594823805,
          1424.5752115846176,
          4708.64616208793
         ],
         "y": [
          0.6666666666666666,
          0.8125,
          0.740484429065744,
          0.7670609645131938,
          0.7694223107569721,
          0.7515099223468508,
          0.7222222222222222,
          0.6792452830188679,
          0.6666666666666666,
          0.6470588235294118
         ]
        },
        {
         "line": {
          "color": "#F06A64"
         },
         "name": "Legal bad review",
         "type": "scatter",
         "x": [
          0.1,
          0.3305298396179653,
          1.092499748778779,
          3.6110376674651734,
          11.935557010816956,
          39.4505774453641,
          130.39593035852323,
          430.9974594823805,
          1424.5752115846176,
          4708.64616208793
         ],
         "y": [
          0.3333333333333333,
          0.1875,
          0.25951557093425603,
          0.2329390354868062,
          0.2305776892430279,
          0.2484900776531493,
          0.2777777777777778,
          0.3207547169811321,
          0.3333333333333333,
          0.35294117647058826
         ]
        },
        {
         "line": {
          "color": "#33CFA1"
         },
         "name": "PersonalCare good review",
         "type": "scatter",
         "x": [
          0.1,
          0.3305298396179653,
          1.092499748778779,
          3.6110376674651734,
          11.935557010816956,
          39.4505774453641,
          130.39593035852323,
          430.9974594823805,
          1424.5752115846176,
          4708.64616208793
         ],
         "y": [
          0.8380952380952381,
          0.8561759729272421,
          0.8309386973180076,
          0.8207685538281021,
          0.8324906367041198,
          0.8495010878535524,
          0.8703703703703703,
          0.83399209486166,
          0.8641975308641975,
          0.8239316239316239
         ]
        },
        {
         "line": {
          "color": "#F06A64"
         },
         "name": "PersonalCare bad review",
         "type": "scatter",
         "x": [
          0.1,
          0.3305298396179653,
          1.092499748778779,
          3.6110376674651734,
          11.935557010816956,
          39.4505774453641,
          130.39593035852323,
          430.9974594823805,
          1424.5752115846176,
          4708.64616208793
         ],
         "y": [
          0.1619047619047619,
          0.14382402707275804,
          0.16906130268199235,
          0.17923144617189793,
          0.16750936329588015,
          0.1504989121464476,
          0.12962962962962962,
          0.16600790513833993,
          0.13580246913580246,
          0.17606837606837608
         ]
        },
        {
         "line": {
          "color": "#33CFA1"
         },
         "name": "Food good review",
         "type": "scatter",
         "x": [
          0.1,
          0.3305298396179653,
          1.092499748778779,
          3.6110376674651734,
          11.935557010816956,
          39.4505774453641,
          130.39593035852323,
          430.9974594823805,
          1424.5752115846176,
          4708.64616208793
         ],
         "y": [
          0.7995183624322697,
          0.7654109589041096,
          0.7614155251141552,
          0.7736596563981043,
          0.7772857421043899,
          0.7642882743789805,
          0.7914691943127962,
          0.7942421676545299,
          0.8442714126807565,
          0.7950782997762863
         ]
        },
        {
         "line": {
          "color": "#F06A64"
         },
         "name": "Food bad review",
         "type": "scatter",
         "x": [
          0.1,
          0.3305298396179653,
          1.092499748778779,
          3.6110376674651734,
          11.935557010816956,
          39.4505774453641,
          130.39593035852323,
          430.9974594823805,
          1424.5752115846176,
          4708.64616208793
         ],
         "y": [
          0.20048163756773027,
          0.2345890410958904,
          0.23858447488584475,
          0.2263403436018957,
          0.2227142578956099,
          0.23571172562101955,
          0.20853080568720375,
          0.20575783234546996,
          0.1557285873192436,
          0.20492170022371364
         ]
        },
        {
         "line": {
          "color": "#33CFA1"
         },
         "name": "Education good review",
         "type": "scatter",
         "x": [
          0.1,
          0.3305298396179653,
          1.092499748778779,
          3.6110376674651734,
          11.935557010816956,
          39.4505774453641,
          130.39593035852323,
          430.9974594823805,
          1424.5752115846176,
          4708.64616208793
         ],
         "y": [
          0.7906976744186046,
          0.9035087719298246,
          0.8655834564254062,
          0.8318318318318318,
          0.829501343684682,
          0.8222550467749877,
          0.8163265306122449,
          0.8487394957983193,
          0.8947368421052632,
          0.8691588785046729
         ]
        },
        {
         "line": {
          "color": "#F06A64"
         },
         "name": "Education bad review",
         "type": "scatter",
         "x": [
          0.1,
          0.3305298396179653,
          1.092499748778779,
          3.6110376674651734,
          11.935557010816956,
          39.4505774453641,
          130.39593035852323,
          430.9974594823805,
          1424.5752115846176,
          4708.64616208793
         ],
         "y": [
          0.20930232558139536,
          0.09649122807017543,
          0.1344165435745938,
          0.16816816816816818,
          0.17049865631531802,
          0.1777449532250123,
          0.1836734693877551,
          0.15126050420168066,
          0.10526315789473684,
          0.1308411214953271
         ]
        },
        {
         "line": {
          "color": "#33CFA1"
         },
         "name": "Travel good review",
         "type": "scatter",
         "x": [
          0.1,
          0.3305298396179653,
          1.092499748778779,
          3.6110376674651734,
          11.935557010816956,
          39.4505774453641,
          130.39593035852323,
          430.9974594823805,
          1424.5752115846176,
          4708.64616208793
         ],
         "y": [
          0.6468253968253969,
          0.7512135922330098,
          0.7471186440677966,
          0.6978635591162904,
          0.7219666474985624,
          0.7704291593180482,
          0.7719298245614035,
          0.6413301662707839,
          0.6210526315789474,
          0.6606965174129353
         ]
        },
        {
         "line": {
          "color": "#F06A64"
         },
         "name": "Travel bad review",
         "type": "scatter",
         "x": [
          0.1,
          0.3305298396179653,
          1.092499748778779,
          3.6110376674651734,
          11.935557010816956,
          39.4505774453641,
          130.39593035852323,
          430.9974594823805,
          1424.5752115846176,
          4708.64616208793
         ],
         "y": [
          0.3531746031746032,
          0.2487864077669903,
          0.2528813559322034,
          0.3021364408837096,
          0.2780333525014376,
          0.2295708406819518,
          0.2280701754385965,
          0.3586698337292161,
          0.37894736842105264,
          0.33930348258706466
         ]
        },
        {
         "line": {
          "color": "#33CFA1"
         },
         "name": "Entertainment good review",
         "type": "scatter",
         "x": [
          0.1,
          0.3305298396179653,
          1.092499748778779,
          3.6110376674651734,
          11.935557010816956,
          39.4505774453641,
          130.39593035852323,
          430.9974594823805,
          1424.5752115846176,
          4708.64616208793
         ],
         "y": [
          0.781491002570694,
          0.7634608243594504,
          0.767728290619557,
          0.7686662122244944,
          0.77951867635999,
          0.7709220151258421,
          0.8224431818181818,
          0.7690504103165299,
          0.8191304347826087,
          0.8083447959651536
         ]
        },
        {
         "line": {
          "color": "#F06A64"
         },
         "name": "Entertainment bad review",
         "type": "scatter",
         "x": [
          0.1,
          0.3305298396179653,
          1.092499748778779,
          3.6110376674651734,
          11.935557010816956,
          39.4505774453641,
          130.39593035852323,
          430.9974594823805,
          1424.5752115846176,
          4708.64616208793
         ],
         "y": [
          0.2185089974293059,
          0.2365391756405496,
          0.2322717093804429,
          0.2313337877755056,
          0.22048132364001,
          0.22907798487415795,
          0.17755681818181818,
          0.2309495896834701,
          0.1808695652173913,
          0.1916552040348464
         ]
        },
        {
         "line": {
          "color": "#33CFA1"
         },
         "name": "RealEstate good review",
         "type": "scatter",
         "x": [
          0.1,
          0.3305298396179653,
          1.092499748778779,
          3.6110376674651734,
          11.935557010816956,
          39.4505774453641,
          130.39593035852323,
          430.9974594823805,
          1424.5752115846176,
          4708.64616208793
         ],
         "y": [
          0.532608695652174,
          0.8214285714285714,
          0.7647058823529411,
          0.7554719562243503,
          0.7164677804295942,
          0.7222460351478782,
          0.726027397260274,
          0.5245901639344263,
          0.611764705882353,
          0.5219638242894057
         ]
        },
        {
         "line": {
          "color": "#F06A64"
         },
         "name": "RealEstate bad review",
         "type": "scatter",
         "x": [
          0.1,
          0.3305298396179653,
          1.092499748778779,
          3.6110376674651734,
          11.935557010816956,
          39.4505774453641,
          130.39593035852323,
          430.9974594823805,
          1424.5752115846176,
          4708.64616208793
         ],
         "y": [
          0.4673913043478261,
          0.17857142857142858,
          0.2352941176470588,
          0.2445280437756498,
          0.2835322195704057,
          0.2777539648521217,
          0.273972602739726,
          0.4754098360655738,
          0.3882352941176471,
          0.4780361757105943
         ]
        },
        {
         "line": {
          "color": "#33CFA1"
         },
         "name": "Merchant good review",
         "type": "scatter",
         "x": [
          0.1,
          0.3305298396179653,
          1.092499748778779,
          3.6110376674651734,
          11.935557010816956,
          39.4505774453641,
          130.39593035852323,
          430.9974594823805,
          1424.5752115846176,
          4708.64616208793
         ],
         "y": [
          0.7844827586206896,
          0.7992073976221928,
          0.7797642436149312,
          0.7822014051522248,
          0.7732776016142979,
          0.7893878334292842,
          0.8145161290322581,
          0.7857142857142857,
          0.8341708542713567,
          0.7884012539184952
         ]
        },
        {
         "line": {
          "color": "#F06A64"
         },
         "name": "Merchant bad review",
         "type": "scatter",
         "x": [
          0.1,
          0.3305298396179653,
          1.092499748778779,
          3.6110376674651734,
          11.935557010816956,
          39.4505774453641,
          130.39593035852323,
          430.9974594823805,
          1424.5752115846176,
          4708.64616208793
         ],
         "y": [
          0.21551724137931036,
          0.20079260237780716,
          0.2202357563850688,
          0.2177985948477752,
          0.22672239838570196,
          0.2106121665707158,
          0.18548387096774194,
          0.21428571428571427,
          0.1658291457286432,
          0.2115987460815047
         ]
        },
        {
         "line": {
          "color": "#33CFA1"
         },
         "name": "Computers good review",
         "type": "scatter",
         "x": [
          0.1,
          0.3305298396179653,
          1.092499748778779,
          3.6110376674651734,
          11.935557010816956,
          39.4505774453641,
          130.39593035852323,
          430.9974594823805,
          1424.5752115846176,
          4708.64616208793
         ],
         "y": [
          0.5652173913043478,
          0.75,
          0.7413793103448276,
          0.706953642384106,
          0.6313423249839435,
          0.6504211793020457,
          0.65,
          0.6515151515151515,
          0.6428571428571429,
          0.6470588235294118
         ]
        },
        {
         "line": {
          "color": "#F06A64"
         },
         "name": "Computers bad review",
         "type": "scatter",
         "x": [
          0.1,
          0.3305298396179653,
          1.092499748778779,
          3.6110376674651734,
          11.935557010816956,
          39.4505774453641,
          130.39593035852323,
          430.9974594823805,
          1424.5752115846176,
          4708.64616208793
         ],
         "y": [
          0.43478260869565216,
          0.25,
          0.25862068965517243,
          0.29304635761589404,
          0.3686576750160565,
          0.34957882069795426,
          0.35,
          0.3484848484848485,
          0.35714285714285715,
          0.35294117647058826
         ]
        },
        {
         "line": {
          "color": "#33CFA1"
         },
         "name": "Sport good review",
         "type": "scatter",
         "x": [
          0.1,
          0.3305298396179653,
          1.092499748778779,
          3.6110376674651734,
          11.935557010816956,
          39.4505774453641,
          130.39593035852323,
          430.9974594823805,
          1424.5752115846176,
          4708.64616208793
         ],
         "y": [
          0.8311688311688312,
          0.6930232558139535,
          0.7009536784741145,
          0.7055398729710657,
          0.7203663793103449,
          0.7278596258897534,
          0.734375,
          0.8201634877384196,
          0.7341772151898734,
          0.7533783783783784
         ]
        },
        {
         "line": {
          "color": "#F06A64"
         },
         "name": "Sport bad review",
         "type": "scatter",
         "x": [
          0.1,
          0.3305298396179653,
          1.092499748778779,
          3.6110376674651734,
          11.935557010816956,
          39.4505774453641,
          130.39593035852323,
          430.9974594823805,
          1424.5752115846176,
          4708.64616208793
         ],
         "y": [
          0.16883116883116886,
          0.3069767441860465,
          0.2990463215258856,
          0.2944601270289344,
          0.2796336206896552,
          0.27214037411024666,
          0.265625,
          0.17983651226158034,
          0.26582278481012656,
          0.24662162162162166
         ]
        },
        {
         "line": {
          "color": "#33CFA1"
         },
         "name": "Health good review",
         "type": "scatter",
         "x": [
          0.1,
          0.3305298396179653,
          1.092499748778779,
          3.6110376674651734,
          11.935557010816956,
          39.4505774453641,
          130.39593035852323,
          430.9974594823805,
          1424.5752115846176,
          4708.64616208793
         ],
         "y": [
          0.8902439024390244,
          0.8,
          0.7949685534591195,
          0.8064143311181741,
          0.8115384615384615,
          0.8269444444444445,
          0.7413793103448276,
          0.78125,
          0.8928571428571429,
          0.7974683544303798
         ]
        },
        {
         "line": {
          "color": "#F06A64"
         },
         "name": "Health bad review",
         "type": "scatter",
         "x": [
          0.1,
          0.3305298396179653,
          1.092499748778779,
          3.6110376674651734,
          11.935557010816956,
          39.4505774453641,
          130.39593035852323,
          430.9974594823805,
          1424.5752115846176,
          4708.64616208793
         ],
         "y": [
          0.1097560975609756,
          0.2,
          0.2050314465408805,
          0.19358566888182607,
          0.18846153846153849,
          0.17305555555555555,
          0.25862068965517243,
          0.21875,
          0.10714285714285714,
          0.20253164556962025
         ]
        },
        {
         "line": {
          "color": "#33CFA1"
         },
         "name": "BusinessSupport good review",
         "type": "scatter",
         "x": [
          0.1,
          0.3305298396179653,
          1.092499748778779,
          3.6110376674651734,
          11.935557010816956,
          39.4505774453641,
          130.39593035852323,
          430.9974594823805,
          1424.5752115846176,
          4708.64616208793
         ],
         "y": [
          0.7345132743362832,
          0.7756680731364276,
          0.7731933292155652,
          0.7529367004327769,
          0.7710964569129317,
          0.7788961928238839,
          0.7871720116618076,
          0.7494880546075086,
          0.7300884955752213,
          0.7699805068226121
         ]
        },
        {
         "line": {
          "color": "#F06A64"
         },
         "name": "BusinessSupport bad review",
         "type": "scatter",
         "x": [
          0.1,
          0.3305298396179653,
          1.092499748778779,
          3.6110376674651734,
          11.935557010816956,
          39.4505774453641,
          130.39593035852323,
          430.9974594823805,
          1424.5752115846176,
          4708.64616208793
         ],
         "y": [
          0.26548672566371684,
          0.2243319268635724,
          0.22680667078443484,
          0.2470632995672231,
          0.2289035430870683,
          0.22110380717611613,
          0.2128279883381924,
          0.25051194539249144,
          0.26991150442477874,
          0.2300194931773879
         ]
        },
        {
         "line": {
          "color": "#33CFA1"
         },
         "name": "Home good review",
         "type": "scatter",
         "x": [
          0.1,
          0.3305298396179653,
          1.092499748778779,
          3.6110376674651734,
          11.935557010816956,
          39.4505774453641,
          130.39593035852323,
          430.9974594823805,
          1424.5752115846176,
          4708.64616208793
         ],
         "y": [
          0.611764705882353,
          0.8210526315789474,
          0.7744360902255639,
          0.7811993517017828,
          0.7581649990560695,
          0.7615720524017467,
          0.7717391304347826,
          0.7972972972972973,
          0.84,
          0.7604166666666666
         ]
        },
        {
         "line": {
          "color": "#F06A64"
         },
         "name": "Home bad review",
         "type": "scatter",
         "x": [
          0.1,
          0.3305298396179653,
          1.092499748778779,
          3.6110376674651734,
          11.935557010816956,
          39.4505774453641,
          130.39593035852323,
          430.9974594823805,
          1424.5752115846176,
          4708.64616208793
         ],
         "y": [
          0.3882352941176471,
          0.17894736842105266,
          0.2255639097744361,
          0.2188006482982172,
          0.2418350009439305,
          0.2384279475982533,
          0.22826086956521735,
          0.20270270270270271,
          0.16,
          0.2395833333333333
         ]
        },
        {
         "line": {
          "color": "#33CFA1"
         },
         "name": "Miscellaneous good review",
         "type": "scatter",
         "x": [
          0.1,
          0.3305298396179653,
          1.092499748778779,
          3.6110376674651734,
          11.935557010816956,
          39.4505774453641,
          130.39593035852323,
          430.9974594823805,
          1424.5752115846176,
          4708.64616208793
         ],
         "y": [
          0.8059701492537313,
          0.8630952380952381,
          0.8361921097770154,
          0.8251216545012166,
          0.8320865828425911,
          0.8144644491913335,
          0.8775510204081632,
          0.8070175438596491,
          0.9047619047619048,
          0.871900826446281
         ]
        },
        {
         "line": {
          "color": "#F06A64"
         },
         "name": "Miscellaneous bad review",
         "type": "scatter",
         "x": [
          0.1,
          0.3305298396179653,
          1.092499748778779,
          3.6110376674651734,
          11.935557010816956,
          39.4505774453641,
          130.39593035852323,
          430.9974594823805,
          1424.5752115846176,
          4708.64616208793
         ],
         "y": [
          0.19402985074626866,
          0.13690476190476192,
          0.16380789022298456,
          0.17487834549878345,
          0.16791341715740887,
          0.1855355508086665,
          0.12244897959183673,
          0.19298245614035087,
          0.09523809523809523,
          0.12809917355371903
         ]
        },
        {
         "line": {
          "color": "#33CFA1"
         },
         "name": "All Categories good review",
         "type": "scatter",
         "x": [
          0.1,
          0.3305298396179653,
          1.092499748778779,
          3.6110376674651734,
          11.935557010816956,
          39.4505774453641,
          130.39593035852323,
          430.9974594823805,
          1424.5752115846176,
          4708.64616208793
         ],
         "y": [
          0.7820937944102321,
          0.7642444871984608,
          0.7635938461538462,
          0.7746852431776059,
          0.7786602980465946,
          0.7708269620668955,
          0.7943768359211079,
          0.7729532648326152,
          0.8282639213851193,
          0.7794744318181818
         ]
        },
        {
         "line": {
          "color": "#F06A64"
         },
         "name": "All Categories bad review",
         "type": "scatter",
         "x": [
          0.1,
          0.3305298396179653,
          1.092499748778779,
          3.6110376674651734,
          11.935557010816956,
          39.4505774453641,
          130.39593035852323,
          430.9974594823805,
          1424.5752115846176,
          4708.64616208793
         ],
         "y": [
          0.2179062055897679,
          0.23575551280153914,
          0.23640615384615385,
          0.2253147568223941,
          0.22133970195340533,
          0.2291730379331045,
          0.2056231640788921,
          0.22704673516738486,
          0.17173607861488066,
          0.22052556818181815
         ]
        }
       ],
       "layout": {
        "template": {
         "data": {
          "bar": [
           {
            "error_x": {
             "color": "#2a3f5f"
            },
            "error_y": {
             "color": "#2a3f5f"
            },
            "marker": {
             "line": {
              "color": "#E5ECF6",
              "width": 0.5
             }
            },
            "type": "bar"
           }
          ],
          "barpolar": [
           {
            "marker": {
             "line": {
              "color": "#E5ECF6",
              "width": 0.5
             }
            },
            "type": "barpolar"
           }
          ],
          "carpet": [
           {
            "aaxis": {
             "endlinecolor": "#2a3f5f",
             "gridcolor": "white",
             "linecolor": "white",
             "minorgridcolor": "white",
             "startlinecolor": "#2a3f5f"
            },
            "baxis": {
             "endlinecolor": "#2a3f5f",
             "gridcolor": "white",
             "linecolor": "white",
             "minorgridcolor": "white",
             "startlinecolor": "#2a3f5f"
            },
            "type": "carpet"
           }
          ],
          "choropleth": [
           {
            "colorbar": {
             "outlinewidth": 0,
             "ticks": ""
            },
            "type": "choropleth"
           }
          ],
          "contour": [
           {
            "colorbar": {
             "outlinewidth": 0,
             "ticks": ""
            },
            "colorscale": [
             [
              0,
              "#0d0887"
             ],
             [
              0.1111111111111111,
              "#46039f"
             ],
             [
              0.2222222222222222,
              "#7201a8"
             ],
             [
              0.3333333333333333,
              "#9c179e"
             ],
             [
              0.4444444444444444,
              "#bd3786"
             ],
             [
              0.5555555555555556,
              "#d8576b"
             ],
             [
              0.6666666666666666,
              "#ed7953"
             ],
             [
              0.7777777777777778,
              "#fb9f3a"
             ],
             [
              0.8888888888888888,
              "#fdca26"
             ],
             [
              1,
              "#f0f921"
             ]
            ],
            "type": "contour"
           }
          ],
          "contourcarpet": [
           {
            "colorbar": {
             "outlinewidth": 0,
             "ticks": ""
            },
            "type": "contourcarpet"
           }
          ],
          "heatmap": [
           {
            "colorbar": {
             "outlinewidth": 0,
             "ticks": ""
            },
            "colorscale": [
             [
              0,
              "#0d0887"
             ],
             [
              0.1111111111111111,
              "#46039f"
             ],
             [
              0.2222222222222222,
              "#7201a8"
             ],
             [
              0.3333333333333333,
              "#9c179e"
             ],
             [
              0.4444444444444444,
              "#bd3786"
             ],
             [
              0.5555555555555556,
              "#d8576b"
             ],
             [
              0.6666666666666666,
              "#ed7953"
             ],
             [
              0.7777777777777778,
              "#fb9f3a"
             ],
             [
              0.8888888888888888,
              "#fdca26"
             ],
             [
              1,
              "#f0f921"
             ]
            ],
            "type": "heatmap"
           }
          ],
          "heatmapgl": [
           {
            "colorbar": {
             "outlinewidth": 0,
             "ticks": ""
            },
            "colorscale": [
             [
              0,
              "#0d0887"
             ],
             [
              0.1111111111111111,
              "#46039f"
             ],
             [
              0.2222222222222222,
              "#7201a8"
             ],
             [
              0.3333333333333333,
              "#9c179e"
             ],
             [
              0.4444444444444444,
              "#bd3786"
             ],
             [
              0.5555555555555556,
              "#d8576b"
             ],
             [
              0.6666666666666666,
              "#ed7953"
             ],
             [
              0.7777777777777778,
              "#fb9f3a"
             ],
             [
              0.8888888888888888,
              "#fdca26"
             ],
             [
              1,
              "#f0f921"
             ]
            ],
            "type": "heatmapgl"
           }
          ],
          "histogram": [
           {
            "marker": {
             "colorbar": {
              "outlinewidth": 0,
              "ticks": ""
             }
            },
            "type": "histogram"
           }
          ],
          "histogram2d": [
           {
            "colorbar": {
             "outlinewidth": 0,
             "ticks": ""
            },
            "colorscale": [
             [
              0,
              "#0d0887"
             ],
             [
              0.1111111111111111,
              "#46039f"
             ],
             [
              0.2222222222222222,
              "#7201a8"
             ],
             [
              0.3333333333333333,
              "#9c179e"
             ],
             [
              0.4444444444444444,
              "#bd3786"
             ],
             [
              0.5555555555555556,
              "#d8576b"
             ],
             [
              0.6666666666666666,
              "#ed7953"
             ],
             [
              0.7777777777777778,
              "#fb9f3a"
             ],
             [
              0.8888888888888888,
              "#fdca26"
             ],
             [
              1,
              "#f0f921"
             ]
            ],
            "type": "histogram2d"
           }
          ],
          "histogram2dcontour": [
           {
            "colorbar": {
             "outlinewidth": 0,
             "ticks": ""
            },
            "colorscale": [
             [
              0,
              "#0d0887"
             ],
             [
              0.1111111111111111,
              "#46039f"
             ],
             [
              0.2222222222222222,
              "#7201a8"
             ],
             [
              0.3333333333333333,
              "#9c179e"
             ],
             [
              0.4444444444444444,
              "#bd3786"
             ],
             [
              0.5555555555555556,
              "#d8576b"
             ],
             [
              0.6666666666666666,
              "#ed7953"
             ],
             [
              0.7777777777777778,
              "#fb9f3a"
             ],
             [
              0.8888888888888888,
              "#fdca26"
             ],
             [
              1,
              "#f0f921"
             ]
            ],
            "type": "histogram2dcontour"
           }
          ],
          "mesh3d": [
           {
            "colorbar": {
             "outlinewidth": 0,
             "ticks": ""
            },
            "type": "mesh3d"
           }
          ],
          "parcoords": [
           {
            "line": {
             "colorbar": {
              "outlinewidth": 0,
              "ticks": ""
             }
            },
            "type": "parcoords"
           }
          ],
          "pie": [
           {
            "automargin": true,
            "type": "pie"
           }
          ],
          "scatter": [
           {
            "marker": {
             "colorbar": {
              "outlinewidth": 0,
              "ticks": ""
             }
            },
            "type": "scatter"
           }
          ],
          "scatter3d": [
           {
            "line": {
             "colorbar": {
              "outlinewidth": 0,
              "ticks": ""
             }
            },
            "marker": {
             "colorbar": {
              "outlinewidth": 0,
              "ticks": ""
             }
            },
            "type": "scatter3d"
           }
          ],
          "scattercarpet": [
           {
            "marker": {
             "colorbar": {
              "outlinewidth": 0,
              "ticks": ""
             }
            },
            "type": "scattercarpet"
           }
          ],
          "scattergeo": [
           {
            "marker": {
             "colorbar": {
              "outlinewidth": 0,
              "ticks": ""
             }
            },
            "type": "scattergeo"
           }
          ],
          "scattergl": [
           {
            "marker": {
             "colorbar": {
              "outlinewidth": 0,
              "ticks": ""
             }
            },
            "type": "scattergl"
           }
          ],
          "scattermapbox": [
           {
            "marker": {
             "colorbar": {
              "outlinewidth": 0,
              "ticks": ""
             }
            },
            "type": "scattermapbox"
           }
          ],
          "scatterpolar": [
           {
            "marker": {
             "colorbar": {
              "outlinewidth": 0,
              "ticks": ""
             }
            },
            "type": "scatterpolar"
           }
          ],
          "scatterpolargl": [
           {
            "marker": {
             "colorbar": {
              "outlinewidth": 0,
              "ticks": ""
             }
            },
            "type": "scatterpolargl"
           }
          ],
          "scatterternary": [
           {
            "marker": {
             "colorbar": {
              "outlinewidth": 0,
              "ticks": ""
             }
            },
            "type": "scatterternary"
           }
          ],
          "surface": [
           {
            "colorbar": {
             "outlinewidth": 0,
             "ticks": ""
            },
            "colorscale": [
             [
              0,
              "#0d0887"
             ],
             [
              0.1111111111111111,
              "#46039f"
             ],
             [
              0.2222222222222222,
              "#7201a8"
             ],
             [
              0.3333333333333333,
              "#9c179e"
             ],
             [
              0.4444444444444444,
              "#bd3786"
             ],
             [
              0.5555555555555556,
              "#d8576b"
             ],
             [
              0.6666666666666666,
              "#ed7953"
             ],
             [
              0.7777777777777778,
              "#fb9f3a"
             ],
             [
              0.8888888888888888,
              "#fdca26"
             ],
             [
              1,
              "#f0f921"
             ]
            ],
            "type": "surface"
           }
          ],
          "table": [
           {
            "cells": {
             "fill": {
              "color": "#EBF0F8"
             },
             "line": {
              "color": "white"
             }
            },
            "header": {
             "fill": {
              "color": "#C8D4E3"
             },
             "line": {
              "color": "white"
             }
            },
            "type": "table"
           }
          ]
         },
         "layout": {
          "annotationdefaults": {
           "arrowcolor": "#2a3f5f",
           "arrowhead": 0,
           "arrowwidth": 1
          },
          "autotypenumbers": "strict",
          "coloraxis": {
           "colorbar": {
            "outlinewidth": 0,
            "ticks": ""
           }
          },
          "colorscale": {
           "diverging": [
            [
             0,
             "#8e0152"
            ],
            [
             0.1,
             "#c51b7d"
            ],
            [
             0.2,
             "#de77ae"
            ],
            [
             0.3,
             "#f1b6da"
            ],
            [
             0.4,
             "#fde0ef"
            ],
            [
             0.5,
             "#f7f7f7"
            ],
            [
             0.6,
             "#e6f5d0"
            ],
            [
             0.7,
             "#b8e186"
            ],
            [
             0.8,
             "#7fbc41"
            ],
            [
             0.9,
             "#4d9221"
            ],
            [
             1,
             "#276419"
            ]
           ],
           "sequential": [
            [
             0,
             "#0d0887"
            ],
            [
             0.1111111111111111,
             "#46039f"
            ],
            [
             0.2222222222222222,
             "#7201a8"
            ],
            [
             0.3333333333333333,
             "#9c179e"
            ],
            [
             0.4444444444444444,
             "#bd3786"
            ],
            [
             0.5555555555555556,
             "#d8576b"
            ],
            [
             0.6666666666666666,
             "#ed7953"
            ],
            [
             0.7777777777777778,
             "#fb9f3a"
            ],
            [
             0.8888888888888888,
             "#fdca26"
            ],
            [
             1,
             "#f0f921"
            ]
           ],
           "sequentialminus": [
            [
             0,
             "#0d0887"
            ],
            [
             0.1111111111111111,
             "#46039f"
            ],
            [
             0.2222222222222222,
             "#7201a8"
            ],
            [
             0.3333333333333333,
             "#9c179e"
            ],
            [
             0.4444444444444444,
             "#bd3786"
            ],
            [
             0.5555555555555556,
             "#d8576b"
            ],
            [
             0.6666666666666666,
             "#ed7953"
            ],
            [
             0.7777777777777778,
             "#fb9f3a"
            ],
            [
             0.8888888888888888,
             "#fdca26"
            ],
            [
             1,
             "#f0f921"
            ]
           ]
          },
          "colorway": [
           "#636efa",
           "#EF553B",
           "#00cc96",
           "#ab63fa",
           "#FFA15A",
           "#19d3f3",
           "#FF6692",
           "#B6E880",
           "#FF97FF",
           "#FECB52"
          ],
          "font": {
           "color": "#2a3f5f"
          },
          "geo": {
           "bgcolor": "white",
           "lakecolor": "white",
           "landcolor": "#E5ECF6",
           "showlakes": true,
           "showland": true,
           "subunitcolor": "white"
          },
          "hoverlabel": {
           "align": "left"
          },
          "hovermode": "closest",
          "mapbox": {
           "style": "light"
          },
          "paper_bgcolor": "white",
          "plot_bgcolor": "#E5ECF6",
          "polar": {
           "angularaxis": {
            "gridcolor": "white",
            "linecolor": "white",
            "ticks": ""
           },
           "bgcolor": "#E5ECF6",
           "radialaxis": {
            "gridcolor": "white",
            "linecolor": "white",
            "ticks": ""
           }
          },
          "scene": {
           "xaxis": {
            "backgroundcolor": "#E5ECF6",
            "gridcolor": "white",
            "gridwidth": 2,
            "linecolor": "white",
            "showbackground": true,
            "ticks": "",
            "zerolinecolor": "white"
           },
           "yaxis": {
            "backgroundcolor": "#E5ECF6",
            "gridcolor": "white",
            "gridwidth": 2,
            "linecolor": "white",
            "showbackground": true,
            "ticks": "",
            "zerolinecolor": "white"
           },
           "zaxis": {
            "backgroundcolor": "#E5ECF6",
            "gridcolor": "white",
            "gridwidth": 2,
            "linecolor": "white",
            "showbackground": true,
            "ticks": "",
            "zerolinecolor": "white"
           }
          },
          "shapedefaults": {
           "line": {
            "color": "#2a3f5f"
           }
          },
          "ternary": {
           "aaxis": {
            "gridcolor": "white",
            "linecolor": "white",
            "ticks": ""
           },
           "baxis": {
            "gridcolor": "white",
            "linecolor": "white",
            "ticks": ""
           },
           "bgcolor": "#E5ECF6",
           "caxis": {
            "gridcolor": "white",
            "linecolor": "white",
            "ticks": ""
           }
          },
          "title": {
           "x": 0.05
          },
          "xaxis": {
           "automargin": true,
           "gridcolor": "white",
           "linecolor": "white",
           "ticks": "",
           "title": {
            "standoff": 15
           },
           "zerolinecolor": "white",
           "zerolinewidth": 2
          },
          "yaxis": {
           "automargin": true,
           "gridcolor": "white",
           "linecolor": "white",
           "ticks": "",
           "title": {
            "standoff": 15
           },
           "zerolinecolor": "white",
           "zerolinewidth": 2
          }
         }
        },
        "title": {
         "text": "Distance travelled in km by category"
        },
        "updatemenus": [
         {
          "active": 0,
          "buttons": [
           {
            "args": [
             {
              "visible": [
               1,
               1,
               1,
               1,
               1,
               1,
               1,
               1,
               1,
               1,
               1,
               1,
               1,
               1,
               1,
               1,
               1,
               1
              ]
             },
             {
              "title": "Plot all categories"
             }
            ],
            "label": "Plot all categories",
            "method": "update"
           },
           {
            "args": [
             {
              "visible": [
               true,
               true,
               false,
               false,
               false,
               false,
               false,
               false,
               false,
               false,
               false,
               false,
               false,
               false,
               false,
               false,
               false,
               false,
               false,
               false,
               false,
               false,
               false,
               false,
               false,
               false,
               false,
               false,
               false,
               false,
               false,
               false,
               false,
               false,
               false,
               false
              ]
             },
             {
              "title": "Automotive"
             }
            ],
            "label": "Automotive",
            "method": "update"
           },
           {
            "args": [
             {
              "visible": [
               false,
               false,
               true,
               true,
               false,
               false,
               false,
               false,
               false,
               false,
               false,
               false,
               false,
               false,
               false,
               false,
               false,
               false,
               false,
               false,
               false,
               false,
               false,
               false,
               false,
               false,
               false,
               false,
               false,
               false,
               false,
               false,
               false,
               false,
               false,
               false
              ]
             },
             {
              "title": "Construction"
             }
            ],
            "label": "Construction",
            "method": "update"
           },
           {
            "args": [
             {
              "visible": [
               false,
               false,
               false,
               false,
               true,
               true,
               false,
               false,
               false,
               false,
               false,
               false,
               false,
               false,
               false,
               false,
               false,
               false,
               false,
               false,
               false,
               false,
               false,
               false,
               false,
               false,
               false,
               false,
               false,
               false,
               false,
               false,
               false,
               false,
               false,
               false
              ]
             },
             {
              "title": "Manufacturing"
             }
            ],
            "label": "Manufacturing",
            "method": "update"
           },
           {
            "args": [
             {
              "visible": [
               false,
               false,
               false,
               false,
               false,
               false,
               true,
               true,
               false,
               false,
               false,
               false,
               false,
               false,
               false,
               false,
               false,
               false,
               false,
               false,
               false,
               false,
               false,
               false,
               false,
               false,
               false,
               false,
               false,
               false,
               false,
               false,
               false,
               false,
               false,
               false
              ]
             },
             {
              "title": "Legal"
             }
            ],
            "label": "Legal",
            "method": "update"
           },
           {
            "args": [
             {
              "visible": [
               false,
               false,
               false,
               false,
               false,
               false,
               false,
               false,
               true,
               true,
               false,
               false,
               false,
               false,
               false,
               false,
               false,
               false,
               false,
               false,
               false,
               false,
               false,
               false,
               false,
               false,
               false,
               false,
               false,
               false,
               false,
               false,
               false,
               false,
               false,
               false
              ]
             },
             {
              "title": "PersonalCare"
             }
            ],
            "label": "PersonalCare",
            "method": "update"
           },
           {
            "args": [
             {
              "visible": [
               false,
               false,
               false,
               false,
               false,
               false,
               false,
               false,
               false,
               false,
               true,
               true,
               false,
               false,
               false,
               false,
               false,
               false,
               false,
               false,
               false,
               false,
               false,
               false,
               false,
               false,
               false,
               false,
               false,
               false,
               false,
               false,
               false,
               false,
               false,
               false
              ]
             },
             {
              "title": "Food"
             }
            ],
            "label": "Food",
            "method": "update"
           },
           {
            "args": [
             {
              "visible": [
               false,
               false,
               false,
               false,
               false,
               false,
               false,
               false,
               false,
               false,
               false,
               false,
               true,
               true,
               false,
               false,
               false,
               false,
               false,
               false,
               false,
               false,
               false,
               false,
               false,
               false,
               false,
               false,
               false,
               false,
               false,
               false,
               false,
               false,
               false,
               false
              ]
             },
             {
              "title": "Education"
             }
            ],
            "label": "Education",
            "method": "update"
           },
           {
            "args": [
             {
              "visible": [
               false,
               false,
               false,
               false,
               false,
               false,
               false,
               false,
               false,
               false,
               false,
               false,
               false,
               false,
               true,
               true,
               false,
               false,
               false,
               false,
               false,
               false,
               false,
               false,
               false,
               false,
               false,
               false,
               false,
               false,
               false,
               false,
               false,
               false,
               false,
               false
              ]
             },
             {
              "title": "Travel"
             }
            ],
            "label": "Travel",
            "method": "update"
           },
           {
            "args": [
             {
              "visible": [
               false,
               false,
               false,
               false,
               false,
               false,
               false,
               false,
               false,
               false,
               false,
               false,
               false,
               false,
               false,
               false,
               true,
               true,
               false,
               false,
               false,
               false,
               false,
               false,
               false,
               false,
               false,
               false,
               false,
               false,
               false,
               false,
               false,
               false,
               false,
               false
              ]
             },
             {
              "title": "Entertainment"
             }
            ],
            "label": "Entertainment",
            "method": "update"
           },
           {
            "args": [
             {
              "visible": [
               false,
               false,
               false,
               false,
               false,
               false,
               false,
               false,
               false,
               false,
               false,
               false,
               false,
               false,
               false,
               false,
               false,
               false,
               true,
               true,
               false,
               false,
               false,
               false,
               false,
               false,
               false,
               false,
               false,
               false,
               false,
               false,
               false,
               false,
               false,
               false
              ]
             },
             {
              "title": "RealEstate"
             }
            ],
            "label": "RealEstate",
            "method": "update"
           },
           {
            "args": [
             {
              "visible": [
               false,
               false,
               false,
               false,
               false,
               false,
               false,
               false,
               false,
               false,
               false,
               false,
               false,
               false,
               false,
               false,
               false,
               false,
               false,
               false,
               true,
               true,
               false,
               false,
               false,
               false,
               false,
               false,
               false,
               false,
               false,
               false,
               false,
               false,
               false,
               false
              ]
             },
             {
              "title": "Merchant"
             }
            ],
            "label": "Merchant",
            "method": "update"
           },
           {
            "args": [
             {
              "visible": [
               false,
               false,
               false,
               false,
               false,
               false,
               false,
               false,
               false,
               false,
               false,
               false,
               false,
               false,
               false,
               false,
               false,
               false,
               false,
               false,
               false,
               false,
               true,
               true,
               false,
               false,
               false,
               false,
               false,
               false,
               false,
               false,
               false,
               false,
               false,
               false
              ]
             },
             {
              "title": "Computers"
             }
            ],
            "label": "Computers",
            "method": "update"
           },
           {
            "args": [
             {
              "visible": [
               false,
               false,
               false,
               false,
               false,
               false,
               false,
               false,
               false,
               false,
               false,
               false,
               false,
               false,
               false,
               false,
               false,
               false,
               false,
               false,
               false,
               false,
               false,
               false,
               true,
               true,
               false,
               false,
               false,
               false,
               false,
               false,
               false,
               false,
               false,
               false
              ]
             },
             {
              "title": "Sport"
             }
            ],
            "label": "Sport",
            "method": "update"
           },
           {
            "args": [
             {
              "visible": [
               false,
               false,
               false,
               false,
               false,
               false,
               false,
               false,
               false,
               false,
               false,
               false,
               false,
               false,
               false,
               false,
               false,
               false,
               false,
               false,
               false,
               false,
               false,
               false,
               false,
               false,
               true,
               true,
               false,
               false,
               false,
               false,
               false,
               false,
               false,
               false
              ]
             },
             {
              "title": "Health"
             }
            ],
            "label": "Health",
            "method": "update"
           },
           {
            "args": [
             {
              "visible": [
               false,
               false,
               false,
               false,
               false,
               false,
               false,
               false,
               false,
               false,
               false,
               false,
               false,
               false,
               false,
               false,
               false,
               false,
               false,
               false,
               false,
               false,
               false,
               false,
               false,
               false,
               false,
               false,
               true,
               true,
               false,
               false,
               false,
               false,
               false,
               false
              ]
             },
             {
              "title": "BusinessSupport"
             }
            ],
            "label": "BusinessSupport",
            "method": "update"
           },
           {
            "args": [
             {
              "visible": [
               false,
               false,
               false,
               false,
               false,
               false,
               false,
               false,
               false,
               false,
               false,
               false,
               false,
               false,
               false,
               false,
               false,
               false,
               false,
               false,
               false,
               false,
               false,
               false,
               false,
               false,
               false,
               false,
               false,
               false,
               true,
               true,
               false,
               false,
               false,
               false
              ]
             },
             {
              "title": "Home"
             }
            ],
            "label": "Home",
            "method": "update"
           },
           {
            "args": [
             {
              "visible": [
               false,
               false,
               false,
               false,
               false,
               false,
               false,
               false,
               false,
               false,
               false,
               false,
               false,
               false,
               false,
               false,
               false,
               false,
               false,
               false,
               false,
               false,
               false,
               false,
               false,
               false,
               false,
               false,
               false,
               false,
               false,
               false,
               true,
               true,
               false,
               false
              ]
             },
             {
              "title": "Miscellaneous"
             }
            ],
            "label": "Miscellaneous",
            "method": "update"
           },
           {
            "args": [
             {
              "visible": [
               false,
               false,
               false,
               false,
               false,
               false,
               false,
               false,
               false,
               false,
               false,
               false,
               false,
               false,
               false,
               false,
               false,
               false,
               false,
               false,
               false,
               false,
               false,
               false,
               false,
               false,
               false,
               false,
               false,
               false,
               false,
               false,
               false,
               false,
               true,
               true
              ]
             },
             {
              "title": "All Categories"
             }
            ],
            "label": "All Categories",
            "method": "update"
           }
          ]
         }
        ],
        "xaxis": {
         "title": {
          "text": "Distance travelled in km by category in logarithmic scale"
         },
         "type": "log"
        },
        "yaxis": {
         "title": {
          "text": "Probability of travelling"
         }
        }
       }
      },
      "text/html": [
       "<div>                            <div id=\"f02058ac-f864-47d9-93f3-02fcfc9c451c\" class=\"plotly-graph-div\" style=\"height:525px; width:100%;\"></div>            <script type=\"text/javascript\">                require([\"plotly\"], function(Plotly) {                    window.PLOTLYENV=window.PLOTLYENV || {};                                    if (document.getElementById(\"f02058ac-f864-47d9-93f3-02fcfc9c451c\")) {                    Plotly.newPlot(                        \"f02058ac-f864-47d9-93f3-02fcfc9c451c\",                        [{\"line\": {\"color\": \"#33CFA1\"}, \"name\": \"Automotive good review\", \"type\": \"scatter\", \"x\": [0.1, 0.3305298396179653, 1.092499748778779, 3.6110376674651734, 11.935557010816956, 39.4505774453641, 130.39593035852323, 430.9974594823805, 1424.5752115846176, 4708.64616208793], \"y\": [0.7468354430379747, 0.8875, 0.8356756756756757, 0.7386166145290233, 0.7395965836816282, 0.7379447954772198, 0.7903225806451613, 0.6935483870967742, 0.6666666666666666, 0.7372881355932204]}, {\"line\": {\"color\": \"#F06A64\"}, \"name\": \"Automotive bad review\", \"type\": \"scatter\", \"x\": [0.1, 0.3305298396179653, 1.092499748778779, 3.6110376674651734, 11.935557010816956, 39.4505774453641, 130.39593035852323, 430.9974594823805, 1424.5752115846176, 4708.64616208793], \"y\": [0.2531645569620253, 0.1125, 0.1643243243243243, 0.2613833854709767, 0.26040341631837177, 0.2620552045227802, 0.20967741935483872, 0.3064516129032258, 0.3333333333333333, 0.2627118644067797]}, {\"line\": {\"color\": \"#33CFA1\"}, \"name\": \"Construction good review\", \"type\": \"scatter\", \"x\": [0.1, 0.3305298396179653, 1.092499748778779, 3.6110376674651734, 11.935557010816956, 39.4505774453641, 130.39593035852323, 430.9974594823805, 1424.5752115846176, 4708.64616208793], \"y\": [0.6923076923076923, 0.8709677419354839, 0.7986111111111112, 0.7953964194373402, 0.8097936058276002, 0.8117883456128601, 0.8837209302325582, 0.8032786885245902, 0.9285714285714286, 0.7222222222222222]}, {\"line\": {\"color\": \"#F06A64\"}, \"name\": \"Construction bad review\", \"type\": \"scatter\", \"x\": [0.1, 0.3305298396179653, 1.092499748778779, 3.6110376674651734, 11.935557010816956, 39.4505774453641, 130.39593035852323, 430.9974594823805, 1424.5752115846176, 4708.64616208793], \"y\": [0.3076923076923077, 0.12903225806451613, 0.2013888888888889, 0.20460358056265984, 0.19020639417239985, 0.18821165438714002, 0.11627906976744184, 0.19672131147540986, 0.07142857142857142, 0.2777777777777778]}, {\"line\": {\"color\": \"#33CFA1\"}, \"name\": \"Manufacturing good review\", \"type\": \"scatter\", \"x\": [0.1, 0.3305298396179653, 1.092499748778779, 3.6110376674651734, 11.935557010816956, 39.4505774453641, 130.39593035852323, 430.9974594823805, 1424.5752115846176, 4708.64616208793], \"y\": [0.6666666666666666, 0.8260869565217391, 0.7791666666666667, 0.7900207900207901, 0.7798219584569733, 0.7698744769874477, 0.8666666666666667, 0.6666666666666666, 0.5, 0.7142857142857143]}, {\"line\": {\"color\": \"#F06A64\"}, \"name\": \"Manufacturing bad review\", \"type\": \"scatter\", \"x\": [0.1, 0.3305298396179653, 1.092499748778779, 3.6110376674651734, 11.935557010816956, 39.4505774453641, 130.39593035852323, 430.9974594823805, 1424.5752115846176, 4708.64616208793], \"y\": [0.3333333333333333, 0.17391304347826084, 0.22083333333333333, 0.20997920997920996, 0.2201780415430267, 0.2301255230125523, 0.13333333333333333, 0.3333333333333333, 0.5, 0.2857142857142857]}, {\"line\": {\"color\": \"#33CFA1\"}, \"name\": \"Legal good review\", \"type\": \"scatter\", \"x\": [0.1, 0.3305298396179653, 1.092499748778779, 3.6110376674651734, 11.935557010816956, 39.4505774453641, 130.39593035852323, 430.9974594823805, 1424.5752115846176, 4708.64616208793], \"y\": [0.6666666666666666, 0.8125, 0.740484429065744, 0.7670609645131938, 0.7694223107569721, 0.7515099223468508, 0.7222222222222222, 0.6792452830188679, 0.6666666666666666, 0.6470588235294118]}, {\"line\": {\"color\": \"#F06A64\"}, \"name\": \"Legal bad review\", \"type\": \"scatter\", \"x\": [0.1, 0.3305298396179653, 1.092499748778779, 3.6110376674651734, 11.935557010816956, 39.4505774453641, 130.39593035852323, 430.9974594823805, 1424.5752115846176, 4708.64616208793], \"y\": [0.3333333333333333, 0.1875, 0.25951557093425603, 0.2329390354868062, 0.2305776892430279, 0.2484900776531493, 0.2777777777777778, 0.3207547169811321, 0.3333333333333333, 0.35294117647058826]}, {\"line\": {\"color\": \"#33CFA1\"}, \"name\": \"PersonalCare good review\", \"type\": \"scatter\", \"x\": [0.1, 0.3305298396179653, 1.092499748778779, 3.6110376674651734, 11.935557010816956, 39.4505774453641, 130.39593035852323, 430.9974594823805, 1424.5752115846176, 4708.64616208793], \"y\": [0.8380952380952381, 0.8561759729272421, 0.8309386973180076, 0.8207685538281021, 0.8324906367041198, 0.8495010878535524, 0.8703703703703703, 0.83399209486166, 0.8641975308641975, 0.8239316239316239]}, {\"line\": {\"color\": \"#F06A64\"}, \"name\": \"PersonalCare bad review\", \"type\": \"scatter\", \"x\": [0.1, 0.3305298396179653, 1.092499748778779, 3.6110376674651734, 11.935557010816956, 39.4505774453641, 130.39593035852323, 430.9974594823805, 1424.5752115846176, 4708.64616208793], \"y\": [0.1619047619047619, 0.14382402707275804, 0.16906130268199235, 0.17923144617189793, 0.16750936329588015, 0.1504989121464476, 0.12962962962962962, 0.16600790513833993, 0.13580246913580246, 0.17606837606837608]}, {\"line\": {\"color\": \"#33CFA1\"}, \"name\": \"Food good review\", \"type\": \"scatter\", \"x\": [0.1, 0.3305298396179653, 1.092499748778779, 3.6110376674651734, 11.935557010816956, 39.4505774453641, 130.39593035852323, 430.9974594823805, 1424.5752115846176, 4708.64616208793], \"y\": [0.7995183624322697, 0.7654109589041096, 0.7614155251141552, 0.7736596563981043, 0.7772857421043899, 0.7642882743789805, 0.7914691943127962, 0.7942421676545299, 0.8442714126807565, 0.7950782997762863]}, {\"line\": {\"color\": \"#F06A64\"}, \"name\": \"Food bad review\", \"type\": \"scatter\", \"x\": [0.1, 0.3305298396179653, 1.092499748778779, 3.6110376674651734, 11.935557010816956, 39.4505774453641, 130.39593035852323, 430.9974594823805, 1424.5752115846176, 4708.64616208793], \"y\": [0.20048163756773027, 0.2345890410958904, 0.23858447488584475, 0.2263403436018957, 0.2227142578956099, 0.23571172562101955, 0.20853080568720375, 0.20575783234546996, 0.1557285873192436, 0.20492170022371364]}, {\"line\": {\"color\": \"#33CFA1\"}, \"name\": \"Education good review\", \"type\": \"scatter\", \"x\": [0.1, 0.3305298396179653, 1.092499748778779, 3.6110376674651734, 11.935557010816956, 39.4505774453641, 130.39593035852323, 430.9974594823805, 1424.5752115846176, 4708.64616208793], \"y\": [0.7906976744186046, 0.9035087719298246, 0.8655834564254062, 0.8318318318318318, 0.829501343684682, 0.8222550467749877, 0.8163265306122449, 0.8487394957983193, 0.8947368421052632, 0.8691588785046729]}, {\"line\": {\"color\": \"#F06A64\"}, \"name\": \"Education bad review\", \"type\": \"scatter\", \"x\": [0.1, 0.3305298396179653, 1.092499748778779, 3.6110376674651734, 11.935557010816956, 39.4505774453641, 130.39593035852323, 430.9974594823805, 1424.5752115846176, 4708.64616208793], \"y\": [0.20930232558139536, 0.09649122807017543, 0.1344165435745938, 0.16816816816816818, 0.17049865631531802, 0.1777449532250123, 0.1836734693877551, 0.15126050420168066, 0.10526315789473684, 0.1308411214953271]}, {\"line\": {\"color\": \"#33CFA1\"}, \"name\": \"Travel good review\", \"type\": \"scatter\", \"x\": [0.1, 0.3305298396179653, 1.092499748778779, 3.6110376674651734, 11.935557010816956, 39.4505774453641, 130.39593035852323, 430.9974594823805, 1424.5752115846176, 4708.64616208793], \"y\": [0.6468253968253969, 0.7512135922330098, 0.7471186440677966, 0.6978635591162904, 0.7219666474985624, 0.7704291593180482, 0.7719298245614035, 0.6413301662707839, 0.6210526315789474, 0.6606965174129353]}, {\"line\": {\"color\": \"#F06A64\"}, \"name\": \"Travel bad review\", \"type\": \"scatter\", \"x\": [0.1, 0.3305298396179653, 1.092499748778779, 3.6110376674651734, 11.935557010816956, 39.4505774453641, 130.39593035852323, 430.9974594823805, 1424.5752115846176, 4708.64616208793], \"y\": [0.3531746031746032, 0.2487864077669903, 0.2528813559322034, 0.3021364408837096, 0.2780333525014376, 0.2295708406819518, 0.2280701754385965, 0.3586698337292161, 0.37894736842105264, 0.33930348258706466]}, {\"line\": {\"color\": \"#33CFA1\"}, \"name\": \"Entertainment good review\", \"type\": \"scatter\", \"x\": [0.1, 0.3305298396179653, 1.092499748778779, 3.6110376674651734, 11.935557010816956, 39.4505774453641, 130.39593035852323, 430.9974594823805, 1424.5752115846176, 4708.64616208793], \"y\": [0.781491002570694, 0.7634608243594504, 0.767728290619557, 0.7686662122244944, 0.77951867635999, 0.7709220151258421, 0.8224431818181818, 0.7690504103165299, 0.8191304347826087, 0.8083447959651536]}, {\"line\": {\"color\": \"#F06A64\"}, \"name\": \"Entertainment bad review\", \"type\": \"scatter\", \"x\": [0.1, 0.3305298396179653, 1.092499748778779, 3.6110376674651734, 11.935557010816956, 39.4505774453641, 130.39593035852323, 430.9974594823805, 1424.5752115846176, 4708.64616208793], \"y\": [0.2185089974293059, 0.2365391756405496, 0.2322717093804429, 0.2313337877755056, 0.22048132364001, 0.22907798487415795, 0.17755681818181818, 0.2309495896834701, 0.1808695652173913, 0.1916552040348464]}, {\"line\": {\"color\": \"#33CFA1\"}, \"name\": \"RealEstate good review\", \"type\": \"scatter\", \"x\": [0.1, 0.3305298396179653, 1.092499748778779, 3.6110376674651734, 11.935557010816956, 39.4505774453641, 130.39593035852323, 430.9974594823805, 1424.5752115846176, 4708.64616208793], \"y\": [0.532608695652174, 0.8214285714285714, 0.7647058823529411, 0.7554719562243503, 0.7164677804295942, 0.7222460351478782, 0.726027397260274, 0.5245901639344263, 0.611764705882353, 0.5219638242894057]}, {\"line\": {\"color\": \"#F06A64\"}, \"name\": \"RealEstate bad review\", \"type\": \"scatter\", \"x\": [0.1, 0.3305298396179653, 1.092499748778779, 3.6110376674651734, 11.935557010816956, 39.4505774453641, 130.39593035852323, 430.9974594823805, 1424.5752115846176, 4708.64616208793], \"y\": [0.4673913043478261, 0.17857142857142858, 0.2352941176470588, 0.2445280437756498, 0.2835322195704057, 0.2777539648521217, 0.273972602739726, 0.4754098360655738, 0.3882352941176471, 0.4780361757105943]}, {\"line\": {\"color\": \"#33CFA1\"}, \"name\": \"Merchant good review\", \"type\": \"scatter\", \"x\": [0.1, 0.3305298396179653, 1.092499748778779, 3.6110376674651734, 11.935557010816956, 39.4505774453641, 130.39593035852323, 430.9974594823805, 1424.5752115846176, 4708.64616208793], \"y\": [0.7844827586206896, 0.7992073976221928, 0.7797642436149312, 0.7822014051522248, 0.7732776016142979, 0.7893878334292842, 0.8145161290322581, 0.7857142857142857, 0.8341708542713567, 0.7884012539184952]}, {\"line\": {\"color\": \"#F06A64\"}, \"name\": \"Merchant bad review\", \"type\": \"scatter\", \"x\": [0.1, 0.3305298396179653, 1.092499748778779, 3.6110376674651734, 11.935557010816956, 39.4505774453641, 130.39593035852323, 430.9974594823805, 1424.5752115846176, 4708.64616208793], \"y\": [0.21551724137931036, 0.20079260237780716, 0.2202357563850688, 0.2177985948477752, 0.22672239838570196, 0.2106121665707158, 0.18548387096774194, 0.21428571428571427, 0.1658291457286432, 0.2115987460815047]}, {\"line\": {\"color\": \"#33CFA1\"}, \"name\": \"Computers good review\", \"type\": \"scatter\", \"x\": [0.1, 0.3305298396179653, 1.092499748778779, 3.6110376674651734, 11.935557010816956, 39.4505774453641, 130.39593035852323, 430.9974594823805, 1424.5752115846176, 4708.64616208793], \"y\": [0.5652173913043478, 0.75, 0.7413793103448276, 0.706953642384106, 0.6313423249839435, 0.6504211793020457, 0.65, 0.6515151515151515, 0.6428571428571429, 0.6470588235294118]}, {\"line\": {\"color\": \"#F06A64\"}, \"name\": \"Computers bad review\", \"type\": \"scatter\", \"x\": [0.1, 0.3305298396179653, 1.092499748778779, 3.6110376674651734, 11.935557010816956, 39.4505774453641, 130.39593035852323, 430.9974594823805, 1424.5752115846176, 4708.64616208793], \"y\": [0.43478260869565216, 0.25, 0.25862068965517243, 0.29304635761589404, 0.3686576750160565, 0.34957882069795426, 0.35, 0.3484848484848485, 0.35714285714285715, 0.35294117647058826]}, {\"line\": {\"color\": \"#33CFA1\"}, \"name\": \"Sport good review\", \"type\": \"scatter\", \"x\": [0.1, 0.3305298396179653, 1.092499748778779, 3.6110376674651734, 11.935557010816956, 39.4505774453641, 130.39593035852323, 430.9974594823805, 1424.5752115846176, 4708.64616208793], \"y\": [0.8311688311688312, 0.6930232558139535, 0.7009536784741145, 0.7055398729710657, 0.7203663793103449, 0.7278596258897534, 0.734375, 0.8201634877384196, 0.7341772151898734, 0.7533783783783784]}, {\"line\": {\"color\": \"#F06A64\"}, \"name\": \"Sport bad review\", \"type\": \"scatter\", \"x\": [0.1, 0.3305298396179653, 1.092499748778779, 3.6110376674651734, 11.935557010816956, 39.4505774453641, 130.39593035852323, 430.9974594823805, 1424.5752115846176, 4708.64616208793], \"y\": [0.16883116883116886, 0.3069767441860465, 0.2990463215258856, 0.2944601270289344, 0.2796336206896552, 0.27214037411024666, 0.265625, 0.17983651226158034, 0.26582278481012656, 0.24662162162162166]}, {\"line\": {\"color\": \"#33CFA1\"}, \"name\": \"Health good review\", \"type\": \"scatter\", \"x\": [0.1, 0.3305298396179653, 1.092499748778779, 3.6110376674651734, 11.935557010816956, 39.4505774453641, 130.39593035852323, 430.9974594823805, 1424.5752115846176, 4708.64616208793], \"y\": [0.8902439024390244, 0.8, 0.7949685534591195, 0.8064143311181741, 0.8115384615384615, 0.8269444444444445, 0.7413793103448276, 0.78125, 0.8928571428571429, 0.7974683544303798]}, {\"line\": {\"color\": \"#F06A64\"}, \"name\": \"Health bad review\", \"type\": \"scatter\", \"x\": [0.1, 0.3305298396179653, 1.092499748778779, 3.6110376674651734, 11.935557010816956, 39.4505774453641, 130.39593035852323, 430.9974594823805, 1424.5752115846176, 4708.64616208793], \"y\": [0.1097560975609756, 0.2, 0.2050314465408805, 0.19358566888182607, 0.18846153846153849, 0.17305555555555555, 0.25862068965517243, 0.21875, 0.10714285714285714, 0.20253164556962025]}, {\"line\": {\"color\": \"#33CFA1\"}, \"name\": \"BusinessSupport good review\", \"type\": \"scatter\", \"x\": [0.1, 0.3305298396179653, 1.092499748778779, 3.6110376674651734, 11.935557010816956, 39.4505774453641, 130.39593035852323, 430.9974594823805, 1424.5752115846176, 4708.64616208793], \"y\": [0.7345132743362832, 0.7756680731364276, 0.7731933292155652, 0.7529367004327769, 0.7710964569129317, 0.7788961928238839, 0.7871720116618076, 0.7494880546075086, 0.7300884955752213, 0.7699805068226121]}, {\"line\": {\"color\": \"#F06A64\"}, \"name\": \"BusinessSupport bad review\", \"type\": \"scatter\", \"x\": [0.1, 0.3305298396179653, 1.092499748778779, 3.6110376674651734, 11.935557010816956, 39.4505774453641, 130.39593035852323, 430.9974594823805, 1424.5752115846176, 4708.64616208793], \"y\": [0.26548672566371684, 0.2243319268635724, 0.22680667078443484, 0.2470632995672231, 0.2289035430870683, 0.22110380717611613, 0.2128279883381924, 0.25051194539249144, 0.26991150442477874, 0.2300194931773879]}, {\"line\": {\"color\": \"#33CFA1\"}, \"name\": \"Home good review\", \"type\": \"scatter\", \"x\": [0.1, 0.3305298396179653, 1.092499748778779, 3.6110376674651734, 11.935557010816956, 39.4505774453641, 130.39593035852323, 430.9974594823805, 1424.5752115846176, 4708.64616208793], \"y\": [0.611764705882353, 0.8210526315789474, 0.7744360902255639, 0.7811993517017828, 0.7581649990560695, 0.7615720524017467, 0.7717391304347826, 0.7972972972972973, 0.84, 0.7604166666666666]}, {\"line\": {\"color\": \"#F06A64\"}, \"name\": \"Home bad review\", \"type\": \"scatter\", \"x\": [0.1, 0.3305298396179653, 1.092499748778779, 3.6110376674651734, 11.935557010816956, 39.4505774453641, 130.39593035852323, 430.9974594823805, 1424.5752115846176, 4708.64616208793], \"y\": [0.3882352941176471, 0.17894736842105266, 0.2255639097744361, 0.2188006482982172, 0.2418350009439305, 0.2384279475982533, 0.22826086956521735, 0.20270270270270271, 0.16, 0.2395833333333333]}, {\"line\": {\"color\": \"#33CFA1\"}, \"name\": \"Miscellaneous good review\", \"type\": \"scatter\", \"x\": [0.1, 0.3305298396179653, 1.092499748778779, 3.6110376674651734, 11.935557010816956, 39.4505774453641, 130.39593035852323, 430.9974594823805, 1424.5752115846176, 4708.64616208793], \"y\": [0.8059701492537313, 0.8630952380952381, 0.8361921097770154, 0.8251216545012166, 0.8320865828425911, 0.8144644491913335, 0.8775510204081632, 0.8070175438596491, 0.9047619047619048, 0.871900826446281]}, {\"line\": {\"color\": \"#F06A64\"}, \"name\": \"Miscellaneous bad review\", \"type\": \"scatter\", \"x\": [0.1, 0.3305298396179653, 1.092499748778779, 3.6110376674651734, 11.935557010816956, 39.4505774453641, 130.39593035852323, 430.9974594823805, 1424.5752115846176, 4708.64616208793], \"y\": [0.19402985074626866, 0.13690476190476192, 0.16380789022298456, 0.17487834549878345, 0.16791341715740887, 0.1855355508086665, 0.12244897959183673, 0.19298245614035087, 0.09523809523809523, 0.12809917355371903]}, {\"line\": {\"color\": \"#33CFA1\"}, \"name\": \"All Categories good review\", \"type\": \"scatter\", \"x\": [0.1, 0.3305298396179653, 1.092499748778779, 3.6110376674651734, 11.935557010816956, 39.4505774453641, 130.39593035852323, 430.9974594823805, 1424.5752115846176, 4708.64616208793], \"y\": [0.7820937944102321, 0.7642444871984608, 0.7635938461538462, 0.7746852431776059, 0.7786602980465946, 0.7708269620668955, 0.7943768359211079, 0.7729532648326152, 0.8282639213851193, 0.7794744318181818]}, {\"line\": {\"color\": \"#F06A64\"}, \"name\": \"All Categories bad review\", \"type\": \"scatter\", \"x\": [0.1, 0.3305298396179653, 1.092499748778779, 3.6110376674651734, 11.935557010816956, 39.4505774453641, 130.39593035852323, 430.9974594823805, 1424.5752115846176, 4708.64616208793], \"y\": [0.2179062055897679, 0.23575551280153914, 0.23640615384615385, 0.2253147568223941, 0.22133970195340533, 0.2291730379331045, 0.2056231640788921, 0.22704673516738486, 0.17173607861488066, 0.22052556818181815]}],                        {\"template\": {\"data\": {\"bar\": [{\"error_x\": {\"color\": \"#2a3f5f\"}, \"error_y\": {\"color\": \"#2a3f5f\"}, \"marker\": {\"line\": {\"color\": \"#E5ECF6\", \"width\": 0.5}}, \"type\": \"bar\"}], \"barpolar\": [{\"marker\": {\"line\": {\"color\": \"#E5ECF6\", \"width\": 0.5}}, \"type\": \"barpolar\"}], \"carpet\": [{\"aaxis\": {\"endlinecolor\": \"#2a3f5f\", \"gridcolor\": \"white\", \"linecolor\": \"white\", \"minorgridcolor\": \"white\", \"startlinecolor\": \"#2a3f5f\"}, \"baxis\": {\"endlinecolor\": \"#2a3f5f\", \"gridcolor\": \"white\", \"linecolor\": \"white\", \"minorgridcolor\": \"white\", \"startlinecolor\": \"#2a3f5f\"}, \"type\": \"carpet\"}], \"choropleth\": [{\"colorbar\": {\"outlinewidth\": 0, \"ticks\": \"\"}, \"type\": \"choropleth\"}], \"contour\": [{\"colorbar\": {\"outlinewidth\": 0, \"ticks\": \"\"}, \"colorscale\": [[0.0, \"#0d0887\"], [0.1111111111111111, \"#46039f\"], [0.2222222222222222, \"#7201a8\"], [0.3333333333333333, \"#9c179e\"], [0.4444444444444444, \"#bd3786\"], [0.5555555555555556, \"#d8576b\"], [0.6666666666666666, \"#ed7953\"], [0.7777777777777778, \"#fb9f3a\"], [0.8888888888888888, \"#fdca26\"], [1.0, \"#f0f921\"]], \"type\": \"contour\"}], \"contourcarpet\": [{\"colorbar\": {\"outlinewidth\": 0, \"ticks\": \"\"}, \"type\": \"contourcarpet\"}], \"heatmap\": [{\"colorbar\": {\"outlinewidth\": 0, \"ticks\": \"\"}, \"colorscale\": [[0.0, \"#0d0887\"], [0.1111111111111111, \"#46039f\"], [0.2222222222222222, \"#7201a8\"], [0.3333333333333333, \"#9c179e\"], [0.4444444444444444, \"#bd3786\"], [0.5555555555555556, \"#d8576b\"], [0.6666666666666666, \"#ed7953\"], [0.7777777777777778, \"#fb9f3a\"], [0.8888888888888888, \"#fdca26\"], [1.0, \"#f0f921\"]], \"type\": \"heatmap\"}], \"heatmapgl\": [{\"colorbar\": {\"outlinewidth\": 0, \"ticks\": \"\"}, \"colorscale\": [[0.0, \"#0d0887\"], [0.1111111111111111, \"#46039f\"], [0.2222222222222222, \"#7201a8\"], [0.3333333333333333, \"#9c179e\"], [0.4444444444444444, \"#bd3786\"], [0.5555555555555556, \"#d8576b\"], [0.6666666666666666, \"#ed7953\"], [0.7777777777777778, \"#fb9f3a\"], [0.8888888888888888, \"#fdca26\"], [1.0, \"#f0f921\"]], \"type\": \"heatmapgl\"}], \"histogram\": [{\"marker\": {\"colorbar\": {\"outlinewidth\": 0, \"ticks\": \"\"}}, \"type\": \"histogram\"}], \"histogram2d\": [{\"colorbar\": {\"outlinewidth\": 0, \"ticks\": \"\"}, \"colorscale\": [[0.0, \"#0d0887\"], [0.1111111111111111, \"#46039f\"], [0.2222222222222222, \"#7201a8\"], [0.3333333333333333, \"#9c179e\"], [0.4444444444444444, \"#bd3786\"], [0.5555555555555556, \"#d8576b\"], [0.6666666666666666, \"#ed7953\"], [0.7777777777777778, \"#fb9f3a\"], [0.8888888888888888, \"#fdca26\"], [1.0, \"#f0f921\"]], \"type\": \"histogram2d\"}], \"histogram2dcontour\": [{\"colorbar\": {\"outlinewidth\": 0, \"ticks\": \"\"}, \"colorscale\": [[0.0, \"#0d0887\"], [0.1111111111111111, \"#46039f\"], [0.2222222222222222, \"#7201a8\"], [0.3333333333333333, \"#9c179e\"], [0.4444444444444444, \"#bd3786\"], [0.5555555555555556, \"#d8576b\"], [0.6666666666666666, \"#ed7953\"], [0.7777777777777778, \"#fb9f3a\"], [0.8888888888888888, \"#fdca26\"], [1.0, \"#f0f921\"]], \"type\": \"histogram2dcontour\"}], \"mesh3d\": [{\"colorbar\": {\"outlinewidth\": 0, \"ticks\": \"\"}, \"type\": \"mesh3d\"}], \"parcoords\": [{\"line\": {\"colorbar\": {\"outlinewidth\": 0, \"ticks\": \"\"}}, \"type\": \"parcoords\"}], \"pie\": [{\"automargin\": true, \"type\": \"pie\"}], \"scatter\": [{\"marker\": {\"colorbar\": {\"outlinewidth\": 0, \"ticks\": \"\"}}, \"type\": \"scatter\"}], \"scatter3d\": [{\"line\": {\"colorbar\": {\"outlinewidth\": 0, \"ticks\": \"\"}}, \"marker\": {\"colorbar\": {\"outlinewidth\": 0, \"ticks\": \"\"}}, \"type\": \"scatter3d\"}], \"scattercarpet\": [{\"marker\": {\"colorbar\": {\"outlinewidth\": 0, \"ticks\": \"\"}}, \"type\": \"scattercarpet\"}], \"scattergeo\": [{\"marker\": {\"colorbar\": {\"outlinewidth\": 0, \"ticks\": \"\"}}, \"type\": \"scattergeo\"}], \"scattergl\": [{\"marker\": {\"colorbar\": {\"outlinewidth\": 0, \"ticks\": \"\"}}, \"type\": \"scattergl\"}], \"scattermapbox\": [{\"marker\": {\"colorbar\": {\"outlinewidth\": 0, \"ticks\": \"\"}}, \"type\": \"scattermapbox\"}], \"scatterpolar\": [{\"marker\": {\"colorbar\": {\"outlinewidth\": 0, \"ticks\": \"\"}}, \"type\": \"scatterpolar\"}], \"scatterpolargl\": [{\"marker\": {\"colorbar\": {\"outlinewidth\": 0, \"ticks\": \"\"}}, \"type\": \"scatterpolargl\"}], \"scatterternary\": [{\"marker\": {\"colorbar\": {\"outlinewidth\": 0, \"ticks\": \"\"}}, \"type\": \"scatterternary\"}], \"surface\": [{\"colorbar\": {\"outlinewidth\": 0, \"ticks\": \"\"}, \"colorscale\": [[0.0, \"#0d0887\"], [0.1111111111111111, \"#46039f\"], [0.2222222222222222, \"#7201a8\"], [0.3333333333333333, \"#9c179e\"], [0.4444444444444444, \"#bd3786\"], [0.5555555555555556, \"#d8576b\"], [0.6666666666666666, \"#ed7953\"], [0.7777777777777778, \"#fb9f3a\"], [0.8888888888888888, \"#fdca26\"], [1.0, \"#f0f921\"]], \"type\": \"surface\"}], \"table\": [{\"cells\": {\"fill\": {\"color\": \"#EBF0F8\"}, \"line\": {\"color\": \"white\"}}, \"header\": {\"fill\": {\"color\": \"#C8D4E3\"}, \"line\": {\"color\": \"white\"}}, \"type\": \"table\"}]}, \"layout\": {\"annotationdefaults\": {\"arrowcolor\": \"#2a3f5f\", \"arrowhead\": 0, \"arrowwidth\": 1}, \"autotypenumbers\": \"strict\", \"coloraxis\": {\"colorbar\": {\"outlinewidth\": 0, \"ticks\": \"\"}}, \"colorscale\": {\"diverging\": [[0, \"#8e0152\"], [0.1, \"#c51b7d\"], [0.2, \"#de77ae\"], [0.3, \"#f1b6da\"], [0.4, \"#fde0ef\"], [0.5, \"#f7f7f7\"], [0.6, \"#e6f5d0\"], [0.7, \"#b8e186\"], [0.8, \"#7fbc41\"], [0.9, \"#4d9221\"], [1, \"#276419\"]], \"sequential\": [[0.0, \"#0d0887\"], [0.1111111111111111, \"#46039f\"], [0.2222222222222222, \"#7201a8\"], [0.3333333333333333, \"#9c179e\"], [0.4444444444444444, \"#bd3786\"], [0.5555555555555556, \"#d8576b\"], [0.6666666666666666, \"#ed7953\"], [0.7777777777777778, \"#fb9f3a\"], [0.8888888888888888, \"#fdca26\"], [1.0, \"#f0f921\"]], \"sequentialminus\": [[0.0, \"#0d0887\"], [0.1111111111111111, \"#46039f\"], [0.2222222222222222, \"#7201a8\"], [0.3333333333333333, \"#9c179e\"], [0.4444444444444444, \"#bd3786\"], [0.5555555555555556, \"#d8576b\"], [0.6666666666666666, \"#ed7953\"], [0.7777777777777778, \"#fb9f3a\"], [0.8888888888888888, \"#fdca26\"], [1.0, \"#f0f921\"]]}, \"colorway\": [\"#636efa\", \"#EF553B\", \"#00cc96\", \"#ab63fa\", \"#FFA15A\", \"#19d3f3\", \"#FF6692\", \"#B6E880\", \"#FF97FF\", \"#FECB52\"], \"font\": {\"color\": \"#2a3f5f\"}, \"geo\": {\"bgcolor\": \"white\", \"lakecolor\": \"white\", \"landcolor\": \"#E5ECF6\", \"showlakes\": true, \"showland\": true, \"subunitcolor\": \"white\"}, \"hoverlabel\": {\"align\": \"left\"}, \"hovermode\": \"closest\", \"mapbox\": {\"style\": \"light\"}, \"paper_bgcolor\": \"white\", \"plot_bgcolor\": \"#E5ECF6\", \"polar\": {\"angularaxis\": {\"gridcolor\": \"white\", \"linecolor\": \"white\", \"ticks\": \"\"}, \"bgcolor\": \"#E5ECF6\", \"radialaxis\": {\"gridcolor\": \"white\", \"linecolor\": \"white\", \"ticks\": \"\"}}, \"scene\": {\"xaxis\": {\"backgroundcolor\": \"#E5ECF6\", \"gridcolor\": \"white\", \"gridwidth\": 2, \"linecolor\": \"white\", \"showbackground\": true, \"ticks\": \"\", \"zerolinecolor\": \"white\"}, \"yaxis\": {\"backgroundcolor\": \"#E5ECF6\", \"gridcolor\": \"white\", \"gridwidth\": 2, \"linecolor\": \"white\", \"showbackground\": true, \"ticks\": \"\", \"zerolinecolor\": \"white\"}, \"zaxis\": {\"backgroundcolor\": \"#E5ECF6\", \"gridcolor\": \"white\", \"gridwidth\": 2, \"linecolor\": \"white\", \"showbackground\": true, \"ticks\": \"\", \"zerolinecolor\": \"white\"}}, \"shapedefaults\": {\"line\": {\"color\": \"#2a3f5f\"}}, \"ternary\": {\"aaxis\": {\"gridcolor\": \"white\", \"linecolor\": \"white\", \"ticks\": \"\"}, \"baxis\": {\"gridcolor\": \"white\", \"linecolor\": \"white\", \"ticks\": \"\"}, \"bgcolor\": \"#E5ECF6\", \"caxis\": {\"gridcolor\": \"white\", \"linecolor\": \"white\", \"ticks\": \"\"}}, \"title\": {\"x\": 0.05}, \"xaxis\": {\"automargin\": true, \"gridcolor\": \"white\", \"linecolor\": \"white\", \"ticks\": \"\", \"title\": {\"standoff\": 15}, \"zerolinecolor\": \"white\", \"zerolinewidth\": 2}, \"yaxis\": {\"automargin\": true, \"gridcolor\": \"white\", \"linecolor\": \"white\", \"ticks\": \"\", \"title\": {\"standoff\": 15}, \"zerolinecolor\": \"white\", \"zerolinewidth\": 2}}}, \"title\": {\"text\": \"Distance travelled in km by category\"}, \"updatemenus\": [{\"active\": 0, \"buttons\": [{\"args\": [{\"visible\": [1.0, 1.0, 1.0, 1.0, 1.0, 1.0, 1.0, 1.0, 1.0, 1.0, 1.0, 1.0, 1.0, 1.0, 1.0, 1.0, 1.0, 1.0]}, {\"title\": \"Plot all categories\"}], \"label\": \"Plot all categories\", \"method\": \"update\"}, {\"args\": [{\"visible\": [true, true, false, false, false, false, false, false, false, false, false, false, false, false, false, false, false, false, false, false, false, false, false, false, false, false, false, false, false, false, false, false, false, false, false, false]}, {\"title\": \"Automotive\"}], \"label\": \"Automotive\", \"method\": \"update\"}, {\"args\": [{\"visible\": [false, false, true, true, false, false, false, false, false, false, false, false, false, false, false, false, false, false, false, false, false, false, false, false, false, false, false, false, false, false, false, false, false, false, false, false]}, {\"title\": \"Construction\"}], \"label\": \"Construction\", \"method\": \"update\"}, {\"args\": [{\"visible\": [false, false, false, false, true, true, false, false, false, false, false, false, false, false, false, false, false, false, false, false, false, false, false, false, false, false, false, false, false, false, false, false, false, false, false, false]}, {\"title\": \"Manufacturing\"}], \"label\": \"Manufacturing\", \"method\": \"update\"}, {\"args\": [{\"visible\": [false, false, false, false, false, false, true, true, false, false, false, false, false, false, false, false, false, false, false, false, false, false, false, false, false, false, false, false, false, false, false, false, false, false, false, false]}, {\"title\": \"Legal\"}], \"label\": \"Legal\", \"method\": \"update\"}, {\"args\": [{\"visible\": [false, false, false, false, false, false, false, false, true, true, false, false, false, false, false, false, false, false, false, false, false, false, false, false, false, false, false, false, false, false, false, false, false, false, false, false]}, {\"title\": \"PersonalCare\"}], \"label\": \"PersonalCare\", \"method\": \"update\"}, {\"args\": [{\"visible\": [false, false, false, false, false, false, false, false, false, false, true, true, false, false, false, false, false, false, false, false, false, false, false, false, false, false, false, false, false, false, false, false, false, false, false, false]}, {\"title\": \"Food\"}], \"label\": \"Food\", \"method\": \"update\"}, {\"args\": [{\"visible\": [false, false, false, false, false, false, false, false, false, false, false, false, true, true, false, false, false, false, false, false, false, false, false, false, false, false, false, false, false, false, false, false, false, false, false, false]}, {\"title\": \"Education\"}], \"label\": \"Education\", \"method\": \"update\"}, {\"args\": [{\"visible\": [false, false, false, false, false, false, false, false, false, false, false, false, false, false, true, true, false, false, false, false, false, false, false, false, false, false, false, false, false, false, false, false, false, false, false, false]}, {\"title\": \"Travel\"}], \"label\": \"Travel\", \"method\": \"update\"}, {\"args\": [{\"visible\": [false, false, false, false, false, false, false, false, false, false, false, false, false, false, false, false, true, true, false, false, false, false, false, false, false, false, false, false, false, false, false, false, false, false, false, false]}, {\"title\": \"Entertainment\"}], \"label\": \"Entertainment\", \"method\": \"update\"}, {\"args\": [{\"visible\": [false, false, false, false, false, false, false, false, false, false, false, false, false, false, false, false, false, false, true, true, false, false, false, false, false, false, false, false, false, false, false, false, false, false, false, false]}, {\"title\": \"RealEstate\"}], \"label\": \"RealEstate\", \"method\": \"update\"}, {\"args\": [{\"visible\": [false, false, false, false, false, false, false, false, false, false, false, false, false, false, false, false, false, false, false, false, true, true, false, false, false, false, false, false, false, false, false, false, false, false, false, false]}, {\"title\": \"Merchant\"}], \"label\": \"Merchant\", \"method\": \"update\"}, {\"args\": [{\"visible\": [false, false, false, false, false, false, false, false, false, false, false, false, false, false, false, false, false, false, false, false, false, false, true, true, false, false, false, false, false, false, false, false, false, false, false, false]}, {\"title\": \"Computers\"}], \"label\": \"Computers\", \"method\": \"update\"}, {\"args\": [{\"visible\": [false, false, false, false, false, false, false, false, false, false, false, false, false, false, false, false, false, false, false, false, false, false, false, false, true, true, false, false, false, false, false, false, false, false, false, false]}, {\"title\": \"Sport\"}], \"label\": \"Sport\", \"method\": \"update\"}, {\"args\": [{\"visible\": [false, false, false, false, false, false, false, false, false, false, false, false, false, false, false, false, false, false, false, false, false, false, false, false, false, false, true, true, false, false, false, false, false, false, false, false]}, {\"title\": \"Health\"}], \"label\": \"Health\", \"method\": \"update\"}, {\"args\": [{\"visible\": [false, false, false, false, false, false, false, false, false, false, false, false, false, false, false, false, false, false, false, false, false, false, false, false, false, false, false, false, true, true, false, false, false, false, false, false]}, {\"title\": \"BusinessSupport\"}], \"label\": \"BusinessSupport\", \"method\": \"update\"}, {\"args\": [{\"visible\": [false, false, false, false, false, false, false, false, false, false, false, false, false, false, false, false, false, false, false, false, false, false, false, false, false, false, false, false, false, false, true, true, false, false, false, false]}, {\"title\": \"Home\"}], \"label\": \"Home\", \"method\": \"update\"}, {\"args\": [{\"visible\": [false, false, false, false, false, false, false, false, false, false, false, false, false, false, false, false, false, false, false, false, false, false, false, false, false, false, false, false, false, false, false, false, true, true, false, false]}, {\"title\": \"Miscellaneous\"}], \"label\": \"Miscellaneous\", \"method\": \"update\"}, {\"args\": [{\"visible\": [false, false, false, false, false, false, false, false, false, false, false, false, false, false, false, false, false, false, false, false, false, false, false, false, false, false, false, false, false, false, false, false, false, false, true, true]}, {\"title\": \"All Categories\"}], \"label\": \"All Categories\", \"method\": \"update\"}]}], \"xaxis\": {\"title\": {\"text\": \"Distance travelled in km by category in logarithmic scale\"}, \"type\": \"log\"}, \"yaxis\": {\"title\": {\"text\": \"Probability of travelling\"}}},                        {\"responsive\": true}                    ).then(function(){\n",
       "                            \n",
       "var gd = document.getElementById('f02058ac-f864-47d9-93f3-02fcfc9c451c');\n",
       "var x = new MutationObserver(function (mutations, observer) {{\n",
       "        var display = window.getComputedStyle(gd).display;\n",
       "        if (!display || display === 'none') {{\n",
       "            console.log([gd, 'removed!']);\n",
       "            Plotly.purge(gd);\n",
       "            observer.disconnect();\n",
       "        }}\n",
       "}});\n",
       "\n",
       "// Listen for the removal of the full notebook cells\n",
       "var notebookContainer = gd.closest('#notebook-container');\n",
       "if (notebookContainer) {{\n",
       "    x.observe(notebookContainer, {childList: true});\n",
       "}}\n",
       "\n",
       "// Listen for the clearing of the current output cell\n",
       "var outputEl = gd.closest('.output');\n",
       "if (outputEl) {{\n",
       "    x.observe(outputEl, {childList: true});\n",
       "}}\n",
       "\n",
       "                        })                };                });            </script>        </div>"
      ]
     },
     "metadata": {},
     "output_type": "display_data"
    }
   ],
   "source": [
    "# Initialize figure\n",
    "fig = go.Figure()\n",
    "\n",
    "# Add Traces\n",
    "for i in col_names_cat:\n",
    "    fig.add_trace(\n",
    "    go.Scatter(x=bucket,\n",
    "               y=df_good_cat[i].values,\n",
    "               name=i+\" good review\",\n",
    "               line=dict(color=\"#33CFA1\")))\n",
    "    fig.add_trace(\n",
    "    go.Scatter(x=bucket,\n",
    "               y=df_bad_cat[i].values,\n",
    "               name=i+\" bad review\",\n",
    "               line=dict(color=\"#F06A64\")))\n",
    "\n",
    "\n",
    "fig.update_layout(\n",
    "    updatemenus=[\n",
    "        dict(\n",
    "            active=0,\n",
    "            buttons=list_dict_cat(col_names_cat,len(col_names_cat)),\n",
    "        )\n",
    "    ])\n",
    "\n",
    "\n",
    "fig.update_xaxes(title_text=\"Distance travelled in km by category in logarithmic scale\", type=\"log\")\n",
    "fig.update_yaxes(title_text=\"Probability of travelling\") \n",
    "\n",
    "# Set title\n",
    "fig.update_layout(title_text=\"Distance travelled in km by category\")\n",
    "\n",
    "fig.show()"
   ]
  },
  {
   "cell_type": "code",
   "execution_count": 214,
   "metadata": {},
   "outputs": [],
   "source": [
    "# Save html\n",
    "pio.write_html(fig, file='category.html', auto_open=True)"
   ]
  },
  {
   "cell_type": "code",
   "execution_count": null,
   "metadata": {},
   "outputs": [],
   "source": []
  }
 ],
 "metadata": {
  "kernelspec": {
   "display_name": "Python 3",
   "language": "python",
   "name": "python3"
  },
  "language_info": {
   "codemirror_mode": {
    "name": "ipython",
    "version": 3
   },
   "file_extension": ".py",
   "mimetype": "text/x-python",
   "name": "python",
   "nbconvert_exporter": "python",
   "pygments_lexer": "ipython3",
   "version": "3.7.4"
  }
 },
 "nbformat": 4,
 "nbformat_minor": 2
}
