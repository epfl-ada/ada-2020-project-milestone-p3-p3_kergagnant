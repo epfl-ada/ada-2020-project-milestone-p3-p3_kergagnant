{
 "cells": [
  {
   "cell_type": "markdown",
   "metadata": {},
   "source": [
    "# Import libraries"
   ]
  },
  {
   "cell_type": "code",
   "execution_count": 119,
   "metadata": {},
   "outputs": [],
   "source": [
    "import numpy as np\n",
    "import pandas as pd\n",
    "import plotly.io as pio\n",
    "import plotly.express as px\n",
    "import plotly.graph_objects as go"
   ]
  },
  {
   "cell_type": "markdown",
   "metadata": {},
   "source": [
    "# Create the interactive plot for the evolution of friends' reviews influence on mobility according to weekdays"
   ]
  },
  {
   "cell_type": "code",
   "execution_count": 120,
   "metadata": {},
   "outputs": [
    {
     "data": {
      "text/html": [
       "<div>\n",
       "<style scoped>\n",
       "    .dataframe tbody tr th:only-of-type {\n",
       "        vertical-align: middle;\n",
       "    }\n",
       "\n",
       "    .dataframe tbody tr th {\n",
       "        vertical-align: top;\n",
       "    }\n",
       "\n",
       "    .dataframe thead th {\n",
       "        text-align: right;\n",
       "    }\n",
       "</style>\n",
       "<table border=\"1\" class=\"dataframe\">\n",
       "  <thead>\n",
       "    <tr style=\"text-align: right;\">\n",
       "      <th></th>\n",
       "      <th>mon</th>\n",
       "      <th>tue</th>\n",
       "      <th>wed</th>\n",
       "      <th>thu</th>\n",
       "      <th>fri</th>\n",
       "      <th>sat</th>\n",
       "      <th>sun</th>\n",
       "      <th>allWeekDays</th>\n",
       "      <th>bucket</th>\n",
       "    </tr>\n",
       "  </thead>\n",
       "  <tbody>\n",
       "    <tr>\n",
       "      <th>0</th>\n",
       "      <td>0.036301</td>\n",
       "      <td>0.043127</td>\n",
       "      <td>0.035008</td>\n",
       "      <td>0.036259</td>\n",
       "      <td>0.036784</td>\n",
       "      <td>0.033494</td>\n",
       "      <td>0.035211</td>\n",
       "      <td>0.036605</td>\n",
       "      <td>0.100000</td>\n",
       "    </tr>\n",
       "    <tr>\n",
       "      <th>1</th>\n",
       "      <td>0.066043</td>\n",
       "      <td>0.067536</td>\n",
       "      <td>0.064058</td>\n",
       "      <td>0.061815</td>\n",
       "      <td>0.064771</td>\n",
       "      <td>0.053868</td>\n",
       "      <td>0.057454</td>\n",
       "      <td>0.062360</td>\n",
       "      <td>0.330530</td>\n",
       "    </tr>\n",
       "    <tr>\n",
       "      <th>2</th>\n",
       "      <td>0.078054</td>\n",
       "      <td>0.081050</td>\n",
       "      <td>0.080477</td>\n",
       "      <td>0.077344</td>\n",
       "      <td>0.076375</td>\n",
       "      <td>0.069528</td>\n",
       "      <td>0.069827</td>\n",
       "      <td>0.076178</td>\n",
       "      <td>1.092500</td>\n",
       "    </tr>\n",
       "    <tr>\n",
       "      <th>3</th>\n",
       "      <td>0.085617</td>\n",
       "      <td>0.085395</td>\n",
       "      <td>0.085262</td>\n",
       "      <td>0.084203</td>\n",
       "      <td>0.081403</td>\n",
       "      <td>0.074329</td>\n",
       "      <td>0.077653</td>\n",
       "      <td>0.081993</td>\n",
       "      <td>3.611038</td>\n",
       "    </tr>\n",
       "    <tr>\n",
       "      <th>4</th>\n",
       "      <td>0.084256</td>\n",
       "      <td>0.083751</td>\n",
       "      <td>0.082604</td>\n",
       "      <td>0.080948</td>\n",
       "      <td>0.078963</td>\n",
       "      <td>0.074947</td>\n",
       "      <td>0.078276</td>\n",
       "      <td>0.080513</td>\n",
       "      <td>11.935557</td>\n",
       "    </tr>\n",
       "  </tbody>\n",
       "</table>\n",
       "</div>"
      ],
      "text/plain": [
       "        mon       tue       wed       thu       fri       sat       sun  \\\n",
       "0  0.036301  0.043127  0.035008  0.036259  0.036784  0.033494  0.035211   \n",
       "1  0.066043  0.067536  0.064058  0.061815  0.064771  0.053868  0.057454   \n",
       "2  0.078054  0.081050  0.080477  0.077344  0.076375  0.069528  0.069827   \n",
       "3  0.085617  0.085395  0.085262  0.084203  0.081403  0.074329  0.077653   \n",
       "4  0.084256  0.083751  0.082604  0.080948  0.078963  0.074947  0.078276   \n",
       "\n",
       "   allWeekDays     bucket  \n",
       "0     0.036605   0.100000  \n",
       "1     0.062360   0.330530  \n",
       "2     0.076178   1.092500  \n",
       "3     0.081993   3.611038  \n",
       "4     0.080513  11.935557  "
      ]
     },
     "execution_count": 120,
     "metadata": {},
     "output_type": "execute_result"
    }
   ],
   "source": [
    "# Load dataframes for week day study\n",
    "df_bad = pd.read_csv('./for_plotting/bad_reviews_week.csv')\n",
    "df_good = pd.read_csv('./for_plotting/good_reviews_week.csv')\n",
    "# Show an example\n",
    "df_good.head()"
   ]
  },
  {
   "cell_type": "code",
   "execution_count": 121,
   "metadata": {},
   "outputs": [],
   "source": [
    "# Rename columns names for both dataframes\n",
    "df_good.rename(columns={'mon':'Monday','tue':'Tuesday','wed':'Wednesday','thu':'Thursday','fri':'Friday','sat':'Saturday','sun':'Sunday'},inplace=True)\n",
    "df_bad.rename(columns={'mon':'Monday','tue':'Tuesday','wed':'Wednesday','thu':'Thursday','fri':'Friday','sat':'Saturday','sun':'Sunday'},inplace=True)"
   ]
  },
  {
   "cell_type": "code",
   "execution_count": 122,
   "metadata": {},
   "outputs": [],
   "source": [
    "def set_visible(idx,N):\n",
    "    \"\"\"\n",
    "        Return masks for arrays\n",
    "        idx: index of arrays\n",
    "        N: number of all arrays\n",
    "        Return: mask having the length of arrays. \n",
    "                True at position idx and idx+1, False otherwise\n",
    "    \"\"\"\n",
    "    # Create initial mask\n",
    "    a = np.zeros(2*N)\n",
    "    # Set True for target indices\n",
    "    a[2*idx]=True\n",
    "    a[2*idx+1]=True\n",
    "    # Create final mask\n",
    "    a = a>0\n",
    "    return list(a.copy())"
   ]
  },
  {
   "cell_type": "code",
   "execution_count": 123,
   "metadata": {},
   "outputs": [],
   "source": [
    "def list_dict(col_names,N):\n",
    "    \"\"\"\n",
    "        Compute the list of dictionaries for interactive plot\n",
    "        col_names: columns name of the dataframe, which is used as x-axis for the plot\n",
    "        N: number of all arrays\n",
    "        Return: list of dictionaries for interactive plot\n",
    "    \"\"\"\n",
    "    # Initialize the array\n",
    "    res = []\n",
    "    \n",
    "    # Plot all weekdays\n",
    "    res.append(dict(label=\"Plot all weekdays\",\n",
    "                     method=\"update\",\n",
    "                     args=[{\"visible\": list(np.ones(N))},\n",
    "                           {\"title\": \"Plot all weekdays\"}]))\n",
    "    # Add each week day\n",
    "    for idx,i in enumerate(col_names): \n",
    "        res.append(dict(label=i,\n",
    "                         method=\"update\",\n",
    "                         args=[{\"visible\": set_visible(idx,N)},\n",
    "                               {\"title\": i}]))\n",
    "\n",
    "    return list(res)"
   ]
  },
  {
   "cell_type": "code",
   "execution_count": 124,
   "metadata": {},
   "outputs": [],
   "source": [
    "# Define distance groups\n",
    "bucket = df_good['bucket'].values\n",
    "# Define x axis of the plot\n",
    "col_names = df_bad.columns[:len(df_bad.columns)-1]"
   ]
  },
  {
   "cell_type": "code",
   "execution_count": 125,
   "metadata": {},
   "outputs": [
    {
     "data": {
      "application/vnd.plotly.v1+json": {
       "config": {
        "plotlyServerURL": "https://plot.ly"
       },
       "data": [
        {
         "line": {
          "color": "#FF0000"
         },
         "name": "Monday good review",
         "type": "scatter",
         "x": [
          0.1,
          0.3305298396179653,
          1.092499748778779,
          3.6110376674651734,
          11.935557010816956,
          39.4505774453641,
          130.39593035852323,
          430.9974594823805,
          1424.5752115846176,
          4708.64616208793
         ],
         "y": [
          0.036300647687904815,
          0.06604280125795813,
          0.07805379746835442,
          0.085617146915244,
          0.08425614067344739,
          0.07652534335593103,
          0.055163682401880985,
          0.05464833118464403,
          0.04176646706586826,
          0.0471341874578557
         ]
        },
        {
         "line": {
          "color": "#0000FF"
         },
         "name": "Monday bad review",
         "type": "scatter",
         "x": [
          0.1,
          0.3305298396179653,
          1.092499748778779,
          3.6110376674651734,
          11.935557010816956,
          39.4505774453641,
          130.39593035852323,
          430.9974594823805,
          1424.5752115846176,
          4708.64616208793
         ],
         "y": [
          0.011296882060551287,
          0.017872209864232567,
          0.02481012658227848,
          0.024917380096292033,
          0.02461283879217404,
          0.023330640345639118,
          0.01663953698679689,
          0.017332760349520127,
          0.010179640718562873,
          0.011732973701955496
         ]
        },
        {
         "line": {
          "color": "#FF0000"
         },
         "name": "Tuesday good review",
         "type": "scatter",
         "x": [
          0.1,
          0.3305298396179653,
          1.092499748778779,
          3.6110376674651734,
          11.935557010816956,
          39.4505774453641,
          130.39593035852323,
          430.9974594823805,
          1424.5752115846176,
          4708.64616208793
         ],
         "y": [
          0.043127095397744585,
          0.06753639328613475,
          0.08104996546166245,
          0.08539489155031935,
          0.08375078902483246,
          0.07491333585540792,
          0.04440720569752828,
          0.05344958301743745,
          0.047021943573667714,
          0.05244928253339931
         ]
        },
        {
         "line": {
          "color": "#0000FF"
         },
         "name": "Tuesday bad review",
         "type": "scatter",
         "x": [
          0.1,
          0.3305298396179653,
          1.092499748778779,
          3.6110376674651734,
          11.935557010816956,
          39.4505774453641,
          130.39593035852323,
          430.9974594823805,
          1424.5752115846176,
          4708.64616208793
         ],
         "y": [
          0.011124657116732705,
          0.021955293930474903,
          0.024768922074931747,
          0.025317727135758555,
          0.02453699351320861,
          0.022930290373138363,
          0.016757436112274822,
          0.016755117513267626,
          0.008414453060551066,
          0.014985509295256943
         ]
        },
        {
         "line": {
          "color": "#FF0000"
         },
         "name": "Wednesday good review",
         "type": "scatter",
         "x": [
          0.1,
          0.3305298396179653,
          1.092499748778779,
          3.6110376674651734,
          11.935557010816956,
          39.4505774453641,
          130.39593035852323,
          430.9974594823805,
          1424.5752115846176,
          4708.64616208793
         ],
         "y": [
          0.0350076103500761,
          0.06405782652043869,
          0.08047730431540052,
          0.08526212600597569,
          0.08260403761622806,
          0.07388877906357871,
          0.05578684429641965,
          0.05640740446492413,
          0.05099293167283743,
          0.043825561312607945
         ]
        },
        {
         "line": {
          "color": "#0000FF"
         },
         "name": "Wednesday bad review",
         "type": "scatter",
         "x": [
          0.1,
          0.3305298396179653,
          1.092499748778779,
          3.6110376674651734,
          11.935557010816956,
          39.4505774453641,
          130.39593035852323,
          430.9974594823805,
          1424.5752115846176,
          4708.64616208793
         ],
         "y": [
          0.0121765601217656,
          0.021103356596876042,
          0.024831350215261533,
          0.025329161701603105,
          0.023344811015047373,
          0.021905080518848558,
          0.0126977518734388,
          0.015412727417176452,
          0.010265903736115786,
          0.014032815198618308
         ]
        },
        {
         "line": {
          "color": "#FF0000"
         },
         "name": "Thursday good review",
         "type": "scatter",
         "x": [
          0.1,
          0.3305298396179653,
          1.092499748778779,
          3.6110376674651734,
          11.935557010816956,
          39.4505774453641,
          130.39593035852323,
          430.9974594823805,
          1424.5752115846176,
          4708.64616208793
         ],
         "y": [
          0.036259228876127966,
          0.061815266767613786,
          0.0773444820875081,
          0.08420339151685498,
          0.08094798399507541,
          0.07222555009783954,
          0.05033022090639945,
          0.05949990874247125,
          0.04266815725731321,
          0.04829890643985419
         ]
        },
        {
         "line": {
          "color": "#0000FF"
         },
         "name": "Thursday bad review",
         "type": "scatter",
         "x": [
          0.1,
          0.3305298396179653,
          1.092499748778779,
          3.6110376674651734,
          11.935557010816956,
          39.4505774453641,
          130.39593035852323,
          430.9974594823805,
          1424.5752115846176,
          4708.64616208793
         ],
         "y": [
          0.009680065627563577,
          0.017457913957424066,
          0.023949398111439486,
          0.02369211444348405,
          0.021972317544319032,
          0.02147677808394233,
          0.01002049647005238,
          0.01578755247307903,
          0.00931619154089808,
          0.012074726609963548
         ]
        },
        {
         "line": {
          "color": "#FF0000"
         },
         "name": "Friday good review",
         "type": "scatter",
         "x": [
          0.1,
          0.3305298396179653,
          1.092499748778779,
          3.6110376674651734,
          11.935557010816956,
          39.4505774453641,
          130.39593035852323,
          430.9974594823805,
          1424.5752115846176,
          4708.64616208793
         ],
         "y": [
          0.03678385416666666,
          0.06477093206951026,
          0.07637544034379093,
          0.08140253610294255,
          0.07896253868112914,
          0.07086331795251871,
          0.05584937592553416,
          0.056714530840783886,
          0.038876058506543486,
          0.04477732141419023
         ]
        },
        {
         "line": {
          "color": "#0000FF"
         },
         "name": "Friday bad review",
         "type": "scatter",
         "x": [
          0.1,
          0.3305298396179653,
          1.092499748778779,
          3.6110376674651734,
          11.935557010816956,
          39.4505774453641,
          130.39593035852323,
          430.9974594823805,
          1424.5752115846176,
          4708.64616208793
         ],
         "y": [
          0.01025390625,
          0.019979555803364,
          0.023552629152142242,
          0.023188297214782067,
          0.022500772469643097,
          0.020831839083207817,
          0.012269938650306749,
          0.016165447484873113,
          0.008660508083140877,
          0.01135539985503745
         ]
        },
        {
         "line": {
          "color": "#FF0000"
         },
         "name": "Saturday good review",
         "type": "scatter",
         "x": [
          0.1,
          0.3305298396179653,
          1.092499748778779,
          3.6110376674651734,
          11.935557010816956,
          39.4505774453641,
          130.39593035852323,
          430.9974594823805,
          1424.5752115846176,
          4708.64616208793
         ],
         "y": [
          0.033494313756036766,
          0.05386840202458424,
          0.06952764767817594,
          0.07432896210397022,
          0.07494654921748055,
          0.06928188449085854,
          0.05664568678267309,
          0.048961674826945814,
          0.038408542886668964,
          0.04178316247281765
         ]
        },
        {
         "line": {
          "color": "#0000FF"
         },
         "name": "Saturday bad review",
         "type": "scatter",
         "x": [
          0.1,
          0.3305298396179653,
          1.092499748778779,
          3.6110376674651734,
          11.935557010816956,
          39.4505774453641,
          130.39593035852323,
          430.9974594823805,
          1424.5752115846176,
          4708.64616208793
         ],
         "y": [
          0.00965882536220595,
          0.0187997107736804,
          0.021493664451947864,
          0.021302216923762392,
          0.020653382365517836,
          0.02017833042016063,
          0.015734912995186968,
          0.01392875232145872,
          0.00861178091629349,
          0.013668841255048152
         ]
        },
        {
         "line": {
          "color": "#FF0000"
         },
         "name": "Sunday good review",
         "type": "scatter",
         "x": [
          0.1,
          0.3305298396179653,
          1.092499748778779,
          3.6110376674651734,
          11.935557010816956,
          39.4505774453641,
          130.39593035852323,
          430.9974594823805,
          1424.5752115846176,
          4708.64616208793
         ],
         "y": [
          0.035211267605633804,
          0.05745418524021793,
          0.06982732505301424,
          0.07765330022293084,
          0.0782760150244371,
          0.07129161702069381,
          0.05345699831365936,
          0.047906941149460466,
          0.03890017184814873,
          0.042994079503806036
         ]
        },
        {
         "line": {
          "color": "#0000FF"
         },
         "name": "Sunday bad review",
         "type": "scatter",
         "x": [
          0.1,
          0.3305298396179653,
          1.092499748778779,
          3.6110376674651734,
          11.935557010816956,
          39.4505774453641,
          130.39593035852323,
          430.9974594823805,
          1424.5752115846176,
          4708.64616208793
         ],
         "y": [
          0.00719208870242733,
          0.017417863628859172,
          0.021458143996768656,
          0.023060642830939414,
          0.022557002925939942,
          0.02069381103030801,
          0.011804384485666104,
          0.014999617356700084,
          0.006561474769567255,
          0.013039188046236256
         ]
        },
        {
         "line": {
          "color": "#FF0000"
         },
         "name": "allWeekDays good review",
         "type": "scatter",
         "x": [
          0.1,
          0.3305298396179653,
          1.092499748778779,
          3.6110376674651734,
          11.935557010816956,
          39.4505774453641,
          130.39593035852323,
          430.9974594823805,
          1424.5752115846176,
          4708.64616208793
         ],
         "y": [
          0.03660510387335654,
          0.06235961840357445,
          0.07617843154107781,
          0.08199288400660193,
          0.08051319115023388,
          0.07273049831089205,
          0.053238462187473634,
          0.0538052443962484,
          0.04269896026825561,
          0.04595799920437177
         ]
        },
        {
         "line": {
          "color": "#0000FF"
         },
         "name": "allWeekDays bad review",
         "type": "scatter",
         "x": [
          0.1,
          0.3305298396179653,
          1.092499748778779,
          3.6110376674651734,
          11.935557010816956,
          39.4505774453641,
          130.39593035852323,
          430.9974594823805,
          1424.5752115846176,
          4708.64616208793
         ],
         "y": [
          0.010198878123406424,
          0.01923680714889506,
          0.023584592905467626,
          0.023847371411564167,
          0.022886444547406383,
          0.021623360453820184,
          0.013780690159462271,
          0.015804713727028366,
          0.008853400236412323,
          0.013002240321601306
         ]
        }
       ],
       "layout": {
        "template": {
         "data": {
          "bar": [
           {
            "error_x": {
             "color": "#2a3f5f"
            },
            "error_y": {
             "color": "#2a3f5f"
            },
            "marker": {
             "line": {
              "color": "#E5ECF6",
              "width": 0.5
             }
            },
            "type": "bar"
           }
          ],
          "barpolar": [
           {
            "marker": {
             "line": {
              "color": "#E5ECF6",
              "width": 0.5
             }
            },
            "type": "barpolar"
           }
          ],
          "carpet": [
           {
            "aaxis": {
             "endlinecolor": "#2a3f5f",
             "gridcolor": "white",
             "linecolor": "white",
             "minorgridcolor": "white",
             "startlinecolor": "#2a3f5f"
            },
            "baxis": {
             "endlinecolor": "#2a3f5f",
             "gridcolor": "white",
             "linecolor": "white",
             "minorgridcolor": "white",
             "startlinecolor": "#2a3f5f"
            },
            "type": "carpet"
           }
          ],
          "choropleth": [
           {
            "colorbar": {
             "outlinewidth": 0,
             "ticks": ""
            },
            "type": "choropleth"
           }
          ],
          "contour": [
           {
            "colorbar": {
             "outlinewidth": 0,
             "ticks": ""
            },
            "colorscale": [
             [
              0,
              "#0d0887"
             ],
             [
              0.1111111111111111,
              "#46039f"
             ],
             [
              0.2222222222222222,
              "#7201a8"
             ],
             [
              0.3333333333333333,
              "#9c179e"
             ],
             [
              0.4444444444444444,
              "#bd3786"
             ],
             [
              0.5555555555555556,
              "#d8576b"
             ],
             [
              0.6666666666666666,
              "#ed7953"
             ],
             [
              0.7777777777777778,
              "#fb9f3a"
             ],
             [
              0.8888888888888888,
              "#fdca26"
             ],
             [
              1,
              "#f0f921"
             ]
            ],
            "type": "contour"
           }
          ],
          "contourcarpet": [
           {
            "colorbar": {
             "outlinewidth": 0,
             "ticks": ""
            },
            "type": "contourcarpet"
           }
          ],
          "heatmap": [
           {
            "colorbar": {
             "outlinewidth": 0,
             "ticks": ""
            },
            "colorscale": [
             [
              0,
              "#0d0887"
             ],
             [
              0.1111111111111111,
              "#46039f"
             ],
             [
              0.2222222222222222,
              "#7201a8"
             ],
             [
              0.3333333333333333,
              "#9c179e"
             ],
             [
              0.4444444444444444,
              "#bd3786"
             ],
             [
              0.5555555555555556,
              "#d8576b"
             ],
             [
              0.6666666666666666,
              "#ed7953"
             ],
             [
              0.7777777777777778,
              "#fb9f3a"
             ],
             [
              0.8888888888888888,
              "#fdca26"
             ],
             [
              1,
              "#f0f921"
             ]
            ],
            "type": "heatmap"
           }
          ],
          "heatmapgl": [
           {
            "colorbar": {
             "outlinewidth": 0,
             "ticks": ""
            },
            "colorscale": [
             [
              0,
              "#0d0887"
             ],
             [
              0.1111111111111111,
              "#46039f"
             ],
             [
              0.2222222222222222,
              "#7201a8"
             ],
             [
              0.3333333333333333,
              "#9c179e"
             ],
             [
              0.4444444444444444,
              "#bd3786"
             ],
             [
              0.5555555555555556,
              "#d8576b"
             ],
             [
              0.6666666666666666,
              "#ed7953"
             ],
             [
              0.7777777777777778,
              "#fb9f3a"
             ],
             [
              0.8888888888888888,
              "#fdca26"
             ],
             [
              1,
              "#f0f921"
             ]
            ],
            "type": "heatmapgl"
           }
          ],
          "histogram": [
           {
            "marker": {
             "colorbar": {
              "outlinewidth": 0,
              "ticks": ""
             }
            },
            "type": "histogram"
           }
          ],
          "histogram2d": [
           {
            "colorbar": {
             "outlinewidth": 0,
             "ticks": ""
            },
            "colorscale": [
             [
              0,
              "#0d0887"
             ],
             [
              0.1111111111111111,
              "#46039f"
             ],
             [
              0.2222222222222222,
              "#7201a8"
             ],
             [
              0.3333333333333333,
              "#9c179e"
             ],
             [
              0.4444444444444444,
              "#bd3786"
             ],
             [
              0.5555555555555556,
              "#d8576b"
             ],
             [
              0.6666666666666666,
              "#ed7953"
             ],
             [
              0.7777777777777778,
              "#fb9f3a"
             ],
             [
              0.8888888888888888,
              "#fdca26"
             ],
             [
              1,
              "#f0f921"
             ]
            ],
            "type": "histogram2d"
           }
          ],
          "histogram2dcontour": [
           {
            "colorbar": {
             "outlinewidth": 0,
             "ticks": ""
            },
            "colorscale": [
             [
              0,
              "#0d0887"
             ],
             [
              0.1111111111111111,
              "#46039f"
             ],
             [
              0.2222222222222222,
              "#7201a8"
             ],
             [
              0.3333333333333333,
              "#9c179e"
             ],
             [
              0.4444444444444444,
              "#bd3786"
             ],
             [
              0.5555555555555556,
              "#d8576b"
             ],
             [
              0.6666666666666666,
              "#ed7953"
             ],
             [
              0.7777777777777778,
              "#fb9f3a"
             ],
             [
              0.8888888888888888,
              "#fdca26"
             ],
             [
              1,
              "#f0f921"
             ]
            ],
            "type": "histogram2dcontour"
           }
          ],
          "mesh3d": [
           {
            "colorbar": {
             "outlinewidth": 0,
             "ticks": ""
            },
            "type": "mesh3d"
           }
          ],
          "parcoords": [
           {
            "line": {
             "colorbar": {
              "outlinewidth": 0,
              "ticks": ""
             }
            },
            "type": "parcoords"
           }
          ],
          "pie": [
           {
            "automargin": true,
            "type": "pie"
           }
          ],
          "scatter": [
           {
            "marker": {
             "colorbar": {
              "outlinewidth": 0,
              "ticks": ""
             }
            },
            "type": "scatter"
           }
          ],
          "scatter3d": [
           {
            "line": {
             "colorbar": {
              "outlinewidth": 0,
              "ticks": ""
             }
            },
            "marker": {
             "colorbar": {
              "outlinewidth": 0,
              "ticks": ""
             }
            },
            "type": "scatter3d"
           }
          ],
          "scattercarpet": [
           {
            "marker": {
             "colorbar": {
              "outlinewidth": 0,
              "ticks": ""
             }
            },
            "type": "scattercarpet"
           }
          ],
          "scattergeo": [
           {
            "marker": {
             "colorbar": {
              "outlinewidth": 0,
              "ticks": ""
             }
            },
            "type": "scattergeo"
           }
          ],
          "scattergl": [
           {
            "marker": {
             "colorbar": {
              "outlinewidth": 0,
              "ticks": ""
             }
            },
            "type": "scattergl"
           }
          ],
          "scattermapbox": [
           {
            "marker": {
             "colorbar": {
              "outlinewidth": 0,
              "ticks": ""
             }
            },
            "type": "scattermapbox"
           }
          ],
          "scatterpolar": [
           {
            "marker": {
             "colorbar": {
              "outlinewidth": 0,
              "ticks": ""
             }
            },
            "type": "scatterpolar"
           }
          ],
          "scatterpolargl": [
           {
            "marker": {
             "colorbar": {
              "outlinewidth": 0,
              "ticks": ""
             }
            },
            "type": "scatterpolargl"
           }
          ],
          "scatterternary": [
           {
            "marker": {
             "colorbar": {
              "outlinewidth": 0,
              "ticks": ""
             }
            },
            "type": "scatterternary"
           }
          ],
          "surface": [
           {
            "colorbar": {
             "outlinewidth": 0,
             "ticks": ""
            },
            "colorscale": [
             [
              0,
              "#0d0887"
             ],
             [
              0.1111111111111111,
              "#46039f"
             ],
             [
              0.2222222222222222,
              "#7201a8"
             ],
             [
              0.3333333333333333,
              "#9c179e"
             ],
             [
              0.4444444444444444,
              "#bd3786"
             ],
             [
              0.5555555555555556,
              "#d8576b"
             ],
             [
              0.6666666666666666,
              "#ed7953"
             ],
             [
              0.7777777777777778,
              "#fb9f3a"
             ],
             [
              0.8888888888888888,
              "#fdca26"
             ],
             [
              1,
              "#f0f921"
             ]
            ],
            "type": "surface"
           }
          ],
          "table": [
           {
            "cells": {
             "fill": {
              "color": "#EBF0F8"
             },
             "line": {
              "color": "white"
             }
            },
            "header": {
             "fill": {
              "color": "#C8D4E3"
             },
             "line": {
              "color": "white"
             }
            },
            "type": "table"
           }
          ]
         },
         "layout": {
          "annotationdefaults": {
           "arrowcolor": "#2a3f5f",
           "arrowhead": 0,
           "arrowwidth": 1
          },
          "autotypenumbers": "strict",
          "coloraxis": {
           "colorbar": {
            "outlinewidth": 0,
            "ticks": ""
           }
          },
          "colorscale": {
           "diverging": [
            [
             0,
             "#8e0152"
            ],
            [
             0.1,
             "#c51b7d"
            ],
            [
             0.2,
             "#de77ae"
            ],
            [
             0.3,
             "#f1b6da"
            ],
            [
             0.4,
             "#fde0ef"
            ],
            [
             0.5,
             "#f7f7f7"
            ],
            [
             0.6,
             "#e6f5d0"
            ],
            [
             0.7,
             "#b8e186"
            ],
            [
             0.8,
             "#7fbc41"
            ],
            [
             0.9,
             "#4d9221"
            ],
            [
             1,
             "#276419"
            ]
           ],
           "sequential": [
            [
             0,
             "#0d0887"
            ],
            [
             0.1111111111111111,
             "#46039f"
            ],
            [
             0.2222222222222222,
             "#7201a8"
            ],
            [
             0.3333333333333333,
             "#9c179e"
            ],
            [
             0.4444444444444444,
             "#bd3786"
            ],
            [
             0.5555555555555556,
             "#d8576b"
            ],
            [
             0.6666666666666666,
             "#ed7953"
            ],
            [
             0.7777777777777778,
             "#fb9f3a"
            ],
            [
             0.8888888888888888,
             "#fdca26"
            ],
            [
             1,
             "#f0f921"
            ]
           ],
           "sequentialminus": [
            [
             0,
             "#0d0887"
            ],
            [
             0.1111111111111111,
             "#46039f"
            ],
            [
             0.2222222222222222,
             "#7201a8"
            ],
            [
             0.3333333333333333,
             "#9c179e"
            ],
            [
             0.4444444444444444,
             "#bd3786"
            ],
            [
             0.5555555555555556,
             "#d8576b"
            ],
            [
             0.6666666666666666,
             "#ed7953"
            ],
            [
             0.7777777777777778,
             "#fb9f3a"
            ],
            [
             0.8888888888888888,
             "#fdca26"
            ],
            [
             1,
             "#f0f921"
            ]
           ]
          },
          "colorway": [
           "#636efa",
           "#EF553B",
           "#00cc96",
           "#ab63fa",
           "#FFA15A",
           "#19d3f3",
           "#FF6692",
           "#B6E880",
           "#FF97FF",
           "#FECB52"
          ],
          "font": {
           "color": "#2a3f5f"
          },
          "geo": {
           "bgcolor": "white",
           "lakecolor": "white",
           "landcolor": "#E5ECF6",
           "showlakes": true,
           "showland": true,
           "subunitcolor": "white"
          },
          "hoverlabel": {
           "align": "left"
          },
          "hovermode": "closest",
          "mapbox": {
           "style": "light"
          },
          "paper_bgcolor": "white",
          "plot_bgcolor": "#E5ECF6",
          "polar": {
           "angularaxis": {
            "gridcolor": "white",
            "linecolor": "white",
            "ticks": ""
           },
           "bgcolor": "#E5ECF6",
           "radialaxis": {
            "gridcolor": "white",
            "linecolor": "white",
            "ticks": ""
           }
          },
          "scene": {
           "xaxis": {
            "backgroundcolor": "#E5ECF6",
            "gridcolor": "white",
            "gridwidth": 2,
            "linecolor": "white",
            "showbackground": true,
            "ticks": "",
            "zerolinecolor": "white"
           },
           "yaxis": {
            "backgroundcolor": "#E5ECF6",
            "gridcolor": "white",
            "gridwidth": 2,
            "linecolor": "white",
            "showbackground": true,
            "ticks": "",
            "zerolinecolor": "white"
           },
           "zaxis": {
            "backgroundcolor": "#E5ECF6",
            "gridcolor": "white",
            "gridwidth": 2,
            "linecolor": "white",
            "showbackground": true,
            "ticks": "",
            "zerolinecolor": "white"
           }
          },
          "shapedefaults": {
           "line": {
            "color": "#2a3f5f"
           }
          },
          "ternary": {
           "aaxis": {
            "gridcolor": "white",
            "linecolor": "white",
            "ticks": ""
           },
           "baxis": {
            "gridcolor": "white",
            "linecolor": "white",
            "ticks": ""
           },
           "bgcolor": "#E5ECF6",
           "caxis": {
            "gridcolor": "white",
            "linecolor": "white",
            "ticks": ""
           }
          },
          "title": {
           "x": 0.05
          },
          "xaxis": {
           "automargin": true,
           "gridcolor": "white",
           "linecolor": "white",
           "ticks": "",
           "title": {
            "standoff": 15
           },
           "zerolinecolor": "white",
           "zerolinewidth": 2
          },
          "yaxis": {
           "automargin": true,
           "gridcolor": "white",
           "linecolor": "white",
           "ticks": "",
           "title": {
            "standoff": 15
           },
           "zerolinecolor": "white",
           "zerolinewidth": 2
          }
         }
        },
        "title": {
         "text": "Evolution of friends' reviews influence on mobility according to weekdays"
        },
        "updatemenus": [
         {
          "active": 0,
          "buttons": [
           {
            "args": [
             {
              "visible": [
               1,
               1,
               1,
               1,
               1,
               1,
               1,
               1
              ]
             },
             {
              "title": "Plot all weekdays"
             }
            ],
            "label": "Plot all weekdays",
            "method": "update"
           },
           {
            "args": [
             {
              "visible": [
               true,
               true,
               false,
               false,
               false,
               false,
               false,
               false,
               false,
               false,
               false,
               false,
               false,
               false,
               false,
               false
              ]
             },
             {
              "title": "Monday"
             }
            ],
            "label": "Monday",
            "method": "update"
           },
           {
            "args": [
             {
              "visible": [
               false,
               false,
               true,
               true,
               false,
               false,
               false,
               false,
               false,
               false,
               false,
               false,
               false,
               false,
               false,
               false
              ]
             },
             {
              "title": "Tuesday"
             }
            ],
            "label": "Tuesday",
            "method": "update"
           },
           {
            "args": [
             {
              "visible": [
               false,
               false,
               false,
               false,
               true,
               true,
               false,
               false,
               false,
               false,
               false,
               false,
               false,
               false,
               false,
               false
              ]
             },
             {
              "title": "Wednesday"
             }
            ],
            "label": "Wednesday",
            "method": "update"
           },
           {
            "args": [
             {
              "visible": [
               false,
               false,
               false,
               false,
               false,
               false,
               true,
               true,
               false,
               false,
               false,
               false,
               false,
               false,
               false,
               false
              ]
             },
             {
              "title": "Thursday"
             }
            ],
            "label": "Thursday",
            "method": "update"
           },
           {
            "args": [
             {
              "visible": [
               false,
               false,
               false,
               false,
               false,
               false,
               false,
               false,
               true,
               true,
               false,
               false,
               false,
               false,
               false,
               false
              ]
             },
             {
              "title": "Friday"
             }
            ],
            "label": "Friday",
            "method": "update"
           },
           {
            "args": [
             {
              "visible": [
               false,
               false,
               false,
               false,
               false,
               false,
               false,
               false,
               false,
               false,
               true,
               true,
               false,
               false,
               false,
               false
              ]
             },
             {
              "title": "Saturday"
             }
            ],
            "label": "Saturday",
            "method": "update"
           },
           {
            "args": [
             {
              "visible": [
               false,
               false,
               false,
               false,
               false,
               false,
               false,
               false,
               false,
               false,
               false,
               false,
               true,
               true,
               false,
               false
              ]
             },
             {
              "title": "Sunday"
             }
            ],
            "label": "Sunday",
            "method": "update"
           },
           {
            "args": [
             {
              "visible": [
               false,
               false,
               false,
               false,
               false,
               false,
               false,
               false,
               false,
               false,
               false,
               false,
               false,
               false,
               true,
               true
              ]
             },
             {
              "title": "allWeekDays"
             }
            ],
            "label": "allWeekDays",
            "method": "update"
           }
          ]
         }
        ],
        "xaxis": {
         "title": {
          "text": "Distance travelled in km by weekday in logarithmic scale"
         },
         "type": "log"
        },
        "yaxis": {
         "title": {
          "text": "Probability of travelling"
         }
        }
       }
      },
      "text/html": [
       "<div>                            <div id=\"a6c990f8-76af-46a3-962b-22569925ae3e\" class=\"plotly-graph-div\" style=\"height:525px; width:100%;\"></div>            <script type=\"text/javascript\">                require([\"plotly\"], function(Plotly) {                    window.PLOTLYENV=window.PLOTLYENV || {};                                    if (document.getElementById(\"a6c990f8-76af-46a3-962b-22569925ae3e\")) {                    Plotly.newPlot(                        \"a6c990f8-76af-46a3-962b-22569925ae3e\",                        [{\"line\": {\"color\": \"#FF0000\"}, \"name\": \"Monday good review\", \"type\": \"scatter\", \"x\": [0.1, 0.3305298396179653, 1.092499748778779, 3.6110376674651734, 11.935557010816956, 39.4505774453641, 130.39593035852323, 430.9974594823805, 1424.5752115846176, 4708.64616208793], \"y\": [0.036300647687904815, 0.06604280125795813, 0.07805379746835442, 0.085617146915244, 0.08425614067344739, 0.07652534335593103, 0.055163682401880985, 0.05464833118464403, 0.04176646706586826, 0.0471341874578557]}, {\"line\": {\"color\": \"#0000FF\"}, \"name\": \"Monday bad review\", \"type\": \"scatter\", \"x\": [0.1, 0.3305298396179653, 1.092499748778779, 3.6110376674651734, 11.935557010816956, 39.4505774453641, 130.39593035852323, 430.9974594823805, 1424.5752115846176, 4708.64616208793], \"y\": [0.011296882060551287, 0.017872209864232567, 0.02481012658227848, 0.024917380096292033, 0.02461283879217404, 0.023330640345639118, 0.01663953698679689, 0.017332760349520127, 0.010179640718562873, 0.011732973701955496]}, {\"line\": {\"color\": \"#FF0000\"}, \"name\": \"Tuesday good review\", \"type\": \"scatter\", \"x\": [0.1, 0.3305298396179653, 1.092499748778779, 3.6110376674651734, 11.935557010816956, 39.4505774453641, 130.39593035852323, 430.9974594823805, 1424.5752115846176, 4708.64616208793], \"y\": [0.043127095397744585, 0.06753639328613475, 0.08104996546166245, 0.08539489155031935, 0.08375078902483246, 0.07491333585540792, 0.04440720569752828, 0.05344958301743745, 0.047021943573667714, 0.05244928253339931]}, {\"line\": {\"color\": \"#0000FF\"}, \"name\": \"Tuesday bad review\", \"type\": \"scatter\", \"x\": [0.1, 0.3305298396179653, 1.092499748778779, 3.6110376674651734, 11.935557010816956, 39.4505774453641, 130.39593035852323, 430.9974594823805, 1424.5752115846176, 4708.64616208793], \"y\": [0.011124657116732705, 0.021955293930474903, 0.024768922074931747, 0.025317727135758555, 0.02453699351320861, 0.022930290373138363, 0.016757436112274822, 0.016755117513267626, 0.008414453060551066, 0.014985509295256943]}, {\"line\": {\"color\": \"#FF0000\"}, \"name\": \"Wednesday good review\", \"type\": \"scatter\", \"x\": [0.1, 0.3305298396179653, 1.092499748778779, 3.6110376674651734, 11.935557010816956, 39.4505774453641, 130.39593035852323, 430.9974594823805, 1424.5752115846176, 4708.64616208793], \"y\": [0.0350076103500761, 0.06405782652043869, 0.08047730431540052, 0.08526212600597569, 0.08260403761622806, 0.07388877906357871, 0.05578684429641965, 0.05640740446492413, 0.05099293167283743, 0.043825561312607945]}, {\"line\": {\"color\": \"#0000FF\"}, \"name\": \"Wednesday bad review\", \"type\": \"scatter\", \"x\": [0.1, 0.3305298396179653, 1.092499748778779, 3.6110376674651734, 11.935557010816956, 39.4505774453641, 130.39593035852323, 430.9974594823805, 1424.5752115846176, 4708.64616208793], \"y\": [0.0121765601217656, 0.021103356596876042, 0.024831350215261533, 0.025329161701603105, 0.023344811015047373, 0.021905080518848558, 0.0126977518734388, 0.015412727417176452, 0.010265903736115786, 0.014032815198618308]}, {\"line\": {\"color\": \"#FF0000\"}, \"name\": \"Thursday good review\", \"type\": \"scatter\", \"x\": [0.1, 0.3305298396179653, 1.092499748778779, 3.6110376674651734, 11.935557010816956, 39.4505774453641, 130.39593035852323, 430.9974594823805, 1424.5752115846176, 4708.64616208793], \"y\": [0.036259228876127966, 0.061815266767613786, 0.0773444820875081, 0.08420339151685498, 0.08094798399507541, 0.07222555009783954, 0.05033022090639945, 0.05949990874247125, 0.04266815725731321, 0.04829890643985419]}, {\"line\": {\"color\": \"#0000FF\"}, \"name\": \"Thursday bad review\", \"type\": \"scatter\", \"x\": [0.1, 0.3305298396179653, 1.092499748778779, 3.6110376674651734, 11.935557010816956, 39.4505774453641, 130.39593035852323, 430.9974594823805, 1424.5752115846176, 4708.64616208793], \"y\": [0.009680065627563577, 0.017457913957424066, 0.023949398111439486, 0.02369211444348405, 0.021972317544319032, 0.02147677808394233, 0.01002049647005238, 0.01578755247307903, 0.00931619154089808, 0.012074726609963548]}, {\"line\": {\"color\": \"#FF0000\"}, \"name\": \"Friday good review\", \"type\": \"scatter\", \"x\": [0.1, 0.3305298396179653, 1.092499748778779, 3.6110376674651734, 11.935557010816956, 39.4505774453641, 130.39593035852323, 430.9974594823805, 1424.5752115846176, 4708.64616208793], \"y\": [0.03678385416666666, 0.06477093206951026, 0.07637544034379093, 0.08140253610294255, 0.07896253868112914, 0.07086331795251871, 0.05584937592553416, 0.056714530840783886, 0.038876058506543486, 0.04477732141419023]}, {\"line\": {\"color\": \"#0000FF\"}, \"name\": \"Friday bad review\", \"type\": \"scatter\", \"x\": [0.1, 0.3305298396179653, 1.092499748778779, 3.6110376674651734, 11.935557010816956, 39.4505774453641, 130.39593035852323, 430.9974594823805, 1424.5752115846176, 4708.64616208793], \"y\": [0.01025390625, 0.019979555803364, 0.023552629152142242, 0.023188297214782067, 0.022500772469643097, 0.020831839083207817, 0.012269938650306749, 0.016165447484873113, 0.008660508083140877, 0.01135539985503745]}, {\"line\": {\"color\": \"#FF0000\"}, \"name\": \"Saturday good review\", \"type\": \"scatter\", \"x\": [0.1, 0.3305298396179653, 1.092499748778779, 3.6110376674651734, 11.935557010816956, 39.4505774453641, 130.39593035852323, 430.9974594823805, 1424.5752115846176, 4708.64616208793], \"y\": [0.033494313756036766, 0.05386840202458424, 0.06952764767817594, 0.07432896210397022, 0.07494654921748055, 0.06928188449085854, 0.05664568678267309, 0.048961674826945814, 0.038408542886668964, 0.04178316247281765]}, {\"line\": {\"color\": \"#0000FF\"}, \"name\": \"Saturday bad review\", \"type\": \"scatter\", \"x\": [0.1, 0.3305298396179653, 1.092499748778779, 3.6110376674651734, 11.935557010816956, 39.4505774453641, 130.39593035852323, 430.9974594823805, 1424.5752115846176, 4708.64616208793], \"y\": [0.00965882536220595, 0.0187997107736804, 0.021493664451947864, 0.021302216923762392, 0.020653382365517836, 0.02017833042016063, 0.015734912995186968, 0.01392875232145872, 0.00861178091629349, 0.013668841255048152]}, {\"line\": {\"color\": \"#FF0000\"}, \"name\": \"Sunday good review\", \"type\": \"scatter\", \"x\": [0.1, 0.3305298396179653, 1.092499748778779, 3.6110376674651734, 11.935557010816956, 39.4505774453641, 130.39593035852323, 430.9974594823805, 1424.5752115846176, 4708.64616208793], \"y\": [0.035211267605633804, 0.05745418524021793, 0.06982732505301424, 0.07765330022293084, 0.0782760150244371, 0.07129161702069381, 0.05345699831365936, 0.047906941149460466, 0.03890017184814873, 0.042994079503806036]}, {\"line\": {\"color\": \"#0000FF\"}, \"name\": \"Sunday bad review\", \"type\": \"scatter\", \"x\": [0.1, 0.3305298396179653, 1.092499748778779, 3.6110376674651734, 11.935557010816956, 39.4505774453641, 130.39593035852323, 430.9974594823805, 1424.5752115846176, 4708.64616208793], \"y\": [0.00719208870242733, 0.017417863628859172, 0.021458143996768656, 0.023060642830939414, 0.022557002925939942, 0.02069381103030801, 0.011804384485666104, 0.014999617356700084, 0.006561474769567255, 0.013039188046236256]}, {\"line\": {\"color\": \"#FF0000\"}, \"name\": \"allWeekDays good review\", \"type\": \"scatter\", \"x\": [0.1, 0.3305298396179653, 1.092499748778779, 3.6110376674651734, 11.935557010816956, 39.4505774453641, 130.39593035852323, 430.9974594823805, 1424.5752115846176, 4708.64616208793], \"y\": [0.03660510387335654, 0.06235961840357445, 0.07617843154107781, 0.08199288400660193, 0.08051319115023388, 0.07273049831089205, 0.053238462187473634, 0.0538052443962484, 0.04269896026825561, 0.04595799920437177]}, {\"line\": {\"color\": \"#0000FF\"}, \"name\": \"allWeekDays bad review\", \"type\": \"scatter\", \"x\": [0.1, 0.3305298396179653, 1.092499748778779, 3.6110376674651734, 11.935557010816956, 39.4505774453641, 130.39593035852323, 430.9974594823805, 1424.5752115846176, 4708.64616208793], \"y\": [0.010198878123406424, 0.01923680714889506, 0.023584592905467626, 0.023847371411564167, 0.022886444547406383, 0.021623360453820184, 0.013780690159462271, 0.015804713727028366, 0.008853400236412323, 0.013002240321601306]}],                        {\"template\": {\"data\": {\"bar\": [{\"error_x\": {\"color\": \"#2a3f5f\"}, \"error_y\": {\"color\": \"#2a3f5f\"}, \"marker\": {\"line\": {\"color\": \"#E5ECF6\", \"width\": 0.5}}, \"type\": \"bar\"}], \"barpolar\": [{\"marker\": {\"line\": {\"color\": \"#E5ECF6\", \"width\": 0.5}}, \"type\": \"barpolar\"}], \"carpet\": [{\"aaxis\": {\"endlinecolor\": \"#2a3f5f\", \"gridcolor\": \"white\", \"linecolor\": \"white\", \"minorgridcolor\": \"white\", \"startlinecolor\": \"#2a3f5f\"}, \"baxis\": {\"endlinecolor\": \"#2a3f5f\", \"gridcolor\": \"white\", \"linecolor\": \"white\", \"minorgridcolor\": \"white\", \"startlinecolor\": \"#2a3f5f\"}, \"type\": \"carpet\"}], \"choropleth\": [{\"colorbar\": {\"outlinewidth\": 0, \"ticks\": \"\"}, \"type\": \"choropleth\"}], \"contour\": [{\"colorbar\": {\"outlinewidth\": 0, \"ticks\": \"\"}, \"colorscale\": [[0.0, \"#0d0887\"], [0.1111111111111111, \"#46039f\"], [0.2222222222222222, \"#7201a8\"], [0.3333333333333333, \"#9c179e\"], [0.4444444444444444, \"#bd3786\"], [0.5555555555555556, \"#d8576b\"], [0.6666666666666666, \"#ed7953\"], [0.7777777777777778, \"#fb9f3a\"], [0.8888888888888888, \"#fdca26\"], [1.0, \"#f0f921\"]], \"type\": \"contour\"}], \"contourcarpet\": [{\"colorbar\": {\"outlinewidth\": 0, \"ticks\": \"\"}, \"type\": \"contourcarpet\"}], \"heatmap\": [{\"colorbar\": {\"outlinewidth\": 0, \"ticks\": \"\"}, \"colorscale\": [[0.0, \"#0d0887\"], [0.1111111111111111, \"#46039f\"], [0.2222222222222222, \"#7201a8\"], [0.3333333333333333, \"#9c179e\"], [0.4444444444444444, \"#bd3786\"], [0.5555555555555556, \"#d8576b\"], [0.6666666666666666, \"#ed7953\"], [0.7777777777777778, \"#fb9f3a\"], [0.8888888888888888, \"#fdca26\"], [1.0, \"#f0f921\"]], \"type\": \"heatmap\"}], \"heatmapgl\": [{\"colorbar\": {\"outlinewidth\": 0, \"ticks\": \"\"}, \"colorscale\": [[0.0, \"#0d0887\"], [0.1111111111111111, \"#46039f\"], [0.2222222222222222, \"#7201a8\"], [0.3333333333333333, \"#9c179e\"], [0.4444444444444444, \"#bd3786\"], [0.5555555555555556, \"#d8576b\"], [0.6666666666666666, \"#ed7953\"], [0.7777777777777778, \"#fb9f3a\"], [0.8888888888888888, \"#fdca26\"], [1.0, \"#f0f921\"]], \"type\": \"heatmapgl\"}], \"histogram\": [{\"marker\": {\"colorbar\": {\"outlinewidth\": 0, \"ticks\": \"\"}}, \"type\": \"histogram\"}], \"histogram2d\": [{\"colorbar\": {\"outlinewidth\": 0, \"ticks\": \"\"}, \"colorscale\": [[0.0, \"#0d0887\"], [0.1111111111111111, \"#46039f\"], [0.2222222222222222, \"#7201a8\"], [0.3333333333333333, \"#9c179e\"], [0.4444444444444444, \"#bd3786\"], [0.5555555555555556, \"#d8576b\"], [0.6666666666666666, \"#ed7953\"], [0.7777777777777778, \"#fb9f3a\"], [0.8888888888888888, \"#fdca26\"], [1.0, \"#f0f921\"]], \"type\": \"histogram2d\"}], \"histogram2dcontour\": [{\"colorbar\": {\"outlinewidth\": 0, \"ticks\": \"\"}, \"colorscale\": [[0.0, \"#0d0887\"], [0.1111111111111111, \"#46039f\"], [0.2222222222222222, \"#7201a8\"], [0.3333333333333333, \"#9c179e\"], [0.4444444444444444, \"#bd3786\"], [0.5555555555555556, \"#d8576b\"], [0.6666666666666666, \"#ed7953\"], [0.7777777777777778, \"#fb9f3a\"], [0.8888888888888888, \"#fdca26\"], [1.0, \"#f0f921\"]], \"type\": \"histogram2dcontour\"}], \"mesh3d\": [{\"colorbar\": {\"outlinewidth\": 0, \"ticks\": \"\"}, \"type\": \"mesh3d\"}], \"parcoords\": [{\"line\": {\"colorbar\": {\"outlinewidth\": 0, \"ticks\": \"\"}}, \"type\": \"parcoords\"}], \"pie\": [{\"automargin\": true, \"type\": \"pie\"}], \"scatter\": [{\"marker\": {\"colorbar\": {\"outlinewidth\": 0, \"ticks\": \"\"}}, \"type\": \"scatter\"}], \"scatter3d\": [{\"line\": {\"colorbar\": {\"outlinewidth\": 0, \"ticks\": \"\"}}, \"marker\": {\"colorbar\": {\"outlinewidth\": 0, \"ticks\": \"\"}}, \"type\": \"scatter3d\"}], \"scattercarpet\": [{\"marker\": {\"colorbar\": {\"outlinewidth\": 0, \"ticks\": \"\"}}, \"type\": \"scattercarpet\"}], \"scattergeo\": [{\"marker\": {\"colorbar\": {\"outlinewidth\": 0, \"ticks\": \"\"}}, \"type\": \"scattergeo\"}], \"scattergl\": [{\"marker\": {\"colorbar\": {\"outlinewidth\": 0, \"ticks\": \"\"}}, \"type\": \"scattergl\"}], \"scattermapbox\": [{\"marker\": {\"colorbar\": {\"outlinewidth\": 0, \"ticks\": \"\"}}, \"type\": \"scattermapbox\"}], \"scatterpolar\": [{\"marker\": {\"colorbar\": {\"outlinewidth\": 0, \"ticks\": \"\"}}, \"type\": \"scatterpolar\"}], \"scatterpolargl\": [{\"marker\": {\"colorbar\": {\"outlinewidth\": 0, \"ticks\": \"\"}}, \"type\": \"scatterpolargl\"}], \"scatterternary\": [{\"marker\": {\"colorbar\": {\"outlinewidth\": 0, \"ticks\": \"\"}}, \"type\": \"scatterternary\"}], \"surface\": [{\"colorbar\": {\"outlinewidth\": 0, \"ticks\": \"\"}, \"colorscale\": [[0.0, \"#0d0887\"], [0.1111111111111111, \"#46039f\"], [0.2222222222222222, \"#7201a8\"], [0.3333333333333333, \"#9c179e\"], [0.4444444444444444, \"#bd3786\"], [0.5555555555555556, \"#d8576b\"], [0.6666666666666666, \"#ed7953\"], [0.7777777777777778, \"#fb9f3a\"], [0.8888888888888888, \"#fdca26\"], [1.0, \"#f0f921\"]], \"type\": \"surface\"}], \"table\": [{\"cells\": {\"fill\": {\"color\": \"#EBF0F8\"}, \"line\": {\"color\": \"white\"}}, \"header\": {\"fill\": {\"color\": \"#C8D4E3\"}, \"line\": {\"color\": \"white\"}}, \"type\": \"table\"}]}, \"layout\": {\"annotationdefaults\": {\"arrowcolor\": \"#2a3f5f\", \"arrowhead\": 0, \"arrowwidth\": 1}, \"autotypenumbers\": \"strict\", \"coloraxis\": {\"colorbar\": {\"outlinewidth\": 0, \"ticks\": \"\"}}, \"colorscale\": {\"diverging\": [[0, \"#8e0152\"], [0.1, \"#c51b7d\"], [0.2, \"#de77ae\"], [0.3, \"#f1b6da\"], [0.4, \"#fde0ef\"], [0.5, \"#f7f7f7\"], [0.6, \"#e6f5d0\"], [0.7, \"#b8e186\"], [0.8, \"#7fbc41\"], [0.9, \"#4d9221\"], [1, \"#276419\"]], \"sequential\": [[0.0, \"#0d0887\"], [0.1111111111111111, \"#46039f\"], [0.2222222222222222, \"#7201a8\"], [0.3333333333333333, \"#9c179e\"], [0.4444444444444444, \"#bd3786\"], [0.5555555555555556, \"#d8576b\"], [0.6666666666666666, \"#ed7953\"], [0.7777777777777778, \"#fb9f3a\"], [0.8888888888888888, \"#fdca26\"], [1.0, \"#f0f921\"]], \"sequentialminus\": [[0.0, \"#0d0887\"], [0.1111111111111111, \"#46039f\"], [0.2222222222222222, \"#7201a8\"], [0.3333333333333333, \"#9c179e\"], [0.4444444444444444, \"#bd3786\"], [0.5555555555555556, \"#d8576b\"], [0.6666666666666666, \"#ed7953\"], [0.7777777777777778, \"#fb9f3a\"], [0.8888888888888888, \"#fdca26\"], [1.0, \"#f0f921\"]]}, \"colorway\": [\"#636efa\", \"#EF553B\", \"#00cc96\", \"#ab63fa\", \"#FFA15A\", \"#19d3f3\", \"#FF6692\", \"#B6E880\", \"#FF97FF\", \"#FECB52\"], \"font\": {\"color\": \"#2a3f5f\"}, \"geo\": {\"bgcolor\": \"white\", \"lakecolor\": \"white\", \"landcolor\": \"#E5ECF6\", \"showlakes\": true, \"showland\": true, \"subunitcolor\": \"white\"}, \"hoverlabel\": {\"align\": \"left\"}, \"hovermode\": \"closest\", \"mapbox\": {\"style\": \"light\"}, \"paper_bgcolor\": \"white\", \"plot_bgcolor\": \"#E5ECF6\", \"polar\": {\"angularaxis\": {\"gridcolor\": \"white\", \"linecolor\": \"white\", \"ticks\": \"\"}, \"bgcolor\": \"#E5ECF6\", \"radialaxis\": {\"gridcolor\": \"white\", \"linecolor\": \"white\", \"ticks\": \"\"}}, \"scene\": {\"xaxis\": {\"backgroundcolor\": \"#E5ECF6\", \"gridcolor\": \"white\", \"gridwidth\": 2, \"linecolor\": \"white\", \"showbackground\": true, \"ticks\": \"\", \"zerolinecolor\": \"white\"}, \"yaxis\": {\"backgroundcolor\": \"#E5ECF6\", \"gridcolor\": \"white\", \"gridwidth\": 2, \"linecolor\": \"white\", \"showbackground\": true, \"ticks\": \"\", \"zerolinecolor\": \"white\"}, \"zaxis\": {\"backgroundcolor\": \"#E5ECF6\", \"gridcolor\": \"white\", \"gridwidth\": 2, \"linecolor\": \"white\", \"showbackground\": true, \"ticks\": \"\", \"zerolinecolor\": \"white\"}}, \"shapedefaults\": {\"line\": {\"color\": \"#2a3f5f\"}}, \"ternary\": {\"aaxis\": {\"gridcolor\": \"white\", \"linecolor\": \"white\", \"ticks\": \"\"}, \"baxis\": {\"gridcolor\": \"white\", \"linecolor\": \"white\", \"ticks\": \"\"}, \"bgcolor\": \"#E5ECF6\", \"caxis\": {\"gridcolor\": \"white\", \"linecolor\": \"white\", \"ticks\": \"\"}}, \"title\": {\"x\": 0.05}, \"xaxis\": {\"automargin\": true, \"gridcolor\": \"white\", \"linecolor\": \"white\", \"ticks\": \"\", \"title\": {\"standoff\": 15}, \"zerolinecolor\": \"white\", \"zerolinewidth\": 2}, \"yaxis\": {\"automargin\": true, \"gridcolor\": \"white\", \"linecolor\": \"white\", \"ticks\": \"\", \"title\": {\"standoff\": 15}, \"zerolinecolor\": \"white\", \"zerolinewidth\": 2}}}, \"title\": {\"text\": \"Evolution of friends' reviews influence on mobility according to weekdays\"}, \"updatemenus\": [{\"active\": 0, \"buttons\": [{\"args\": [{\"visible\": [1.0, 1.0, 1.0, 1.0, 1.0, 1.0, 1.0, 1.0]}, {\"title\": \"Plot all weekdays\"}], \"label\": \"Plot all weekdays\", \"method\": \"update\"}, {\"args\": [{\"visible\": [true, true, false, false, false, false, false, false, false, false, false, false, false, false, false, false]}, {\"title\": \"Monday\"}], \"label\": \"Monday\", \"method\": \"update\"}, {\"args\": [{\"visible\": [false, false, true, true, false, false, false, false, false, false, false, false, false, false, false, false]}, {\"title\": \"Tuesday\"}], \"label\": \"Tuesday\", \"method\": \"update\"}, {\"args\": [{\"visible\": [false, false, false, false, true, true, false, false, false, false, false, false, false, false, false, false]}, {\"title\": \"Wednesday\"}], \"label\": \"Wednesday\", \"method\": \"update\"}, {\"args\": [{\"visible\": [false, false, false, false, false, false, true, true, false, false, false, false, false, false, false, false]}, {\"title\": \"Thursday\"}], \"label\": \"Thursday\", \"method\": \"update\"}, {\"args\": [{\"visible\": [false, false, false, false, false, false, false, false, true, true, false, false, false, false, false, false]}, {\"title\": \"Friday\"}], \"label\": \"Friday\", \"method\": \"update\"}, {\"args\": [{\"visible\": [false, false, false, false, false, false, false, false, false, false, true, true, false, false, false, false]}, {\"title\": \"Saturday\"}], \"label\": \"Saturday\", \"method\": \"update\"}, {\"args\": [{\"visible\": [false, false, false, false, false, false, false, false, false, false, false, false, true, true, false, false]}, {\"title\": \"Sunday\"}], \"label\": \"Sunday\", \"method\": \"update\"}, {\"args\": [{\"visible\": [false, false, false, false, false, false, false, false, false, false, false, false, false, false, true, true]}, {\"title\": \"allWeekDays\"}], \"label\": \"allWeekDays\", \"method\": \"update\"}]}], \"xaxis\": {\"title\": {\"text\": \"Distance travelled in km by weekday in logarithmic scale\"}, \"type\": \"log\"}, \"yaxis\": {\"title\": {\"text\": \"Probability of travelling\"}}},                        {\"responsive\": true}                    ).then(function(){\n",
       "                            \n",
       "var gd = document.getElementById('a6c990f8-76af-46a3-962b-22569925ae3e');\n",
       "var x = new MutationObserver(function (mutations, observer) {{\n",
       "        var display = window.getComputedStyle(gd).display;\n",
       "        if (!display || display === 'none') {{\n",
       "            console.log([gd, 'removed!']);\n",
       "            Plotly.purge(gd);\n",
       "            observer.disconnect();\n",
       "        }}\n",
       "}});\n",
       "\n",
       "// Listen for the removal of the full notebook cells\n",
       "var notebookContainer = gd.closest('#notebook-container');\n",
       "if (notebookContainer) {{\n",
       "    x.observe(notebookContainer, {childList: true});\n",
       "}}\n",
       "\n",
       "// Listen for the clearing of the current output cell\n",
       "var outputEl = gd.closest('.output');\n",
       "if (outputEl) {{\n",
       "    x.observe(outputEl, {childList: true});\n",
       "}}\n",
       "\n",
       "                        })                };                });            </script>        </div>"
      ]
     },
     "metadata": {},
     "output_type": "display_data"
    }
   ],
   "source": [
    "# Initialize figure\n",
    "fig = go.Figure()\n",
    "\n",
    "# Add Traces\n",
    "for i in col_names:\n",
    "    fig.add_trace(\n",
    "    go.Scatter(x=bucket,\n",
    "               y=df_good[i].values,\n",
    "               name=i+\" good review\",\n",
    "               line=dict(color=\"#FF0000\")))\n",
    "    fig.add_trace(\n",
    "    go.Scatter(x=bucket,\n",
    "               y=df_bad[i].values,\n",
    "               name=i+\" bad review\",\n",
    "               line=dict(color=\"#0000FF\")))\n",
    "\n",
    "# Add layout\n",
    "fig.update_layout(\n",
    "    updatemenus=[\n",
    "        dict(\n",
    "            active=0,\n",
    "            buttons=list_dict(col_names,len(col_names)),\n",
    "        )\n",
    "    ])\n",
    "\n",
    "\n",
    "# Define axies\n",
    "fig.update_xaxes(title_text=\"Distance travelled in km by weekday in logarithmic scale\", type=\"log\")\n",
    "fig.update_yaxes(title_text=\"Probability of travelling\") \n",
    "# Set title\n",
    "fig.update_layout(title_text=\"Evolution of friends' reviews influence on mobility according to weekdays\")\n",
    "fig.show()"
   ]
  },
  {
   "cell_type": "code",
   "execution_count": 126,
   "metadata": {},
   "outputs": [],
   "source": [
    "# Save html\n",
    "pio.write_html(fig, file='evolution_weekday.html', auto_open=True)"
   ]
  },
  {
   "cell_type": "markdown",
   "metadata": {},
   "source": [
    "# Create the interactive plot for the evolution of friends' reviews influence on mobility according to categories"
   ]
  },
  {
   "cell_type": "code",
   "execution_count": 127,
   "metadata": {
    "scrolled": true
   },
   "outputs": [
    {
     "data": {
      "text/html": [
       "<div>\n",
       "<style scoped>\n",
       "    .dataframe tbody tr th:only-of-type {\n",
       "        vertical-align: middle;\n",
       "    }\n",
       "\n",
       "    .dataframe tbody tr th {\n",
       "        vertical-align: top;\n",
       "    }\n",
       "\n",
       "    .dataframe thead th {\n",
       "        text-align: right;\n",
       "    }\n",
       "</style>\n",
       "<table border=\"1\" class=\"dataframe\">\n",
       "  <thead>\n",
       "    <tr style=\"text-align: right;\">\n",
       "      <th></th>\n",
       "      <th>Construction</th>\n",
       "      <th>Computers</th>\n",
       "      <th>Home</th>\n",
       "      <th>Merchant</th>\n",
       "      <th>Manufacturing</th>\n",
       "      <th>Travel</th>\n",
       "      <th>Sport</th>\n",
       "      <th>Education</th>\n",
       "      <th>Legal</th>\n",
       "      <th>BusinessSupport</th>\n",
       "      <th>PersonalCare</th>\n",
       "      <th>Entertainment</th>\n",
       "      <th>RealEstate</th>\n",
       "      <th>Automotive</th>\n",
       "      <th>Food</th>\n",
       "      <th>Miscellaneous</th>\n",
       "      <th>Health</th>\n",
       "      <th>All Categories</th>\n",
       "    </tr>\n",
       "  </thead>\n",
       "  <tbody>\n",
       "    <tr>\n",
       "      <th>0</th>\n",
       "      <td>0.011936</td>\n",
       "      <td>0.014444</td>\n",
       "      <td>0.014615</td>\n",
       "      <td>0.035347</td>\n",
       "      <td>0.017167</td>\n",
       "      <td>0.033902</td>\n",
       "      <td>0.045535</td>\n",
       "      <td>0.034448</td>\n",
       "      <td>0.011161</td>\n",
       "      <td>0.035795</td>\n",
       "      <td>0.031081</td>\n",
       "      <td>0.048737</td>\n",
       "      <td>0.021817</td>\n",
       "      <td>0.019601</td>\n",
       "      <td>0.042929</td>\n",
       "      <td>0.026024</td>\n",
       "      <td>0.026828</td>\n",
       "      <td>0.036605</td>\n",
       "    </tr>\n",
       "    <tr>\n",
       "      <th>1</th>\n",
       "      <td>0.032927</td>\n",
       "      <td>0.027411</td>\n",
       "      <td>0.039514</td>\n",
       "      <td>0.067379</td>\n",
       "      <td>0.029827</td>\n",
       "      <td>0.073211</td>\n",
       "      <td>0.043014</td>\n",
       "      <td>0.085977</td>\n",
       "      <td>0.031363</td>\n",
       "      <td>0.071918</td>\n",
       "      <td>0.060781</td>\n",
       "      <td>0.070728</td>\n",
       "      <td>0.048294</td>\n",
       "      <td>0.066355</td>\n",
       "      <td>0.064546</td>\n",
       "      <td>0.072068</td>\n",
       "      <td>0.036810</td>\n",
       "      <td>0.062360</td>\n",
       "    </tr>\n",
       "    <tr>\n",
       "      <th>2</th>\n",
       "      <td>0.043876</td>\n",
       "      <td>0.047142</td>\n",
       "      <td>0.050519</td>\n",
       "      <td>0.082257</td>\n",
       "      <td>0.049288</td>\n",
       "      <td>0.090685</td>\n",
       "      <td>0.054936</td>\n",
       "      <td>0.085361</td>\n",
       "      <td>0.042151</td>\n",
       "      <td>0.085851</td>\n",
       "      <td>0.070101</td>\n",
       "      <td>0.091973</td>\n",
       "      <td>0.062287</td>\n",
       "      <td>0.065293</td>\n",
       "      <td>0.079677</td>\n",
       "      <td>0.082501</td>\n",
       "      <td>0.045037</td>\n",
       "      <td>0.076178</td>\n",
       "    </tr>\n",
       "    <tr>\n",
       "      <th>3</th>\n",
       "      <td>0.044220</td>\n",
       "      <td>0.053504</td>\n",
       "      <td>0.051243</td>\n",
       "      <td>0.083429</td>\n",
       "      <td>0.059445</td>\n",
       "      <td>0.078351</td>\n",
       "      <td>0.062517</td>\n",
       "      <td>0.070358</td>\n",
       "      <td>0.043982</td>\n",
       "      <td>0.080017</td>\n",
       "      <td>0.063602</td>\n",
       "      <td>0.100211</td>\n",
       "      <td>0.063559</td>\n",
       "      <td>0.043501</td>\n",
       "      <td>0.089292</td>\n",
       "      <td>0.066551</td>\n",
       "      <td>0.049170</td>\n",
       "      <td>0.081993</td>\n",
       "    </tr>\n",
       "    <tr>\n",
       "      <th>4</th>\n",
       "      <td>0.042705</td>\n",
       "      <td>0.045966</td>\n",
       "      <td>0.041418</td>\n",
       "      <td>0.076462</td>\n",
       "      <td>0.060533</td>\n",
       "      <td>0.067588</td>\n",
       "      <td>0.064907</td>\n",
       "      <td>0.066298</td>\n",
       "      <td>0.044245</td>\n",
       "      <td>0.075450</td>\n",
       "      <td>0.061568</td>\n",
       "      <td>0.098514</td>\n",
       "      <td>0.053847</td>\n",
       "      <td>0.041706</td>\n",
       "      <td>0.091174</td>\n",
       "      <td>0.066310</td>\n",
       "      <td>0.050503</td>\n",
       "      <td>0.080513</td>\n",
       "    </tr>\n",
       "  </tbody>\n",
       "</table>\n",
       "</div>"
      ],
      "text/plain": [
       "   Construction  Computers      Home  Merchant  Manufacturing    Travel  \\\n",
       "0      0.011936   0.014444  0.014615  0.035347       0.017167  0.033902   \n",
       "1      0.032927   0.027411  0.039514  0.067379       0.029827  0.073211   \n",
       "2      0.043876   0.047142  0.050519  0.082257       0.049288  0.090685   \n",
       "3      0.044220   0.053504  0.051243  0.083429       0.059445  0.078351   \n",
       "4      0.042705   0.045966  0.041418  0.076462       0.060533  0.067588   \n",
       "\n",
       "      Sport  Education     Legal  BusinessSupport  PersonalCare  \\\n",
       "0  0.045535   0.034448  0.011161         0.035795      0.031081   \n",
       "1  0.043014   0.085977  0.031363         0.071918      0.060781   \n",
       "2  0.054936   0.085361  0.042151         0.085851      0.070101   \n",
       "3  0.062517   0.070358  0.043982         0.080017      0.063602   \n",
       "4  0.064907   0.066298  0.044245         0.075450      0.061568   \n",
       "\n",
       "   Entertainment  RealEstate  Automotive      Food  Miscellaneous    Health  \\\n",
       "0       0.048737    0.021817    0.019601  0.042929       0.026024  0.026828   \n",
       "1       0.070728    0.048294    0.066355  0.064546       0.072068  0.036810   \n",
       "2       0.091973    0.062287    0.065293  0.079677       0.082501  0.045037   \n",
       "3       0.100211    0.063559    0.043501  0.089292       0.066551  0.049170   \n",
       "4       0.098514    0.053847    0.041706  0.091174       0.066310  0.050503   \n",
       "\n",
       "   All Categories  \n",
       "0        0.036605  \n",
       "1        0.062360  \n",
       "2        0.076178  \n",
       "3        0.081993  \n",
       "4        0.080513  "
      ]
     },
     "execution_count": 127,
     "metadata": {},
     "output_type": "execute_result"
    }
   ],
   "source": [
    "# Load dataframes for category study\n",
    "df_bad_cat = pd.read_csv('./for_plotting/bad_reviews_cat.csv')\n",
    "df_good_cat = pd.read_csv('./for_plotting/good_reviews_cat.csv')\n",
    "# Show an example\n",
    "df_good_cat.head()"
   ]
  },
  {
   "cell_type": "code",
   "execution_count": 128,
   "metadata": {},
   "outputs": [],
   "source": [
    "# Define x axis of the plot\n",
    "col_names_cat = df_bad_cat.columns"
   ]
  },
  {
   "cell_type": "code",
   "execution_count": 129,
   "metadata": {},
   "outputs": [],
   "source": [
    "def list_dict_cat(col_names_cat,N):\n",
    "    \"\"\"\n",
    "        Compute the list of dictionaries for interactive plot\n",
    "        col_names_cat: columns name of the category dataframe, \n",
    "                        which is used as x-axis for the plot\n",
    "        N: number of all arrays\n",
    "        Return: list of dictionaries for interactive plot\n",
    "    \"\"\"\n",
    "    res = []\n",
    "    \n",
    "    # For plotting all arrays\n",
    "    res.append(dict(label=\"Plot all categories\",\n",
    "                     method=\"update\",\n",
    "                     args=[{\"visible\": list(np.ones(N))},\n",
    "                           {\"title\": \"Plot all categories\"}]))\n",
    "    \n",
    "    # For plotting arrays indiviually\n",
    "    for idx,i in enumerate(col_names_cat): \n",
    "        res.append(dict(label=i,\n",
    "                         method=\"update\",\n",
    "                         args=[{\"visible\": set_visible(idx,N)},\n",
    "                               {\"title\": i}]))\n",
    "    return list(res)"
   ]
  },
  {
   "cell_type": "code",
   "execution_count": 130,
   "metadata": {
    "scrolled": false
   },
   "outputs": [
    {
     "data": {
      "application/vnd.plotly.v1+json": {
       "config": {
        "plotlyServerURL": "https://plot.ly"
       },
       "data": [
        {
         "line": {
          "color": "#FF0000"
         },
         "name": "Construction good review",
         "type": "scatter",
         "x": [
          0.1,
          0.3305298396179653,
          1.092499748778779,
          3.6110376674651734,
          11.935557010816956,
          39.4505774453641,
          130.39593035852323,
          430.9974594823805,
          1424.5752115846176,
          4708.64616208793
         ],
         "y": [
          0.011936339522547,
          0.032926829268293,
          0.043876383059901,
          0.044220105218257,
          0.042705309885607,
          0.03490582339727,
          0.019730010384216,
          0.039012738853503,
          0.026315789473683997,
          0.030279503105589998
         ]
        },
        {
         "line": {
          "color": "#0000FF"
         },
         "name": "Construction bad review",
         "type": "scatter",
         "x": [
          0.1,
          0.3305298396179653,
          1.092499748778779,
          3.6110376674651734,
          11.935557010816956,
          39.4505774453641,
          130.39593035852323,
          430.9974594823805,
          1424.5752115846176,
          4708.64616208793
         ],
         "y": [
          0.005305039787798,
          0.004878048780488,
          0.011064479206409999,
          0.011374946679938,
          0.010030732456889,
          0.008092851794251,
          0.002596053997923,
          0.009554140127389,
          0.002024291497976,
          0.011645962732918999
         ]
        },
        {
         "line": {
          "color": "#FF0000"
         },
         "name": "Computers good review",
         "type": "scatter",
         "x": [
          0.1,
          0.3305298396179653,
          1.092499748778779,
          3.6110376674651734,
          11.935557010816956,
          39.4505774453641,
          130.39593035852323,
          430.9974594823805,
          1424.5752115846176,
          4708.64616208793
         ],
         "y": [
          0.014444444444444999,
          0.027411167512689995,
          0.047141738449491,
          0.05350430206332,
          0.045965724439457005,
          0.044892026578073,
          0.031438935912938004,
          0.037752414398595,
          0.018987341772152,
          0.037735849056603994
         ]
        },
        {
         "line": {
          "color": "#0000FF"
         },
         "name": "Computers bad review",
         "type": "scatter",
         "x": [
          0.1,
          0.3305298396179653,
          1.092499748778779,
          3.6110376674651734,
          11.935557010816956,
          39.4505774453641,
          130.39593035852323,
          430.9974594823805,
          1424.5752115846176,
          4708.64616208793
         ],
         "y": [
          0.011111111111111,
          0.009137055837563,
          0.016444792482381,
          0.022178598279175,
          0.026840616305441,
          0.024127906976744003,
          0.016928657799275,
          0.020193151887621,
          0.010548523206750999,
          0.020583190394511
         ]
        },
        {
         "line": {
          "color": "#FF0000"
         },
         "name": "Home good review",
         "type": "scatter",
         "x": [
          0.1,
          0.3305298396179653,
          1.092499748778779,
          3.6110376674651734,
          11.935557010816956,
          39.4505774453641,
          130.39593035852323,
          430.9974594823805,
          1424.5752115846176,
          4708.64616208793
         ],
         "y": [
          0.014614952220349,
          0.039513677811550005,
          0.050519087713562005,
          0.051242797303906,
          0.04141828757657601,
          0.035987453915149,
          0.019178822258238998,
          0.041359971959341005,
          0.02116935483871,
          0.031183255019223
         ]
        },
        {
         "line": {
          "color": "#0000FF"
         },
         "name": "Home bad review",
         "type": "scatter",
         "x": [
          0.1,
          0.3305298396179653,
          1.092499748778779,
          3.6110376674651734,
          11.935557010816956,
          39.4505774453641,
          130.39593035852323,
          430.9974594823805,
          1424.5752115846176,
          4708.64616208793
         ],
         "y": [
          0.009274873524452,
          0.008611955420466,
          0.0147142973923,
          0.014352235759393,
          0.013211361151792,
          0.011266714356463002,
          0.005672609400324001,
          0.010515247108306999,
          0.004032258064516,
          0.009824861170440001
         ]
        },
        {
         "line": {
          "color": "#FF0000"
         },
         "name": "Merchant good review",
         "type": "scatter",
         "x": [
          0.1,
          0.3305298396179653,
          1.092499748778779,
          3.6110376674651734,
          11.935557010816956,
          39.4505774453641,
          130.39593035852323,
          430.9974594823805,
          1424.5752115846176,
          4708.64616208793
         ],
         "y": [
          0.035346669256166,
          0.067379440917697,
          0.082257362541709,
          0.083428737952999,
          0.076461897319202,
          0.06974516353278301,
          0.048815853069116,
          0.062870206796217,
          0.047038821195806005,
          0.051363218625549004
         ]
        },
        {
         "line": {
          "color": "#0000FF"
         },
         "name": "Merchant bad review",
         "type": "scatter",
         "x": [
          0.1,
          0.3305298396179653,
          1.092499748778779,
          3.6110376674651734,
          11.935557010816956,
          39.4505774453641,
          130.39593035852323,
          430.9974594823805,
          1424.5752115846176,
          4708.64616208793
         ],
         "y": [
          0.009710623422023999,
          0.016928388461967,
          0.023232679115459003,
          0.023230157573739,
          0.022418371758267004,
          0.018608318214958,
          0.011116481391977,
          0.017146420035332,
          0.009351090960611999,
          0.013785356887573
         ]
        },
        {
         "line": {
          "color": "#FF0000"
         },
         "name": "Manufacturing good review",
         "type": "scatter",
         "x": [
          0.1,
          0.3305298396179653,
          1.092499748778779,
          3.6110376674651734,
          11.935557010816956,
          39.4505774453641,
          130.39593035852323,
          430.9974594823805,
          1424.5752115846176,
          4708.64616208793
         ],
         "y": [
          0.017167381974248996,
          0.029827315541601,
          0.04928835002635701,
          0.059444661712945004,
          0.060533468466393,
          0.058673469387754994,
          0.035422343324250996,
          0.040983606557377,
          0.00974025974026,
          0.032299741602067
         ]
        },
        {
         "line": {
          "color": "#0000FF"
         },
         "name": "Manufacturing bad review",
         "type": "scatter",
         "x": [
          0.1,
          0.3305298396179653,
          1.092499748778779,
          3.6110376674651734,
          11.935557010816956,
          39.4505774453641,
          130.39593035852323,
          430.9974594823805,
          1424.5752115846176,
          4708.64616208793
         ],
         "y": [
          0.008583690987124,
          0.006279434850863,
          0.013969425408540001,
          0.01579976535002,
          0.017091260883586,
          0.017538265306123003,
          0.005449591280654,
          0.020491803278689002,
          0.00974025974026,
          0.012919896640827
         ]
        },
        {
         "line": {
          "color": "#FF0000"
         },
         "name": "Travel good review",
         "type": "scatter",
         "x": [
          0.1,
          0.3305298396179653,
          1.092499748778779,
          3.6110376674651734,
          11.935557010816956,
          39.4505774453641,
          130.39593035852323,
          430.9974594823805,
          1424.5752115846176,
          4708.64616208793
         ],
         "y": [
          0.033901830282862006,
          0.073211117681845,
          0.090684660961159,
          0.07835093696763201,
          0.067588118918483,
          0.061813122022546,
          0.043650793650794,
          0.053528945281522994,
          0.025213675213675,
          0.04346403089611799
         ]
        },
        {
         "line": {
          "color": "#0000FF"
         },
         "name": "Travel bad review",
         "type": "scatter",
         "x": [
          0.1,
          0.3305298396179653,
          1.092499748778779,
          3.6110376674651734,
          11.935557010816956,
          39.4505774453641,
          130.39593035852323,
          430.9974594823805,
          1424.5752115846176,
          4708.64616208793
         ],
         "y": [
          0.01851081530782,
          0.024246008279125,
          0.030694535878867994,
          0.033921635434412005,
          0.026028558739217004,
          0.018418942502711998,
          0.012896825396825,
          0.029936558287074,
          0.015384615384615,
          0.02232113634876
         ]
        },
        {
         "line": {
          "color": "#FF0000"
         },
         "name": "Sport good review",
         "type": "scatter",
         "x": [
          0.1,
          0.3305298396179653,
          1.092499748778779,
          3.6110376674651734,
          11.935557010816956,
          39.4505774453641,
          130.39593035852323,
          430.9974594823805,
          1424.5752115846176,
          4708.64616208793
         ],
         "y": [
          0.045535396655994,
          0.043013856812932995,
          0.05493566814371901,
          0.062516610127097,
          0.06490669359380201,
          0.066012100466904,
          0.038891187422425,
          0.054302724156594005,
          0.030224075039082997,
          0.040730593607306
         ]
        },
        {
         "line": {
          "color": "#0000FF"
         },
         "name": "Sport bad review",
         "type": "scatter",
         "x": [
          0.1,
          0.3305298396179653,
          1.092499748778779,
          3.6110376674651734,
          11.935557010816956,
          39.4505774453641,
          130.39593035852323,
          430.9974594823805,
          1424.5752115846176,
          4708.64616208793
         ],
         "y": [
          0.009249377445749,
          0.019053117782910002,
          0.023437082910682996,
          0.026091578470148997,
          0.025195642464610004,
          0.024681349367203,
          0.014067025237898,
          0.011906909615732,
          0.010943199583115999,
          0.013333333333333
         ]
        },
        {
         "line": {
          "color": "#FF0000"
         },
         "name": "Education good review",
         "type": "scatter",
         "x": [
          0.1,
          0.3305298396179653,
          1.092499748778779,
          3.6110376674651734,
          11.935557010816956,
          39.4505774453641,
          130.39593035852323,
          430.9974594823805,
          1424.5752115846176,
          4708.64616208793
         ],
         "y": [
          0.034447821681864,
          0.085976627712855,
          0.08536052439912599,
          0.070358140716282,
          0.066297551429526,
          0.064065676909503,
          0.040526849037486996,
          0.06706507304116902,
          0.028145695364239,
          0.059961315280464
         ]
        },
        {
         "line": {
          "color": "#0000FF"
         },
         "name": "Education bad review",
         "type": "scatter",
         "x": [
          0.1,
          0.3305298396179653,
          1.092499748778779,
          3.6110376674651734,
          11.935557010816956,
          39.4505774453641,
          130.39593035852323,
          430.9974594823805,
          1424.5752115846176,
          4708.64616208793
         ],
         "y": [
          0.009118541033434999,
          0.009181969949916999,
          0.013255644573926001,
          0.014224028448057001,
          0.013627034509093,
          0.013848927763071998,
          0.009118541033434999,
          0.01195219123506,
          0.003311258278146,
          0.009026434558349002
         ]
        },
        {
         "line": {
          "color": "#FF0000"
         },
         "name": "Legal good review",
         "type": "scatter",
         "x": [
          0.1,
          0.3305298396179653,
          1.092499748778779,
          3.6110376674651734,
          11.935557010816956,
          39.4505774453641,
          130.39593035852323,
          430.9974594823805,
          1424.5752115846176,
          4708.64616208793
         ],
         "y": [
          0.011160714285713998,
          0.031363088057901,
          0.042150876501871,
          0.043981843794020994,
          0.044245253300495994,
          0.04036144578313299,
          0.017060367454068002,
          0.03536345776031399,
          0.014925373134328,
          0.021674876847291
         ]
        },
        {
         "line": {
          "color": "#0000FF"
         },
         "name": "Legal bad review",
         "type": "scatter",
         "x": [
          0.1,
          0.3305298396179653,
          1.092499748778779,
          3.6110376674651734,
          11.935557010816956,
          39.4505774453641,
          130.39593035852323,
          430.9974594823805,
          1424.5752115846176,
          4708.64616208793
         ],
         "y": [
          0.005580357142856999,
          0.007237635705669001,
          0.014772503446918002,
          0.013356289455836001,
          0.013259257137948,
          0.013345690454123997,
          0.006561679790025999,
          0.016699410609037,
          0.007462686567164,
          0.011822660098522
         ]
        },
        {
         "line": {
          "color": "#FF0000"
         },
         "name": "BusinessSupport good review",
         "type": "scatter",
         "x": [
          0.1,
          0.3305298396179653,
          1.092499748778779,
          3.6110376674651734,
          11.935557010816956,
          39.4505774453641,
          130.39593035852323,
          430.9974594823805,
          1424.5752115846176,
          4708.64616208793
         ],
         "y": [
          0.035795148247979,
          0.071917584925344,
          0.08585145051779701,
          0.08001698187589099,
          0.075449756666606,
          0.068776414677945,
          0.042466184334696996,
          0.05253085829107299,
          0.025206232813932,
          0.042375154213378
         ]
        },
        {
         "line": {
          "color": "#0000FF"
         },
         "name": "BusinessSupport bad review",
         "type": "scatter",
         "x": [
          0.1,
          0.3305298396179653,
          1.092499748778779,
          3.6110376674651734,
          11.935557010816956,
          39.4505774453641,
          130.39593035852323,
          430.9974594823805,
          1424.5752115846176,
          4708.64616208793
         ],
         "y": [
          0.012938005390836,
          0.020799374062724,
          0.025183457924697002,
          0.026256203944243,
          0.022397608588665997,
          0.019523432351215998,
          0.011481597986788,
          0.017558128408765,
          0.009318667888786998,
          0.012658906828299999
         ]
        },
        {
         "line": {
          "color": "#FF0000"
         },
         "name": "PersonalCare good review",
         "type": "scatter",
         "x": [
          0.1,
          0.3305298396179653,
          1.092499748778779,
          3.6110376674651734,
          11.935557010816956,
          39.4505774453641,
          130.39593035852323,
          430.9974594823805,
          1424.5752115846176,
          4708.64616208793
         ],
         "y": [
          0.031080762891452996,
          0.060780780780780995,
          0.07010101010101,
          0.063601750298346,
          0.061568397982113,
          0.062382925270512,
          0.040430107526882,
          0.056012742235200995,
          0.036363636363636,
          0.049700969272015
         ]
        },
        {
         "line": {
          "color": "#0000FF"
         },
         "name": "PersonalCare bad review",
         "type": "scatter",
         "x": [
          0.1,
          0.3305298396179653,
          1.092499748778779,
          3.6110376674651734,
          11.935557010816956,
          39.4505774453641,
          130.39593035852323,
          430.9974594823805,
          1424.5752115846176,
          4708.64616208793
         ],
         "y": [
          0.006004238285849,
          0.01021021021021,
          0.014262626262626001,
          0.013888731033699,
          0.012388467437858998,
          0.011051854463714999,
          0.006021505376343999,
          0.011149455800371999,
          0.005714285714285999,
          0.01062074654568
         ]
        },
        {
         "line": {
          "color": "#FF0000"
         },
         "name": "Entertainment good review",
         "type": "scatter",
         "x": [
          0.1,
          0.3305298396179653,
          1.092499748778779,
          3.6110376674651734,
          11.935557010816956,
          39.4505774453641,
          130.39593035852323,
          430.9974594823805,
          1424.5752115846176,
          4708.64616208793
         ],
         "y": [
          0.0487374749499,
          0.070728267226255,
          0.09197338122526899,
          0.10021091421834402,
          0.098513609842385,
          0.08844488907643498,
          0.070973277764158,
          0.063660477453581,
          0.04461072172759999,
          0.056159016341223
         ]
        },
        {
         "line": {
          "color": "#0000FF"
         },
         "name": "Entertainment bad review",
         "type": "scatter",
         "x": [
          0.1,
          0.3305298396179653,
          1.092499748778779,
          3.6110376674651734,
          11.935557010816956,
          39.4505774453641,
          130.39593035852323,
          430.9974594823805,
          1424.5752115846176,
          4708.64616208793
         ],
         "y": [
          0.013627254509018001,
          0.021913378513193,
          0.027826009195848,
          0.030158955856128,
          0.027863875174907994,
          0.026281227626819,
          0.015322382936994,
          0.019117551918224996,
          0.00985035044516,
          0.013315070238588
         ]
        },
        {
         "line": {
          "color": "#FF0000"
         },
         "name": "RealEstate good review",
         "type": "scatter",
         "x": [
          0.1,
          0.3305298396179653,
          1.092499748778779,
          3.6110376674651734,
          11.935557010816956,
          39.4505774453641,
          130.39593035852323,
          430.9974594823805,
          1424.5752115846176,
          4708.64616208793
         ],
         "y": [
          0.021816562778272996,
          0.048293963254592995,
          0.062286925274118,
          0.063559200115091,
          0.053846567774569004,
          0.04971528044138901,
          0.04036557501904,
          0.05308266519214799,
          0.037818181818182,
          0.045352492141895
         ]
        },
        {
         "line": {
          "color": "#0000FF"
         },
         "name": "RealEstate bad review",
         "type": "scatter",
         "x": [
          0.1,
          0.3305298396179653,
          1.092499748778779,
          3.6110376674651734,
          11.935557010816956,
          39.4505774453641,
          130.39593035852323,
          430.9974594823805,
          1424.5752115846176,
          4708.64616208793
         ],
         "y": [
          0.019145146927871996,
          0.010498687664041998,
          0.019165207776652,
          0.020572579484966,
          0.021309034815518997,
          0.019118992122266996,
          0.015232292460015,
          0.048106165330384004,
          0.024,
          0.041535698248765
         ]
        },
        {
         "line": {
          "color": "#FF0000"
         },
         "name": "Automotive good review",
         "type": "scatter",
         "x": [
          0.1,
          0.3305298396179653,
          1.092499748778779,
          3.6110376674651734,
          11.935557010816956,
          39.4505774453641,
          130.39593035852323,
          430.9974594823805,
          1424.5752115846176,
          4708.64616208793
         ],
         "y": [
          0.019601328903655,
          0.06635514018691599,
          0.06529267674634699,
          0.043500511770727,
          0.041706374824516,
          0.035867263646209,
          0.019058732010891002,
          0.039692307692308,
          0.013714285714286002,
          0.031544597534444996
         ]
        },
        {
         "line": {
          "color": "#0000FF"
         },
         "name": "Automotive bad review",
         "type": "scatter",
         "x": [
          0.1,
          0.3305298396179653,
          1.092499748778779,
          3.6110376674651734,
          11.935557010816956,
          39.4505774453641,
          130.39593035852323,
          430.9974594823805,
          1424.5752115846176,
          4708.64616208793
         ],
         "y": [
          0.006644518272425,
          0.008411214953271,
          0.012838922206267998,
          0.01539406345957,
          0.014684332954185,
          0.012737000339438,
          0.005056398288604,
          0.017538461538462,
          0.006857142857143001,
          0.011240029006527002
         ]
        },
        {
         "line": {
          "color": "#FF0000"
         },
         "name": "Food good review",
         "type": "scatter",
         "x": [
          0.1,
          0.3305298396179653,
          1.092499748778779,
          3.6110376674651734,
          11.935557010816956,
          39.4505774453641,
          130.39593035852323,
          430.9974594823805,
          1424.5752115846176,
          4708.64616208793
         ],
         "y": [
          0.04292872151285,
          0.064545940248076,
          0.07967675367997298,
          0.089292296055563,
          0.091174345672871,
          0.08310275465329299,
          0.06236773310095901,
          0.056523049111178,
          0.044777440193505,
          0.04721229592040099
         ]
        },
        {
         "line": {
          "color": "#0000FF"
         },
         "name": "Food bad review",
         "type": "scatter",
         "x": [
          0.1,
          0.3305298396179653,
          1.092499748778779,
          3.6110376674651734,
          11.935557010816956,
          39.4505774453641,
          130.39593035852323,
          430.9974594823805,
          1424.5752115846176,
          4708.64616208793
         ],
         "y": [
          0.010764506222725,
          0.019782536496614,
          0.024966179189077006,
          0.026123178070717998,
          0.026124018022865,
          0.025629457313216,
          0.016432217104443998,
          0.014642964748418,
          0.008259343382201,
          0.012168391407734
         ]
        },
        {
         "line": {
          "color": "#FF0000"
         },
         "name": "Miscellaneous good review",
         "type": "scatter",
         "x": [
          0.1,
          0.3305298396179653,
          1.092499748778779,
          3.6110376674651734,
          11.935557010816956,
          39.4505774453641,
          130.39593035852323,
          430.9974594823805,
          1424.5752115846176,
          4708.64616208793
         ],
         "y": [
          0.026024096385542005,
          0.0720675944334,
          0.082501269250296,
          0.06655055683658,
          0.06630983485959299,
          0.053027894778669996,
          0.037165082108902,
          0.066933430338305,
          0.06070287539936099,
          0.067693294834777
         ]
        },
        {
         "line": {
          "color": "#0000FF"
         },
         "name": "Miscellaneous bad review",
         "type": "scatter",
         "x": [
          0.1,
          0.3305298396179653,
          1.092499748778779,
          3.6110376674651734,
          11.935557010816956,
          39.4505774453641,
          130.39593035852323,
          430.9974594823805,
          1424.5752115846176,
          4708.64616208793
         ],
         "y": [
          0.006265060240964002,
          0.011431411530815,
          0.016161787104417,
          0.014104891331011001,
          0.013381192765277,
          0.012079790193117999,
          0.005185825410545001,
          0.01600582029829,
          0.006389776357826999,
          0.009945460378569
         ]
        },
        {
         "line": {
          "color": "#FF0000"
         },
         "name": "Health good review",
         "type": "scatter",
         "x": [
          0.1,
          0.3305298396179653,
          1.092499748778779,
          3.6110376674651734,
          11.935557010816956,
          39.4505774453641,
          130.39593035852323,
          430.9974594823805,
          1424.5752115846176,
          4708.64616208793
         ],
         "y": [
          0.026828371922087996,
          0.03680981595092,
          0.045036699209007006,
          0.049170219513055,
          0.050502632838679,
          0.048868169208293,
          0.023600439077936002,
          0.041305245766212,
          0.028538812785387998,
          0.030852105778647998
         ]
        },
        {
         "line": {
          "color": "#0000FF"
         },
         "name": "Health bad review",
         "type": "scatter",
         "x": [
          0.1,
          0.3305298396179653,
          1.092499748778779,
          3.6110376674651734,
          11.935557010816956,
          39.4505774453641,
          130.39593035852323,
          430.9974594823805,
          1424.5752115846176,
          4708.64616208793
         ],
         "y": [
          0.0033076074972440005,
          0.00920245398773,
          0.011615477802323,
          0.011803671470350002,
          0.011728099569172,
          0.01022669446314,
          0.008232711306256999,
          0.01156546881454,
          0.003424657534247,
          0.007835455435846999
         ]
        },
        {
         "line": {
          "color": "#FF0000"
         },
         "name": "All Categories good review",
         "type": "scatter",
         "x": [
          0.1,
          0.3305298396179653,
          1.092499748778779,
          3.6110376674651734,
          11.935557010816956,
          39.4505774453641,
          130.39593035852323,
          430.9974594823805,
          1424.5752115846176,
          4708.64616208793
         ],
         "y": [
          0.036605103873357005,
          0.062359618403575,
          0.076178431541078,
          0.081992884006602,
          0.080513191150234,
          0.072730498310892,
          0.05323846218747401,
          0.053805244396248,
          0.042698960268256,
          0.045957999204372
         ]
        },
        {
         "line": {
          "color": "#0000FF"
         },
         "name": "All Categories bad review",
         "type": "scatter",
         "x": [
          0.1,
          0.3305298396179653,
          1.092499748778779,
          3.6110376674651734,
          11.935557010816956,
          39.4505774453641,
          130.39593035852323,
          430.9974594823805,
          1424.5752115846176,
          4708.64616208793
         ],
         "y": [
          0.010198878123407,
          0.019236807148895002,
          0.023584592905468,
          0.023847371411564,
          0.022886444547406,
          0.02162336045382,
          0.013780690159461999,
          0.015804713727028,
          0.008853400236411998,
          0.013002240321601001
         ]
        }
       ],
       "layout": {
        "template": {
         "data": {
          "bar": [
           {
            "error_x": {
             "color": "#2a3f5f"
            },
            "error_y": {
             "color": "#2a3f5f"
            },
            "marker": {
             "line": {
              "color": "#E5ECF6",
              "width": 0.5
             }
            },
            "type": "bar"
           }
          ],
          "barpolar": [
           {
            "marker": {
             "line": {
              "color": "#E5ECF6",
              "width": 0.5
             }
            },
            "type": "barpolar"
           }
          ],
          "carpet": [
           {
            "aaxis": {
             "endlinecolor": "#2a3f5f",
             "gridcolor": "white",
             "linecolor": "white",
             "minorgridcolor": "white",
             "startlinecolor": "#2a3f5f"
            },
            "baxis": {
             "endlinecolor": "#2a3f5f",
             "gridcolor": "white",
             "linecolor": "white",
             "minorgridcolor": "white",
             "startlinecolor": "#2a3f5f"
            },
            "type": "carpet"
           }
          ],
          "choropleth": [
           {
            "colorbar": {
             "outlinewidth": 0,
             "ticks": ""
            },
            "type": "choropleth"
           }
          ],
          "contour": [
           {
            "colorbar": {
             "outlinewidth": 0,
             "ticks": ""
            },
            "colorscale": [
             [
              0,
              "#0d0887"
             ],
             [
              0.1111111111111111,
              "#46039f"
             ],
             [
              0.2222222222222222,
              "#7201a8"
             ],
             [
              0.3333333333333333,
              "#9c179e"
             ],
             [
              0.4444444444444444,
              "#bd3786"
             ],
             [
              0.5555555555555556,
              "#d8576b"
             ],
             [
              0.6666666666666666,
              "#ed7953"
             ],
             [
              0.7777777777777778,
              "#fb9f3a"
             ],
             [
              0.8888888888888888,
              "#fdca26"
             ],
             [
              1,
              "#f0f921"
             ]
            ],
            "type": "contour"
           }
          ],
          "contourcarpet": [
           {
            "colorbar": {
             "outlinewidth": 0,
             "ticks": ""
            },
            "type": "contourcarpet"
           }
          ],
          "heatmap": [
           {
            "colorbar": {
             "outlinewidth": 0,
             "ticks": ""
            },
            "colorscale": [
             [
              0,
              "#0d0887"
             ],
             [
              0.1111111111111111,
              "#46039f"
             ],
             [
              0.2222222222222222,
              "#7201a8"
             ],
             [
              0.3333333333333333,
              "#9c179e"
             ],
             [
              0.4444444444444444,
              "#bd3786"
             ],
             [
              0.5555555555555556,
              "#d8576b"
             ],
             [
              0.6666666666666666,
              "#ed7953"
             ],
             [
              0.7777777777777778,
              "#fb9f3a"
             ],
             [
              0.8888888888888888,
              "#fdca26"
             ],
             [
              1,
              "#f0f921"
             ]
            ],
            "type": "heatmap"
           }
          ],
          "heatmapgl": [
           {
            "colorbar": {
             "outlinewidth": 0,
             "ticks": ""
            },
            "colorscale": [
             [
              0,
              "#0d0887"
             ],
             [
              0.1111111111111111,
              "#46039f"
             ],
             [
              0.2222222222222222,
              "#7201a8"
             ],
             [
              0.3333333333333333,
              "#9c179e"
             ],
             [
              0.4444444444444444,
              "#bd3786"
             ],
             [
              0.5555555555555556,
              "#d8576b"
             ],
             [
              0.6666666666666666,
              "#ed7953"
             ],
             [
              0.7777777777777778,
              "#fb9f3a"
             ],
             [
              0.8888888888888888,
              "#fdca26"
             ],
             [
              1,
              "#f0f921"
             ]
            ],
            "type": "heatmapgl"
           }
          ],
          "histogram": [
           {
            "marker": {
             "colorbar": {
              "outlinewidth": 0,
              "ticks": ""
             }
            },
            "type": "histogram"
           }
          ],
          "histogram2d": [
           {
            "colorbar": {
             "outlinewidth": 0,
             "ticks": ""
            },
            "colorscale": [
             [
              0,
              "#0d0887"
             ],
             [
              0.1111111111111111,
              "#46039f"
             ],
             [
              0.2222222222222222,
              "#7201a8"
             ],
             [
              0.3333333333333333,
              "#9c179e"
             ],
             [
              0.4444444444444444,
              "#bd3786"
             ],
             [
              0.5555555555555556,
              "#d8576b"
             ],
             [
              0.6666666666666666,
              "#ed7953"
             ],
             [
              0.7777777777777778,
              "#fb9f3a"
             ],
             [
              0.8888888888888888,
              "#fdca26"
             ],
             [
              1,
              "#f0f921"
             ]
            ],
            "type": "histogram2d"
           }
          ],
          "histogram2dcontour": [
           {
            "colorbar": {
             "outlinewidth": 0,
             "ticks": ""
            },
            "colorscale": [
             [
              0,
              "#0d0887"
             ],
             [
              0.1111111111111111,
              "#46039f"
             ],
             [
              0.2222222222222222,
              "#7201a8"
             ],
             [
              0.3333333333333333,
              "#9c179e"
             ],
             [
              0.4444444444444444,
              "#bd3786"
             ],
             [
              0.5555555555555556,
              "#d8576b"
             ],
             [
              0.6666666666666666,
              "#ed7953"
             ],
             [
              0.7777777777777778,
              "#fb9f3a"
             ],
             [
              0.8888888888888888,
              "#fdca26"
             ],
             [
              1,
              "#f0f921"
             ]
            ],
            "type": "histogram2dcontour"
           }
          ],
          "mesh3d": [
           {
            "colorbar": {
             "outlinewidth": 0,
             "ticks": ""
            },
            "type": "mesh3d"
           }
          ],
          "parcoords": [
           {
            "line": {
             "colorbar": {
              "outlinewidth": 0,
              "ticks": ""
             }
            },
            "type": "parcoords"
           }
          ],
          "pie": [
           {
            "automargin": true,
            "type": "pie"
           }
          ],
          "scatter": [
           {
            "marker": {
             "colorbar": {
              "outlinewidth": 0,
              "ticks": ""
             }
            },
            "type": "scatter"
           }
          ],
          "scatter3d": [
           {
            "line": {
             "colorbar": {
              "outlinewidth": 0,
              "ticks": ""
             }
            },
            "marker": {
             "colorbar": {
              "outlinewidth": 0,
              "ticks": ""
             }
            },
            "type": "scatter3d"
           }
          ],
          "scattercarpet": [
           {
            "marker": {
             "colorbar": {
              "outlinewidth": 0,
              "ticks": ""
             }
            },
            "type": "scattercarpet"
           }
          ],
          "scattergeo": [
           {
            "marker": {
             "colorbar": {
              "outlinewidth": 0,
              "ticks": ""
             }
            },
            "type": "scattergeo"
           }
          ],
          "scattergl": [
           {
            "marker": {
             "colorbar": {
              "outlinewidth": 0,
              "ticks": ""
             }
            },
            "type": "scattergl"
           }
          ],
          "scattermapbox": [
           {
            "marker": {
             "colorbar": {
              "outlinewidth": 0,
              "ticks": ""
             }
            },
            "type": "scattermapbox"
           }
          ],
          "scatterpolar": [
           {
            "marker": {
             "colorbar": {
              "outlinewidth": 0,
              "ticks": ""
             }
            },
            "type": "scatterpolar"
           }
          ],
          "scatterpolargl": [
           {
            "marker": {
             "colorbar": {
              "outlinewidth": 0,
              "ticks": ""
             }
            },
            "type": "scatterpolargl"
           }
          ],
          "scatterternary": [
           {
            "marker": {
             "colorbar": {
              "outlinewidth": 0,
              "ticks": ""
             }
            },
            "type": "scatterternary"
           }
          ],
          "surface": [
           {
            "colorbar": {
             "outlinewidth": 0,
             "ticks": ""
            },
            "colorscale": [
             [
              0,
              "#0d0887"
             ],
             [
              0.1111111111111111,
              "#46039f"
             ],
             [
              0.2222222222222222,
              "#7201a8"
             ],
             [
              0.3333333333333333,
              "#9c179e"
             ],
             [
              0.4444444444444444,
              "#bd3786"
             ],
             [
              0.5555555555555556,
              "#d8576b"
             ],
             [
              0.6666666666666666,
              "#ed7953"
             ],
             [
              0.7777777777777778,
              "#fb9f3a"
             ],
             [
              0.8888888888888888,
              "#fdca26"
             ],
             [
              1,
              "#f0f921"
             ]
            ],
            "type": "surface"
           }
          ],
          "table": [
           {
            "cells": {
             "fill": {
              "color": "#EBF0F8"
             },
             "line": {
              "color": "white"
             }
            },
            "header": {
             "fill": {
              "color": "#C8D4E3"
             },
             "line": {
              "color": "white"
             }
            },
            "type": "table"
           }
          ]
         },
         "layout": {
          "annotationdefaults": {
           "arrowcolor": "#2a3f5f",
           "arrowhead": 0,
           "arrowwidth": 1
          },
          "autotypenumbers": "strict",
          "coloraxis": {
           "colorbar": {
            "outlinewidth": 0,
            "ticks": ""
           }
          },
          "colorscale": {
           "diverging": [
            [
             0,
             "#8e0152"
            ],
            [
             0.1,
             "#c51b7d"
            ],
            [
             0.2,
             "#de77ae"
            ],
            [
             0.3,
             "#f1b6da"
            ],
            [
             0.4,
             "#fde0ef"
            ],
            [
             0.5,
             "#f7f7f7"
            ],
            [
             0.6,
             "#e6f5d0"
            ],
            [
             0.7,
             "#b8e186"
            ],
            [
             0.8,
             "#7fbc41"
            ],
            [
             0.9,
             "#4d9221"
            ],
            [
             1,
             "#276419"
            ]
           ],
           "sequential": [
            [
             0,
             "#0d0887"
            ],
            [
             0.1111111111111111,
             "#46039f"
            ],
            [
             0.2222222222222222,
             "#7201a8"
            ],
            [
             0.3333333333333333,
             "#9c179e"
            ],
            [
             0.4444444444444444,
             "#bd3786"
            ],
            [
             0.5555555555555556,
             "#d8576b"
            ],
            [
             0.6666666666666666,
             "#ed7953"
            ],
            [
             0.7777777777777778,
             "#fb9f3a"
            ],
            [
             0.8888888888888888,
             "#fdca26"
            ],
            [
             1,
             "#f0f921"
            ]
           ],
           "sequentialminus": [
            [
             0,
             "#0d0887"
            ],
            [
             0.1111111111111111,
             "#46039f"
            ],
            [
             0.2222222222222222,
             "#7201a8"
            ],
            [
             0.3333333333333333,
             "#9c179e"
            ],
            [
             0.4444444444444444,
             "#bd3786"
            ],
            [
             0.5555555555555556,
             "#d8576b"
            ],
            [
             0.6666666666666666,
             "#ed7953"
            ],
            [
             0.7777777777777778,
             "#fb9f3a"
            ],
            [
             0.8888888888888888,
             "#fdca26"
            ],
            [
             1,
             "#f0f921"
            ]
           ]
          },
          "colorway": [
           "#636efa",
           "#EF553B",
           "#00cc96",
           "#ab63fa",
           "#FFA15A",
           "#19d3f3",
           "#FF6692",
           "#B6E880",
           "#FF97FF",
           "#FECB52"
          ],
          "font": {
           "color": "#2a3f5f"
          },
          "geo": {
           "bgcolor": "white",
           "lakecolor": "white",
           "landcolor": "#E5ECF6",
           "showlakes": true,
           "showland": true,
           "subunitcolor": "white"
          },
          "hoverlabel": {
           "align": "left"
          },
          "hovermode": "closest",
          "mapbox": {
           "style": "light"
          },
          "paper_bgcolor": "white",
          "plot_bgcolor": "#E5ECF6",
          "polar": {
           "angularaxis": {
            "gridcolor": "white",
            "linecolor": "white",
            "ticks": ""
           },
           "bgcolor": "#E5ECF6",
           "radialaxis": {
            "gridcolor": "white",
            "linecolor": "white",
            "ticks": ""
           }
          },
          "scene": {
           "xaxis": {
            "backgroundcolor": "#E5ECF6",
            "gridcolor": "white",
            "gridwidth": 2,
            "linecolor": "white",
            "showbackground": true,
            "ticks": "",
            "zerolinecolor": "white"
           },
           "yaxis": {
            "backgroundcolor": "#E5ECF6",
            "gridcolor": "white",
            "gridwidth": 2,
            "linecolor": "white",
            "showbackground": true,
            "ticks": "",
            "zerolinecolor": "white"
           },
           "zaxis": {
            "backgroundcolor": "#E5ECF6",
            "gridcolor": "white",
            "gridwidth": 2,
            "linecolor": "white",
            "showbackground": true,
            "ticks": "",
            "zerolinecolor": "white"
           }
          },
          "shapedefaults": {
           "line": {
            "color": "#2a3f5f"
           }
          },
          "ternary": {
           "aaxis": {
            "gridcolor": "white",
            "linecolor": "white",
            "ticks": ""
           },
           "baxis": {
            "gridcolor": "white",
            "linecolor": "white",
            "ticks": ""
           },
           "bgcolor": "#E5ECF6",
           "caxis": {
            "gridcolor": "white",
            "linecolor": "white",
            "ticks": ""
           }
          },
          "title": {
           "x": 0.05
          },
          "xaxis": {
           "automargin": true,
           "gridcolor": "white",
           "linecolor": "white",
           "ticks": "",
           "title": {
            "standoff": 15
           },
           "zerolinecolor": "white",
           "zerolinewidth": 2
          },
          "yaxis": {
           "automargin": true,
           "gridcolor": "white",
           "linecolor": "white",
           "ticks": "",
           "title": {
            "standoff": 15
           },
           "zerolinecolor": "white",
           "zerolinewidth": 2
          }
         }
        },
        "title": {
         "text": "Evolution of friends' reviews influence on mobility according to categories"
        },
        "updatemenus": [
         {
          "active": 0,
          "buttons": [
           {
            "args": [
             {
              "visible": [
               1,
               1,
               1,
               1,
               1,
               1,
               1,
               1,
               1,
               1,
               1,
               1,
               1,
               1,
               1,
               1,
               1,
               1
              ]
             },
             {
              "title": "Plot all categories"
             }
            ],
            "label": "Plot all categories",
            "method": "update"
           },
           {
            "args": [
             {
              "visible": [
               true,
               true,
               false,
               false,
               false,
               false,
               false,
               false,
               false,
               false,
               false,
               false,
               false,
               false,
               false,
               false,
               false,
               false,
               false,
               false,
               false,
               false,
               false,
               false,
               false,
               false,
               false,
               false,
               false,
               false,
               false,
               false,
               false,
               false,
               false,
               false
              ]
             },
             {
              "title": "Construction"
             }
            ],
            "label": "Construction",
            "method": "update"
           },
           {
            "args": [
             {
              "visible": [
               false,
               false,
               true,
               true,
               false,
               false,
               false,
               false,
               false,
               false,
               false,
               false,
               false,
               false,
               false,
               false,
               false,
               false,
               false,
               false,
               false,
               false,
               false,
               false,
               false,
               false,
               false,
               false,
               false,
               false,
               false,
               false,
               false,
               false,
               false,
               false
              ]
             },
             {
              "title": "Computers"
             }
            ],
            "label": "Computers",
            "method": "update"
           },
           {
            "args": [
             {
              "visible": [
               false,
               false,
               false,
               false,
               true,
               true,
               false,
               false,
               false,
               false,
               false,
               false,
               false,
               false,
               false,
               false,
               false,
               false,
               false,
               false,
               false,
               false,
               false,
               false,
               false,
               false,
               false,
               false,
               false,
               false,
               false,
               false,
               false,
               false,
               false,
               false
              ]
             },
             {
              "title": "Home"
             }
            ],
            "label": "Home",
            "method": "update"
           },
           {
            "args": [
             {
              "visible": [
               false,
               false,
               false,
               false,
               false,
               false,
               true,
               true,
               false,
               false,
               false,
               false,
               false,
               false,
               false,
               false,
               false,
               false,
               false,
               false,
               false,
               false,
               false,
               false,
               false,
               false,
               false,
               false,
               false,
               false,
               false,
               false,
               false,
               false,
               false,
               false
              ]
             },
             {
              "title": "Merchant"
             }
            ],
            "label": "Merchant",
            "method": "update"
           },
           {
            "args": [
             {
              "visible": [
               false,
               false,
               false,
               false,
               false,
               false,
               false,
               false,
               true,
               true,
               false,
               false,
               false,
               false,
               false,
               false,
               false,
               false,
               false,
               false,
               false,
               false,
               false,
               false,
               false,
               false,
               false,
               false,
               false,
               false,
               false,
               false,
               false,
               false,
               false,
               false
              ]
             },
             {
              "title": "Manufacturing"
             }
            ],
            "label": "Manufacturing",
            "method": "update"
           },
           {
            "args": [
             {
              "visible": [
               false,
               false,
               false,
               false,
               false,
               false,
               false,
               false,
               false,
               false,
               true,
               true,
               false,
               false,
               false,
               false,
               false,
               false,
               false,
               false,
               false,
               false,
               false,
               false,
               false,
               false,
               false,
               false,
               false,
               false,
               false,
               false,
               false,
               false,
               false,
               false
              ]
             },
             {
              "title": "Travel"
             }
            ],
            "label": "Travel",
            "method": "update"
           },
           {
            "args": [
             {
              "visible": [
               false,
               false,
               false,
               false,
               false,
               false,
               false,
               false,
               false,
               false,
               false,
               false,
               true,
               true,
               false,
               false,
               false,
               false,
               false,
               false,
               false,
               false,
               false,
               false,
               false,
               false,
               false,
               false,
               false,
               false,
               false,
               false,
               false,
               false,
               false,
               false
              ]
             },
             {
              "title": "Sport"
             }
            ],
            "label": "Sport",
            "method": "update"
           },
           {
            "args": [
             {
              "visible": [
               false,
               false,
               false,
               false,
               false,
               false,
               false,
               false,
               false,
               false,
               false,
               false,
               false,
               false,
               true,
               true,
               false,
               false,
               false,
               false,
               false,
               false,
               false,
               false,
               false,
               false,
               false,
               false,
               false,
               false,
               false,
               false,
               false,
               false,
               false,
               false
              ]
             },
             {
              "title": "Education"
             }
            ],
            "label": "Education",
            "method": "update"
           },
           {
            "args": [
             {
              "visible": [
               false,
               false,
               false,
               false,
               false,
               false,
               false,
               false,
               false,
               false,
               false,
               false,
               false,
               false,
               false,
               false,
               true,
               true,
               false,
               false,
               false,
               false,
               false,
               false,
               false,
               false,
               false,
               false,
               false,
               false,
               false,
               false,
               false,
               false,
               false,
               false
              ]
             },
             {
              "title": "Legal"
             }
            ],
            "label": "Legal",
            "method": "update"
           },
           {
            "args": [
             {
              "visible": [
               false,
               false,
               false,
               false,
               false,
               false,
               false,
               false,
               false,
               false,
               false,
               false,
               false,
               false,
               false,
               false,
               false,
               false,
               true,
               true,
               false,
               false,
               false,
               false,
               false,
               false,
               false,
               false,
               false,
               false,
               false,
               false,
               false,
               false,
               false,
               false
              ]
             },
             {
              "title": "BusinessSupport"
             }
            ],
            "label": "BusinessSupport",
            "method": "update"
           },
           {
            "args": [
             {
              "visible": [
               false,
               false,
               false,
               false,
               false,
               false,
               false,
               false,
               false,
               false,
               false,
               false,
               false,
               false,
               false,
               false,
               false,
               false,
               false,
               false,
               true,
               true,
               false,
               false,
               false,
               false,
               false,
               false,
               false,
               false,
               false,
               false,
               false,
               false,
               false,
               false
              ]
             },
             {
              "title": "PersonalCare"
             }
            ],
            "label": "PersonalCare",
            "method": "update"
           },
           {
            "args": [
             {
              "visible": [
               false,
               false,
               false,
               false,
               false,
               false,
               false,
               false,
               false,
               false,
               false,
               false,
               false,
               false,
               false,
               false,
               false,
               false,
               false,
               false,
               false,
               false,
               true,
               true,
               false,
               false,
               false,
               false,
               false,
               false,
               false,
               false,
               false,
               false,
               false,
               false
              ]
             },
             {
              "title": "Entertainment"
             }
            ],
            "label": "Entertainment",
            "method": "update"
           },
           {
            "args": [
             {
              "visible": [
               false,
               false,
               false,
               false,
               false,
               false,
               false,
               false,
               false,
               false,
               false,
               false,
               false,
               false,
               false,
               false,
               false,
               false,
               false,
               false,
               false,
               false,
               false,
               false,
               true,
               true,
               false,
               false,
               false,
               false,
               false,
               false,
               false,
               false,
               false,
               false
              ]
             },
             {
              "title": "RealEstate"
             }
            ],
            "label": "RealEstate",
            "method": "update"
           },
           {
            "args": [
             {
              "visible": [
               false,
               false,
               false,
               false,
               false,
               false,
               false,
               false,
               false,
               false,
               false,
               false,
               false,
               false,
               false,
               false,
               false,
               false,
               false,
               false,
               false,
               false,
               false,
               false,
               false,
               false,
               true,
               true,
               false,
               false,
               false,
               false,
               false,
               false,
               false,
               false
              ]
             },
             {
              "title": "Automotive"
             }
            ],
            "label": "Automotive",
            "method": "update"
           },
           {
            "args": [
             {
              "visible": [
               false,
               false,
               false,
               false,
               false,
               false,
               false,
               false,
               false,
               false,
               false,
               false,
               false,
               false,
               false,
               false,
               false,
               false,
               false,
               false,
               false,
               false,
               false,
               false,
               false,
               false,
               false,
               false,
               true,
               true,
               false,
               false,
               false,
               false,
               false,
               false
              ]
             },
             {
              "title": "Food"
             }
            ],
            "label": "Food",
            "method": "update"
           },
           {
            "args": [
             {
              "visible": [
               false,
               false,
               false,
               false,
               false,
               false,
               false,
               false,
               false,
               false,
               false,
               false,
               false,
               false,
               false,
               false,
               false,
               false,
               false,
               false,
               false,
               false,
               false,
               false,
               false,
               false,
               false,
               false,
               false,
               false,
               true,
               true,
               false,
               false,
               false,
               false
              ]
             },
             {
              "title": "Miscellaneous"
             }
            ],
            "label": "Miscellaneous",
            "method": "update"
           },
           {
            "args": [
             {
              "visible": [
               false,
               false,
               false,
               false,
               false,
               false,
               false,
               false,
               false,
               false,
               false,
               false,
               false,
               false,
               false,
               false,
               false,
               false,
               false,
               false,
               false,
               false,
               false,
               false,
               false,
               false,
               false,
               false,
               false,
               false,
               false,
               false,
               true,
               true,
               false,
               false
              ]
             },
             {
              "title": "Health"
             }
            ],
            "label": "Health",
            "method": "update"
           },
           {
            "args": [
             {
              "visible": [
               false,
               false,
               false,
               false,
               false,
               false,
               false,
               false,
               false,
               false,
               false,
               false,
               false,
               false,
               false,
               false,
               false,
               false,
               false,
               false,
               false,
               false,
               false,
               false,
               false,
               false,
               false,
               false,
               false,
               false,
               false,
               false,
               false,
               false,
               true,
               true
              ]
             },
             {
              "title": "All Categories"
             }
            ],
            "label": "All Categories",
            "method": "update"
           }
          ]
         }
        ],
        "xaxis": {
         "title": {
          "text": "Distance travelled in km by category in logarithmic scale"
         },
         "type": "log"
        },
        "yaxis": {
         "title": {
          "text": "Probability of travelling"
         }
        }
       }
      },
      "text/html": [
       "<div>                            <div id=\"ed3270fe-b166-41fb-8a24-8ff714495cc8\" class=\"plotly-graph-div\" style=\"height:525px; width:100%;\"></div>            <script type=\"text/javascript\">                require([\"plotly\"], function(Plotly) {                    window.PLOTLYENV=window.PLOTLYENV || {};                                    if (document.getElementById(\"ed3270fe-b166-41fb-8a24-8ff714495cc8\")) {                    Plotly.newPlot(                        \"ed3270fe-b166-41fb-8a24-8ff714495cc8\",                        [{\"line\": {\"color\": \"#FF0000\"}, \"name\": \"Construction good review\", \"type\": \"scatter\", \"x\": [0.1, 0.3305298396179653, 1.092499748778779, 3.6110376674651734, 11.935557010816956, 39.4505774453641, 130.39593035852323, 430.9974594823805, 1424.5752115846176, 4708.64616208793], \"y\": [0.011936339522547, 0.032926829268293, 0.043876383059901, 0.044220105218257, 0.042705309885607, 0.03490582339727, 0.019730010384216, 0.039012738853503, 0.026315789473683997, 0.030279503105589998]}, {\"line\": {\"color\": \"#0000FF\"}, \"name\": \"Construction bad review\", \"type\": \"scatter\", \"x\": [0.1, 0.3305298396179653, 1.092499748778779, 3.6110376674651734, 11.935557010816956, 39.4505774453641, 130.39593035852323, 430.9974594823805, 1424.5752115846176, 4708.64616208793], \"y\": [0.005305039787798, 0.004878048780488, 0.011064479206409999, 0.011374946679938, 0.010030732456889, 0.008092851794251, 0.002596053997923, 0.009554140127389, 0.002024291497976, 0.011645962732918999]}, {\"line\": {\"color\": \"#FF0000\"}, \"name\": \"Computers good review\", \"type\": \"scatter\", \"x\": [0.1, 0.3305298396179653, 1.092499748778779, 3.6110376674651734, 11.935557010816956, 39.4505774453641, 130.39593035852323, 430.9974594823805, 1424.5752115846176, 4708.64616208793], \"y\": [0.014444444444444999, 0.027411167512689995, 0.047141738449491, 0.05350430206332, 0.045965724439457005, 0.044892026578073, 0.031438935912938004, 0.037752414398595, 0.018987341772152, 0.037735849056603994]}, {\"line\": {\"color\": \"#0000FF\"}, \"name\": \"Computers bad review\", \"type\": \"scatter\", \"x\": [0.1, 0.3305298396179653, 1.092499748778779, 3.6110376674651734, 11.935557010816956, 39.4505774453641, 130.39593035852323, 430.9974594823805, 1424.5752115846176, 4708.64616208793], \"y\": [0.011111111111111, 0.009137055837563, 0.016444792482381, 0.022178598279175, 0.026840616305441, 0.024127906976744003, 0.016928657799275, 0.020193151887621, 0.010548523206750999, 0.020583190394511]}, {\"line\": {\"color\": \"#FF0000\"}, \"name\": \"Home good review\", \"type\": \"scatter\", \"x\": [0.1, 0.3305298396179653, 1.092499748778779, 3.6110376674651734, 11.935557010816956, 39.4505774453641, 130.39593035852323, 430.9974594823805, 1424.5752115846176, 4708.64616208793], \"y\": [0.014614952220349, 0.039513677811550005, 0.050519087713562005, 0.051242797303906, 0.04141828757657601, 0.035987453915149, 0.019178822258238998, 0.041359971959341005, 0.02116935483871, 0.031183255019223]}, {\"line\": {\"color\": \"#0000FF\"}, \"name\": \"Home bad review\", \"type\": \"scatter\", \"x\": [0.1, 0.3305298396179653, 1.092499748778779, 3.6110376674651734, 11.935557010816956, 39.4505774453641, 130.39593035852323, 430.9974594823805, 1424.5752115846176, 4708.64616208793], \"y\": [0.009274873524452, 0.008611955420466, 0.0147142973923, 0.014352235759393, 0.013211361151792, 0.011266714356463002, 0.005672609400324001, 0.010515247108306999, 0.004032258064516, 0.009824861170440001]}, {\"line\": {\"color\": \"#FF0000\"}, \"name\": \"Merchant good review\", \"type\": \"scatter\", \"x\": [0.1, 0.3305298396179653, 1.092499748778779, 3.6110376674651734, 11.935557010816956, 39.4505774453641, 130.39593035852323, 430.9974594823805, 1424.5752115846176, 4708.64616208793], \"y\": [0.035346669256166, 0.067379440917697, 0.082257362541709, 0.083428737952999, 0.076461897319202, 0.06974516353278301, 0.048815853069116, 0.062870206796217, 0.047038821195806005, 0.051363218625549004]}, {\"line\": {\"color\": \"#0000FF\"}, \"name\": \"Merchant bad review\", \"type\": \"scatter\", \"x\": [0.1, 0.3305298396179653, 1.092499748778779, 3.6110376674651734, 11.935557010816956, 39.4505774453641, 130.39593035852323, 430.9974594823805, 1424.5752115846176, 4708.64616208793], \"y\": [0.009710623422023999, 0.016928388461967, 0.023232679115459003, 0.023230157573739, 0.022418371758267004, 0.018608318214958, 0.011116481391977, 0.017146420035332, 0.009351090960611999, 0.013785356887573]}, {\"line\": {\"color\": \"#FF0000\"}, \"name\": \"Manufacturing good review\", \"type\": \"scatter\", \"x\": [0.1, 0.3305298396179653, 1.092499748778779, 3.6110376674651734, 11.935557010816956, 39.4505774453641, 130.39593035852323, 430.9974594823805, 1424.5752115846176, 4708.64616208793], \"y\": [0.017167381974248996, 0.029827315541601, 0.04928835002635701, 0.059444661712945004, 0.060533468466393, 0.058673469387754994, 0.035422343324250996, 0.040983606557377, 0.00974025974026, 0.032299741602067]}, {\"line\": {\"color\": \"#0000FF\"}, \"name\": \"Manufacturing bad review\", \"type\": \"scatter\", \"x\": [0.1, 0.3305298396179653, 1.092499748778779, 3.6110376674651734, 11.935557010816956, 39.4505774453641, 130.39593035852323, 430.9974594823805, 1424.5752115846176, 4708.64616208793], \"y\": [0.008583690987124, 0.006279434850863, 0.013969425408540001, 0.01579976535002, 0.017091260883586, 0.017538265306123003, 0.005449591280654, 0.020491803278689002, 0.00974025974026, 0.012919896640827]}, {\"line\": {\"color\": \"#FF0000\"}, \"name\": \"Travel good review\", \"type\": \"scatter\", \"x\": [0.1, 0.3305298396179653, 1.092499748778779, 3.6110376674651734, 11.935557010816956, 39.4505774453641, 130.39593035852323, 430.9974594823805, 1424.5752115846176, 4708.64616208793], \"y\": [0.033901830282862006, 0.073211117681845, 0.090684660961159, 0.07835093696763201, 0.067588118918483, 0.061813122022546, 0.043650793650794, 0.053528945281522994, 0.025213675213675, 0.04346403089611799]}, {\"line\": {\"color\": \"#0000FF\"}, \"name\": \"Travel bad review\", \"type\": \"scatter\", \"x\": [0.1, 0.3305298396179653, 1.092499748778779, 3.6110376674651734, 11.935557010816956, 39.4505774453641, 130.39593035852323, 430.9974594823805, 1424.5752115846176, 4708.64616208793], \"y\": [0.01851081530782, 0.024246008279125, 0.030694535878867994, 0.033921635434412005, 0.026028558739217004, 0.018418942502711998, 0.012896825396825, 0.029936558287074, 0.015384615384615, 0.02232113634876]}, {\"line\": {\"color\": \"#FF0000\"}, \"name\": \"Sport good review\", \"type\": \"scatter\", \"x\": [0.1, 0.3305298396179653, 1.092499748778779, 3.6110376674651734, 11.935557010816956, 39.4505774453641, 130.39593035852323, 430.9974594823805, 1424.5752115846176, 4708.64616208793], \"y\": [0.045535396655994, 0.043013856812932995, 0.05493566814371901, 0.062516610127097, 0.06490669359380201, 0.066012100466904, 0.038891187422425, 0.054302724156594005, 0.030224075039082997, 0.040730593607306]}, {\"line\": {\"color\": \"#0000FF\"}, \"name\": \"Sport bad review\", \"type\": \"scatter\", \"x\": [0.1, 0.3305298396179653, 1.092499748778779, 3.6110376674651734, 11.935557010816956, 39.4505774453641, 130.39593035852323, 430.9974594823805, 1424.5752115846176, 4708.64616208793], \"y\": [0.009249377445749, 0.019053117782910002, 0.023437082910682996, 0.026091578470148997, 0.025195642464610004, 0.024681349367203, 0.014067025237898, 0.011906909615732, 0.010943199583115999, 0.013333333333333]}, {\"line\": {\"color\": \"#FF0000\"}, \"name\": \"Education good review\", \"type\": \"scatter\", \"x\": [0.1, 0.3305298396179653, 1.092499748778779, 3.6110376674651734, 11.935557010816956, 39.4505774453641, 130.39593035852323, 430.9974594823805, 1424.5752115846176, 4708.64616208793], \"y\": [0.034447821681864, 0.085976627712855, 0.08536052439912599, 0.070358140716282, 0.066297551429526, 0.064065676909503, 0.040526849037486996, 0.06706507304116902, 0.028145695364239, 0.059961315280464]}, {\"line\": {\"color\": \"#0000FF\"}, \"name\": \"Education bad review\", \"type\": \"scatter\", \"x\": [0.1, 0.3305298396179653, 1.092499748778779, 3.6110376674651734, 11.935557010816956, 39.4505774453641, 130.39593035852323, 430.9974594823805, 1424.5752115846176, 4708.64616208793], \"y\": [0.009118541033434999, 0.009181969949916999, 0.013255644573926001, 0.014224028448057001, 0.013627034509093, 0.013848927763071998, 0.009118541033434999, 0.01195219123506, 0.003311258278146, 0.009026434558349002]}, {\"line\": {\"color\": \"#FF0000\"}, \"name\": \"Legal good review\", \"type\": \"scatter\", \"x\": [0.1, 0.3305298396179653, 1.092499748778779, 3.6110376674651734, 11.935557010816956, 39.4505774453641, 130.39593035852323, 430.9974594823805, 1424.5752115846176, 4708.64616208793], \"y\": [0.011160714285713998, 0.031363088057901, 0.042150876501871, 0.043981843794020994, 0.044245253300495994, 0.04036144578313299, 0.017060367454068002, 0.03536345776031399, 0.014925373134328, 0.021674876847291]}, {\"line\": {\"color\": \"#0000FF\"}, \"name\": \"Legal bad review\", \"type\": \"scatter\", \"x\": [0.1, 0.3305298396179653, 1.092499748778779, 3.6110376674651734, 11.935557010816956, 39.4505774453641, 130.39593035852323, 430.9974594823805, 1424.5752115846176, 4708.64616208793], \"y\": [0.005580357142856999, 0.007237635705669001, 0.014772503446918002, 0.013356289455836001, 0.013259257137948, 0.013345690454123997, 0.006561679790025999, 0.016699410609037, 0.007462686567164, 0.011822660098522]}, {\"line\": {\"color\": \"#FF0000\"}, \"name\": \"BusinessSupport good review\", \"type\": \"scatter\", \"x\": [0.1, 0.3305298396179653, 1.092499748778779, 3.6110376674651734, 11.935557010816956, 39.4505774453641, 130.39593035852323, 430.9974594823805, 1424.5752115846176, 4708.64616208793], \"y\": [0.035795148247979, 0.071917584925344, 0.08585145051779701, 0.08001698187589099, 0.075449756666606, 0.068776414677945, 0.042466184334696996, 0.05253085829107299, 0.025206232813932, 0.042375154213378]}, {\"line\": {\"color\": \"#0000FF\"}, \"name\": \"BusinessSupport bad review\", \"type\": \"scatter\", \"x\": [0.1, 0.3305298396179653, 1.092499748778779, 3.6110376674651734, 11.935557010816956, 39.4505774453641, 130.39593035852323, 430.9974594823805, 1424.5752115846176, 4708.64616208793], \"y\": [0.012938005390836, 0.020799374062724, 0.025183457924697002, 0.026256203944243, 0.022397608588665997, 0.019523432351215998, 0.011481597986788, 0.017558128408765, 0.009318667888786998, 0.012658906828299999]}, {\"line\": {\"color\": \"#FF0000\"}, \"name\": \"PersonalCare good review\", \"type\": \"scatter\", \"x\": [0.1, 0.3305298396179653, 1.092499748778779, 3.6110376674651734, 11.935557010816956, 39.4505774453641, 130.39593035852323, 430.9974594823805, 1424.5752115846176, 4708.64616208793], \"y\": [0.031080762891452996, 0.060780780780780995, 0.07010101010101, 0.063601750298346, 0.061568397982113, 0.062382925270512, 0.040430107526882, 0.056012742235200995, 0.036363636363636, 0.049700969272015]}, {\"line\": {\"color\": \"#0000FF\"}, \"name\": \"PersonalCare bad review\", \"type\": \"scatter\", \"x\": [0.1, 0.3305298396179653, 1.092499748778779, 3.6110376674651734, 11.935557010816956, 39.4505774453641, 130.39593035852323, 430.9974594823805, 1424.5752115846176, 4708.64616208793], \"y\": [0.006004238285849, 0.01021021021021, 0.014262626262626001, 0.013888731033699, 0.012388467437858998, 0.011051854463714999, 0.006021505376343999, 0.011149455800371999, 0.005714285714285999, 0.01062074654568]}, {\"line\": {\"color\": \"#FF0000\"}, \"name\": \"Entertainment good review\", \"type\": \"scatter\", \"x\": [0.1, 0.3305298396179653, 1.092499748778779, 3.6110376674651734, 11.935557010816956, 39.4505774453641, 130.39593035852323, 430.9974594823805, 1424.5752115846176, 4708.64616208793], \"y\": [0.0487374749499, 0.070728267226255, 0.09197338122526899, 0.10021091421834402, 0.098513609842385, 0.08844488907643498, 0.070973277764158, 0.063660477453581, 0.04461072172759999, 0.056159016341223]}, {\"line\": {\"color\": \"#0000FF\"}, \"name\": \"Entertainment bad review\", \"type\": \"scatter\", \"x\": [0.1, 0.3305298396179653, 1.092499748778779, 3.6110376674651734, 11.935557010816956, 39.4505774453641, 130.39593035852323, 430.9974594823805, 1424.5752115846176, 4708.64616208793], \"y\": [0.013627254509018001, 0.021913378513193, 0.027826009195848, 0.030158955856128, 0.027863875174907994, 0.026281227626819, 0.015322382936994, 0.019117551918224996, 0.00985035044516, 0.013315070238588]}, {\"line\": {\"color\": \"#FF0000\"}, \"name\": \"RealEstate good review\", \"type\": \"scatter\", \"x\": [0.1, 0.3305298396179653, 1.092499748778779, 3.6110376674651734, 11.935557010816956, 39.4505774453641, 130.39593035852323, 430.9974594823805, 1424.5752115846176, 4708.64616208793], \"y\": [0.021816562778272996, 0.048293963254592995, 0.062286925274118, 0.063559200115091, 0.053846567774569004, 0.04971528044138901, 0.04036557501904, 0.05308266519214799, 0.037818181818182, 0.045352492141895]}, {\"line\": {\"color\": \"#0000FF\"}, \"name\": \"RealEstate bad review\", \"type\": \"scatter\", \"x\": [0.1, 0.3305298396179653, 1.092499748778779, 3.6110376674651734, 11.935557010816956, 39.4505774453641, 130.39593035852323, 430.9974594823805, 1424.5752115846176, 4708.64616208793], \"y\": [0.019145146927871996, 0.010498687664041998, 0.019165207776652, 0.020572579484966, 0.021309034815518997, 0.019118992122266996, 0.015232292460015, 0.048106165330384004, 0.024, 0.041535698248765]}, {\"line\": {\"color\": \"#FF0000\"}, \"name\": \"Automotive good review\", \"type\": \"scatter\", \"x\": [0.1, 0.3305298396179653, 1.092499748778779, 3.6110376674651734, 11.935557010816956, 39.4505774453641, 130.39593035852323, 430.9974594823805, 1424.5752115846176, 4708.64616208793], \"y\": [0.019601328903655, 0.06635514018691599, 0.06529267674634699, 0.043500511770727, 0.041706374824516, 0.035867263646209, 0.019058732010891002, 0.039692307692308, 0.013714285714286002, 0.031544597534444996]}, {\"line\": {\"color\": \"#0000FF\"}, \"name\": \"Automotive bad review\", \"type\": \"scatter\", \"x\": [0.1, 0.3305298396179653, 1.092499748778779, 3.6110376674651734, 11.935557010816956, 39.4505774453641, 130.39593035852323, 430.9974594823805, 1424.5752115846176, 4708.64616208793], \"y\": [0.006644518272425, 0.008411214953271, 0.012838922206267998, 0.01539406345957, 0.014684332954185, 0.012737000339438, 0.005056398288604, 0.017538461538462, 0.006857142857143001, 0.011240029006527002]}, {\"line\": {\"color\": \"#FF0000\"}, \"name\": \"Food good review\", \"type\": \"scatter\", \"x\": [0.1, 0.3305298396179653, 1.092499748778779, 3.6110376674651734, 11.935557010816956, 39.4505774453641, 130.39593035852323, 430.9974594823805, 1424.5752115846176, 4708.64616208793], \"y\": [0.04292872151285, 0.064545940248076, 0.07967675367997298, 0.089292296055563, 0.091174345672871, 0.08310275465329299, 0.06236773310095901, 0.056523049111178, 0.044777440193505, 0.04721229592040099]}, {\"line\": {\"color\": \"#0000FF\"}, \"name\": \"Food bad review\", \"type\": \"scatter\", \"x\": [0.1, 0.3305298396179653, 1.092499748778779, 3.6110376674651734, 11.935557010816956, 39.4505774453641, 130.39593035852323, 430.9974594823805, 1424.5752115846176, 4708.64616208793], \"y\": [0.010764506222725, 0.019782536496614, 0.024966179189077006, 0.026123178070717998, 0.026124018022865, 0.025629457313216, 0.016432217104443998, 0.014642964748418, 0.008259343382201, 0.012168391407734]}, {\"line\": {\"color\": \"#FF0000\"}, \"name\": \"Miscellaneous good review\", \"type\": \"scatter\", \"x\": [0.1, 0.3305298396179653, 1.092499748778779, 3.6110376674651734, 11.935557010816956, 39.4505774453641, 130.39593035852323, 430.9974594823805, 1424.5752115846176, 4708.64616208793], \"y\": [0.026024096385542005, 0.0720675944334, 0.082501269250296, 0.06655055683658, 0.06630983485959299, 0.053027894778669996, 0.037165082108902, 0.066933430338305, 0.06070287539936099, 0.067693294834777]}, {\"line\": {\"color\": \"#0000FF\"}, \"name\": \"Miscellaneous bad review\", \"type\": \"scatter\", \"x\": [0.1, 0.3305298396179653, 1.092499748778779, 3.6110376674651734, 11.935557010816956, 39.4505774453641, 130.39593035852323, 430.9974594823805, 1424.5752115846176, 4708.64616208793], \"y\": [0.006265060240964002, 0.011431411530815, 0.016161787104417, 0.014104891331011001, 0.013381192765277, 0.012079790193117999, 0.005185825410545001, 0.01600582029829, 0.006389776357826999, 0.009945460378569]}, {\"line\": {\"color\": \"#FF0000\"}, \"name\": \"Health good review\", \"type\": \"scatter\", \"x\": [0.1, 0.3305298396179653, 1.092499748778779, 3.6110376674651734, 11.935557010816956, 39.4505774453641, 130.39593035852323, 430.9974594823805, 1424.5752115846176, 4708.64616208793], \"y\": [0.026828371922087996, 0.03680981595092, 0.045036699209007006, 0.049170219513055, 0.050502632838679, 0.048868169208293, 0.023600439077936002, 0.041305245766212, 0.028538812785387998, 0.030852105778647998]}, {\"line\": {\"color\": \"#0000FF\"}, \"name\": \"Health bad review\", \"type\": \"scatter\", \"x\": [0.1, 0.3305298396179653, 1.092499748778779, 3.6110376674651734, 11.935557010816956, 39.4505774453641, 130.39593035852323, 430.9974594823805, 1424.5752115846176, 4708.64616208793], \"y\": [0.0033076074972440005, 0.00920245398773, 0.011615477802323, 0.011803671470350002, 0.011728099569172, 0.01022669446314, 0.008232711306256999, 0.01156546881454, 0.003424657534247, 0.007835455435846999]}, {\"line\": {\"color\": \"#FF0000\"}, \"name\": \"All Categories good review\", \"type\": \"scatter\", \"x\": [0.1, 0.3305298396179653, 1.092499748778779, 3.6110376674651734, 11.935557010816956, 39.4505774453641, 130.39593035852323, 430.9974594823805, 1424.5752115846176, 4708.64616208793], \"y\": [0.036605103873357005, 0.062359618403575, 0.076178431541078, 0.081992884006602, 0.080513191150234, 0.072730498310892, 0.05323846218747401, 0.053805244396248, 0.042698960268256, 0.045957999204372]}, {\"line\": {\"color\": \"#0000FF\"}, \"name\": \"All Categories bad review\", \"type\": \"scatter\", \"x\": [0.1, 0.3305298396179653, 1.092499748778779, 3.6110376674651734, 11.935557010816956, 39.4505774453641, 130.39593035852323, 430.9974594823805, 1424.5752115846176, 4708.64616208793], \"y\": [0.010198878123407, 0.019236807148895002, 0.023584592905468, 0.023847371411564, 0.022886444547406, 0.02162336045382, 0.013780690159461999, 0.015804713727028, 0.008853400236411998, 0.013002240321601001]}],                        {\"template\": {\"data\": {\"bar\": [{\"error_x\": {\"color\": \"#2a3f5f\"}, \"error_y\": {\"color\": \"#2a3f5f\"}, \"marker\": {\"line\": {\"color\": \"#E5ECF6\", \"width\": 0.5}}, \"type\": \"bar\"}], \"barpolar\": [{\"marker\": {\"line\": {\"color\": \"#E5ECF6\", \"width\": 0.5}}, \"type\": \"barpolar\"}], \"carpet\": [{\"aaxis\": {\"endlinecolor\": \"#2a3f5f\", \"gridcolor\": \"white\", \"linecolor\": \"white\", \"minorgridcolor\": \"white\", \"startlinecolor\": \"#2a3f5f\"}, \"baxis\": {\"endlinecolor\": \"#2a3f5f\", \"gridcolor\": \"white\", \"linecolor\": \"white\", \"minorgridcolor\": \"white\", \"startlinecolor\": \"#2a3f5f\"}, \"type\": \"carpet\"}], \"choropleth\": [{\"colorbar\": {\"outlinewidth\": 0, \"ticks\": \"\"}, \"type\": \"choropleth\"}], \"contour\": [{\"colorbar\": {\"outlinewidth\": 0, \"ticks\": \"\"}, \"colorscale\": [[0.0, \"#0d0887\"], [0.1111111111111111, \"#46039f\"], [0.2222222222222222, \"#7201a8\"], [0.3333333333333333, \"#9c179e\"], [0.4444444444444444, \"#bd3786\"], [0.5555555555555556, \"#d8576b\"], [0.6666666666666666, \"#ed7953\"], [0.7777777777777778, \"#fb9f3a\"], [0.8888888888888888, \"#fdca26\"], [1.0, \"#f0f921\"]], \"type\": \"contour\"}], \"contourcarpet\": [{\"colorbar\": {\"outlinewidth\": 0, \"ticks\": \"\"}, \"type\": \"contourcarpet\"}], \"heatmap\": [{\"colorbar\": {\"outlinewidth\": 0, \"ticks\": \"\"}, \"colorscale\": [[0.0, \"#0d0887\"], [0.1111111111111111, \"#46039f\"], [0.2222222222222222, \"#7201a8\"], [0.3333333333333333, \"#9c179e\"], [0.4444444444444444, \"#bd3786\"], [0.5555555555555556, \"#d8576b\"], [0.6666666666666666, \"#ed7953\"], [0.7777777777777778, \"#fb9f3a\"], [0.8888888888888888, \"#fdca26\"], [1.0, \"#f0f921\"]], \"type\": \"heatmap\"}], \"heatmapgl\": [{\"colorbar\": {\"outlinewidth\": 0, \"ticks\": \"\"}, \"colorscale\": [[0.0, \"#0d0887\"], [0.1111111111111111, \"#46039f\"], [0.2222222222222222, \"#7201a8\"], [0.3333333333333333, \"#9c179e\"], [0.4444444444444444, \"#bd3786\"], [0.5555555555555556, \"#d8576b\"], [0.6666666666666666, \"#ed7953\"], [0.7777777777777778, \"#fb9f3a\"], [0.8888888888888888, \"#fdca26\"], [1.0, \"#f0f921\"]], \"type\": \"heatmapgl\"}], \"histogram\": [{\"marker\": {\"colorbar\": {\"outlinewidth\": 0, \"ticks\": \"\"}}, \"type\": \"histogram\"}], \"histogram2d\": [{\"colorbar\": {\"outlinewidth\": 0, \"ticks\": \"\"}, \"colorscale\": [[0.0, \"#0d0887\"], [0.1111111111111111, \"#46039f\"], [0.2222222222222222, \"#7201a8\"], [0.3333333333333333, \"#9c179e\"], [0.4444444444444444, \"#bd3786\"], [0.5555555555555556, \"#d8576b\"], [0.6666666666666666, \"#ed7953\"], [0.7777777777777778, \"#fb9f3a\"], [0.8888888888888888, \"#fdca26\"], [1.0, \"#f0f921\"]], \"type\": \"histogram2d\"}], \"histogram2dcontour\": [{\"colorbar\": {\"outlinewidth\": 0, \"ticks\": \"\"}, \"colorscale\": [[0.0, \"#0d0887\"], [0.1111111111111111, \"#46039f\"], [0.2222222222222222, \"#7201a8\"], [0.3333333333333333, \"#9c179e\"], [0.4444444444444444, \"#bd3786\"], [0.5555555555555556, \"#d8576b\"], [0.6666666666666666, \"#ed7953\"], [0.7777777777777778, \"#fb9f3a\"], [0.8888888888888888, \"#fdca26\"], [1.0, \"#f0f921\"]], \"type\": \"histogram2dcontour\"}], \"mesh3d\": [{\"colorbar\": {\"outlinewidth\": 0, \"ticks\": \"\"}, \"type\": \"mesh3d\"}], \"parcoords\": [{\"line\": {\"colorbar\": {\"outlinewidth\": 0, \"ticks\": \"\"}}, \"type\": \"parcoords\"}], \"pie\": [{\"automargin\": true, \"type\": \"pie\"}], \"scatter\": [{\"marker\": {\"colorbar\": {\"outlinewidth\": 0, \"ticks\": \"\"}}, \"type\": \"scatter\"}], \"scatter3d\": [{\"line\": {\"colorbar\": {\"outlinewidth\": 0, \"ticks\": \"\"}}, \"marker\": {\"colorbar\": {\"outlinewidth\": 0, \"ticks\": \"\"}}, \"type\": \"scatter3d\"}], \"scattercarpet\": [{\"marker\": {\"colorbar\": {\"outlinewidth\": 0, \"ticks\": \"\"}}, \"type\": \"scattercarpet\"}], \"scattergeo\": [{\"marker\": {\"colorbar\": {\"outlinewidth\": 0, \"ticks\": \"\"}}, \"type\": \"scattergeo\"}], \"scattergl\": [{\"marker\": {\"colorbar\": {\"outlinewidth\": 0, \"ticks\": \"\"}}, \"type\": \"scattergl\"}], \"scattermapbox\": [{\"marker\": {\"colorbar\": {\"outlinewidth\": 0, \"ticks\": \"\"}}, \"type\": \"scattermapbox\"}], \"scatterpolar\": [{\"marker\": {\"colorbar\": {\"outlinewidth\": 0, \"ticks\": \"\"}}, \"type\": \"scatterpolar\"}], \"scatterpolargl\": [{\"marker\": {\"colorbar\": {\"outlinewidth\": 0, \"ticks\": \"\"}}, \"type\": \"scatterpolargl\"}], \"scatterternary\": [{\"marker\": {\"colorbar\": {\"outlinewidth\": 0, \"ticks\": \"\"}}, \"type\": \"scatterternary\"}], \"surface\": [{\"colorbar\": {\"outlinewidth\": 0, \"ticks\": \"\"}, \"colorscale\": [[0.0, \"#0d0887\"], [0.1111111111111111, \"#46039f\"], [0.2222222222222222, \"#7201a8\"], [0.3333333333333333, \"#9c179e\"], [0.4444444444444444, \"#bd3786\"], [0.5555555555555556, \"#d8576b\"], [0.6666666666666666, \"#ed7953\"], [0.7777777777777778, \"#fb9f3a\"], [0.8888888888888888, \"#fdca26\"], [1.0, \"#f0f921\"]], \"type\": \"surface\"}], \"table\": [{\"cells\": {\"fill\": {\"color\": \"#EBF0F8\"}, \"line\": {\"color\": \"white\"}}, \"header\": {\"fill\": {\"color\": \"#C8D4E3\"}, \"line\": {\"color\": \"white\"}}, \"type\": \"table\"}]}, \"layout\": {\"annotationdefaults\": {\"arrowcolor\": \"#2a3f5f\", \"arrowhead\": 0, \"arrowwidth\": 1}, \"autotypenumbers\": \"strict\", \"coloraxis\": {\"colorbar\": {\"outlinewidth\": 0, \"ticks\": \"\"}}, \"colorscale\": {\"diverging\": [[0, \"#8e0152\"], [0.1, \"#c51b7d\"], [0.2, \"#de77ae\"], [0.3, \"#f1b6da\"], [0.4, \"#fde0ef\"], [0.5, \"#f7f7f7\"], [0.6, \"#e6f5d0\"], [0.7, \"#b8e186\"], [0.8, \"#7fbc41\"], [0.9, \"#4d9221\"], [1, \"#276419\"]], \"sequential\": [[0.0, \"#0d0887\"], [0.1111111111111111, \"#46039f\"], [0.2222222222222222, \"#7201a8\"], [0.3333333333333333, \"#9c179e\"], [0.4444444444444444, \"#bd3786\"], [0.5555555555555556, \"#d8576b\"], [0.6666666666666666, \"#ed7953\"], [0.7777777777777778, \"#fb9f3a\"], [0.8888888888888888, \"#fdca26\"], [1.0, \"#f0f921\"]], \"sequentialminus\": [[0.0, \"#0d0887\"], [0.1111111111111111, \"#46039f\"], [0.2222222222222222, \"#7201a8\"], [0.3333333333333333, \"#9c179e\"], [0.4444444444444444, \"#bd3786\"], [0.5555555555555556, \"#d8576b\"], [0.6666666666666666, \"#ed7953\"], [0.7777777777777778, \"#fb9f3a\"], [0.8888888888888888, \"#fdca26\"], [1.0, \"#f0f921\"]]}, \"colorway\": [\"#636efa\", \"#EF553B\", \"#00cc96\", \"#ab63fa\", \"#FFA15A\", \"#19d3f3\", \"#FF6692\", \"#B6E880\", \"#FF97FF\", \"#FECB52\"], \"font\": {\"color\": \"#2a3f5f\"}, \"geo\": {\"bgcolor\": \"white\", \"lakecolor\": \"white\", \"landcolor\": \"#E5ECF6\", \"showlakes\": true, \"showland\": true, \"subunitcolor\": \"white\"}, \"hoverlabel\": {\"align\": \"left\"}, \"hovermode\": \"closest\", \"mapbox\": {\"style\": \"light\"}, \"paper_bgcolor\": \"white\", \"plot_bgcolor\": \"#E5ECF6\", \"polar\": {\"angularaxis\": {\"gridcolor\": \"white\", \"linecolor\": \"white\", \"ticks\": \"\"}, \"bgcolor\": \"#E5ECF6\", \"radialaxis\": {\"gridcolor\": \"white\", \"linecolor\": \"white\", \"ticks\": \"\"}}, \"scene\": {\"xaxis\": {\"backgroundcolor\": \"#E5ECF6\", \"gridcolor\": \"white\", \"gridwidth\": 2, \"linecolor\": \"white\", \"showbackground\": true, \"ticks\": \"\", \"zerolinecolor\": \"white\"}, \"yaxis\": {\"backgroundcolor\": \"#E5ECF6\", \"gridcolor\": \"white\", \"gridwidth\": 2, \"linecolor\": \"white\", \"showbackground\": true, \"ticks\": \"\", \"zerolinecolor\": \"white\"}, \"zaxis\": {\"backgroundcolor\": \"#E5ECF6\", \"gridcolor\": \"white\", \"gridwidth\": 2, \"linecolor\": \"white\", \"showbackground\": true, \"ticks\": \"\", \"zerolinecolor\": \"white\"}}, \"shapedefaults\": {\"line\": {\"color\": \"#2a3f5f\"}}, \"ternary\": {\"aaxis\": {\"gridcolor\": \"white\", \"linecolor\": \"white\", \"ticks\": \"\"}, \"baxis\": {\"gridcolor\": \"white\", \"linecolor\": \"white\", \"ticks\": \"\"}, \"bgcolor\": \"#E5ECF6\", \"caxis\": {\"gridcolor\": \"white\", \"linecolor\": \"white\", \"ticks\": \"\"}}, \"title\": {\"x\": 0.05}, \"xaxis\": {\"automargin\": true, \"gridcolor\": \"white\", \"linecolor\": \"white\", \"ticks\": \"\", \"title\": {\"standoff\": 15}, \"zerolinecolor\": \"white\", \"zerolinewidth\": 2}, \"yaxis\": {\"automargin\": true, \"gridcolor\": \"white\", \"linecolor\": \"white\", \"ticks\": \"\", \"title\": {\"standoff\": 15}, \"zerolinecolor\": \"white\", \"zerolinewidth\": 2}}}, \"title\": {\"text\": \"Evolution of friends' reviews influence on mobility according to categories\"}, \"updatemenus\": [{\"active\": 0, \"buttons\": [{\"args\": [{\"visible\": [1.0, 1.0, 1.0, 1.0, 1.0, 1.0, 1.0, 1.0, 1.0, 1.0, 1.0, 1.0, 1.0, 1.0, 1.0, 1.0, 1.0, 1.0]}, {\"title\": \"Plot all categories\"}], \"label\": \"Plot all categories\", \"method\": \"update\"}, {\"args\": [{\"visible\": [true, true, false, false, false, false, false, false, false, false, false, false, false, false, false, false, false, false, false, false, false, false, false, false, false, false, false, false, false, false, false, false, false, false, false, false]}, {\"title\": \"Construction\"}], \"label\": \"Construction\", \"method\": \"update\"}, {\"args\": [{\"visible\": [false, false, true, true, false, false, false, false, false, false, false, false, false, false, false, false, false, false, false, false, false, false, false, false, false, false, false, false, false, false, false, false, false, false, false, false]}, {\"title\": \"Computers\"}], \"label\": \"Computers\", \"method\": \"update\"}, {\"args\": [{\"visible\": [false, false, false, false, true, true, false, false, false, false, false, false, false, false, false, false, false, false, false, false, false, false, false, false, false, false, false, false, false, false, false, false, false, false, false, false]}, {\"title\": \"Home\"}], \"label\": \"Home\", \"method\": \"update\"}, {\"args\": [{\"visible\": [false, false, false, false, false, false, true, true, false, false, false, false, false, false, false, false, false, false, false, false, false, false, false, false, false, false, false, false, false, false, false, false, false, false, false, false]}, {\"title\": \"Merchant\"}], \"label\": \"Merchant\", \"method\": \"update\"}, {\"args\": [{\"visible\": [false, false, false, false, false, false, false, false, true, true, false, false, false, false, false, false, false, false, false, false, false, false, false, false, false, false, false, false, false, false, false, false, false, false, false, false]}, {\"title\": \"Manufacturing\"}], \"label\": \"Manufacturing\", \"method\": \"update\"}, {\"args\": [{\"visible\": [false, false, false, false, false, false, false, false, false, false, true, true, false, false, false, false, false, false, false, false, false, false, false, false, false, false, false, false, false, false, false, false, false, false, false, false]}, {\"title\": \"Travel\"}], \"label\": \"Travel\", \"method\": \"update\"}, {\"args\": [{\"visible\": [false, false, false, false, false, false, false, false, false, false, false, false, true, true, false, false, false, false, false, false, false, false, false, false, false, false, false, false, false, false, false, false, false, false, false, false]}, {\"title\": \"Sport\"}], \"label\": \"Sport\", \"method\": \"update\"}, {\"args\": [{\"visible\": [false, false, false, false, false, false, false, false, false, false, false, false, false, false, true, true, false, false, false, false, false, false, false, false, false, false, false, false, false, false, false, false, false, false, false, false]}, {\"title\": \"Education\"}], \"label\": \"Education\", \"method\": \"update\"}, {\"args\": [{\"visible\": [false, false, false, false, false, false, false, false, false, false, false, false, false, false, false, false, true, true, false, false, false, false, false, false, false, false, false, false, false, false, false, false, false, false, false, false]}, {\"title\": \"Legal\"}], \"label\": \"Legal\", \"method\": \"update\"}, {\"args\": [{\"visible\": [false, false, false, false, false, false, false, false, false, false, false, false, false, false, false, false, false, false, true, true, false, false, false, false, false, false, false, false, false, false, false, false, false, false, false, false]}, {\"title\": \"BusinessSupport\"}], \"label\": \"BusinessSupport\", \"method\": \"update\"}, {\"args\": [{\"visible\": [false, false, false, false, false, false, false, false, false, false, false, false, false, false, false, false, false, false, false, false, true, true, false, false, false, false, false, false, false, false, false, false, false, false, false, false]}, {\"title\": \"PersonalCare\"}], \"label\": \"PersonalCare\", \"method\": \"update\"}, {\"args\": [{\"visible\": [false, false, false, false, false, false, false, false, false, false, false, false, false, false, false, false, false, false, false, false, false, false, true, true, false, false, false, false, false, false, false, false, false, false, false, false]}, {\"title\": \"Entertainment\"}], \"label\": \"Entertainment\", \"method\": \"update\"}, {\"args\": [{\"visible\": [false, false, false, false, false, false, false, false, false, false, false, false, false, false, false, false, false, false, false, false, false, false, false, false, true, true, false, false, false, false, false, false, false, false, false, false]}, {\"title\": \"RealEstate\"}], \"label\": \"RealEstate\", \"method\": \"update\"}, {\"args\": [{\"visible\": [false, false, false, false, false, false, false, false, false, false, false, false, false, false, false, false, false, false, false, false, false, false, false, false, false, false, true, true, false, false, false, false, false, false, false, false]}, {\"title\": \"Automotive\"}], \"label\": \"Automotive\", \"method\": \"update\"}, {\"args\": [{\"visible\": [false, false, false, false, false, false, false, false, false, false, false, false, false, false, false, false, false, false, false, false, false, false, false, false, false, false, false, false, true, true, false, false, false, false, false, false]}, {\"title\": \"Food\"}], \"label\": \"Food\", \"method\": \"update\"}, {\"args\": [{\"visible\": [false, false, false, false, false, false, false, false, false, false, false, false, false, false, false, false, false, false, false, false, false, false, false, false, false, false, false, false, false, false, true, true, false, false, false, false]}, {\"title\": \"Miscellaneous\"}], \"label\": \"Miscellaneous\", \"method\": \"update\"}, {\"args\": [{\"visible\": [false, false, false, false, false, false, false, false, false, false, false, false, false, false, false, false, false, false, false, false, false, false, false, false, false, false, false, false, false, false, false, false, true, true, false, false]}, {\"title\": \"Health\"}], \"label\": \"Health\", \"method\": \"update\"}, {\"args\": [{\"visible\": [false, false, false, false, false, false, false, false, false, false, false, false, false, false, false, false, false, false, false, false, false, false, false, false, false, false, false, false, false, false, false, false, false, false, true, true]}, {\"title\": \"All Categories\"}], \"label\": \"All Categories\", \"method\": \"update\"}]}], \"xaxis\": {\"title\": {\"text\": \"Distance travelled in km by category in logarithmic scale\"}, \"type\": \"log\"}, \"yaxis\": {\"title\": {\"text\": \"Probability of travelling\"}}},                        {\"responsive\": true}                    ).then(function(){\n",
       "                            \n",
       "var gd = document.getElementById('ed3270fe-b166-41fb-8a24-8ff714495cc8');\n",
       "var x = new MutationObserver(function (mutations, observer) {{\n",
       "        var display = window.getComputedStyle(gd).display;\n",
       "        if (!display || display === 'none') {{\n",
       "            console.log([gd, 'removed!']);\n",
       "            Plotly.purge(gd);\n",
       "            observer.disconnect();\n",
       "        }}\n",
       "}});\n",
       "\n",
       "// Listen for the removal of the full notebook cells\n",
       "var notebookContainer = gd.closest('#notebook-container');\n",
       "if (notebookContainer) {{\n",
       "    x.observe(notebookContainer, {childList: true});\n",
       "}}\n",
       "\n",
       "// Listen for the clearing of the current output cell\n",
       "var outputEl = gd.closest('.output');\n",
       "if (outputEl) {{\n",
       "    x.observe(outputEl, {childList: true});\n",
       "}}\n",
       "\n",
       "                        })                };                });            </script>        </div>"
      ]
     },
     "metadata": {},
     "output_type": "display_data"
    }
   ],
   "source": [
    "# Initialize figure\n",
    "fig = go.Figure()\n",
    "\n",
    "# Add Traces\n",
    "for i in col_names_cat:\n",
    "    fig.add_trace(\n",
    "    go.Scatter(x=bucket,\n",
    "               y=df_good_cat[i].values,\n",
    "               name=i+\" good review\",\n",
    "               line=dict(color=\"#FF0000\")))\n",
    "    fig.add_trace(\n",
    "    go.Scatter(x=bucket,\n",
    "               y=df_bad_cat[i].values,\n",
    "               name=i+\" bad review\",\n",
    "               line=dict(color=\"#0000FF\")))\n",
    "\n",
    "# Add layout\n",
    "fig.update_layout(\n",
    "    updatemenus=[\n",
    "        dict(\n",
    "            active=0,\n",
    "            buttons=list_dict_cat(col_names_cat,len(col_names_cat)),\n",
    "        )\n",
    "    ])\n",
    "\n",
    "# Define axies\n",
    "fig.update_xaxes(title_text=\"Distance travelled in km by category in logarithmic scale\", type=\"log\")\n",
    "fig.update_yaxes(title_text=\"Probability of travelling\") \n",
    "# Set title\n",
    "fig.update_layout(title_text=\"Evolution of friends' reviews influence on mobility according to categories\")\n",
    "fig.show()"
   ]
  },
  {
   "cell_type": "code",
   "execution_count": 131,
   "metadata": {},
   "outputs": [],
   "source": [
    "# Save html\n",
    "pio.write_html(fig, file='evolution_category.html', auto_open=True)"
   ]
  },
  {
   "cell_type": "markdown",
   "metadata": {},
   "source": [
    "# Create the interactive plot for the probability of giving good ratings study"
   ]
  },
  {
   "cell_type": "code",
   "execution_count": 37,
   "metadata": {
    "scrolled": true
   },
   "outputs": [],
   "source": [
    "# Load dataframes for week day study\n",
    "df_mean_rating = pd.read_csv('./data/prob_give_good_review.csv')"
   ]
  },
  {
   "cell_type": "code",
   "execution_count": 38,
   "metadata": {},
   "outputs": [],
   "source": [
    "x_ = df_mean_rating['review_id']"
   ]
  },
  {
   "cell_type": "code",
   "execution_count": 39,
   "metadata": {
    "scrolled": true
   },
   "outputs": [],
   "source": [
    "y_ =[]\n",
    "y_.append(-(5.0- 8.154)/2)\n",
    "y_.append(-(8.154- 13.299)/2)\n",
    "y_.append(-(13.299- 21.689)/2)\n",
    "y_.append(-(21.689- 35.372)/2)\n",
    "y_.append(-(35.372- 57.688)/2)\n",
    "y_.append(-(57.688- 94.083)/2)\n",
    "y_.append(-(94.083- 153.438)/2)\n",
    "y_.append(-(153.438- 250.24)/2)\n",
    "y_.append(-(250.24- 408.112)/2)\n",
    "y_.append(-(408.112- 665.584)/2)\n",
    "y_.append(-(665.584- 1085.491)/2)\n",
    "y_.append(-(1085.491- 1770.311)/2)\n",
    "y_.append(-(1770.311- 2887.173)/2)\n",
    "y_.append(-(2887.173- 4708.646)/2)"
   ]
  },
  {
   "cell_type": "code",
   "execution_count": 54,
   "metadata": {
    "scrolled": true
   },
   "outputs": [
    {
     "data": {
      "application/vnd.plotly.v1+json": {
       "config": {
        "plotlyServerURL": "https://plot.ly"
       },
       "data": [
        {
         "line": {
          "color": "#33CFA5"
         },
         "type": "scatter",
         "x": [
          1.577,
          2.5725,
          4.195,
          6.8415,
          11.158000000000001,
          18.197499999999998,
          29.677499999999995,
          48.40100000000001,
          78.936,
          128.73599999999996,
          209.95350000000002,
          342.40999999999997,
          558.4309999999999,
          910.7365
         ],
         "y": [
          0.4334975444196805,
          0.43656292447420336,
          0.4326122220089499,
          0.4349919467411146,
          0.4491178074480624,
          0.4436450839328537,
          0.4090909090909091,
          0.38492575855390576,
          0.4106355221469839,
          0.38462038228147455,
          0.3539653891071239,
          0.3401792991035045,
          0.3559341369737993,
          0.3532164453492965
         ]
        }
       ],
       "layout": {
        "template": {
         "data": {
          "bar": [
           {
            "error_x": {
             "color": "#2a3f5f"
            },
            "error_y": {
             "color": "#2a3f5f"
            },
            "marker": {
             "line": {
              "color": "#E5ECF6",
              "width": 0.5
             }
            },
            "type": "bar"
           }
          ],
          "barpolar": [
           {
            "marker": {
             "line": {
              "color": "#E5ECF6",
              "width": 0.5
             }
            },
            "type": "barpolar"
           }
          ],
          "carpet": [
           {
            "aaxis": {
             "endlinecolor": "#2a3f5f",
             "gridcolor": "white",
             "linecolor": "white",
             "minorgridcolor": "white",
             "startlinecolor": "#2a3f5f"
            },
            "baxis": {
             "endlinecolor": "#2a3f5f",
             "gridcolor": "white",
             "linecolor": "white",
             "minorgridcolor": "white",
             "startlinecolor": "#2a3f5f"
            },
            "type": "carpet"
           }
          ],
          "choropleth": [
           {
            "colorbar": {
             "outlinewidth": 0,
             "ticks": ""
            },
            "type": "choropleth"
           }
          ],
          "contour": [
           {
            "colorbar": {
             "outlinewidth": 0,
             "ticks": ""
            },
            "colorscale": [
             [
              0,
              "#0d0887"
             ],
             [
              0.1111111111111111,
              "#46039f"
             ],
             [
              0.2222222222222222,
              "#7201a8"
             ],
             [
              0.3333333333333333,
              "#9c179e"
             ],
             [
              0.4444444444444444,
              "#bd3786"
             ],
             [
              0.5555555555555556,
              "#d8576b"
             ],
             [
              0.6666666666666666,
              "#ed7953"
             ],
             [
              0.7777777777777778,
              "#fb9f3a"
             ],
             [
              0.8888888888888888,
              "#fdca26"
             ],
             [
              1,
              "#f0f921"
             ]
            ],
            "type": "contour"
           }
          ],
          "contourcarpet": [
           {
            "colorbar": {
             "outlinewidth": 0,
             "ticks": ""
            },
            "type": "contourcarpet"
           }
          ],
          "heatmap": [
           {
            "colorbar": {
             "outlinewidth": 0,
             "ticks": ""
            },
            "colorscale": [
             [
              0,
              "#0d0887"
             ],
             [
              0.1111111111111111,
              "#46039f"
             ],
             [
              0.2222222222222222,
              "#7201a8"
             ],
             [
              0.3333333333333333,
              "#9c179e"
             ],
             [
              0.4444444444444444,
              "#bd3786"
             ],
             [
              0.5555555555555556,
              "#d8576b"
             ],
             [
              0.6666666666666666,
              "#ed7953"
             ],
             [
              0.7777777777777778,
              "#fb9f3a"
             ],
             [
              0.8888888888888888,
              "#fdca26"
             ],
             [
              1,
              "#f0f921"
             ]
            ],
            "type": "heatmap"
           }
          ],
          "heatmapgl": [
           {
            "colorbar": {
             "outlinewidth": 0,
             "ticks": ""
            },
            "colorscale": [
             [
              0,
              "#0d0887"
             ],
             [
              0.1111111111111111,
              "#46039f"
             ],
             [
              0.2222222222222222,
              "#7201a8"
             ],
             [
              0.3333333333333333,
              "#9c179e"
             ],
             [
              0.4444444444444444,
              "#bd3786"
             ],
             [
              0.5555555555555556,
              "#d8576b"
             ],
             [
              0.6666666666666666,
              "#ed7953"
             ],
             [
              0.7777777777777778,
              "#fb9f3a"
             ],
             [
              0.8888888888888888,
              "#fdca26"
             ],
             [
              1,
              "#f0f921"
             ]
            ],
            "type": "heatmapgl"
           }
          ],
          "histogram": [
           {
            "marker": {
             "colorbar": {
              "outlinewidth": 0,
              "ticks": ""
             }
            },
            "type": "histogram"
           }
          ],
          "histogram2d": [
           {
            "colorbar": {
             "outlinewidth": 0,
             "ticks": ""
            },
            "colorscale": [
             [
              0,
              "#0d0887"
             ],
             [
              0.1111111111111111,
              "#46039f"
             ],
             [
              0.2222222222222222,
              "#7201a8"
             ],
             [
              0.3333333333333333,
              "#9c179e"
             ],
             [
              0.4444444444444444,
              "#bd3786"
             ],
             [
              0.5555555555555556,
              "#d8576b"
             ],
             [
              0.6666666666666666,
              "#ed7953"
             ],
             [
              0.7777777777777778,
              "#fb9f3a"
             ],
             [
              0.8888888888888888,
              "#fdca26"
             ],
             [
              1,
              "#f0f921"
             ]
            ],
            "type": "histogram2d"
           }
          ],
          "histogram2dcontour": [
           {
            "colorbar": {
             "outlinewidth": 0,
             "ticks": ""
            },
            "colorscale": [
             [
              0,
              "#0d0887"
             ],
             [
              0.1111111111111111,
              "#46039f"
             ],
             [
              0.2222222222222222,
              "#7201a8"
             ],
             [
              0.3333333333333333,
              "#9c179e"
             ],
             [
              0.4444444444444444,
              "#bd3786"
             ],
             [
              0.5555555555555556,
              "#d8576b"
             ],
             [
              0.6666666666666666,
              "#ed7953"
             ],
             [
              0.7777777777777778,
              "#fb9f3a"
             ],
             [
              0.8888888888888888,
              "#fdca26"
             ],
             [
              1,
              "#f0f921"
             ]
            ],
            "type": "histogram2dcontour"
           }
          ],
          "mesh3d": [
           {
            "colorbar": {
             "outlinewidth": 0,
             "ticks": ""
            },
            "type": "mesh3d"
           }
          ],
          "parcoords": [
           {
            "line": {
             "colorbar": {
              "outlinewidth": 0,
              "ticks": ""
             }
            },
            "type": "parcoords"
           }
          ],
          "pie": [
           {
            "automargin": true,
            "type": "pie"
           }
          ],
          "scatter": [
           {
            "marker": {
             "colorbar": {
              "outlinewidth": 0,
              "ticks": ""
             }
            },
            "type": "scatter"
           }
          ],
          "scatter3d": [
           {
            "line": {
             "colorbar": {
              "outlinewidth": 0,
              "ticks": ""
             }
            },
            "marker": {
             "colorbar": {
              "outlinewidth": 0,
              "ticks": ""
             }
            },
            "type": "scatter3d"
           }
          ],
          "scattercarpet": [
           {
            "marker": {
             "colorbar": {
              "outlinewidth": 0,
              "ticks": ""
             }
            },
            "type": "scattercarpet"
           }
          ],
          "scattergeo": [
           {
            "marker": {
             "colorbar": {
              "outlinewidth": 0,
              "ticks": ""
             }
            },
            "type": "scattergeo"
           }
          ],
          "scattergl": [
           {
            "marker": {
             "colorbar": {
              "outlinewidth": 0,
              "ticks": ""
             }
            },
            "type": "scattergl"
           }
          ],
          "scattermapbox": [
           {
            "marker": {
             "colorbar": {
              "outlinewidth": 0,
              "ticks": ""
             }
            },
            "type": "scattermapbox"
           }
          ],
          "scatterpolar": [
           {
            "marker": {
             "colorbar": {
              "outlinewidth": 0,
              "ticks": ""
             }
            },
            "type": "scatterpolar"
           }
          ],
          "scatterpolargl": [
           {
            "marker": {
             "colorbar": {
              "outlinewidth": 0,
              "ticks": ""
             }
            },
            "type": "scatterpolargl"
           }
          ],
          "scatterternary": [
           {
            "marker": {
             "colorbar": {
              "outlinewidth": 0,
              "ticks": ""
             }
            },
            "type": "scatterternary"
           }
          ],
          "surface": [
           {
            "colorbar": {
             "outlinewidth": 0,
             "ticks": ""
            },
            "colorscale": [
             [
              0,
              "#0d0887"
             ],
             [
              0.1111111111111111,
              "#46039f"
             ],
             [
              0.2222222222222222,
              "#7201a8"
             ],
             [
              0.3333333333333333,
              "#9c179e"
             ],
             [
              0.4444444444444444,
              "#bd3786"
             ],
             [
              0.5555555555555556,
              "#d8576b"
             ],
             [
              0.6666666666666666,
              "#ed7953"
             ],
             [
              0.7777777777777778,
              "#fb9f3a"
             ],
             [
              0.8888888888888888,
              "#fdca26"
             ],
             [
              1,
              "#f0f921"
             ]
            ],
            "type": "surface"
           }
          ],
          "table": [
           {
            "cells": {
             "fill": {
              "color": "#EBF0F8"
             },
             "line": {
              "color": "white"
             }
            },
            "header": {
             "fill": {
              "color": "#C8D4E3"
             },
             "line": {
              "color": "white"
             }
            },
            "type": "table"
           }
          ]
         },
         "layout": {
          "annotationdefaults": {
           "arrowcolor": "#2a3f5f",
           "arrowhead": 0,
           "arrowwidth": 1
          },
          "autotypenumbers": "strict",
          "coloraxis": {
           "colorbar": {
            "outlinewidth": 0,
            "ticks": ""
           }
          },
          "colorscale": {
           "diverging": [
            [
             0,
             "#8e0152"
            ],
            [
             0.1,
             "#c51b7d"
            ],
            [
             0.2,
             "#de77ae"
            ],
            [
             0.3,
             "#f1b6da"
            ],
            [
             0.4,
             "#fde0ef"
            ],
            [
             0.5,
             "#f7f7f7"
            ],
            [
             0.6,
             "#e6f5d0"
            ],
            [
             0.7,
             "#b8e186"
            ],
            [
             0.8,
             "#7fbc41"
            ],
            [
             0.9,
             "#4d9221"
            ],
            [
             1,
             "#276419"
            ]
           ],
           "sequential": [
            [
             0,
             "#0d0887"
            ],
            [
             0.1111111111111111,
             "#46039f"
            ],
            [
             0.2222222222222222,
             "#7201a8"
            ],
            [
             0.3333333333333333,
             "#9c179e"
            ],
            [
             0.4444444444444444,
             "#bd3786"
            ],
            [
             0.5555555555555556,
             "#d8576b"
            ],
            [
             0.6666666666666666,
             "#ed7953"
            ],
            [
             0.7777777777777778,
             "#fb9f3a"
            ],
            [
             0.8888888888888888,
             "#fdca26"
            ],
            [
             1,
             "#f0f921"
            ]
           ],
           "sequentialminus": [
            [
             0,
             "#0d0887"
            ],
            [
             0.1111111111111111,
             "#46039f"
            ],
            [
             0.2222222222222222,
             "#7201a8"
            ],
            [
             0.3333333333333333,
             "#9c179e"
            ],
            [
             0.4444444444444444,
             "#bd3786"
            ],
            [
             0.5555555555555556,
             "#d8576b"
            ],
            [
             0.6666666666666666,
             "#ed7953"
            ],
            [
             0.7777777777777778,
             "#fb9f3a"
            ],
            [
             0.8888888888888888,
             "#fdca26"
            ],
            [
             1,
             "#f0f921"
            ]
           ]
          },
          "colorway": [
           "#636efa",
           "#EF553B",
           "#00cc96",
           "#ab63fa",
           "#FFA15A",
           "#19d3f3",
           "#FF6692",
           "#B6E880",
           "#FF97FF",
           "#FECB52"
          ],
          "font": {
           "color": "#2a3f5f"
          },
          "geo": {
           "bgcolor": "white",
           "lakecolor": "white",
           "landcolor": "#E5ECF6",
           "showlakes": true,
           "showland": true,
           "subunitcolor": "white"
          },
          "hoverlabel": {
           "align": "left"
          },
          "hovermode": "closest",
          "mapbox": {
           "style": "light"
          },
          "paper_bgcolor": "white",
          "plot_bgcolor": "#E5ECF6",
          "polar": {
           "angularaxis": {
            "gridcolor": "white",
            "linecolor": "white",
            "ticks": ""
           },
           "bgcolor": "#E5ECF6",
           "radialaxis": {
            "gridcolor": "white",
            "linecolor": "white",
            "ticks": ""
           }
          },
          "scene": {
           "xaxis": {
            "backgroundcolor": "#E5ECF6",
            "gridcolor": "white",
            "gridwidth": 2,
            "linecolor": "white",
            "showbackground": true,
            "ticks": "",
            "zerolinecolor": "white"
           },
           "yaxis": {
            "backgroundcolor": "#E5ECF6",
            "gridcolor": "white",
            "gridwidth": 2,
            "linecolor": "white",
            "showbackground": true,
            "ticks": "",
            "zerolinecolor": "white"
           },
           "zaxis": {
            "backgroundcolor": "#E5ECF6",
            "gridcolor": "white",
            "gridwidth": 2,
            "linecolor": "white",
            "showbackground": true,
            "ticks": "",
            "zerolinecolor": "white"
           }
          },
          "shapedefaults": {
           "line": {
            "color": "#2a3f5f"
           }
          },
          "ternary": {
           "aaxis": {
            "gridcolor": "white",
            "linecolor": "white",
            "ticks": ""
           },
           "baxis": {
            "gridcolor": "white",
            "linecolor": "white",
            "ticks": ""
           },
           "bgcolor": "#E5ECF6",
           "caxis": {
            "gridcolor": "white",
            "linecolor": "white",
            "ticks": ""
           }
          },
          "title": {
           "x": 0.05
          },
          "xaxis": {
           "automargin": true,
           "gridcolor": "white",
           "linecolor": "white",
           "ticks": "",
           "title": {
            "standoff": 15
           },
           "zerolinecolor": "white",
           "zerolinewidth": 2
          },
          "yaxis": {
           "automargin": true,
           "gridcolor": "white",
           "linecolor": "white",
           "ticks": "",
           "title": {
            "standoff": 15
           },
           "zerolinecolor": "white",
           "zerolinewidth": 2
          }
         }
        },
        "title": {
         "text": "Probability to give good ratings (stars >=5) depending on distance"
        },
        "xaxis": {
         "title": {
          "text": "Distance travelled in km in logarithmic scale"
         },
         "type": "log"
        },
        "yaxis": {
         "title": {
          "text": "Probability to give good ratings"
         }
        }
       }
      },
      "text/html": [
       "<div>                            <div id=\"0452c845-3a0d-44d7-aa80-c432dbe0e3aa\" class=\"plotly-graph-div\" style=\"height:525px; width:100%;\"></div>            <script type=\"text/javascript\">                require([\"plotly\"], function(Plotly) {                    window.PLOTLYENV=window.PLOTLYENV || {};                                    if (document.getElementById(\"0452c845-3a0d-44d7-aa80-c432dbe0e3aa\")) {                    Plotly.newPlot(                        \"0452c845-3a0d-44d7-aa80-c432dbe0e3aa\",                        [{\"line\": {\"color\": \"#33CFA5\"}, \"type\": \"scatter\", \"x\": [1.577, 2.5725, 4.195, 6.8415, 11.158000000000001, 18.197499999999998, 29.677499999999995, 48.40100000000001, 78.936, 128.73599999999996, 209.95350000000002, 342.40999999999997, 558.4309999999999, 910.7365], \"y\": [0.4334975444196805, 0.43656292447420336, 0.4326122220089499, 0.4349919467411146, 0.4491178074480624, 0.4436450839328537, 0.4090909090909091, 0.38492575855390576, 0.4106355221469839, 0.38462038228147455, 0.3539653891071239, 0.3401792991035045, 0.3559341369737993, 0.3532164453492965]}],                        {\"template\": {\"data\": {\"bar\": [{\"error_x\": {\"color\": \"#2a3f5f\"}, \"error_y\": {\"color\": \"#2a3f5f\"}, \"marker\": {\"line\": {\"color\": \"#E5ECF6\", \"width\": 0.5}}, \"type\": \"bar\"}], \"barpolar\": [{\"marker\": {\"line\": {\"color\": \"#E5ECF6\", \"width\": 0.5}}, \"type\": \"barpolar\"}], \"carpet\": [{\"aaxis\": {\"endlinecolor\": \"#2a3f5f\", \"gridcolor\": \"white\", \"linecolor\": \"white\", \"minorgridcolor\": \"white\", \"startlinecolor\": \"#2a3f5f\"}, \"baxis\": {\"endlinecolor\": \"#2a3f5f\", \"gridcolor\": \"white\", \"linecolor\": \"white\", \"minorgridcolor\": \"white\", \"startlinecolor\": \"#2a3f5f\"}, \"type\": \"carpet\"}], \"choropleth\": [{\"colorbar\": {\"outlinewidth\": 0, \"ticks\": \"\"}, \"type\": \"choropleth\"}], \"contour\": [{\"colorbar\": {\"outlinewidth\": 0, \"ticks\": \"\"}, \"colorscale\": [[0.0, \"#0d0887\"], [0.1111111111111111, \"#46039f\"], [0.2222222222222222, \"#7201a8\"], [0.3333333333333333, \"#9c179e\"], [0.4444444444444444, \"#bd3786\"], [0.5555555555555556, \"#d8576b\"], [0.6666666666666666, \"#ed7953\"], [0.7777777777777778, \"#fb9f3a\"], [0.8888888888888888, \"#fdca26\"], [1.0, \"#f0f921\"]], \"type\": \"contour\"}], \"contourcarpet\": [{\"colorbar\": {\"outlinewidth\": 0, \"ticks\": \"\"}, \"type\": \"contourcarpet\"}], \"heatmap\": [{\"colorbar\": {\"outlinewidth\": 0, \"ticks\": \"\"}, \"colorscale\": [[0.0, \"#0d0887\"], [0.1111111111111111, \"#46039f\"], [0.2222222222222222, \"#7201a8\"], [0.3333333333333333, \"#9c179e\"], [0.4444444444444444, \"#bd3786\"], [0.5555555555555556, \"#d8576b\"], [0.6666666666666666, \"#ed7953\"], [0.7777777777777778, \"#fb9f3a\"], [0.8888888888888888, \"#fdca26\"], [1.0, \"#f0f921\"]], \"type\": \"heatmap\"}], \"heatmapgl\": [{\"colorbar\": {\"outlinewidth\": 0, \"ticks\": \"\"}, \"colorscale\": [[0.0, \"#0d0887\"], [0.1111111111111111, \"#46039f\"], [0.2222222222222222, \"#7201a8\"], [0.3333333333333333, \"#9c179e\"], [0.4444444444444444, \"#bd3786\"], [0.5555555555555556, \"#d8576b\"], [0.6666666666666666, \"#ed7953\"], [0.7777777777777778, \"#fb9f3a\"], [0.8888888888888888, \"#fdca26\"], [1.0, \"#f0f921\"]], \"type\": \"heatmapgl\"}], \"histogram\": [{\"marker\": {\"colorbar\": {\"outlinewidth\": 0, \"ticks\": \"\"}}, \"type\": \"histogram\"}], \"histogram2d\": [{\"colorbar\": {\"outlinewidth\": 0, \"ticks\": \"\"}, \"colorscale\": [[0.0, \"#0d0887\"], [0.1111111111111111, \"#46039f\"], [0.2222222222222222, \"#7201a8\"], [0.3333333333333333, \"#9c179e\"], [0.4444444444444444, \"#bd3786\"], [0.5555555555555556, \"#d8576b\"], [0.6666666666666666, \"#ed7953\"], [0.7777777777777778, \"#fb9f3a\"], [0.8888888888888888, \"#fdca26\"], [1.0, \"#f0f921\"]], \"type\": \"histogram2d\"}], \"histogram2dcontour\": [{\"colorbar\": {\"outlinewidth\": 0, \"ticks\": \"\"}, \"colorscale\": [[0.0, \"#0d0887\"], [0.1111111111111111, \"#46039f\"], [0.2222222222222222, \"#7201a8\"], [0.3333333333333333, \"#9c179e\"], [0.4444444444444444, \"#bd3786\"], [0.5555555555555556, \"#d8576b\"], [0.6666666666666666, \"#ed7953\"], [0.7777777777777778, \"#fb9f3a\"], [0.8888888888888888, \"#fdca26\"], [1.0, \"#f0f921\"]], \"type\": \"histogram2dcontour\"}], \"mesh3d\": [{\"colorbar\": {\"outlinewidth\": 0, \"ticks\": \"\"}, \"type\": \"mesh3d\"}], \"parcoords\": [{\"line\": {\"colorbar\": {\"outlinewidth\": 0, \"ticks\": \"\"}}, \"type\": \"parcoords\"}], \"pie\": [{\"automargin\": true, \"type\": \"pie\"}], \"scatter\": [{\"marker\": {\"colorbar\": {\"outlinewidth\": 0, \"ticks\": \"\"}}, \"type\": \"scatter\"}], \"scatter3d\": [{\"line\": {\"colorbar\": {\"outlinewidth\": 0, \"ticks\": \"\"}}, \"marker\": {\"colorbar\": {\"outlinewidth\": 0, \"ticks\": \"\"}}, \"type\": \"scatter3d\"}], \"scattercarpet\": [{\"marker\": {\"colorbar\": {\"outlinewidth\": 0, \"ticks\": \"\"}}, \"type\": \"scattercarpet\"}], \"scattergeo\": [{\"marker\": {\"colorbar\": {\"outlinewidth\": 0, \"ticks\": \"\"}}, \"type\": \"scattergeo\"}], \"scattergl\": [{\"marker\": {\"colorbar\": {\"outlinewidth\": 0, \"ticks\": \"\"}}, \"type\": \"scattergl\"}], \"scattermapbox\": [{\"marker\": {\"colorbar\": {\"outlinewidth\": 0, \"ticks\": \"\"}}, \"type\": \"scattermapbox\"}], \"scatterpolar\": [{\"marker\": {\"colorbar\": {\"outlinewidth\": 0, \"ticks\": \"\"}}, \"type\": \"scatterpolar\"}], \"scatterpolargl\": [{\"marker\": {\"colorbar\": {\"outlinewidth\": 0, \"ticks\": \"\"}}, \"type\": \"scatterpolargl\"}], \"scatterternary\": [{\"marker\": {\"colorbar\": {\"outlinewidth\": 0, \"ticks\": \"\"}}, \"type\": \"scatterternary\"}], \"surface\": [{\"colorbar\": {\"outlinewidth\": 0, \"ticks\": \"\"}, \"colorscale\": [[0.0, \"#0d0887\"], [0.1111111111111111, \"#46039f\"], [0.2222222222222222, \"#7201a8\"], [0.3333333333333333, \"#9c179e\"], [0.4444444444444444, \"#bd3786\"], [0.5555555555555556, \"#d8576b\"], [0.6666666666666666, \"#ed7953\"], [0.7777777777777778, \"#fb9f3a\"], [0.8888888888888888, \"#fdca26\"], [1.0, \"#f0f921\"]], \"type\": \"surface\"}], \"table\": [{\"cells\": {\"fill\": {\"color\": \"#EBF0F8\"}, \"line\": {\"color\": \"white\"}}, \"header\": {\"fill\": {\"color\": \"#C8D4E3\"}, \"line\": {\"color\": \"white\"}}, \"type\": \"table\"}]}, \"layout\": {\"annotationdefaults\": {\"arrowcolor\": \"#2a3f5f\", \"arrowhead\": 0, \"arrowwidth\": 1}, \"autotypenumbers\": \"strict\", \"coloraxis\": {\"colorbar\": {\"outlinewidth\": 0, \"ticks\": \"\"}}, \"colorscale\": {\"diverging\": [[0, \"#8e0152\"], [0.1, \"#c51b7d\"], [0.2, \"#de77ae\"], [0.3, \"#f1b6da\"], [0.4, \"#fde0ef\"], [0.5, \"#f7f7f7\"], [0.6, \"#e6f5d0\"], [0.7, \"#b8e186\"], [0.8, \"#7fbc41\"], [0.9, \"#4d9221\"], [1, \"#276419\"]], \"sequential\": [[0.0, \"#0d0887\"], [0.1111111111111111, \"#46039f\"], [0.2222222222222222, \"#7201a8\"], [0.3333333333333333, \"#9c179e\"], [0.4444444444444444, \"#bd3786\"], [0.5555555555555556, \"#d8576b\"], [0.6666666666666666, \"#ed7953\"], [0.7777777777777778, \"#fb9f3a\"], [0.8888888888888888, \"#fdca26\"], [1.0, \"#f0f921\"]], \"sequentialminus\": [[0.0, \"#0d0887\"], [0.1111111111111111, \"#46039f\"], [0.2222222222222222, \"#7201a8\"], [0.3333333333333333, \"#9c179e\"], [0.4444444444444444, \"#bd3786\"], [0.5555555555555556, \"#d8576b\"], [0.6666666666666666, \"#ed7953\"], [0.7777777777777778, \"#fb9f3a\"], [0.8888888888888888, \"#fdca26\"], [1.0, \"#f0f921\"]]}, \"colorway\": [\"#636efa\", \"#EF553B\", \"#00cc96\", \"#ab63fa\", \"#FFA15A\", \"#19d3f3\", \"#FF6692\", \"#B6E880\", \"#FF97FF\", \"#FECB52\"], \"font\": {\"color\": \"#2a3f5f\"}, \"geo\": {\"bgcolor\": \"white\", \"lakecolor\": \"white\", \"landcolor\": \"#E5ECF6\", \"showlakes\": true, \"showland\": true, \"subunitcolor\": \"white\"}, \"hoverlabel\": {\"align\": \"left\"}, \"hovermode\": \"closest\", \"mapbox\": {\"style\": \"light\"}, \"paper_bgcolor\": \"white\", \"plot_bgcolor\": \"#E5ECF6\", \"polar\": {\"angularaxis\": {\"gridcolor\": \"white\", \"linecolor\": \"white\", \"ticks\": \"\"}, \"bgcolor\": \"#E5ECF6\", \"radialaxis\": {\"gridcolor\": \"white\", \"linecolor\": \"white\", \"ticks\": \"\"}}, \"scene\": {\"xaxis\": {\"backgroundcolor\": \"#E5ECF6\", \"gridcolor\": \"white\", \"gridwidth\": 2, \"linecolor\": \"white\", \"showbackground\": true, \"ticks\": \"\", \"zerolinecolor\": \"white\"}, \"yaxis\": {\"backgroundcolor\": \"#E5ECF6\", \"gridcolor\": \"white\", \"gridwidth\": 2, \"linecolor\": \"white\", \"showbackground\": true, \"ticks\": \"\", \"zerolinecolor\": \"white\"}, \"zaxis\": {\"backgroundcolor\": \"#E5ECF6\", \"gridcolor\": \"white\", \"gridwidth\": 2, \"linecolor\": \"white\", \"showbackground\": true, \"ticks\": \"\", \"zerolinecolor\": \"white\"}}, \"shapedefaults\": {\"line\": {\"color\": \"#2a3f5f\"}}, \"ternary\": {\"aaxis\": {\"gridcolor\": \"white\", \"linecolor\": \"white\", \"ticks\": \"\"}, \"baxis\": {\"gridcolor\": \"white\", \"linecolor\": \"white\", \"ticks\": \"\"}, \"bgcolor\": \"#E5ECF6\", \"caxis\": {\"gridcolor\": \"white\", \"linecolor\": \"white\", \"ticks\": \"\"}}, \"title\": {\"x\": 0.05}, \"xaxis\": {\"automargin\": true, \"gridcolor\": \"white\", \"linecolor\": \"white\", \"ticks\": \"\", \"title\": {\"standoff\": 15}, \"zerolinecolor\": \"white\", \"zerolinewidth\": 2}, \"yaxis\": {\"automargin\": true, \"gridcolor\": \"white\", \"linecolor\": \"white\", \"ticks\": \"\", \"title\": {\"standoff\": 15}, \"zerolinecolor\": \"white\", \"zerolinewidth\": 2}}}, \"title\": {\"text\": \"Probability to give good ratings (stars >=5) depending on distance\"}, \"xaxis\": {\"title\": {\"text\": \"Distance travelled in km in logarithmic scale\"}, \"type\": \"log\"}, \"yaxis\": {\"title\": {\"text\": \"Probability to give good ratings\"}}},                        {\"responsive\": true}                    ).then(function(){\n",
       "                            \n",
       "var gd = document.getElementById('0452c845-3a0d-44d7-aa80-c432dbe0e3aa');\n",
       "var x = new MutationObserver(function (mutations, observer) {{\n",
       "        var display = window.getComputedStyle(gd).display;\n",
       "        if (!display || display === 'none') {{\n",
       "            console.log([gd, 'removed!']);\n",
       "            Plotly.purge(gd);\n",
       "            observer.disconnect();\n",
       "        }}\n",
       "}});\n",
       "\n",
       "// Listen for the removal of the full notebook cells\n",
       "var notebookContainer = gd.closest('#notebook-container');\n",
       "if (notebookContainer) {{\n",
       "    x.observe(notebookContainer, {childList: true});\n",
       "}}\n",
       "\n",
       "// Listen for the clearing of the current output cell\n",
       "var outputEl = gd.closest('.output');\n",
       "if (outputEl) {{\n",
       "    x.observe(outputEl, {childList: true});\n",
       "}}\n",
       "\n",
       "                        })                };                });            </script>        </div>"
      ]
     },
     "metadata": {},
     "output_type": "display_data"
    }
   ],
   "source": [
    "# Initialize figure\n",
    "fig = go.Figure()\n",
    "\n",
    "# Add Traces\n",
    "fig.add_trace(\n",
    "    go.Scatter(x=y_,\n",
    "               y=x_,\n",
    "               line=dict(color=\"#33CFA5\")))\n",
    "\n",
    "# Define axies\n",
    "fig.update_xaxes(title_text=\"Distance travelled in km in logarithmic scale\", type=\"log\")\n",
    "fig.update_yaxes(title_text=\"Probability of giving good ratings\") \n",
    "# Set title\n",
    "fig.update_layout(title_text=\"Probability of giving good ratings (stars >=5) depending on distance\")\n",
    "fig.show()"
   ]
  },
  {
   "cell_type": "code",
   "execution_count": 59,
   "metadata": {},
   "outputs": [],
   "source": [
    "# Save html\n",
    "pio.write_html(fig, file='give_good_ratings.html', auto_open=True)"
   ]
  },
  {
   "cell_type": "markdown",
   "metadata": {},
   "source": [
    "# Create the interactive plot for the probability of visiting good rated business study"
   ]
  },
  {
   "cell_type": "code",
   "execution_count": 132,
   "metadata": {
    "scrolled": true
   },
   "outputs": [],
   "source": [
    "df_to_good = pd.read_csv('./data/prob_go__to_good_reviewed_place.csv')"
   ]
  },
  {
   "cell_type": "code",
   "execution_count": 133,
   "metadata": {},
   "outputs": [],
   "source": [
    "x2 = df_to_good['review_id'].values\n",
    "y2 = np.array([   6.57721204,   10.72667525,   17.49397179,   28.53065297,\n",
    "         46.53020873,   75.88541092,  123.76036444,  201.83889923,\n",
    "        329.17599607,  536.84813386,  875.53747015, 1427.90076611,\n",
    "       2328.74167854, 3797.90944447])"
   ]
  },
  {
   "cell_type": "code",
   "execution_count": 134,
   "metadata": {},
   "outputs": [
    {
     "data": {
      "application/vnd.plotly.v1+json": {
       "config": {
        "plotlyServerURL": "https://plot.ly"
       },
       "data": [
        {
         "line": {
          "color": "#33CFA5"
         },
         "type": "scatter",
         "x": [
          6.57721204,
          10.72667525,
          17.49397179,
          28.53065297,
          46.53020873,
          75.88541092,
          123.76036444,
          201.83889923,
          329.17599607,
          536.84813386,
          875.53747015,
          1427.90076611,
          2328.74167854,
          3797.90944447
         ],
         "y": [
          0.04460857124217317,
          0.047620206531179696,
          0.04946725830915202,
          0.05368839256952647,
          0.058894928492268725,
          0.06874500399680256,
          0.03333333333333333,
          0.02695287282117495,
          0.02488041249922346,
          0.02169986616250211,
          0.0195349824822168,
          0.017440912795436022,
          0.022550100771951173,
          0.01763955149047373
         ]
        }
       ],
       "layout": {
        "template": {
         "data": {
          "bar": [
           {
            "error_x": {
             "color": "#2a3f5f"
            },
            "error_y": {
             "color": "#2a3f5f"
            },
            "marker": {
             "line": {
              "color": "#E5ECF6",
              "width": 0.5
             }
            },
            "type": "bar"
           }
          ],
          "barpolar": [
           {
            "marker": {
             "line": {
              "color": "#E5ECF6",
              "width": 0.5
             }
            },
            "type": "barpolar"
           }
          ],
          "carpet": [
           {
            "aaxis": {
             "endlinecolor": "#2a3f5f",
             "gridcolor": "white",
             "linecolor": "white",
             "minorgridcolor": "white",
             "startlinecolor": "#2a3f5f"
            },
            "baxis": {
             "endlinecolor": "#2a3f5f",
             "gridcolor": "white",
             "linecolor": "white",
             "minorgridcolor": "white",
             "startlinecolor": "#2a3f5f"
            },
            "type": "carpet"
           }
          ],
          "choropleth": [
           {
            "colorbar": {
             "outlinewidth": 0,
             "ticks": ""
            },
            "type": "choropleth"
           }
          ],
          "contour": [
           {
            "colorbar": {
             "outlinewidth": 0,
             "ticks": ""
            },
            "colorscale": [
             [
              0,
              "#0d0887"
             ],
             [
              0.1111111111111111,
              "#46039f"
             ],
             [
              0.2222222222222222,
              "#7201a8"
             ],
             [
              0.3333333333333333,
              "#9c179e"
             ],
             [
              0.4444444444444444,
              "#bd3786"
             ],
             [
              0.5555555555555556,
              "#d8576b"
             ],
             [
              0.6666666666666666,
              "#ed7953"
             ],
             [
              0.7777777777777778,
              "#fb9f3a"
             ],
             [
              0.8888888888888888,
              "#fdca26"
             ],
             [
              1,
              "#f0f921"
             ]
            ],
            "type": "contour"
           }
          ],
          "contourcarpet": [
           {
            "colorbar": {
             "outlinewidth": 0,
             "ticks": ""
            },
            "type": "contourcarpet"
           }
          ],
          "heatmap": [
           {
            "colorbar": {
             "outlinewidth": 0,
             "ticks": ""
            },
            "colorscale": [
             [
              0,
              "#0d0887"
             ],
             [
              0.1111111111111111,
              "#46039f"
             ],
             [
              0.2222222222222222,
              "#7201a8"
             ],
             [
              0.3333333333333333,
              "#9c179e"
             ],
             [
              0.4444444444444444,
              "#bd3786"
             ],
             [
              0.5555555555555556,
              "#d8576b"
             ],
             [
              0.6666666666666666,
              "#ed7953"
             ],
             [
              0.7777777777777778,
              "#fb9f3a"
             ],
             [
              0.8888888888888888,
              "#fdca26"
             ],
             [
              1,
              "#f0f921"
             ]
            ],
            "type": "heatmap"
           }
          ],
          "heatmapgl": [
           {
            "colorbar": {
             "outlinewidth": 0,
             "ticks": ""
            },
            "colorscale": [
             [
              0,
              "#0d0887"
             ],
             [
              0.1111111111111111,
              "#46039f"
             ],
             [
              0.2222222222222222,
              "#7201a8"
             ],
             [
              0.3333333333333333,
              "#9c179e"
             ],
             [
              0.4444444444444444,
              "#bd3786"
             ],
             [
              0.5555555555555556,
              "#d8576b"
             ],
             [
              0.6666666666666666,
              "#ed7953"
             ],
             [
              0.7777777777777778,
              "#fb9f3a"
             ],
             [
              0.8888888888888888,
              "#fdca26"
             ],
             [
              1,
              "#f0f921"
             ]
            ],
            "type": "heatmapgl"
           }
          ],
          "histogram": [
           {
            "marker": {
             "colorbar": {
              "outlinewidth": 0,
              "ticks": ""
             }
            },
            "type": "histogram"
           }
          ],
          "histogram2d": [
           {
            "colorbar": {
             "outlinewidth": 0,
             "ticks": ""
            },
            "colorscale": [
             [
              0,
              "#0d0887"
             ],
             [
              0.1111111111111111,
              "#46039f"
             ],
             [
              0.2222222222222222,
              "#7201a8"
             ],
             [
              0.3333333333333333,
              "#9c179e"
             ],
             [
              0.4444444444444444,
              "#bd3786"
             ],
             [
              0.5555555555555556,
              "#d8576b"
             ],
             [
              0.6666666666666666,
              "#ed7953"
             ],
             [
              0.7777777777777778,
              "#fb9f3a"
             ],
             [
              0.8888888888888888,
              "#fdca26"
             ],
             [
              1,
              "#f0f921"
             ]
            ],
            "type": "histogram2d"
           }
          ],
          "histogram2dcontour": [
           {
            "colorbar": {
             "outlinewidth": 0,
             "ticks": ""
            },
            "colorscale": [
             [
              0,
              "#0d0887"
             ],
             [
              0.1111111111111111,
              "#46039f"
             ],
             [
              0.2222222222222222,
              "#7201a8"
             ],
             [
              0.3333333333333333,
              "#9c179e"
             ],
             [
              0.4444444444444444,
              "#bd3786"
             ],
             [
              0.5555555555555556,
              "#d8576b"
             ],
             [
              0.6666666666666666,
              "#ed7953"
             ],
             [
              0.7777777777777778,
              "#fb9f3a"
             ],
             [
              0.8888888888888888,
              "#fdca26"
             ],
             [
              1,
              "#f0f921"
             ]
            ],
            "type": "histogram2dcontour"
           }
          ],
          "mesh3d": [
           {
            "colorbar": {
             "outlinewidth": 0,
             "ticks": ""
            },
            "type": "mesh3d"
           }
          ],
          "parcoords": [
           {
            "line": {
             "colorbar": {
              "outlinewidth": 0,
              "ticks": ""
             }
            },
            "type": "parcoords"
           }
          ],
          "pie": [
           {
            "automargin": true,
            "type": "pie"
           }
          ],
          "scatter": [
           {
            "marker": {
             "colorbar": {
              "outlinewidth": 0,
              "ticks": ""
             }
            },
            "type": "scatter"
           }
          ],
          "scatter3d": [
           {
            "line": {
             "colorbar": {
              "outlinewidth": 0,
              "ticks": ""
             }
            },
            "marker": {
             "colorbar": {
              "outlinewidth": 0,
              "ticks": ""
             }
            },
            "type": "scatter3d"
           }
          ],
          "scattercarpet": [
           {
            "marker": {
             "colorbar": {
              "outlinewidth": 0,
              "ticks": ""
             }
            },
            "type": "scattercarpet"
           }
          ],
          "scattergeo": [
           {
            "marker": {
             "colorbar": {
              "outlinewidth": 0,
              "ticks": ""
             }
            },
            "type": "scattergeo"
           }
          ],
          "scattergl": [
           {
            "marker": {
             "colorbar": {
              "outlinewidth": 0,
              "ticks": ""
             }
            },
            "type": "scattergl"
           }
          ],
          "scattermapbox": [
           {
            "marker": {
             "colorbar": {
              "outlinewidth": 0,
              "ticks": ""
             }
            },
            "type": "scattermapbox"
           }
          ],
          "scatterpolar": [
           {
            "marker": {
             "colorbar": {
              "outlinewidth": 0,
              "ticks": ""
             }
            },
            "type": "scatterpolar"
           }
          ],
          "scatterpolargl": [
           {
            "marker": {
             "colorbar": {
              "outlinewidth": 0,
              "ticks": ""
             }
            },
            "type": "scatterpolargl"
           }
          ],
          "scatterternary": [
           {
            "marker": {
             "colorbar": {
              "outlinewidth": 0,
              "ticks": ""
             }
            },
            "type": "scatterternary"
           }
          ],
          "surface": [
           {
            "colorbar": {
             "outlinewidth": 0,
             "ticks": ""
            },
            "colorscale": [
             [
              0,
              "#0d0887"
             ],
             [
              0.1111111111111111,
              "#46039f"
             ],
             [
              0.2222222222222222,
              "#7201a8"
             ],
             [
              0.3333333333333333,
              "#9c179e"
             ],
             [
              0.4444444444444444,
              "#bd3786"
             ],
             [
              0.5555555555555556,
              "#d8576b"
             ],
             [
              0.6666666666666666,
              "#ed7953"
             ],
             [
              0.7777777777777778,
              "#fb9f3a"
             ],
             [
              0.8888888888888888,
              "#fdca26"
             ],
             [
              1,
              "#f0f921"
             ]
            ],
            "type": "surface"
           }
          ],
          "table": [
           {
            "cells": {
             "fill": {
              "color": "#EBF0F8"
             },
             "line": {
              "color": "white"
             }
            },
            "header": {
             "fill": {
              "color": "#C8D4E3"
             },
             "line": {
              "color": "white"
             }
            },
            "type": "table"
           }
          ]
         },
         "layout": {
          "annotationdefaults": {
           "arrowcolor": "#2a3f5f",
           "arrowhead": 0,
           "arrowwidth": 1
          },
          "autotypenumbers": "strict",
          "coloraxis": {
           "colorbar": {
            "outlinewidth": 0,
            "ticks": ""
           }
          },
          "colorscale": {
           "diverging": [
            [
             0,
             "#8e0152"
            ],
            [
             0.1,
             "#c51b7d"
            ],
            [
             0.2,
             "#de77ae"
            ],
            [
             0.3,
             "#f1b6da"
            ],
            [
             0.4,
             "#fde0ef"
            ],
            [
             0.5,
             "#f7f7f7"
            ],
            [
             0.6,
             "#e6f5d0"
            ],
            [
             0.7,
             "#b8e186"
            ],
            [
             0.8,
             "#7fbc41"
            ],
            [
             0.9,
             "#4d9221"
            ],
            [
             1,
             "#276419"
            ]
           ],
           "sequential": [
            [
             0,
             "#0d0887"
            ],
            [
             0.1111111111111111,
             "#46039f"
            ],
            [
             0.2222222222222222,
             "#7201a8"
            ],
            [
             0.3333333333333333,
             "#9c179e"
            ],
            [
             0.4444444444444444,
             "#bd3786"
            ],
            [
             0.5555555555555556,
             "#d8576b"
            ],
            [
             0.6666666666666666,
             "#ed7953"
            ],
            [
             0.7777777777777778,
             "#fb9f3a"
            ],
            [
             0.8888888888888888,
             "#fdca26"
            ],
            [
             1,
             "#f0f921"
            ]
           ],
           "sequentialminus": [
            [
             0,
             "#0d0887"
            ],
            [
             0.1111111111111111,
             "#46039f"
            ],
            [
             0.2222222222222222,
             "#7201a8"
            ],
            [
             0.3333333333333333,
             "#9c179e"
            ],
            [
             0.4444444444444444,
             "#bd3786"
            ],
            [
             0.5555555555555556,
             "#d8576b"
            ],
            [
             0.6666666666666666,
             "#ed7953"
            ],
            [
             0.7777777777777778,
             "#fb9f3a"
            ],
            [
             0.8888888888888888,
             "#fdca26"
            ],
            [
             1,
             "#f0f921"
            ]
           ]
          },
          "colorway": [
           "#636efa",
           "#EF553B",
           "#00cc96",
           "#ab63fa",
           "#FFA15A",
           "#19d3f3",
           "#FF6692",
           "#B6E880",
           "#FF97FF",
           "#FECB52"
          ],
          "font": {
           "color": "#2a3f5f"
          },
          "geo": {
           "bgcolor": "white",
           "lakecolor": "white",
           "landcolor": "#E5ECF6",
           "showlakes": true,
           "showland": true,
           "subunitcolor": "white"
          },
          "hoverlabel": {
           "align": "left"
          },
          "hovermode": "closest",
          "mapbox": {
           "style": "light"
          },
          "paper_bgcolor": "white",
          "plot_bgcolor": "#E5ECF6",
          "polar": {
           "angularaxis": {
            "gridcolor": "white",
            "linecolor": "white",
            "ticks": ""
           },
           "bgcolor": "#E5ECF6",
           "radialaxis": {
            "gridcolor": "white",
            "linecolor": "white",
            "ticks": ""
           }
          },
          "scene": {
           "xaxis": {
            "backgroundcolor": "#E5ECF6",
            "gridcolor": "white",
            "gridwidth": 2,
            "linecolor": "white",
            "showbackground": true,
            "ticks": "",
            "zerolinecolor": "white"
           },
           "yaxis": {
            "backgroundcolor": "#E5ECF6",
            "gridcolor": "white",
            "gridwidth": 2,
            "linecolor": "white",
            "showbackground": true,
            "ticks": "",
            "zerolinecolor": "white"
           },
           "zaxis": {
            "backgroundcolor": "#E5ECF6",
            "gridcolor": "white",
            "gridwidth": 2,
            "linecolor": "white",
            "showbackground": true,
            "ticks": "",
            "zerolinecolor": "white"
           }
          },
          "shapedefaults": {
           "line": {
            "color": "#2a3f5f"
           }
          },
          "ternary": {
           "aaxis": {
            "gridcolor": "white",
            "linecolor": "white",
            "ticks": ""
           },
           "baxis": {
            "gridcolor": "white",
            "linecolor": "white",
            "ticks": ""
           },
           "bgcolor": "#E5ECF6",
           "caxis": {
            "gridcolor": "white",
            "linecolor": "white",
            "ticks": ""
           }
          },
          "title": {
           "x": 0.05
          },
          "xaxis": {
           "automargin": true,
           "gridcolor": "white",
           "linecolor": "white",
           "ticks": "",
           "title": {
            "standoff": 15
           },
           "zerolinecolor": "white",
           "zerolinewidth": 2
          },
          "yaxis": {
           "automargin": true,
           "gridcolor": "white",
           "linecolor": "white",
           "ticks": "",
           "title": {
            "standoff": 15
           },
           "zerolinecolor": "white",
           "zerolinewidth": 2
          }
         }
        },
        "title": {
         "text": "Probability to go to good rated business (stars >=5) depending on distance"
        },
        "xaxis": {
         "title": {
          "text": "Distance travelled in km in logarithmic scale"
         },
         "type": "log"
        },
        "yaxis": {
         "title": {
          "text": "Probability to go to good rated business"
         }
        }
       }
      },
      "text/html": [
       "<div>                            <div id=\"bcf5e5e6-612c-44be-baeb-2f1303da1b85\" class=\"plotly-graph-div\" style=\"height:525px; width:100%;\"></div>            <script type=\"text/javascript\">                require([\"plotly\"], function(Plotly) {                    window.PLOTLYENV=window.PLOTLYENV || {};                                    if (document.getElementById(\"bcf5e5e6-612c-44be-baeb-2f1303da1b85\")) {                    Plotly.newPlot(                        \"bcf5e5e6-612c-44be-baeb-2f1303da1b85\",                        [{\"line\": {\"color\": \"#33CFA5\"}, \"type\": \"scatter\", \"x\": [6.57721204, 10.72667525, 17.49397179, 28.53065297, 46.53020873, 75.88541092, 123.76036444, 201.83889923, 329.17599607, 536.84813386, 875.53747015, 1427.90076611, 2328.74167854, 3797.90944447], \"y\": [0.04460857124217317, 0.047620206531179696, 0.04946725830915202, 0.05368839256952647, 0.058894928492268725, 0.06874500399680256, 0.03333333333333333, 0.02695287282117495, 0.02488041249922346, 0.02169986616250211, 0.0195349824822168, 0.017440912795436022, 0.022550100771951173, 0.01763955149047373]}],                        {\"template\": {\"data\": {\"bar\": [{\"error_x\": {\"color\": \"#2a3f5f\"}, \"error_y\": {\"color\": \"#2a3f5f\"}, \"marker\": {\"line\": {\"color\": \"#E5ECF6\", \"width\": 0.5}}, \"type\": \"bar\"}], \"barpolar\": [{\"marker\": {\"line\": {\"color\": \"#E5ECF6\", \"width\": 0.5}}, \"type\": \"barpolar\"}], \"carpet\": [{\"aaxis\": {\"endlinecolor\": \"#2a3f5f\", \"gridcolor\": \"white\", \"linecolor\": \"white\", \"minorgridcolor\": \"white\", \"startlinecolor\": \"#2a3f5f\"}, \"baxis\": {\"endlinecolor\": \"#2a3f5f\", \"gridcolor\": \"white\", \"linecolor\": \"white\", \"minorgridcolor\": \"white\", \"startlinecolor\": \"#2a3f5f\"}, \"type\": \"carpet\"}], \"choropleth\": [{\"colorbar\": {\"outlinewidth\": 0, \"ticks\": \"\"}, \"type\": \"choropleth\"}], \"contour\": [{\"colorbar\": {\"outlinewidth\": 0, \"ticks\": \"\"}, \"colorscale\": [[0.0, \"#0d0887\"], [0.1111111111111111, \"#46039f\"], [0.2222222222222222, \"#7201a8\"], [0.3333333333333333, \"#9c179e\"], [0.4444444444444444, \"#bd3786\"], [0.5555555555555556, \"#d8576b\"], [0.6666666666666666, \"#ed7953\"], [0.7777777777777778, \"#fb9f3a\"], [0.8888888888888888, \"#fdca26\"], [1.0, \"#f0f921\"]], \"type\": \"contour\"}], \"contourcarpet\": [{\"colorbar\": {\"outlinewidth\": 0, \"ticks\": \"\"}, \"type\": \"contourcarpet\"}], \"heatmap\": [{\"colorbar\": {\"outlinewidth\": 0, \"ticks\": \"\"}, \"colorscale\": [[0.0, \"#0d0887\"], [0.1111111111111111, \"#46039f\"], [0.2222222222222222, \"#7201a8\"], [0.3333333333333333, \"#9c179e\"], [0.4444444444444444, \"#bd3786\"], [0.5555555555555556, \"#d8576b\"], [0.6666666666666666, \"#ed7953\"], [0.7777777777777778, \"#fb9f3a\"], [0.8888888888888888, \"#fdca26\"], [1.0, \"#f0f921\"]], \"type\": \"heatmap\"}], \"heatmapgl\": [{\"colorbar\": {\"outlinewidth\": 0, \"ticks\": \"\"}, \"colorscale\": [[0.0, \"#0d0887\"], [0.1111111111111111, \"#46039f\"], [0.2222222222222222, \"#7201a8\"], [0.3333333333333333, \"#9c179e\"], [0.4444444444444444, \"#bd3786\"], [0.5555555555555556, \"#d8576b\"], [0.6666666666666666, \"#ed7953\"], [0.7777777777777778, \"#fb9f3a\"], [0.8888888888888888, \"#fdca26\"], [1.0, \"#f0f921\"]], \"type\": \"heatmapgl\"}], \"histogram\": [{\"marker\": {\"colorbar\": {\"outlinewidth\": 0, \"ticks\": \"\"}}, \"type\": \"histogram\"}], \"histogram2d\": [{\"colorbar\": {\"outlinewidth\": 0, \"ticks\": \"\"}, \"colorscale\": [[0.0, \"#0d0887\"], [0.1111111111111111, \"#46039f\"], [0.2222222222222222, \"#7201a8\"], [0.3333333333333333, \"#9c179e\"], [0.4444444444444444, \"#bd3786\"], [0.5555555555555556, \"#d8576b\"], [0.6666666666666666, \"#ed7953\"], [0.7777777777777778, \"#fb9f3a\"], [0.8888888888888888, \"#fdca26\"], [1.0, \"#f0f921\"]], \"type\": \"histogram2d\"}], \"histogram2dcontour\": [{\"colorbar\": {\"outlinewidth\": 0, \"ticks\": \"\"}, \"colorscale\": [[0.0, \"#0d0887\"], [0.1111111111111111, \"#46039f\"], [0.2222222222222222, \"#7201a8\"], [0.3333333333333333, \"#9c179e\"], [0.4444444444444444, \"#bd3786\"], [0.5555555555555556, \"#d8576b\"], [0.6666666666666666, \"#ed7953\"], [0.7777777777777778, \"#fb9f3a\"], [0.8888888888888888, \"#fdca26\"], [1.0, \"#f0f921\"]], \"type\": \"histogram2dcontour\"}], \"mesh3d\": [{\"colorbar\": {\"outlinewidth\": 0, \"ticks\": \"\"}, \"type\": \"mesh3d\"}], \"parcoords\": [{\"line\": {\"colorbar\": {\"outlinewidth\": 0, \"ticks\": \"\"}}, \"type\": \"parcoords\"}], \"pie\": [{\"automargin\": true, \"type\": \"pie\"}], \"scatter\": [{\"marker\": {\"colorbar\": {\"outlinewidth\": 0, \"ticks\": \"\"}}, \"type\": \"scatter\"}], \"scatter3d\": [{\"line\": {\"colorbar\": {\"outlinewidth\": 0, \"ticks\": \"\"}}, \"marker\": {\"colorbar\": {\"outlinewidth\": 0, \"ticks\": \"\"}}, \"type\": \"scatter3d\"}], \"scattercarpet\": [{\"marker\": {\"colorbar\": {\"outlinewidth\": 0, \"ticks\": \"\"}}, \"type\": \"scattercarpet\"}], \"scattergeo\": [{\"marker\": {\"colorbar\": {\"outlinewidth\": 0, \"ticks\": \"\"}}, \"type\": \"scattergeo\"}], \"scattergl\": [{\"marker\": {\"colorbar\": {\"outlinewidth\": 0, \"ticks\": \"\"}}, \"type\": \"scattergl\"}], \"scattermapbox\": [{\"marker\": {\"colorbar\": {\"outlinewidth\": 0, \"ticks\": \"\"}}, \"type\": \"scattermapbox\"}], \"scatterpolar\": [{\"marker\": {\"colorbar\": {\"outlinewidth\": 0, \"ticks\": \"\"}}, \"type\": \"scatterpolar\"}], \"scatterpolargl\": [{\"marker\": {\"colorbar\": {\"outlinewidth\": 0, \"ticks\": \"\"}}, \"type\": \"scatterpolargl\"}], \"scatterternary\": [{\"marker\": {\"colorbar\": {\"outlinewidth\": 0, \"ticks\": \"\"}}, \"type\": \"scatterternary\"}], \"surface\": [{\"colorbar\": {\"outlinewidth\": 0, \"ticks\": \"\"}, \"colorscale\": [[0.0, \"#0d0887\"], [0.1111111111111111, \"#46039f\"], [0.2222222222222222, \"#7201a8\"], [0.3333333333333333, \"#9c179e\"], [0.4444444444444444, \"#bd3786\"], [0.5555555555555556, \"#d8576b\"], [0.6666666666666666, \"#ed7953\"], [0.7777777777777778, \"#fb9f3a\"], [0.8888888888888888, \"#fdca26\"], [1.0, \"#f0f921\"]], \"type\": \"surface\"}], \"table\": [{\"cells\": {\"fill\": {\"color\": \"#EBF0F8\"}, \"line\": {\"color\": \"white\"}}, \"header\": {\"fill\": {\"color\": \"#C8D4E3\"}, \"line\": {\"color\": \"white\"}}, \"type\": \"table\"}]}, \"layout\": {\"annotationdefaults\": {\"arrowcolor\": \"#2a3f5f\", \"arrowhead\": 0, \"arrowwidth\": 1}, \"autotypenumbers\": \"strict\", \"coloraxis\": {\"colorbar\": {\"outlinewidth\": 0, \"ticks\": \"\"}}, \"colorscale\": {\"diverging\": [[0, \"#8e0152\"], [0.1, \"#c51b7d\"], [0.2, \"#de77ae\"], [0.3, \"#f1b6da\"], [0.4, \"#fde0ef\"], [0.5, \"#f7f7f7\"], [0.6, \"#e6f5d0\"], [0.7, \"#b8e186\"], [0.8, \"#7fbc41\"], [0.9, \"#4d9221\"], [1, \"#276419\"]], \"sequential\": [[0.0, \"#0d0887\"], [0.1111111111111111, \"#46039f\"], [0.2222222222222222, \"#7201a8\"], [0.3333333333333333, \"#9c179e\"], [0.4444444444444444, \"#bd3786\"], [0.5555555555555556, \"#d8576b\"], [0.6666666666666666, \"#ed7953\"], [0.7777777777777778, \"#fb9f3a\"], [0.8888888888888888, \"#fdca26\"], [1.0, \"#f0f921\"]], \"sequentialminus\": [[0.0, \"#0d0887\"], [0.1111111111111111, \"#46039f\"], [0.2222222222222222, \"#7201a8\"], [0.3333333333333333, \"#9c179e\"], [0.4444444444444444, \"#bd3786\"], [0.5555555555555556, \"#d8576b\"], [0.6666666666666666, \"#ed7953\"], [0.7777777777777778, \"#fb9f3a\"], [0.8888888888888888, \"#fdca26\"], [1.0, \"#f0f921\"]]}, \"colorway\": [\"#636efa\", \"#EF553B\", \"#00cc96\", \"#ab63fa\", \"#FFA15A\", \"#19d3f3\", \"#FF6692\", \"#B6E880\", \"#FF97FF\", \"#FECB52\"], \"font\": {\"color\": \"#2a3f5f\"}, \"geo\": {\"bgcolor\": \"white\", \"lakecolor\": \"white\", \"landcolor\": \"#E5ECF6\", \"showlakes\": true, \"showland\": true, \"subunitcolor\": \"white\"}, \"hoverlabel\": {\"align\": \"left\"}, \"hovermode\": \"closest\", \"mapbox\": {\"style\": \"light\"}, \"paper_bgcolor\": \"white\", \"plot_bgcolor\": \"#E5ECF6\", \"polar\": {\"angularaxis\": {\"gridcolor\": \"white\", \"linecolor\": \"white\", \"ticks\": \"\"}, \"bgcolor\": \"#E5ECF6\", \"radialaxis\": {\"gridcolor\": \"white\", \"linecolor\": \"white\", \"ticks\": \"\"}}, \"scene\": {\"xaxis\": {\"backgroundcolor\": \"#E5ECF6\", \"gridcolor\": \"white\", \"gridwidth\": 2, \"linecolor\": \"white\", \"showbackground\": true, \"ticks\": \"\", \"zerolinecolor\": \"white\"}, \"yaxis\": {\"backgroundcolor\": \"#E5ECF6\", \"gridcolor\": \"white\", \"gridwidth\": 2, \"linecolor\": \"white\", \"showbackground\": true, \"ticks\": \"\", \"zerolinecolor\": \"white\"}, \"zaxis\": {\"backgroundcolor\": \"#E5ECF6\", \"gridcolor\": \"white\", \"gridwidth\": 2, \"linecolor\": \"white\", \"showbackground\": true, \"ticks\": \"\", \"zerolinecolor\": \"white\"}}, \"shapedefaults\": {\"line\": {\"color\": \"#2a3f5f\"}}, \"ternary\": {\"aaxis\": {\"gridcolor\": \"white\", \"linecolor\": \"white\", \"ticks\": \"\"}, \"baxis\": {\"gridcolor\": \"white\", \"linecolor\": \"white\", \"ticks\": \"\"}, \"bgcolor\": \"#E5ECF6\", \"caxis\": {\"gridcolor\": \"white\", \"linecolor\": \"white\", \"ticks\": \"\"}}, \"title\": {\"x\": 0.05}, \"xaxis\": {\"automargin\": true, \"gridcolor\": \"white\", \"linecolor\": \"white\", \"ticks\": \"\", \"title\": {\"standoff\": 15}, \"zerolinecolor\": \"white\", \"zerolinewidth\": 2}, \"yaxis\": {\"automargin\": true, \"gridcolor\": \"white\", \"linecolor\": \"white\", \"ticks\": \"\", \"title\": {\"standoff\": 15}, \"zerolinecolor\": \"white\", \"zerolinewidth\": 2}}}, \"title\": {\"text\": \"Probability to go to good rated business (stars >=5) depending on distance\"}, \"xaxis\": {\"title\": {\"text\": \"Distance travelled in km in logarithmic scale\"}, \"type\": \"log\"}, \"yaxis\": {\"title\": {\"text\": \"Probability to go to good rated business\"}}},                        {\"responsive\": true}                    ).then(function(){\n",
       "                            \n",
       "var gd = document.getElementById('bcf5e5e6-612c-44be-baeb-2f1303da1b85');\n",
       "var x = new MutationObserver(function (mutations, observer) {{\n",
       "        var display = window.getComputedStyle(gd).display;\n",
       "        if (!display || display === 'none') {{\n",
       "            console.log([gd, 'removed!']);\n",
       "            Plotly.purge(gd);\n",
       "            observer.disconnect();\n",
       "        }}\n",
       "}});\n",
       "\n",
       "// Listen for the removal of the full notebook cells\n",
       "var notebookContainer = gd.closest('#notebook-container');\n",
       "if (notebookContainer) {{\n",
       "    x.observe(notebookContainer, {childList: true});\n",
       "}}\n",
       "\n",
       "// Listen for the clearing of the current output cell\n",
       "var outputEl = gd.closest('.output');\n",
       "if (outputEl) {{\n",
       "    x.observe(outputEl, {childList: true});\n",
       "}}\n",
       "\n",
       "                        })                };                });            </script>        </div>"
      ]
     },
     "metadata": {},
     "output_type": "display_data"
    }
   ],
   "source": [
    "# Initialize figure\n",
    "fig = go.Figure()\n",
    "\n",
    "# Add Traces\n",
    "fig.add_trace(\n",
    "    go.Scatter(x=y2,\n",
    "               y=x2,\n",
    "               line=dict(color=\"#33CFA5\")))\n",
    "\n",
    "# Define axies\n",
    "fig.update_xaxes(title_text=\"Distance travelled in km in logarithmic scale\", type=\"log\")\n",
    "fig.update_yaxes(title_text=\"Probability to go to good rated business\") \n",
    "# Set title\n",
    "fig.update_layout(title_text=\"Probability to go to good rated business (stars >=5) depending on distance\")\n",
    "fig.show()"
   ]
  },
  {
   "cell_type": "code",
   "execution_count": 135,
   "metadata": {},
   "outputs": [],
   "source": [
    "# Save html\n",
    "pio.write_html(fig, file='go_to_good_rated_business.html', auto_open=True)"
   ]
  },
  {
   "cell_type": "markdown",
   "metadata": {},
   "source": [
    "# Create the interactive plot for words of mouth on friends' recommendation study"
   ]
  },
  {
   "cell_type": "code",
   "execution_count": 154,
   "metadata": {},
   "outputs": [],
   "source": [
    "# Load dataframes\n",
    "mouth_friend = pd.read_csv('./for_plotting/basic_to_plot.csv')"
   ]
  },
  {
   "cell_type": "code",
   "execution_count": 155,
   "metadata": {},
   "outputs": [
    {
     "data": {
      "application/vnd.plotly.v1+json": {
       "config": {
        "plotlyServerURL": "https://plot.ly"
       },
       "data": [
        {
         "line": {
          "color": "#FF0000"
         },
         "name": "Good reviews",
         "type": "scatter",
         "x": [
          0.1,
          0.3305298396179653,
          1.092499748778779,
          3.6110376674651734,
          11.935557010816956,
          39.4505774453641,
          130.39593035852323,
          430.9974594823805,
          1424.5752115846176,
          4708.64616208793
         ],
         "y": [
          0.03660510387335654,
          0.06235961840357445,
          0.07617843154107781,
          0.08199288400660193,
          0.08051319115023388,
          0.07273049831089205,
          0.053238462187473634,
          0.0538052443962484,
          0.04269896026825561,
          0.04595799920437177
         ]
        },
        {
         "line": {
          "color": "#0000FF"
         },
         "name": "Bad reviews",
         "type": "scatter",
         "x": [
          0.1,
          0.3305298396179653,
          1.092499748778779,
          3.6110376674651734,
          11.935557010816956,
          39.4505774453641,
          130.39593035852323,
          430.9974594823805,
          1424.5752115846176,
          4708.64616208793
         ],
         "y": [
          0.010198878123406424,
          0.01923680714889506,
          0.023584592905467626,
          0.023847371411564167,
          0.022886444547406383,
          0.021623360453820184,
          0.013780690159462271,
          0.015804713727028366,
          0.008853400236412323,
          0.013002240321601306
         ]
        }
       ],
       "layout": {
        "template": {
         "data": {
          "bar": [
           {
            "error_x": {
             "color": "#2a3f5f"
            },
            "error_y": {
             "color": "#2a3f5f"
            },
            "marker": {
             "line": {
              "color": "#E5ECF6",
              "width": 0.5
             }
            },
            "type": "bar"
           }
          ],
          "barpolar": [
           {
            "marker": {
             "line": {
              "color": "#E5ECF6",
              "width": 0.5
             }
            },
            "type": "barpolar"
           }
          ],
          "carpet": [
           {
            "aaxis": {
             "endlinecolor": "#2a3f5f",
             "gridcolor": "white",
             "linecolor": "white",
             "minorgridcolor": "white",
             "startlinecolor": "#2a3f5f"
            },
            "baxis": {
             "endlinecolor": "#2a3f5f",
             "gridcolor": "white",
             "linecolor": "white",
             "minorgridcolor": "white",
             "startlinecolor": "#2a3f5f"
            },
            "type": "carpet"
           }
          ],
          "choropleth": [
           {
            "colorbar": {
             "outlinewidth": 0,
             "ticks": ""
            },
            "type": "choropleth"
           }
          ],
          "contour": [
           {
            "colorbar": {
             "outlinewidth": 0,
             "ticks": ""
            },
            "colorscale": [
             [
              0,
              "#0d0887"
             ],
             [
              0.1111111111111111,
              "#46039f"
             ],
             [
              0.2222222222222222,
              "#7201a8"
             ],
             [
              0.3333333333333333,
              "#9c179e"
             ],
             [
              0.4444444444444444,
              "#bd3786"
             ],
             [
              0.5555555555555556,
              "#d8576b"
             ],
             [
              0.6666666666666666,
              "#ed7953"
             ],
             [
              0.7777777777777778,
              "#fb9f3a"
             ],
             [
              0.8888888888888888,
              "#fdca26"
             ],
             [
              1,
              "#f0f921"
             ]
            ],
            "type": "contour"
           }
          ],
          "contourcarpet": [
           {
            "colorbar": {
             "outlinewidth": 0,
             "ticks": ""
            },
            "type": "contourcarpet"
           }
          ],
          "heatmap": [
           {
            "colorbar": {
             "outlinewidth": 0,
             "ticks": ""
            },
            "colorscale": [
             [
              0,
              "#0d0887"
             ],
             [
              0.1111111111111111,
              "#46039f"
             ],
             [
              0.2222222222222222,
              "#7201a8"
             ],
             [
              0.3333333333333333,
              "#9c179e"
             ],
             [
              0.4444444444444444,
              "#bd3786"
             ],
             [
              0.5555555555555556,
              "#d8576b"
             ],
             [
              0.6666666666666666,
              "#ed7953"
             ],
             [
              0.7777777777777778,
              "#fb9f3a"
             ],
             [
              0.8888888888888888,
              "#fdca26"
             ],
             [
              1,
              "#f0f921"
             ]
            ],
            "type": "heatmap"
           }
          ],
          "heatmapgl": [
           {
            "colorbar": {
             "outlinewidth": 0,
             "ticks": ""
            },
            "colorscale": [
             [
              0,
              "#0d0887"
             ],
             [
              0.1111111111111111,
              "#46039f"
             ],
             [
              0.2222222222222222,
              "#7201a8"
             ],
             [
              0.3333333333333333,
              "#9c179e"
             ],
             [
              0.4444444444444444,
              "#bd3786"
             ],
             [
              0.5555555555555556,
              "#d8576b"
             ],
             [
              0.6666666666666666,
              "#ed7953"
             ],
             [
              0.7777777777777778,
              "#fb9f3a"
             ],
             [
              0.8888888888888888,
              "#fdca26"
             ],
             [
              1,
              "#f0f921"
             ]
            ],
            "type": "heatmapgl"
           }
          ],
          "histogram": [
           {
            "marker": {
             "colorbar": {
              "outlinewidth": 0,
              "ticks": ""
             }
            },
            "type": "histogram"
           }
          ],
          "histogram2d": [
           {
            "colorbar": {
             "outlinewidth": 0,
             "ticks": ""
            },
            "colorscale": [
             [
              0,
              "#0d0887"
             ],
             [
              0.1111111111111111,
              "#46039f"
             ],
             [
              0.2222222222222222,
              "#7201a8"
             ],
             [
              0.3333333333333333,
              "#9c179e"
             ],
             [
              0.4444444444444444,
              "#bd3786"
             ],
             [
              0.5555555555555556,
              "#d8576b"
             ],
             [
              0.6666666666666666,
              "#ed7953"
             ],
             [
              0.7777777777777778,
              "#fb9f3a"
             ],
             [
              0.8888888888888888,
              "#fdca26"
             ],
             [
              1,
              "#f0f921"
             ]
            ],
            "type": "histogram2d"
           }
          ],
          "histogram2dcontour": [
           {
            "colorbar": {
             "outlinewidth": 0,
             "ticks": ""
            },
            "colorscale": [
             [
              0,
              "#0d0887"
             ],
             [
              0.1111111111111111,
              "#46039f"
             ],
             [
              0.2222222222222222,
              "#7201a8"
             ],
             [
              0.3333333333333333,
              "#9c179e"
             ],
             [
              0.4444444444444444,
              "#bd3786"
             ],
             [
              0.5555555555555556,
              "#d8576b"
             ],
             [
              0.6666666666666666,
              "#ed7953"
             ],
             [
              0.7777777777777778,
              "#fb9f3a"
             ],
             [
              0.8888888888888888,
              "#fdca26"
             ],
             [
              1,
              "#f0f921"
             ]
            ],
            "type": "histogram2dcontour"
           }
          ],
          "mesh3d": [
           {
            "colorbar": {
             "outlinewidth": 0,
             "ticks": ""
            },
            "type": "mesh3d"
           }
          ],
          "parcoords": [
           {
            "line": {
             "colorbar": {
              "outlinewidth": 0,
              "ticks": ""
             }
            },
            "type": "parcoords"
           }
          ],
          "pie": [
           {
            "automargin": true,
            "type": "pie"
           }
          ],
          "scatter": [
           {
            "marker": {
             "colorbar": {
              "outlinewidth": 0,
              "ticks": ""
             }
            },
            "type": "scatter"
           }
          ],
          "scatter3d": [
           {
            "line": {
             "colorbar": {
              "outlinewidth": 0,
              "ticks": ""
             }
            },
            "marker": {
             "colorbar": {
              "outlinewidth": 0,
              "ticks": ""
             }
            },
            "type": "scatter3d"
           }
          ],
          "scattercarpet": [
           {
            "marker": {
             "colorbar": {
              "outlinewidth": 0,
              "ticks": ""
             }
            },
            "type": "scattercarpet"
           }
          ],
          "scattergeo": [
           {
            "marker": {
             "colorbar": {
              "outlinewidth": 0,
              "ticks": ""
             }
            },
            "type": "scattergeo"
           }
          ],
          "scattergl": [
           {
            "marker": {
             "colorbar": {
              "outlinewidth": 0,
              "ticks": ""
             }
            },
            "type": "scattergl"
           }
          ],
          "scattermapbox": [
           {
            "marker": {
             "colorbar": {
              "outlinewidth": 0,
              "ticks": ""
             }
            },
            "type": "scattermapbox"
           }
          ],
          "scatterpolar": [
           {
            "marker": {
             "colorbar": {
              "outlinewidth": 0,
              "ticks": ""
             }
            },
            "type": "scatterpolar"
           }
          ],
          "scatterpolargl": [
           {
            "marker": {
             "colorbar": {
              "outlinewidth": 0,
              "ticks": ""
             }
            },
            "type": "scatterpolargl"
           }
          ],
          "scatterternary": [
           {
            "marker": {
             "colorbar": {
              "outlinewidth": 0,
              "ticks": ""
             }
            },
            "type": "scatterternary"
           }
          ],
          "surface": [
           {
            "colorbar": {
             "outlinewidth": 0,
             "ticks": ""
            },
            "colorscale": [
             [
              0,
              "#0d0887"
             ],
             [
              0.1111111111111111,
              "#46039f"
             ],
             [
              0.2222222222222222,
              "#7201a8"
             ],
             [
              0.3333333333333333,
              "#9c179e"
             ],
             [
              0.4444444444444444,
              "#bd3786"
             ],
             [
              0.5555555555555556,
              "#d8576b"
             ],
             [
              0.6666666666666666,
              "#ed7953"
             ],
             [
              0.7777777777777778,
              "#fb9f3a"
             ],
             [
              0.8888888888888888,
              "#fdca26"
             ],
             [
              1,
              "#f0f921"
             ]
            ],
            "type": "surface"
           }
          ],
          "table": [
           {
            "cells": {
             "fill": {
              "color": "#EBF0F8"
             },
             "line": {
              "color": "white"
             }
            },
            "header": {
             "fill": {
              "color": "#C8D4E3"
             },
             "line": {
              "color": "white"
             }
            },
            "type": "table"
           }
          ]
         },
         "layout": {
          "annotationdefaults": {
           "arrowcolor": "#2a3f5f",
           "arrowhead": 0,
           "arrowwidth": 1
          },
          "autotypenumbers": "strict",
          "coloraxis": {
           "colorbar": {
            "outlinewidth": 0,
            "ticks": ""
           }
          },
          "colorscale": {
           "diverging": [
            [
             0,
             "#8e0152"
            ],
            [
             0.1,
             "#c51b7d"
            ],
            [
             0.2,
             "#de77ae"
            ],
            [
             0.3,
             "#f1b6da"
            ],
            [
             0.4,
             "#fde0ef"
            ],
            [
             0.5,
             "#f7f7f7"
            ],
            [
             0.6,
             "#e6f5d0"
            ],
            [
             0.7,
             "#b8e186"
            ],
            [
             0.8,
             "#7fbc41"
            ],
            [
             0.9,
             "#4d9221"
            ],
            [
             1,
             "#276419"
            ]
           ],
           "sequential": [
            [
             0,
             "#0d0887"
            ],
            [
             0.1111111111111111,
             "#46039f"
            ],
            [
             0.2222222222222222,
             "#7201a8"
            ],
            [
             0.3333333333333333,
             "#9c179e"
            ],
            [
             0.4444444444444444,
             "#bd3786"
            ],
            [
             0.5555555555555556,
             "#d8576b"
            ],
            [
             0.6666666666666666,
             "#ed7953"
            ],
            [
             0.7777777777777778,
             "#fb9f3a"
            ],
            [
             0.8888888888888888,
             "#fdca26"
            ],
            [
             1,
             "#f0f921"
            ]
           ],
           "sequentialminus": [
            [
             0,
             "#0d0887"
            ],
            [
             0.1111111111111111,
             "#46039f"
            ],
            [
             0.2222222222222222,
             "#7201a8"
            ],
            [
             0.3333333333333333,
             "#9c179e"
            ],
            [
             0.4444444444444444,
             "#bd3786"
            ],
            [
             0.5555555555555556,
             "#d8576b"
            ],
            [
             0.6666666666666666,
             "#ed7953"
            ],
            [
             0.7777777777777778,
             "#fb9f3a"
            ],
            [
             0.8888888888888888,
             "#fdca26"
            ],
            [
             1,
             "#f0f921"
            ]
           ]
          },
          "colorway": [
           "#636efa",
           "#EF553B",
           "#00cc96",
           "#ab63fa",
           "#FFA15A",
           "#19d3f3",
           "#FF6692",
           "#B6E880",
           "#FF97FF",
           "#FECB52"
          ],
          "font": {
           "color": "#2a3f5f"
          },
          "geo": {
           "bgcolor": "white",
           "lakecolor": "white",
           "landcolor": "#E5ECF6",
           "showlakes": true,
           "showland": true,
           "subunitcolor": "white"
          },
          "hoverlabel": {
           "align": "left"
          },
          "hovermode": "closest",
          "mapbox": {
           "style": "light"
          },
          "paper_bgcolor": "white",
          "plot_bgcolor": "#E5ECF6",
          "polar": {
           "angularaxis": {
            "gridcolor": "white",
            "linecolor": "white",
            "ticks": ""
           },
           "bgcolor": "#E5ECF6",
           "radialaxis": {
            "gridcolor": "white",
            "linecolor": "white",
            "ticks": ""
           }
          },
          "scene": {
           "xaxis": {
            "backgroundcolor": "#E5ECF6",
            "gridcolor": "white",
            "gridwidth": 2,
            "linecolor": "white",
            "showbackground": true,
            "ticks": "",
            "zerolinecolor": "white"
           },
           "yaxis": {
            "backgroundcolor": "#E5ECF6",
            "gridcolor": "white",
            "gridwidth": 2,
            "linecolor": "white",
            "showbackground": true,
            "ticks": "",
            "zerolinecolor": "white"
           },
           "zaxis": {
            "backgroundcolor": "#E5ECF6",
            "gridcolor": "white",
            "gridwidth": 2,
            "linecolor": "white",
            "showbackground": true,
            "ticks": "",
            "zerolinecolor": "white"
           }
          },
          "shapedefaults": {
           "line": {
            "color": "#2a3f5f"
           }
          },
          "ternary": {
           "aaxis": {
            "gridcolor": "white",
            "linecolor": "white",
            "ticks": ""
           },
           "baxis": {
            "gridcolor": "white",
            "linecolor": "white",
            "ticks": ""
           },
           "bgcolor": "#E5ECF6",
           "caxis": {
            "gridcolor": "white",
            "linecolor": "white",
            "ticks": ""
           }
          },
          "title": {
           "x": 0.05
          },
          "xaxis": {
           "automargin": true,
           "gridcolor": "white",
           "linecolor": "white",
           "ticks": "",
           "title": {
            "standoff": 15
           },
           "zerolinecolor": "white",
           "zerolinewidth": 2
          },
          "yaxis": {
           "automargin": true,
           "gridcolor": "white",
           "linecolor": "white",
           "ticks": "",
           "title": {
            "standoff": 15
           },
           "zerolinecolor": "white",
           "zerolinewidth": 2
          }
         }
        },
        "title": {
         "text": "Influence of a friends' recommendations on mobility"
        },
        "xaxis": {
         "title": {
          "text": "Distance travelled in km in logarithmic scale"
         },
         "type": "log"
        },
        "yaxis": {
         "title": {
          "text": "Probability to go to good rated business"
         }
        }
       }
      },
      "text/html": [
       "<div>                            <div id=\"36037936-9868-48e8-9a69-d5dd7236c79d\" class=\"plotly-graph-div\" style=\"height:525px; width:100%;\"></div>            <script type=\"text/javascript\">                require([\"plotly\"], function(Plotly) {                    window.PLOTLYENV=window.PLOTLYENV || {};                                    if (document.getElementById(\"36037936-9868-48e8-9a69-d5dd7236c79d\")) {                    Plotly.newPlot(                        \"36037936-9868-48e8-9a69-d5dd7236c79d\",                        [{\"line\": {\"color\": \"#FF0000\"}, \"name\": \"Good reviews\", \"type\": \"scatter\", \"x\": [0.1, 0.3305298396179653, 1.092499748778779, 3.6110376674651734, 11.935557010816956, 39.4505774453641, 130.39593035852323, 430.9974594823805, 1424.5752115846176, 4708.64616208793], \"y\": [0.03660510387335654, 0.06235961840357445, 0.07617843154107781, 0.08199288400660193, 0.08051319115023388, 0.07273049831089205, 0.053238462187473634, 0.0538052443962484, 0.04269896026825561, 0.04595799920437177]}, {\"line\": {\"color\": \"#0000FF\"}, \"name\": \"Bad reviews\", \"type\": \"scatter\", \"x\": [0.1, 0.3305298396179653, 1.092499748778779, 3.6110376674651734, 11.935557010816956, 39.4505774453641, 130.39593035852323, 430.9974594823805, 1424.5752115846176, 4708.64616208793], \"y\": [0.010198878123406424, 0.01923680714889506, 0.023584592905467626, 0.023847371411564167, 0.022886444547406383, 0.021623360453820184, 0.013780690159462271, 0.015804713727028366, 0.008853400236412323, 0.013002240321601306]}],                        {\"template\": {\"data\": {\"bar\": [{\"error_x\": {\"color\": \"#2a3f5f\"}, \"error_y\": {\"color\": \"#2a3f5f\"}, \"marker\": {\"line\": {\"color\": \"#E5ECF6\", \"width\": 0.5}}, \"type\": \"bar\"}], \"barpolar\": [{\"marker\": {\"line\": {\"color\": \"#E5ECF6\", \"width\": 0.5}}, \"type\": \"barpolar\"}], \"carpet\": [{\"aaxis\": {\"endlinecolor\": \"#2a3f5f\", \"gridcolor\": \"white\", \"linecolor\": \"white\", \"minorgridcolor\": \"white\", \"startlinecolor\": \"#2a3f5f\"}, \"baxis\": {\"endlinecolor\": \"#2a3f5f\", \"gridcolor\": \"white\", \"linecolor\": \"white\", \"minorgridcolor\": \"white\", \"startlinecolor\": \"#2a3f5f\"}, \"type\": \"carpet\"}], \"choropleth\": [{\"colorbar\": {\"outlinewidth\": 0, \"ticks\": \"\"}, \"type\": \"choropleth\"}], \"contour\": [{\"colorbar\": {\"outlinewidth\": 0, \"ticks\": \"\"}, \"colorscale\": [[0.0, \"#0d0887\"], [0.1111111111111111, \"#46039f\"], [0.2222222222222222, \"#7201a8\"], [0.3333333333333333, \"#9c179e\"], [0.4444444444444444, \"#bd3786\"], [0.5555555555555556, \"#d8576b\"], [0.6666666666666666, \"#ed7953\"], [0.7777777777777778, \"#fb9f3a\"], [0.8888888888888888, \"#fdca26\"], [1.0, \"#f0f921\"]], \"type\": \"contour\"}], \"contourcarpet\": [{\"colorbar\": {\"outlinewidth\": 0, \"ticks\": \"\"}, \"type\": \"contourcarpet\"}], \"heatmap\": [{\"colorbar\": {\"outlinewidth\": 0, \"ticks\": \"\"}, \"colorscale\": [[0.0, \"#0d0887\"], [0.1111111111111111, \"#46039f\"], [0.2222222222222222, \"#7201a8\"], [0.3333333333333333, \"#9c179e\"], [0.4444444444444444, \"#bd3786\"], [0.5555555555555556, \"#d8576b\"], [0.6666666666666666, \"#ed7953\"], [0.7777777777777778, \"#fb9f3a\"], [0.8888888888888888, \"#fdca26\"], [1.0, \"#f0f921\"]], \"type\": \"heatmap\"}], \"heatmapgl\": [{\"colorbar\": {\"outlinewidth\": 0, \"ticks\": \"\"}, \"colorscale\": [[0.0, \"#0d0887\"], [0.1111111111111111, \"#46039f\"], [0.2222222222222222, \"#7201a8\"], [0.3333333333333333, \"#9c179e\"], [0.4444444444444444, \"#bd3786\"], [0.5555555555555556, \"#d8576b\"], [0.6666666666666666, \"#ed7953\"], [0.7777777777777778, \"#fb9f3a\"], [0.8888888888888888, \"#fdca26\"], [1.0, \"#f0f921\"]], \"type\": \"heatmapgl\"}], \"histogram\": [{\"marker\": {\"colorbar\": {\"outlinewidth\": 0, \"ticks\": \"\"}}, \"type\": \"histogram\"}], \"histogram2d\": [{\"colorbar\": {\"outlinewidth\": 0, \"ticks\": \"\"}, \"colorscale\": [[0.0, \"#0d0887\"], [0.1111111111111111, \"#46039f\"], [0.2222222222222222, \"#7201a8\"], [0.3333333333333333, \"#9c179e\"], [0.4444444444444444, \"#bd3786\"], [0.5555555555555556, \"#d8576b\"], [0.6666666666666666, \"#ed7953\"], [0.7777777777777778, \"#fb9f3a\"], [0.8888888888888888, \"#fdca26\"], [1.0, \"#f0f921\"]], \"type\": \"histogram2d\"}], \"histogram2dcontour\": [{\"colorbar\": {\"outlinewidth\": 0, \"ticks\": \"\"}, \"colorscale\": [[0.0, \"#0d0887\"], [0.1111111111111111, \"#46039f\"], [0.2222222222222222, \"#7201a8\"], [0.3333333333333333, \"#9c179e\"], [0.4444444444444444, \"#bd3786\"], [0.5555555555555556, \"#d8576b\"], [0.6666666666666666, \"#ed7953\"], [0.7777777777777778, \"#fb9f3a\"], [0.8888888888888888, \"#fdca26\"], [1.0, \"#f0f921\"]], \"type\": \"histogram2dcontour\"}], \"mesh3d\": [{\"colorbar\": {\"outlinewidth\": 0, \"ticks\": \"\"}, \"type\": \"mesh3d\"}], \"parcoords\": [{\"line\": {\"colorbar\": {\"outlinewidth\": 0, \"ticks\": \"\"}}, \"type\": \"parcoords\"}], \"pie\": [{\"automargin\": true, \"type\": \"pie\"}], \"scatter\": [{\"marker\": {\"colorbar\": {\"outlinewidth\": 0, \"ticks\": \"\"}}, \"type\": \"scatter\"}], \"scatter3d\": [{\"line\": {\"colorbar\": {\"outlinewidth\": 0, \"ticks\": \"\"}}, \"marker\": {\"colorbar\": {\"outlinewidth\": 0, \"ticks\": \"\"}}, \"type\": \"scatter3d\"}], \"scattercarpet\": [{\"marker\": {\"colorbar\": {\"outlinewidth\": 0, \"ticks\": \"\"}}, \"type\": \"scattercarpet\"}], \"scattergeo\": [{\"marker\": {\"colorbar\": {\"outlinewidth\": 0, \"ticks\": \"\"}}, \"type\": \"scattergeo\"}], \"scattergl\": [{\"marker\": {\"colorbar\": {\"outlinewidth\": 0, \"ticks\": \"\"}}, \"type\": \"scattergl\"}], \"scattermapbox\": [{\"marker\": {\"colorbar\": {\"outlinewidth\": 0, \"ticks\": \"\"}}, \"type\": \"scattermapbox\"}], \"scatterpolar\": [{\"marker\": {\"colorbar\": {\"outlinewidth\": 0, \"ticks\": \"\"}}, \"type\": \"scatterpolar\"}], \"scatterpolargl\": [{\"marker\": {\"colorbar\": {\"outlinewidth\": 0, \"ticks\": \"\"}}, \"type\": \"scatterpolargl\"}], \"scatterternary\": [{\"marker\": {\"colorbar\": {\"outlinewidth\": 0, \"ticks\": \"\"}}, \"type\": \"scatterternary\"}], \"surface\": [{\"colorbar\": {\"outlinewidth\": 0, \"ticks\": \"\"}, \"colorscale\": [[0.0, \"#0d0887\"], [0.1111111111111111, \"#46039f\"], [0.2222222222222222, \"#7201a8\"], [0.3333333333333333, \"#9c179e\"], [0.4444444444444444, \"#bd3786\"], [0.5555555555555556, \"#d8576b\"], [0.6666666666666666, \"#ed7953\"], [0.7777777777777778, \"#fb9f3a\"], [0.8888888888888888, \"#fdca26\"], [1.0, \"#f0f921\"]], \"type\": \"surface\"}], \"table\": [{\"cells\": {\"fill\": {\"color\": \"#EBF0F8\"}, \"line\": {\"color\": \"white\"}}, \"header\": {\"fill\": {\"color\": \"#C8D4E3\"}, \"line\": {\"color\": \"white\"}}, \"type\": \"table\"}]}, \"layout\": {\"annotationdefaults\": {\"arrowcolor\": \"#2a3f5f\", \"arrowhead\": 0, \"arrowwidth\": 1}, \"autotypenumbers\": \"strict\", \"coloraxis\": {\"colorbar\": {\"outlinewidth\": 0, \"ticks\": \"\"}}, \"colorscale\": {\"diverging\": [[0, \"#8e0152\"], [0.1, \"#c51b7d\"], [0.2, \"#de77ae\"], [0.3, \"#f1b6da\"], [0.4, \"#fde0ef\"], [0.5, \"#f7f7f7\"], [0.6, \"#e6f5d0\"], [0.7, \"#b8e186\"], [0.8, \"#7fbc41\"], [0.9, \"#4d9221\"], [1, \"#276419\"]], \"sequential\": [[0.0, \"#0d0887\"], [0.1111111111111111, \"#46039f\"], [0.2222222222222222, \"#7201a8\"], [0.3333333333333333, \"#9c179e\"], [0.4444444444444444, \"#bd3786\"], [0.5555555555555556, \"#d8576b\"], [0.6666666666666666, \"#ed7953\"], [0.7777777777777778, \"#fb9f3a\"], [0.8888888888888888, \"#fdca26\"], [1.0, \"#f0f921\"]], \"sequentialminus\": [[0.0, \"#0d0887\"], [0.1111111111111111, \"#46039f\"], [0.2222222222222222, \"#7201a8\"], [0.3333333333333333, \"#9c179e\"], [0.4444444444444444, \"#bd3786\"], [0.5555555555555556, \"#d8576b\"], [0.6666666666666666, \"#ed7953\"], [0.7777777777777778, \"#fb9f3a\"], [0.8888888888888888, \"#fdca26\"], [1.0, \"#f0f921\"]]}, \"colorway\": [\"#636efa\", \"#EF553B\", \"#00cc96\", \"#ab63fa\", \"#FFA15A\", \"#19d3f3\", \"#FF6692\", \"#B6E880\", \"#FF97FF\", \"#FECB52\"], \"font\": {\"color\": \"#2a3f5f\"}, \"geo\": {\"bgcolor\": \"white\", \"lakecolor\": \"white\", \"landcolor\": \"#E5ECF6\", \"showlakes\": true, \"showland\": true, \"subunitcolor\": \"white\"}, \"hoverlabel\": {\"align\": \"left\"}, \"hovermode\": \"closest\", \"mapbox\": {\"style\": \"light\"}, \"paper_bgcolor\": \"white\", \"plot_bgcolor\": \"#E5ECF6\", \"polar\": {\"angularaxis\": {\"gridcolor\": \"white\", \"linecolor\": \"white\", \"ticks\": \"\"}, \"bgcolor\": \"#E5ECF6\", \"radialaxis\": {\"gridcolor\": \"white\", \"linecolor\": \"white\", \"ticks\": \"\"}}, \"scene\": {\"xaxis\": {\"backgroundcolor\": \"#E5ECF6\", \"gridcolor\": \"white\", \"gridwidth\": 2, \"linecolor\": \"white\", \"showbackground\": true, \"ticks\": \"\", \"zerolinecolor\": \"white\"}, \"yaxis\": {\"backgroundcolor\": \"#E5ECF6\", \"gridcolor\": \"white\", \"gridwidth\": 2, \"linecolor\": \"white\", \"showbackground\": true, \"ticks\": \"\", \"zerolinecolor\": \"white\"}, \"zaxis\": {\"backgroundcolor\": \"#E5ECF6\", \"gridcolor\": \"white\", \"gridwidth\": 2, \"linecolor\": \"white\", \"showbackground\": true, \"ticks\": \"\", \"zerolinecolor\": \"white\"}}, \"shapedefaults\": {\"line\": {\"color\": \"#2a3f5f\"}}, \"ternary\": {\"aaxis\": {\"gridcolor\": \"white\", \"linecolor\": \"white\", \"ticks\": \"\"}, \"baxis\": {\"gridcolor\": \"white\", \"linecolor\": \"white\", \"ticks\": \"\"}, \"bgcolor\": \"#E5ECF6\", \"caxis\": {\"gridcolor\": \"white\", \"linecolor\": \"white\", \"ticks\": \"\"}}, \"title\": {\"x\": 0.05}, \"xaxis\": {\"automargin\": true, \"gridcolor\": \"white\", \"linecolor\": \"white\", \"ticks\": \"\", \"title\": {\"standoff\": 15}, \"zerolinecolor\": \"white\", \"zerolinewidth\": 2}, \"yaxis\": {\"automargin\": true, \"gridcolor\": \"white\", \"linecolor\": \"white\", \"ticks\": \"\", \"title\": {\"standoff\": 15}, \"zerolinecolor\": \"white\", \"zerolinewidth\": 2}}}, \"title\": {\"text\": \"Influence of a friends' recommendations on mobility\"}, \"xaxis\": {\"title\": {\"text\": \"Distance travelled in km in logarithmic scale\"}, \"type\": \"log\"}, \"yaxis\": {\"title\": {\"text\": \"Probability to go to good rated business\"}}},                        {\"responsive\": true}                    ).then(function(){\n",
       "                            \n",
       "var gd = document.getElementById('36037936-9868-48e8-9a69-d5dd7236c79d');\n",
       "var x = new MutationObserver(function (mutations, observer) {{\n",
       "        var display = window.getComputedStyle(gd).display;\n",
       "        if (!display || display === 'none') {{\n",
       "            console.log([gd, 'removed!']);\n",
       "            Plotly.purge(gd);\n",
       "            observer.disconnect();\n",
       "        }}\n",
       "}});\n",
       "\n",
       "// Listen for the removal of the full notebook cells\n",
       "var notebookContainer = gd.closest('#notebook-container');\n",
       "if (notebookContainer) {{\n",
       "    x.observe(notebookContainer, {childList: true});\n",
       "}}\n",
       "\n",
       "// Listen for the clearing of the current output cell\n",
       "var outputEl = gd.closest('.output');\n",
       "if (outputEl) {{\n",
       "    x.observe(outputEl, {childList: true});\n",
       "}}\n",
       "\n",
       "                        })                };                });            </script>        </div>"
      ]
     },
     "metadata": {},
     "output_type": "display_data"
    }
   ],
   "source": [
    "# Initialize figure\n",
    "fig = go.Figure()\n",
    "\n",
    "# Add Traces\n",
    "fig.add_trace(\n",
    "    go.Scatter(x=mouth_friend['buckets'].values,\n",
    "               y=mouth_friend['good'].values,\n",
    "               name=\"Good reviews\",\n",
    "               line=dict(color=\"#FF0000\")))\n",
    "\n",
    "fig.add_trace(\n",
    "    go.Scatter(x=mouth_friend['buckets'].values,\n",
    "               y=mouth_friend['bad'].values,\n",
    "               name=\"Bad reviews\",\n",
    "               line=dict(color=\"#0000FF\")))\n",
    "\n",
    "# Define axies\n",
    "fig.update_xaxes(title_text=\"Distance travelled in km in logarithmic scale\", type=\"log\")\n",
    "fig.update_yaxes(title_text=\"Probability to go to good rated business\") \n",
    "# Set title\n",
    "fig.update_layout(title_text=\"Influence of a friends' recommendations on mobility\")\n",
    "fig.show()"
   ]
  },
  {
   "cell_type": "code",
   "execution_count": 156,
   "metadata": {},
   "outputs": [],
   "source": [
    "# Save html\n",
    "pio.write_html(fig, file='friends_recomm_influence.html', auto_open=True)"
   ]
  },
  {
   "cell_type": "markdown",
   "metadata": {},
   "source": [
    "# Create the interactive plot for week"
   ]
  },
  {
   "cell_type": "code",
   "execution_count": 157,
   "metadata": {
    "scrolled": true
   },
   "outputs": [
    {
     "data": {
      "text/html": [
       "<div>\n",
       "<style scoped>\n",
       "    .dataframe tbody tr th:only-of-type {\n",
       "        vertical-align: middle;\n",
       "    }\n",
       "\n",
       "    .dataframe tbody tr th {\n",
       "        vertical-align: top;\n",
       "    }\n",
       "\n",
       "    .dataframe thead th {\n",
       "        text-align: right;\n",
       "    }\n",
       "</style>\n",
       "<table border=\"1\" class=\"dataframe\">\n",
       "  <thead>\n",
       "    <tr style=\"text-align: right;\">\n",
       "      <th></th>\n",
       "      <th>Unnamed: 0</th>\n",
       "      <th>Monday</th>\n",
       "      <th>Tuesday</th>\n",
       "      <th>Wednesday</th>\n",
       "      <th>Thursday</th>\n",
       "      <th>Friday</th>\n",
       "      <th>Saturday</th>\n",
       "      <th>Sunday</th>\n",
       "      <th>buckets</th>\n",
       "    </tr>\n",
       "  </thead>\n",
       "  <tbody>\n",
       "    <tr>\n",
       "      <th>0</th>\n",
       "      <td>0</td>\n",
       "      <td>0.149692</td>\n",
       "      <td>0.168640</td>\n",
       "      <td>0.146850</td>\n",
       "      <td>0.132639</td>\n",
       "      <td>0.136902</td>\n",
       "      <td>0.131217</td>\n",
       "      <td>0.134060</td>\n",
       "      <td>0.100000</td>\n",
       "    </tr>\n",
       "    <tr>\n",
       "      <th>1</th>\n",
       "      <td>1</td>\n",
       "      <td>0.161906</td>\n",
       "      <td>0.166494</td>\n",
       "      <td>0.151695</td>\n",
       "      <td>0.131715</td>\n",
       "      <td>0.134971</td>\n",
       "      <td>0.118988</td>\n",
       "      <td>0.134231</td>\n",
       "      <td>0.330530</td>\n",
       "    </tr>\n",
       "    <tr>\n",
       "      <th>2</th>\n",
       "      <td>2</td>\n",
       "      <td>0.160025</td>\n",
       "      <td>0.158375</td>\n",
       "      <td>0.152935</td>\n",
       "      <td>0.138363</td>\n",
       "      <td>0.133366</td>\n",
       "      <td>0.123422</td>\n",
       "      <td>0.133514</td>\n",
       "      <td>1.092500</td>\n",
       "    </tr>\n",
       "    <tr>\n",
       "      <th>3</th>\n",
       "      <td>3</td>\n",
       "      <td>0.157914</td>\n",
       "      <td>0.149693</td>\n",
       "      <td>0.150508</td>\n",
       "      <td>0.138613</td>\n",
       "      <td>0.133828</td>\n",
       "      <td>0.126885</td>\n",
       "      <td>0.142559</td>\n",
       "      <td>3.611038</td>\n",
       "    </tr>\n",
       "    <tr>\n",
       "      <th>4</th>\n",
       "      <td>4</td>\n",
       "      <td>0.157123</td>\n",
       "      <td>0.145881</td>\n",
       "      <td>0.144928</td>\n",
       "      <td>0.135116</td>\n",
       "      <td>0.132686</td>\n",
       "      <td>0.134833</td>\n",
       "      <td>0.149433</td>\n",
       "      <td>11.935557</td>\n",
       "    </tr>\n",
       "    <tr>\n",
       "      <th>5</th>\n",
       "      <td>5</td>\n",
       "      <td>0.160998</td>\n",
       "      <td>0.143543</td>\n",
       "      <td>0.142705</td>\n",
       "      <td>0.132885</td>\n",
       "      <td>0.130325</td>\n",
       "      <td>0.137393</td>\n",
       "      <td>0.152152</td>\n",
       "      <td>39.450577</td>\n",
       "    </tr>\n",
       "    <tr>\n",
       "      <th>6</th>\n",
       "      <td>6</td>\n",
       "      <td>0.166597</td>\n",
       "      <td>0.122535</td>\n",
       "      <td>0.138061</td>\n",
       "      <td>0.111204</td>\n",
       "      <td>0.135124</td>\n",
       "      <td>0.164079</td>\n",
       "      <td>0.162400</td>\n",
       "      <td>130.395930</td>\n",
       "    </tr>\n",
       "    <tr>\n",
       "      <th>7</th>\n",
       "      <td>7</td>\n",
       "      <td>0.166556</td>\n",
       "      <td>0.153464</td>\n",
       "      <td>0.149818</td>\n",
       "      <td>0.136725</td>\n",
       "      <td>0.133742</td>\n",
       "      <td>0.123467</td>\n",
       "      <td>0.136228</td>\n",
       "      <td>430.997459</td>\n",
       "    </tr>\n",
       "    <tr>\n",
       "      <th>8</th>\n",
       "      <td>8</td>\n",
       "      <td>0.162377</td>\n",
       "      <td>0.157230</td>\n",
       "      <td>0.170332</td>\n",
       "      <td>0.130557</td>\n",
       "      <td>0.115583</td>\n",
       "      <td>0.127749</td>\n",
       "      <td>0.136172</td>\n",
       "      <td>1424.575212</td>\n",
       "    </tr>\n",
       "    <tr>\n",
       "      <th>9</th>\n",
       "      <td>9</td>\n",
       "      <td>0.155007</td>\n",
       "      <td>0.169389</td>\n",
       "      <td>0.142756</td>\n",
       "      <td>0.141158</td>\n",
       "      <td>0.123757</td>\n",
       "      <td>0.126776</td>\n",
       "      <td>0.141158</td>\n",
       "      <td>4708.646162</td>\n",
       "    </tr>\n",
       "  </tbody>\n",
       "</table>\n",
       "</div>"
      ],
      "text/plain": [
       "   Unnamed: 0    Monday   Tuesday  Wednesday  Thursday    Friday  Saturday  \\\n",
       "0           0  0.149692  0.168640   0.146850  0.132639  0.136902  0.131217   \n",
       "1           1  0.161906  0.166494   0.151695  0.131715  0.134971  0.118988   \n",
       "2           2  0.160025  0.158375   0.152935  0.138363  0.133366  0.123422   \n",
       "3           3  0.157914  0.149693   0.150508  0.138613  0.133828  0.126885   \n",
       "4           4  0.157123  0.145881   0.144928  0.135116  0.132686  0.134833   \n",
       "5           5  0.160998  0.143543   0.142705  0.132885  0.130325  0.137393   \n",
       "6           6  0.166597  0.122535   0.138061  0.111204  0.135124  0.164079   \n",
       "7           7  0.166556  0.153464   0.149818  0.136725  0.133742  0.123467   \n",
       "8           8  0.162377  0.157230   0.170332  0.130557  0.115583  0.127749   \n",
       "9           9  0.155007  0.169389   0.142756  0.141158  0.123757  0.126776   \n",
       "\n",
       "     Sunday      buckets  \n",
       "0  0.134060     0.100000  \n",
       "1  0.134231     0.330530  \n",
       "2  0.133514     1.092500  \n",
       "3  0.142559     3.611038  \n",
       "4  0.149433    11.935557  \n",
       "5  0.152152    39.450577  \n",
       "6  0.162400   130.395930  \n",
       "7  0.136228   430.997459  \n",
       "8  0.136172  1424.575212  \n",
       "9  0.141158  4708.646162  "
      ]
     },
     "execution_count": 157,
     "metadata": {},
     "output_type": "execute_result"
    }
   ],
   "source": [
    "# Load dataframes for week day study\n",
    "df_week = pd.read_csv('./for_plotting/week_to_plot.csv')\n",
    "df_week.rename(columns={'mon':'Monday','tue':'Tuesday','wed':'Wednesday','thu':'Thursday','fri':'Friday','sat':'Saturday','sun':'Sunday'},inplace=True)\n",
    "df_week"
   ]
  },
  {
   "cell_type": "code",
   "execution_count": 158,
   "metadata": {},
   "outputs": [],
   "source": [
    "col_names_ = df_week.columns[1:len(df_week.columns)-1].copy()\n",
    "buckets=df_week['buckets'].values"
   ]
  },
  {
   "cell_type": "code",
   "execution_count": 159,
   "metadata": {},
   "outputs": [
    {
     "data": {
      "application/vnd.plotly.v1+json": {
       "config": {
        "plotlyServerURL": "https://plot.ly"
       },
       "data": [
        {
         "name": "Monday",
         "type": "scatter",
         "x": [
          0.1,
          0.3305298396179653,
          1.092499748778779,
          3.6110376674651734,
          11.935557010816956,
          39.4505774453641,
          130.39593035852323,
          430.9974594823805,
          1424.5752115846176,
          4708.64616208793
         ],
         "y": [
          0.14969208905731882,
          0.1619061713778304,
          0.16002461538461538,
          0.15791365757014125,
          0.157122782893983,
          0.16099765537395086,
          0.16659672681493914,
          0.16655618163738814,
          0.16237716424894713,
          0.15500710227272727
         ]
        },
        {
         "name": "Tuesday",
         "type": "scatter",
         "x": [
          0.1,
          0.3305298396179653,
          1.092499748778779,
          3.6110376674651734,
          11.935557010816956,
          39.4505774453641,
          130.39593035852323,
          430.9974594823805,
          1424.5752115846176,
          4708.64616208793
         ],
         "y": [
          0.16864045476077688,
          0.16649400621577626,
          0.1583753846153846,
          0.14969323192944334,
          0.14588120352445225,
          0.14354321700816655,
          0.12253462022660512,
          0.15346370566788198,
          0.15722976134768366,
          0.16938920454545456
         ]
        },
        {
         "name": "Wednesday",
         "type": "scatter",
         "x": [
          0.1,
          0.3305298396179653,
          1.092499748778779,
          3.6110376674651734,
          11.935557010816956,
          39.4505774453641,
          130.39593035852323,
          430.9974594823805,
          1424.5752115846176,
          4708.64616208793
         ],
         "y": [
          0.1468498342018001,
          0.15169453899659613,
          0.1529353846153846,
          0.15050808461685947,
          0.1449283228697388,
          0.14270504151234042,
          0.1380612673101133,
          0.14981769970169045,
          0.17033224145999065,
          0.14275568181818182
         ]
        },
        {
         "name": "Thursday",
         "type": "scatter",
         "x": [
          0.1,
          0.3305298396179653,
          1.092499748778779,
          3.6110376674651734,
          11.935557010816956,
          39.4505774453641,
          130.39593035852323,
          430.9974594823805,
          1424.5752115846176,
          4708.64616208793
         ],
         "y": [
          0.13263855992420653,
          0.13171525825070302,
          0.13836307692307692,
          0.13861283313095166,
          0.13511606448227825,
          0.13288479617610746,
          0.1112043642467478,
          0.1367252237321843,
          0.13055685540477305,
          0.14115767045454544
         ]
        },
        {
         "name": "Friday",
         "type": "scatter",
         "x": [
          0.1,
          0.3305298396179653,
          1.092499748778779,
          3.6110376674651734,
          11.935557010816956,
          39.4505774453641,
          130.39593035852323,
          430.9974594823805,
          1424.5752115846176,
          4708.64616208793
         ],
         "y": [
          0.1369019422074846,
          0.1349711410389226,
          0.13336615384615386,
          0.13382757078034127,
          0.132685615723737,
          0.13032496290507095,
          0.1351237935375577,
          0.1337421279416639,
          0.11558259241927935,
          0.12375710227272728
         ]
        },
        {
         "name": "Saturday",
         "type": "scatter",
         "x": [
          0.1,
          0.3305298396179653,
          1.092499748778779,
          3.6110376674651734,
          11.935557010816956,
          39.4505774453641,
          130.39593035852323,
          430.9974594823805,
          1424.5752115846176,
          4708.64616208793
         ],
         "y": [
          0.13121743249644718,
          0.11898771644220807,
          0.12342153846153844,
          0.12688534543362945,
          0.13483261264195207,
          0.1373928211401452,
          0.16407889215274862,
          0.12346702021876035,
          0.12774918109499298,
          0.12677556818181818
         ]
        },
        {
         "name": "Sunday",
         "type": "scatter",
         "x": [
          0.1,
          0.3305298396179653,
          1.092499748778779,
          3.6110376674651734,
          11.935557010816956,
          39.4505774453641,
          130.39593035852323,
          430.9974594823805,
          1424.5752115846176,
          4708.64616208793
         ],
         "y": [
          0.13405968735196588,
          0.1342311676779636,
          0.13351384615384615,
          0.1425592765386336,
          0.14943339786385867,
          0.15215150588421852,
          0.16240033571128829,
          0.13622804110043088,
          0.13617220402433314,
          0.14115767045454544
         ]
        }
       ],
       "layout": {
        "template": {
         "data": {
          "bar": [
           {
            "error_x": {
             "color": "#2a3f5f"
            },
            "error_y": {
             "color": "#2a3f5f"
            },
            "marker": {
             "line": {
              "color": "#E5ECF6",
              "width": 0.5
             }
            },
            "type": "bar"
           }
          ],
          "barpolar": [
           {
            "marker": {
             "line": {
              "color": "#E5ECF6",
              "width": 0.5
             }
            },
            "type": "barpolar"
           }
          ],
          "carpet": [
           {
            "aaxis": {
             "endlinecolor": "#2a3f5f",
             "gridcolor": "white",
             "linecolor": "white",
             "minorgridcolor": "white",
             "startlinecolor": "#2a3f5f"
            },
            "baxis": {
             "endlinecolor": "#2a3f5f",
             "gridcolor": "white",
             "linecolor": "white",
             "minorgridcolor": "white",
             "startlinecolor": "#2a3f5f"
            },
            "type": "carpet"
           }
          ],
          "choropleth": [
           {
            "colorbar": {
             "outlinewidth": 0,
             "ticks": ""
            },
            "type": "choropleth"
           }
          ],
          "contour": [
           {
            "colorbar": {
             "outlinewidth": 0,
             "ticks": ""
            },
            "colorscale": [
             [
              0,
              "#0d0887"
             ],
             [
              0.1111111111111111,
              "#46039f"
             ],
             [
              0.2222222222222222,
              "#7201a8"
             ],
             [
              0.3333333333333333,
              "#9c179e"
             ],
             [
              0.4444444444444444,
              "#bd3786"
             ],
             [
              0.5555555555555556,
              "#d8576b"
             ],
             [
              0.6666666666666666,
              "#ed7953"
             ],
             [
              0.7777777777777778,
              "#fb9f3a"
             ],
             [
              0.8888888888888888,
              "#fdca26"
             ],
             [
              1,
              "#f0f921"
             ]
            ],
            "type": "contour"
           }
          ],
          "contourcarpet": [
           {
            "colorbar": {
             "outlinewidth": 0,
             "ticks": ""
            },
            "type": "contourcarpet"
           }
          ],
          "heatmap": [
           {
            "colorbar": {
             "outlinewidth": 0,
             "ticks": ""
            },
            "colorscale": [
             [
              0,
              "#0d0887"
             ],
             [
              0.1111111111111111,
              "#46039f"
             ],
             [
              0.2222222222222222,
              "#7201a8"
             ],
             [
              0.3333333333333333,
              "#9c179e"
             ],
             [
              0.4444444444444444,
              "#bd3786"
             ],
             [
              0.5555555555555556,
              "#d8576b"
             ],
             [
              0.6666666666666666,
              "#ed7953"
             ],
             [
              0.7777777777777778,
              "#fb9f3a"
             ],
             [
              0.8888888888888888,
              "#fdca26"
             ],
             [
              1,
              "#f0f921"
             ]
            ],
            "type": "heatmap"
           }
          ],
          "heatmapgl": [
           {
            "colorbar": {
             "outlinewidth": 0,
             "ticks": ""
            },
            "colorscale": [
             [
              0,
              "#0d0887"
             ],
             [
              0.1111111111111111,
              "#46039f"
             ],
             [
              0.2222222222222222,
              "#7201a8"
             ],
             [
              0.3333333333333333,
              "#9c179e"
             ],
             [
              0.4444444444444444,
              "#bd3786"
             ],
             [
              0.5555555555555556,
              "#d8576b"
             ],
             [
              0.6666666666666666,
              "#ed7953"
             ],
             [
              0.7777777777777778,
              "#fb9f3a"
             ],
             [
              0.8888888888888888,
              "#fdca26"
             ],
             [
              1,
              "#f0f921"
             ]
            ],
            "type": "heatmapgl"
           }
          ],
          "histogram": [
           {
            "marker": {
             "colorbar": {
              "outlinewidth": 0,
              "ticks": ""
             }
            },
            "type": "histogram"
           }
          ],
          "histogram2d": [
           {
            "colorbar": {
             "outlinewidth": 0,
             "ticks": ""
            },
            "colorscale": [
             [
              0,
              "#0d0887"
             ],
             [
              0.1111111111111111,
              "#46039f"
             ],
             [
              0.2222222222222222,
              "#7201a8"
             ],
             [
              0.3333333333333333,
              "#9c179e"
             ],
             [
              0.4444444444444444,
              "#bd3786"
             ],
             [
              0.5555555555555556,
              "#d8576b"
             ],
             [
              0.6666666666666666,
              "#ed7953"
             ],
             [
              0.7777777777777778,
              "#fb9f3a"
             ],
             [
              0.8888888888888888,
              "#fdca26"
             ],
             [
              1,
              "#f0f921"
             ]
            ],
            "type": "histogram2d"
           }
          ],
          "histogram2dcontour": [
           {
            "colorbar": {
             "outlinewidth": 0,
             "ticks": ""
            },
            "colorscale": [
             [
              0,
              "#0d0887"
             ],
             [
              0.1111111111111111,
              "#46039f"
             ],
             [
              0.2222222222222222,
              "#7201a8"
             ],
             [
              0.3333333333333333,
              "#9c179e"
             ],
             [
              0.4444444444444444,
              "#bd3786"
             ],
             [
              0.5555555555555556,
              "#d8576b"
             ],
             [
              0.6666666666666666,
              "#ed7953"
             ],
             [
              0.7777777777777778,
              "#fb9f3a"
             ],
             [
              0.8888888888888888,
              "#fdca26"
             ],
             [
              1,
              "#f0f921"
             ]
            ],
            "type": "histogram2dcontour"
           }
          ],
          "mesh3d": [
           {
            "colorbar": {
             "outlinewidth": 0,
             "ticks": ""
            },
            "type": "mesh3d"
           }
          ],
          "parcoords": [
           {
            "line": {
             "colorbar": {
              "outlinewidth": 0,
              "ticks": ""
             }
            },
            "type": "parcoords"
           }
          ],
          "pie": [
           {
            "automargin": true,
            "type": "pie"
           }
          ],
          "scatter": [
           {
            "marker": {
             "colorbar": {
              "outlinewidth": 0,
              "ticks": ""
             }
            },
            "type": "scatter"
           }
          ],
          "scatter3d": [
           {
            "line": {
             "colorbar": {
              "outlinewidth": 0,
              "ticks": ""
             }
            },
            "marker": {
             "colorbar": {
              "outlinewidth": 0,
              "ticks": ""
             }
            },
            "type": "scatter3d"
           }
          ],
          "scattercarpet": [
           {
            "marker": {
             "colorbar": {
              "outlinewidth": 0,
              "ticks": ""
             }
            },
            "type": "scattercarpet"
           }
          ],
          "scattergeo": [
           {
            "marker": {
             "colorbar": {
              "outlinewidth": 0,
              "ticks": ""
             }
            },
            "type": "scattergeo"
           }
          ],
          "scattergl": [
           {
            "marker": {
             "colorbar": {
              "outlinewidth": 0,
              "ticks": ""
             }
            },
            "type": "scattergl"
           }
          ],
          "scattermapbox": [
           {
            "marker": {
             "colorbar": {
              "outlinewidth": 0,
              "ticks": ""
             }
            },
            "type": "scattermapbox"
           }
          ],
          "scatterpolar": [
           {
            "marker": {
             "colorbar": {
              "outlinewidth": 0,
              "ticks": ""
             }
            },
            "type": "scatterpolar"
           }
          ],
          "scatterpolargl": [
           {
            "marker": {
             "colorbar": {
              "outlinewidth": 0,
              "ticks": ""
             }
            },
            "type": "scatterpolargl"
           }
          ],
          "scatterternary": [
           {
            "marker": {
             "colorbar": {
              "outlinewidth": 0,
              "ticks": ""
             }
            },
            "type": "scatterternary"
           }
          ],
          "surface": [
           {
            "colorbar": {
             "outlinewidth": 0,
             "ticks": ""
            },
            "colorscale": [
             [
              0,
              "#0d0887"
             ],
             [
              0.1111111111111111,
              "#46039f"
             ],
             [
              0.2222222222222222,
              "#7201a8"
             ],
             [
              0.3333333333333333,
              "#9c179e"
             ],
             [
              0.4444444444444444,
              "#bd3786"
             ],
             [
              0.5555555555555556,
              "#d8576b"
             ],
             [
              0.6666666666666666,
              "#ed7953"
             ],
             [
              0.7777777777777778,
              "#fb9f3a"
             ],
             [
              0.8888888888888888,
              "#fdca26"
             ],
             [
              1,
              "#f0f921"
             ]
            ],
            "type": "surface"
           }
          ],
          "table": [
           {
            "cells": {
             "fill": {
              "color": "#EBF0F8"
             },
             "line": {
              "color": "white"
             }
            },
            "header": {
             "fill": {
              "color": "#C8D4E3"
             },
             "line": {
              "color": "white"
             }
            },
            "type": "table"
           }
          ]
         },
         "layout": {
          "annotationdefaults": {
           "arrowcolor": "#2a3f5f",
           "arrowhead": 0,
           "arrowwidth": 1
          },
          "autotypenumbers": "strict",
          "coloraxis": {
           "colorbar": {
            "outlinewidth": 0,
            "ticks": ""
           }
          },
          "colorscale": {
           "diverging": [
            [
             0,
             "#8e0152"
            ],
            [
             0.1,
             "#c51b7d"
            ],
            [
             0.2,
             "#de77ae"
            ],
            [
             0.3,
             "#f1b6da"
            ],
            [
             0.4,
             "#fde0ef"
            ],
            [
             0.5,
             "#f7f7f7"
            ],
            [
             0.6,
             "#e6f5d0"
            ],
            [
             0.7,
             "#b8e186"
            ],
            [
             0.8,
             "#7fbc41"
            ],
            [
             0.9,
             "#4d9221"
            ],
            [
             1,
             "#276419"
            ]
           ],
           "sequential": [
            [
             0,
             "#0d0887"
            ],
            [
             0.1111111111111111,
             "#46039f"
            ],
            [
             0.2222222222222222,
             "#7201a8"
            ],
            [
             0.3333333333333333,
             "#9c179e"
            ],
            [
             0.4444444444444444,
             "#bd3786"
            ],
            [
             0.5555555555555556,
             "#d8576b"
            ],
            [
             0.6666666666666666,
             "#ed7953"
            ],
            [
             0.7777777777777778,
             "#fb9f3a"
            ],
            [
             0.8888888888888888,
             "#fdca26"
            ],
            [
             1,
             "#f0f921"
            ]
           ],
           "sequentialminus": [
            [
             0,
             "#0d0887"
            ],
            [
             0.1111111111111111,
             "#46039f"
            ],
            [
             0.2222222222222222,
             "#7201a8"
            ],
            [
             0.3333333333333333,
             "#9c179e"
            ],
            [
             0.4444444444444444,
             "#bd3786"
            ],
            [
             0.5555555555555556,
             "#d8576b"
            ],
            [
             0.6666666666666666,
             "#ed7953"
            ],
            [
             0.7777777777777778,
             "#fb9f3a"
            ],
            [
             0.8888888888888888,
             "#fdca26"
            ],
            [
             1,
             "#f0f921"
            ]
           ]
          },
          "colorway": [
           "#636efa",
           "#EF553B",
           "#00cc96",
           "#ab63fa",
           "#FFA15A",
           "#19d3f3",
           "#FF6692",
           "#B6E880",
           "#FF97FF",
           "#FECB52"
          ],
          "font": {
           "color": "#2a3f5f"
          },
          "geo": {
           "bgcolor": "white",
           "lakecolor": "white",
           "landcolor": "#E5ECF6",
           "showlakes": true,
           "showland": true,
           "subunitcolor": "white"
          },
          "hoverlabel": {
           "align": "left"
          },
          "hovermode": "closest",
          "mapbox": {
           "style": "light"
          },
          "paper_bgcolor": "white",
          "plot_bgcolor": "#E5ECF6",
          "polar": {
           "angularaxis": {
            "gridcolor": "white",
            "linecolor": "white",
            "ticks": ""
           },
           "bgcolor": "#E5ECF6",
           "radialaxis": {
            "gridcolor": "white",
            "linecolor": "white",
            "ticks": ""
           }
          },
          "scene": {
           "xaxis": {
            "backgroundcolor": "#E5ECF6",
            "gridcolor": "white",
            "gridwidth": 2,
            "linecolor": "white",
            "showbackground": true,
            "ticks": "",
            "zerolinecolor": "white"
           },
           "yaxis": {
            "backgroundcolor": "#E5ECF6",
            "gridcolor": "white",
            "gridwidth": 2,
            "linecolor": "white",
            "showbackground": true,
            "ticks": "",
            "zerolinecolor": "white"
           },
           "zaxis": {
            "backgroundcolor": "#E5ECF6",
            "gridcolor": "white",
            "gridwidth": 2,
            "linecolor": "white",
            "showbackground": true,
            "ticks": "",
            "zerolinecolor": "white"
           }
          },
          "shapedefaults": {
           "line": {
            "color": "#2a3f5f"
           }
          },
          "ternary": {
           "aaxis": {
            "gridcolor": "white",
            "linecolor": "white",
            "ticks": ""
           },
           "baxis": {
            "gridcolor": "white",
            "linecolor": "white",
            "ticks": ""
           },
           "bgcolor": "#E5ECF6",
           "caxis": {
            "gridcolor": "white",
            "linecolor": "white",
            "ticks": ""
           }
          },
          "title": {
           "x": 0.05
          },
          "xaxis": {
           "automargin": true,
           "gridcolor": "white",
           "linecolor": "white",
           "ticks": "",
           "title": {
            "standoff": 15
           },
           "zerolinecolor": "white",
           "zerolinewidth": 2
          },
          "yaxis": {
           "automargin": true,
           "gridcolor": "white",
           "linecolor": "white",
           "ticks": "",
           "title": {
            "standoff": 15
           },
           "zerolinecolor": "white",
           "zerolinewidth": 2
          }
         }
        },
        "title": {
         "text": "Influence of weekdays on mobility"
        },
        "updatemenus": [
         {
          "active": 0,
          "buttons": [
           {
            "args": [
             {
              "visible": [
               1,
               1,
               1,
               1,
               1,
               1,
               1
              ]
             },
             {
              "title": "Plot all weekdays"
             }
            ],
            "label": "Plot all weekdays",
            "method": "update"
           },
           {
            "args": [
             {
              "visible": [
               true,
               true,
               false,
               false,
               false,
               false,
               false,
               false,
               false,
               false,
               false,
               false,
               false,
               false
              ]
             },
             {
              "title": "Monday"
             }
            ],
            "label": "Monday",
            "method": "update"
           },
           {
            "args": [
             {
              "visible": [
               false,
               false,
               true,
               true,
               false,
               false,
               false,
               false,
               false,
               false,
               false,
               false,
               false,
               false
              ]
             },
             {
              "title": "Tuesday"
             }
            ],
            "label": "Tuesday",
            "method": "update"
           },
           {
            "args": [
             {
              "visible": [
               false,
               false,
               false,
               false,
               true,
               true,
               false,
               false,
               false,
               false,
               false,
               false,
               false,
               false
              ]
             },
             {
              "title": "Wednesday"
             }
            ],
            "label": "Wednesday",
            "method": "update"
           },
           {
            "args": [
             {
              "visible": [
               false,
               false,
               false,
               false,
               false,
               false,
               true,
               true,
               false,
               false,
               false,
               false,
               false,
               false
              ]
             },
             {
              "title": "Thursday"
             }
            ],
            "label": "Thursday",
            "method": "update"
           },
           {
            "args": [
             {
              "visible": [
               false,
               false,
               false,
               false,
               false,
               false,
               false,
               false,
               true,
               true,
               false,
               false,
               false,
               false
              ]
             },
             {
              "title": "Friday"
             }
            ],
            "label": "Friday",
            "method": "update"
           },
           {
            "args": [
             {
              "visible": [
               false,
               false,
               false,
               false,
               false,
               false,
               false,
               false,
               false,
               false,
               true,
               true,
               false,
               false
              ]
             },
             {
              "title": "Saturday"
             }
            ],
            "label": "Saturday",
            "method": "update"
           },
           {
            "args": [
             {
              "visible": [
               false,
               false,
               false,
               false,
               false,
               false,
               false,
               false,
               false,
               false,
               false,
               false,
               true,
               true
              ]
             },
             {
              "title": "Sunday"
             }
            ],
            "label": "Sunday",
            "method": "update"
           }
          ]
         }
        ],
        "xaxis": {
         "title": {
          "text": "Distance travelled in km by weekday in logarithmic scale"
         },
         "type": "log"
        },
        "yaxis": {
         "title": {
          "text": "Probability of travelling"
         }
        }
       }
      },
      "text/html": [
       "<div>                            <div id=\"32b8adcf-385c-402d-835b-2419f3f0f0c9\" class=\"plotly-graph-div\" style=\"height:525px; width:100%;\"></div>            <script type=\"text/javascript\">                require([\"plotly\"], function(Plotly) {                    window.PLOTLYENV=window.PLOTLYENV || {};                                    if (document.getElementById(\"32b8adcf-385c-402d-835b-2419f3f0f0c9\")) {                    Plotly.newPlot(                        \"32b8adcf-385c-402d-835b-2419f3f0f0c9\",                        [{\"name\": \"Monday\", \"type\": \"scatter\", \"x\": [0.1, 0.3305298396179653, 1.092499748778779, 3.6110376674651734, 11.935557010816956, 39.4505774453641, 130.39593035852323, 430.9974594823805, 1424.5752115846176, 4708.64616208793], \"y\": [0.14969208905731882, 0.1619061713778304, 0.16002461538461538, 0.15791365757014125, 0.157122782893983, 0.16099765537395086, 0.16659672681493914, 0.16655618163738814, 0.16237716424894713, 0.15500710227272727]}, {\"name\": \"Tuesday\", \"type\": \"scatter\", \"x\": [0.1, 0.3305298396179653, 1.092499748778779, 3.6110376674651734, 11.935557010816956, 39.4505774453641, 130.39593035852323, 430.9974594823805, 1424.5752115846176, 4708.64616208793], \"y\": [0.16864045476077688, 0.16649400621577626, 0.1583753846153846, 0.14969323192944334, 0.14588120352445225, 0.14354321700816655, 0.12253462022660512, 0.15346370566788198, 0.15722976134768366, 0.16938920454545456]}, {\"name\": \"Wednesday\", \"type\": \"scatter\", \"x\": [0.1, 0.3305298396179653, 1.092499748778779, 3.6110376674651734, 11.935557010816956, 39.4505774453641, 130.39593035852323, 430.9974594823805, 1424.5752115846176, 4708.64616208793], \"y\": [0.1468498342018001, 0.15169453899659613, 0.1529353846153846, 0.15050808461685947, 0.1449283228697388, 0.14270504151234042, 0.1380612673101133, 0.14981769970169045, 0.17033224145999065, 0.14275568181818182]}, {\"name\": \"Thursday\", \"type\": \"scatter\", \"x\": [0.1, 0.3305298396179653, 1.092499748778779, 3.6110376674651734, 11.935557010816956, 39.4505774453641, 130.39593035852323, 430.9974594823805, 1424.5752115846176, 4708.64616208793], \"y\": [0.13263855992420653, 0.13171525825070302, 0.13836307692307692, 0.13861283313095166, 0.13511606448227825, 0.13288479617610746, 0.1112043642467478, 0.1367252237321843, 0.13055685540477305, 0.14115767045454544]}, {\"name\": \"Friday\", \"type\": \"scatter\", \"x\": [0.1, 0.3305298396179653, 1.092499748778779, 3.6110376674651734, 11.935557010816956, 39.4505774453641, 130.39593035852323, 430.9974594823805, 1424.5752115846176, 4708.64616208793], \"y\": [0.1369019422074846, 0.1349711410389226, 0.13336615384615386, 0.13382757078034127, 0.132685615723737, 0.13032496290507095, 0.1351237935375577, 0.1337421279416639, 0.11558259241927935, 0.12375710227272728]}, {\"name\": \"Saturday\", \"type\": \"scatter\", \"x\": [0.1, 0.3305298396179653, 1.092499748778779, 3.6110376674651734, 11.935557010816956, 39.4505774453641, 130.39593035852323, 430.9974594823805, 1424.5752115846176, 4708.64616208793], \"y\": [0.13121743249644718, 0.11898771644220807, 0.12342153846153844, 0.12688534543362945, 0.13483261264195207, 0.1373928211401452, 0.16407889215274862, 0.12346702021876035, 0.12774918109499298, 0.12677556818181818]}, {\"name\": \"Sunday\", \"type\": \"scatter\", \"x\": [0.1, 0.3305298396179653, 1.092499748778779, 3.6110376674651734, 11.935557010816956, 39.4505774453641, 130.39593035852323, 430.9974594823805, 1424.5752115846176, 4708.64616208793], \"y\": [0.13405968735196588, 0.1342311676779636, 0.13351384615384615, 0.1425592765386336, 0.14943339786385867, 0.15215150588421852, 0.16240033571128829, 0.13622804110043088, 0.13617220402433314, 0.14115767045454544]}],                        {\"template\": {\"data\": {\"bar\": [{\"error_x\": {\"color\": \"#2a3f5f\"}, \"error_y\": {\"color\": \"#2a3f5f\"}, \"marker\": {\"line\": {\"color\": \"#E5ECF6\", \"width\": 0.5}}, \"type\": \"bar\"}], \"barpolar\": [{\"marker\": {\"line\": {\"color\": \"#E5ECF6\", \"width\": 0.5}}, \"type\": \"barpolar\"}], \"carpet\": [{\"aaxis\": {\"endlinecolor\": \"#2a3f5f\", \"gridcolor\": \"white\", \"linecolor\": \"white\", \"minorgridcolor\": \"white\", \"startlinecolor\": \"#2a3f5f\"}, \"baxis\": {\"endlinecolor\": \"#2a3f5f\", \"gridcolor\": \"white\", \"linecolor\": \"white\", \"minorgridcolor\": \"white\", \"startlinecolor\": \"#2a3f5f\"}, \"type\": \"carpet\"}], \"choropleth\": [{\"colorbar\": {\"outlinewidth\": 0, \"ticks\": \"\"}, \"type\": \"choropleth\"}], \"contour\": [{\"colorbar\": {\"outlinewidth\": 0, \"ticks\": \"\"}, \"colorscale\": [[0.0, \"#0d0887\"], [0.1111111111111111, \"#46039f\"], [0.2222222222222222, \"#7201a8\"], [0.3333333333333333, \"#9c179e\"], [0.4444444444444444, \"#bd3786\"], [0.5555555555555556, \"#d8576b\"], [0.6666666666666666, \"#ed7953\"], [0.7777777777777778, \"#fb9f3a\"], [0.8888888888888888, \"#fdca26\"], [1.0, \"#f0f921\"]], \"type\": \"contour\"}], \"contourcarpet\": [{\"colorbar\": {\"outlinewidth\": 0, \"ticks\": \"\"}, \"type\": \"contourcarpet\"}], \"heatmap\": [{\"colorbar\": {\"outlinewidth\": 0, \"ticks\": \"\"}, \"colorscale\": [[0.0, \"#0d0887\"], [0.1111111111111111, \"#46039f\"], [0.2222222222222222, \"#7201a8\"], [0.3333333333333333, \"#9c179e\"], [0.4444444444444444, \"#bd3786\"], [0.5555555555555556, \"#d8576b\"], [0.6666666666666666, \"#ed7953\"], [0.7777777777777778, \"#fb9f3a\"], [0.8888888888888888, \"#fdca26\"], [1.0, \"#f0f921\"]], \"type\": \"heatmap\"}], \"heatmapgl\": [{\"colorbar\": {\"outlinewidth\": 0, \"ticks\": \"\"}, \"colorscale\": [[0.0, \"#0d0887\"], [0.1111111111111111, \"#46039f\"], [0.2222222222222222, \"#7201a8\"], [0.3333333333333333, \"#9c179e\"], [0.4444444444444444, \"#bd3786\"], [0.5555555555555556, \"#d8576b\"], [0.6666666666666666, \"#ed7953\"], [0.7777777777777778, \"#fb9f3a\"], [0.8888888888888888, \"#fdca26\"], [1.0, \"#f0f921\"]], \"type\": \"heatmapgl\"}], \"histogram\": [{\"marker\": {\"colorbar\": {\"outlinewidth\": 0, \"ticks\": \"\"}}, \"type\": \"histogram\"}], \"histogram2d\": [{\"colorbar\": {\"outlinewidth\": 0, \"ticks\": \"\"}, \"colorscale\": [[0.0, \"#0d0887\"], [0.1111111111111111, \"#46039f\"], [0.2222222222222222, \"#7201a8\"], [0.3333333333333333, \"#9c179e\"], [0.4444444444444444, \"#bd3786\"], [0.5555555555555556, \"#d8576b\"], [0.6666666666666666, \"#ed7953\"], [0.7777777777777778, \"#fb9f3a\"], [0.8888888888888888, \"#fdca26\"], [1.0, \"#f0f921\"]], \"type\": \"histogram2d\"}], \"histogram2dcontour\": [{\"colorbar\": {\"outlinewidth\": 0, \"ticks\": \"\"}, \"colorscale\": [[0.0, \"#0d0887\"], [0.1111111111111111, \"#46039f\"], [0.2222222222222222, \"#7201a8\"], [0.3333333333333333, \"#9c179e\"], [0.4444444444444444, \"#bd3786\"], [0.5555555555555556, \"#d8576b\"], [0.6666666666666666, \"#ed7953\"], [0.7777777777777778, \"#fb9f3a\"], [0.8888888888888888, \"#fdca26\"], [1.0, \"#f0f921\"]], \"type\": \"histogram2dcontour\"}], \"mesh3d\": [{\"colorbar\": {\"outlinewidth\": 0, \"ticks\": \"\"}, \"type\": \"mesh3d\"}], \"parcoords\": [{\"line\": {\"colorbar\": {\"outlinewidth\": 0, \"ticks\": \"\"}}, \"type\": \"parcoords\"}], \"pie\": [{\"automargin\": true, \"type\": \"pie\"}], \"scatter\": [{\"marker\": {\"colorbar\": {\"outlinewidth\": 0, \"ticks\": \"\"}}, \"type\": \"scatter\"}], \"scatter3d\": [{\"line\": {\"colorbar\": {\"outlinewidth\": 0, \"ticks\": \"\"}}, \"marker\": {\"colorbar\": {\"outlinewidth\": 0, \"ticks\": \"\"}}, \"type\": \"scatter3d\"}], \"scattercarpet\": [{\"marker\": {\"colorbar\": {\"outlinewidth\": 0, \"ticks\": \"\"}}, \"type\": \"scattercarpet\"}], \"scattergeo\": [{\"marker\": {\"colorbar\": {\"outlinewidth\": 0, \"ticks\": \"\"}}, \"type\": \"scattergeo\"}], \"scattergl\": [{\"marker\": {\"colorbar\": {\"outlinewidth\": 0, \"ticks\": \"\"}}, \"type\": \"scattergl\"}], \"scattermapbox\": [{\"marker\": {\"colorbar\": {\"outlinewidth\": 0, \"ticks\": \"\"}}, \"type\": \"scattermapbox\"}], \"scatterpolar\": [{\"marker\": {\"colorbar\": {\"outlinewidth\": 0, \"ticks\": \"\"}}, \"type\": \"scatterpolar\"}], \"scatterpolargl\": [{\"marker\": {\"colorbar\": {\"outlinewidth\": 0, \"ticks\": \"\"}}, \"type\": \"scatterpolargl\"}], \"scatterternary\": [{\"marker\": {\"colorbar\": {\"outlinewidth\": 0, \"ticks\": \"\"}}, \"type\": \"scatterternary\"}], \"surface\": [{\"colorbar\": {\"outlinewidth\": 0, \"ticks\": \"\"}, \"colorscale\": [[0.0, \"#0d0887\"], [0.1111111111111111, \"#46039f\"], [0.2222222222222222, \"#7201a8\"], [0.3333333333333333, \"#9c179e\"], [0.4444444444444444, \"#bd3786\"], [0.5555555555555556, \"#d8576b\"], [0.6666666666666666, \"#ed7953\"], [0.7777777777777778, \"#fb9f3a\"], [0.8888888888888888, \"#fdca26\"], [1.0, \"#f0f921\"]], \"type\": \"surface\"}], \"table\": [{\"cells\": {\"fill\": {\"color\": \"#EBF0F8\"}, \"line\": {\"color\": \"white\"}}, \"header\": {\"fill\": {\"color\": \"#C8D4E3\"}, \"line\": {\"color\": \"white\"}}, \"type\": \"table\"}]}, \"layout\": {\"annotationdefaults\": {\"arrowcolor\": \"#2a3f5f\", \"arrowhead\": 0, \"arrowwidth\": 1}, \"autotypenumbers\": \"strict\", \"coloraxis\": {\"colorbar\": {\"outlinewidth\": 0, \"ticks\": \"\"}}, \"colorscale\": {\"diverging\": [[0, \"#8e0152\"], [0.1, \"#c51b7d\"], [0.2, \"#de77ae\"], [0.3, \"#f1b6da\"], [0.4, \"#fde0ef\"], [0.5, \"#f7f7f7\"], [0.6, \"#e6f5d0\"], [0.7, \"#b8e186\"], [0.8, \"#7fbc41\"], [0.9, \"#4d9221\"], [1, \"#276419\"]], \"sequential\": [[0.0, \"#0d0887\"], [0.1111111111111111, \"#46039f\"], [0.2222222222222222, \"#7201a8\"], [0.3333333333333333, \"#9c179e\"], [0.4444444444444444, \"#bd3786\"], [0.5555555555555556, \"#d8576b\"], [0.6666666666666666, \"#ed7953\"], [0.7777777777777778, \"#fb9f3a\"], [0.8888888888888888, \"#fdca26\"], [1.0, \"#f0f921\"]], \"sequentialminus\": [[0.0, \"#0d0887\"], [0.1111111111111111, \"#46039f\"], [0.2222222222222222, \"#7201a8\"], [0.3333333333333333, \"#9c179e\"], [0.4444444444444444, \"#bd3786\"], [0.5555555555555556, \"#d8576b\"], [0.6666666666666666, \"#ed7953\"], [0.7777777777777778, \"#fb9f3a\"], [0.8888888888888888, \"#fdca26\"], [1.0, \"#f0f921\"]]}, \"colorway\": [\"#636efa\", \"#EF553B\", \"#00cc96\", \"#ab63fa\", \"#FFA15A\", \"#19d3f3\", \"#FF6692\", \"#B6E880\", \"#FF97FF\", \"#FECB52\"], \"font\": {\"color\": \"#2a3f5f\"}, \"geo\": {\"bgcolor\": \"white\", \"lakecolor\": \"white\", \"landcolor\": \"#E5ECF6\", \"showlakes\": true, \"showland\": true, \"subunitcolor\": \"white\"}, \"hoverlabel\": {\"align\": \"left\"}, \"hovermode\": \"closest\", \"mapbox\": {\"style\": \"light\"}, \"paper_bgcolor\": \"white\", \"plot_bgcolor\": \"#E5ECF6\", \"polar\": {\"angularaxis\": {\"gridcolor\": \"white\", \"linecolor\": \"white\", \"ticks\": \"\"}, \"bgcolor\": \"#E5ECF6\", \"radialaxis\": {\"gridcolor\": \"white\", \"linecolor\": \"white\", \"ticks\": \"\"}}, \"scene\": {\"xaxis\": {\"backgroundcolor\": \"#E5ECF6\", \"gridcolor\": \"white\", \"gridwidth\": 2, \"linecolor\": \"white\", \"showbackground\": true, \"ticks\": \"\", \"zerolinecolor\": \"white\"}, \"yaxis\": {\"backgroundcolor\": \"#E5ECF6\", \"gridcolor\": \"white\", \"gridwidth\": 2, \"linecolor\": \"white\", \"showbackground\": true, \"ticks\": \"\", \"zerolinecolor\": \"white\"}, \"zaxis\": {\"backgroundcolor\": \"#E5ECF6\", \"gridcolor\": \"white\", \"gridwidth\": 2, \"linecolor\": \"white\", \"showbackground\": true, \"ticks\": \"\", \"zerolinecolor\": \"white\"}}, \"shapedefaults\": {\"line\": {\"color\": \"#2a3f5f\"}}, \"ternary\": {\"aaxis\": {\"gridcolor\": \"white\", \"linecolor\": \"white\", \"ticks\": \"\"}, \"baxis\": {\"gridcolor\": \"white\", \"linecolor\": \"white\", \"ticks\": \"\"}, \"bgcolor\": \"#E5ECF6\", \"caxis\": {\"gridcolor\": \"white\", \"linecolor\": \"white\", \"ticks\": \"\"}}, \"title\": {\"x\": 0.05}, \"xaxis\": {\"automargin\": true, \"gridcolor\": \"white\", \"linecolor\": \"white\", \"ticks\": \"\", \"title\": {\"standoff\": 15}, \"zerolinecolor\": \"white\", \"zerolinewidth\": 2}, \"yaxis\": {\"automargin\": true, \"gridcolor\": \"white\", \"linecolor\": \"white\", \"ticks\": \"\", \"title\": {\"standoff\": 15}, \"zerolinecolor\": \"white\", \"zerolinewidth\": 2}}}, \"title\": {\"text\": \"Influence of weekdays on mobility\"}, \"updatemenus\": [{\"active\": 0, \"buttons\": [{\"args\": [{\"visible\": [1.0, 1.0, 1.0, 1.0, 1.0, 1.0, 1.0]}, {\"title\": \"Plot all weekdays\"}], \"label\": \"Plot all weekdays\", \"method\": \"update\"}, {\"args\": [{\"visible\": [true, true, false, false, false, false, false, false, false, false, false, false, false, false]}, {\"title\": \"Monday\"}], \"label\": \"Monday\", \"method\": \"update\"}, {\"args\": [{\"visible\": [false, false, true, true, false, false, false, false, false, false, false, false, false, false]}, {\"title\": \"Tuesday\"}], \"label\": \"Tuesday\", \"method\": \"update\"}, {\"args\": [{\"visible\": [false, false, false, false, true, true, false, false, false, false, false, false, false, false]}, {\"title\": \"Wednesday\"}], \"label\": \"Wednesday\", \"method\": \"update\"}, {\"args\": [{\"visible\": [false, false, false, false, false, false, true, true, false, false, false, false, false, false]}, {\"title\": \"Thursday\"}], \"label\": \"Thursday\", \"method\": \"update\"}, {\"args\": [{\"visible\": [false, false, false, false, false, false, false, false, true, true, false, false, false, false]}, {\"title\": \"Friday\"}], \"label\": \"Friday\", \"method\": \"update\"}, {\"args\": [{\"visible\": [false, false, false, false, false, false, false, false, false, false, true, true, false, false]}, {\"title\": \"Saturday\"}], \"label\": \"Saturday\", \"method\": \"update\"}, {\"args\": [{\"visible\": [false, false, false, false, false, false, false, false, false, false, false, false, true, true]}, {\"title\": \"Sunday\"}], \"label\": \"Sunday\", \"method\": \"update\"}]}], \"xaxis\": {\"title\": {\"text\": \"Distance travelled in km by weekday in logarithmic scale\"}, \"type\": \"log\"}, \"yaxis\": {\"title\": {\"text\": \"Probability of travelling\"}}},                        {\"responsive\": true}                    ).then(function(){\n",
       "                            \n",
       "var gd = document.getElementById('32b8adcf-385c-402d-835b-2419f3f0f0c9');\n",
       "var x = new MutationObserver(function (mutations, observer) {{\n",
       "        var display = window.getComputedStyle(gd).display;\n",
       "        if (!display || display === 'none') {{\n",
       "            console.log([gd, 'removed!']);\n",
       "            Plotly.purge(gd);\n",
       "            observer.disconnect();\n",
       "        }}\n",
       "}});\n",
       "\n",
       "// Listen for the removal of the full notebook cells\n",
       "var notebookContainer = gd.closest('#notebook-container');\n",
       "if (notebookContainer) {{\n",
       "    x.observe(notebookContainer, {childList: true});\n",
       "}}\n",
       "\n",
       "// Listen for the clearing of the current output cell\n",
       "var outputEl = gd.closest('.output');\n",
       "if (outputEl) {{\n",
       "    x.observe(outputEl, {childList: true});\n",
       "}}\n",
       "\n",
       "                        })                };                });            </script>        </div>"
      ]
     },
     "metadata": {},
     "output_type": "display_data"
    }
   ],
   "source": [
    "# Initialize figure\n",
    "fig = go.Figure()\n",
    "\n",
    "# Add Traces\n",
    "for i in col_names_:\n",
    "    fig.add_trace(\n",
    "    go.Scatter(x=buckets,\n",
    "               y=df_week[i].values,\n",
    "               name=i))\n",
    "\n",
    "# Add layout\n",
    "fig.update_layout(\n",
    "    updatemenus=[\n",
    "        dict(\n",
    "            active=0,\n",
    "            buttons=list_dict(col_names_,len(col_names_)),\n",
    "        )\n",
    "    ])\n",
    "\n",
    "# Define axies\n",
    "fig.update_xaxes(title_text=\"Distance travelled in km by weekday in logarithmic scale\", type=\"log\")\n",
    "fig.update_yaxes(title_text=\"Probability of travelling\")  \n",
    "# Set title\n",
    "fig.update_layout(title_text=\"Influence of weekdays on mobility\")\n",
    "fig.show()"
   ]
  },
  {
   "cell_type": "code",
   "execution_count": 160,
   "metadata": {},
   "outputs": [],
   "source": [
    "# Save html\n",
    "pio.write_html(fig, file='weekday_influence.html', auto_open=True)"
   ]
  },
  {
   "cell_type": "markdown",
   "metadata": {},
   "source": [
    "# Create the interactive plot for pairwise combinasion of categories"
   ]
  },
  {
   "cell_type": "code",
   "execution_count": null,
   "metadata": {},
   "outputs": [],
   "source": []
  },
  {
   "cell_type": "code",
   "execution_count": null,
   "metadata": {},
   "outputs": [],
   "source": []
  },
  {
   "cell_type": "code",
   "execution_count": null,
   "metadata": {},
   "outputs": [],
   "source": []
  },
  {
   "cell_type": "code",
   "execution_count": null,
   "metadata": {},
   "outputs": [],
   "source": []
  },
  {
   "cell_type": "code",
   "execution_count": null,
   "metadata": {},
   "outputs": [],
   "source": []
  },
  {
   "cell_type": "code",
   "execution_count": null,
   "metadata": {},
   "outputs": [],
   "source": []
  }
 ],
 "metadata": {
  "kernelspec": {
   "display_name": "Python 3",
   "language": "python",
   "name": "python3"
  },
  "language_info": {
   "codemirror_mode": {
    "name": "ipython",
    "version": 3
   },
   "file_extension": ".py",
   "mimetype": "text/x-python",
   "name": "python",
   "nbconvert_exporter": "python",
   "pygments_lexer": "ipython3",
   "version": "3.7.4"
  }
 },
 "nbformat": 4,
 "nbformat_minor": 2
}
