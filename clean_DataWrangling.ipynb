{
 "cells": [
  {
   "cell_type": "markdown",
   "metadata": {},
   "source": [
    "# Table of Contents:\n",
    "* [I. Import libraries](#I.-Import-libraries)\n",
    "* [II. Data Wangling](#II.-Data-Wangling)\n",
    "    * [Prepare the dataframe for business](#Prepare-the-dataframe-for-business)\n",
    "    * [Prepare the dataframe for users](#Prepare-the-dataframe-for-users)\n",
    "    * [Prepare the dataframe for reviews](#Prepare-the-dataframe-for-reviews)\n",
    "    * [Prepare categories of businesses](#Prepare-categories-of-businesses)\n",
    "    * [Add category labels to business dataframe](#Add-category-labels-to-business-dataframe)\n",
    "    * [Prepare review dataframe with only selected users](#Prepare-review-dataframe-with-only-selected-users)\n"
   ]
  },
  {
   "cell_type": "markdown",
   "metadata": {},
   "source": [
    "# I. Import libraries"
   ]
  },
  {
   "cell_type": "code",
   "execution_count": 1,
   "metadata": {},
   "outputs": [],
   "source": [
    "import json\n",
    "import math\n",
    "import pickle\n",
    "import pandas as pd\n",
    "import numpy as np\n",
    "import seaborn as sns\n",
    "import matplotlib.pyplot as plt"
   ]
  },
  {
   "cell_type": "markdown",
   "metadata": {},
   "source": [
    "# II. Data Wangling\n",
    "### Prepare the dataframe for business\n",
    "\n",
    "The original business file is a `csv` file of 148 MB. However, only some attributes are useful. So useless columns are removed from the data. The new dataframe is stored as a csv named df_user.csv. This file has 46.8 MB."
   ]
  },
  {
   "cell_type": "code",
   "execution_count": 2,
   "metadata": {},
   "outputs": [],
   "source": [
    "# Read original dataframe\n",
    "df_business_ori = pd.read_json(\"./data/yelp_academic_dataset_business.json\", lines = True)"
   ]
  },
  {
   "cell_type": "code",
   "execution_count": 3,
   "metadata": {},
   "outputs": [
    {
     "data": {
      "text/html": [
       "<div>\n",
       "<style scoped>\n",
       "    .dataframe tbody tr th:only-of-type {\n",
       "        vertical-align: middle;\n",
       "    }\n",
       "\n",
       "    .dataframe tbody tr th {\n",
       "        vertical-align: top;\n",
       "    }\n",
       "\n",
       "    .dataframe thead th {\n",
       "        text-align: right;\n",
       "    }\n",
       "</style>\n",
       "<table border=\"1\" class=\"dataframe\">\n",
       "  <thead>\n",
       "    <tr style=\"text-align: right;\">\n",
       "      <th></th>\n",
       "      <th>business_id</th>\n",
       "      <th>state</th>\n",
       "      <th>latitude</th>\n",
       "      <th>longitude</th>\n",
       "      <th>categories</th>\n",
       "      <th>stars</th>\n",
       "    </tr>\n",
       "  </thead>\n",
       "  <tbody>\n",
       "    <tr>\n",
       "      <th>0</th>\n",
       "      <td>f9NumwFMBDn751xgFiRbNA</td>\n",
       "      <td>NC</td>\n",
       "      <td>35.462724</td>\n",
       "      <td>-80.852612</td>\n",
       "      <td>Active Life, Gun/Rifle Ranges, Guns &amp; Ammo, Sh...</td>\n",
       "      <td>3.5</td>\n",
       "    </tr>\n",
       "    <tr>\n",
       "      <th>1</th>\n",
       "      <td>Yzvjg0SayhoZgCljUJRF9Q</td>\n",
       "      <td>AZ</td>\n",
       "      <td>33.569404</td>\n",
       "      <td>-111.890264</td>\n",
       "      <td>Health &amp; Medical, Fitness &amp; Instruction, Yoga,...</td>\n",
       "      <td>5.0</td>\n",
       "    </tr>\n",
       "    <tr>\n",
       "      <th>2</th>\n",
       "      <td>XNoUzKckATkOD1hP6vghZg</td>\n",
       "      <td>QC</td>\n",
       "      <td>45.479984</td>\n",
       "      <td>-73.580070</td>\n",
       "      <td>Pets, Pet Services, Pet Groomers</td>\n",
       "      <td>5.0</td>\n",
       "    </tr>\n",
       "  </tbody>\n",
       "</table>\n",
       "</div>"
      ],
      "text/plain": [
       "              business_id state   latitude   longitude  \\\n",
       "0  f9NumwFMBDn751xgFiRbNA    NC  35.462724  -80.852612   \n",
       "1  Yzvjg0SayhoZgCljUJRF9Q    AZ  33.569404 -111.890264   \n",
       "2  XNoUzKckATkOD1hP6vghZg    QC  45.479984  -73.580070   \n",
       "\n",
       "                                          categories  stars  \n",
       "0  Active Life, Gun/Rifle Ranges, Guns & Ammo, Sh...    3.5  \n",
       "1  Health & Medical, Fitness & Instruction, Yoga,...    5.0  \n",
       "2                   Pets, Pet Services, Pet Groomers    5.0  "
      ]
     },
     "execution_count": 3,
     "metadata": {},
     "output_type": "execute_result"
    }
   ],
   "source": [
    "# Keep only relevant colunms\n",
    "df_business = df_business_ori[['business_id','state','latitude','longitude', 'categories','stars']].copy()\n",
    "# Show an example\n",
    "df_business[:3]"
   ]
  },
  {
   "cell_type": "code",
   "execution_count": 4,
   "metadata": {},
   "outputs": [],
   "source": [
    "# Save smaller dataframe as csv in order to not load the entire dataset next time\n",
    "df_business.to_csv('./data/df_business.csv',index=False)"
   ]
  },
  {
   "cell_type": "markdown",
   "metadata": {},
   "source": [
    "### Prepare the dataframe for users\n",
    "The original user file is a `json` file of 3.3 GB. However, we only use attributes `user_id` and `firends`. So a new dataframe for users is created and stored as a `csv` named `df_user.csv`. This file has 2.5 GB."
   ]
  },
  {
   "cell_type": "code",
   "execution_count": 5,
   "metadata": {},
   "outputs": [],
   "source": [
    "# Read large json file of user\n",
    "with open(\"./data/yelp_academic_dataset_user.json\") as json_file:      \n",
    "    data = json_file.readlines()\n",
    "    data = list(map(json.loads, data)) "
   ]
  },
  {
   "cell_type": "code",
   "execution_count": 6,
   "metadata": {},
   "outputs": [],
   "source": [
    "# Convert to DataFrame\n",
    "df_user_ori = pd.DataFrame(data)    \n",
    "# Keep only relevant colunms\n",
    "df_users = df_user_ori[['user_id','friends']].copy()"
   ]
  },
  {
   "cell_type": "code",
   "execution_count": 7,
   "metadata": {},
   "outputs": [
    {
     "data": {
      "text/html": [
       "<div>\n",
       "<style scoped>\n",
       "    .dataframe tbody tr th:only-of-type {\n",
       "        vertical-align: middle;\n",
       "    }\n",
       "\n",
       "    .dataframe tbody tr th {\n",
       "        vertical-align: top;\n",
       "    }\n",
       "\n",
       "    .dataframe thead th {\n",
       "        text-align: right;\n",
       "    }\n",
       "</style>\n",
       "<table border=\"1\" class=\"dataframe\">\n",
       "  <thead>\n",
       "    <tr style=\"text-align: right;\">\n",
       "      <th></th>\n",
       "      <th>user_id</th>\n",
       "      <th>friends</th>\n",
       "    </tr>\n",
       "  </thead>\n",
       "  <tbody>\n",
       "    <tr>\n",
       "      <th>0</th>\n",
       "      <td>ntlvfPzc8eglqvk92iDIAw</td>\n",
       "      <td>oeMvJh94PiGQnx_6GlndPQ, wm1z1PaJKvHgSDRKfwhfDg...</td>\n",
       "    </tr>\n",
       "    <tr>\n",
       "      <th>1</th>\n",
       "      <td>FOBRPlBHa3WPHFB5qYDlVg</td>\n",
       "      <td>ly7EnE8leJmyqyePVYFlug, pRlR63iDytsnnniPb3AOug...</td>\n",
       "    </tr>\n",
       "    <tr>\n",
       "      <th>2</th>\n",
       "      <td>zZUnPeh2hEp0WydbAZEOOg</td>\n",
       "      <td>Uwlk0txjQBPw_JhHsQnyeg, Ybxr1tSCkv3lYA0I1qmnPQ...</td>\n",
       "    </tr>\n",
       "  </tbody>\n",
       "</table>\n",
       "</div>"
      ],
      "text/plain": [
       "                  user_id                                            friends\n",
       "0  ntlvfPzc8eglqvk92iDIAw  oeMvJh94PiGQnx_6GlndPQ, wm1z1PaJKvHgSDRKfwhfDg...\n",
       "1  FOBRPlBHa3WPHFB5qYDlVg  ly7EnE8leJmyqyePVYFlug, pRlR63iDytsnnniPb3AOug...\n",
       "2  zZUnPeh2hEp0WydbAZEOOg  Uwlk0txjQBPw_JhHsQnyeg, Ybxr1tSCkv3lYA0I1qmnPQ..."
      ]
     },
     "execution_count": 7,
     "metadata": {},
     "output_type": "execute_result"
    }
   ],
   "source": [
    "# Show an example\n",
    "df_users[:3]"
   ]
  },
  {
   "cell_type": "code",
   "execution_count": 8,
   "metadata": {},
   "outputs": [],
   "source": [
    "# Save smaller dataframe as csv in order to not load the entire dataset next time\n",
    "df_users.to_csv('./data/df_user.csv',index=False)"
   ]
  },
  {
   "cell_type": "markdown",
   "metadata": {},
   "source": [
    "### Prepare the dataframe for reviews\n",
    "\n",
    "The original review file is a `json` file of 6.3 GB containing many useless attributes. We have used `jq`, a tool which allows us to select the desired attribute. The result is stored in a `csv` file named `df_reviews.csv`. This file has 729.9 MB."
   ]
  },
  {
   "cell_type": "code",
   "execution_count": 9,
   "metadata": {
    "scrolled": true
   },
   "outputs": [
    {
     "data": {
      "text/html": [
       "<div>\n",
       "<style scoped>\n",
       "    .dataframe tbody tr th:only-of-type {\n",
       "        vertical-align: middle;\n",
       "    }\n",
       "\n",
       "    .dataframe tbody tr th {\n",
       "        vertical-align: top;\n",
       "    }\n",
       "\n",
       "    .dataframe thead th {\n",
       "        text-align: right;\n",
       "    }\n",
       "</style>\n",
       "<table border=\"1\" class=\"dataframe\">\n",
       "  <thead>\n",
       "    <tr style=\"text-align: right;\">\n",
       "      <th></th>\n",
       "      <th>review_id</th>\n",
       "      <th>user_id</th>\n",
       "      <th>business_id</th>\n",
       "      <th>stars</th>\n",
       "      <th>date</th>\n",
       "    </tr>\n",
       "  </thead>\n",
       "  <tbody>\n",
       "    <tr>\n",
       "      <th>0</th>\n",
       "      <td>xQY8N_XvtGbearJ5X4QryQ</td>\n",
       "      <td>OwjRMXRC0KyPrIlcjaXeFQ</td>\n",
       "      <td>-MhfebM0QIsKt87iDN-FNw</td>\n",
       "      <td>2</td>\n",
       "      <td>2015-04-15 05:21:16</td>\n",
       "    </tr>\n",
       "    <tr>\n",
       "      <th>1</th>\n",
       "      <td>UmFMZ8PyXZTY2QcwzsfQYA</td>\n",
       "      <td>nIJD_7ZXHq-FX8byPMOkMQ</td>\n",
       "      <td>lbrU8StCq3yDfr-QMnGrmQ</td>\n",
       "      <td>1</td>\n",
       "      <td>2013-12-07 03:16:52</td>\n",
       "    </tr>\n",
       "    <tr>\n",
       "      <th>2</th>\n",
       "      <td>LG2ZaYiOgpr2DK_90pYjNw</td>\n",
       "      <td>V34qejxNsCbcgD8C0HVk-Q</td>\n",
       "      <td>HQl28KMwrEKHqhFrrDqVNQ</td>\n",
       "      <td>5</td>\n",
       "      <td>2015-12-05 03:18:11</td>\n",
       "    </tr>\n",
       "    <tr>\n",
       "      <th>3</th>\n",
       "      <td>i6g_oA9Yf9Y31qt0wibXpw</td>\n",
       "      <td>ofKDkJKXSKZXu5xJNGiiBQ</td>\n",
       "      <td>5JxlZaqCnk1MnbgRirs40Q</td>\n",
       "      <td>1</td>\n",
       "      <td>2011-05-27 05:30:52</td>\n",
       "    </tr>\n",
       "    <tr>\n",
       "      <th>4</th>\n",
       "      <td>6TdNDKywdbjoTkizeMce8A</td>\n",
       "      <td>UgMW8bLE0QMJDCkQ1Ax5Mg</td>\n",
       "      <td>IS4cv902ykd8wj1TR0N3-A</td>\n",
       "      <td>4</td>\n",
       "      <td>2017-01-14 21:56:57</td>\n",
       "    </tr>\n",
       "  </tbody>\n",
       "</table>\n",
       "</div>"
      ],
      "text/plain": [
       "                review_id                 user_id             business_id  \\\n",
       "0  xQY8N_XvtGbearJ5X4QryQ  OwjRMXRC0KyPrIlcjaXeFQ  -MhfebM0QIsKt87iDN-FNw   \n",
       "1  UmFMZ8PyXZTY2QcwzsfQYA  nIJD_7ZXHq-FX8byPMOkMQ  lbrU8StCq3yDfr-QMnGrmQ   \n",
       "2  LG2ZaYiOgpr2DK_90pYjNw  V34qejxNsCbcgD8C0HVk-Q  HQl28KMwrEKHqhFrrDqVNQ   \n",
       "3  i6g_oA9Yf9Y31qt0wibXpw  ofKDkJKXSKZXu5xJNGiiBQ  5JxlZaqCnk1MnbgRirs40Q   \n",
       "4  6TdNDKywdbjoTkizeMce8A  UgMW8bLE0QMJDCkQ1Ax5Mg  IS4cv902ykd8wj1TR0N3-A   \n",
       "\n",
       "   stars                 date  \n",
       "0      2  2015-04-15 05:21:16  \n",
       "1      1  2013-12-07 03:16:52  \n",
       "2      5  2015-12-05 03:18:11  \n",
       "3      1  2011-05-27 05:30:52  \n",
       "4      4  2017-01-14 21:56:57  "
      ]
     },
     "execution_count": 9,
     "metadata": {},
     "output_type": "execute_result"
    }
   ],
   "source": [
    "# Read the review file\n",
    "df_review = pd.read_csv(\"./data/df_reviews.csv\")\n",
    "# Show an example\n",
    "df_review.head()"
   ]
  },
  {
   "cell_type": "markdown",
   "metadata": {},
   "source": [
    "### Prepare categories of businesses"
   ]
  },
  {
   "cell_type": "markdown",
   "metadata": {},
   "source": [
    "The categories used to describe the businesses were way too specific, so we decided to label those 1336 very sharp categories to 17 more general categories described in the `business_category-list.pdf`, making it easier to make some analysis around those 17 labels. Since this labelling was done by hand, we had to correct a few of the typos (missing letters, lower cases, additional spaces). The 17 more general categories are `Automotive`, `BusinessSupport`, `Computer(& Elecetronics)`, `Construction`, `Education`, `Entertainment`, `Food(& Dining)`, `Health`, `Home(& Garden)`, `Legal(& Finance)`, `Manufacturing`, `Merchant`, `Miscellaneous`, `PersonalCare`, `RealEstate`, `Sport`, `Travel(& Transportation)`."
   ]
  },
  {
   "cell_type": "code",
   "execution_count": 10,
   "metadata": {},
   "outputs": [],
   "source": [
    "# Read prepared csv mapping category name to category label\n",
    "df_categories = pd.read_csv('name_category.csv')"
   ]
  },
  {
   "cell_type": "code",
   "execution_count": 11,
   "metadata": {},
   "outputs": [],
   "source": [
    "def correction_name(x):\n",
    "    \"\"\"\n",
    "        Sanitize category name\n",
    "        x: row of the dataframe\n",
    "        Return: sanitized category name\n",
    "    \"\"\"\n",
    "    name = x[0]\n",
    "    name = name.replace(\"'\", \"\")\n",
    "    return name\n",
    "\n",
    "def correction_category(x):\n",
    "    \"\"\"\n",
    "        Sanitize category label\n",
    "        x: row of the dataframe\n",
    "        Return: sanitized category\n",
    "    \"\"\"\n",
    "    category = x[1]\n",
    "    category = category.replace(\" \", \"\")\n",
    "    category = category.replace(\"Consruction\", \"Construction\")\n",
    "    category = category.replace(\"Constructor\", \"Construction\")\n",
    "    category = category.replace(\"Entertainement\", \"Entertainment\")\n",
    "    category = category.replace(\"Entertainemnt\", \"Entertainment\")\n",
    "    category = category.replace(\"Entertainments\", \"Entertainment\")\n",
    "    category = category.replace(\"Merchants\", \"Merchant\")\n",
    "    category = category.replace(\"'\", \"\")\n",
    "    category = category.replace(\"Mischellaneous\", \"Miscellaneous\")\n",
    "    category = category.replace(\"food\", \"Food\")\n",
    "    return category"
   ]
  },
  {
   "cell_type": "code",
   "execution_count": 12,
   "metadata": {},
   "outputs": [],
   "source": [
    "# Sanitize category name and category label\n",
    "df_categories['name'] = df_categories.apply(lambda x: correction_name(x), axis=1)\n",
    "df_categories['category'] = df_categories.apply(lambda x: correction_category(x), axis=1)"
   ]
  },
  {
   "cell_type": "code",
   "execution_count": 13,
   "metadata": {},
   "outputs": [],
   "source": [
    "# Save sanitized file\n",
    "df_categories.to_csv('name_category.csv', index=False)"
   ]
  },
  {
   "cell_type": "markdown",
   "metadata": {},
   "source": [
    "### Add category labels to business dataframe"
   ]
  },
  {
   "cell_type": "code",
   "execution_count": 14,
   "metadata": {},
   "outputs": [],
   "source": [
    "# Add category labels to business dataframe\n",
    "df_business['categories'] = df_business.categories.apply(lambda x: [] if x == None else x.split(', '))"
   ]
  },
  {
   "cell_type": "code",
   "execution_count": 15,
   "metadata": {},
   "outputs": [],
   "source": [
    "# Create a dictionary mapping category name to category label\n",
    "dict_categories = df_categories.set_index('name')['category'].to_dict()\n",
    "# Tokenize the category label and store in a dictionary\n",
    "indexCategory = {val: key for key, val in enumerate(set(df_categories['category']))}"
   ]
  },
  {
   "cell_type": "code",
   "execution_count": 16,
   "metadata": {},
   "outputs": [],
   "source": [
    "def create_category_mask(row): \n",
    "    \"\"\"\n",
    "        For categories of each business, create a mask of categories\n",
    "        row: row of the dataframe\n",
    "        Return: mask of categories. If 1 at index i, it means that the business have i-th category.\n",
    "    \"\"\"\n",
    "    res  = np.zeros(numberCat)\n",
    "    for r in row:\n",
    "        category = dict_categories.get(r)\n",
    "        index = indexCategory.get(category)\n",
    "        res[index] = 1\n",
    "    return res > 0\n",
    "# Vectorize the function \n",
    "#create_category_mask_vect = np.vectorize(test, signature='()->(k)')"
   ]
  },
  {
   "cell_type": "code",
   "execution_count": 17,
   "metadata": {},
   "outputs": [],
   "source": [
    "# Fetch the number of categories\n",
    "numberCat = len(set(df_categories['category']))\n",
    "# Create category mask for each business in reviews\n",
    "categoryMask = df_business.apply(lambda row: create_category_mask(row.categories),axis=1)"
   ]
  },
  {
   "cell_type": "code",
   "execution_count": 18,
   "metadata": {},
   "outputs": [],
   "source": [
    "# For each category, add a new column to the business dataframe\n",
    "for category_name in set(df_categories['category']):\n",
    "    # Create \"category_name\" column, and assign the category mask\n",
    "    # If mask at row i is True, it means that the business at row i has category: \"category_name\"\n",
    "    df_business[category_name] = [tup[indexCategory.get(category_name)] for tup in categoryMask]"
   ]
  },
  {
   "cell_type": "code",
   "execution_count": 19,
   "metadata": {},
   "outputs": [
    {
     "data": {
      "text/html": [
       "<div>\n",
       "<style scoped>\n",
       "    .dataframe tbody tr th:only-of-type {\n",
       "        vertical-align: middle;\n",
       "    }\n",
       "\n",
       "    .dataframe tbody tr th {\n",
       "        vertical-align: top;\n",
       "    }\n",
       "\n",
       "    .dataframe thead th {\n",
       "        text-align: right;\n",
       "    }\n",
       "</style>\n",
       "<table border=\"1\" class=\"dataframe\">\n",
       "  <thead>\n",
       "    <tr style=\"text-align: right;\">\n",
       "      <th></th>\n",
       "      <th>business_id</th>\n",
       "      <th>state</th>\n",
       "      <th>latitude</th>\n",
       "      <th>longitude</th>\n",
       "      <th>categories</th>\n",
       "      <th>stars</th>\n",
       "      <th>Construction</th>\n",
       "      <th>Computers</th>\n",
       "      <th>Home</th>\n",
       "      <th>Merchant</th>\n",
       "      <th>...</th>\n",
       "      <th>Education</th>\n",
       "      <th>Legal</th>\n",
       "      <th>BusinessSupport</th>\n",
       "      <th>PersonalCare</th>\n",
       "      <th>Entertainment</th>\n",
       "      <th>RealEstate</th>\n",
       "      <th>Automotive</th>\n",
       "      <th>Food</th>\n",
       "      <th>Miscellaneous</th>\n",
       "      <th>Health</th>\n",
       "    </tr>\n",
       "  </thead>\n",
       "  <tbody>\n",
       "    <tr>\n",
       "      <th>0</th>\n",
       "      <td>f9NumwFMBDn751xgFiRbNA</td>\n",
       "      <td>NC</td>\n",
       "      <td>35.462724</td>\n",
       "      <td>-80.852612</td>\n",
       "      <td>[Active Life, Gun/Rifle Ranges, Guns &amp; Ammo, S...</td>\n",
       "      <td>3.5</td>\n",
       "      <td>False</td>\n",
       "      <td>False</td>\n",
       "      <td>False</td>\n",
       "      <td>True</td>\n",
       "      <td>...</td>\n",
       "      <td>False</td>\n",
       "      <td>False</td>\n",
       "      <td>False</td>\n",
       "      <td>True</td>\n",
       "      <td>True</td>\n",
       "      <td>False</td>\n",
       "      <td>False</td>\n",
       "      <td>False</td>\n",
       "      <td>False</td>\n",
       "      <td>False</td>\n",
       "    </tr>\n",
       "    <tr>\n",
       "      <th>1</th>\n",
       "      <td>Yzvjg0SayhoZgCljUJRF9Q</td>\n",
       "      <td>AZ</td>\n",
       "      <td>33.569404</td>\n",
       "      <td>-111.890264</td>\n",
       "      <td>[Health &amp; Medical, Fitness &amp; Instruction, Yoga...</td>\n",
       "      <td>5.0</td>\n",
       "      <td>False</td>\n",
       "      <td>False</td>\n",
       "      <td>False</td>\n",
       "      <td>False</td>\n",
       "      <td>...</td>\n",
       "      <td>False</td>\n",
       "      <td>False</td>\n",
       "      <td>False</td>\n",
       "      <td>True</td>\n",
       "      <td>False</td>\n",
       "      <td>False</td>\n",
       "      <td>False</td>\n",
       "      <td>False</td>\n",
       "      <td>False</td>\n",
       "      <td>True</td>\n",
       "    </tr>\n",
       "  </tbody>\n",
       "</table>\n",
       "<p>2 rows × 23 columns</p>\n",
       "</div>"
      ],
      "text/plain": [
       "              business_id state   latitude   longitude  \\\n",
       "0  f9NumwFMBDn751xgFiRbNA    NC  35.462724  -80.852612   \n",
       "1  Yzvjg0SayhoZgCljUJRF9Q    AZ  33.569404 -111.890264   \n",
       "\n",
       "                                          categories  stars  Construction  \\\n",
       "0  [Active Life, Gun/Rifle Ranges, Guns & Ammo, S...    3.5         False   \n",
       "1  [Health & Medical, Fitness & Instruction, Yoga...    5.0         False   \n",
       "\n",
       "   Computers   Home  Merchant  ...  Education  Legal  BusinessSupport  \\\n",
       "0      False  False      True  ...      False  False            False   \n",
       "1      False  False     False  ...      False  False            False   \n",
       "\n",
       "   PersonalCare  Entertainment  RealEstate  Automotive   Food  Miscellaneous  \\\n",
       "0          True           True       False       False  False          False   \n",
       "1          True          False       False       False  False          False   \n",
       "\n",
       "   Health  \n",
       "0   False  \n",
       "1    True  \n",
       "\n",
       "[2 rows x 23 columns]"
      ]
     },
     "execution_count": 19,
     "metadata": {},
     "output_type": "execute_result"
    }
   ],
   "source": [
    "# Show an example\n",
    "df_business.head(2)"
   ]
  },
  {
   "cell_type": "code",
   "execution_count": 20,
   "metadata": {},
   "outputs": [],
   "source": [
    "# Save smaller dataframe as csv in order to not load the entire dataset next time\n",
    "df_business.to_csv('./data/df_business.csv',index=False)"
   ]
  },
  {
   "cell_type": "markdown",
   "metadata": {},
   "source": [
    "### Prepare review dataframe with only selected users\n",
    "For our study, we need to infer user's home, so we need **at least 3 reviews**. Also, we will study users with **at least 3 friends**. "
   ]
  },
  {
   "cell_type": "code",
   "execution_count": 21,
   "metadata": {},
   "outputs": [],
   "source": [
    "# Convert the string of friends to a list\n",
    "df_users['friend_list'] = df_users.apply(lambda x: x.friends.split(', '), axis=1)\n",
    "df_users = df_users.drop('friends', axis=1)"
   ]
  },
  {
   "cell_type": "code",
   "execution_count": 23,
   "metadata": {},
   "outputs": [],
   "source": [
    "# We count the number of reviewe per user\n",
    "df_numberOfReviews = df_review.groupby('user_id').count().drop(['business_id', 'stars', 'date'], axis = 1).rename(columns={'review_id': 'review_count'})"
   ]
  },
  {
   "cell_type": "code",
   "execution_count": 24,
   "metadata": {},
   "outputs": [],
   "source": [
    "# We merge the df_users dataset to the df_numberOfReviews dataset\n",
    "df_users = pd.merge(df_users, df_numberOfReviews, left_on='user_id', right_on='user_id', how='inner')"
   ]
  },
  {
   "cell_type": "code",
   "execution_count": 25,
   "metadata": {},
   "outputs": [],
   "source": [
    "# We create a mask for users with more than 3 friends\n",
    "mask = df_users.apply(lambda x: len(x.friend_list) >= 3, axis=1)"
   ]
  },
  {
   "cell_type": "code",
   "execution_count": 26,
   "metadata": {},
   "outputs": [
    {
     "name": "stdout",
     "output_type": "stream",
     "text": [
      "Number of users with more than 3 reviews: 602736\n",
      "Number of users with more than 3 friends: 957463\n"
     ]
    }
   ],
   "source": [
    "print('Number of users with more than 3 reviews:', df_numberOfReviews[df_numberOfReviews['review_count'] >= 3].shape[0])\n",
    "print('Number of users with more than 3 friends:', df_users[mask].shape[0])"
   ]
  },
  {
   "cell_type": "code",
   "execution_count": 27,
   "metadata": {},
   "outputs": [
    {
     "name": "stdout",
     "output_type": "stream",
     "text": [
      "Number of users with more than 4 reviews and with more than 3 friends: 343424\n"
     ]
    }
   ],
   "source": [
    "# Select users that satisfy both conditions\n",
    "df_selectedUsers = df_users[mask&(df_users['review_count'] >= 3)]\n",
    "print('Number of users with more than 3 reviews and with more than 3 friends:', df_selectedUsers.shape[0])"
   ]
  },
  {
   "cell_type": "code",
   "execution_count": 37,
   "metadata": {},
   "outputs": [],
   "source": [
    "# Save smaller user dataframe as csv in order to not load the entire dataset next time\n",
    "df_selectedUsers.to_csv('./data/selectedUsers.csv',index=False)"
   ]
  },
  {
   "cell_type": "code",
   "execution_count": 28,
   "metadata": {},
   "outputs": [
    {
     "name": "stdout",
     "output_type": "stream",
     "text": [
      "Number of checkins of selected users: 4516345\n"
     ]
    }
   ],
   "source": [
    "# Number of checkins of the selected users\n",
    "print('Number of checkins of selected users:', df_selectedUsers['review_count'].sum())"
   ]
  },
  {
   "cell_type": "markdown",
   "metadata": {},
   "source": [
    "Prepare a dataframe containly only selected users."
   ]
  },
  {
   "cell_type": "code",
   "execution_count": 29,
   "metadata": {},
   "outputs": [],
   "source": [
    "# Merge review and business dataframe\n",
    "df_review = pd.merge(df_review, df_business, left_on='business_id', right_on='business_id', how='inner').drop(['state'], axis=1)"
   ]
  },
  {
   "cell_type": "code",
   "execution_count": 33,
   "metadata": {},
   "outputs": [],
   "source": [
    "# Select only rows of selected users\n",
    "df_selectedReviews = df_review[df_review[\"user_id\"].isin(df_selectedUsers.user_id)]"
   ]
  },
  {
   "cell_type": "code",
   "execution_count": 34,
   "metadata": {},
   "outputs": [
    {
     "name": "stderr",
     "output_type": "stream",
     "text": [
      "<ipython-input-34-f0a7b85b7e69>:2: SettingWithCopyWarning: \n",
      "A value is trying to be set on a copy of a slice from a DataFrame.\n",
      "Try using .loc[row_indexer,col_indexer] = value instead\n",
      "\n",
      "See the caveats in the documentation: https://pandas.pydata.org/pandas-docs/stable/user_guide/indexing.html#returning-a-view-versus-a-copy\n",
      "  df_selectedReviews[\"date\"] = pd.to_datetime(df_selectedReviews.date.values)\n"
     ]
    }
   ],
   "source": [
    "# Convert date to datetime object\n",
    "df_selectedReviews[\"date\"] = pd.to_datetime(df_selectedReviews.date.values)"
   ]
  },
  {
   "cell_type": "code",
   "execution_count": 40,
   "metadata": {},
   "outputs": [
    {
     "data": {
      "text/html": [
       "<div>\n",
       "<style scoped>\n",
       "    .dataframe tbody tr th:only-of-type {\n",
       "        vertical-align: middle;\n",
       "    }\n",
       "\n",
       "    .dataframe tbody tr th {\n",
       "        vertical-align: top;\n",
       "    }\n",
       "\n",
       "    .dataframe thead th {\n",
       "        text-align: right;\n",
       "    }\n",
       "</style>\n",
       "<table border=\"1\" class=\"dataframe\">\n",
       "  <thead>\n",
       "    <tr style=\"text-align: right;\">\n",
       "      <th></th>\n",
       "      <th>review_id</th>\n",
       "      <th>user_id</th>\n",
       "      <th>business_id</th>\n",
       "      <th>stars_x</th>\n",
       "      <th>date</th>\n",
       "      <th>latitude</th>\n",
       "      <th>longitude</th>\n",
       "      <th>categories</th>\n",
       "      <th>stars_y</th>\n",
       "      <th>Construction</th>\n",
       "      <th>...</th>\n",
       "      <th>Education</th>\n",
       "      <th>Legal</th>\n",
       "      <th>BusinessSupport</th>\n",
       "      <th>PersonalCare</th>\n",
       "      <th>Entertainment</th>\n",
       "      <th>RealEstate</th>\n",
       "      <th>Automotive</th>\n",
       "      <th>Food</th>\n",
       "      <th>Miscellaneous</th>\n",
       "      <th>Health</th>\n",
       "    </tr>\n",
       "  </thead>\n",
       "  <tbody>\n",
       "    <tr>\n",
       "      <th>1</th>\n",
       "      <td>t7xOZF5UKXjSpVcXLOSAgw</td>\n",
       "      <td>owbC7FP8SNAlwv6f9S5Stw</td>\n",
       "      <td>-MhfebM0QIsKt87iDN-FNw</td>\n",
       "      <td>2</td>\n",
       "      <td>2014-03-14 08:24:25</td>\n",
       "      <td>36.112896</td>\n",
       "      <td>-115.177637</td>\n",
       "      <td>[Shopping, Arts &amp; Entertainment, Art Galleries...</td>\n",
       "      <td>3.5</td>\n",
       "      <td>False</td>\n",
       "      <td>...</td>\n",
       "      <td>False</td>\n",
       "      <td>False</td>\n",
       "      <td>False</td>\n",
       "      <td>False</td>\n",
       "      <td>True</td>\n",
       "      <td>False</td>\n",
       "      <td>False</td>\n",
       "      <td>False</td>\n",
       "      <td>False</td>\n",
       "      <td>False</td>\n",
       "    </tr>\n",
       "    <tr>\n",
       "      <th>2</th>\n",
       "      <td>MimB5Xh85rG7phUMPrShag</td>\n",
       "      <td>v9vGnjphb0Hta0lvtf5haA</td>\n",
       "      <td>-MhfebM0QIsKt87iDN-FNw</td>\n",
       "      <td>3</td>\n",
       "      <td>2015-10-07 22:16:59</td>\n",
       "      <td>36.112896</td>\n",
       "      <td>-115.177637</td>\n",
       "      <td>[Shopping, Arts &amp; Entertainment, Art Galleries...</td>\n",
       "      <td>3.5</td>\n",
       "      <td>False</td>\n",
       "      <td>...</td>\n",
       "      <td>False</td>\n",
       "      <td>False</td>\n",
       "      <td>False</td>\n",
       "      <td>False</td>\n",
       "      <td>True</td>\n",
       "      <td>False</td>\n",
       "      <td>False</td>\n",
       "      <td>False</td>\n",
       "      <td>False</td>\n",
       "      <td>False</td>\n",
       "    </tr>\n",
       "    <tr>\n",
       "      <th>4</th>\n",
       "      <td>cnV5xtm6WuyaLfot9uWbDg</td>\n",
       "      <td>LkWNo83Lg92C5V4JEyxOZA</td>\n",
       "      <td>-MhfebM0QIsKt87iDN-FNw</td>\n",
       "      <td>3</td>\n",
       "      <td>2010-10-10 01:27:31</td>\n",
       "      <td>36.112896</td>\n",
       "      <td>-115.177637</td>\n",
       "      <td>[Shopping, Arts &amp; Entertainment, Art Galleries...</td>\n",
       "      <td>3.5</td>\n",
       "      <td>False</td>\n",
       "      <td>...</td>\n",
       "      <td>False</td>\n",
       "      <td>False</td>\n",
       "      <td>False</td>\n",
       "      <td>False</td>\n",
       "      <td>True</td>\n",
       "      <td>False</td>\n",
       "      <td>False</td>\n",
       "      <td>False</td>\n",
       "      <td>False</td>\n",
       "      <td>False</td>\n",
       "    </tr>\n",
       "    <tr>\n",
       "      <th>5</th>\n",
       "      <td>i593z2rGxk5Lj23Bx9o1Lg</td>\n",
       "      <td>mLtaUzSjIFO_3BmfPNUKqg</td>\n",
       "      <td>-MhfebM0QIsKt87iDN-FNw</td>\n",
       "      <td>1</td>\n",
       "      <td>2015-08-20 01:10:53</td>\n",
       "      <td>36.112896</td>\n",
       "      <td>-115.177637</td>\n",
       "      <td>[Shopping, Arts &amp; Entertainment, Art Galleries...</td>\n",
       "      <td>3.5</td>\n",
       "      <td>False</td>\n",
       "      <td>...</td>\n",
       "      <td>False</td>\n",
       "      <td>False</td>\n",
       "      <td>False</td>\n",
       "      <td>False</td>\n",
       "      <td>True</td>\n",
       "      <td>False</td>\n",
       "      <td>False</td>\n",
       "      <td>False</td>\n",
       "      <td>False</td>\n",
       "      <td>False</td>\n",
       "    </tr>\n",
       "    <tr>\n",
       "      <th>6</th>\n",
       "      <td>TWpbq_vbpJRotCQ6l8SeXA</td>\n",
       "      <td>wKX1tAeRIYPU4NtM-R5N2w</td>\n",
       "      <td>-MhfebM0QIsKt87iDN-FNw</td>\n",
       "      <td>5</td>\n",
       "      <td>2012-03-31 22:00:15</td>\n",
       "      <td>36.112896</td>\n",
       "      <td>-115.177637</td>\n",
       "      <td>[Shopping, Arts &amp; Entertainment, Art Galleries...</td>\n",
       "      <td>3.5</td>\n",
       "      <td>False</td>\n",
       "      <td>...</td>\n",
       "      <td>False</td>\n",
       "      <td>False</td>\n",
       "      <td>False</td>\n",
       "      <td>False</td>\n",
       "      <td>True</td>\n",
       "      <td>False</td>\n",
       "      <td>False</td>\n",
       "      <td>False</td>\n",
       "      <td>False</td>\n",
       "      <td>False</td>\n",
       "    </tr>\n",
       "  </tbody>\n",
       "</table>\n",
       "<p>5 rows × 26 columns</p>\n",
       "</div>"
      ],
      "text/plain": [
       "                review_id                 user_id             business_id  \\\n",
       "1  t7xOZF5UKXjSpVcXLOSAgw  owbC7FP8SNAlwv6f9S5Stw  -MhfebM0QIsKt87iDN-FNw   \n",
       "2  MimB5Xh85rG7phUMPrShag  v9vGnjphb0Hta0lvtf5haA  -MhfebM0QIsKt87iDN-FNw   \n",
       "4  cnV5xtm6WuyaLfot9uWbDg  LkWNo83Lg92C5V4JEyxOZA  -MhfebM0QIsKt87iDN-FNw   \n",
       "5  i593z2rGxk5Lj23Bx9o1Lg  mLtaUzSjIFO_3BmfPNUKqg  -MhfebM0QIsKt87iDN-FNw   \n",
       "6  TWpbq_vbpJRotCQ6l8SeXA  wKX1tAeRIYPU4NtM-R5N2w  -MhfebM0QIsKt87iDN-FNw   \n",
       "\n",
       "   stars_x                date   latitude   longitude  \\\n",
       "1        2 2014-03-14 08:24:25  36.112896 -115.177637   \n",
       "2        3 2015-10-07 22:16:59  36.112896 -115.177637   \n",
       "4        3 2010-10-10 01:27:31  36.112896 -115.177637   \n",
       "5        1 2015-08-20 01:10:53  36.112896 -115.177637   \n",
       "6        5 2012-03-31 22:00:15  36.112896 -115.177637   \n",
       "\n",
       "                                          categories  stars_y  Construction  \\\n",
       "1  [Shopping, Arts & Entertainment, Art Galleries...      3.5         False   \n",
       "2  [Shopping, Arts & Entertainment, Art Galleries...      3.5         False   \n",
       "4  [Shopping, Arts & Entertainment, Art Galleries...      3.5         False   \n",
       "5  [Shopping, Arts & Entertainment, Art Galleries...      3.5         False   \n",
       "6  [Shopping, Arts & Entertainment, Art Galleries...      3.5         False   \n",
       "\n",
       "   ...  Education  Legal  BusinessSupport  PersonalCare  Entertainment  \\\n",
       "1  ...      False  False            False         False           True   \n",
       "2  ...      False  False            False         False           True   \n",
       "4  ...      False  False            False         False           True   \n",
       "5  ...      False  False            False         False           True   \n",
       "6  ...      False  False            False         False           True   \n",
       "\n",
       "   RealEstate  Automotive   Food  Miscellaneous  Health  \n",
       "1       False       False  False          False   False  \n",
       "2       False       False  False          False   False  \n",
       "4       False       False  False          False   False  \n",
       "5       False       False  False          False   False  \n",
       "6       False       False  False          False   False  \n",
       "\n",
       "[5 rows x 26 columns]"
      ]
     },
     "execution_count": 40,
     "metadata": {},
     "output_type": "execute_result"
    }
   ],
   "source": [
    "# Show an example\n",
    "df_selectedReviews.head()"
   ]
  },
  {
   "cell_type": "code",
   "execution_count": 36,
   "metadata": {},
   "outputs": [],
   "source": [
    "# Save smaller dataframe as csv in order to not load the entire dataset next time\n",
    "df_selectedReviews.to_csv('./data/selectedReviews.csv',index=False)"
   ]
  }
 ],
 "metadata": {
  "kernelspec": {
   "display_name": "Python 3",
   "language": "python",
   "name": "python3"
  },
  "language_info": {
   "codemirror_mode": {
    "name": "ipython",
    "version": 3
   },
   "file_extension": ".py",
   "mimetype": "text/x-python",
   "name": "python",
   "nbconvert_exporter": "python",
   "pygments_lexer": "ipython3",
   "version": "3.8.5"
  }
 },
 "nbformat": 4,
 "nbformat_minor": 2
}
