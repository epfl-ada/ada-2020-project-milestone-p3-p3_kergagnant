{
 "cells": [
  {
   "cell_type": "markdown",
   "metadata": {},
   "source": [
    "# Table of Contents:\n",
    "* [I. Import libraries](#I.-Import-libraries)\n",
    "* [II. Data Wangling](#II.-Data-Wangling)\n",
    "    * [Prepare the dataframe for business](#Prepare-the-dataframe-for-business)\n",
    "    * [Prepare the dataframe for users](#Prepare-the-dataframe-for-users)\n",
    "    * [Prepare the dataframe for reviews](#Prepare-the-dataframe-for-reviews)\n",
    "    * [Prepare categories of businesses](#Prepare-categories-of-businesses)\n",
    "    * [Add category labels to business dataframe](#Add-category-labels-to-business-dataframe)\n",
    "    * [Prepare review dataframe with only selected users](#Prepare-review-dataframe-with-only-selected-users)\n"
   ]
  },
  {
   "cell_type": "markdown",
   "metadata": {},
   "source": [
    "# I. Import libraries"
   ]
  },
  {
   "cell_type": "code",
   "execution_count": 41,
   "metadata": {},
   "outputs": [],
   "source": [
    "import json\n",
    "import math\n",
    "import pickle\n",
    "import pandas as pd\n",
    "import numpy as np\n",
    "import seaborn as sns\n",
    "import matplotlib.pyplot as plt"
   ]
  },
  {
   "cell_type": "markdown",
   "metadata": {},
   "source": [
    "# II. Data Wangling\n",
    "### Prepare the dataframe for business\n",
    "\n",
    "The original business file is a `csv` file of 148 MB. However, only some attributes are useful. So useless columns are removed from the data. The new dataframe is stored as a csv named df_user.csv. This file has 46.8 MB."
   ]
  },
  {
   "cell_type": "code",
   "execution_count": 42,
   "metadata": {},
   "outputs": [],
   "source": [
    "# Read original dataframe\n",
    "df_business_ori = pd.read_json(\"./data/yelp_academic_dataset_business.json\", lines = True)"
   ]
  },
  {
   "cell_type": "code",
   "execution_count": 43,
   "metadata": {},
   "outputs": [
    {
     "data": {
      "text/html": [
       "<div>\n",
       "<style scoped>\n",
       "    .dataframe tbody tr th:only-of-type {\n",
       "        vertical-align: middle;\n",
       "    }\n",
       "\n",
       "    .dataframe tbody tr th {\n",
       "        vertical-align: top;\n",
       "    }\n",
       "\n",
       "    .dataframe thead th {\n",
       "        text-align: right;\n",
       "    }\n",
       "</style>\n",
       "<table border=\"1\" class=\"dataframe\">\n",
       "  <thead>\n",
       "    <tr style=\"text-align: right;\">\n",
       "      <th></th>\n",
       "      <th>business_id</th>\n",
       "      <th>state</th>\n",
       "      <th>latitude</th>\n",
       "      <th>longitude</th>\n",
       "      <th>categories</th>\n",
       "      <th>stars</th>\n",
       "    </tr>\n",
       "  </thead>\n",
       "  <tbody>\n",
       "    <tr>\n",
       "      <th>0</th>\n",
       "      <td>f9NumwFMBDn751xgFiRbNA</td>\n",
       "      <td>NC</td>\n",
       "      <td>35.462724</td>\n",
       "      <td>-80.852612</td>\n",
       "      <td>Active Life, Gun/Rifle Ranges, Guns &amp; Ammo, Sh...</td>\n",
       "      <td>3.5</td>\n",
       "    </tr>\n",
       "    <tr>\n",
       "      <th>1</th>\n",
       "      <td>Yzvjg0SayhoZgCljUJRF9Q</td>\n",
       "      <td>AZ</td>\n",
       "      <td>33.569404</td>\n",
       "      <td>-111.890264</td>\n",
       "      <td>Health &amp; Medical, Fitness &amp; Instruction, Yoga,...</td>\n",
       "      <td>5.0</td>\n",
       "    </tr>\n",
       "    <tr>\n",
       "      <th>2</th>\n",
       "      <td>XNoUzKckATkOD1hP6vghZg</td>\n",
       "      <td>QC</td>\n",
       "      <td>45.479984</td>\n",
       "      <td>-73.580070</td>\n",
       "      <td>Pets, Pet Services, Pet Groomers</td>\n",
       "      <td>5.0</td>\n",
       "    </tr>\n",
       "  </tbody>\n",
       "</table>\n",
       "</div>"
      ],
      "text/plain": [
       "              business_id state   latitude   longitude  \\\n",
       "0  f9NumwFMBDn751xgFiRbNA    NC  35.462724  -80.852612   \n",
       "1  Yzvjg0SayhoZgCljUJRF9Q    AZ  33.569404 -111.890264   \n",
       "2  XNoUzKckATkOD1hP6vghZg    QC  45.479984  -73.580070   \n",
       "\n",
       "                                          categories  stars  \n",
       "0  Active Life, Gun/Rifle Ranges, Guns & Ammo, Sh...    3.5  \n",
       "1  Health & Medical, Fitness & Instruction, Yoga,...    5.0  \n",
       "2                   Pets, Pet Services, Pet Groomers    5.0  "
      ]
     },
     "execution_count": 43,
     "metadata": {},
     "output_type": "execute_result"
    }
   ],
   "source": [
    "# Keep only relevant colunms\n",
    "df_business = df_business_ori[['business_id','state','latitude','longitude', 'categories','stars']].copy()\n",
    "# Show an example\n",
    "df_business[:3]"
   ]
  },
  {
   "cell_type": "code",
   "execution_count": 22,
   "metadata": {},
   "outputs": [],
   "source": [
    "# Save smaller dataframe as csv in order to not load the entire dataset next time\n",
    "df_business.to_csv('./data/df_business.csv',index=False)"
   ]
  },
  {
   "cell_type": "markdown",
   "metadata": {},
   "source": [
    "### Prepare the dataframe for users\n",
    "The original user file is a `json` file of 3.3 GB. However, we only use attributes `user_id` and `firends`. So a new dataframe for users is created and stored as a `csv` named `df_user.csv`. This file has 2.5 GB."
   ]
  },
  {
   "cell_type": "code",
   "execution_count": null,
   "metadata": {},
   "outputs": [],
   "source": [
    "# Read large json file of user\n",
    "with open(\"./data/yelp_academic_dataset_user.json\") as json_file:      \n",
    "    data = json_file.readlines()\n",
    "    data = list(map(json.loads, data)) "
   ]
  },
  {
   "cell_type": "code",
   "execution_count": 45,
   "metadata": {},
   "outputs": [],
   "source": [
    "# Convert to DataFrame\n",
    "df_user_ori = pd.DataFrame(data)    \n",
    "# Keep only relevant colunms\n",
    "df_users = df_user_ori[['user_id','friends']].copy()"
   ]
  },
  {
   "cell_type": "code",
   "execution_count": null,
   "metadata": {},
   "outputs": [],
   "source": [
    "# Show an example\n",
    "df_users[:3]"
   ]
  },
  {
   "cell_type": "code",
   "execution_count": 11,
   "metadata": {},
   "outputs": [],
   "source": [
    "# Save smaller dataframe as csv in order to not load the entire dataset next time\n",
    "df_users.to_csv('./data/df_user.csv',index=False)"
   ]
  },
  {
   "cell_type": "markdown",
   "metadata": {},
   "source": [
    "### Prepare the dataframe for reviews\n",
    "\n",
    "The original review file is a `json` file of 6.3 GB containing many useless attributes. We have used `jq`, a tool which allows us to select the desired attribute. The result is stored in a `csv` file named `df_reviews.csv`. This file has 729.9 MB."
   ]
  },
  {
   "cell_type": "code",
   "execution_count": 40,
   "metadata": {
    "scrolled": true
   },
   "outputs": [
    {
     "data": {
      "text/html": [
       "<div>\n",
       "<style scoped>\n",
       "    .dataframe tbody tr th:only-of-type {\n",
       "        vertical-align: middle;\n",
       "    }\n",
       "\n",
       "    .dataframe tbody tr th {\n",
       "        vertical-align: top;\n",
       "    }\n",
       "\n",
       "    .dataframe thead th {\n",
       "        text-align: right;\n",
       "    }\n",
       "</style>\n",
       "<table border=\"1\" class=\"dataframe\">\n",
       "  <thead>\n",
       "    <tr style=\"text-align: right;\">\n",
       "      <th></th>\n",
       "      <th>review_id</th>\n",
       "      <th>user_id</th>\n",
       "      <th>business_id</th>\n",
       "      <th>stars</th>\n",
       "      <th>date</th>\n",
       "    </tr>\n",
       "  </thead>\n",
       "  <tbody>\n",
       "    <tr>\n",
       "      <th>0</th>\n",
       "      <td>xQY8N_XvtGbearJ5X4QryQ</td>\n",
       "      <td>OwjRMXRC0KyPrIlcjaXeFQ</td>\n",
       "      <td>-MhfebM0QIsKt87iDN-FNw</td>\n",
       "      <td>2</td>\n",
       "      <td>2015-04-15 05:21:16</td>\n",
       "    </tr>\n",
       "    <tr>\n",
       "      <th>1</th>\n",
       "      <td>UmFMZ8PyXZTY2QcwzsfQYA</td>\n",
       "      <td>nIJD_7ZXHq-FX8byPMOkMQ</td>\n",
       "      <td>lbrU8StCq3yDfr-QMnGrmQ</td>\n",
       "      <td>1</td>\n",
       "      <td>2013-12-07 03:16:52</td>\n",
       "    </tr>\n",
       "    <tr>\n",
       "      <th>2</th>\n",
       "      <td>LG2ZaYiOgpr2DK_90pYjNw</td>\n",
       "      <td>V34qejxNsCbcgD8C0HVk-Q</td>\n",
       "      <td>HQl28KMwrEKHqhFrrDqVNQ</td>\n",
       "      <td>5</td>\n",
       "      <td>2015-12-05 03:18:11</td>\n",
       "    </tr>\n",
       "    <tr>\n",
       "      <th>3</th>\n",
       "      <td>i6g_oA9Yf9Y31qt0wibXpw</td>\n",
       "      <td>ofKDkJKXSKZXu5xJNGiiBQ</td>\n",
       "      <td>5JxlZaqCnk1MnbgRirs40Q</td>\n",
       "      <td>1</td>\n",
       "      <td>2011-05-27 05:30:52</td>\n",
       "    </tr>\n",
       "    <tr>\n",
       "      <th>4</th>\n",
       "      <td>6TdNDKywdbjoTkizeMce8A</td>\n",
       "      <td>UgMW8bLE0QMJDCkQ1Ax5Mg</td>\n",
       "      <td>IS4cv902ykd8wj1TR0N3-A</td>\n",
       "      <td>4</td>\n",
       "      <td>2017-01-14 21:56:57</td>\n",
       "    </tr>\n",
       "  </tbody>\n",
       "</table>\n",
       "</div>"
      ],
      "text/plain": [
       "                review_id                 user_id             business_id  \\\n",
       "0  xQY8N_XvtGbearJ5X4QryQ  OwjRMXRC0KyPrIlcjaXeFQ  -MhfebM0QIsKt87iDN-FNw   \n",
       "1  UmFMZ8PyXZTY2QcwzsfQYA  nIJD_7ZXHq-FX8byPMOkMQ  lbrU8StCq3yDfr-QMnGrmQ   \n",
       "2  LG2ZaYiOgpr2DK_90pYjNw  V34qejxNsCbcgD8C0HVk-Q  HQl28KMwrEKHqhFrrDqVNQ   \n",
       "3  i6g_oA9Yf9Y31qt0wibXpw  ofKDkJKXSKZXu5xJNGiiBQ  5JxlZaqCnk1MnbgRirs40Q   \n",
       "4  6TdNDKywdbjoTkizeMce8A  UgMW8bLE0QMJDCkQ1Ax5Mg  IS4cv902ykd8wj1TR0N3-A   \n",
       "\n",
       "   stars                 date  \n",
       "0      2  2015-04-15 05:21:16  \n",
       "1      1  2013-12-07 03:16:52  \n",
       "2      5  2015-12-05 03:18:11  \n",
       "3      1  2011-05-27 05:30:52  \n",
       "4      4  2017-01-14 21:56:57  "
      ]
     },
     "execution_count": 40,
     "metadata": {},
     "output_type": "execute_result"
    }
   ],
   "source": [
    "# Read the review file\n",
    "df_review = pd.read_csv(\"./data/df_reviews.csv\")\n",
    "# Show an example\n",
    "df_review.head()"
   ]
  },
  {
   "cell_type": "markdown",
   "metadata": {},
   "source": [
    "### Prepare categories of businesses"
   ]
  },
  {
   "cell_type": "code",
   "execution_count": 23,
   "metadata": {},
   "outputs": [],
   "source": [
    "# Read prepared csv mapping category name to category label\n",
    "df_categories = pd.read_csv('name_category.csv')"
   ]
  },
  {
   "cell_type": "code",
   "execution_count": 24,
   "metadata": {},
   "outputs": [],
   "source": [
    "def correction_name(x):\n",
    "    \"\"\"\n",
    "        Sanitize category name\n",
    "        x: row of the dataframe\n",
    "        Return: sanitized category name\n",
    "    \"\"\"\n",
    "    name = x[0]\n",
    "    name = name.replace(\"'\", \"\")\n",
    "    return name\n",
    "\n",
    "def correction_category(x):\n",
    "    \"\"\"\n",
    "        Sanitize category label\n",
    "        x: row of the dataframe\n",
    "        Return: sanitized category\n",
    "    \"\"\"\n",
    "    category = x[1]\n",
    "    category = category.replace(\" \", \"\")\n",
    "    category = category.replace(\"Consruction\", \"Construction\")\n",
    "    category = category.replace(\"Constructor\", \"Construction\")\n",
    "    category = category.replace(\"Entertainement\", \"Entertainment\")\n",
    "    category = category.replace(\"Entertainemnt\", \"Entertainment\")\n",
    "    category = category.replace(\"Entertainments\", \"Entertainment\")\n",
    "    category = category.replace(\"Merchants\", \"Merchant\")\n",
    "    category = category.replace(\"'\", \"\")\n",
    "    category = category.replace(\"Mischellaneous\", \"Miscellaneous\")\n",
    "    category = category.replace(\"food\", \"Food\")\n",
    "    return category"
   ]
  },
  {
   "cell_type": "code",
   "execution_count": 27,
   "metadata": {},
   "outputs": [],
   "source": [
    "# Sanitize category name and category label\n",
    "df_categories['name'] = df_categories.apply(lambda x: correction_name(x), axis=1)\n",
    "df_categories['category'] = df_categories.apply(lambda x: correction_category(x), axis=1)"
   ]
  },
  {
   "cell_type": "code",
   "execution_count": 28,
   "metadata": {},
   "outputs": [],
   "source": [
    "# Save sanitized file\n",
    "df_categories.to_csv('name_category.csv', index=False)"
   ]
  },
  {
   "cell_type": "markdown",
   "metadata": {},
   "source": [
    "### Add category labels to business dataframe"
   ]
  },
  {
   "cell_type": "code",
   "execution_count": 29,
   "metadata": {},
   "outputs": [],
   "source": [
    "# Add category labels to business dataframe\n",
    "df_business['categories'] = df_business.categories.apply(lambda x: [] if x == None else x.split(', '))"
   ]
  },
  {
   "cell_type": "code",
   "execution_count": 31,
   "metadata": {},
   "outputs": [],
   "source": [
    "# Create a dictionary mapping category name to category label\n",
    "dict_categories = df_categories.set_index('name')['category'].to_dict()\n",
    "# Tokenize the category label and store in a dictionary\n",
    "indexCategory = {val: key for key, val in enumerate(set(df_categories['category']))}"
   ]
  },
  {
   "cell_type": "code",
   "execution_count": 32,
   "metadata": {},
   "outputs": [],
   "source": [
    "def create_category_mask(row): \n",
    "    \"\"\"\n",
    "        For categories of each business, create a mask of categories\n",
    "        row: row of the dataframe\n",
    "        Return: mask of categories. If 1 at index i, it means that the business have i-th category.\n",
    "    \"\"\"\n",
    "    res  = np.zeros(numberCat)\n",
    "    for r in row:\n",
    "        category = dict_categories.get(r)\n",
    "        index = indexCategory.get(category)\n",
    "        res[index] = 1\n",
    "    return res > 0\n",
    "# Vectorize the function \n",
    "#create_category_mask_vect = np.vectorize(test, signature='()->(k)')"
   ]
  },
  {
   "cell_type": "code",
   "execution_count": 33,
   "metadata": {},
   "outputs": [],
   "source": [
    "# Fetch the number of categories\n",
    "numberCat = len(set(df_categories['category']))\n",
    "# Create category mask for each business in reviews\n",
    "categoryMask = df_business.apply(lambda row: create_category_mask(row.categories),axis=1)"
   ]
  },
  {
   "cell_type": "code",
   "execution_count": 35,
   "metadata": {},
   "outputs": [],
   "source": [
    "# For each category, add a new column to the business dataframe\n",
    "for category_name in set(df_categories['category']):\n",
    "    # Create \"category_name\" column, and assign the category mask\n",
    "    # If mask at row i is True, it means that the business at row i has category: \"category_name\"\n",
    "    df_business[category_name] = [tup[indexCategory.get(category_name)] for tup in categoryMask]"
   ]
  },
  {
   "cell_type": "code",
   "execution_count": 37,
   "metadata": {},
   "outputs": [
    {
     "data": {
      "text/html": [
       "<div>\n",
       "<style scoped>\n",
       "    .dataframe tbody tr th:only-of-type {\n",
       "        vertical-align: middle;\n",
       "    }\n",
       "\n",
       "    .dataframe tbody tr th {\n",
       "        vertical-align: top;\n",
       "    }\n",
       "\n",
       "    .dataframe thead th {\n",
       "        text-align: right;\n",
       "    }\n",
       "</style>\n",
       "<table border=\"1\" class=\"dataframe\">\n",
       "  <thead>\n",
       "    <tr style=\"text-align: right;\">\n",
       "      <th></th>\n",
       "      <th>business_id</th>\n",
       "      <th>state</th>\n",
       "      <th>latitude</th>\n",
       "      <th>longitude</th>\n",
       "      <th>categories</th>\n",
       "      <th>stars</th>\n",
       "      <th>Travel</th>\n",
       "      <th>BusinessSupport</th>\n",
       "      <th>Home</th>\n",
       "      <th>Sport</th>\n",
       "      <th>...</th>\n",
       "      <th>RealEstate</th>\n",
       "      <th>Manufacturing</th>\n",
       "      <th>Health</th>\n",
       "      <th>Construction</th>\n",
       "      <th>Automotive</th>\n",
       "      <th>Computers</th>\n",
       "      <th>Entertainment</th>\n",
       "      <th>PersonalCare</th>\n",
       "      <th>Miscellaneous</th>\n",
       "      <th>Food</th>\n",
       "    </tr>\n",
       "  </thead>\n",
       "  <tbody>\n",
       "    <tr>\n",
       "      <th>0</th>\n",
       "      <td>f9NumwFMBDn751xgFiRbNA</td>\n",
       "      <td>NC</td>\n",
       "      <td>35.462724</td>\n",
       "      <td>-80.852612</td>\n",
       "      <td>[Active Life, Gun/Rifle Ranges, Guns &amp; Ammo, S...</td>\n",
       "      <td>3.5</td>\n",
       "      <td>False</td>\n",
       "      <td>False</td>\n",
       "      <td>False</td>\n",
       "      <td>False</td>\n",
       "      <td>...</td>\n",
       "      <td>False</td>\n",
       "      <td>False</td>\n",
       "      <td>False</td>\n",
       "      <td>False</td>\n",
       "      <td>False</td>\n",
       "      <td>False</td>\n",
       "      <td>True</td>\n",
       "      <td>True</td>\n",
       "      <td>False</td>\n",
       "      <td>False</td>\n",
       "    </tr>\n",
       "    <tr>\n",
       "      <th>1</th>\n",
       "      <td>Yzvjg0SayhoZgCljUJRF9Q</td>\n",
       "      <td>AZ</td>\n",
       "      <td>33.569404</td>\n",
       "      <td>-111.890264</td>\n",
       "      <td>[Health &amp; Medical, Fitness &amp; Instruction, Yoga...</td>\n",
       "      <td>5.0</td>\n",
       "      <td>False</td>\n",
       "      <td>False</td>\n",
       "      <td>False</td>\n",
       "      <td>True</td>\n",
       "      <td>...</td>\n",
       "      <td>False</td>\n",
       "      <td>False</td>\n",
       "      <td>True</td>\n",
       "      <td>False</td>\n",
       "      <td>False</td>\n",
       "      <td>False</td>\n",
       "      <td>False</td>\n",
       "      <td>True</td>\n",
       "      <td>False</td>\n",
       "      <td>False</td>\n",
       "    </tr>\n",
       "  </tbody>\n",
       "</table>\n",
       "<p>2 rows × 23 columns</p>\n",
       "</div>"
      ],
      "text/plain": [
       "              business_id state   latitude   longitude  \\\n",
       "0  f9NumwFMBDn751xgFiRbNA    NC  35.462724  -80.852612   \n",
       "1  Yzvjg0SayhoZgCljUJRF9Q    AZ  33.569404 -111.890264   \n",
       "\n",
       "                                          categories  stars  Travel  \\\n",
       "0  [Active Life, Gun/Rifle Ranges, Guns & Ammo, S...    3.5   False   \n",
       "1  [Health & Medical, Fitness & Instruction, Yoga...    5.0   False   \n",
       "\n",
       "   BusinessSupport   Home  Sport  ...  RealEstate  Manufacturing  Health  \\\n",
       "0            False  False  False  ...       False          False   False   \n",
       "1            False  False   True  ...       False          False    True   \n",
       "\n",
       "   Construction  Automotive  Computers  Entertainment  PersonalCare  \\\n",
       "0         False       False      False           True          True   \n",
       "1         False       False      False          False          True   \n",
       "\n",
       "   Miscellaneous   Food  \n",
       "0          False  False  \n",
       "1          False  False  \n",
       "\n",
       "[2 rows x 23 columns]"
      ]
     },
     "execution_count": 37,
     "metadata": {},
     "output_type": "execute_result"
    }
   ],
   "source": [
    "# Show an example\n",
    "df_business.head(2)"
   ]
  },
  {
   "cell_type": "code",
   "execution_count": 38,
   "metadata": {},
   "outputs": [],
   "source": [
    "# Save smaller dataframe as csv in order to not load the entire dataset next time\n",
    "df_business.to_csv('./data/df_business.csv',index=False)"
   ]
  },
  {
   "cell_type": "markdown",
   "metadata": {},
   "source": [
    "### Prepare review dataframe with only selected users\n",
    "For our study, we need to infer user's home, so we need **at least 3 reviews**. Also, we will study users with **at least 3 friends**. "
   ]
  },
  {
   "cell_type": "code",
   "execution_count": null,
   "metadata": {},
   "outputs": [],
   "source": [
    "# Convert the string of friends to a list\n",
    "df_users['friend_list'] = df_users.apply(lambda x: x.friends.split(', '), axis=1)\n",
    "df_users = df_users.drop('friends', axis=1)"
   ]
  },
  {
   "cell_type": "code",
   "execution_count": null,
   "metadata": {},
   "outputs": [],
   "source": [
    "# We count the number of reviewe per user\n",
    "df_numberOfReviews = df_reviews.groupby('user_id').count().drop(['business_id', 'stars', 'date'], axis = 1).rename(columns={'review_id': 'review_count'})"
   ]
  },
  {
   "cell_type": "code",
   "execution_count": null,
   "metadata": {},
   "outputs": [],
   "source": [
    "# We merge the df_users dataset to the df_numberOfReviews dataset\n",
    "df_users = pd.merge(df_users, df_numberOfReviews, left_on='user_id', right_on='user_id', how='inner')"
   ]
  },
  {
   "cell_type": "code",
   "execution_count": null,
   "metadata": {},
   "outputs": [],
   "source": [
    "# We create a mask for users with more than 3 friends\n",
    "mask = df_users.apply(lambda x: len(x.friend_list) >= 3, axis=1)"
   ]
  },
  {
   "cell_type": "code",
   "execution_count": null,
   "metadata": {},
   "outputs": [],
   "source": [
    "print('Number of users with more than 3 reviews:', df_numberOfReviews[df_numberOfReviews['review_count'] >= 3].shape[0])\n",
    "print('Number of users with more than 3 friends:', df_users[mask].shape[0])"
   ]
  },
  {
   "cell_type": "code",
   "execution_count": null,
   "metadata": {},
   "outputs": [],
   "source": [
    "# Select users that satisfy both conditions\n",
    "df_selectedUsers = df_users[mask&(df_users['review_count'] >= 3)]\n",
    "print('Number of users with more than 4 reviews and with more than 3 friends:', df_selectedUsers.shape[0])"
   ]
  },
  {
   "cell_type": "code",
   "execution_count": null,
   "metadata": {},
   "outputs": [],
   "source": [
    "# Number of checkins of the selected users\n",
    "print('Number of checkins of selected users:', df_selectedUsers['review_count'].sum())"
   ]
  },
  {
   "cell_type": "markdown",
   "metadata": {},
   "source": [
    "Prepare a dataframe containly only selected users."
   ]
  },
  {
   "cell_type": "code",
   "execution_count": null,
   "metadata": {},
   "outputs": [],
   "source": [
    "# Merge review and business dataframe\n",
    "df_reviews = pd.merge(df_reviews, df_business, left_on='business_id', right_on='business_id', how='inner').drop(['state'], axis=1)"
   ]
  },
  {
   "cell_type": "code",
   "execution_count": null,
   "metadata": {},
   "outputs": [],
   "source": [
    "# Select only rows of selected users\n",
    "df_selectedReviews = df_reviews[df_reviews[\"user_id\"].isin(df_selectedUsers.user_id)]"
   ]
  },
  {
   "cell_type": "code",
   "execution_count": null,
   "metadata": {},
   "outputs": [],
   "source": [
    "# Convert date to datetime object\n",
    "df_selectedReviews[\"date\"] = pd.to_datetime(df_selectedReviews.date.values)"
   ]
  },
  {
   "cell_type": "code",
   "execution_count": null,
   "metadata": {},
   "outputs": [],
   "source": [
    "# Show an example\n",
    "df_selectedReviews.head()"
   ]
  },
  {
   "cell_type": "code",
   "execution_count": null,
   "metadata": {},
   "outputs": [],
   "source": [
    "# Save smaller dataframe as csv in order to not load the entire dataset next time\n",
    "df_selectedReviews.to_csv('./data/selectedReviews.csv',index=False)"
   ]
  }
 ],
 "metadata": {
  "kernelspec": {
   "display_name": "Python 3",
   "language": "python",
   "name": "python3"
  },
  "language_info": {
   "codemirror_mode": {
    "name": "ipython",
    "version": 3
   },
   "file_extension": ".py",
   "mimetype": "text/x-python",
   "name": "python",
   "nbconvert_exporter": "python",
   "pygments_lexer": "ipython3",
   "version": "3.7.4"
  }
 },
 "nbformat": 4,
 "nbformat_minor": 2
}
